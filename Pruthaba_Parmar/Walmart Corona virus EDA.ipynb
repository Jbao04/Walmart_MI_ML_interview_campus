{
 "cells": [
  {
   "cell_type": "code",
   "execution_count": 2,
   "metadata": {},
   "outputs": [
    {
     "name": "stdout",
     "output_type": "stream",
     "text": [
      "Collecting seaborn\n",
      "  Downloading seaborn-0.10.0-py3-none-any.whl (215 kB)\n",
      "\u001b[K     |████████████████████████████████| 215 kB 3.0 MB/s eta 0:00:01\n",
      "\u001b[?25hRequirement already satisfied: pandas>=0.22.0 in /anaconda3/envs/envTF113/lib/python3.6/site-packages (from seaborn) (0.25.1)\n",
      "Requirement already satisfied: matplotlib>=2.1.2 in /anaconda3/envs/envTF113/lib/python3.6/site-packages (from seaborn) (3.1.1)\n",
      "Requirement already satisfied: numpy>=1.13.3 in /anaconda3/envs/envTF113/lib/python3.6/site-packages (from seaborn) (1.17.2)\n",
      "Requirement already satisfied: scipy>=1.0.1 in /anaconda3/envs/envTF113/lib/python3.6/site-packages (from seaborn) (1.3.1)\n",
      "Requirement already satisfied: pytz>=2017.2 in /anaconda3/envs/envTF113/lib/python3.6/site-packages (from pandas>=0.22.0->seaborn) (2019.2)\n",
      "Requirement already satisfied: python-dateutil>=2.6.1 in /anaconda3/envs/envTF113/lib/python3.6/site-packages (from pandas>=0.22.0->seaborn) (2.8.0)\n",
      "Requirement already satisfied: cycler>=0.10 in /anaconda3/envs/envTF113/lib/python3.6/site-packages (from matplotlib>=2.1.2->seaborn) (0.10.0)\n",
      "Requirement already satisfied: kiwisolver>=1.0.1 in /anaconda3/envs/envTF113/lib/python3.6/site-packages (from matplotlib>=2.1.2->seaborn) (1.1.0)\n",
      "Requirement already satisfied: pyparsing!=2.0.4,!=2.1.2,!=2.1.6,>=2.0.1 in /anaconda3/envs/envTF113/lib/python3.6/site-packages (from matplotlib>=2.1.2->seaborn) (2.4.2)\n",
      "Requirement already satisfied: six>=1.5 in /anaconda3/envs/envTF113/lib/python3.6/site-packages (from python-dateutil>=2.6.1->pandas>=0.22.0->seaborn) (1.12.0)\n",
      "Requirement already satisfied: setuptools in /anaconda3/envs/envTF113/lib/python3.6/site-packages (from kiwisolver>=1.0.1->matplotlib>=2.1.2->seaborn) (41.2.0)\n",
      "Installing collected packages: seaborn\n",
      "Successfully installed seaborn-0.10.0\n"
     ]
    }
   ],
   "source": [
    "!pip install seaborn"
   ]
  },
  {
   "cell_type": "code",
   "execution_count": 85,
   "metadata": {},
   "outputs": [],
   "source": [
    "import numpy as np\n",
    "import pandas as pd\n",
    "import matplotlib.pyplot as plt\n",
    "import seaborn as sns\n",
    "from sklearn import datasets, linear_model\n",
    "from sklearn.model_selection import train_test_split\n",
    "from matplotlib import pyplot as plt"
   ]
  },
  {
   "cell_type": "code",
   "execution_count": 19,
   "metadata": {},
   "outputs": [
    {
     "name": "stdout",
     "output_type": "stream",
     "text": [
      "Collecting plotly\n",
      "  Downloading plotly-4.5.3-py2.py3-none-any.whl (7.1 MB)\n",
      "\u001b[K     |████████████████████████████████| 7.1 MB 2.3 MB/s eta 0:00:01\n",
      "\u001b[?25hCollecting retrying>=1.3.3\n",
      "  Downloading retrying-1.3.3.tar.gz (10 kB)\n",
      "Requirement already satisfied: six in /anaconda3/envs/envTF113/lib/python3.6/site-packages (from plotly) (1.12.0)\n",
      "Building wheels for collected packages: retrying\n",
      "  Building wheel for retrying (setup.py) ... \u001b[?25ldone\n",
      "\u001b[?25h  Created wheel for retrying: filename=retrying-1.3.3-py3-none-any.whl size=11429 sha256=ea32dc39971aa1c66c8cd139b515c33aa140b80c64100b15b6bc784133023b77\n",
      "  Stored in directory: /Users/pruthaparmar/Library/Caches/pip/wheels/ac/cb/8a/b27bf6323e2f4c462dcbf77d70b7c5e7868a7fbe12871770cf\n",
      "Successfully built retrying\n",
      "Installing collected packages: retrying, plotly\n",
      "Successfully installed plotly-4.5.3 retrying-1.3.3\n"
     ]
    }
   ],
   "source": [
    "!pip install plotly"
   ]
  },
  {
   "cell_type": "code",
   "execution_count": 22,
   "metadata": {},
   "outputs": [],
   "source": [
    "import plotly.express as px"
   ]
  },
  {
   "cell_type": "code",
   "execution_count": 37,
   "metadata": {},
   "outputs": [],
   "source": [
    "#reading data \n",
    "data= pd.read_csv(\"novel-corona-virus-2019-dataset/covid_19_data.csv\")"
   ]
  },
  {
   "cell_type": "code",
   "execution_count": 38,
   "metadata": {},
   "outputs": [
    {
     "data": {
      "text/html": [
       "<div>\n",
       "<style scoped>\n",
       "    .dataframe tbody tr th:only-of-type {\n",
       "        vertical-align: middle;\n",
       "    }\n",
       "\n",
       "    .dataframe tbody tr th {\n",
       "        vertical-align: top;\n",
       "    }\n",
       "\n",
       "    .dataframe thead th {\n",
       "        text-align: right;\n",
       "    }\n",
       "</style>\n",
       "<table border=\"1\" class=\"dataframe\">\n",
       "  <thead>\n",
       "    <tr style=\"text-align: right;\">\n",
       "      <th></th>\n",
       "      <th>SNo</th>\n",
       "      <th>ObservationDate</th>\n",
       "      <th>Province/State</th>\n",
       "      <th>Country/Region</th>\n",
       "      <th>Last Update</th>\n",
       "      <th>Confirmed</th>\n",
       "      <th>Deaths</th>\n",
       "      <th>Recovered</th>\n",
       "    </tr>\n",
       "  </thead>\n",
       "  <tbody>\n",
       "    <tr>\n",
       "      <td>0</td>\n",
       "      <td>1</td>\n",
       "      <td>01/22/2020</td>\n",
       "      <td>Anhui</td>\n",
       "      <td>Mainland China</td>\n",
       "      <td>1/22/2020 17:00</td>\n",
       "      <td>1.0</td>\n",
       "      <td>0.0</td>\n",
       "      <td>0.0</td>\n",
       "    </tr>\n",
       "    <tr>\n",
       "      <td>1</td>\n",
       "      <td>2</td>\n",
       "      <td>01/22/2020</td>\n",
       "      <td>Beijing</td>\n",
       "      <td>Mainland China</td>\n",
       "      <td>1/22/2020 17:00</td>\n",
       "      <td>14.0</td>\n",
       "      <td>0.0</td>\n",
       "      <td>0.0</td>\n",
       "    </tr>\n",
       "    <tr>\n",
       "      <td>2</td>\n",
       "      <td>3</td>\n",
       "      <td>01/22/2020</td>\n",
       "      <td>Chongqing</td>\n",
       "      <td>Mainland China</td>\n",
       "      <td>1/22/2020 17:00</td>\n",
       "      <td>6.0</td>\n",
       "      <td>0.0</td>\n",
       "      <td>0.0</td>\n",
       "    </tr>\n",
       "    <tr>\n",
       "      <td>3</td>\n",
       "      <td>4</td>\n",
       "      <td>01/22/2020</td>\n",
       "      <td>Fujian</td>\n",
       "      <td>Mainland China</td>\n",
       "      <td>1/22/2020 17:00</td>\n",
       "      <td>1.0</td>\n",
       "      <td>0.0</td>\n",
       "      <td>0.0</td>\n",
       "    </tr>\n",
       "    <tr>\n",
       "      <td>4</td>\n",
       "      <td>5</td>\n",
       "      <td>01/22/2020</td>\n",
       "      <td>Gansu</td>\n",
       "      <td>Mainland China</td>\n",
       "      <td>1/22/2020 17:00</td>\n",
       "      <td>0.0</td>\n",
       "      <td>0.0</td>\n",
       "      <td>0.0</td>\n",
       "    </tr>\n",
       "  </tbody>\n",
       "</table>\n",
       "</div>"
      ],
      "text/plain": [
       "   SNo ObservationDate Province/State  Country/Region      Last Update  \\\n",
       "0    1      01/22/2020          Anhui  Mainland China  1/22/2020 17:00   \n",
       "1    2      01/22/2020        Beijing  Mainland China  1/22/2020 17:00   \n",
       "2    3      01/22/2020      Chongqing  Mainland China  1/22/2020 17:00   \n",
       "3    4      01/22/2020         Fujian  Mainland China  1/22/2020 17:00   \n",
       "4    5      01/22/2020          Gansu  Mainland China  1/22/2020 17:00   \n",
       "\n",
       "   Confirmed  Deaths  Recovered  \n",
       "0        1.0     0.0        0.0  \n",
       "1       14.0     0.0        0.0  \n",
       "2        6.0     0.0        0.0  \n",
       "3        1.0     0.0        0.0  \n",
       "4        0.0     0.0        0.0  "
      ]
     },
     "execution_count": 38,
     "metadata": {},
     "output_type": "execute_result"
    }
   ],
   "source": [
    "data.head()"
   ]
  },
  {
   "cell_type": "code",
   "execution_count": 39,
   "metadata": {},
   "outputs": [
    {
     "data": {
      "text/html": [
       "<div>\n",
       "<style scoped>\n",
       "    .dataframe tbody tr th:only-of-type {\n",
       "        vertical-align: middle;\n",
       "    }\n",
       "\n",
       "    .dataframe tbody tr th {\n",
       "        vertical-align: top;\n",
       "    }\n",
       "\n",
       "    .dataframe thead th {\n",
       "        text-align: right;\n",
       "    }\n",
       "</style>\n",
       "<table border=\"1\" class=\"dataframe\">\n",
       "  <thead>\n",
       "    <tr style=\"text-align: right;\">\n",
       "      <th></th>\n",
       "      <th>SNo</th>\n",
       "      <th>Confirmed</th>\n",
       "      <th>Deaths</th>\n",
       "      <th>Recovered</th>\n",
       "    </tr>\n",
       "  </thead>\n",
       "  <tbody>\n",
       "    <tr>\n",
       "      <td>count</td>\n",
       "      <td>4247.000000</td>\n",
       "      <td>4247.000000</td>\n",
       "      <td>4247.000000</td>\n",
       "      <td>4247.000000</td>\n",
       "    </tr>\n",
       "    <tr>\n",
       "      <td>mean</td>\n",
       "      <td>2124.000000</td>\n",
       "      <td>586.884624</td>\n",
       "      <td>17.530257</td>\n",
       "      <td>187.914528</td>\n",
       "    </tr>\n",
       "    <tr>\n",
       "      <td>std</td>\n",
       "      <td>1226.147626</td>\n",
       "      <td>5033.596411</td>\n",
       "      <td>190.278672</td>\n",
       "      <td>1976.388824</td>\n",
       "    </tr>\n",
       "    <tr>\n",
       "      <td>min</td>\n",
       "      <td>1.000000</td>\n",
       "      <td>0.000000</td>\n",
       "      <td>0.000000</td>\n",
       "      <td>0.000000</td>\n",
       "    </tr>\n",
       "    <tr>\n",
       "      <td>25%</td>\n",
       "      <td>1062.500000</td>\n",
       "      <td>1.000000</td>\n",
       "      <td>0.000000</td>\n",
       "      <td>0.000000</td>\n",
       "    </tr>\n",
       "    <tr>\n",
       "      <td>50%</td>\n",
       "      <td>2124.000000</td>\n",
       "      <td>9.000000</td>\n",
       "      <td>0.000000</td>\n",
       "      <td>1.000000</td>\n",
       "    </tr>\n",
       "    <tr>\n",
       "      <td>75%</td>\n",
       "      <td>3185.500000</td>\n",
       "      <td>99.500000</td>\n",
       "      <td>1.000000</td>\n",
       "      <td>16.000000</td>\n",
       "    </tr>\n",
       "    <tr>\n",
       "      <td>max</td>\n",
       "      <td>4247.000000</td>\n",
       "      <td>67707.000000</td>\n",
       "      <td>2986.000000</td>\n",
       "      <td>45235.000000</td>\n",
       "    </tr>\n",
       "  </tbody>\n",
       "</table>\n",
       "</div>"
      ],
      "text/plain": [
       "               SNo     Confirmed       Deaths     Recovered\n",
       "count  4247.000000   4247.000000  4247.000000   4247.000000\n",
       "mean   2124.000000    586.884624    17.530257    187.914528\n",
       "std    1226.147626   5033.596411   190.278672   1976.388824\n",
       "min       1.000000      0.000000     0.000000      0.000000\n",
       "25%    1062.500000      1.000000     0.000000      0.000000\n",
       "50%    2124.000000      9.000000     0.000000      1.000000\n",
       "75%    3185.500000     99.500000     1.000000     16.000000\n",
       "max    4247.000000  67707.000000  2986.000000  45235.000000"
      ]
     },
     "execution_count": 39,
     "metadata": {},
     "output_type": "execute_result"
    }
   ],
   "source": [
    "data.describe()"
   ]
  },
  {
   "cell_type": "code",
   "execution_count": 40,
   "metadata": {},
   "outputs": [],
   "source": [
    "#sno is unimportant, so we will drop it!\n",
    "data.drop(\"SNo\", axis=1, inplace=True)"
   ]
  },
  {
   "cell_type": "code",
   "execution_count": 41,
   "metadata": {},
   "outputs": [],
   "source": [
    "#last update is also umimportant from the persepective of EDA\n",
    "data.drop(\"Last Update\", axis=1, inplace=True)"
   ]
  },
  {
   "cell_type": "code",
   "execution_count": 42,
   "metadata": {},
   "outputs": [
    {
     "data": {
      "text/plain": [
       "<bound method DataFrame.info of      ObservationDate                        Province/State  Country/Region  \\\n",
       "0         01/22/2020                                 Anhui  Mainland China   \n",
       "1         01/22/2020                               Beijing  Mainland China   \n",
       "2         01/22/2020                             Chongqing  Mainland China   \n",
       "3         01/22/2020                                Fujian  Mainland China   \n",
       "4         01/22/2020                                 Gansu  Mainland China   \n",
       "...              ...                                   ...             ...   \n",
       "4242      03/08/2020                    Northern Territory       Australia   \n",
       "4243      03/08/2020  Lackland, TX (From Diamond Princess)              US   \n",
       "4244      03/08/2020                 Montgomery County, TX              US   \n",
       "4245      03/08/2020     Omaha, NE (From Diamond Princess)              US   \n",
       "4246      03/08/2020    Travis, CA (From Diamond Princess)              US   \n",
       "\n",
       "      Confirmed  Deaths  Recovered  \n",
       "0           1.0     0.0        0.0  \n",
       "1          14.0     0.0        0.0  \n",
       "2           6.0     0.0        0.0  \n",
       "3           1.0     0.0        0.0  \n",
       "4           0.0     0.0        0.0  \n",
       "...         ...     ...        ...  \n",
       "4242        0.0     0.0        0.0  \n",
       "4243        0.0     0.0        0.0  \n",
       "4244        0.0     0.0        0.0  \n",
       "4245        0.0     0.0        0.0  \n",
       "4246        0.0     0.0        0.0  \n",
       "\n",
       "[4247 rows x 6 columns]>"
      ]
     },
     "execution_count": 42,
     "metadata": {},
     "output_type": "execute_result"
    }
   ],
   "source": [
    "data.info"
   ]
  },
  {
   "cell_type": "code",
   "execution_count": 43,
   "metadata": {},
   "outputs": [
    {
     "name": "stdout",
     "output_type": "stream",
     "text": [
      "['Mainland China', 'Hong Kong', 'Macau', 'Taiwan', 'US', 'Japan', 'Thailand', 'South Korea', 'Singapore', 'Philippines', 'Malaysia', 'Vietnam', 'Australia', 'Mexico', 'Brazil', 'Colombia', 'France', 'Nepal', 'Canada', 'Cambodia', 'Sri Lanka', 'Ivory Coast', 'Germany', 'Finland', 'United Arab Emirates', 'India', 'Italy', 'UK', 'Russia', 'Sweden', 'Spain', 'Belgium', 'Others', 'Egypt', 'Iran', 'Israel', 'Lebanon', 'Iraq', 'Oman', 'Afghanistan', 'Bahrain', 'Kuwait', 'Austria', 'Algeria', 'Croatia', 'Switzerland', 'Pakistan', 'Georgia', 'Greece', 'North Macedonia', 'Norway', 'Romania', 'Denmark', 'Estonia', 'Netherlands', 'San Marino', ' Azerbaijan', 'Belarus', 'Iceland', 'Lithuania', 'New Zealand', 'Nigeria', 'North Ireland', 'Ireland', 'Luxembourg', 'Monaco', 'Qatar', 'Ecuador', 'Azerbaijan', 'Czech Republic', 'Armenia', 'Dominican Republic', 'Indonesia', 'Portugal', 'Andorra', 'Latvia', 'Morocco', 'Saudi Arabia', 'Senegal', 'Argentina', 'Chile', 'Jordan', 'Ukraine', 'Saint Barthelemy', 'Hungary', 'Faroe Islands', 'Gibraltar', 'Liechtenstein', 'Poland', 'Tunisia', 'Palestine', 'Bosnia and Herzegovina', 'Slovenia', 'South Africa', 'Bhutan', 'Cameroon', 'Costa Rica', 'Peru', 'Serbia', 'Slovakia', 'Togo', 'Vatican City', 'French Guiana', 'Malta', 'Martinique', 'Republic of Ireland', 'Bulgaria', 'Maldives', 'Bangladesh', 'Moldova', 'Paraguay']\n",
      "111\n"
     ]
    }
   ],
   "source": [
    "country_list=list(data['Country/Region'].unique())\n",
    "print(country_list)\n",
    "print(len(country_list))"
   ]
  },
  {
   "cell_type": "code",
   "execution_count": 44,
   "metadata": {},
   "outputs": [],
   "source": [
    "#data.rename(columns={'Country/Region': 'Country'}, inplace=True)"
   ]
  },
  {
   "cell_type": "code",
   "execution_count": 45,
   "metadata": {},
   "outputs": [
    {
     "data": {
      "text/html": [
       "<div>\n",
       "<style scoped>\n",
       "    .dataframe tbody tr th:only-of-type {\n",
       "        vertical-align: middle;\n",
       "    }\n",
       "\n",
       "    .dataframe tbody tr th {\n",
       "        vertical-align: top;\n",
       "    }\n",
       "\n",
       "    .dataframe thead th {\n",
       "        text-align: right;\n",
       "    }\n",
       "</style>\n",
       "<table border=\"1\" class=\"dataframe\">\n",
       "  <thead>\n",
       "    <tr style=\"text-align: right;\">\n",
       "      <th></th>\n",
       "      <th>ObservationDate</th>\n",
       "      <th>Province/State</th>\n",
       "      <th>Country/Region</th>\n",
       "      <th>Confirmed</th>\n",
       "      <th>Deaths</th>\n",
       "      <th>Recovered</th>\n",
       "    </tr>\n",
       "  </thead>\n",
       "  <tbody>\n",
       "    <tr>\n",
       "      <td>0</td>\n",
       "      <td>01/22/2020</td>\n",
       "      <td>Anhui</td>\n",
       "      <td>Mainland China</td>\n",
       "      <td>1.0</td>\n",
       "      <td>0.0</td>\n",
       "      <td>0.0</td>\n",
       "    </tr>\n",
       "    <tr>\n",
       "      <td>1</td>\n",
       "      <td>01/22/2020</td>\n",
       "      <td>Beijing</td>\n",
       "      <td>Mainland China</td>\n",
       "      <td>14.0</td>\n",
       "      <td>0.0</td>\n",
       "      <td>0.0</td>\n",
       "    </tr>\n",
       "    <tr>\n",
       "      <td>2</td>\n",
       "      <td>01/22/2020</td>\n",
       "      <td>Chongqing</td>\n",
       "      <td>Mainland China</td>\n",
       "      <td>6.0</td>\n",
       "      <td>0.0</td>\n",
       "      <td>0.0</td>\n",
       "    </tr>\n",
       "    <tr>\n",
       "      <td>3</td>\n",
       "      <td>01/22/2020</td>\n",
       "      <td>Fujian</td>\n",
       "      <td>Mainland China</td>\n",
       "      <td>1.0</td>\n",
       "      <td>0.0</td>\n",
       "      <td>0.0</td>\n",
       "    </tr>\n",
       "    <tr>\n",
       "      <td>4</td>\n",
       "      <td>01/22/2020</td>\n",
       "      <td>Gansu</td>\n",
       "      <td>Mainland China</td>\n",
       "      <td>0.0</td>\n",
       "      <td>0.0</td>\n",
       "      <td>0.0</td>\n",
       "    </tr>\n",
       "    <tr>\n",
       "      <td>...</td>\n",
       "      <td>...</td>\n",
       "      <td>...</td>\n",
       "      <td>...</td>\n",
       "      <td>...</td>\n",
       "      <td>...</td>\n",
       "      <td>...</td>\n",
       "    </tr>\n",
       "    <tr>\n",
       "      <td>4242</td>\n",
       "      <td>03/08/2020</td>\n",
       "      <td>Northern Territory</td>\n",
       "      <td>Australia</td>\n",
       "      <td>0.0</td>\n",
       "      <td>0.0</td>\n",
       "      <td>0.0</td>\n",
       "    </tr>\n",
       "    <tr>\n",
       "      <td>4243</td>\n",
       "      <td>03/08/2020</td>\n",
       "      <td>Lackland, TX (From Diamond Princess)</td>\n",
       "      <td>US</td>\n",
       "      <td>0.0</td>\n",
       "      <td>0.0</td>\n",
       "      <td>0.0</td>\n",
       "    </tr>\n",
       "    <tr>\n",
       "      <td>4244</td>\n",
       "      <td>03/08/2020</td>\n",
       "      <td>Montgomery County, TX</td>\n",
       "      <td>US</td>\n",
       "      <td>0.0</td>\n",
       "      <td>0.0</td>\n",
       "      <td>0.0</td>\n",
       "    </tr>\n",
       "    <tr>\n",
       "      <td>4245</td>\n",
       "      <td>03/08/2020</td>\n",
       "      <td>Omaha, NE (From Diamond Princess)</td>\n",
       "      <td>US</td>\n",
       "      <td>0.0</td>\n",
       "      <td>0.0</td>\n",
       "      <td>0.0</td>\n",
       "    </tr>\n",
       "    <tr>\n",
       "      <td>4246</td>\n",
       "      <td>03/08/2020</td>\n",
       "      <td>Travis, CA (From Diamond Princess)</td>\n",
       "      <td>US</td>\n",
       "      <td>0.0</td>\n",
       "      <td>0.0</td>\n",
       "      <td>0.0</td>\n",
       "    </tr>\n",
       "  </tbody>\n",
       "</table>\n",
       "<p>4247 rows × 6 columns</p>\n",
       "</div>"
      ],
      "text/plain": [
       "     ObservationDate                        Province/State  Country/Region  \\\n",
       "0         01/22/2020                                 Anhui  Mainland China   \n",
       "1         01/22/2020                               Beijing  Mainland China   \n",
       "2         01/22/2020                             Chongqing  Mainland China   \n",
       "3         01/22/2020                                Fujian  Mainland China   \n",
       "4         01/22/2020                                 Gansu  Mainland China   \n",
       "...              ...                                   ...             ...   \n",
       "4242      03/08/2020                    Northern Territory       Australia   \n",
       "4243      03/08/2020  Lackland, TX (From Diamond Princess)              US   \n",
       "4244      03/08/2020                 Montgomery County, TX              US   \n",
       "4245      03/08/2020     Omaha, NE (From Diamond Princess)              US   \n",
       "4246      03/08/2020    Travis, CA (From Diamond Princess)              US   \n",
       "\n",
       "      Confirmed  Deaths  Recovered  \n",
       "0           1.0     0.0        0.0  \n",
       "1          14.0     0.0        0.0  \n",
       "2           6.0     0.0        0.0  \n",
       "3           1.0     0.0        0.0  \n",
       "4           0.0     0.0        0.0  \n",
       "...         ...     ...        ...  \n",
       "4242        0.0     0.0        0.0  \n",
       "4243        0.0     0.0        0.0  \n",
       "4244        0.0     0.0        0.0  \n",
       "4245        0.0     0.0        0.0  \n",
       "4246        0.0     0.0        0.0  \n",
       "\n",
       "[4247 rows x 6 columns]"
      ]
     },
     "execution_count": 45,
     "metadata": {},
     "output_type": "execute_result"
    }
   ],
   "source": [
    "data"
   ]
  },
  {
   "cell_type": "code",
   "execution_count": 49,
   "metadata": {
    "scrolled": true
   },
   "outputs": [],
   "source": [
    "# #SOURCE for part of this code: https://towardsdatascience.com/coronavirus-data-visualizations-using-plotly-cfbdb8fcfc3d\n",
    "# data = px.data.gapminder()\n",
    "# #bar_data = data.groupby(['Country/Region', 'ObservationDate'])['Confirmed', 'Deaths', 'Recovered'].sum().reset_index().sort_values('ObservationDate', ascending=True)\n",
    "# #bar_data=data.groupby(['Country/Region']).sum().reset_index().sort_values('ObservationDate', ascending=True)\n",
    "# df_country=data.groupby(['Country/Region']).max().reset_index(drop=None)\n",
    "# # fig = px.bar(bar_data, x=\"Date\", y=\"Confirmed\", color='Country', text = 'Confirmed', orientation='v', height=600,\n",
    "# #              title='Cases')\n",
    "# # fig.show()\n",
    "\n",
    "# # fig = px.bar(bar_data, x=\"Date\", y=\"Deaths\", color='Country', text = 'Deaths', orientation='v', height=600,\n",
    "# #              title='Deaths')\n",
    "# # fig.show()\n",
    "\n",
    "# # fig = px.bar(bar_data, x=\"Date\", y=\"Recovered\", color='Country', text = 'Recovered', orientation='v', height=600,\n",
    "# #              title='Recovered')\n",
    "# # fig.show()"
   ]
  },
  {
   "cell_type": "code",
   "execution_count": 54,
   "metadata": {},
   "outputs": [],
   "source": [
    "#reading data \n",
    "data1= pd.read_csv(\"novel-corona-virus-2019-dataset/time_series_covid_19_confirmed.csv\")"
   ]
  },
  {
   "cell_type": "code",
   "execution_count": 56,
   "metadata": {},
   "outputs": [
    {
     "data": {
      "text/html": [
       "<div>\n",
       "<style scoped>\n",
       "    .dataframe tbody tr th:only-of-type {\n",
       "        vertical-align: middle;\n",
       "    }\n",
       "\n",
       "    .dataframe tbody tr th {\n",
       "        vertical-align: top;\n",
       "    }\n",
       "\n",
       "    .dataframe thead th {\n",
       "        text-align: right;\n",
       "    }\n",
       "</style>\n",
       "<table border=\"1\" class=\"dataframe\">\n",
       "  <thead>\n",
       "    <tr style=\"text-align: right;\">\n",
       "      <th></th>\n",
       "      <th>Province/State</th>\n",
       "      <th>Country/Region</th>\n",
       "      <th>Lat</th>\n",
       "      <th>Long</th>\n",
       "      <th>1/22/20</th>\n",
       "      <th>1/23/20</th>\n",
       "      <th>1/24/20</th>\n",
       "      <th>1/25/20</th>\n",
       "      <th>1/26/20</th>\n",
       "      <th>1/27/20</th>\n",
       "      <th>...</th>\n",
       "      <th>2/11/20</th>\n",
       "      <th>2/12/20</th>\n",
       "      <th>2/13/20</th>\n",
       "      <th>2/14/20</th>\n",
       "      <th>2/15/20</th>\n",
       "      <th>2/16/20</th>\n",
       "      <th>2/17/20</th>\n",
       "      <th>2/18/20</th>\n",
       "      <th>2/19/20</th>\n",
       "      <th>2/20/20</th>\n",
       "    </tr>\n",
       "  </thead>\n",
       "  <tbody>\n",
       "    <tr>\n",
       "      <td>0</td>\n",
       "      <td>Anhui</td>\n",
       "      <td>Mainland China</td>\n",
       "      <td>31.82571</td>\n",
       "      <td>117.2264</td>\n",
       "      <td>1</td>\n",
       "      <td>9</td>\n",
       "      <td>15</td>\n",
       "      <td>39</td>\n",
       "      <td>60</td>\n",
       "      <td>70</td>\n",
       "      <td>...</td>\n",
       "      <td>860</td>\n",
       "      <td>889</td>\n",
       "      <td>910</td>\n",
       "      <td>934</td>\n",
       "      <td>950</td>\n",
       "      <td>962</td>\n",
       "      <td>973</td>\n",
       "      <td>982</td>\n",
       "      <td>986</td>\n",
       "      <td>987</td>\n",
       "    </tr>\n",
       "    <tr>\n",
       "      <td>1</td>\n",
       "      <td>Beijing</td>\n",
       "      <td>Mainland China</td>\n",
       "      <td>40.18238</td>\n",
       "      <td>116.4142</td>\n",
       "      <td>14</td>\n",
       "      <td>22</td>\n",
       "      <td>36</td>\n",
       "      <td>41</td>\n",
       "      <td>68</td>\n",
       "      <td>80</td>\n",
       "      <td>...</td>\n",
       "      <td>342</td>\n",
       "      <td>352</td>\n",
       "      <td>366</td>\n",
       "      <td>372</td>\n",
       "      <td>375</td>\n",
       "      <td>380</td>\n",
       "      <td>381</td>\n",
       "      <td>387</td>\n",
       "      <td>393</td>\n",
       "      <td>395</td>\n",
       "    </tr>\n",
       "    <tr>\n",
       "      <td>2</td>\n",
       "      <td>Chongqing</td>\n",
       "      <td>Mainland China</td>\n",
       "      <td>30.05718</td>\n",
       "      <td>107.8740</td>\n",
       "      <td>6</td>\n",
       "      <td>9</td>\n",
       "      <td>27</td>\n",
       "      <td>57</td>\n",
       "      <td>75</td>\n",
       "      <td>110</td>\n",
       "      <td>...</td>\n",
       "      <td>505</td>\n",
       "      <td>518</td>\n",
       "      <td>529</td>\n",
       "      <td>537</td>\n",
       "      <td>544</td>\n",
       "      <td>551</td>\n",
       "      <td>553</td>\n",
       "      <td>555</td>\n",
       "      <td>560</td>\n",
       "      <td>567</td>\n",
       "    </tr>\n",
       "    <tr>\n",
       "      <td>3</td>\n",
       "      <td>Fujian</td>\n",
       "      <td>Mainland China</td>\n",
       "      <td>26.07783</td>\n",
       "      <td>117.9895</td>\n",
       "      <td>1</td>\n",
       "      <td>5</td>\n",
       "      <td>10</td>\n",
       "      <td>18</td>\n",
       "      <td>35</td>\n",
       "      <td>59</td>\n",
       "      <td>...</td>\n",
       "      <td>267</td>\n",
       "      <td>272</td>\n",
       "      <td>279</td>\n",
       "      <td>281</td>\n",
       "      <td>285</td>\n",
       "      <td>287</td>\n",
       "      <td>290</td>\n",
       "      <td>292</td>\n",
       "      <td>293</td>\n",
       "      <td>293</td>\n",
       "    </tr>\n",
       "    <tr>\n",
       "      <td>4</td>\n",
       "      <td>Gansu</td>\n",
       "      <td>Mainland China</td>\n",
       "      <td>36.06110</td>\n",
       "      <td>103.8343</td>\n",
       "      <td>0</td>\n",
       "      <td>2</td>\n",
       "      <td>2</td>\n",
       "      <td>4</td>\n",
       "      <td>7</td>\n",
       "      <td>14</td>\n",
       "      <td>...</td>\n",
       "      <td>86</td>\n",
       "      <td>87</td>\n",
       "      <td>90</td>\n",
       "      <td>90</td>\n",
       "      <td>90</td>\n",
       "      <td>90</td>\n",
       "      <td>91</td>\n",
       "      <td>91</td>\n",
       "      <td>91</td>\n",
       "      <td>91</td>\n",
       "    </tr>\n",
       "  </tbody>\n",
       "</table>\n",
       "<p>5 rows × 34 columns</p>\n",
       "</div>"
      ],
      "text/plain": [
       "  Province/State  Country/Region       Lat      Long  1/22/20  1/23/20  \\\n",
       "0          Anhui  Mainland China  31.82571  117.2264        1        9   \n",
       "1        Beijing  Mainland China  40.18238  116.4142       14       22   \n",
       "2      Chongqing  Mainland China  30.05718  107.8740        6        9   \n",
       "3         Fujian  Mainland China  26.07783  117.9895        1        5   \n",
       "4          Gansu  Mainland China  36.06110  103.8343        0        2   \n",
       "\n",
       "   1/24/20  1/25/20  1/26/20  1/27/20  ...  2/11/20  2/12/20  2/13/20  \\\n",
       "0       15       39       60       70  ...      860      889      910   \n",
       "1       36       41       68       80  ...      342      352      366   \n",
       "2       27       57       75      110  ...      505      518      529   \n",
       "3       10       18       35       59  ...      267      272      279   \n",
       "4        2        4        7       14  ...       86       87       90   \n",
       "\n",
       "   2/14/20  2/15/20  2/16/20  2/17/20  2/18/20  2/19/20  2/20/20  \n",
       "0      934      950      962      973      982      986      987  \n",
       "1      372      375      380      381      387      393      395  \n",
       "2      537      544      551      553      555      560      567  \n",
       "3      281      285      287      290      292      293      293  \n",
       "4       90       90       90       91       91       91       91  \n",
       "\n",
       "[5 rows x 34 columns]"
      ]
     },
     "execution_count": 56,
     "metadata": {},
     "output_type": "execute_result"
    }
   ],
   "source": [
    "data1.head()"
   ]
  },
  {
   "cell_type": "code",
   "execution_count": 57,
   "metadata": {},
   "outputs": [],
   "source": [
    "#reading data \n",
    "data2= pd.read_csv(\"novel-corona-virus-2019-dataset/2019_nCoV_data.csv\")"
   ]
  },
  {
   "cell_type": "code",
   "execution_count": 58,
   "metadata": {},
   "outputs": [
    {
     "data": {
      "text/html": [
       "<div>\n",
       "<style scoped>\n",
       "    .dataframe tbody tr th:only-of-type {\n",
       "        vertical-align: middle;\n",
       "    }\n",
       "\n",
       "    .dataframe tbody tr th {\n",
       "        vertical-align: top;\n",
       "    }\n",
       "\n",
       "    .dataframe thead th {\n",
       "        text-align: right;\n",
       "    }\n",
       "</style>\n",
       "<table border=\"1\" class=\"dataframe\">\n",
       "  <thead>\n",
       "    <tr style=\"text-align: right;\">\n",
       "      <th></th>\n",
       "      <th>Sno</th>\n",
       "      <th>Date</th>\n",
       "      <th>Province/State</th>\n",
       "      <th>Country</th>\n",
       "      <th>Last Update</th>\n",
       "      <th>Confirmed</th>\n",
       "      <th>Deaths</th>\n",
       "      <th>Recovered</th>\n",
       "    </tr>\n",
       "  </thead>\n",
       "  <tbody>\n",
       "    <tr>\n",
       "      <td>0</td>\n",
       "      <td>1</td>\n",
       "      <td>01/22/2020 12:00:00</td>\n",
       "      <td>Anhui</td>\n",
       "      <td>China</td>\n",
       "      <td>01/22/2020 12:00:00</td>\n",
       "      <td>1.0</td>\n",
       "      <td>0.0</td>\n",
       "      <td>0.0</td>\n",
       "    </tr>\n",
       "    <tr>\n",
       "      <td>1</td>\n",
       "      <td>2</td>\n",
       "      <td>01/22/2020 12:00:00</td>\n",
       "      <td>Beijing</td>\n",
       "      <td>China</td>\n",
       "      <td>01/22/2020 12:00:00</td>\n",
       "      <td>14.0</td>\n",
       "      <td>0.0</td>\n",
       "      <td>0.0</td>\n",
       "    </tr>\n",
       "    <tr>\n",
       "      <td>2</td>\n",
       "      <td>3</td>\n",
       "      <td>01/22/2020 12:00:00</td>\n",
       "      <td>Chongqing</td>\n",
       "      <td>China</td>\n",
       "      <td>01/22/2020 12:00:00</td>\n",
       "      <td>6.0</td>\n",
       "      <td>0.0</td>\n",
       "      <td>0.0</td>\n",
       "    </tr>\n",
       "    <tr>\n",
       "      <td>3</td>\n",
       "      <td>4</td>\n",
       "      <td>01/22/2020 12:00:00</td>\n",
       "      <td>Fujian</td>\n",
       "      <td>China</td>\n",
       "      <td>01/22/2020 12:00:00</td>\n",
       "      <td>1.0</td>\n",
       "      <td>0.0</td>\n",
       "      <td>0.0</td>\n",
       "    </tr>\n",
       "    <tr>\n",
       "      <td>4</td>\n",
       "      <td>5</td>\n",
       "      <td>01/22/2020 12:00:00</td>\n",
       "      <td>Gansu</td>\n",
       "      <td>China</td>\n",
       "      <td>01/22/2020 12:00:00</td>\n",
       "      <td>0.0</td>\n",
       "      <td>0.0</td>\n",
       "      <td>0.0</td>\n",
       "    </tr>\n",
       "  </tbody>\n",
       "</table>\n",
       "</div>"
      ],
      "text/plain": [
       "   Sno                 Date Province/State Country          Last Update  \\\n",
       "0    1  01/22/2020 12:00:00          Anhui   China  01/22/2020 12:00:00   \n",
       "1    2  01/22/2020 12:00:00        Beijing   China  01/22/2020 12:00:00   \n",
       "2    3  01/22/2020 12:00:00      Chongqing   China  01/22/2020 12:00:00   \n",
       "3    4  01/22/2020 12:00:00         Fujian   China  01/22/2020 12:00:00   \n",
       "4    5  01/22/2020 12:00:00          Gansu   China  01/22/2020 12:00:00   \n",
       "\n",
       "   Confirmed  Deaths  Recovered  \n",
       "0        1.0     0.0        0.0  \n",
       "1       14.0     0.0        0.0  \n",
       "2        6.0     0.0        0.0  \n",
       "3        1.0     0.0        0.0  \n",
       "4        0.0     0.0        0.0  "
      ]
     },
     "execution_count": 58,
     "metadata": {},
     "output_type": "execute_result"
    }
   ],
   "source": [
    "data2.head()"
   ]
  },
  {
   "cell_type": "code",
   "execution_count": 65,
   "metadata": {},
   "outputs": [],
   "source": [
    "#combining china and mainland china because it is problematic in plots below: it gives wrong information\n",
    "data2.loc[data2['Country']=='Mainland China','Country']='China'"
   ]
  },
  {
   "cell_type": "code",
   "execution_count": 75,
   "metadata": {},
   "outputs": [
    {
     "data": {
      "application/vnd.plotly.v1+json": {
       "config": {
        "plotlyServerURL": "https://plot.ly"
       },
       "data": [
        {
         "alignmentgroup": "True",
         "hoverlabel": {
          "namelength": 0
         },
         "hovertemplate": "Country=China<br>Date=%{x}<br>Confirmed=%{text}",
         "legendgroup": "China",
         "marker": {
          "color": "#636efa"
         },
         "name": "China",
         "offsetgroup": "China",
         "orientation": "v",
         "showlegend": true,
         "text": [
          549,
          639,
          916,
          1979,
          2737,
          4409,
          5970,
          7678,
          9658,
          11221,
          14375,
          17114,
          20400,
          24290,
          24405,
          30541,
          31215,
          37198,
          40160,
          42310,
          44641,
          59805,
          63841,
          66292,
          68347,
          70446,
          72364
         ],
         "textposition": "auto",
         "type": "bar",
         "x": [
          "01/22/2020 12:00:00",
          "01/23/2020 12:00:00",
          "01/24/2020 12:00:00",
          "01/25/2020 22:00:00",
          "01/26/2020 23:00:00",
          "01/27/2020 20:30:00",
          "01/28/2020 23:00:00",
          "01/29/2020 21:00:00",
          "01/30/2020 21:30:00",
          "01/31/2020 19:00:00",
          "02/01/2020 23:00:00",
          "02/02/2020 21:00:00",
          "02/03/2020 21:40:00",
          "02/04/2020 22:00:00",
          "02/05/2020 12:20:00",
          "02/06/2020 20:05:00",
          "02/07/2020 20:24:00",
          "02/08/2020 23:04:00",
          "02/09/2020 23:20:00",
          "02/10/2020 19:30:00",
          "02/11/2020 20:44:00",
          "02/12/2020 22:00:00",
          "02/13/2020 21:15:00",
          "02/14/2020 22:00:00",
          "02/15/2020 22:00:00",
          "02/16/2020 22:00:00",
          "02/17/2020 22:00:00"
         ],
         "xaxis": "x",
         "y": [
          549,
          639,
          916,
          1979,
          2737,
          4409,
          5970,
          7678,
          9658,
          11221,
          14375,
          17114,
          20400,
          24290,
          24405,
          30541,
          31215,
          37198,
          40160,
          42310,
          44641,
          59805,
          63841,
          66292,
          68347,
          70446,
          72364
         ],
         "yaxis": "y"
        },
        {
         "alignmentgroup": "True",
         "hoverlabel": {
          "namelength": 0
         },
         "hovertemplate": "Country=Japan<br>Date=%{x}<br>Confirmed=%{text}",
         "legendgroup": "Japan",
         "marker": {
          "color": "#EF553B"
         },
         "name": "Japan",
         "offsetgroup": "Japan",
         "orientation": "v",
         "showlegend": true,
         "text": [
          2,
          1,
          2,
          2,
          4,
          4,
          7,
          11,
          11,
          17,
          20,
          20,
          20,
          22,
          22,
          45,
          25,
          25,
          26,
          26,
          26,
          28,
          28,
          29,
          43,
          59,
          66
         ],
         "textposition": "auto",
         "type": "bar",
         "x": [
          "01/22/2020 12:00:00",
          "01/23/2020 12:00:00",
          "01/24/2020 12:00:00",
          "01/25/2020 22:00:00",
          "01/26/2020 23:00:00",
          "01/27/2020 20:30:00",
          "01/28/2020 23:00:00",
          "01/29/2020 21:00:00",
          "01/30/2020 21:30:00",
          "01/31/2020 19:00:00",
          "02/01/2020 23:00:00",
          "02/02/2020 21:00:00",
          "02/03/2020 21:40:00",
          "02/04/2020 22:00:00",
          "02/05/2020 12:20:00",
          "02/06/2020 20:05:00",
          "02/07/2020 20:24:00",
          "02/08/2020 23:04:00",
          "02/09/2020 23:20:00",
          "02/10/2020 19:30:00",
          "02/11/2020 20:44:00",
          "02/12/2020 22:00:00",
          "02/13/2020 21:15:00",
          "02/14/2020 22:00:00",
          "02/15/2020 22:00:00",
          "02/16/2020 22:00:00",
          "02/17/2020 22:00:00"
         ],
         "xaxis": "x",
         "y": [
          2,
          1,
          2,
          2,
          4,
          4,
          7,
          11,
          11,
          17,
          20,
          20,
          20,
          22,
          22,
          45,
          25,
          25,
          26,
          26,
          26,
          28,
          28,
          29,
          43,
          59,
          66
         ],
         "yaxis": "y"
        },
        {
         "alignmentgroup": "True",
         "hoverlabel": {
          "namelength": 0
         },
         "hovertemplate": "Country=US<br>Date=%{x}<br>Confirmed=%{text}",
         "legendgroup": "US",
         "marker": {
          "color": "#00cc96"
         },
         "name": "US",
         "offsetgroup": "US",
         "orientation": "v",
         "showlegend": true,
         "text": [
          1,
          1,
          2,
          2,
          5,
          5,
          5,
          5,
          6,
          7,
          8,
          9,
          11,
          11,
          11,
          12,
          12,
          12,
          12,
          12,
          13,
          13,
          15,
          15,
          15,
          15,
          15
         ],
         "textposition": "auto",
         "type": "bar",
         "x": [
          "01/22/2020 12:00:00",
          "01/23/2020 12:00:00",
          "01/24/2020 12:00:00",
          "01/25/2020 22:00:00",
          "01/26/2020 23:00:00",
          "01/27/2020 20:30:00",
          "01/28/2020 23:00:00",
          "01/29/2020 21:00:00",
          "01/30/2020 21:30:00",
          "01/31/2020 19:00:00",
          "02/01/2020 23:00:00",
          "02/02/2020 21:00:00",
          "02/03/2020 21:40:00",
          "02/04/2020 22:00:00",
          "02/05/2020 12:20:00",
          "02/06/2020 20:05:00",
          "02/07/2020 20:24:00",
          "02/08/2020 23:04:00",
          "02/09/2020 23:20:00",
          "02/10/2020 19:30:00",
          "02/11/2020 20:44:00",
          "02/12/2020 22:00:00",
          "02/13/2020 21:15:00",
          "02/14/2020 22:00:00",
          "02/15/2020 22:00:00",
          "02/16/2020 22:00:00",
          "02/17/2020 22:00:00"
         ],
         "xaxis": "x",
         "y": [
          1,
          1,
          2,
          2,
          5,
          5,
          5,
          5,
          6,
          7,
          8,
          9,
          11,
          11,
          11,
          12,
          12,
          12,
          12,
          12,
          13,
          13,
          15,
          15,
          15,
          15,
          15
         ],
         "yaxis": "y"
        },
        {
         "alignmentgroup": "True",
         "hoverlabel": {
          "namelength": 0
         },
         "hovertemplate": "Country=Thailand<br>Date=%{x}<br>Confirmed=%{text}",
         "legendgroup": "Thailand",
         "marker": {
          "color": "#ab63fa"
         },
         "name": "Thailand",
         "offsetgroup": "Thailand",
         "orientation": "v",
         "showlegend": true,
         "text": [
          2,
          3,
          5,
          7,
          8,
          8,
          14,
          14,
          14,
          19,
          19,
          19,
          19,
          25,
          25,
          25,
          25,
          32,
          32,
          32,
          33,
          33,
          33,
          33,
          33,
          34,
          35
         ],
         "textposition": "auto",
         "type": "bar",
         "x": [
          "01/22/2020 12:00:00",
          "01/23/2020 12:00:00",
          "01/24/2020 12:00:00",
          "01/25/2020 22:00:00",
          "01/26/2020 23:00:00",
          "01/27/2020 20:30:00",
          "01/28/2020 23:00:00",
          "01/29/2020 21:00:00",
          "01/30/2020 21:30:00",
          "01/31/2020 19:00:00",
          "02/01/2020 23:00:00",
          "02/02/2020 21:00:00",
          "02/03/2020 21:40:00",
          "02/04/2020 22:00:00",
          "02/05/2020 12:20:00",
          "02/06/2020 20:05:00",
          "02/07/2020 20:24:00",
          "02/08/2020 23:04:00",
          "02/09/2020 23:20:00",
          "02/10/2020 19:30:00",
          "02/11/2020 20:44:00",
          "02/12/2020 22:00:00",
          "02/13/2020 21:15:00",
          "02/14/2020 22:00:00",
          "02/15/2020 22:00:00",
          "02/16/2020 22:00:00",
          "02/17/2020 22:00:00"
         ],
         "xaxis": "x",
         "y": [
          2,
          3,
          5,
          7,
          8,
          8,
          14,
          14,
          14,
          19,
          19,
          19,
          19,
          25,
          25,
          25,
          25,
          32,
          32,
          32,
          33,
          33,
          33,
          33,
          33,
          34,
          35
         ],
         "yaxis": "y"
        },
        {
         "alignmentgroup": "True",
         "hoverlabel": {
          "namelength": 0
         },
         "hovertemplate": "Country=South Korea<br>Date=%{x}<br>Confirmed=%{text}",
         "legendgroup": "South Korea",
         "marker": {
          "color": "#FFA15A"
         },
         "name": "South Korea",
         "offsetgroup": "South Korea",
         "orientation": "v",
         "showlegend": true,
         "text": [
          1,
          1,
          2,
          3,
          3,
          4,
          4,
          4,
          6,
          11,
          15,
          15,
          15,
          16,
          19,
          23,
          24,
          25,
          27,
          27,
          28,
          28,
          28,
          28,
          28,
          29,
          30
         ],
         "textposition": "auto",
         "type": "bar",
         "x": [
          "01/22/2020 12:00:00",
          "01/23/2020 12:00:00",
          "01/24/2020 12:00:00",
          "01/25/2020 22:00:00",
          "01/26/2020 23:00:00",
          "01/27/2020 20:30:00",
          "01/28/2020 23:00:00",
          "01/29/2020 21:00:00",
          "01/30/2020 21:30:00",
          "01/31/2020 19:00:00",
          "02/01/2020 23:00:00",
          "02/02/2020 21:00:00",
          "02/03/2020 21:40:00",
          "02/04/2020 22:00:00",
          "02/05/2020 12:20:00",
          "02/06/2020 20:05:00",
          "02/07/2020 20:24:00",
          "02/08/2020 23:04:00",
          "02/09/2020 23:20:00",
          "02/10/2020 19:30:00",
          "02/11/2020 20:44:00",
          "02/12/2020 22:00:00",
          "02/13/2020 21:15:00",
          "02/14/2020 22:00:00",
          "02/15/2020 22:00:00",
          "02/16/2020 22:00:00",
          "02/17/2020 22:00:00"
         ],
         "xaxis": "x",
         "y": [
          1,
          1,
          2,
          3,
          3,
          4,
          4,
          4,
          6,
          11,
          15,
          15,
          15,
          16,
          19,
          23,
          24,
          25,
          27,
          27,
          28,
          28,
          28,
          28,
          28,
          29,
          30
         ],
         "yaxis": "y"
        },
        {
         "alignmentgroup": "True",
         "hoverlabel": {
          "namelength": 0
         },
         "hovertemplate": "Country=Brazil<br>Date=%{x}<br>Confirmed=%{text}",
         "legendgroup": "Brazil",
         "marker": {
          "color": "#19d3f3"
         },
         "name": "Brazil",
         "offsetgroup": "Brazil",
         "orientation": "v",
         "showlegend": true,
         "text": [
          0
         ],
         "textposition": "auto",
         "type": "bar",
         "x": [
          "01/23/2020 12:00:00"
         ],
         "xaxis": "x",
         "y": [
          0
         ],
         "yaxis": "y"
        },
        {
         "alignmentgroup": "True",
         "hoverlabel": {
          "namelength": 0
         },
         "hovertemplate": "Country=Hong Kong<br>Date=%{x}<br>Confirmed=%{text}",
         "legendgroup": "Hong Kong",
         "marker": {
          "color": "#FF6692"
         },
         "name": "Hong Kong",
         "offsetgroup": "Hong Kong",
         "orientation": "v",
         "showlegend": true,
         "text": [
          2,
          2,
          5,
          8,
          8,
          8,
          10,
          12,
          13,
          14,
          15,
          15,
          18,
          21,
          24,
          25,
          26,
          36,
          38,
          49,
          50,
          53,
          56,
          56,
          57,
          60
         ],
         "textposition": "auto",
         "type": "bar",
         "x": [
          "01/23/2020 12:00:00",
          "01/24/2020 12:00:00",
          "01/25/2020 22:00:00",
          "01/26/2020 23:00:00",
          "01/27/2020 20:30:00",
          "01/28/2020 23:00:00",
          "01/29/2020 21:00:00",
          "01/30/2020 21:30:00",
          "01/31/2020 19:00:00",
          "02/01/2020 23:00:00",
          "02/02/2020 21:00:00",
          "02/03/2020 21:40:00",
          "02/04/2020 22:00:00",
          "02/05/2020 12:20:00",
          "02/06/2020 20:05:00",
          "02/07/2020 20:24:00",
          "02/08/2020 23:04:00",
          "02/09/2020 23:20:00",
          "02/10/2020 19:30:00",
          "02/11/2020 20:44:00",
          "02/12/2020 22:00:00",
          "02/13/2020 21:15:00",
          "02/14/2020 22:00:00",
          "02/15/2020 22:00:00",
          "02/16/2020 22:00:00",
          "02/17/2020 22:00:00"
         ],
         "xaxis": "x",
         "y": [
          2,
          2,
          5,
          8,
          8,
          8,
          10,
          12,
          13,
          14,
          15,
          15,
          18,
          21,
          24,
          25,
          26,
          36,
          38,
          49,
          50,
          53,
          56,
          56,
          57,
          60
         ],
         "yaxis": "y"
        },
        {
         "alignmentgroup": "True",
         "hoverlabel": {
          "namelength": 0
         },
         "hovertemplate": "Country=Macau<br>Date=%{x}<br>Confirmed=%{text}",
         "legendgroup": "Macau",
         "marker": {
          "color": "#B6E880"
         },
         "name": "Macau",
         "offsetgroup": "Macau",
         "orientation": "v",
         "showlegend": true,
         "text": [
          2,
          2,
          2,
          6,
          6,
          7,
          7,
          7,
          7,
          7,
          8,
          8,
          10,
          10,
          10,
          10,
          10,
          10,
          10,
          10,
          10,
          10,
          10,
          10,
          10,
          10
         ],
         "textposition": "auto",
         "type": "bar",
         "x": [
          "01/23/2020 12:00:00",
          "01/24/2020 12:00:00",
          "01/25/2020 22:00:00",
          "01/26/2020 23:00:00",
          "01/27/2020 20:30:00",
          "01/28/2020 23:00:00",
          "01/29/2020 21:00:00",
          "01/30/2020 21:30:00",
          "01/31/2020 19:00:00",
          "02/01/2020 23:00:00",
          "02/02/2020 21:00:00",
          "02/03/2020 21:40:00",
          "02/04/2020 22:00:00",
          "02/05/2020 12:20:00",
          "02/06/2020 20:05:00",
          "02/07/2020 20:24:00",
          "02/08/2020 23:04:00",
          "02/09/2020 23:20:00",
          "02/10/2020 19:30:00",
          "02/11/2020 20:44:00",
          "02/12/2020 22:00:00",
          "02/13/2020 21:15:00",
          "02/14/2020 22:00:00",
          "02/15/2020 22:00:00",
          "02/16/2020 22:00:00",
          "02/17/2020 22:00:00"
         ],
         "xaxis": "x",
         "y": [
          2,
          2,
          2,
          6,
          6,
          7,
          7,
          7,
          7,
          7,
          8,
          8,
          10,
          10,
          10,
          10,
          10,
          10,
          10,
          10,
          10,
          10,
          10,
          10,
          10,
          10
         ],
         "yaxis": "y"
        },
        {
         "alignmentgroup": "True",
         "hoverlabel": {
          "namelength": 0
         },
         "hovertemplate": "Country=Malaysia<br>Date=%{x}<br>Confirmed=%{text}",
         "legendgroup": "Malaysia",
         "marker": {
          "color": "#FF97FF"
         },
         "name": "Malaysia",
         "offsetgroup": "Malaysia",
         "orientation": "v",
         "showlegend": true,
         "text": [
          0,
          3,
          4,
          4,
          7,
          7,
          8,
          8,
          8,
          8,
          8,
          10,
          12,
          12,
          12,
          16,
          18,
          18,
          18,
          18,
          19,
          19,
          22,
          22,
          22
         ],
         "textposition": "auto",
         "type": "bar",
         "x": [
          "01/23/2020 12:00:00",
          "01/25/2020 22:00:00",
          "01/26/2020 23:00:00",
          "01/27/2020 20:30:00",
          "01/28/2020 23:00:00",
          "01/29/2020 21:00:00",
          "01/30/2020 21:30:00",
          "01/31/2020 19:00:00",
          "02/01/2020 23:00:00",
          "02/02/2020 21:00:00",
          "02/03/2020 21:40:00",
          "02/04/2020 22:00:00",
          "02/05/2020 12:20:00",
          "02/06/2020 20:05:00",
          "02/07/2020 20:24:00",
          "02/08/2020 23:04:00",
          "02/09/2020 23:20:00",
          "02/10/2020 19:30:00",
          "02/11/2020 20:44:00",
          "02/12/2020 22:00:00",
          "02/13/2020 21:15:00",
          "02/14/2020 22:00:00",
          "02/15/2020 22:00:00",
          "02/16/2020 22:00:00",
          "02/17/2020 22:00:00"
         ],
         "xaxis": "x",
         "y": [
          0,
          3,
          4,
          4,
          7,
          7,
          8,
          8,
          8,
          8,
          8,
          10,
          12,
          12,
          12,
          16,
          18,
          18,
          18,
          18,
          19,
          19,
          22,
          22,
          22
         ],
         "yaxis": "y"
        },
        {
         "alignmentgroup": "True",
         "hoverlabel": {
          "namelength": 0
         },
         "hovertemplate": "Country=Mexico<br>Date=%{x}<br>Confirmed=%{text}",
         "legendgroup": "Mexico",
         "marker": {
          "color": "#FECB52"
         },
         "name": "Mexico",
         "offsetgroup": "Mexico",
         "orientation": "v",
         "showlegend": true,
         "text": [
          0
         ],
         "textposition": "auto",
         "type": "bar",
         "x": [
          "01/23/2020 12:00:00"
         ],
         "xaxis": "x",
         "y": [
          0
         ],
         "yaxis": "y"
        },
        {
         "alignmentgroup": "True",
         "hoverlabel": {
          "namelength": 0
         },
         "hovertemplate": "Country=Philippines<br>Date=%{x}<br>Confirmed=%{text}",
         "legendgroup": "Philippines",
         "marker": {
          "color": "#636efa"
         },
         "name": "Philippines",
         "offsetgroup": "Philippines",
         "orientation": "v",
         "showlegend": true,
         "text": [
          0,
          1,
          1,
          2,
          2,
          2,
          2,
          2,
          2,
          3,
          3,
          3,
          3,
          3,
          3,
          3,
          3,
          3,
          3,
          3
         ],
         "textposition": "auto",
         "type": "bar",
         "x": [
          "01/23/2020 12:00:00",
          "01/30/2020 21:30:00",
          "01/31/2020 19:00:00",
          "02/01/2020 23:00:00",
          "02/02/2020 21:00:00",
          "02/03/2020 21:40:00",
          "02/04/2020 22:00:00",
          "02/05/2020 12:20:00",
          "02/06/2020 20:05:00",
          "02/07/2020 20:24:00",
          "02/08/2020 23:04:00",
          "02/09/2020 23:20:00",
          "02/10/2020 19:30:00",
          "02/11/2020 20:44:00",
          "02/12/2020 22:00:00",
          "02/13/2020 21:15:00",
          "02/14/2020 22:00:00",
          "02/15/2020 22:00:00",
          "02/16/2020 22:00:00",
          "02/17/2020 22:00:00"
         ],
         "xaxis": "x",
         "y": [
          0,
          1,
          1,
          2,
          2,
          2,
          2,
          2,
          2,
          3,
          3,
          3,
          3,
          3,
          3,
          3,
          3,
          3,
          3,
          3
         ],
         "yaxis": "y"
        },
        {
         "alignmentgroup": "True",
         "hoverlabel": {
          "namelength": 0
         },
         "hovertemplate": "Country=Australia<br>Date=%{x}<br>Confirmed=%{text}",
         "legendgroup": "Australia",
         "marker": {
          "color": "#EF553B"
         },
         "name": "Australia",
         "offsetgroup": "Australia",
         "orientation": "v",
         "showlegend": true,
         "text": [
          0,
          4,
          4,
          5,
          5,
          7,
          9,
          9,
          12,
          12,
          12,
          13,
          13,
          14,
          15,
          15,
          15,
          15,
          15,
          15,
          15,
          15,
          15,
          15,
          15
         ],
         "textposition": "auto",
         "type": "bar",
         "x": [
          "01/23/2020 12:00:00",
          "01/25/2020 22:00:00",
          "01/26/2020 23:00:00",
          "01/27/2020 20:30:00",
          "01/28/2020 23:00:00",
          "01/29/2020 21:00:00",
          "01/30/2020 21:30:00",
          "01/31/2020 19:00:00",
          "02/01/2020 23:00:00",
          "02/02/2020 21:00:00",
          "02/03/2020 21:40:00",
          "02/04/2020 22:00:00",
          "02/05/2020 12:20:00",
          "02/06/2020 20:05:00",
          "02/07/2020 20:24:00",
          "02/08/2020 23:04:00",
          "02/09/2020 23:20:00",
          "02/10/2020 19:30:00",
          "02/11/2020 20:44:00",
          "02/12/2020 22:00:00",
          "02/13/2020 21:15:00",
          "02/14/2020 22:00:00",
          "02/15/2020 22:00:00",
          "02/16/2020 22:00:00",
          "02/17/2020 22:00:00"
         ],
         "xaxis": "x",
         "y": [
          0,
          4,
          4,
          5,
          5,
          7,
          9,
          9,
          12,
          12,
          12,
          13,
          13,
          14,
          15,
          15,
          15,
          15,
          15,
          15,
          15,
          15,
          15,
          15,
          15
         ],
         "yaxis": "y"
        },
        {
         "alignmentgroup": "True",
         "hoverlabel": {
          "namelength": 0
         },
         "hovertemplate": "Country=Singapore<br>Date=%{x}<br>Confirmed=%{text}",
         "legendgroup": "Singapore",
         "marker": {
          "color": "#00cc96"
         },
         "name": "Singapore",
         "offsetgroup": "Singapore",
         "orientation": "v",
         "showlegend": true,
         "text": [
          1,
          3,
          3,
          4,
          5,
          7,
          10,
          10,
          16,
          18,
          18,
          18,
          24,
          28,
          28,
          30,
          40,
          43,
          45,
          47,
          50,
          58,
          67,
          72,
          75,
          77
         ],
         "textposition": "auto",
         "type": "bar",
         "x": [
          "01/23/2020 12:00:00",
          "01/24/2020 12:00:00",
          "01/25/2020 22:00:00",
          "01/26/2020 23:00:00",
          "01/27/2020 20:30:00",
          "01/28/2020 23:00:00",
          "01/29/2020 21:00:00",
          "01/30/2020 21:30:00",
          "01/31/2020 19:00:00",
          "02/01/2020 23:00:00",
          "02/02/2020 21:00:00",
          "02/03/2020 21:40:00",
          "02/04/2020 22:00:00",
          "02/05/2020 12:20:00",
          "02/06/2020 20:05:00",
          "02/07/2020 20:24:00",
          "02/08/2020 23:04:00",
          "02/09/2020 23:20:00",
          "02/10/2020 19:30:00",
          "02/11/2020 20:44:00",
          "02/12/2020 22:00:00",
          "02/13/2020 21:15:00",
          "02/14/2020 22:00:00",
          "02/15/2020 22:00:00",
          "02/16/2020 22:00:00",
          "02/17/2020 22:00:00"
         ],
         "xaxis": "x",
         "y": [
          1,
          3,
          3,
          4,
          5,
          7,
          10,
          10,
          16,
          18,
          18,
          18,
          24,
          28,
          28,
          30,
          40,
          43,
          45,
          47,
          50,
          58,
          67,
          72,
          75,
          77
         ],
         "yaxis": "y"
        },
        {
         "alignmentgroup": "True",
         "hoverlabel": {
          "namelength": 0
         },
         "hovertemplate": "Country=Vietnam<br>Date=%{x}<br>Confirmed=%{text}",
         "legendgroup": "Vietnam",
         "marker": {
          "color": "#ab63fa"
         },
         "name": "Vietnam",
         "offsetgroup": "Vietnam",
         "orientation": "v",
         "showlegend": true,
         "text": [
          2,
          2,
          2,
          2,
          2,
          2,
          2,
          2,
          2,
          6,
          6,
          8,
          8,
          8,
          10,
          10,
          13,
          14,
          14,
          15,
          15,
          16,
          16,
          16,
          16,
          16
         ],
         "textposition": "auto",
         "type": "bar",
         "x": [
          "01/23/2020 12:00:00",
          "01/24/2020 12:00:00",
          "01/25/2020 22:00:00",
          "01/26/2020 23:00:00",
          "01/27/2020 20:30:00",
          "01/28/2020 23:00:00",
          "01/29/2020 21:00:00",
          "01/30/2020 21:30:00",
          "01/31/2020 19:00:00",
          "02/01/2020 23:00:00",
          "02/02/2020 21:00:00",
          "02/03/2020 21:40:00",
          "02/04/2020 22:00:00",
          "02/05/2020 12:20:00",
          "02/06/2020 20:05:00",
          "02/07/2020 20:24:00",
          "02/08/2020 23:04:00",
          "02/09/2020 23:20:00",
          "02/10/2020 19:30:00",
          "02/11/2020 20:44:00",
          "02/12/2020 22:00:00",
          "02/13/2020 21:15:00",
          "02/14/2020 22:00:00",
          "02/15/2020 22:00:00",
          "02/16/2020 22:00:00",
          "02/17/2020 22:00:00"
         ],
         "xaxis": "x",
         "y": [
          2,
          2,
          2,
          2,
          2,
          2,
          2,
          2,
          2,
          6,
          6,
          8,
          8,
          8,
          10,
          10,
          13,
          14,
          14,
          15,
          15,
          16,
          16,
          16,
          16,
          16
         ],
         "yaxis": "y"
        },
        {
         "alignmentgroup": "True",
         "hoverlabel": {
          "namelength": 0
         },
         "hovertemplate": "Country=Taiwan<br>Date=%{x}<br>Confirmed=%{text}",
         "legendgroup": "Taiwan",
         "marker": {
          "color": "#FFA15A"
         },
         "name": "Taiwan",
         "offsetgroup": "Taiwan",
         "orientation": "v",
         "showlegend": true,
         "text": [
          1,
          3,
          3,
          4,
          5,
          8,
          8,
          9,
          10,
          10,
          10,
          10,
          11,
          11,
          16,
          16,
          17,
          18,
          18,
          18,
          18,
          18,
          18,
          18,
          20,
          22
         ],
         "textposition": "auto",
         "type": "bar",
         "x": [
          "01/23/2020 12:00:00",
          "01/24/2020 12:00:00",
          "01/25/2020 22:00:00",
          "01/26/2020 23:00:00",
          "01/27/2020 20:30:00",
          "01/28/2020 23:00:00",
          "01/29/2020 21:00:00",
          "01/30/2020 21:30:00",
          "01/31/2020 19:00:00",
          "02/01/2020 23:00:00",
          "02/02/2020 21:00:00",
          "02/03/2020 21:40:00",
          "02/04/2020 22:00:00",
          "02/05/2020 12:20:00",
          "02/06/2020 20:05:00",
          "02/07/2020 20:24:00",
          "02/08/2020 23:04:00",
          "02/09/2020 23:20:00",
          "02/10/2020 19:30:00",
          "02/11/2020 20:44:00",
          "02/12/2020 22:00:00",
          "02/13/2020 21:15:00",
          "02/14/2020 22:00:00",
          "02/15/2020 22:00:00",
          "02/16/2020 22:00:00",
          "02/17/2020 22:00:00"
         ],
         "xaxis": "x",
         "y": [
          1,
          3,
          3,
          4,
          5,
          8,
          8,
          9,
          10,
          10,
          10,
          10,
          11,
          11,
          16,
          16,
          17,
          18,
          18,
          18,
          18,
          18,
          18,
          18,
          20,
          22
         ],
         "yaxis": "y"
        },
        {
         "alignmentgroup": "True",
         "hoverlabel": {
          "namelength": 0
         },
         "hovertemplate": "Country=France<br>Date=%{x}<br>Confirmed=%{text}",
         "legendgroup": "France",
         "marker": {
          "color": "#19d3f3"
         },
         "name": "France",
         "offsetgroup": "France",
         "orientation": "v",
         "showlegend": true,
         "text": [
          2,
          3,
          3,
          3,
          4,
          5,
          5,
          6,
          6,
          6,
          6,
          6,
          6,
          6,
          6,
          11,
          11,
          11,
          11,
          11,
          11,
          11,
          12,
          12,
          12
         ],
         "textposition": "auto",
         "type": "bar",
         "x": [
          "01/24/2020 12:00:00",
          "01/25/2020 22:00:00",
          "01/26/2020 23:00:00",
          "01/27/2020 20:30:00",
          "01/28/2020 23:00:00",
          "01/29/2020 21:00:00",
          "01/30/2020 21:30:00",
          "01/31/2020 19:00:00",
          "02/01/2020 23:00:00",
          "02/02/2020 21:00:00",
          "02/03/2020 21:40:00",
          "02/04/2020 22:00:00",
          "02/05/2020 12:20:00",
          "02/06/2020 20:05:00",
          "02/07/2020 20:24:00",
          "02/08/2020 23:04:00",
          "02/09/2020 23:20:00",
          "02/10/2020 19:30:00",
          "02/11/2020 20:44:00",
          "02/12/2020 22:00:00",
          "02/13/2020 21:15:00",
          "02/14/2020 22:00:00",
          "02/15/2020 22:00:00",
          "02/16/2020 22:00:00",
          "02/17/2020 22:00:00"
         ],
         "xaxis": "x",
         "y": [
          2,
          3,
          3,
          3,
          4,
          5,
          5,
          6,
          6,
          6,
          6,
          6,
          6,
          6,
          6,
          11,
          11,
          11,
          11,
          11,
          11,
          11,
          12,
          12,
          12
         ],
         "yaxis": "y"
        },
        {
         "alignmentgroup": "True",
         "hoverlabel": {
          "namelength": 0
         },
         "hovertemplate": "Country=Nepal<br>Date=%{x}<br>Confirmed=%{text}",
         "legendgroup": "Nepal",
         "marker": {
          "color": "#FF6692"
         },
         "name": "Nepal",
         "offsetgroup": "Nepal",
         "orientation": "v",
         "showlegend": true,
         "text": [
          1,
          1,
          1,
          1,
          1,
          1,
          1,
          1,
          1,
          1,
          1,
          1,
          1,
          1,
          1,
          1,
          1,
          1,
          1,
          1,
          1,
          1,
          1,
          1
         ],
         "textposition": "auto",
         "type": "bar",
         "x": [
          "01/25/2020 22:00:00",
          "01/26/2020 23:00:00",
          "01/27/2020 20:30:00",
          "01/28/2020 23:00:00",
          "01/29/2020 21:00:00",
          "01/30/2020 21:30:00",
          "01/31/2020 19:00:00",
          "02/01/2020 23:00:00",
          "02/02/2020 21:00:00",
          "02/03/2020 21:40:00",
          "02/04/2020 22:00:00",
          "02/05/2020 12:20:00",
          "02/06/2020 20:05:00",
          "02/07/2020 20:24:00",
          "02/08/2020 23:04:00",
          "02/09/2020 23:20:00",
          "02/10/2020 19:30:00",
          "02/11/2020 20:44:00",
          "02/12/2020 22:00:00",
          "02/13/2020 21:15:00",
          "02/14/2020 22:00:00",
          "02/15/2020 22:00:00",
          "02/16/2020 22:00:00",
          "02/17/2020 22:00:00"
         ],
         "xaxis": "x",
         "y": [
          1,
          1,
          1,
          1,
          1,
          1,
          1,
          1,
          1,
          1,
          1,
          1,
          1,
          1,
          1,
          1,
          1,
          1,
          1,
          1,
          1,
          1,
          1,
          1
         ],
         "yaxis": "y"
        },
        {
         "alignmentgroup": "True",
         "hoverlabel": {
          "namelength": 0
         },
         "hovertemplate": "Country=Canada<br>Date=%{x}<br>Confirmed=%{text}",
         "legendgroup": "Canada",
         "marker": {
          "color": "#B6E880"
         },
         "name": "Canada",
         "offsetgroup": "Canada",
         "orientation": "v",
         "showlegend": true,
         "text": [
          1,
          1,
          2,
          3,
          3,
          3,
          4,
          4,
          4,
          4,
          4,
          5,
          7,
          7,
          7,
          7,
          7,
          7,
          7,
          7,
          7,
          7,
          8
         ],
         "textposition": "auto",
         "type": "bar",
         "x": [
          "01/26/2020 23:00:00",
          "01/27/2020 20:30:00",
          "01/28/2020 23:00:00",
          "01/29/2020 21:00:00",
          "01/30/2020 21:30:00",
          "01/31/2020 19:00:00",
          "02/01/2020 23:00:00",
          "02/02/2020 21:00:00",
          "02/03/2020 21:40:00",
          "02/04/2020 22:00:00",
          "02/05/2020 12:20:00",
          "02/06/2020 20:05:00",
          "02/07/2020 20:24:00",
          "02/08/2020 23:04:00",
          "02/09/2020 23:20:00",
          "02/10/2020 19:30:00",
          "02/11/2020 20:44:00",
          "02/12/2020 22:00:00",
          "02/13/2020 21:15:00",
          "02/14/2020 22:00:00",
          "02/15/2020 22:00:00",
          "02/16/2020 22:00:00",
          "02/17/2020 22:00:00"
         ],
         "xaxis": "x",
         "y": [
          1,
          1,
          2,
          3,
          3,
          3,
          4,
          4,
          4,
          4,
          4,
          5,
          7,
          7,
          7,
          7,
          7,
          7,
          7,
          7,
          7,
          7,
          8
         ],
         "yaxis": "y"
        },
        {
         "alignmentgroup": "True",
         "hoverlabel": {
          "namelength": 0
         },
         "hovertemplate": "Country=Cambodia<br>Date=%{x}<br>Confirmed=%{text}",
         "legendgroup": "Cambodia",
         "marker": {
          "color": "#FF97FF"
         },
         "name": "Cambodia",
         "offsetgroup": "Cambodia",
         "orientation": "v",
         "showlegend": true,
         "text": [
          1,
          1,
          1,
          1,
          1,
          1,
          1,
          1,
          1,
          1,
          1,
          1,
          1,
          1,
          1,
          1,
          1,
          1,
          1,
          1,
          1,
          1
         ],
         "textposition": "auto",
         "type": "bar",
         "x": [
          "01/27/2020 20:30:00",
          "01/28/2020 23:00:00",
          "01/29/2020 21:00:00",
          "01/30/2020 21:30:00",
          "01/31/2020 19:00:00",
          "02/01/2020 23:00:00",
          "02/02/2020 21:00:00",
          "02/03/2020 21:40:00",
          "02/04/2020 22:00:00",
          "02/05/2020 12:20:00",
          "02/06/2020 20:05:00",
          "02/07/2020 20:24:00",
          "02/08/2020 23:04:00",
          "02/09/2020 23:20:00",
          "02/10/2020 19:30:00",
          "02/11/2020 20:44:00",
          "02/12/2020 22:00:00",
          "02/13/2020 21:15:00",
          "02/14/2020 22:00:00",
          "02/15/2020 22:00:00",
          "02/16/2020 22:00:00",
          "02/17/2020 22:00:00"
         ],
         "xaxis": "x",
         "y": [
          1,
          1,
          1,
          1,
          1,
          1,
          1,
          1,
          1,
          1,
          1,
          1,
          1,
          1,
          1,
          1,
          1,
          1,
          1,
          1,
          1,
          1
         ],
         "yaxis": "y"
        },
        {
         "alignmentgroup": "True",
         "hoverlabel": {
          "namelength": 0
         },
         "hovertemplate": "Country=Ivory Coast<br>Date=%{x}<br>Confirmed=%{text}",
         "legendgroup": "Ivory Coast",
         "marker": {
          "color": "#FECB52"
         },
         "name": "Ivory Coast",
         "offsetgroup": "Ivory Coast",
         "orientation": "v",
         "showlegend": true,
         "text": [
          0
         ],
         "textposition": "auto",
         "type": "bar",
         "x": [
          "01/27/2020 20:30:00"
         ],
         "xaxis": "x",
         "y": [
          0
         ],
         "yaxis": "y"
        },
        {
         "alignmentgroup": "True",
         "hoverlabel": {
          "namelength": 0
         },
         "hovertemplate": "Country=Germany<br>Date=%{x}<br>Confirmed=%{text}",
         "legendgroup": "Germany",
         "marker": {
          "color": "#636efa"
         },
         "name": "Germany",
         "offsetgroup": "Germany",
         "orientation": "v",
         "showlegend": true,
         "text": [
          1,
          4,
          4,
          4,
          7,
          8,
          10,
          12,
          12,
          12,
          12,
          13,
          13,
          14,
          14,
          16,
          16,
          16,
          16,
          16,
          16,
          16
         ],
         "textposition": "auto",
         "type": "bar",
         "x": [
          "01/27/2020 20:30:00",
          "01/28/2020 23:00:00",
          "01/29/2020 21:00:00",
          "01/30/2020 21:30:00",
          "01/31/2020 19:00:00",
          "02/01/2020 23:00:00",
          "02/02/2020 21:00:00",
          "02/03/2020 21:40:00",
          "02/04/2020 22:00:00",
          "02/05/2020 12:20:00",
          "02/06/2020 20:05:00",
          "02/07/2020 20:24:00",
          "02/08/2020 23:04:00",
          "02/09/2020 23:20:00",
          "02/10/2020 19:30:00",
          "02/11/2020 20:44:00",
          "02/12/2020 22:00:00",
          "02/13/2020 21:15:00",
          "02/14/2020 22:00:00",
          "02/15/2020 22:00:00",
          "02/16/2020 22:00:00",
          "02/17/2020 22:00:00"
         ],
         "xaxis": "x",
         "y": [
          1,
          4,
          4,
          4,
          7,
          8,
          10,
          12,
          12,
          12,
          12,
          13,
          13,
          14,
          14,
          16,
          16,
          16,
          16,
          16,
          16,
          16
         ],
         "yaxis": "y"
        },
        {
         "alignmentgroup": "True",
         "hoverlabel": {
          "namelength": 0
         },
         "hovertemplate": "Country=Sri Lanka<br>Date=%{x}<br>Confirmed=%{text}",
         "legendgroup": "Sri Lanka",
         "marker": {
          "color": "#EF553B"
         },
         "name": "Sri Lanka",
         "offsetgroup": "Sri Lanka",
         "orientation": "v",
         "showlegend": true,
         "text": [
          1,
          1,
          1,
          1,
          1,
          1,
          1,
          1,
          1,
          1,
          1,
          1,
          1,
          1,
          1,
          1,
          1,
          1,
          1,
          1,
          1,
          1
         ],
         "textposition": "auto",
         "type": "bar",
         "x": [
          "01/27/2020 20:30:00",
          "01/28/2020 23:00:00",
          "01/29/2020 21:00:00",
          "01/30/2020 21:30:00",
          "01/31/2020 19:00:00",
          "02/01/2020 23:00:00",
          "02/02/2020 21:00:00",
          "02/03/2020 21:40:00",
          "02/04/2020 22:00:00",
          "02/05/2020 12:20:00",
          "02/06/2020 20:05:00",
          "02/07/2020 20:24:00",
          "02/08/2020 23:04:00",
          "02/09/2020 23:20:00",
          "02/10/2020 19:30:00",
          "02/11/2020 20:44:00",
          "02/12/2020 22:00:00",
          "02/13/2020 21:15:00",
          "02/14/2020 22:00:00",
          "02/15/2020 22:00:00",
          "02/16/2020 22:00:00",
          "02/17/2020 22:00:00"
         ],
         "xaxis": "x",
         "y": [
          1,
          1,
          1,
          1,
          1,
          1,
          1,
          1,
          1,
          1,
          1,
          1,
          1,
          1,
          1,
          1,
          1,
          1,
          1,
          1,
          1,
          1
         ],
         "yaxis": "y"
        },
        {
         "alignmentgroup": "True",
         "hoverlabel": {
          "namelength": 0
         },
         "hovertemplate": "Country=Finland<br>Date=%{x}<br>Confirmed=%{text}",
         "legendgroup": "Finland",
         "marker": {
          "color": "#00cc96"
         },
         "name": "Finland",
         "offsetgroup": "Finland",
         "orientation": "v",
         "showlegend": true,
         "text": [
          1,
          1,
          1,
          1,
          1,
          1,
          1,
          1,
          1,
          1,
          1,
          1,
          1,
          1,
          1,
          1,
          1,
          1,
          1,
          1
         ],
         "textposition": "auto",
         "type": "bar",
         "x": [
          "01/29/2020 21:00:00",
          "01/30/2020 21:30:00",
          "01/31/2020 19:00:00",
          "02/01/2020 23:00:00",
          "02/02/2020 21:00:00",
          "02/03/2020 21:40:00",
          "02/04/2020 22:00:00",
          "02/05/2020 12:20:00",
          "02/06/2020 20:05:00",
          "02/07/2020 20:24:00",
          "02/08/2020 23:04:00",
          "02/09/2020 23:20:00",
          "02/10/2020 19:30:00",
          "02/11/2020 20:44:00",
          "02/12/2020 22:00:00",
          "02/13/2020 21:15:00",
          "02/14/2020 22:00:00",
          "02/15/2020 22:00:00",
          "02/16/2020 22:00:00",
          "02/17/2020 22:00:00"
         ],
         "xaxis": "x",
         "y": [
          1,
          1,
          1,
          1,
          1,
          1,
          1,
          1,
          1,
          1,
          1,
          1,
          1,
          1,
          1,
          1,
          1,
          1,
          1,
          1
         ],
         "yaxis": "y"
        },
        {
         "alignmentgroup": "True",
         "hoverlabel": {
          "namelength": 0
         },
         "hovertemplate": "Country=United Arab Emirates<br>Date=%{x}<br>Confirmed=%{text}",
         "legendgroup": "United Arab Emirates",
         "marker": {
          "color": "#ab63fa"
         },
         "name": "United Arab Emirates",
         "offsetgroup": "United Arab Emirates",
         "orientation": "v",
         "showlegend": true,
         "text": [
          4,
          4,
          4,
          4,
          5,
          5,
          5,
          5,
          5,
          5,
          7,
          7,
          8,
          8,
          8,
          8,
          8,
          8,
          9,
          9
         ],
         "textposition": "auto",
         "type": "bar",
         "x": [
          "01/29/2020 21:00:00",
          "01/30/2020 21:30:00",
          "01/31/2020 19:00:00",
          "02/01/2020 23:00:00",
          "02/02/2020 21:00:00",
          "02/03/2020 21:40:00",
          "02/04/2020 22:00:00",
          "02/05/2020 12:20:00",
          "02/06/2020 20:05:00",
          "02/07/2020 20:24:00",
          "02/08/2020 23:04:00",
          "02/09/2020 23:20:00",
          "02/10/2020 19:30:00",
          "02/11/2020 20:44:00",
          "02/12/2020 22:00:00",
          "02/13/2020 21:15:00",
          "02/14/2020 22:00:00",
          "02/15/2020 22:00:00",
          "02/16/2020 22:00:00",
          "02/17/2020 22:00:00"
         ],
         "xaxis": "x",
         "y": [
          4,
          4,
          4,
          4,
          5,
          5,
          5,
          5,
          5,
          5,
          7,
          7,
          8,
          8,
          8,
          8,
          8,
          8,
          9,
          9
         ],
         "yaxis": "y"
        },
        {
         "alignmentgroup": "True",
         "hoverlabel": {
          "namelength": 0
         },
         "hovertemplate": "Country=India<br>Date=%{x}<br>Confirmed=%{text}",
         "legendgroup": "India",
         "marker": {
          "color": "#FFA15A"
         },
         "name": "India",
         "offsetgroup": "India",
         "orientation": "v",
         "showlegend": true,
         "text": [
          1,
          1,
          1,
          2,
          3,
          3,
          3,
          3,
          3,
          3,
          3,
          3,
          3,
          3,
          3,
          3,
          3,
          3,
          3
         ],
         "textposition": "auto",
         "type": "bar",
         "x": [
          "01/30/2020 21:30:00",
          "01/31/2020 19:00:00",
          "02/01/2020 23:00:00",
          "02/02/2020 21:00:00",
          "02/03/2020 21:40:00",
          "02/04/2020 22:00:00",
          "02/05/2020 12:20:00",
          "02/06/2020 20:05:00",
          "02/07/2020 20:24:00",
          "02/08/2020 23:04:00",
          "02/09/2020 23:20:00",
          "02/10/2020 19:30:00",
          "02/11/2020 20:44:00",
          "02/12/2020 22:00:00",
          "02/13/2020 21:15:00",
          "02/14/2020 22:00:00",
          "02/15/2020 22:00:00",
          "02/16/2020 22:00:00",
          "02/17/2020 22:00:00"
         ],
         "xaxis": "x",
         "y": [
          1,
          1,
          1,
          2,
          3,
          3,
          3,
          3,
          3,
          3,
          3,
          3,
          3,
          3,
          3,
          3,
          3,
          3,
          3
         ],
         "yaxis": "y"
        },
        {
         "alignmentgroup": "True",
         "hoverlabel": {
          "namelength": 0
         },
         "hovertemplate": "Country=Italy<br>Date=%{x}<br>Confirmed=%{text}",
         "legendgroup": "Italy",
         "marker": {
          "color": "#19d3f3"
         },
         "name": "Italy",
         "offsetgroup": "Italy",
         "orientation": "v",
         "showlegend": true,
         "text": [
          2,
          2,
          2,
          2,
          2,
          2,
          2,
          2,
          3,
          3,
          3,
          3,
          3,
          3,
          3,
          3,
          3,
          3,
          3
         ],
         "textposition": "auto",
         "type": "bar",
         "x": [
          "01/30/2020 21:30:00",
          "01/31/2020 19:00:00",
          "02/01/2020 23:00:00",
          "02/02/2020 21:00:00",
          "02/03/2020 21:40:00",
          "02/04/2020 22:00:00",
          "02/05/2020 12:20:00",
          "02/06/2020 20:05:00",
          "02/07/2020 20:24:00",
          "02/08/2020 23:04:00",
          "02/09/2020 23:20:00",
          "02/10/2020 19:30:00",
          "02/11/2020 20:44:00",
          "02/12/2020 22:00:00",
          "02/13/2020 21:15:00",
          "02/14/2020 22:00:00",
          "02/15/2020 22:00:00",
          "02/16/2020 22:00:00",
          "02/17/2020 22:00:00"
         ],
         "xaxis": "x",
         "y": [
          2,
          2,
          2,
          2,
          2,
          2,
          2,
          2,
          3,
          3,
          3,
          3,
          3,
          3,
          3,
          3,
          3,
          3,
          3
         ],
         "yaxis": "y"
        },
        {
         "alignmentgroup": "True",
         "hoverlabel": {
          "namelength": 0
         },
         "hovertemplate": "Country=Spain<br>Date=%{x}<br>Confirmed=%{text}",
         "legendgroup": "Spain",
         "marker": {
          "color": "#FF6692"
         },
         "name": "Spain",
         "offsetgroup": "Spain",
         "orientation": "v",
         "showlegend": true,
         "text": [
          1,
          1,
          1,
          1,
          1,
          1,
          1,
          1,
          1,
          2,
          2,
          2,
          2,
          2,
          2,
          2,
          2,
          2
         ],
         "textposition": "auto",
         "type": "bar",
         "x": [
          "01/31/2020 19:00:00",
          "02/01/2020 23:00:00",
          "02/02/2020 21:00:00",
          "02/03/2020 21:40:00",
          "02/04/2020 22:00:00",
          "02/05/2020 12:20:00",
          "02/06/2020 20:05:00",
          "02/07/2020 20:24:00",
          "02/08/2020 23:04:00",
          "02/09/2020 23:20:00",
          "02/10/2020 19:30:00",
          "02/11/2020 20:44:00",
          "02/12/2020 22:00:00",
          "02/13/2020 21:15:00",
          "02/14/2020 22:00:00",
          "02/15/2020 22:00:00",
          "02/16/2020 22:00:00",
          "02/17/2020 22:00:00"
         ],
         "xaxis": "x",
         "y": [
          1,
          1,
          1,
          1,
          1,
          1,
          1,
          1,
          1,
          2,
          2,
          2,
          2,
          2,
          2,
          2,
          2,
          2
         ],
         "yaxis": "y"
        },
        {
         "alignmentgroup": "True",
         "hoverlabel": {
          "namelength": 0
         },
         "hovertemplate": "Country=UK<br>Date=%{x}<br>Confirmed=%{text}",
         "legendgroup": "UK",
         "marker": {
          "color": "#B6E880"
         },
         "name": "UK",
         "offsetgroup": "UK",
         "orientation": "v",
         "showlegend": true,
         "text": [
          2,
          2,
          2,
          2,
          2,
          2,
          2,
          3,
          3,
          3,
          8,
          8,
          9,
          9,
          9,
          9,
          9,
          9
         ],
         "textposition": "auto",
         "type": "bar",
         "x": [
          "01/31/2020 19:00:00",
          "02/01/2020 23:00:00",
          "02/02/2020 21:00:00",
          "02/03/2020 21:40:00",
          "02/04/2020 22:00:00",
          "02/05/2020 12:20:00",
          "02/06/2020 20:05:00",
          "02/07/2020 20:24:00",
          "02/08/2020 23:04:00",
          "02/09/2020 23:20:00",
          "02/10/2020 19:30:00",
          "02/11/2020 20:44:00",
          "02/12/2020 22:00:00",
          "02/13/2020 21:15:00",
          "02/14/2020 22:00:00",
          "02/15/2020 22:00:00",
          "02/16/2020 22:00:00",
          "02/17/2020 22:00:00"
         ],
         "xaxis": "x",
         "y": [
          2,
          2,
          2,
          2,
          2,
          2,
          2,
          3,
          3,
          3,
          8,
          8,
          9,
          9,
          9,
          9,
          9,
          9
         ],
         "yaxis": "y"
        },
        {
         "alignmentgroup": "True",
         "hoverlabel": {
          "namelength": 0
         },
         "hovertemplate": "Country=Sweden<br>Date=%{x}<br>Confirmed=%{text}",
         "legendgroup": "Sweden",
         "marker": {
          "color": "#FF97FF"
         },
         "name": "Sweden",
         "offsetgroup": "Sweden",
         "orientation": "v",
         "showlegend": true,
         "text": [
          1,
          1,
          1,
          1,
          1,
          1,
          1,
          1,
          1,
          1,
          1,
          1,
          1,
          1,
          1,
          1,
          1,
          1
         ],
         "textposition": "auto",
         "type": "bar",
         "x": [
          "01/31/2020 19:00:00",
          "02/01/2020 23:00:00",
          "02/02/2020 21:00:00",
          "02/03/2020 21:40:00",
          "02/04/2020 22:00:00",
          "02/05/2020 12:20:00",
          "02/06/2020 20:05:00",
          "02/07/2020 20:24:00",
          "02/08/2020 23:04:00",
          "02/09/2020 23:20:00",
          "02/10/2020 19:30:00",
          "02/11/2020 20:44:00",
          "02/12/2020 22:00:00",
          "02/13/2020 21:15:00",
          "02/14/2020 22:00:00",
          "02/15/2020 22:00:00",
          "02/16/2020 22:00:00",
          "02/17/2020 22:00:00"
         ],
         "xaxis": "x",
         "y": [
          1,
          1,
          1,
          1,
          1,
          1,
          1,
          1,
          1,
          1,
          1,
          1,
          1,
          1,
          1,
          1,
          1,
          1
         ],
         "yaxis": "y"
        },
        {
         "alignmentgroup": "True",
         "hoverlabel": {
          "namelength": 0
         },
         "hovertemplate": "Country=Russia<br>Date=%{x}<br>Confirmed=%{text}",
         "legendgroup": "Russia",
         "marker": {
          "color": "#FECB52"
         },
         "name": "Russia",
         "offsetgroup": "Russia",
         "orientation": "v",
         "showlegend": true,
         "text": [
          2,
          2,
          2,
          2,
          2,
          2,
          2,
          2,
          2,
          2,
          2,
          2,
          2,
          2,
          2,
          2,
          2,
          2
         ],
         "textposition": "auto",
         "type": "bar",
         "x": [
          "01/31/2020 19:00:00",
          "02/01/2020 23:00:00",
          "02/02/2020 21:00:00",
          "02/03/2020 21:40:00",
          "02/04/2020 22:00:00",
          "02/05/2020 12:20:00",
          "02/06/2020 20:05:00",
          "02/07/2020 20:24:00",
          "02/08/2020 23:04:00",
          "02/09/2020 23:20:00",
          "02/10/2020 19:30:00",
          "02/11/2020 20:44:00",
          "02/12/2020 22:00:00",
          "02/13/2020 21:15:00",
          "02/14/2020 22:00:00",
          "02/15/2020 22:00:00",
          "02/16/2020 22:00:00",
          "02/17/2020 22:00:00"
         ],
         "xaxis": "x",
         "y": [
          2,
          2,
          2,
          2,
          2,
          2,
          2,
          2,
          2,
          2,
          2,
          2,
          2,
          2,
          2,
          2,
          2,
          2
         ],
         "yaxis": "y"
        },
        {
         "alignmentgroup": "True",
         "hoverlabel": {
          "namelength": 0
         },
         "hovertemplate": "Country=Belgium<br>Date=%{x}<br>Confirmed=%{text}",
         "legendgroup": "Belgium",
         "marker": {
          "color": "#636efa"
         },
         "name": "Belgium",
         "offsetgroup": "Belgium",
         "orientation": "v",
         "showlegend": true,
         "text": [
          1,
          1,
          1,
          1,
          1,
          1,
          1,
          1,
          1,
          1,
          1,
          1,
          1,
          1
         ],
         "textposition": "auto",
         "type": "bar",
         "x": [
          "02/04/2020 22:00:00",
          "02/05/2020 12:20:00",
          "02/06/2020 20:05:00",
          "02/07/2020 20:24:00",
          "02/08/2020 23:04:00",
          "02/09/2020 23:20:00",
          "02/10/2020 19:30:00",
          "02/11/2020 20:44:00",
          "02/12/2020 22:00:00",
          "02/13/2020 21:15:00",
          "02/14/2020 22:00:00",
          "02/15/2020 22:00:00",
          "02/16/2020 22:00:00",
          "02/17/2020 22:00:00"
         ],
         "xaxis": "x",
         "y": [
          1,
          1,
          1,
          1,
          1,
          1,
          1,
          1,
          1,
          1,
          1,
          1,
          1,
          1
         ],
         "yaxis": "y"
        },
        {
         "alignmentgroup": "True",
         "hoverlabel": {
          "namelength": 0
         },
         "hovertemplate": "Country=Others<br>Date=%{x}<br>Confirmed=%{text}",
         "legendgroup": "Others",
         "marker": {
          "color": "#EF553B"
         },
         "name": "Others",
         "offsetgroup": "Others",
         "orientation": "v",
         "showlegend": true,
         "text": [
          61,
          61,
          64,
          135,
          135,
          175,
          218,
          218,
          285,
          355,
          454
         ],
         "textposition": "auto",
         "type": "bar",
         "x": [
          "02/07/2020 20:24:00",
          "02/08/2020 23:04:00",
          "02/09/2020 23:20:00",
          "02/10/2020 19:30:00",
          "02/11/2020 20:44:00",
          "02/12/2020 22:00:00",
          "02/13/2020 21:15:00",
          "02/14/2020 22:00:00",
          "02/15/2020 22:00:00",
          "02/16/2020 22:00:00",
          "02/17/2020 22:00:00"
         ],
         "xaxis": "x",
         "y": [
          61,
          61,
          64,
          135,
          135,
          175,
          218,
          218,
          285,
          355,
          454
         ],
         "yaxis": "y"
        },
        {
         "alignmentgroup": "True",
         "hoverlabel": {
          "namelength": 0
         },
         "hovertemplate": "Country=Egypt<br>Date=%{x}<br>Confirmed=%{text}",
         "legendgroup": "Egypt",
         "marker": {
          "color": "#00cc96"
         },
         "name": "Egypt",
         "offsetgroup": "Egypt",
         "orientation": "v",
         "showlegend": true,
         "text": [
          1,
          1,
          1,
          1
         ],
         "textposition": "auto",
         "type": "bar",
         "x": [
          "02/14/2020 22:00:00",
          "02/15/2020 22:00:00",
          "02/16/2020 22:00:00",
          "02/17/2020 22:00:00"
         ],
         "xaxis": "x",
         "y": [
          1,
          1,
          1,
          1
         ],
         "yaxis": "y"
        }
       ],
       "layout": {
        "barmode": "relative",
        "height": 600,
        "legend": {
         "title": {
          "text": "Country"
         },
         "tracegroupgap": 0
        },
        "template": {
         "data": {
          "bar": [
           {
            "error_x": {
             "color": "#2a3f5f"
            },
            "error_y": {
             "color": "#2a3f5f"
            },
            "marker": {
             "line": {
              "color": "#E5ECF6",
              "width": 0.5
             }
            },
            "type": "bar"
           }
          ],
          "barpolar": [
           {
            "marker": {
             "line": {
              "color": "#E5ECF6",
              "width": 0.5
             }
            },
            "type": "barpolar"
           }
          ],
          "carpet": [
           {
            "aaxis": {
             "endlinecolor": "#2a3f5f",
             "gridcolor": "white",
             "linecolor": "white",
             "minorgridcolor": "white",
             "startlinecolor": "#2a3f5f"
            },
            "baxis": {
             "endlinecolor": "#2a3f5f",
             "gridcolor": "white",
             "linecolor": "white",
             "minorgridcolor": "white",
             "startlinecolor": "#2a3f5f"
            },
            "type": "carpet"
           }
          ],
          "choropleth": [
           {
            "colorbar": {
             "outlinewidth": 0,
             "ticks": ""
            },
            "type": "choropleth"
           }
          ],
          "contour": [
           {
            "colorbar": {
             "outlinewidth": 0,
             "ticks": ""
            },
            "colorscale": [
             [
              0,
              "#0d0887"
             ],
             [
              0.1111111111111111,
              "#46039f"
             ],
             [
              0.2222222222222222,
              "#7201a8"
             ],
             [
              0.3333333333333333,
              "#9c179e"
             ],
             [
              0.4444444444444444,
              "#bd3786"
             ],
             [
              0.5555555555555556,
              "#d8576b"
             ],
             [
              0.6666666666666666,
              "#ed7953"
             ],
             [
              0.7777777777777778,
              "#fb9f3a"
             ],
             [
              0.8888888888888888,
              "#fdca26"
             ],
             [
              1,
              "#f0f921"
             ]
            ],
            "type": "contour"
           }
          ],
          "contourcarpet": [
           {
            "colorbar": {
             "outlinewidth": 0,
             "ticks": ""
            },
            "type": "contourcarpet"
           }
          ],
          "heatmap": [
           {
            "colorbar": {
             "outlinewidth": 0,
             "ticks": ""
            },
            "colorscale": [
             [
              0,
              "#0d0887"
             ],
             [
              0.1111111111111111,
              "#46039f"
             ],
             [
              0.2222222222222222,
              "#7201a8"
             ],
             [
              0.3333333333333333,
              "#9c179e"
             ],
             [
              0.4444444444444444,
              "#bd3786"
             ],
             [
              0.5555555555555556,
              "#d8576b"
             ],
             [
              0.6666666666666666,
              "#ed7953"
             ],
             [
              0.7777777777777778,
              "#fb9f3a"
             ],
             [
              0.8888888888888888,
              "#fdca26"
             ],
             [
              1,
              "#f0f921"
             ]
            ],
            "type": "heatmap"
           }
          ],
          "heatmapgl": [
           {
            "colorbar": {
             "outlinewidth": 0,
             "ticks": ""
            },
            "colorscale": [
             [
              0,
              "#0d0887"
             ],
             [
              0.1111111111111111,
              "#46039f"
             ],
             [
              0.2222222222222222,
              "#7201a8"
             ],
             [
              0.3333333333333333,
              "#9c179e"
             ],
             [
              0.4444444444444444,
              "#bd3786"
             ],
             [
              0.5555555555555556,
              "#d8576b"
             ],
             [
              0.6666666666666666,
              "#ed7953"
             ],
             [
              0.7777777777777778,
              "#fb9f3a"
             ],
             [
              0.8888888888888888,
              "#fdca26"
             ],
             [
              1,
              "#f0f921"
             ]
            ],
            "type": "heatmapgl"
           }
          ],
          "histogram": [
           {
            "marker": {
             "colorbar": {
              "outlinewidth": 0,
              "ticks": ""
             }
            },
            "type": "histogram"
           }
          ],
          "histogram2d": [
           {
            "colorbar": {
             "outlinewidth": 0,
             "ticks": ""
            },
            "colorscale": [
             [
              0,
              "#0d0887"
             ],
             [
              0.1111111111111111,
              "#46039f"
             ],
             [
              0.2222222222222222,
              "#7201a8"
             ],
             [
              0.3333333333333333,
              "#9c179e"
             ],
             [
              0.4444444444444444,
              "#bd3786"
             ],
             [
              0.5555555555555556,
              "#d8576b"
             ],
             [
              0.6666666666666666,
              "#ed7953"
             ],
             [
              0.7777777777777778,
              "#fb9f3a"
             ],
             [
              0.8888888888888888,
              "#fdca26"
             ],
             [
              1,
              "#f0f921"
             ]
            ],
            "type": "histogram2d"
           }
          ],
          "histogram2dcontour": [
           {
            "colorbar": {
             "outlinewidth": 0,
             "ticks": ""
            },
            "colorscale": [
             [
              0,
              "#0d0887"
             ],
             [
              0.1111111111111111,
              "#46039f"
             ],
             [
              0.2222222222222222,
              "#7201a8"
             ],
             [
              0.3333333333333333,
              "#9c179e"
             ],
             [
              0.4444444444444444,
              "#bd3786"
             ],
             [
              0.5555555555555556,
              "#d8576b"
             ],
             [
              0.6666666666666666,
              "#ed7953"
             ],
             [
              0.7777777777777778,
              "#fb9f3a"
             ],
             [
              0.8888888888888888,
              "#fdca26"
             ],
             [
              1,
              "#f0f921"
             ]
            ],
            "type": "histogram2dcontour"
           }
          ],
          "mesh3d": [
           {
            "colorbar": {
             "outlinewidth": 0,
             "ticks": ""
            },
            "type": "mesh3d"
           }
          ],
          "parcoords": [
           {
            "line": {
             "colorbar": {
              "outlinewidth": 0,
              "ticks": ""
             }
            },
            "type": "parcoords"
           }
          ],
          "pie": [
           {
            "automargin": true,
            "type": "pie"
           }
          ],
          "scatter": [
           {
            "marker": {
             "colorbar": {
              "outlinewidth": 0,
              "ticks": ""
             }
            },
            "type": "scatter"
           }
          ],
          "scatter3d": [
           {
            "line": {
             "colorbar": {
              "outlinewidth": 0,
              "ticks": ""
             }
            },
            "marker": {
             "colorbar": {
              "outlinewidth": 0,
              "ticks": ""
             }
            },
            "type": "scatter3d"
           }
          ],
          "scattercarpet": [
           {
            "marker": {
             "colorbar": {
              "outlinewidth": 0,
              "ticks": ""
             }
            },
            "type": "scattercarpet"
           }
          ],
          "scattergeo": [
           {
            "marker": {
             "colorbar": {
              "outlinewidth": 0,
              "ticks": ""
             }
            },
            "type": "scattergeo"
           }
          ],
          "scattergl": [
           {
            "marker": {
             "colorbar": {
              "outlinewidth": 0,
              "ticks": ""
             }
            },
            "type": "scattergl"
           }
          ],
          "scattermapbox": [
           {
            "marker": {
             "colorbar": {
              "outlinewidth": 0,
              "ticks": ""
             }
            },
            "type": "scattermapbox"
           }
          ],
          "scatterpolar": [
           {
            "marker": {
             "colorbar": {
              "outlinewidth": 0,
              "ticks": ""
             }
            },
            "type": "scatterpolar"
           }
          ],
          "scatterpolargl": [
           {
            "marker": {
             "colorbar": {
              "outlinewidth": 0,
              "ticks": ""
             }
            },
            "type": "scatterpolargl"
           }
          ],
          "scatterternary": [
           {
            "marker": {
             "colorbar": {
              "outlinewidth": 0,
              "ticks": ""
             }
            },
            "type": "scatterternary"
           }
          ],
          "surface": [
           {
            "colorbar": {
             "outlinewidth": 0,
             "ticks": ""
            },
            "colorscale": [
             [
              0,
              "#0d0887"
             ],
             [
              0.1111111111111111,
              "#46039f"
             ],
             [
              0.2222222222222222,
              "#7201a8"
             ],
             [
              0.3333333333333333,
              "#9c179e"
             ],
             [
              0.4444444444444444,
              "#bd3786"
             ],
             [
              0.5555555555555556,
              "#d8576b"
             ],
             [
              0.6666666666666666,
              "#ed7953"
             ],
             [
              0.7777777777777778,
              "#fb9f3a"
             ],
             [
              0.8888888888888888,
              "#fdca26"
             ],
             [
              1,
              "#f0f921"
             ]
            ],
            "type": "surface"
           }
          ],
          "table": [
           {
            "cells": {
             "fill": {
              "color": "#EBF0F8"
             },
             "line": {
              "color": "white"
             }
            },
            "header": {
             "fill": {
              "color": "#C8D4E3"
             },
             "line": {
              "color": "white"
             }
            },
            "type": "table"
           }
          ]
         },
         "layout": {
          "annotationdefaults": {
           "arrowcolor": "#2a3f5f",
           "arrowhead": 0,
           "arrowwidth": 1
          },
          "coloraxis": {
           "colorbar": {
            "outlinewidth": 0,
            "ticks": ""
           }
          },
          "colorscale": {
           "diverging": [
            [
             0,
             "#8e0152"
            ],
            [
             0.1,
             "#c51b7d"
            ],
            [
             0.2,
             "#de77ae"
            ],
            [
             0.3,
             "#f1b6da"
            ],
            [
             0.4,
             "#fde0ef"
            ],
            [
             0.5,
             "#f7f7f7"
            ],
            [
             0.6,
             "#e6f5d0"
            ],
            [
             0.7,
             "#b8e186"
            ],
            [
             0.8,
             "#7fbc41"
            ],
            [
             0.9,
             "#4d9221"
            ],
            [
             1,
             "#276419"
            ]
           ],
           "sequential": [
            [
             0,
             "#0d0887"
            ],
            [
             0.1111111111111111,
             "#46039f"
            ],
            [
             0.2222222222222222,
             "#7201a8"
            ],
            [
             0.3333333333333333,
             "#9c179e"
            ],
            [
             0.4444444444444444,
             "#bd3786"
            ],
            [
             0.5555555555555556,
             "#d8576b"
            ],
            [
             0.6666666666666666,
             "#ed7953"
            ],
            [
             0.7777777777777778,
             "#fb9f3a"
            ],
            [
             0.8888888888888888,
             "#fdca26"
            ],
            [
             1,
             "#f0f921"
            ]
           ],
           "sequentialminus": [
            [
             0,
             "#0d0887"
            ],
            [
             0.1111111111111111,
             "#46039f"
            ],
            [
             0.2222222222222222,
             "#7201a8"
            ],
            [
             0.3333333333333333,
             "#9c179e"
            ],
            [
             0.4444444444444444,
             "#bd3786"
            ],
            [
             0.5555555555555556,
             "#d8576b"
            ],
            [
             0.6666666666666666,
             "#ed7953"
            ],
            [
             0.7777777777777778,
             "#fb9f3a"
            ],
            [
             0.8888888888888888,
             "#fdca26"
            ],
            [
             1,
             "#f0f921"
            ]
           ]
          },
          "colorway": [
           "#636efa",
           "#EF553B",
           "#00cc96",
           "#ab63fa",
           "#FFA15A",
           "#19d3f3",
           "#FF6692",
           "#B6E880",
           "#FF97FF",
           "#FECB52"
          ],
          "font": {
           "color": "#2a3f5f"
          },
          "geo": {
           "bgcolor": "white",
           "lakecolor": "white",
           "landcolor": "#E5ECF6",
           "showlakes": true,
           "showland": true,
           "subunitcolor": "white"
          },
          "hoverlabel": {
           "align": "left"
          },
          "hovermode": "closest",
          "mapbox": {
           "style": "light"
          },
          "paper_bgcolor": "white",
          "plot_bgcolor": "#E5ECF6",
          "polar": {
           "angularaxis": {
            "gridcolor": "white",
            "linecolor": "white",
            "ticks": ""
           },
           "bgcolor": "#E5ECF6",
           "radialaxis": {
            "gridcolor": "white",
            "linecolor": "white",
            "ticks": ""
           }
          },
          "scene": {
           "xaxis": {
            "backgroundcolor": "#E5ECF6",
            "gridcolor": "white",
            "gridwidth": 2,
            "linecolor": "white",
            "showbackground": true,
            "ticks": "",
            "zerolinecolor": "white"
           },
           "yaxis": {
            "backgroundcolor": "#E5ECF6",
            "gridcolor": "white",
            "gridwidth": 2,
            "linecolor": "white",
            "showbackground": true,
            "ticks": "",
            "zerolinecolor": "white"
           },
           "zaxis": {
            "backgroundcolor": "#E5ECF6",
            "gridcolor": "white",
            "gridwidth": 2,
            "linecolor": "white",
            "showbackground": true,
            "ticks": "",
            "zerolinecolor": "white"
           }
          },
          "shapedefaults": {
           "line": {
            "color": "#2a3f5f"
           }
          },
          "ternary": {
           "aaxis": {
            "gridcolor": "white",
            "linecolor": "white",
            "ticks": ""
           },
           "baxis": {
            "gridcolor": "white",
            "linecolor": "white",
            "ticks": ""
           },
           "bgcolor": "#E5ECF6",
           "caxis": {
            "gridcolor": "white",
            "linecolor": "white",
            "ticks": ""
           }
          },
          "title": {
           "x": 0.05
          },
          "xaxis": {
           "automargin": true,
           "gridcolor": "white",
           "linecolor": "white",
           "ticks": "",
           "title": {
            "standoff": 15
           },
           "zerolinecolor": "white",
           "zerolinewidth": 2
          },
          "yaxis": {
           "automargin": true,
           "gridcolor": "white",
           "linecolor": "white",
           "ticks": "",
           "title": {
            "standoff": 15
           },
           "zerolinecolor": "white",
           "zerolinewidth": 2
          }
         }
        },
        "title": {
         "text": "Cases"
        },
        "xaxis": {
         "anchor": "y",
         "domain": [
          0,
          1
         ],
         "title": {
          "text": "Date"
         }
        },
        "yaxis": {
         "anchor": "x",
         "domain": [
          0,
          1
         ],
         "title": {
          "text": "Confirmed"
         }
        }
       }
      },
      "text/html": [
       "<div>\n",
       "        \n",
       "        \n",
       "            <div id=\"63748b28-3283-410e-81fe-68769b62291c\" class=\"plotly-graph-div\" style=\"height:600px; width:100%;\"></div>\n",
       "            <script type=\"text/javascript\">\n",
       "                require([\"plotly\"], function(Plotly) {\n",
       "                    window.PLOTLYENV=window.PLOTLYENV || {};\n",
       "                    \n",
       "                if (document.getElementById(\"63748b28-3283-410e-81fe-68769b62291c\")) {\n",
       "                    Plotly.newPlot(\n",
       "                        '63748b28-3283-410e-81fe-68769b62291c',\n",
       "                        [{\"alignmentgroup\": \"True\", \"hoverlabel\": {\"namelength\": 0}, \"hovertemplate\": \"Country=China<br>Date=%{x}<br>Confirmed=%{text}\", \"legendgroup\": \"China\", \"marker\": {\"color\": \"#636efa\"}, \"name\": \"China\", \"offsetgroup\": \"China\", \"orientation\": \"v\", \"showlegend\": true, \"text\": [549.0, 639.0, 916.0, 1979.0, 2737.0, 4409.0, 5970.0, 7678.0, 9658.0, 11221.0, 14375.0, 17114.0, 20400.0, 24290.0, 24405.0, 30541.0, 31215.0, 37198.0, 40160.0, 42310.0, 44641.0, 59805.0, 63841.0, 66292.0, 68347.0, 70446.0, 72364.0], \"textposition\": \"auto\", \"type\": \"bar\", \"x\": [\"01/22/2020 12:00:00\", \"01/23/2020 12:00:00\", \"01/24/2020 12:00:00\", \"01/25/2020 22:00:00\", \"01/26/2020 23:00:00\", \"01/27/2020 20:30:00\", \"01/28/2020 23:00:00\", \"01/29/2020 21:00:00\", \"01/30/2020 21:30:00\", \"01/31/2020 19:00:00\", \"02/01/2020 23:00:00\", \"02/02/2020 21:00:00\", \"02/03/2020 21:40:00\", \"02/04/2020 22:00:00\", \"02/05/2020 12:20:00\", \"02/06/2020 20:05:00\", \"02/07/2020 20:24:00\", \"02/08/2020 23:04:00\", \"02/09/2020 23:20:00\", \"02/10/2020 19:30:00\", \"02/11/2020 20:44:00\", \"02/12/2020 22:00:00\", \"02/13/2020 21:15:00\", \"02/14/2020 22:00:00\", \"02/15/2020 22:00:00\", \"02/16/2020 22:00:00\", \"02/17/2020 22:00:00\"], \"xaxis\": \"x\", \"y\": [549.0, 639.0, 916.0, 1979.0, 2737.0, 4409.0, 5970.0, 7678.0, 9658.0, 11221.0, 14375.0, 17114.0, 20400.0, 24290.0, 24405.0, 30541.0, 31215.0, 37198.0, 40160.0, 42310.0, 44641.0, 59805.0, 63841.0, 66292.0, 68347.0, 70446.0, 72364.0], \"yaxis\": \"y\"}, {\"alignmentgroup\": \"True\", \"hoverlabel\": {\"namelength\": 0}, \"hovertemplate\": \"Country=Japan<br>Date=%{x}<br>Confirmed=%{text}\", \"legendgroup\": \"Japan\", \"marker\": {\"color\": \"#EF553B\"}, \"name\": \"Japan\", \"offsetgroup\": \"Japan\", \"orientation\": \"v\", \"showlegend\": true, \"text\": [2.0, 1.0, 2.0, 2.0, 4.0, 4.0, 7.0, 11.0, 11.0, 17.0, 20.0, 20.0, 20.0, 22.0, 22.0, 45.0, 25.0, 25.0, 26.0, 26.0, 26.0, 28.0, 28.0, 29.0, 43.0, 59.0, 66.0], \"textposition\": \"auto\", \"type\": \"bar\", \"x\": [\"01/22/2020 12:00:00\", \"01/23/2020 12:00:00\", \"01/24/2020 12:00:00\", \"01/25/2020 22:00:00\", \"01/26/2020 23:00:00\", \"01/27/2020 20:30:00\", \"01/28/2020 23:00:00\", \"01/29/2020 21:00:00\", \"01/30/2020 21:30:00\", \"01/31/2020 19:00:00\", \"02/01/2020 23:00:00\", \"02/02/2020 21:00:00\", \"02/03/2020 21:40:00\", \"02/04/2020 22:00:00\", \"02/05/2020 12:20:00\", \"02/06/2020 20:05:00\", \"02/07/2020 20:24:00\", \"02/08/2020 23:04:00\", \"02/09/2020 23:20:00\", \"02/10/2020 19:30:00\", \"02/11/2020 20:44:00\", \"02/12/2020 22:00:00\", \"02/13/2020 21:15:00\", \"02/14/2020 22:00:00\", \"02/15/2020 22:00:00\", \"02/16/2020 22:00:00\", \"02/17/2020 22:00:00\"], \"xaxis\": \"x\", \"y\": [2.0, 1.0, 2.0, 2.0, 4.0, 4.0, 7.0, 11.0, 11.0, 17.0, 20.0, 20.0, 20.0, 22.0, 22.0, 45.0, 25.0, 25.0, 26.0, 26.0, 26.0, 28.0, 28.0, 29.0, 43.0, 59.0, 66.0], \"yaxis\": \"y\"}, {\"alignmentgroup\": \"True\", \"hoverlabel\": {\"namelength\": 0}, \"hovertemplate\": \"Country=US<br>Date=%{x}<br>Confirmed=%{text}\", \"legendgroup\": \"US\", \"marker\": {\"color\": \"#00cc96\"}, \"name\": \"US\", \"offsetgroup\": \"US\", \"orientation\": \"v\", \"showlegend\": true, \"text\": [1.0, 1.0, 2.0, 2.0, 5.0, 5.0, 5.0, 5.0, 6.0, 7.0, 8.0, 9.0, 11.0, 11.0, 11.0, 12.0, 12.0, 12.0, 12.0, 12.0, 13.0, 13.0, 15.0, 15.0, 15.0, 15.0, 15.0], \"textposition\": \"auto\", \"type\": \"bar\", \"x\": [\"01/22/2020 12:00:00\", \"01/23/2020 12:00:00\", \"01/24/2020 12:00:00\", \"01/25/2020 22:00:00\", \"01/26/2020 23:00:00\", \"01/27/2020 20:30:00\", \"01/28/2020 23:00:00\", \"01/29/2020 21:00:00\", \"01/30/2020 21:30:00\", \"01/31/2020 19:00:00\", \"02/01/2020 23:00:00\", \"02/02/2020 21:00:00\", \"02/03/2020 21:40:00\", \"02/04/2020 22:00:00\", \"02/05/2020 12:20:00\", \"02/06/2020 20:05:00\", \"02/07/2020 20:24:00\", \"02/08/2020 23:04:00\", \"02/09/2020 23:20:00\", \"02/10/2020 19:30:00\", \"02/11/2020 20:44:00\", \"02/12/2020 22:00:00\", \"02/13/2020 21:15:00\", \"02/14/2020 22:00:00\", \"02/15/2020 22:00:00\", \"02/16/2020 22:00:00\", \"02/17/2020 22:00:00\"], \"xaxis\": \"x\", \"y\": [1.0, 1.0, 2.0, 2.0, 5.0, 5.0, 5.0, 5.0, 6.0, 7.0, 8.0, 9.0, 11.0, 11.0, 11.0, 12.0, 12.0, 12.0, 12.0, 12.0, 13.0, 13.0, 15.0, 15.0, 15.0, 15.0, 15.0], \"yaxis\": \"y\"}, {\"alignmentgroup\": \"True\", \"hoverlabel\": {\"namelength\": 0}, \"hovertemplate\": \"Country=Thailand<br>Date=%{x}<br>Confirmed=%{text}\", \"legendgroup\": \"Thailand\", \"marker\": {\"color\": \"#ab63fa\"}, \"name\": \"Thailand\", \"offsetgroup\": \"Thailand\", \"orientation\": \"v\", \"showlegend\": true, \"text\": [2.0, 3.0, 5.0, 7.0, 8.0, 8.0, 14.0, 14.0, 14.0, 19.0, 19.0, 19.0, 19.0, 25.0, 25.0, 25.0, 25.0, 32.0, 32.0, 32.0, 33.0, 33.0, 33.0, 33.0, 33.0, 34.0, 35.0], \"textposition\": \"auto\", \"type\": \"bar\", \"x\": [\"01/22/2020 12:00:00\", \"01/23/2020 12:00:00\", \"01/24/2020 12:00:00\", \"01/25/2020 22:00:00\", \"01/26/2020 23:00:00\", \"01/27/2020 20:30:00\", \"01/28/2020 23:00:00\", \"01/29/2020 21:00:00\", \"01/30/2020 21:30:00\", \"01/31/2020 19:00:00\", \"02/01/2020 23:00:00\", \"02/02/2020 21:00:00\", \"02/03/2020 21:40:00\", \"02/04/2020 22:00:00\", \"02/05/2020 12:20:00\", \"02/06/2020 20:05:00\", \"02/07/2020 20:24:00\", \"02/08/2020 23:04:00\", \"02/09/2020 23:20:00\", \"02/10/2020 19:30:00\", \"02/11/2020 20:44:00\", \"02/12/2020 22:00:00\", \"02/13/2020 21:15:00\", \"02/14/2020 22:00:00\", \"02/15/2020 22:00:00\", \"02/16/2020 22:00:00\", \"02/17/2020 22:00:00\"], \"xaxis\": \"x\", \"y\": [2.0, 3.0, 5.0, 7.0, 8.0, 8.0, 14.0, 14.0, 14.0, 19.0, 19.0, 19.0, 19.0, 25.0, 25.0, 25.0, 25.0, 32.0, 32.0, 32.0, 33.0, 33.0, 33.0, 33.0, 33.0, 34.0, 35.0], \"yaxis\": \"y\"}, {\"alignmentgroup\": \"True\", \"hoverlabel\": {\"namelength\": 0}, \"hovertemplate\": \"Country=South Korea<br>Date=%{x}<br>Confirmed=%{text}\", \"legendgroup\": \"South Korea\", \"marker\": {\"color\": \"#FFA15A\"}, \"name\": \"South Korea\", \"offsetgroup\": \"South Korea\", \"orientation\": \"v\", \"showlegend\": true, \"text\": [1.0, 1.0, 2.0, 3.0, 3.0, 4.0, 4.0, 4.0, 6.0, 11.0, 15.0, 15.0, 15.0, 16.0, 19.0, 23.0, 24.0, 25.0, 27.0, 27.0, 28.0, 28.0, 28.0, 28.0, 28.0, 29.0, 30.0], \"textposition\": \"auto\", \"type\": \"bar\", \"x\": [\"01/22/2020 12:00:00\", \"01/23/2020 12:00:00\", \"01/24/2020 12:00:00\", \"01/25/2020 22:00:00\", \"01/26/2020 23:00:00\", \"01/27/2020 20:30:00\", \"01/28/2020 23:00:00\", \"01/29/2020 21:00:00\", \"01/30/2020 21:30:00\", \"01/31/2020 19:00:00\", \"02/01/2020 23:00:00\", \"02/02/2020 21:00:00\", \"02/03/2020 21:40:00\", \"02/04/2020 22:00:00\", \"02/05/2020 12:20:00\", \"02/06/2020 20:05:00\", \"02/07/2020 20:24:00\", \"02/08/2020 23:04:00\", \"02/09/2020 23:20:00\", \"02/10/2020 19:30:00\", \"02/11/2020 20:44:00\", \"02/12/2020 22:00:00\", \"02/13/2020 21:15:00\", \"02/14/2020 22:00:00\", \"02/15/2020 22:00:00\", \"02/16/2020 22:00:00\", \"02/17/2020 22:00:00\"], \"xaxis\": \"x\", \"y\": [1.0, 1.0, 2.0, 3.0, 3.0, 4.0, 4.0, 4.0, 6.0, 11.0, 15.0, 15.0, 15.0, 16.0, 19.0, 23.0, 24.0, 25.0, 27.0, 27.0, 28.0, 28.0, 28.0, 28.0, 28.0, 29.0, 30.0], \"yaxis\": \"y\"}, {\"alignmentgroup\": \"True\", \"hoverlabel\": {\"namelength\": 0}, \"hovertemplate\": \"Country=Brazil<br>Date=%{x}<br>Confirmed=%{text}\", \"legendgroup\": \"Brazil\", \"marker\": {\"color\": \"#19d3f3\"}, \"name\": \"Brazil\", \"offsetgroup\": \"Brazil\", \"orientation\": \"v\", \"showlegend\": true, \"text\": [0.0], \"textposition\": \"auto\", \"type\": \"bar\", \"x\": [\"01/23/2020 12:00:00\"], \"xaxis\": \"x\", \"y\": [0.0], \"yaxis\": \"y\"}, {\"alignmentgroup\": \"True\", \"hoverlabel\": {\"namelength\": 0}, \"hovertemplate\": \"Country=Hong Kong<br>Date=%{x}<br>Confirmed=%{text}\", \"legendgroup\": \"Hong Kong\", \"marker\": {\"color\": \"#FF6692\"}, \"name\": \"Hong Kong\", \"offsetgroup\": \"Hong Kong\", \"orientation\": \"v\", \"showlegend\": true, \"text\": [2.0, 2.0, 5.0, 8.0, 8.0, 8.0, 10.0, 12.0, 13.0, 14.0, 15.0, 15.0, 18.0, 21.0, 24.0, 25.0, 26.0, 36.0, 38.0, 49.0, 50.0, 53.0, 56.0, 56.0, 57.0, 60.0], \"textposition\": \"auto\", \"type\": \"bar\", \"x\": [\"01/23/2020 12:00:00\", \"01/24/2020 12:00:00\", \"01/25/2020 22:00:00\", \"01/26/2020 23:00:00\", \"01/27/2020 20:30:00\", \"01/28/2020 23:00:00\", \"01/29/2020 21:00:00\", \"01/30/2020 21:30:00\", \"01/31/2020 19:00:00\", \"02/01/2020 23:00:00\", \"02/02/2020 21:00:00\", \"02/03/2020 21:40:00\", \"02/04/2020 22:00:00\", \"02/05/2020 12:20:00\", \"02/06/2020 20:05:00\", \"02/07/2020 20:24:00\", \"02/08/2020 23:04:00\", \"02/09/2020 23:20:00\", \"02/10/2020 19:30:00\", \"02/11/2020 20:44:00\", \"02/12/2020 22:00:00\", \"02/13/2020 21:15:00\", \"02/14/2020 22:00:00\", \"02/15/2020 22:00:00\", \"02/16/2020 22:00:00\", \"02/17/2020 22:00:00\"], \"xaxis\": \"x\", \"y\": [2.0, 2.0, 5.0, 8.0, 8.0, 8.0, 10.0, 12.0, 13.0, 14.0, 15.0, 15.0, 18.0, 21.0, 24.0, 25.0, 26.0, 36.0, 38.0, 49.0, 50.0, 53.0, 56.0, 56.0, 57.0, 60.0], \"yaxis\": \"y\"}, {\"alignmentgroup\": \"True\", \"hoverlabel\": {\"namelength\": 0}, \"hovertemplate\": \"Country=Macau<br>Date=%{x}<br>Confirmed=%{text}\", \"legendgroup\": \"Macau\", \"marker\": {\"color\": \"#B6E880\"}, \"name\": \"Macau\", \"offsetgroup\": \"Macau\", \"orientation\": \"v\", \"showlegend\": true, \"text\": [2.0, 2.0, 2.0, 6.0, 6.0, 7.0, 7.0, 7.0, 7.0, 7.0, 8.0, 8.0, 10.0, 10.0, 10.0, 10.0, 10.0, 10.0, 10.0, 10.0, 10.0, 10.0, 10.0, 10.0, 10.0, 10.0], \"textposition\": \"auto\", \"type\": \"bar\", \"x\": [\"01/23/2020 12:00:00\", \"01/24/2020 12:00:00\", \"01/25/2020 22:00:00\", \"01/26/2020 23:00:00\", \"01/27/2020 20:30:00\", \"01/28/2020 23:00:00\", \"01/29/2020 21:00:00\", \"01/30/2020 21:30:00\", \"01/31/2020 19:00:00\", \"02/01/2020 23:00:00\", \"02/02/2020 21:00:00\", \"02/03/2020 21:40:00\", \"02/04/2020 22:00:00\", \"02/05/2020 12:20:00\", \"02/06/2020 20:05:00\", \"02/07/2020 20:24:00\", \"02/08/2020 23:04:00\", \"02/09/2020 23:20:00\", \"02/10/2020 19:30:00\", \"02/11/2020 20:44:00\", \"02/12/2020 22:00:00\", \"02/13/2020 21:15:00\", \"02/14/2020 22:00:00\", \"02/15/2020 22:00:00\", \"02/16/2020 22:00:00\", \"02/17/2020 22:00:00\"], \"xaxis\": \"x\", \"y\": [2.0, 2.0, 2.0, 6.0, 6.0, 7.0, 7.0, 7.0, 7.0, 7.0, 8.0, 8.0, 10.0, 10.0, 10.0, 10.0, 10.0, 10.0, 10.0, 10.0, 10.0, 10.0, 10.0, 10.0, 10.0, 10.0], \"yaxis\": \"y\"}, {\"alignmentgroup\": \"True\", \"hoverlabel\": {\"namelength\": 0}, \"hovertemplate\": \"Country=Malaysia<br>Date=%{x}<br>Confirmed=%{text}\", \"legendgroup\": \"Malaysia\", \"marker\": {\"color\": \"#FF97FF\"}, \"name\": \"Malaysia\", \"offsetgroup\": \"Malaysia\", \"orientation\": \"v\", \"showlegend\": true, \"text\": [0.0, 3.0, 4.0, 4.0, 7.0, 7.0, 8.0, 8.0, 8.0, 8.0, 8.0, 10.0, 12.0, 12.0, 12.0, 16.0, 18.0, 18.0, 18.0, 18.0, 19.0, 19.0, 22.0, 22.0, 22.0], \"textposition\": \"auto\", \"type\": \"bar\", \"x\": [\"01/23/2020 12:00:00\", \"01/25/2020 22:00:00\", \"01/26/2020 23:00:00\", \"01/27/2020 20:30:00\", \"01/28/2020 23:00:00\", \"01/29/2020 21:00:00\", \"01/30/2020 21:30:00\", \"01/31/2020 19:00:00\", \"02/01/2020 23:00:00\", \"02/02/2020 21:00:00\", \"02/03/2020 21:40:00\", \"02/04/2020 22:00:00\", \"02/05/2020 12:20:00\", \"02/06/2020 20:05:00\", \"02/07/2020 20:24:00\", \"02/08/2020 23:04:00\", \"02/09/2020 23:20:00\", \"02/10/2020 19:30:00\", \"02/11/2020 20:44:00\", \"02/12/2020 22:00:00\", \"02/13/2020 21:15:00\", \"02/14/2020 22:00:00\", \"02/15/2020 22:00:00\", \"02/16/2020 22:00:00\", \"02/17/2020 22:00:00\"], \"xaxis\": \"x\", \"y\": [0.0, 3.0, 4.0, 4.0, 7.0, 7.0, 8.0, 8.0, 8.0, 8.0, 8.0, 10.0, 12.0, 12.0, 12.0, 16.0, 18.0, 18.0, 18.0, 18.0, 19.0, 19.0, 22.0, 22.0, 22.0], \"yaxis\": \"y\"}, {\"alignmentgroup\": \"True\", \"hoverlabel\": {\"namelength\": 0}, \"hovertemplate\": \"Country=Mexico<br>Date=%{x}<br>Confirmed=%{text}\", \"legendgroup\": \"Mexico\", \"marker\": {\"color\": \"#FECB52\"}, \"name\": \"Mexico\", \"offsetgroup\": \"Mexico\", \"orientation\": \"v\", \"showlegend\": true, \"text\": [0.0], \"textposition\": \"auto\", \"type\": \"bar\", \"x\": [\"01/23/2020 12:00:00\"], \"xaxis\": \"x\", \"y\": [0.0], \"yaxis\": \"y\"}, {\"alignmentgroup\": \"True\", \"hoverlabel\": {\"namelength\": 0}, \"hovertemplate\": \"Country=Philippines<br>Date=%{x}<br>Confirmed=%{text}\", \"legendgroup\": \"Philippines\", \"marker\": {\"color\": \"#636efa\"}, \"name\": \"Philippines\", \"offsetgroup\": \"Philippines\", \"orientation\": \"v\", \"showlegend\": true, \"text\": [0.0, 1.0, 1.0, 2.0, 2.0, 2.0, 2.0, 2.0, 2.0, 3.0, 3.0, 3.0, 3.0, 3.0, 3.0, 3.0, 3.0, 3.0, 3.0, 3.0], \"textposition\": \"auto\", \"type\": \"bar\", \"x\": [\"01/23/2020 12:00:00\", \"01/30/2020 21:30:00\", \"01/31/2020 19:00:00\", \"02/01/2020 23:00:00\", \"02/02/2020 21:00:00\", \"02/03/2020 21:40:00\", \"02/04/2020 22:00:00\", \"02/05/2020 12:20:00\", \"02/06/2020 20:05:00\", \"02/07/2020 20:24:00\", \"02/08/2020 23:04:00\", \"02/09/2020 23:20:00\", \"02/10/2020 19:30:00\", \"02/11/2020 20:44:00\", \"02/12/2020 22:00:00\", \"02/13/2020 21:15:00\", \"02/14/2020 22:00:00\", \"02/15/2020 22:00:00\", \"02/16/2020 22:00:00\", \"02/17/2020 22:00:00\"], \"xaxis\": \"x\", \"y\": [0.0, 1.0, 1.0, 2.0, 2.0, 2.0, 2.0, 2.0, 2.0, 3.0, 3.0, 3.0, 3.0, 3.0, 3.0, 3.0, 3.0, 3.0, 3.0, 3.0], \"yaxis\": \"y\"}, {\"alignmentgroup\": \"True\", \"hoverlabel\": {\"namelength\": 0}, \"hovertemplate\": \"Country=Australia<br>Date=%{x}<br>Confirmed=%{text}\", \"legendgroup\": \"Australia\", \"marker\": {\"color\": \"#EF553B\"}, \"name\": \"Australia\", \"offsetgroup\": \"Australia\", \"orientation\": \"v\", \"showlegend\": true, \"text\": [0.0, 4.0, 4.0, 5.0, 5.0, 7.0, 9.0, 9.0, 12.0, 12.0, 12.0, 13.0, 13.0, 14.0, 15.0, 15.0, 15.0, 15.0, 15.0, 15.0, 15.0, 15.0, 15.0, 15.0, 15.0], \"textposition\": \"auto\", \"type\": \"bar\", \"x\": [\"01/23/2020 12:00:00\", \"01/25/2020 22:00:00\", \"01/26/2020 23:00:00\", \"01/27/2020 20:30:00\", \"01/28/2020 23:00:00\", \"01/29/2020 21:00:00\", \"01/30/2020 21:30:00\", \"01/31/2020 19:00:00\", \"02/01/2020 23:00:00\", \"02/02/2020 21:00:00\", \"02/03/2020 21:40:00\", \"02/04/2020 22:00:00\", \"02/05/2020 12:20:00\", \"02/06/2020 20:05:00\", \"02/07/2020 20:24:00\", \"02/08/2020 23:04:00\", \"02/09/2020 23:20:00\", \"02/10/2020 19:30:00\", \"02/11/2020 20:44:00\", \"02/12/2020 22:00:00\", \"02/13/2020 21:15:00\", \"02/14/2020 22:00:00\", \"02/15/2020 22:00:00\", \"02/16/2020 22:00:00\", \"02/17/2020 22:00:00\"], \"xaxis\": \"x\", \"y\": [0.0, 4.0, 4.0, 5.0, 5.0, 7.0, 9.0, 9.0, 12.0, 12.0, 12.0, 13.0, 13.0, 14.0, 15.0, 15.0, 15.0, 15.0, 15.0, 15.0, 15.0, 15.0, 15.0, 15.0, 15.0], \"yaxis\": \"y\"}, {\"alignmentgroup\": \"True\", \"hoverlabel\": {\"namelength\": 0}, \"hovertemplate\": \"Country=Singapore<br>Date=%{x}<br>Confirmed=%{text}\", \"legendgroup\": \"Singapore\", \"marker\": {\"color\": \"#00cc96\"}, \"name\": \"Singapore\", \"offsetgroup\": \"Singapore\", \"orientation\": \"v\", \"showlegend\": true, \"text\": [1.0, 3.0, 3.0, 4.0, 5.0, 7.0, 10.0, 10.0, 16.0, 18.0, 18.0, 18.0, 24.0, 28.0, 28.0, 30.0, 40.0, 43.0, 45.0, 47.0, 50.0, 58.0, 67.0, 72.0, 75.0, 77.0], \"textposition\": \"auto\", \"type\": \"bar\", \"x\": [\"01/23/2020 12:00:00\", \"01/24/2020 12:00:00\", \"01/25/2020 22:00:00\", \"01/26/2020 23:00:00\", \"01/27/2020 20:30:00\", \"01/28/2020 23:00:00\", \"01/29/2020 21:00:00\", \"01/30/2020 21:30:00\", \"01/31/2020 19:00:00\", \"02/01/2020 23:00:00\", \"02/02/2020 21:00:00\", \"02/03/2020 21:40:00\", \"02/04/2020 22:00:00\", \"02/05/2020 12:20:00\", \"02/06/2020 20:05:00\", \"02/07/2020 20:24:00\", \"02/08/2020 23:04:00\", \"02/09/2020 23:20:00\", \"02/10/2020 19:30:00\", \"02/11/2020 20:44:00\", \"02/12/2020 22:00:00\", \"02/13/2020 21:15:00\", \"02/14/2020 22:00:00\", \"02/15/2020 22:00:00\", \"02/16/2020 22:00:00\", \"02/17/2020 22:00:00\"], \"xaxis\": \"x\", \"y\": [1.0, 3.0, 3.0, 4.0, 5.0, 7.0, 10.0, 10.0, 16.0, 18.0, 18.0, 18.0, 24.0, 28.0, 28.0, 30.0, 40.0, 43.0, 45.0, 47.0, 50.0, 58.0, 67.0, 72.0, 75.0, 77.0], \"yaxis\": \"y\"}, {\"alignmentgroup\": \"True\", \"hoverlabel\": {\"namelength\": 0}, \"hovertemplate\": \"Country=Vietnam<br>Date=%{x}<br>Confirmed=%{text}\", \"legendgroup\": \"Vietnam\", \"marker\": {\"color\": \"#ab63fa\"}, \"name\": \"Vietnam\", \"offsetgroup\": \"Vietnam\", \"orientation\": \"v\", \"showlegend\": true, \"text\": [2.0, 2.0, 2.0, 2.0, 2.0, 2.0, 2.0, 2.0, 2.0, 6.0, 6.0, 8.0, 8.0, 8.0, 10.0, 10.0, 13.0, 14.0, 14.0, 15.0, 15.0, 16.0, 16.0, 16.0, 16.0, 16.0], \"textposition\": \"auto\", \"type\": \"bar\", \"x\": [\"01/23/2020 12:00:00\", \"01/24/2020 12:00:00\", \"01/25/2020 22:00:00\", \"01/26/2020 23:00:00\", \"01/27/2020 20:30:00\", \"01/28/2020 23:00:00\", \"01/29/2020 21:00:00\", \"01/30/2020 21:30:00\", \"01/31/2020 19:00:00\", \"02/01/2020 23:00:00\", \"02/02/2020 21:00:00\", \"02/03/2020 21:40:00\", \"02/04/2020 22:00:00\", \"02/05/2020 12:20:00\", \"02/06/2020 20:05:00\", \"02/07/2020 20:24:00\", \"02/08/2020 23:04:00\", \"02/09/2020 23:20:00\", \"02/10/2020 19:30:00\", \"02/11/2020 20:44:00\", \"02/12/2020 22:00:00\", \"02/13/2020 21:15:00\", \"02/14/2020 22:00:00\", \"02/15/2020 22:00:00\", \"02/16/2020 22:00:00\", \"02/17/2020 22:00:00\"], \"xaxis\": \"x\", \"y\": [2.0, 2.0, 2.0, 2.0, 2.0, 2.0, 2.0, 2.0, 2.0, 6.0, 6.0, 8.0, 8.0, 8.0, 10.0, 10.0, 13.0, 14.0, 14.0, 15.0, 15.0, 16.0, 16.0, 16.0, 16.0, 16.0], \"yaxis\": \"y\"}, {\"alignmentgroup\": \"True\", \"hoverlabel\": {\"namelength\": 0}, \"hovertemplate\": \"Country=Taiwan<br>Date=%{x}<br>Confirmed=%{text}\", \"legendgroup\": \"Taiwan\", \"marker\": {\"color\": \"#FFA15A\"}, \"name\": \"Taiwan\", \"offsetgroup\": \"Taiwan\", \"orientation\": \"v\", \"showlegend\": true, \"text\": [1.0, 3.0, 3.0, 4.0, 5.0, 8.0, 8.0, 9.0, 10.0, 10.0, 10.0, 10.0, 11.0, 11.0, 16.0, 16.0, 17.0, 18.0, 18.0, 18.0, 18.0, 18.0, 18.0, 18.0, 20.0, 22.0], \"textposition\": \"auto\", \"type\": \"bar\", \"x\": [\"01/23/2020 12:00:00\", \"01/24/2020 12:00:00\", \"01/25/2020 22:00:00\", \"01/26/2020 23:00:00\", \"01/27/2020 20:30:00\", \"01/28/2020 23:00:00\", \"01/29/2020 21:00:00\", \"01/30/2020 21:30:00\", \"01/31/2020 19:00:00\", \"02/01/2020 23:00:00\", \"02/02/2020 21:00:00\", \"02/03/2020 21:40:00\", \"02/04/2020 22:00:00\", \"02/05/2020 12:20:00\", \"02/06/2020 20:05:00\", \"02/07/2020 20:24:00\", \"02/08/2020 23:04:00\", \"02/09/2020 23:20:00\", \"02/10/2020 19:30:00\", \"02/11/2020 20:44:00\", \"02/12/2020 22:00:00\", \"02/13/2020 21:15:00\", \"02/14/2020 22:00:00\", \"02/15/2020 22:00:00\", \"02/16/2020 22:00:00\", \"02/17/2020 22:00:00\"], \"xaxis\": \"x\", \"y\": [1.0, 3.0, 3.0, 4.0, 5.0, 8.0, 8.0, 9.0, 10.0, 10.0, 10.0, 10.0, 11.0, 11.0, 16.0, 16.0, 17.0, 18.0, 18.0, 18.0, 18.0, 18.0, 18.0, 18.0, 20.0, 22.0], \"yaxis\": \"y\"}, {\"alignmentgroup\": \"True\", \"hoverlabel\": {\"namelength\": 0}, \"hovertemplate\": \"Country=France<br>Date=%{x}<br>Confirmed=%{text}\", \"legendgroup\": \"France\", \"marker\": {\"color\": \"#19d3f3\"}, \"name\": \"France\", \"offsetgroup\": \"France\", \"orientation\": \"v\", \"showlegend\": true, \"text\": [2.0, 3.0, 3.0, 3.0, 4.0, 5.0, 5.0, 6.0, 6.0, 6.0, 6.0, 6.0, 6.0, 6.0, 6.0, 11.0, 11.0, 11.0, 11.0, 11.0, 11.0, 11.0, 12.0, 12.0, 12.0], \"textposition\": \"auto\", \"type\": \"bar\", \"x\": [\"01/24/2020 12:00:00\", \"01/25/2020 22:00:00\", \"01/26/2020 23:00:00\", \"01/27/2020 20:30:00\", \"01/28/2020 23:00:00\", \"01/29/2020 21:00:00\", \"01/30/2020 21:30:00\", \"01/31/2020 19:00:00\", \"02/01/2020 23:00:00\", \"02/02/2020 21:00:00\", \"02/03/2020 21:40:00\", \"02/04/2020 22:00:00\", \"02/05/2020 12:20:00\", \"02/06/2020 20:05:00\", \"02/07/2020 20:24:00\", \"02/08/2020 23:04:00\", \"02/09/2020 23:20:00\", \"02/10/2020 19:30:00\", \"02/11/2020 20:44:00\", \"02/12/2020 22:00:00\", \"02/13/2020 21:15:00\", \"02/14/2020 22:00:00\", \"02/15/2020 22:00:00\", \"02/16/2020 22:00:00\", \"02/17/2020 22:00:00\"], \"xaxis\": \"x\", \"y\": [2.0, 3.0, 3.0, 3.0, 4.0, 5.0, 5.0, 6.0, 6.0, 6.0, 6.0, 6.0, 6.0, 6.0, 6.0, 11.0, 11.0, 11.0, 11.0, 11.0, 11.0, 11.0, 12.0, 12.0, 12.0], \"yaxis\": \"y\"}, {\"alignmentgroup\": \"True\", \"hoverlabel\": {\"namelength\": 0}, \"hovertemplate\": \"Country=Nepal<br>Date=%{x}<br>Confirmed=%{text}\", \"legendgroup\": \"Nepal\", \"marker\": {\"color\": \"#FF6692\"}, \"name\": \"Nepal\", \"offsetgroup\": \"Nepal\", \"orientation\": \"v\", \"showlegend\": true, \"text\": [1.0, 1.0, 1.0, 1.0, 1.0, 1.0, 1.0, 1.0, 1.0, 1.0, 1.0, 1.0, 1.0, 1.0, 1.0, 1.0, 1.0, 1.0, 1.0, 1.0, 1.0, 1.0, 1.0, 1.0], \"textposition\": \"auto\", \"type\": \"bar\", \"x\": [\"01/25/2020 22:00:00\", \"01/26/2020 23:00:00\", \"01/27/2020 20:30:00\", \"01/28/2020 23:00:00\", \"01/29/2020 21:00:00\", \"01/30/2020 21:30:00\", \"01/31/2020 19:00:00\", \"02/01/2020 23:00:00\", \"02/02/2020 21:00:00\", \"02/03/2020 21:40:00\", \"02/04/2020 22:00:00\", \"02/05/2020 12:20:00\", \"02/06/2020 20:05:00\", \"02/07/2020 20:24:00\", \"02/08/2020 23:04:00\", \"02/09/2020 23:20:00\", \"02/10/2020 19:30:00\", \"02/11/2020 20:44:00\", \"02/12/2020 22:00:00\", \"02/13/2020 21:15:00\", \"02/14/2020 22:00:00\", \"02/15/2020 22:00:00\", \"02/16/2020 22:00:00\", \"02/17/2020 22:00:00\"], \"xaxis\": \"x\", \"y\": [1.0, 1.0, 1.0, 1.0, 1.0, 1.0, 1.0, 1.0, 1.0, 1.0, 1.0, 1.0, 1.0, 1.0, 1.0, 1.0, 1.0, 1.0, 1.0, 1.0, 1.0, 1.0, 1.0, 1.0], \"yaxis\": \"y\"}, {\"alignmentgroup\": \"True\", \"hoverlabel\": {\"namelength\": 0}, \"hovertemplate\": \"Country=Canada<br>Date=%{x}<br>Confirmed=%{text}\", \"legendgroup\": \"Canada\", \"marker\": {\"color\": \"#B6E880\"}, \"name\": \"Canada\", \"offsetgroup\": \"Canada\", \"orientation\": \"v\", \"showlegend\": true, \"text\": [1.0, 1.0, 2.0, 3.0, 3.0, 3.0, 4.0, 4.0, 4.0, 4.0, 4.0, 5.0, 7.0, 7.0, 7.0, 7.0, 7.0, 7.0, 7.0, 7.0, 7.0, 7.0, 8.0], \"textposition\": \"auto\", \"type\": \"bar\", \"x\": [\"01/26/2020 23:00:00\", \"01/27/2020 20:30:00\", \"01/28/2020 23:00:00\", \"01/29/2020 21:00:00\", \"01/30/2020 21:30:00\", \"01/31/2020 19:00:00\", \"02/01/2020 23:00:00\", \"02/02/2020 21:00:00\", \"02/03/2020 21:40:00\", \"02/04/2020 22:00:00\", \"02/05/2020 12:20:00\", \"02/06/2020 20:05:00\", \"02/07/2020 20:24:00\", \"02/08/2020 23:04:00\", \"02/09/2020 23:20:00\", \"02/10/2020 19:30:00\", \"02/11/2020 20:44:00\", \"02/12/2020 22:00:00\", \"02/13/2020 21:15:00\", \"02/14/2020 22:00:00\", \"02/15/2020 22:00:00\", \"02/16/2020 22:00:00\", \"02/17/2020 22:00:00\"], \"xaxis\": \"x\", \"y\": [1.0, 1.0, 2.0, 3.0, 3.0, 3.0, 4.0, 4.0, 4.0, 4.0, 4.0, 5.0, 7.0, 7.0, 7.0, 7.0, 7.0, 7.0, 7.0, 7.0, 7.0, 7.0, 8.0], \"yaxis\": \"y\"}, {\"alignmentgroup\": \"True\", \"hoverlabel\": {\"namelength\": 0}, \"hovertemplate\": \"Country=Cambodia<br>Date=%{x}<br>Confirmed=%{text}\", \"legendgroup\": \"Cambodia\", \"marker\": {\"color\": \"#FF97FF\"}, \"name\": \"Cambodia\", \"offsetgroup\": \"Cambodia\", \"orientation\": \"v\", \"showlegend\": true, \"text\": [1.0, 1.0, 1.0, 1.0, 1.0, 1.0, 1.0, 1.0, 1.0, 1.0, 1.0, 1.0, 1.0, 1.0, 1.0, 1.0, 1.0, 1.0, 1.0, 1.0, 1.0, 1.0], \"textposition\": \"auto\", \"type\": \"bar\", \"x\": [\"01/27/2020 20:30:00\", \"01/28/2020 23:00:00\", \"01/29/2020 21:00:00\", \"01/30/2020 21:30:00\", \"01/31/2020 19:00:00\", \"02/01/2020 23:00:00\", \"02/02/2020 21:00:00\", \"02/03/2020 21:40:00\", \"02/04/2020 22:00:00\", \"02/05/2020 12:20:00\", \"02/06/2020 20:05:00\", \"02/07/2020 20:24:00\", \"02/08/2020 23:04:00\", \"02/09/2020 23:20:00\", \"02/10/2020 19:30:00\", \"02/11/2020 20:44:00\", \"02/12/2020 22:00:00\", \"02/13/2020 21:15:00\", \"02/14/2020 22:00:00\", \"02/15/2020 22:00:00\", \"02/16/2020 22:00:00\", \"02/17/2020 22:00:00\"], \"xaxis\": \"x\", \"y\": [1.0, 1.0, 1.0, 1.0, 1.0, 1.0, 1.0, 1.0, 1.0, 1.0, 1.0, 1.0, 1.0, 1.0, 1.0, 1.0, 1.0, 1.0, 1.0, 1.0, 1.0, 1.0], \"yaxis\": \"y\"}, {\"alignmentgroup\": \"True\", \"hoverlabel\": {\"namelength\": 0}, \"hovertemplate\": \"Country=Ivory Coast<br>Date=%{x}<br>Confirmed=%{text}\", \"legendgroup\": \"Ivory Coast\", \"marker\": {\"color\": \"#FECB52\"}, \"name\": \"Ivory Coast\", \"offsetgroup\": \"Ivory Coast\", \"orientation\": \"v\", \"showlegend\": true, \"text\": [0.0], \"textposition\": \"auto\", \"type\": \"bar\", \"x\": [\"01/27/2020 20:30:00\"], \"xaxis\": \"x\", \"y\": [0.0], \"yaxis\": \"y\"}, {\"alignmentgroup\": \"True\", \"hoverlabel\": {\"namelength\": 0}, \"hovertemplate\": \"Country=Germany<br>Date=%{x}<br>Confirmed=%{text}\", \"legendgroup\": \"Germany\", \"marker\": {\"color\": \"#636efa\"}, \"name\": \"Germany\", \"offsetgroup\": \"Germany\", \"orientation\": \"v\", \"showlegend\": true, \"text\": [1.0, 4.0, 4.0, 4.0, 7.0, 8.0, 10.0, 12.0, 12.0, 12.0, 12.0, 13.0, 13.0, 14.0, 14.0, 16.0, 16.0, 16.0, 16.0, 16.0, 16.0, 16.0], \"textposition\": \"auto\", \"type\": \"bar\", \"x\": [\"01/27/2020 20:30:00\", \"01/28/2020 23:00:00\", \"01/29/2020 21:00:00\", \"01/30/2020 21:30:00\", \"01/31/2020 19:00:00\", \"02/01/2020 23:00:00\", \"02/02/2020 21:00:00\", \"02/03/2020 21:40:00\", \"02/04/2020 22:00:00\", \"02/05/2020 12:20:00\", \"02/06/2020 20:05:00\", \"02/07/2020 20:24:00\", \"02/08/2020 23:04:00\", \"02/09/2020 23:20:00\", \"02/10/2020 19:30:00\", \"02/11/2020 20:44:00\", \"02/12/2020 22:00:00\", \"02/13/2020 21:15:00\", \"02/14/2020 22:00:00\", \"02/15/2020 22:00:00\", \"02/16/2020 22:00:00\", \"02/17/2020 22:00:00\"], \"xaxis\": \"x\", \"y\": [1.0, 4.0, 4.0, 4.0, 7.0, 8.0, 10.0, 12.0, 12.0, 12.0, 12.0, 13.0, 13.0, 14.0, 14.0, 16.0, 16.0, 16.0, 16.0, 16.0, 16.0, 16.0], \"yaxis\": \"y\"}, {\"alignmentgroup\": \"True\", \"hoverlabel\": {\"namelength\": 0}, \"hovertemplate\": \"Country=Sri Lanka<br>Date=%{x}<br>Confirmed=%{text}\", \"legendgroup\": \"Sri Lanka\", \"marker\": {\"color\": \"#EF553B\"}, \"name\": \"Sri Lanka\", \"offsetgroup\": \"Sri Lanka\", \"orientation\": \"v\", \"showlegend\": true, \"text\": [1.0, 1.0, 1.0, 1.0, 1.0, 1.0, 1.0, 1.0, 1.0, 1.0, 1.0, 1.0, 1.0, 1.0, 1.0, 1.0, 1.0, 1.0, 1.0, 1.0, 1.0, 1.0], \"textposition\": \"auto\", \"type\": \"bar\", \"x\": [\"01/27/2020 20:30:00\", \"01/28/2020 23:00:00\", \"01/29/2020 21:00:00\", \"01/30/2020 21:30:00\", \"01/31/2020 19:00:00\", \"02/01/2020 23:00:00\", \"02/02/2020 21:00:00\", \"02/03/2020 21:40:00\", \"02/04/2020 22:00:00\", \"02/05/2020 12:20:00\", \"02/06/2020 20:05:00\", \"02/07/2020 20:24:00\", \"02/08/2020 23:04:00\", \"02/09/2020 23:20:00\", \"02/10/2020 19:30:00\", \"02/11/2020 20:44:00\", \"02/12/2020 22:00:00\", \"02/13/2020 21:15:00\", \"02/14/2020 22:00:00\", \"02/15/2020 22:00:00\", \"02/16/2020 22:00:00\", \"02/17/2020 22:00:00\"], \"xaxis\": \"x\", \"y\": [1.0, 1.0, 1.0, 1.0, 1.0, 1.0, 1.0, 1.0, 1.0, 1.0, 1.0, 1.0, 1.0, 1.0, 1.0, 1.0, 1.0, 1.0, 1.0, 1.0, 1.0, 1.0], \"yaxis\": \"y\"}, {\"alignmentgroup\": \"True\", \"hoverlabel\": {\"namelength\": 0}, \"hovertemplate\": \"Country=Finland<br>Date=%{x}<br>Confirmed=%{text}\", \"legendgroup\": \"Finland\", \"marker\": {\"color\": \"#00cc96\"}, \"name\": \"Finland\", \"offsetgroup\": \"Finland\", \"orientation\": \"v\", \"showlegend\": true, \"text\": [1.0, 1.0, 1.0, 1.0, 1.0, 1.0, 1.0, 1.0, 1.0, 1.0, 1.0, 1.0, 1.0, 1.0, 1.0, 1.0, 1.0, 1.0, 1.0, 1.0], \"textposition\": \"auto\", \"type\": \"bar\", \"x\": [\"01/29/2020 21:00:00\", \"01/30/2020 21:30:00\", \"01/31/2020 19:00:00\", \"02/01/2020 23:00:00\", \"02/02/2020 21:00:00\", \"02/03/2020 21:40:00\", \"02/04/2020 22:00:00\", \"02/05/2020 12:20:00\", \"02/06/2020 20:05:00\", \"02/07/2020 20:24:00\", \"02/08/2020 23:04:00\", \"02/09/2020 23:20:00\", \"02/10/2020 19:30:00\", \"02/11/2020 20:44:00\", \"02/12/2020 22:00:00\", \"02/13/2020 21:15:00\", \"02/14/2020 22:00:00\", \"02/15/2020 22:00:00\", \"02/16/2020 22:00:00\", \"02/17/2020 22:00:00\"], \"xaxis\": \"x\", \"y\": [1.0, 1.0, 1.0, 1.0, 1.0, 1.0, 1.0, 1.0, 1.0, 1.0, 1.0, 1.0, 1.0, 1.0, 1.0, 1.0, 1.0, 1.0, 1.0, 1.0], \"yaxis\": \"y\"}, {\"alignmentgroup\": \"True\", \"hoverlabel\": {\"namelength\": 0}, \"hovertemplate\": \"Country=United Arab Emirates<br>Date=%{x}<br>Confirmed=%{text}\", \"legendgroup\": \"United Arab Emirates\", \"marker\": {\"color\": \"#ab63fa\"}, \"name\": \"United Arab Emirates\", \"offsetgroup\": \"United Arab Emirates\", \"orientation\": \"v\", \"showlegend\": true, \"text\": [4.0, 4.0, 4.0, 4.0, 5.0, 5.0, 5.0, 5.0, 5.0, 5.0, 7.0, 7.0, 8.0, 8.0, 8.0, 8.0, 8.0, 8.0, 9.0, 9.0], \"textposition\": \"auto\", \"type\": \"bar\", \"x\": [\"01/29/2020 21:00:00\", \"01/30/2020 21:30:00\", \"01/31/2020 19:00:00\", \"02/01/2020 23:00:00\", \"02/02/2020 21:00:00\", \"02/03/2020 21:40:00\", \"02/04/2020 22:00:00\", \"02/05/2020 12:20:00\", \"02/06/2020 20:05:00\", \"02/07/2020 20:24:00\", \"02/08/2020 23:04:00\", \"02/09/2020 23:20:00\", \"02/10/2020 19:30:00\", \"02/11/2020 20:44:00\", \"02/12/2020 22:00:00\", \"02/13/2020 21:15:00\", \"02/14/2020 22:00:00\", \"02/15/2020 22:00:00\", \"02/16/2020 22:00:00\", \"02/17/2020 22:00:00\"], \"xaxis\": \"x\", \"y\": [4.0, 4.0, 4.0, 4.0, 5.0, 5.0, 5.0, 5.0, 5.0, 5.0, 7.0, 7.0, 8.0, 8.0, 8.0, 8.0, 8.0, 8.0, 9.0, 9.0], \"yaxis\": \"y\"}, {\"alignmentgroup\": \"True\", \"hoverlabel\": {\"namelength\": 0}, \"hovertemplate\": \"Country=India<br>Date=%{x}<br>Confirmed=%{text}\", \"legendgroup\": \"India\", \"marker\": {\"color\": \"#FFA15A\"}, \"name\": \"India\", \"offsetgroup\": \"India\", \"orientation\": \"v\", \"showlegend\": true, \"text\": [1.0, 1.0, 1.0, 2.0, 3.0, 3.0, 3.0, 3.0, 3.0, 3.0, 3.0, 3.0, 3.0, 3.0, 3.0, 3.0, 3.0, 3.0, 3.0], \"textposition\": \"auto\", \"type\": \"bar\", \"x\": [\"01/30/2020 21:30:00\", \"01/31/2020 19:00:00\", \"02/01/2020 23:00:00\", \"02/02/2020 21:00:00\", \"02/03/2020 21:40:00\", \"02/04/2020 22:00:00\", \"02/05/2020 12:20:00\", \"02/06/2020 20:05:00\", \"02/07/2020 20:24:00\", \"02/08/2020 23:04:00\", \"02/09/2020 23:20:00\", \"02/10/2020 19:30:00\", \"02/11/2020 20:44:00\", \"02/12/2020 22:00:00\", \"02/13/2020 21:15:00\", \"02/14/2020 22:00:00\", \"02/15/2020 22:00:00\", \"02/16/2020 22:00:00\", \"02/17/2020 22:00:00\"], \"xaxis\": \"x\", \"y\": [1.0, 1.0, 1.0, 2.0, 3.0, 3.0, 3.0, 3.0, 3.0, 3.0, 3.0, 3.0, 3.0, 3.0, 3.0, 3.0, 3.0, 3.0, 3.0], \"yaxis\": \"y\"}, {\"alignmentgroup\": \"True\", \"hoverlabel\": {\"namelength\": 0}, \"hovertemplate\": \"Country=Italy<br>Date=%{x}<br>Confirmed=%{text}\", \"legendgroup\": \"Italy\", \"marker\": {\"color\": \"#19d3f3\"}, \"name\": \"Italy\", \"offsetgroup\": \"Italy\", \"orientation\": \"v\", \"showlegend\": true, \"text\": [2.0, 2.0, 2.0, 2.0, 2.0, 2.0, 2.0, 2.0, 3.0, 3.0, 3.0, 3.0, 3.0, 3.0, 3.0, 3.0, 3.0, 3.0, 3.0], \"textposition\": \"auto\", \"type\": \"bar\", \"x\": [\"01/30/2020 21:30:00\", \"01/31/2020 19:00:00\", \"02/01/2020 23:00:00\", \"02/02/2020 21:00:00\", \"02/03/2020 21:40:00\", \"02/04/2020 22:00:00\", \"02/05/2020 12:20:00\", \"02/06/2020 20:05:00\", \"02/07/2020 20:24:00\", \"02/08/2020 23:04:00\", \"02/09/2020 23:20:00\", \"02/10/2020 19:30:00\", \"02/11/2020 20:44:00\", \"02/12/2020 22:00:00\", \"02/13/2020 21:15:00\", \"02/14/2020 22:00:00\", \"02/15/2020 22:00:00\", \"02/16/2020 22:00:00\", \"02/17/2020 22:00:00\"], \"xaxis\": \"x\", \"y\": [2.0, 2.0, 2.0, 2.0, 2.0, 2.0, 2.0, 2.0, 3.0, 3.0, 3.0, 3.0, 3.0, 3.0, 3.0, 3.0, 3.0, 3.0, 3.0], \"yaxis\": \"y\"}, {\"alignmentgroup\": \"True\", \"hoverlabel\": {\"namelength\": 0}, \"hovertemplate\": \"Country=Spain<br>Date=%{x}<br>Confirmed=%{text}\", \"legendgroup\": \"Spain\", \"marker\": {\"color\": \"#FF6692\"}, \"name\": \"Spain\", \"offsetgroup\": \"Spain\", \"orientation\": \"v\", \"showlegend\": true, \"text\": [1.0, 1.0, 1.0, 1.0, 1.0, 1.0, 1.0, 1.0, 1.0, 2.0, 2.0, 2.0, 2.0, 2.0, 2.0, 2.0, 2.0, 2.0], \"textposition\": \"auto\", \"type\": \"bar\", \"x\": [\"01/31/2020 19:00:00\", \"02/01/2020 23:00:00\", \"02/02/2020 21:00:00\", \"02/03/2020 21:40:00\", \"02/04/2020 22:00:00\", \"02/05/2020 12:20:00\", \"02/06/2020 20:05:00\", \"02/07/2020 20:24:00\", \"02/08/2020 23:04:00\", \"02/09/2020 23:20:00\", \"02/10/2020 19:30:00\", \"02/11/2020 20:44:00\", \"02/12/2020 22:00:00\", \"02/13/2020 21:15:00\", \"02/14/2020 22:00:00\", \"02/15/2020 22:00:00\", \"02/16/2020 22:00:00\", \"02/17/2020 22:00:00\"], \"xaxis\": \"x\", \"y\": [1.0, 1.0, 1.0, 1.0, 1.0, 1.0, 1.0, 1.0, 1.0, 2.0, 2.0, 2.0, 2.0, 2.0, 2.0, 2.0, 2.0, 2.0], \"yaxis\": \"y\"}, {\"alignmentgroup\": \"True\", \"hoverlabel\": {\"namelength\": 0}, \"hovertemplate\": \"Country=UK<br>Date=%{x}<br>Confirmed=%{text}\", \"legendgroup\": \"UK\", \"marker\": {\"color\": \"#B6E880\"}, \"name\": \"UK\", \"offsetgroup\": \"UK\", \"orientation\": \"v\", \"showlegend\": true, \"text\": [2.0, 2.0, 2.0, 2.0, 2.0, 2.0, 2.0, 3.0, 3.0, 3.0, 8.0, 8.0, 9.0, 9.0, 9.0, 9.0, 9.0, 9.0], \"textposition\": \"auto\", \"type\": \"bar\", \"x\": [\"01/31/2020 19:00:00\", \"02/01/2020 23:00:00\", \"02/02/2020 21:00:00\", \"02/03/2020 21:40:00\", \"02/04/2020 22:00:00\", \"02/05/2020 12:20:00\", \"02/06/2020 20:05:00\", \"02/07/2020 20:24:00\", \"02/08/2020 23:04:00\", \"02/09/2020 23:20:00\", \"02/10/2020 19:30:00\", \"02/11/2020 20:44:00\", \"02/12/2020 22:00:00\", \"02/13/2020 21:15:00\", \"02/14/2020 22:00:00\", \"02/15/2020 22:00:00\", \"02/16/2020 22:00:00\", \"02/17/2020 22:00:00\"], \"xaxis\": \"x\", \"y\": [2.0, 2.0, 2.0, 2.0, 2.0, 2.0, 2.0, 3.0, 3.0, 3.0, 8.0, 8.0, 9.0, 9.0, 9.0, 9.0, 9.0, 9.0], \"yaxis\": \"y\"}, {\"alignmentgroup\": \"True\", \"hoverlabel\": {\"namelength\": 0}, \"hovertemplate\": \"Country=Sweden<br>Date=%{x}<br>Confirmed=%{text}\", \"legendgroup\": \"Sweden\", \"marker\": {\"color\": \"#FF97FF\"}, \"name\": \"Sweden\", \"offsetgroup\": \"Sweden\", \"orientation\": \"v\", \"showlegend\": true, \"text\": [1.0, 1.0, 1.0, 1.0, 1.0, 1.0, 1.0, 1.0, 1.0, 1.0, 1.0, 1.0, 1.0, 1.0, 1.0, 1.0, 1.0, 1.0], \"textposition\": \"auto\", \"type\": \"bar\", \"x\": [\"01/31/2020 19:00:00\", \"02/01/2020 23:00:00\", \"02/02/2020 21:00:00\", \"02/03/2020 21:40:00\", \"02/04/2020 22:00:00\", \"02/05/2020 12:20:00\", \"02/06/2020 20:05:00\", \"02/07/2020 20:24:00\", \"02/08/2020 23:04:00\", \"02/09/2020 23:20:00\", \"02/10/2020 19:30:00\", \"02/11/2020 20:44:00\", \"02/12/2020 22:00:00\", \"02/13/2020 21:15:00\", \"02/14/2020 22:00:00\", \"02/15/2020 22:00:00\", \"02/16/2020 22:00:00\", \"02/17/2020 22:00:00\"], \"xaxis\": \"x\", \"y\": [1.0, 1.0, 1.0, 1.0, 1.0, 1.0, 1.0, 1.0, 1.0, 1.0, 1.0, 1.0, 1.0, 1.0, 1.0, 1.0, 1.0, 1.0], \"yaxis\": \"y\"}, {\"alignmentgroup\": \"True\", \"hoverlabel\": {\"namelength\": 0}, \"hovertemplate\": \"Country=Russia<br>Date=%{x}<br>Confirmed=%{text}\", \"legendgroup\": \"Russia\", \"marker\": {\"color\": \"#FECB52\"}, \"name\": \"Russia\", \"offsetgroup\": \"Russia\", \"orientation\": \"v\", \"showlegend\": true, \"text\": [2.0, 2.0, 2.0, 2.0, 2.0, 2.0, 2.0, 2.0, 2.0, 2.0, 2.0, 2.0, 2.0, 2.0, 2.0, 2.0, 2.0, 2.0], \"textposition\": \"auto\", \"type\": \"bar\", \"x\": [\"01/31/2020 19:00:00\", \"02/01/2020 23:00:00\", \"02/02/2020 21:00:00\", \"02/03/2020 21:40:00\", \"02/04/2020 22:00:00\", \"02/05/2020 12:20:00\", \"02/06/2020 20:05:00\", \"02/07/2020 20:24:00\", \"02/08/2020 23:04:00\", \"02/09/2020 23:20:00\", \"02/10/2020 19:30:00\", \"02/11/2020 20:44:00\", \"02/12/2020 22:00:00\", \"02/13/2020 21:15:00\", \"02/14/2020 22:00:00\", \"02/15/2020 22:00:00\", \"02/16/2020 22:00:00\", \"02/17/2020 22:00:00\"], \"xaxis\": \"x\", \"y\": [2.0, 2.0, 2.0, 2.0, 2.0, 2.0, 2.0, 2.0, 2.0, 2.0, 2.0, 2.0, 2.0, 2.0, 2.0, 2.0, 2.0, 2.0], \"yaxis\": \"y\"}, {\"alignmentgroup\": \"True\", \"hoverlabel\": {\"namelength\": 0}, \"hovertemplate\": \"Country=Belgium<br>Date=%{x}<br>Confirmed=%{text}\", \"legendgroup\": \"Belgium\", \"marker\": {\"color\": \"#636efa\"}, \"name\": \"Belgium\", \"offsetgroup\": \"Belgium\", \"orientation\": \"v\", \"showlegend\": true, \"text\": [1.0, 1.0, 1.0, 1.0, 1.0, 1.0, 1.0, 1.0, 1.0, 1.0, 1.0, 1.0, 1.0, 1.0], \"textposition\": \"auto\", \"type\": \"bar\", \"x\": [\"02/04/2020 22:00:00\", \"02/05/2020 12:20:00\", \"02/06/2020 20:05:00\", \"02/07/2020 20:24:00\", \"02/08/2020 23:04:00\", \"02/09/2020 23:20:00\", \"02/10/2020 19:30:00\", \"02/11/2020 20:44:00\", \"02/12/2020 22:00:00\", \"02/13/2020 21:15:00\", \"02/14/2020 22:00:00\", \"02/15/2020 22:00:00\", \"02/16/2020 22:00:00\", \"02/17/2020 22:00:00\"], \"xaxis\": \"x\", \"y\": [1.0, 1.0, 1.0, 1.0, 1.0, 1.0, 1.0, 1.0, 1.0, 1.0, 1.0, 1.0, 1.0, 1.0], \"yaxis\": \"y\"}, {\"alignmentgroup\": \"True\", \"hoverlabel\": {\"namelength\": 0}, \"hovertemplate\": \"Country=Others<br>Date=%{x}<br>Confirmed=%{text}\", \"legendgroup\": \"Others\", \"marker\": {\"color\": \"#EF553B\"}, \"name\": \"Others\", \"offsetgroup\": \"Others\", \"orientation\": \"v\", \"showlegend\": true, \"text\": [61.0, 61.0, 64.0, 135.0, 135.0, 175.0, 218.0, 218.0, 285.0, 355.0, 454.0], \"textposition\": \"auto\", \"type\": \"bar\", \"x\": [\"02/07/2020 20:24:00\", \"02/08/2020 23:04:00\", \"02/09/2020 23:20:00\", \"02/10/2020 19:30:00\", \"02/11/2020 20:44:00\", \"02/12/2020 22:00:00\", \"02/13/2020 21:15:00\", \"02/14/2020 22:00:00\", \"02/15/2020 22:00:00\", \"02/16/2020 22:00:00\", \"02/17/2020 22:00:00\"], \"xaxis\": \"x\", \"y\": [61.0, 61.0, 64.0, 135.0, 135.0, 175.0, 218.0, 218.0, 285.0, 355.0, 454.0], \"yaxis\": \"y\"}, {\"alignmentgroup\": \"True\", \"hoverlabel\": {\"namelength\": 0}, \"hovertemplate\": \"Country=Egypt<br>Date=%{x}<br>Confirmed=%{text}\", \"legendgroup\": \"Egypt\", \"marker\": {\"color\": \"#00cc96\"}, \"name\": \"Egypt\", \"offsetgroup\": \"Egypt\", \"orientation\": \"v\", \"showlegend\": true, \"text\": [1.0, 1.0, 1.0, 1.0], \"textposition\": \"auto\", \"type\": \"bar\", \"x\": [\"02/14/2020 22:00:00\", \"02/15/2020 22:00:00\", \"02/16/2020 22:00:00\", \"02/17/2020 22:00:00\"], \"xaxis\": \"x\", \"y\": [1.0, 1.0, 1.0, 1.0], \"yaxis\": \"y\"}],\n",
       "                        {\"barmode\": \"relative\", \"height\": 600, \"legend\": {\"title\": {\"text\": \"Country\"}, \"tracegroupgap\": 0}, \"template\": {\"data\": {\"bar\": [{\"error_x\": {\"color\": \"#2a3f5f\"}, \"error_y\": {\"color\": \"#2a3f5f\"}, \"marker\": {\"line\": {\"color\": \"#E5ECF6\", \"width\": 0.5}}, \"type\": \"bar\"}], \"barpolar\": [{\"marker\": {\"line\": {\"color\": \"#E5ECF6\", \"width\": 0.5}}, \"type\": \"barpolar\"}], \"carpet\": [{\"aaxis\": {\"endlinecolor\": \"#2a3f5f\", \"gridcolor\": \"white\", \"linecolor\": \"white\", \"minorgridcolor\": \"white\", \"startlinecolor\": \"#2a3f5f\"}, \"baxis\": {\"endlinecolor\": \"#2a3f5f\", \"gridcolor\": \"white\", \"linecolor\": \"white\", \"minorgridcolor\": \"white\", \"startlinecolor\": \"#2a3f5f\"}, \"type\": \"carpet\"}], \"choropleth\": [{\"colorbar\": {\"outlinewidth\": 0, \"ticks\": \"\"}, \"type\": \"choropleth\"}], \"contour\": [{\"colorbar\": {\"outlinewidth\": 0, \"ticks\": \"\"}, \"colorscale\": [[0.0, \"#0d0887\"], [0.1111111111111111, \"#46039f\"], [0.2222222222222222, \"#7201a8\"], [0.3333333333333333, \"#9c179e\"], [0.4444444444444444, \"#bd3786\"], [0.5555555555555556, \"#d8576b\"], [0.6666666666666666, \"#ed7953\"], [0.7777777777777778, \"#fb9f3a\"], [0.8888888888888888, \"#fdca26\"], [1.0, \"#f0f921\"]], \"type\": \"contour\"}], \"contourcarpet\": [{\"colorbar\": {\"outlinewidth\": 0, \"ticks\": \"\"}, \"type\": \"contourcarpet\"}], \"heatmap\": [{\"colorbar\": {\"outlinewidth\": 0, \"ticks\": \"\"}, \"colorscale\": [[0.0, \"#0d0887\"], [0.1111111111111111, \"#46039f\"], [0.2222222222222222, \"#7201a8\"], [0.3333333333333333, \"#9c179e\"], [0.4444444444444444, \"#bd3786\"], [0.5555555555555556, \"#d8576b\"], [0.6666666666666666, \"#ed7953\"], [0.7777777777777778, \"#fb9f3a\"], [0.8888888888888888, \"#fdca26\"], [1.0, \"#f0f921\"]], \"type\": \"heatmap\"}], \"heatmapgl\": [{\"colorbar\": {\"outlinewidth\": 0, \"ticks\": \"\"}, \"colorscale\": [[0.0, \"#0d0887\"], [0.1111111111111111, \"#46039f\"], [0.2222222222222222, \"#7201a8\"], [0.3333333333333333, \"#9c179e\"], [0.4444444444444444, \"#bd3786\"], [0.5555555555555556, \"#d8576b\"], [0.6666666666666666, \"#ed7953\"], [0.7777777777777778, \"#fb9f3a\"], [0.8888888888888888, \"#fdca26\"], [1.0, \"#f0f921\"]], \"type\": \"heatmapgl\"}], \"histogram\": [{\"marker\": {\"colorbar\": {\"outlinewidth\": 0, \"ticks\": \"\"}}, \"type\": \"histogram\"}], \"histogram2d\": [{\"colorbar\": {\"outlinewidth\": 0, \"ticks\": \"\"}, \"colorscale\": [[0.0, \"#0d0887\"], [0.1111111111111111, \"#46039f\"], [0.2222222222222222, \"#7201a8\"], [0.3333333333333333, \"#9c179e\"], [0.4444444444444444, \"#bd3786\"], [0.5555555555555556, \"#d8576b\"], [0.6666666666666666, \"#ed7953\"], [0.7777777777777778, \"#fb9f3a\"], [0.8888888888888888, \"#fdca26\"], [1.0, \"#f0f921\"]], \"type\": \"histogram2d\"}], \"histogram2dcontour\": [{\"colorbar\": {\"outlinewidth\": 0, \"ticks\": \"\"}, \"colorscale\": [[0.0, \"#0d0887\"], [0.1111111111111111, \"#46039f\"], [0.2222222222222222, \"#7201a8\"], [0.3333333333333333, \"#9c179e\"], [0.4444444444444444, \"#bd3786\"], [0.5555555555555556, \"#d8576b\"], [0.6666666666666666, \"#ed7953\"], [0.7777777777777778, \"#fb9f3a\"], [0.8888888888888888, \"#fdca26\"], [1.0, \"#f0f921\"]], \"type\": \"histogram2dcontour\"}], \"mesh3d\": [{\"colorbar\": {\"outlinewidth\": 0, \"ticks\": \"\"}, \"type\": \"mesh3d\"}], \"parcoords\": [{\"line\": {\"colorbar\": {\"outlinewidth\": 0, \"ticks\": \"\"}}, \"type\": \"parcoords\"}], \"pie\": [{\"automargin\": true, \"type\": \"pie\"}], \"scatter\": [{\"marker\": {\"colorbar\": {\"outlinewidth\": 0, \"ticks\": \"\"}}, \"type\": \"scatter\"}], \"scatter3d\": [{\"line\": {\"colorbar\": {\"outlinewidth\": 0, \"ticks\": \"\"}}, \"marker\": {\"colorbar\": {\"outlinewidth\": 0, \"ticks\": \"\"}}, \"type\": \"scatter3d\"}], \"scattercarpet\": [{\"marker\": {\"colorbar\": {\"outlinewidth\": 0, \"ticks\": \"\"}}, \"type\": \"scattercarpet\"}], \"scattergeo\": [{\"marker\": {\"colorbar\": {\"outlinewidth\": 0, \"ticks\": \"\"}}, \"type\": \"scattergeo\"}], \"scattergl\": [{\"marker\": {\"colorbar\": {\"outlinewidth\": 0, \"ticks\": \"\"}}, \"type\": \"scattergl\"}], \"scattermapbox\": [{\"marker\": {\"colorbar\": {\"outlinewidth\": 0, \"ticks\": \"\"}}, \"type\": \"scattermapbox\"}], \"scatterpolar\": [{\"marker\": {\"colorbar\": {\"outlinewidth\": 0, \"ticks\": \"\"}}, \"type\": \"scatterpolar\"}], \"scatterpolargl\": [{\"marker\": {\"colorbar\": {\"outlinewidth\": 0, \"ticks\": \"\"}}, \"type\": \"scatterpolargl\"}], \"scatterternary\": [{\"marker\": {\"colorbar\": {\"outlinewidth\": 0, \"ticks\": \"\"}}, \"type\": \"scatterternary\"}], \"surface\": [{\"colorbar\": {\"outlinewidth\": 0, \"ticks\": \"\"}, \"colorscale\": [[0.0, \"#0d0887\"], [0.1111111111111111, \"#46039f\"], [0.2222222222222222, \"#7201a8\"], [0.3333333333333333, \"#9c179e\"], [0.4444444444444444, \"#bd3786\"], [0.5555555555555556, \"#d8576b\"], [0.6666666666666666, \"#ed7953\"], [0.7777777777777778, \"#fb9f3a\"], [0.8888888888888888, \"#fdca26\"], [1.0, \"#f0f921\"]], \"type\": \"surface\"}], \"table\": [{\"cells\": {\"fill\": {\"color\": \"#EBF0F8\"}, \"line\": {\"color\": \"white\"}}, \"header\": {\"fill\": {\"color\": \"#C8D4E3\"}, \"line\": {\"color\": \"white\"}}, \"type\": \"table\"}]}, \"layout\": {\"annotationdefaults\": {\"arrowcolor\": \"#2a3f5f\", \"arrowhead\": 0, \"arrowwidth\": 1}, \"coloraxis\": {\"colorbar\": {\"outlinewidth\": 0, \"ticks\": \"\"}}, \"colorscale\": {\"diverging\": [[0, \"#8e0152\"], [0.1, \"#c51b7d\"], [0.2, \"#de77ae\"], [0.3, \"#f1b6da\"], [0.4, \"#fde0ef\"], [0.5, \"#f7f7f7\"], [0.6, \"#e6f5d0\"], [0.7, \"#b8e186\"], [0.8, \"#7fbc41\"], [0.9, \"#4d9221\"], [1, \"#276419\"]], \"sequential\": [[0.0, \"#0d0887\"], [0.1111111111111111, \"#46039f\"], [0.2222222222222222, \"#7201a8\"], [0.3333333333333333, \"#9c179e\"], [0.4444444444444444, \"#bd3786\"], [0.5555555555555556, \"#d8576b\"], [0.6666666666666666, \"#ed7953\"], [0.7777777777777778, \"#fb9f3a\"], [0.8888888888888888, \"#fdca26\"], [1.0, \"#f0f921\"]], \"sequentialminus\": [[0.0, \"#0d0887\"], [0.1111111111111111, \"#46039f\"], [0.2222222222222222, \"#7201a8\"], [0.3333333333333333, \"#9c179e\"], [0.4444444444444444, \"#bd3786\"], [0.5555555555555556, \"#d8576b\"], [0.6666666666666666, \"#ed7953\"], [0.7777777777777778, \"#fb9f3a\"], [0.8888888888888888, \"#fdca26\"], [1.0, \"#f0f921\"]]}, \"colorway\": [\"#636efa\", \"#EF553B\", \"#00cc96\", \"#ab63fa\", \"#FFA15A\", \"#19d3f3\", \"#FF6692\", \"#B6E880\", \"#FF97FF\", \"#FECB52\"], \"font\": {\"color\": \"#2a3f5f\"}, \"geo\": {\"bgcolor\": \"white\", \"lakecolor\": \"white\", \"landcolor\": \"#E5ECF6\", \"showlakes\": true, \"showland\": true, \"subunitcolor\": \"white\"}, \"hoverlabel\": {\"align\": \"left\"}, \"hovermode\": \"closest\", \"mapbox\": {\"style\": \"light\"}, \"paper_bgcolor\": \"white\", \"plot_bgcolor\": \"#E5ECF6\", \"polar\": {\"angularaxis\": {\"gridcolor\": \"white\", \"linecolor\": \"white\", \"ticks\": \"\"}, \"bgcolor\": \"#E5ECF6\", \"radialaxis\": {\"gridcolor\": \"white\", \"linecolor\": \"white\", \"ticks\": \"\"}}, \"scene\": {\"xaxis\": {\"backgroundcolor\": \"#E5ECF6\", \"gridcolor\": \"white\", \"gridwidth\": 2, \"linecolor\": \"white\", \"showbackground\": true, \"ticks\": \"\", \"zerolinecolor\": \"white\"}, \"yaxis\": {\"backgroundcolor\": \"#E5ECF6\", \"gridcolor\": \"white\", \"gridwidth\": 2, \"linecolor\": \"white\", \"showbackground\": true, \"ticks\": \"\", \"zerolinecolor\": \"white\"}, \"zaxis\": {\"backgroundcolor\": \"#E5ECF6\", \"gridcolor\": \"white\", \"gridwidth\": 2, \"linecolor\": \"white\", \"showbackground\": true, \"ticks\": \"\", \"zerolinecolor\": \"white\"}}, \"shapedefaults\": {\"line\": {\"color\": \"#2a3f5f\"}}, \"ternary\": {\"aaxis\": {\"gridcolor\": \"white\", \"linecolor\": \"white\", \"ticks\": \"\"}, \"baxis\": {\"gridcolor\": \"white\", \"linecolor\": \"white\", \"ticks\": \"\"}, \"bgcolor\": \"#E5ECF6\", \"caxis\": {\"gridcolor\": \"white\", \"linecolor\": \"white\", \"ticks\": \"\"}}, \"title\": {\"x\": 0.05}, \"xaxis\": {\"automargin\": true, \"gridcolor\": \"white\", \"linecolor\": \"white\", \"ticks\": \"\", \"title\": {\"standoff\": 15}, \"zerolinecolor\": \"white\", \"zerolinewidth\": 2}, \"yaxis\": {\"automargin\": true, \"gridcolor\": \"white\", \"linecolor\": \"white\", \"ticks\": \"\", \"title\": {\"standoff\": 15}, \"zerolinecolor\": \"white\", \"zerolinewidth\": 2}}}, \"title\": {\"text\": \"Cases\"}, \"xaxis\": {\"anchor\": \"y\", \"domain\": [0.0, 1.0], \"title\": {\"text\": \"Date\"}}, \"yaxis\": {\"anchor\": \"x\", \"domain\": [0.0, 1.0], \"title\": {\"text\": \"Confirmed\"}}},\n",
       "                        {\"responsive\": true}\n",
       "                    ).then(function(){\n",
       "                            \n",
       "var gd = document.getElementById('63748b28-3283-410e-81fe-68769b62291c');\n",
       "var x = new MutationObserver(function (mutations, observer) {{\n",
       "        var display = window.getComputedStyle(gd).display;\n",
       "        if (!display || display === 'none') {{\n",
       "            console.log([gd, 'removed!']);\n",
       "            Plotly.purge(gd);\n",
       "            observer.disconnect();\n",
       "        }}\n",
       "}});\n",
       "\n",
       "// Listen for the removal of the full notebook cells\n",
       "var notebookContainer = gd.closest('#notebook-container');\n",
       "if (notebookContainer) {{\n",
       "    x.observe(notebookContainer, {childList: true});\n",
       "}}\n",
       "\n",
       "// Listen for the clearing of the current output cell\n",
       "var outputEl = gd.closest('.output');\n",
       "if (outputEl) {{\n",
       "    x.observe(outputEl, {childList: true});\n",
       "}}\n",
       "\n",
       "                        })\n",
       "                };\n",
       "                });\n",
       "            </script>\n",
       "        </div>"
      ]
     },
     "metadata": {},
     "output_type": "display_data"
    }
   ],
   "source": [
    "#SOURCE for part of this code: https://towardsdatascience.com/coronavirus-data-visualizations-using-plotly-cfbdb8fcfc3d\n",
    "data = px.data.gapminder()\n",
    "bar_data = data2.groupby(['Country', 'Date'])['Confirmed', 'Deaths', 'Recovered'].sum().reset_index().sort_values('Date', ascending=True)\n",
    "#bar_data=data.groupby(['Country/Region']).sum().reset_index().sort_values('ObservationDate', ascending=True)\n",
    "# df_country=data.groupby(['Country/Region']).max().reset_index(drop=None)\n",
    "fig = px.bar(bar_data, x=\"Date\", y=\"Confirmed\", color='Country', text = 'Confirmed', orientation='v', height=600,\n",
    "             title='Cases')\n",
    "fig.show()\n"
   ]
  },
  {
   "cell_type": "code",
   "execution_count": 67,
   "metadata": {},
   "outputs": [
    {
     "data": {
      "application/vnd.plotly.v1+json": {
       "config": {
        "plotlyServerURL": "https://plot.ly"
       },
       "data": [
        {
         "alignmentgroup": "True",
         "hoverlabel": {
          "namelength": 0
         },
         "hovertemplate": "Country=China<br>Date=%{x}<br>Deaths=%{text}",
         "legendgroup": "China",
         "marker": {
          "color": "#636efa"
         },
         "name": "China",
         "offsetgroup": "China",
         "orientation": "v",
         "showlegend": true,
         "text": [
          0,
          18,
          26,
          56,
          80,
          107,
          132,
          170,
          213,
          259,
          304,
          361,
          425,
          490,
          492,
          632,
          636,
          811,
          908,
          1011,
          1113,
          1366,
          1488,
          1520,
          1662,
          1765,
          1863
         ],
         "textposition": "auto",
         "type": "bar",
         "x": [
          "01/22/2020 12:00:00",
          "01/23/2020 12:00:00",
          "01/24/2020 12:00:00",
          "01/25/2020 22:00:00",
          "01/26/2020 23:00:00",
          "01/27/2020 20:30:00",
          "01/28/2020 23:00:00",
          "01/29/2020 21:00:00",
          "01/30/2020 21:30:00",
          "01/31/2020 19:00:00",
          "02/01/2020 23:00:00",
          "02/02/2020 21:00:00",
          "02/03/2020 21:40:00",
          "02/04/2020 22:00:00",
          "02/05/2020 12:20:00",
          "02/06/2020 20:05:00",
          "02/07/2020 20:24:00",
          "02/08/2020 23:04:00",
          "02/09/2020 23:20:00",
          "02/10/2020 19:30:00",
          "02/11/2020 20:44:00",
          "02/12/2020 22:00:00",
          "02/13/2020 21:15:00",
          "02/14/2020 22:00:00",
          "02/15/2020 22:00:00",
          "02/16/2020 22:00:00",
          "02/17/2020 22:00:00"
         ],
         "xaxis": "x",
         "y": [
          0,
          18,
          26,
          56,
          80,
          107,
          132,
          170,
          213,
          259,
          304,
          361,
          425,
          490,
          492,
          632,
          636,
          811,
          908,
          1011,
          1113,
          1366,
          1488,
          1520,
          1662,
          1765,
          1863
         ],
         "yaxis": "y"
        },
        {
         "alignmentgroup": "True",
         "hoverlabel": {
          "namelength": 0
         },
         "hovertemplate": "Country=Japan<br>Date=%{x}<br>Deaths=%{text}",
         "legendgroup": "Japan",
         "marker": {
          "color": "#EF553B"
         },
         "name": "Japan",
         "offsetgroup": "Japan",
         "orientation": "v",
         "showlegend": true,
         "text": [
          0,
          0,
          0,
          0,
          0,
          0,
          0,
          0,
          0,
          0,
          0,
          0,
          0,
          0,
          0,
          0,
          0,
          0,
          0,
          0,
          0,
          0,
          1,
          1,
          1,
          1,
          1
         ],
         "textposition": "auto",
         "type": "bar",
         "x": [
          "01/22/2020 12:00:00",
          "01/23/2020 12:00:00",
          "01/24/2020 12:00:00",
          "01/25/2020 22:00:00",
          "01/26/2020 23:00:00",
          "01/27/2020 20:30:00",
          "01/28/2020 23:00:00",
          "01/29/2020 21:00:00",
          "01/30/2020 21:30:00",
          "01/31/2020 19:00:00",
          "02/01/2020 23:00:00",
          "02/02/2020 21:00:00",
          "02/03/2020 21:40:00",
          "02/04/2020 22:00:00",
          "02/05/2020 12:20:00",
          "02/06/2020 20:05:00",
          "02/07/2020 20:24:00",
          "02/08/2020 23:04:00",
          "02/09/2020 23:20:00",
          "02/10/2020 19:30:00",
          "02/11/2020 20:44:00",
          "02/12/2020 22:00:00",
          "02/13/2020 21:15:00",
          "02/14/2020 22:00:00",
          "02/15/2020 22:00:00",
          "02/16/2020 22:00:00",
          "02/17/2020 22:00:00"
         ],
         "xaxis": "x",
         "y": [
          0,
          0,
          0,
          0,
          0,
          0,
          0,
          0,
          0,
          0,
          0,
          0,
          0,
          0,
          0,
          0,
          0,
          0,
          0,
          0,
          0,
          0,
          1,
          1,
          1,
          1,
          1
         ],
         "yaxis": "y"
        },
        {
         "alignmentgroup": "True",
         "hoverlabel": {
          "namelength": 0
         },
         "hovertemplate": "Country=US<br>Date=%{x}<br>Deaths=%{text}",
         "legendgroup": "US",
         "marker": {
          "color": "#00cc96"
         },
         "name": "US",
         "offsetgroup": "US",
         "orientation": "v",
         "showlegend": true,
         "text": [
          0,
          0,
          0,
          0,
          0,
          0,
          0,
          0,
          0,
          0,
          0,
          0,
          0,
          0,
          0,
          0,
          0,
          0,
          0,
          0,
          0,
          0,
          0,
          0,
          0,
          0,
          0
         ],
         "textposition": "auto",
         "type": "bar",
         "x": [
          "01/22/2020 12:00:00",
          "01/23/2020 12:00:00",
          "01/24/2020 12:00:00",
          "01/25/2020 22:00:00",
          "01/26/2020 23:00:00",
          "01/27/2020 20:30:00",
          "01/28/2020 23:00:00",
          "01/29/2020 21:00:00",
          "01/30/2020 21:30:00",
          "01/31/2020 19:00:00",
          "02/01/2020 23:00:00",
          "02/02/2020 21:00:00",
          "02/03/2020 21:40:00",
          "02/04/2020 22:00:00",
          "02/05/2020 12:20:00",
          "02/06/2020 20:05:00",
          "02/07/2020 20:24:00",
          "02/08/2020 23:04:00",
          "02/09/2020 23:20:00",
          "02/10/2020 19:30:00",
          "02/11/2020 20:44:00",
          "02/12/2020 22:00:00",
          "02/13/2020 21:15:00",
          "02/14/2020 22:00:00",
          "02/15/2020 22:00:00",
          "02/16/2020 22:00:00",
          "02/17/2020 22:00:00"
         ],
         "xaxis": "x",
         "y": [
          0,
          0,
          0,
          0,
          0,
          0,
          0,
          0,
          0,
          0,
          0,
          0,
          0,
          0,
          0,
          0,
          0,
          0,
          0,
          0,
          0,
          0,
          0,
          0,
          0,
          0,
          0
         ],
         "yaxis": "y"
        },
        {
         "alignmentgroup": "True",
         "hoverlabel": {
          "namelength": 0
         },
         "hovertemplate": "Country=Thailand<br>Date=%{x}<br>Deaths=%{text}",
         "legendgroup": "Thailand",
         "marker": {
          "color": "#ab63fa"
         },
         "name": "Thailand",
         "offsetgroup": "Thailand",
         "orientation": "v",
         "showlegend": true,
         "text": [
          0,
          0,
          0,
          0,
          0,
          0,
          0,
          0,
          0,
          0,
          0,
          0,
          0,
          0,
          0,
          0,
          0,
          0,
          0,
          0,
          0,
          0,
          0,
          0,
          0,
          0,
          0
         ],
         "textposition": "auto",
         "type": "bar",
         "x": [
          "01/22/2020 12:00:00",
          "01/23/2020 12:00:00",
          "01/24/2020 12:00:00",
          "01/25/2020 22:00:00",
          "01/26/2020 23:00:00",
          "01/27/2020 20:30:00",
          "01/28/2020 23:00:00",
          "01/29/2020 21:00:00",
          "01/30/2020 21:30:00",
          "01/31/2020 19:00:00",
          "02/01/2020 23:00:00",
          "02/02/2020 21:00:00",
          "02/03/2020 21:40:00",
          "02/04/2020 22:00:00",
          "02/05/2020 12:20:00",
          "02/06/2020 20:05:00",
          "02/07/2020 20:24:00",
          "02/08/2020 23:04:00",
          "02/09/2020 23:20:00",
          "02/10/2020 19:30:00",
          "02/11/2020 20:44:00",
          "02/12/2020 22:00:00",
          "02/13/2020 21:15:00",
          "02/14/2020 22:00:00",
          "02/15/2020 22:00:00",
          "02/16/2020 22:00:00",
          "02/17/2020 22:00:00"
         ],
         "xaxis": "x",
         "y": [
          0,
          0,
          0,
          0,
          0,
          0,
          0,
          0,
          0,
          0,
          0,
          0,
          0,
          0,
          0,
          0,
          0,
          0,
          0,
          0,
          0,
          0,
          0,
          0,
          0,
          0,
          0
         ],
         "yaxis": "y"
        },
        {
         "alignmentgroup": "True",
         "hoverlabel": {
          "namelength": 0
         },
         "hovertemplate": "Country=South Korea<br>Date=%{x}<br>Deaths=%{text}",
         "legendgroup": "South Korea",
         "marker": {
          "color": "#FFA15A"
         },
         "name": "South Korea",
         "offsetgroup": "South Korea",
         "orientation": "v",
         "showlegend": true,
         "text": [
          0,
          0,
          0,
          0,
          0,
          0,
          0,
          0,
          0,
          0,
          0,
          0,
          0,
          0,
          0,
          0,
          0,
          0,
          0,
          0,
          0,
          0,
          0,
          0,
          0,
          0,
          0
         ],
         "textposition": "auto",
         "type": "bar",
         "x": [
          "01/22/2020 12:00:00",
          "01/23/2020 12:00:00",
          "01/24/2020 12:00:00",
          "01/25/2020 22:00:00",
          "01/26/2020 23:00:00",
          "01/27/2020 20:30:00",
          "01/28/2020 23:00:00",
          "01/29/2020 21:00:00",
          "01/30/2020 21:30:00",
          "01/31/2020 19:00:00",
          "02/01/2020 23:00:00",
          "02/02/2020 21:00:00",
          "02/03/2020 21:40:00",
          "02/04/2020 22:00:00",
          "02/05/2020 12:20:00",
          "02/06/2020 20:05:00",
          "02/07/2020 20:24:00",
          "02/08/2020 23:04:00",
          "02/09/2020 23:20:00",
          "02/10/2020 19:30:00",
          "02/11/2020 20:44:00",
          "02/12/2020 22:00:00",
          "02/13/2020 21:15:00",
          "02/14/2020 22:00:00",
          "02/15/2020 22:00:00",
          "02/16/2020 22:00:00",
          "02/17/2020 22:00:00"
         ],
         "xaxis": "x",
         "y": [
          0,
          0,
          0,
          0,
          0,
          0,
          0,
          0,
          0,
          0,
          0,
          0,
          0,
          0,
          0,
          0,
          0,
          0,
          0,
          0,
          0,
          0,
          0,
          0,
          0,
          0,
          0
         ],
         "yaxis": "y"
        },
        {
         "alignmentgroup": "True",
         "hoverlabel": {
          "namelength": 0
         },
         "hovertemplate": "Country=Brazil<br>Date=%{x}<br>Deaths=%{text}",
         "legendgroup": "Brazil",
         "marker": {
          "color": "#19d3f3"
         },
         "name": "Brazil",
         "offsetgroup": "Brazil",
         "orientation": "v",
         "showlegend": true,
         "text": [
          0
         ],
         "textposition": "auto",
         "type": "bar",
         "x": [
          "01/23/2020 12:00:00"
         ],
         "xaxis": "x",
         "y": [
          0
         ],
         "yaxis": "y"
        },
        {
         "alignmentgroup": "True",
         "hoverlabel": {
          "namelength": 0
         },
         "hovertemplate": "Country=Hong Kong<br>Date=%{x}<br>Deaths=%{text}",
         "legendgroup": "Hong Kong",
         "marker": {
          "color": "#FF6692"
         },
         "name": "Hong Kong",
         "offsetgroup": "Hong Kong",
         "orientation": "v",
         "showlegend": true,
         "text": [
          0,
          0,
          0,
          0,
          0,
          0,
          0,
          0,
          0,
          0,
          0,
          0,
          1,
          1,
          1,
          1,
          1,
          1,
          1,
          1,
          1,
          1,
          1,
          1,
          1,
          1
         ],
         "textposition": "auto",
         "type": "bar",
         "x": [
          "01/23/2020 12:00:00",
          "01/24/2020 12:00:00",
          "01/25/2020 22:00:00",
          "01/26/2020 23:00:00",
          "01/27/2020 20:30:00",
          "01/28/2020 23:00:00",
          "01/29/2020 21:00:00",
          "01/30/2020 21:30:00",
          "01/31/2020 19:00:00",
          "02/01/2020 23:00:00",
          "02/02/2020 21:00:00",
          "02/03/2020 21:40:00",
          "02/04/2020 22:00:00",
          "02/05/2020 12:20:00",
          "02/06/2020 20:05:00",
          "02/07/2020 20:24:00",
          "02/08/2020 23:04:00",
          "02/09/2020 23:20:00",
          "02/10/2020 19:30:00",
          "02/11/2020 20:44:00",
          "02/12/2020 22:00:00",
          "02/13/2020 21:15:00",
          "02/14/2020 22:00:00",
          "02/15/2020 22:00:00",
          "02/16/2020 22:00:00",
          "02/17/2020 22:00:00"
         ],
         "xaxis": "x",
         "y": [
          0,
          0,
          0,
          0,
          0,
          0,
          0,
          0,
          0,
          0,
          0,
          0,
          1,
          1,
          1,
          1,
          1,
          1,
          1,
          1,
          1,
          1,
          1,
          1,
          1,
          1
         ],
         "yaxis": "y"
        },
        {
         "alignmentgroup": "True",
         "hoverlabel": {
          "namelength": 0
         },
         "hovertemplate": "Country=Macau<br>Date=%{x}<br>Deaths=%{text}",
         "legendgroup": "Macau",
         "marker": {
          "color": "#B6E880"
         },
         "name": "Macau",
         "offsetgroup": "Macau",
         "orientation": "v",
         "showlegend": true,
         "text": [
          0,
          0,
          0,
          0,
          0,
          0,
          0,
          0,
          0,
          0,
          0,
          0,
          0,
          0,
          0,
          0,
          0,
          0,
          0,
          0,
          0,
          0,
          0,
          0,
          0,
          0
         ],
         "textposition": "auto",
         "type": "bar",
         "x": [
          "01/23/2020 12:00:00",
          "01/24/2020 12:00:00",
          "01/25/2020 22:00:00",
          "01/26/2020 23:00:00",
          "01/27/2020 20:30:00",
          "01/28/2020 23:00:00",
          "01/29/2020 21:00:00",
          "01/30/2020 21:30:00",
          "01/31/2020 19:00:00",
          "02/01/2020 23:00:00",
          "02/02/2020 21:00:00",
          "02/03/2020 21:40:00",
          "02/04/2020 22:00:00",
          "02/05/2020 12:20:00",
          "02/06/2020 20:05:00",
          "02/07/2020 20:24:00",
          "02/08/2020 23:04:00",
          "02/09/2020 23:20:00",
          "02/10/2020 19:30:00",
          "02/11/2020 20:44:00",
          "02/12/2020 22:00:00",
          "02/13/2020 21:15:00",
          "02/14/2020 22:00:00",
          "02/15/2020 22:00:00",
          "02/16/2020 22:00:00",
          "02/17/2020 22:00:00"
         ],
         "xaxis": "x",
         "y": [
          0,
          0,
          0,
          0,
          0,
          0,
          0,
          0,
          0,
          0,
          0,
          0,
          0,
          0,
          0,
          0,
          0,
          0,
          0,
          0,
          0,
          0,
          0,
          0,
          0,
          0
         ],
         "yaxis": "y"
        },
        {
         "alignmentgroup": "True",
         "hoverlabel": {
          "namelength": 0
         },
         "hovertemplate": "Country=Malaysia<br>Date=%{x}<br>Deaths=%{text}",
         "legendgroup": "Malaysia",
         "marker": {
          "color": "#FF97FF"
         },
         "name": "Malaysia",
         "offsetgroup": "Malaysia",
         "orientation": "v",
         "showlegend": true,
         "text": [
          0,
          0,
          0,
          0,
          0,
          0,
          0,
          0,
          0,
          0,
          0,
          0,
          0,
          0,
          0,
          0,
          0,
          0,
          0,
          0,
          0,
          0,
          0,
          0,
          0
         ],
         "textposition": "auto",
         "type": "bar",
         "x": [
          "01/23/2020 12:00:00",
          "01/25/2020 22:00:00",
          "01/26/2020 23:00:00",
          "01/27/2020 20:30:00",
          "01/28/2020 23:00:00",
          "01/29/2020 21:00:00",
          "01/30/2020 21:30:00",
          "01/31/2020 19:00:00",
          "02/01/2020 23:00:00",
          "02/02/2020 21:00:00",
          "02/03/2020 21:40:00",
          "02/04/2020 22:00:00",
          "02/05/2020 12:20:00",
          "02/06/2020 20:05:00",
          "02/07/2020 20:24:00",
          "02/08/2020 23:04:00",
          "02/09/2020 23:20:00",
          "02/10/2020 19:30:00",
          "02/11/2020 20:44:00",
          "02/12/2020 22:00:00",
          "02/13/2020 21:15:00",
          "02/14/2020 22:00:00",
          "02/15/2020 22:00:00",
          "02/16/2020 22:00:00",
          "02/17/2020 22:00:00"
         ],
         "xaxis": "x",
         "y": [
          0,
          0,
          0,
          0,
          0,
          0,
          0,
          0,
          0,
          0,
          0,
          0,
          0,
          0,
          0,
          0,
          0,
          0,
          0,
          0,
          0,
          0,
          0,
          0,
          0
         ],
         "yaxis": "y"
        },
        {
         "alignmentgroup": "True",
         "hoverlabel": {
          "namelength": 0
         },
         "hovertemplate": "Country=Mexico<br>Date=%{x}<br>Deaths=%{text}",
         "legendgroup": "Mexico",
         "marker": {
          "color": "#FECB52"
         },
         "name": "Mexico",
         "offsetgroup": "Mexico",
         "orientation": "v",
         "showlegend": true,
         "text": [
          0
         ],
         "textposition": "auto",
         "type": "bar",
         "x": [
          "01/23/2020 12:00:00"
         ],
         "xaxis": "x",
         "y": [
          0
         ],
         "yaxis": "y"
        },
        {
         "alignmentgroup": "True",
         "hoverlabel": {
          "namelength": 0
         },
         "hovertemplate": "Country=Philippines<br>Date=%{x}<br>Deaths=%{text}",
         "legendgroup": "Philippines",
         "marker": {
          "color": "#636efa"
         },
         "name": "Philippines",
         "offsetgroup": "Philippines",
         "orientation": "v",
         "showlegend": true,
         "text": [
          0,
          0,
          0,
          1,
          1,
          1,
          1,
          1,
          1,
          1,
          1,
          1,
          1,
          1,
          1,
          1,
          1,
          1,
          1,
          1
         ],
         "textposition": "auto",
         "type": "bar",
         "x": [
          "01/23/2020 12:00:00",
          "01/30/2020 21:30:00",
          "01/31/2020 19:00:00",
          "02/01/2020 23:00:00",
          "02/02/2020 21:00:00",
          "02/03/2020 21:40:00",
          "02/04/2020 22:00:00",
          "02/05/2020 12:20:00",
          "02/06/2020 20:05:00",
          "02/07/2020 20:24:00",
          "02/08/2020 23:04:00",
          "02/09/2020 23:20:00",
          "02/10/2020 19:30:00",
          "02/11/2020 20:44:00",
          "02/12/2020 22:00:00",
          "02/13/2020 21:15:00",
          "02/14/2020 22:00:00",
          "02/15/2020 22:00:00",
          "02/16/2020 22:00:00",
          "02/17/2020 22:00:00"
         ],
         "xaxis": "x",
         "y": [
          0,
          0,
          0,
          1,
          1,
          1,
          1,
          1,
          1,
          1,
          1,
          1,
          1,
          1,
          1,
          1,
          1,
          1,
          1,
          1
         ],
         "yaxis": "y"
        },
        {
         "alignmentgroup": "True",
         "hoverlabel": {
          "namelength": 0
         },
         "hovertemplate": "Country=Australia<br>Date=%{x}<br>Deaths=%{text}",
         "legendgroup": "Australia",
         "marker": {
          "color": "#EF553B"
         },
         "name": "Australia",
         "offsetgroup": "Australia",
         "orientation": "v",
         "showlegend": true,
         "text": [
          0,
          0,
          0,
          0,
          0,
          0,
          0,
          0,
          0,
          0,
          0,
          0,
          0,
          0,
          0,
          0,
          0,
          0,
          0,
          0,
          0,
          0,
          0,
          0,
          0
         ],
         "textposition": "auto",
         "type": "bar",
         "x": [
          "01/23/2020 12:00:00",
          "01/25/2020 22:00:00",
          "01/26/2020 23:00:00",
          "01/27/2020 20:30:00",
          "01/28/2020 23:00:00",
          "01/29/2020 21:00:00",
          "01/30/2020 21:30:00",
          "01/31/2020 19:00:00",
          "02/01/2020 23:00:00",
          "02/02/2020 21:00:00",
          "02/03/2020 21:40:00",
          "02/04/2020 22:00:00",
          "02/05/2020 12:20:00",
          "02/06/2020 20:05:00",
          "02/07/2020 20:24:00",
          "02/08/2020 23:04:00",
          "02/09/2020 23:20:00",
          "02/10/2020 19:30:00",
          "02/11/2020 20:44:00",
          "02/12/2020 22:00:00",
          "02/13/2020 21:15:00",
          "02/14/2020 22:00:00",
          "02/15/2020 22:00:00",
          "02/16/2020 22:00:00",
          "02/17/2020 22:00:00"
         ],
         "xaxis": "x",
         "y": [
          0,
          0,
          0,
          0,
          0,
          0,
          0,
          0,
          0,
          0,
          0,
          0,
          0,
          0,
          0,
          0,
          0,
          0,
          0,
          0,
          0,
          0,
          0,
          0,
          0
         ],
         "yaxis": "y"
        },
        {
         "alignmentgroup": "True",
         "hoverlabel": {
          "namelength": 0
         },
         "hovertemplate": "Country=Singapore<br>Date=%{x}<br>Deaths=%{text}",
         "legendgroup": "Singapore",
         "marker": {
          "color": "#00cc96"
         },
         "name": "Singapore",
         "offsetgroup": "Singapore",
         "orientation": "v",
         "showlegend": true,
         "text": [
          0,
          0,
          0,
          0,
          0,
          0,
          0,
          0,
          0,
          0,
          0,
          0,
          0,
          0,
          0,
          0,
          0,
          0,
          0,
          0,
          0,
          0,
          0,
          0,
          0,
          0
         ],
         "textposition": "auto",
         "type": "bar",
         "x": [
          "01/23/2020 12:00:00",
          "01/24/2020 12:00:00",
          "01/25/2020 22:00:00",
          "01/26/2020 23:00:00",
          "01/27/2020 20:30:00",
          "01/28/2020 23:00:00",
          "01/29/2020 21:00:00",
          "01/30/2020 21:30:00",
          "01/31/2020 19:00:00",
          "02/01/2020 23:00:00",
          "02/02/2020 21:00:00",
          "02/03/2020 21:40:00",
          "02/04/2020 22:00:00",
          "02/05/2020 12:20:00",
          "02/06/2020 20:05:00",
          "02/07/2020 20:24:00",
          "02/08/2020 23:04:00",
          "02/09/2020 23:20:00",
          "02/10/2020 19:30:00",
          "02/11/2020 20:44:00",
          "02/12/2020 22:00:00",
          "02/13/2020 21:15:00",
          "02/14/2020 22:00:00",
          "02/15/2020 22:00:00",
          "02/16/2020 22:00:00",
          "02/17/2020 22:00:00"
         ],
         "xaxis": "x",
         "y": [
          0,
          0,
          0,
          0,
          0,
          0,
          0,
          0,
          0,
          0,
          0,
          0,
          0,
          0,
          0,
          0,
          0,
          0,
          0,
          0,
          0,
          0,
          0,
          0,
          0,
          0
         ],
         "yaxis": "y"
        },
        {
         "alignmentgroup": "True",
         "hoverlabel": {
          "namelength": 0
         },
         "hovertemplate": "Country=Vietnam<br>Date=%{x}<br>Deaths=%{text}",
         "legendgroup": "Vietnam",
         "marker": {
          "color": "#ab63fa"
         },
         "name": "Vietnam",
         "offsetgroup": "Vietnam",
         "orientation": "v",
         "showlegend": true,
         "text": [
          0,
          0,
          0,
          0,
          0,
          0,
          0,
          0,
          0,
          0,
          0,
          0,
          0,
          0,
          0,
          0,
          0,
          0,
          0,
          0,
          0,
          0,
          0,
          0,
          0,
          0
         ],
         "textposition": "auto",
         "type": "bar",
         "x": [
          "01/23/2020 12:00:00",
          "01/24/2020 12:00:00",
          "01/25/2020 22:00:00",
          "01/26/2020 23:00:00",
          "01/27/2020 20:30:00",
          "01/28/2020 23:00:00",
          "01/29/2020 21:00:00",
          "01/30/2020 21:30:00",
          "01/31/2020 19:00:00",
          "02/01/2020 23:00:00",
          "02/02/2020 21:00:00",
          "02/03/2020 21:40:00",
          "02/04/2020 22:00:00",
          "02/05/2020 12:20:00",
          "02/06/2020 20:05:00",
          "02/07/2020 20:24:00",
          "02/08/2020 23:04:00",
          "02/09/2020 23:20:00",
          "02/10/2020 19:30:00",
          "02/11/2020 20:44:00",
          "02/12/2020 22:00:00",
          "02/13/2020 21:15:00",
          "02/14/2020 22:00:00",
          "02/15/2020 22:00:00",
          "02/16/2020 22:00:00",
          "02/17/2020 22:00:00"
         ],
         "xaxis": "x",
         "y": [
          0,
          0,
          0,
          0,
          0,
          0,
          0,
          0,
          0,
          0,
          0,
          0,
          0,
          0,
          0,
          0,
          0,
          0,
          0,
          0,
          0,
          0,
          0,
          0,
          0,
          0
         ],
         "yaxis": "y"
        },
        {
         "alignmentgroup": "True",
         "hoverlabel": {
          "namelength": 0
         },
         "hovertemplate": "Country=Taiwan<br>Date=%{x}<br>Deaths=%{text}",
         "legendgroup": "Taiwan",
         "marker": {
          "color": "#FFA15A"
         },
         "name": "Taiwan",
         "offsetgroup": "Taiwan",
         "orientation": "v",
         "showlegend": true,
         "text": [
          0,
          0,
          0,
          0,
          0,
          0,
          0,
          0,
          0,
          0,
          0,
          0,
          0,
          0,
          0,
          0,
          0,
          0,
          0,
          0,
          0,
          0,
          0,
          0,
          1,
          1
         ],
         "textposition": "auto",
         "type": "bar",
         "x": [
          "01/23/2020 12:00:00",
          "01/24/2020 12:00:00",
          "01/25/2020 22:00:00",
          "01/26/2020 23:00:00",
          "01/27/2020 20:30:00",
          "01/28/2020 23:00:00",
          "01/29/2020 21:00:00",
          "01/30/2020 21:30:00",
          "01/31/2020 19:00:00",
          "02/01/2020 23:00:00",
          "02/02/2020 21:00:00",
          "02/03/2020 21:40:00",
          "02/04/2020 22:00:00",
          "02/05/2020 12:20:00",
          "02/06/2020 20:05:00",
          "02/07/2020 20:24:00",
          "02/08/2020 23:04:00",
          "02/09/2020 23:20:00",
          "02/10/2020 19:30:00",
          "02/11/2020 20:44:00",
          "02/12/2020 22:00:00",
          "02/13/2020 21:15:00",
          "02/14/2020 22:00:00",
          "02/15/2020 22:00:00",
          "02/16/2020 22:00:00",
          "02/17/2020 22:00:00"
         ],
         "xaxis": "x",
         "y": [
          0,
          0,
          0,
          0,
          0,
          0,
          0,
          0,
          0,
          0,
          0,
          0,
          0,
          0,
          0,
          0,
          0,
          0,
          0,
          0,
          0,
          0,
          0,
          0,
          1,
          1
         ],
         "yaxis": "y"
        },
        {
         "alignmentgroup": "True",
         "hoverlabel": {
          "namelength": 0
         },
         "hovertemplate": "Country=France<br>Date=%{x}<br>Deaths=%{text}",
         "legendgroup": "France",
         "marker": {
          "color": "#19d3f3"
         },
         "name": "France",
         "offsetgroup": "France",
         "orientation": "v",
         "showlegend": true,
         "text": [
          0,
          0,
          0,
          0,
          0,
          0,
          0,
          0,
          0,
          0,
          0,
          0,
          0,
          0,
          0,
          0,
          0,
          0,
          0,
          0,
          0,
          0,
          1,
          1,
          1
         ],
         "textposition": "auto",
         "type": "bar",
         "x": [
          "01/24/2020 12:00:00",
          "01/25/2020 22:00:00",
          "01/26/2020 23:00:00",
          "01/27/2020 20:30:00",
          "01/28/2020 23:00:00",
          "01/29/2020 21:00:00",
          "01/30/2020 21:30:00",
          "01/31/2020 19:00:00",
          "02/01/2020 23:00:00",
          "02/02/2020 21:00:00",
          "02/03/2020 21:40:00",
          "02/04/2020 22:00:00",
          "02/05/2020 12:20:00",
          "02/06/2020 20:05:00",
          "02/07/2020 20:24:00",
          "02/08/2020 23:04:00",
          "02/09/2020 23:20:00",
          "02/10/2020 19:30:00",
          "02/11/2020 20:44:00",
          "02/12/2020 22:00:00",
          "02/13/2020 21:15:00",
          "02/14/2020 22:00:00",
          "02/15/2020 22:00:00",
          "02/16/2020 22:00:00",
          "02/17/2020 22:00:00"
         ],
         "xaxis": "x",
         "y": [
          0,
          0,
          0,
          0,
          0,
          0,
          0,
          0,
          0,
          0,
          0,
          0,
          0,
          0,
          0,
          0,
          0,
          0,
          0,
          0,
          0,
          0,
          1,
          1,
          1
         ],
         "yaxis": "y"
        },
        {
         "alignmentgroup": "True",
         "hoverlabel": {
          "namelength": 0
         },
         "hovertemplate": "Country=Nepal<br>Date=%{x}<br>Deaths=%{text}",
         "legendgroup": "Nepal",
         "marker": {
          "color": "#FF6692"
         },
         "name": "Nepal",
         "offsetgroup": "Nepal",
         "orientation": "v",
         "showlegend": true,
         "text": [
          0,
          0,
          0,
          0,
          0,
          0,
          0,
          0,
          0,
          0,
          0,
          0,
          0,
          0,
          0,
          0,
          0,
          0,
          0,
          0,
          0,
          0,
          0,
          0
         ],
         "textposition": "auto",
         "type": "bar",
         "x": [
          "01/25/2020 22:00:00",
          "01/26/2020 23:00:00",
          "01/27/2020 20:30:00",
          "01/28/2020 23:00:00",
          "01/29/2020 21:00:00",
          "01/30/2020 21:30:00",
          "01/31/2020 19:00:00",
          "02/01/2020 23:00:00",
          "02/02/2020 21:00:00",
          "02/03/2020 21:40:00",
          "02/04/2020 22:00:00",
          "02/05/2020 12:20:00",
          "02/06/2020 20:05:00",
          "02/07/2020 20:24:00",
          "02/08/2020 23:04:00",
          "02/09/2020 23:20:00",
          "02/10/2020 19:30:00",
          "02/11/2020 20:44:00",
          "02/12/2020 22:00:00",
          "02/13/2020 21:15:00",
          "02/14/2020 22:00:00",
          "02/15/2020 22:00:00",
          "02/16/2020 22:00:00",
          "02/17/2020 22:00:00"
         ],
         "xaxis": "x",
         "y": [
          0,
          0,
          0,
          0,
          0,
          0,
          0,
          0,
          0,
          0,
          0,
          0,
          0,
          0,
          0,
          0,
          0,
          0,
          0,
          0,
          0,
          0,
          0,
          0
         ],
         "yaxis": "y"
        },
        {
         "alignmentgroup": "True",
         "hoverlabel": {
          "namelength": 0
         },
         "hovertemplate": "Country=Canada<br>Date=%{x}<br>Deaths=%{text}",
         "legendgroup": "Canada",
         "marker": {
          "color": "#B6E880"
         },
         "name": "Canada",
         "offsetgroup": "Canada",
         "orientation": "v",
         "showlegend": true,
         "text": [
          0,
          0,
          0,
          0,
          0,
          0,
          0,
          0,
          0,
          0,
          0,
          0,
          0,
          0,
          0,
          0,
          0,
          0,
          0,
          0,
          0,
          0,
          0
         ],
         "textposition": "auto",
         "type": "bar",
         "x": [
          "01/26/2020 23:00:00",
          "01/27/2020 20:30:00",
          "01/28/2020 23:00:00",
          "01/29/2020 21:00:00",
          "01/30/2020 21:30:00",
          "01/31/2020 19:00:00",
          "02/01/2020 23:00:00",
          "02/02/2020 21:00:00",
          "02/03/2020 21:40:00",
          "02/04/2020 22:00:00",
          "02/05/2020 12:20:00",
          "02/06/2020 20:05:00",
          "02/07/2020 20:24:00",
          "02/08/2020 23:04:00",
          "02/09/2020 23:20:00",
          "02/10/2020 19:30:00",
          "02/11/2020 20:44:00",
          "02/12/2020 22:00:00",
          "02/13/2020 21:15:00",
          "02/14/2020 22:00:00",
          "02/15/2020 22:00:00",
          "02/16/2020 22:00:00",
          "02/17/2020 22:00:00"
         ],
         "xaxis": "x",
         "y": [
          0,
          0,
          0,
          0,
          0,
          0,
          0,
          0,
          0,
          0,
          0,
          0,
          0,
          0,
          0,
          0,
          0,
          0,
          0,
          0,
          0,
          0,
          0
         ],
         "yaxis": "y"
        },
        {
         "alignmentgroup": "True",
         "hoverlabel": {
          "namelength": 0
         },
         "hovertemplate": "Country=Cambodia<br>Date=%{x}<br>Deaths=%{text}",
         "legendgroup": "Cambodia",
         "marker": {
          "color": "#FF97FF"
         },
         "name": "Cambodia",
         "offsetgroup": "Cambodia",
         "orientation": "v",
         "showlegend": true,
         "text": [
          0,
          0,
          0,
          0,
          0,
          0,
          0,
          0,
          0,
          0,
          0,
          0,
          0,
          0,
          0,
          0,
          0,
          0,
          0,
          0,
          0,
          0
         ],
         "textposition": "auto",
         "type": "bar",
         "x": [
          "01/27/2020 20:30:00",
          "01/28/2020 23:00:00",
          "01/29/2020 21:00:00",
          "01/30/2020 21:30:00",
          "01/31/2020 19:00:00",
          "02/01/2020 23:00:00",
          "02/02/2020 21:00:00",
          "02/03/2020 21:40:00",
          "02/04/2020 22:00:00",
          "02/05/2020 12:20:00",
          "02/06/2020 20:05:00",
          "02/07/2020 20:24:00",
          "02/08/2020 23:04:00",
          "02/09/2020 23:20:00",
          "02/10/2020 19:30:00",
          "02/11/2020 20:44:00",
          "02/12/2020 22:00:00",
          "02/13/2020 21:15:00",
          "02/14/2020 22:00:00",
          "02/15/2020 22:00:00",
          "02/16/2020 22:00:00",
          "02/17/2020 22:00:00"
         ],
         "xaxis": "x",
         "y": [
          0,
          0,
          0,
          0,
          0,
          0,
          0,
          0,
          0,
          0,
          0,
          0,
          0,
          0,
          0,
          0,
          0,
          0,
          0,
          0,
          0,
          0
         ],
         "yaxis": "y"
        },
        {
         "alignmentgroup": "True",
         "hoverlabel": {
          "namelength": 0
         },
         "hovertemplate": "Country=Ivory Coast<br>Date=%{x}<br>Deaths=%{text}",
         "legendgroup": "Ivory Coast",
         "marker": {
          "color": "#FECB52"
         },
         "name": "Ivory Coast",
         "offsetgroup": "Ivory Coast",
         "orientation": "v",
         "showlegend": true,
         "text": [
          0
         ],
         "textposition": "auto",
         "type": "bar",
         "x": [
          "01/27/2020 20:30:00"
         ],
         "xaxis": "x",
         "y": [
          0
         ],
         "yaxis": "y"
        },
        {
         "alignmentgroup": "True",
         "hoverlabel": {
          "namelength": 0
         },
         "hovertemplate": "Country=Germany<br>Date=%{x}<br>Deaths=%{text}",
         "legendgroup": "Germany",
         "marker": {
          "color": "#636efa"
         },
         "name": "Germany",
         "offsetgroup": "Germany",
         "orientation": "v",
         "showlegend": true,
         "text": [
          0,
          0,
          0,
          0,
          0,
          0,
          0,
          0,
          0,
          0,
          0,
          0,
          0,
          0,
          0,
          0,
          0,
          0,
          0,
          0,
          0,
          0
         ],
         "textposition": "auto",
         "type": "bar",
         "x": [
          "01/27/2020 20:30:00",
          "01/28/2020 23:00:00",
          "01/29/2020 21:00:00",
          "01/30/2020 21:30:00",
          "01/31/2020 19:00:00",
          "02/01/2020 23:00:00",
          "02/02/2020 21:00:00",
          "02/03/2020 21:40:00",
          "02/04/2020 22:00:00",
          "02/05/2020 12:20:00",
          "02/06/2020 20:05:00",
          "02/07/2020 20:24:00",
          "02/08/2020 23:04:00",
          "02/09/2020 23:20:00",
          "02/10/2020 19:30:00",
          "02/11/2020 20:44:00",
          "02/12/2020 22:00:00",
          "02/13/2020 21:15:00",
          "02/14/2020 22:00:00",
          "02/15/2020 22:00:00",
          "02/16/2020 22:00:00",
          "02/17/2020 22:00:00"
         ],
         "xaxis": "x",
         "y": [
          0,
          0,
          0,
          0,
          0,
          0,
          0,
          0,
          0,
          0,
          0,
          0,
          0,
          0,
          0,
          0,
          0,
          0,
          0,
          0,
          0,
          0
         ],
         "yaxis": "y"
        },
        {
         "alignmentgroup": "True",
         "hoverlabel": {
          "namelength": 0
         },
         "hovertemplate": "Country=Sri Lanka<br>Date=%{x}<br>Deaths=%{text}",
         "legendgroup": "Sri Lanka",
         "marker": {
          "color": "#EF553B"
         },
         "name": "Sri Lanka",
         "offsetgroup": "Sri Lanka",
         "orientation": "v",
         "showlegend": true,
         "text": [
          0,
          0,
          0,
          0,
          0,
          0,
          0,
          0,
          0,
          0,
          0,
          0,
          0,
          0,
          0,
          0,
          0,
          0,
          0,
          0,
          0,
          0
         ],
         "textposition": "auto",
         "type": "bar",
         "x": [
          "01/27/2020 20:30:00",
          "01/28/2020 23:00:00",
          "01/29/2020 21:00:00",
          "01/30/2020 21:30:00",
          "01/31/2020 19:00:00",
          "02/01/2020 23:00:00",
          "02/02/2020 21:00:00",
          "02/03/2020 21:40:00",
          "02/04/2020 22:00:00",
          "02/05/2020 12:20:00",
          "02/06/2020 20:05:00",
          "02/07/2020 20:24:00",
          "02/08/2020 23:04:00",
          "02/09/2020 23:20:00",
          "02/10/2020 19:30:00",
          "02/11/2020 20:44:00",
          "02/12/2020 22:00:00",
          "02/13/2020 21:15:00",
          "02/14/2020 22:00:00",
          "02/15/2020 22:00:00",
          "02/16/2020 22:00:00",
          "02/17/2020 22:00:00"
         ],
         "xaxis": "x",
         "y": [
          0,
          0,
          0,
          0,
          0,
          0,
          0,
          0,
          0,
          0,
          0,
          0,
          0,
          0,
          0,
          0,
          0,
          0,
          0,
          0,
          0,
          0
         ],
         "yaxis": "y"
        },
        {
         "alignmentgroup": "True",
         "hoverlabel": {
          "namelength": 0
         },
         "hovertemplate": "Country=Finland<br>Date=%{x}<br>Deaths=%{text}",
         "legendgroup": "Finland",
         "marker": {
          "color": "#00cc96"
         },
         "name": "Finland",
         "offsetgroup": "Finland",
         "orientation": "v",
         "showlegend": true,
         "text": [
          0,
          0,
          0,
          0,
          0,
          0,
          0,
          0,
          0,
          0,
          0,
          0,
          0,
          0,
          0,
          0,
          0,
          0,
          0,
          0
         ],
         "textposition": "auto",
         "type": "bar",
         "x": [
          "01/29/2020 21:00:00",
          "01/30/2020 21:30:00",
          "01/31/2020 19:00:00",
          "02/01/2020 23:00:00",
          "02/02/2020 21:00:00",
          "02/03/2020 21:40:00",
          "02/04/2020 22:00:00",
          "02/05/2020 12:20:00",
          "02/06/2020 20:05:00",
          "02/07/2020 20:24:00",
          "02/08/2020 23:04:00",
          "02/09/2020 23:20:00",
          "02/10/2020 19:30:00",
          "02/11/2020 20:44:00",
          "02/12/2020 22:00:00",
          "02/13/2020 21:15:00",
          "02/14/2020 22:00:00",
          "02/15/2020 22:00:00",
          "02/16/2020 22:00:00",
          "02/17/2020 22:00:00"
         ],
         "xaxis": "x",
         "y": [
          0,
          0,
          0,
          0,
          0,
          0,
          0,
          0,
          0,
          0,
          0,
          0,
          0,
          0,
          0,
          0,
          0,
          0,
          0,
          0
         ],
         "yaxis": "y"
        },
        {
         "alignmentgroup": "True",
         "hoverlabel": {
          "namelength": 0
         },
         "hovertemplate": "Country=United Arab Emirates<br>Date=%{x}<br>Deaths=%{text}",
         "legendgroup": "United Arab Emirates",
         "marker": {
          "color": "#ab63fa"
         },
         "name": "United Arab Emirates",
         "offsetgroup": "United Arab Emirates",
         "orientation": "v",
         "showlegend": true,
         "text": [
          0,
          0,
          0,
          0,
          0,
          0,
          0,
          0,
          0,
          0,
          0,
          0,
          0,
          0,
          0,
          0,
          0,
          0,
          0,
          0
         ],
         "textposition": "auto",
         "type": "bar",
         "x": [
          "01/29/2020 21:00:00",
          "01/30/2020 21:30:00",
          "01/31/2020 19:00:00",
          "02/01/2020 23:00:00",
          "02/02/2020 21:00:00",
          "02/03/2020 21:40:00",
          "02/04/2020 22:00:00",
          "02/05/2020 12:20:00",
          "02/06/2020 20:05:00",
          "02/07/2020 20:24:00",
          "02/08/2020 23:04:00",
          "02/09/2020 23:20:00",
          "02/10/2020 19:30:00",
          "02/11/2020 20:44:00",
          "02/12/2020 22:00:00",
          "02/13/2020 21:15:00",
          "02/14/2020 22:00:00",
          "02/15/2020 22:00:00",
          "02/16/2020 22:00:00",
          "02/17/2020 22:00:00"
         ],
         "xaxis": "x",
         "y": [
          0,
          0,
          0,
          0,
          0,
          0,
          0,
          0,
          0,
          0,
          0,
          0,
          0,
          0,
          0,
          0,
          0,
          0,
          0,
          0
         ],
         "yaxis": "y"
        },
        {
         "alignmentgroup": "True",
         "hoverlabel": {
          "namelength": 0
         },
         "hovertemplate": "Country=India<br>Date=%{x}<br>Deaths=%{text}",
         "legendgroup": "India",
         "marker": {
          "color": "#FFA15A"
         },
         "name": "India",
         "offsetgroup": "India",
         "orientation": "v",
         "showlegend": true,
         "text": [
          0,
          0,
          0,
          0,
          0,
          0,
          0,
          0,
          0,
          0,
          0,
          0,
          0,
          0,
          0,
          0,
          0,
          0,
          0
         ],
         "textposition": "auto",
         "type": "bar",
         "x": [
          "01/30/2020 21:30:00",
          "01/31/2020 19:00:00",
          "02/01/2020 23:00:00",
          "02/02/2020 21:00:00",
          "02/03/2020 21:40:00",
          "02/04/2020 22:00:00",
          "02/05/2020 12:20:00",
          "02/06/2020 20:05:00",
          "02/07/2020 20:24:00",
          "02/08/2020 23:04:00",
          "02/09/2020 23:20:00",
          "02/10/2020 19:30:00",
          "02/11/2020 20:44:00",
          "02/12/2020 22:00:00",
          "02/13/2020 21:15:00",
          "02/14/2020 22:00:00",
          "02/15/2020 22:00:00",
          "02/16/2020 22:00:00",
          "02/17/2020 22:00:00"
         ],
         "xaxis": "x",
         "y": [
          0,
          0,
          0,
          0,
          0,
          0,
          0,
          0,
          0,
          0,
          0,
          0,
          0,
          0,
          0,
          0,
          0,
          0,
          0
         ],
         "yaxis": "y"
        },
        {
         "alignmentgroup": "True",
         "hoverlabel": {
          "namelength": 0
         },
         "hovertemplate": "Country=Italy<br>Date=%{x}<br>Deaths=%{text}",
         "legendgroup": "Italy",
         "marker": {
          "color": "#19d3f3"
         },
         "name": "Italy",
         "offsetgroup": "Italy",
         "orientation": "v",
         "showlegend": true,
         "text": [
          0,
          0,
          0,
          0,
          0,
          0,
          0,
          0,
          0,
          0,
          0,
          0,
          0,
          0,
          0,
          0,
          0,
          0,
          0
         ],
         "textposition": "auto",
         "type": "bar",
         "x": [
          "01/30/2020 21:30:00",
          "01/31/2020 19:00:00",
          "02/01/2020 23:00:00",
          "02/02/2020 21:00:00",
          "02/03/2020 21:40:00",
          "02/04/2020 22:00:00",
          "02/05/2020 12:20:00",
          "02/06/2020 20:05:00",
          "02/07/2020 20:24:00",
          "02/08/2020 23:04:00",
          "02/09/2020 23:20:00",
          "02/10/2020 19:30:00",
          "02/11/2020 20:44:00",
          "02/12/2020 22:00:00",
          "02/13/2020 21:15:00",
          "02/14/2020 22:00:00",
          "02/15/2020 22:00:00",
          "02/16/2020 22:00:00",
          "02/17/2020 22:00:00"
         ],
         "xaxis": "x",
         "y": [
          0,
          0,
          0,
          0,
          0,
          0,
          0,
          0,
          0,
          0,
          0,
          0,
          0,
          0,
          0,
          0,
          0,
          0,
          0
         ],
         "yaxis": "y"
        },
        {
         "alignmentgroup": "True",
         "hoverlabel": {
          "namelength": 0
         },
         "hovertemplate": "Country=Spain<br>Date=%{x}<br>Deaths=%{text}",
         "legendgroup": "Spain",
         "marker": {
          "color": "#FF6692"
         },
         "name": "Spain",
         "offsetgroup": "Spain",
         "orientation": "v",
         "showlegend": true,
         "text": [
          0,
          0,
          0,
          0,
          0,
          0,
          0,
          0,
          0,
          0,
          0,
          0,
          0,
          0,
          0,
          0,
          0,
          0
         ],
         "textposition": "auto",
         "type": "bar",
         "x": [
          "01/31/2020 19:00:00",
          "02/01/2020 23:00:00",
          "02/02/2020 21:00:00",
          "02/03/2020 21:40:00",
          "02/04/2020 22:00:00",
          "02/05/2020 12:20:00",
          "02/06/2020 20:05:00",
          "02/07/2020 20:24:00",
          "02/08/2020 23:04:00",
          "02/09/2020 23:20:00",
          "02/10/2020 19:30:00",
          "02/11/2020 20:44:00",
          "02/12/2020 22:00:00",
          "02/13/2020 21:15:00",
          "02/14/2020 22:00:00",
          "02/15/2020 22:00:00",
          "02/16/2020 22:00:00",
          "02/17/2020 22:00:00"
         ],
         "xaxis": "x",
         "y": [
          0,
          0,
          0,
          0,
          0,
          0,
          0,
          0,
          0,
          0,
          0,
          0,
          0,
          0,
          0,
          0,
          0,
          0
         ],
         "yaxis": "y"
        },
        {
         "alignmentgroup": "True",
         "hoverlabel": {
          "namelength": 0
         },
         "hovertemplate": "Country=UK<br>Date=%{x}<br>Deaths=%{text}",
         "legendgroup": "UK",
         "marker": {
          "color": "#B6E880"
         },
         "name": "UK",
         "offsetgroup": "UK",
         "orientation": "v",
         "showlegend": true,
         "text": [
          0,
          0,
          0,
          0,
          0,
          0,
          0,
          0,
          0,
          0,
          0,
          0,
          0,
          0,
          0,
          0,
          0,
          0
         ],
         "textposition": "auto",
         "type": "bar",
         "x": [
          "01/31/2020 19:00:00",
          "02/01/2020 23:00:00",
          "02/02/2020 21:00:00",
          "02/03/2020 21:40:00",
          "02/04/2020 22:00:00",
          "02/05/2020 12:20:00",
          "02/06/2020 20:05:00",
          "02/07/2020 20:24:00",
          "02/08/2020 23:04:00",
          "02/09/2020 23:20:00",
          "02/10/2020 19:30:00",
          "02/11/2020 20:44:00",
          "02/12/2020 22:00:00",
          "02/13/2020 21:15:00",
          "02/14/2020 22:00:00",
          "02/15/2020 22:00:00",
          "02/16/2020 22:00:00",
          "02/17/2020 22:00:00"
         ],
         "xaxis": "x",
         "y": [
          0,
          0,
          0,
          0,
          0,
          0,
          0,
          0,
          0,
          0,
          0,
          0,
          0,
          0,
          0,
          0,
          0,
          0
         ],
         "yaxis": "y"
        },
        {
         "alignmentgroup": "True",
         "hoverlabel": {
          "namelength": 0
         },
         "hovertemplate": "Country=Sweden<br>Date=%{x}<br>Deaths=%{text}",
         "legendgroup": "Sweden",
         "marker": {
          "color": "#FF97FF"
         },
         "name": "Sweden",
         "offsetgroup": "Sweden",
         "orientation": "v",
         "showlegend": true,
         "text": [
          0,
          0,
          0,
          0,
          0,
          0,
          0,
          0,
          0,
          0,
          0,
          0,
          0,
          0,
          0,
          0,
          0,
          0
         ],
         "textposition": "auto",
         "type": "bar",
         "x": [
          "01/31/2020 19:00:00",
          "02/01/2020 23:00:00",
          "02/02/2020 21:00:00",
          "02/03/2020 21:40:00",
          "02/04/2020 22:00:00",
          "02/05/2020 12:20:00",
          "02/06/2020 20:05:00",
          "02/07/2020 20:24:00",
          "02/08/2020 23:04:00",
          "02/09/2020 23:20:00",
          "02/10/2020 19:30:00",
          "02/11/2020 20:44:00",
          "02/12/2020 22:00:00",
          "02/13/2020 21:15:00",
          "02/14/2020 22:00:00",
          "02/15/2020 22:00:00",
          "02/16/2020 22:00:00",
          "02/17/2020 22:00:00"
         ],
         "xaxis": "x",
         "y": [
          0,
          0,
          0,
          0,
          0,
          0,
          0,
          0,
          0,
          0,
          0,
          0,
          0,
          0,
          0,
          0,
          0,
          0
         ],
         "yaxis": "y"
        },
        {
         "alignmentgroup": "True",
         "hoverlabel": {
          "namelength": 0
         },
         "hovertemplate": "Country=Russia<br>Date=%{x}<br>Deaths=%{text}",
         "legendgroup": "Russia",
         "marker": {
          "color": "#FECB52"
         },
         "name": "Russia",
         "offsetgroup": "Russia",
         "orientation": "v",
         "showlegend": true,
         "text": [
          0,
          0,
          0,
          0,
          0,
          0,
          0,
          0,
          0,
          0,
          0,
          0,
          0,
          0,
          0,
          0,
          0,
          0
         ],
         "textposition": "auto",
         "type": "bar",
         "x": [
          "01/31/2020 19:00:00",
          "02/01/2020 23:00:00",
          "02/02/2020 21:00:00",
          "02/03/2020 21:40:00",
          "02/04/2020 22:00:00",
          "02/05/2020 12:20:00",
          "02/06/2020 20:05:00",
          "02/07/2020 20:24:00",
          "02/08/2020 23:04:00",
          "02/09/2020 23:20:00",
          "02/10/2020 19:30:00",
          "02/11/2020 20:44:00",
          "02/12/2020 22:00:00",
          "02/13/2020 21:15:00",
          "02/14/2020 22:00:00",
          "02/15/2020 22:00:00",
          "02/16/2020 22:00:00",
          "02/17/2020 22:00:00"
         ],
         "xaxis": "x",
         "y": [
          0,
          0,
          0,
          0,
          0,
          0,
          0,
          0,
          0,
          0,
          0,
          0,
          0,
          0,
          0,
          0,
          0,
          0
         ],
         "yaxis": "y"
        },
        {
         "alignmentgroup": "True",
         "hoverlabel": {
          "namelength": 0
         },
         "hovertemplate": "Country=Belgium<br>Date=%{x}<br>Deaths=%{text}",
         "legendgroup": "Belgium",
         "marker": {
          "color": "#636efa"
         },
         "name": "Belgium",
         "offsetgroup": "Belgium",
         "orientation": "v",
         "showlegend": true,
         "text": [
          0,
          0,
          0,
          0,
          0,
          0,
          0,
          0,
          0,
          0,
          0,
          0,
          0,
          0
         ],
         "textposition": "auto",
         "type": "bar",
         "x": [
          "02/04/2020 22:00:00",
          "02/05/2020 12:20:00",
          "02/06/2020 20:05:00",
          "02/07/2020 20:24:00",
          "02/08/2020 23:04:00",
          "02/09/2020 23:20:00",
          "02/10/2020 19:30:00",
          "02/11/2020 20:44:00",
          "02/12/2020 22:00:00",
          "02/13/2020 21:15:00",
          "02/14/2020 22:00:00",
          "02/15/2020 22:00:00",
          "02/16/2020 22:00:00",
          "02/17/2020 22:00:00"
         ],
         "xaxis": "x",
         "y": [
          0,
          0,
          0,
          0,
          0,
          0,
          0,
          0,
          0,
          0,
          0,
          0,
          0,
          0
         ],
         "yaxis": "y"
        },
        {
         "alignmentgroup": "True",
         "hoverlabel": {
          "namelength": 0
         },
         "hovertemplate": "Country=Others<br>Date=%{x}<br>Deaths=%{text}",
         "legendgroup": "Others",
         "marker": {
          "color": "#EF553B"
         },
         "name": "Others",
         "offsetgroup": "Others",
         "orientation": "v",
         "showlegend": true,
         "text": [
          0,
          0,
          0,
          0,
          0,
          0,
          0,
          0,
          0,
          0,
          0
         ],
         "textposition": "auto",
         "type": "bar",
         "x": [
          "02/07/2020 20:24:00",
          "02/08/2020 23:04:00",
          "02/09/2020 23:20:00",
          "02/10/2020 19:30:00",
          "02/11/2020 20:44:00",
          "02/12/2020 22:00:00",
          "02/13/2020 21:15:00",
          "02/14/2020 22:00:00",
          "02/15/2020 22:00:00",
          "02/16/2020 22:00:00",
          "02/17/2020 22:00:00"
         ],
         "xaxis": "x",
         "y": [
          0,
          0,
          0,
          0,
          0,
          0,
          0,
          0,
          0,
          0,
          0
         ],
         "yaxis": "y"
        },
        {
         "alignmentgroup": "True",
         "hoverlabel": {
          "namelength": 0
         },
         "hovertemplate": "Country=Egypt<br>Date=%{x}<br>Deaths=%{text}",
         "legendgroup": "Egypt",
         "marker": {
          "color": "#00cc96"
         },
         "name": "Egypt",
         "offsetgroup": "Egypt",
         "orientation": "v",
         "showlegend": true,
         "text": [
          0,
          0,
          0,
          0
         ],
         "textposition": "auto",
         "type": "bar",
         "x": [
          "02/14/2020 22:00:00",
          "02/15/2020 22:00:00",
          "02/16/2020 22:00:00",
          "02/17/2020 22:00:00"
         ],
         "xaxis": "x",
         "y": [
          0,
          0,
          0,
          0
         ],
         "yaxis": "y"
        }
       ],
       "layout": {
        "barmode": "relative",
        "height": 600,
        "legend": {
         "title": {
          "text": "Country"
         },
         "tracegroupgap": 0
        },
        "template": {
         "data": {
          "bar": [
           {
            "error_x": {
             "color": "#2a3f5f"
            },
            "error_y": {
             "color": "#2a3f5f"
            },
            "marker": {
             "line": {
              "color": "#E5ECF6",
              "width": 0.5
             }
            },
            "type": "bar"
           }
          ],
          "barpolar": [
           {
            "marker": {
             "line": {
              "color": "#E5ECF6",
              "width": 0.5
             }
            },
            "type": "barpolar"
           }
          ],
          "carpet": [
           {
            "aaxis": {
             "endlinecolor": "#2a3f5f",
             "gridcolor": "white",
             "linecolor": "white",
             "minorgridcolor": "white",
             "startlinecolor": "#2a3f5f"
            },
            "baxis": {
             "endlinecolor": "#2a3f5f",
             "gridcolor": "white",
             "linecolor": "white",
             "minorgridcolor": "white",
             "startlinecolor": "#2a3f5f"
            },
            "type": "carpet"
           }
          ],
          "choropleth": [
           {
            "colorbar": {
             "outlinewidth": 0,
             "ticks": ""
            },
            "type": "choropleth"
           }
          ],
          "contour": [
           {
            "colorbar": {
             "outlinewidth": 0,
             "ticks": ""
            },
            "colorscale": [
             [
              0,
              "#0d0887"
             ],
             [
              0.1111111111111111,
              "#46039f"
             ],
             [
              0.2222222222222222,
              "#7201a8"
             ],
             [
              0.3333333333333333,
              "#9c179e"
             ],
             [
              0.4444444444444444,
              "#bd3786"
             ],
             [
              0.5555555555555556,
              "#d8576b"
             ],
             [
              0.6666666666666666,
              "#ed7953"
             ],
             [
              0.7777777777777778,
              "#fb9f3a"
             ],
             [
              0.8888888888888888,
              "#fdca26"
             ],
             [
              1,
              "#f0f921"
             ]
            ],
            "type": "contour"
           }
          ],
          "contourcarpet": [
           {
            "colorbar": {
             "outlinewidth": 0,
             "ticks": ""
            },
            "type": "contourcarpet"
           }
          ],
          "heatmap": [
           {
            "colorbar": {
             "outlinewidth": 0,
             "ticks": ""
            },
            "colorscale": [
             [
              0,
              "#0d0887"
             ],
             [
              0.1111111111111111,
              "#46039f"
             ],
             [
              0.2222222222222222,
              "#7201a8"
             ],
             [
              0.3333333333333333,
              "#9c179e"
             ],
             [
              0.4444444444444444,
              "#bd3786"
             ],
             [
              0.5555555555555556,
              "#d8576b"
             ],
             [
              0.6666666666666666,
              "#ed7953"
             ],
             [
              0.7777777777777778,
              "#fb9f3a"
             ],
             [
              0.8888888888888888,
              "#fdca26"
             ],
             [
              1,
              "#f0f921"
             ]
            ],
            "type": "heatmap"
           }
          ],
          "heatmapgl": [
           {
            "colorbar": {
             "outlinewidth": 0,
             "ticks": ""
            },
            "colorscale": [
             [
              0,
              "#0d0887"
             ],
             [
              0.1111111111111111,
              "#46039f"
             ],
             [
              0.2222222222222222,
              "#7201a8"
             ],
             [
              0.3333333333333333,
              "#9c179e"
             ],
             [
              0.4444444444444444,
              "#bd3786"
             ],
             [
              0.5555555555555556,
              "#d8576b"
             ],
             [
              0.6666666666666666,
              "#ed7953"
             ],
             [
              0.7777777777777778,
              "#fb9f3a"
             ],
             [
              0.8888888888888888,
              "#fdca26"
             ],
             [
              1,
              "#f0f921"
             ]
            ],
            "type": "heatmapgl"
           }
          ],
          "histogram": [
           {
            "marker": {
             "colorbar": {
              "outlinewidth": 0,
              "ticks": ""
             }
            },
            "type": "histogram"
           }
          ],
          "histogram2d": [
           {
            "colorbar": {
             "outlinewidth": 0,
             "ticks": ""
            },
            "colorscale": [
             [
              0,
              "#0d0887"
             ],
             [
              0.1111111111111111,
              "#46039f"
             ],
             [
              0.2222222222222222,
              "#7201a8"
             ],
             [
              0.3333333333333333,
              "#9c179e"
             ],
             [
              0.4444444444444444,
              "#bd3786"
             ],
             [
              0.5555555555555556,
              "#d8576b"
             ],
             [
              0.6666666666666666,
              "#ed7953"
             ],
             [
              0.7777777777777778,
              "#fb9f3a"
             ],
             [
              0.8888888888888888,
              "#fdca26"
             ],
             [
              1,
              "#f0f921"
             ]
            ],
            "type": "histogram2d"
           }
          ],
          "histogram2dcontour": [
           {
            "colorbar": {
             "outlinewidth": 0,
             "ticks": ""
            },
            "colorscale": [
             [
              0,
              "#0d0887"
             ],
             [
              0.1111111111111111,
              "#46039f"
             ],
             [
              0.2222222222222222,
              "#7201a8"
             ],
             [
              0.3333333333333333,
              "#9c179e"
             ],
             [
              0.4444444444444444,
              "#bd3786"
             ],
             [
              0.5555555555555556,
              "#d8576b"
             ],
             [
              0.6666666666666666,
              "#ed7953"
             ],
             [
              0.7777777777777778,
              "#fb9f3a"
             ],
             [
              0.8888888888888888,
              "#fdca26"
             ],
             [
              1,
              "#f0f921"
             ]
            ],
            "type": "histogram2dcontour"
           }
          ],
          "mesh3d": [
           {
            "colorbar": {
             "outlinewidth": 0,
             "ticks": ""
            },
            "type": "mesh3d"
           }
          ],
          "parcoords": [
           {
            "line": {
             "colorbar": {
              "outlinewidth": 0,
              "ticks": ""
             }
            },
            "type": "parcoords"
           }
          ],
          "pie": [
           {
            "automargin": true,
            "type": "pie"
           }
          ],
          "scatter": [
           {
            "marker": {
             "colorbar": {
              "outlinewidth": 0,
              "ticks": ""
             }
            },
            "type": "scatter"
           }
          ],
          "scatter3d": [
           {
            "line": {
             "colorbar": {
              "outlinewidth": 0,
              "ticks": ""
             }
            },
            "marker": {
             "colorbar": {
              "outlinewidth": 0,
              "ticks": ""
             }
            },
            "type": "scatter3d"
           }
          ],
          "scattercarpet": [
           {
            "marker": {
             "colorbar": {
              "outlinewidth": 0,
              "ticks": ""
             }
            },
            "type": "scattercarpet"
           }
          ],
          "scattergeo": [
           {
            "marker": {
             "colorbar": {
              "outlinewidth": 0,
              "ticks": ""
             }
            },
            "type": "scattergeo"
           }
          ],
          "scattergl": [
           {
            "marker": {
             "colorbar": {
              "outlinewidth": 0,
              "ticks": ""
             }
            },
            "type": "scattergl"
           }
          ],
          "scattermapbox": [
           {
            "marker": {
             "colorbar": {
              "outlinewidth": 0,
              "ticks": ""
             }
            },
            "type": "scattermapbox"
           }
          ],
          "scatterpolar": [
           {
            "marker": {
             "colorbar": {
              "outlinewidth": 0,
              "ticks": ""
             }
            },
            "type": "scatterpolar"
           }
          ],
          "scatterpolargl": [
           {
            "marker": {
             "colorbar": {
              "outlinewidth": 0,
              "ticks": ""
             }
            },
            "type": "scatterpolargl"
           }
          ],
          "scatterternary": [
           {
            "marker": {
             "colorbar": {
              "outlinewidth": 0,
              "ticks": ""
             }
            },
            "type": "scatterternary"
           }
          ],
          "surface": [
           {
            "colorbar": {
             "outlinewidth": 0,
             "ticks": ""
            },
            "colorscale": [
             [
              0,
              "#0d0887"
             ],
             [
              0.1111111111111111,
              "#46039f"
             ],
             [
              0.2222222222222222,
              "#7201a8"
             ],
             [
              0.3333333333333333,
              "#9c179e"
             ],
             [
              0.4444444444444444,
              "#bd3786"
             ],
             [
              0.5555555555555556,
              "#d8576b"
             ],
             [
              0.6666666666666666,
              "#ed7953"
             ],
             [
              0.7777777777777778,
              "#fb9f3a"
             ],
             [
              0.8888888888888888,
              "#fdca26"
             ],
             [
              1,
              "#f0f921"
             ]
            ],
            "type": "surface"
           }
          ],
          "table": [
           {
            "cells": {
             "fill": {
              "color": "#EBF0F8"
             },
             "line": {
              "color": "white"
             }
            },
            "header": {
             "fill": {
              "color": "#C8D4E3"
             },
             "line": {
              "color": "white"
             }
            },
            "type": "table"
           }
          ]
         },
         "layout": {
          "annotationdefaults": {
           "arrowcolor": "#2a3f5f",
           "arrowhead": 0,
           "arrowwidth": 1
          },
          "coloraxis": {
           "colorbar": {
            "outlinewidth": 0,
            "ticks": ""
           }
          },
          "colorscale": {
           "diverging": [
            [
             0,
             "#8e0152"
            ],
            [
             0.1,
             "#c51b7d"
            ],
            [
             0.2,
             "#de77ae"
            ],
            [
             0.3,
             "#f1b6da"
            ],
            [
             0.4,
             "#fde0ef"
            ],
            [
             0.5,
             "#f7f7f7"
            ],
            [
             0.6,
             "#e6f5d0"
            ],
            [
             0.7,
             "#b8e186"
            ],
            [
             0.8,
             "#7fbc41"
            ],
            [
             0.9,
             "#4d9221"
            ],
            [
             1,
             "#276419"
            ]
           ],
           "sequential": [
            [
             0,
             "#0d0887"
            ],
            [
             0.1111111111111111,
             "#46039f"
            ],
            [
             0.2222222222222222,
             "#7201a8"
            ],
            [
             0.3333333333333333,
             "#9c179e"
            ],
            [
             0.4444444444444444,
             "#bd3786"
            ],
            [
             0.5555555555555556,
             "#d8576b"
            ],
            [
             0.6666666666666666,
             "#ed7953"
            ],
            [
             0.7777777777777778,
             "#fb9f3a"
            ],
            [
             0.8888888888888888,
             "#fdca26"
            ],
            [
             1,
             "#f0f921"
            ]
           ],
           "sequentialminus": [
            [
             0,
             "#0d0887"
            ],
            [
             0.1111111111111111,
             "#46039f"
            ],
            [
             0.2222222222222222,
             "#7201a8"
            ],
            [
             0.3333333333333333,
             "#9c179e"
            ],
            [
             0.4444444444444444,
             "#bd3786"
            ],
            [
             0.5555555555555556,
             "#d8576b"
            ],
            [
             0.6666666666666666,
             "#ed7953"
            ],
            [
             0.7777777777777778,
             "#fb9f3a"
            ],
            [
             0.8888888888888888,
             "#fdca26"
            ],
            [
             1,
             "#f0f921"
            ]
           ]
          },
          "colorway": [
           "#636efa",
           "#EF553B",
           "#00cc96",
           "#ab63fa",
           "#FFA15A",
           "#19d3f3",
           "#FF6692",
           "#B6E880",
           "#FF97FF",
           "#FECB52"
          ],
          "font": {
           "color": "#2a3f5f"
          },
          "geo": {
           "bgcolor": "white",
           "lakecolor": "white",
           "landcolor": "#E5ECF6",
           "showlakes": true,
           "showland": true,
           "subunitcolor": "white"
          },
          "hoverlabel": {
           "align": "left"
          },
          "hovermode": "closest",
          "mapbox": {
           "style": "light"
          },
          "paper_bgcolor": "white",
          "plot_bgcolor": "#E5ECF6",
          "polar": {
           "angularaxis": {
            "gridcolor": "white",
            "linecolor": "white",
            "ticks": ""
           },
           "bgcolor": "#E5ECF6",
           "radialaxis": {
            "gridcolor": "white",
            "linecolor": "white",
            "ticks": ""
           }
          },
          "scene": {
           "xaxis": {
            "backgroundcolor": "#E5ECF6",
            "gridcolor": "white",
            "gridwidth": 2,
            "linecolor": "white",
            "showbackground": true,
            "ticks": "",
            "zerolinecolor": "white"
           },
           "yaxis": {
            "backgroundcolor": "#E5ECF6",
            "gridcolor": "white",
            "gridwidth": 2,
            "linecolor": "white",
            "showbackground": true,
            "ticks": "",
            "zerolinecolor": "white"
           },
           "zaxis": {
            "backgroundcolor": "#E5ECF6",
            "gridcolor": "white",
            "gridwidth": 2,
            "linecolor": "white",
            "showbackground": true,
            "ticks": "",
            "zerolinecolor": "white"
           }
          },
          "shapedefaults": {
           "line": {
            "color": "#2a3f5f"
           }
          },
          "ternary": {
           "aaxis": {
            "gridcolor": "white",
            "linecolor": "white",
            "ticks": ""
           },
           "baxis": {
            "gridcolor": "white",
            "linecolor": "white",
            "ticks": ""
           },
           "bgcolor": "#E5ECF6",
           "caxis": {
            "gridcolor": "white",
            "linecolor": "white",
            "ticks": ""
           }
          },
          "title": {
           "x": 0.05
          },
          "xaxis": {
           "automargin": true,
           "gridcolor": "white",
           "linecolor": "white",
           "ticks": "",
           "title": {
            "standoff": 15
           },
           "zerolinecolor": "white",
           "zerolinewidth": 2
          },
          "yaxis": {
           "automargin": true,
           "gridcolor": "white",
           "linecolor": "white",
           "ticks": "",
           "title": {
            "standoff": 15
           },
           "zerolinecolor": "white",
           "zerolinewidth": 2
          }
         }
        },
        "title": {
         "text": "Deaths"
        },
        "xaxis": {
         "anchor": "y",
         "domain": [
          0,
          1
         ],
         "title": {
          "text": "Date"
         }
        },
        "yaxis": {
         "anchor": "x",
         "domain": [
          0,
          1
         ],
         "title": {
          "text": "Deaths"
         }
        }
       }
      },
      "text/html": [
       "<div>\n",
       "        \n",
       "        \n",
       "            <div id=\"f983d6c0-2449-4f14-ab4c-39632f736e2f\" class=\"plotly-graph-div\" style=\"height:600px; width:100%;\"></div>\n",
       "            <script type=\"text/javascript\">\n",
       "                require([\"plotly\"], function(Plotly) {\n",
       "                    window.PLOTLYENV=window.PLOTLYENV || {};\n",
       "                    \n",
       "                if (document.getElementById(\"f983d6c0-2449-4f14-ab4c-39632f736e2f\")) {\n",
       "                    Plotly.newPlot(\n",
       "                        'f983d6c0-2449-4f14-ab4c-39632f736e2f',\n",
       "                        [{\"alignmentgroup\": \"True\", \"hoverlabel\": {\"namelength\": 0}, \"hovertemplate\": \"Country=China<br>Date=%{x}<br>Deaths=%{text}\", \"legendgroup\": \"China\", \"marker\": {\"color\": \"#636efa\"}, \"name\": \"China\", \"offsetgroup\": \"China\", \"orientation\": \"v\", \"showlegend\": true, \"text\": [0.0, 18.0, 26.0, 56.0, 80.0, 107.0, 132.0, 170.0, 213.0, 259.0, 304.0, 361.0, 425.0, 490.0, 492.0, 632.0, 636.0, 811.0, 908.0, 1011.0, 1113.0, 1366.0, 1488.0, 1520.0, 1662.0, 1765.0, 1863.0], \"textposition\": \"auto\", \"type\": \"bar\", \"x\": [\"01/22/2020 12:00:00\", \"01/23/2020 12:00:00\", \"01/24/2020 12:00:00\", \"01/25/2020 22:00:00\", \"01/26/2020 23:00:00\", \"01/27/2020 20:30:00\", \"01/28/2020 23:00:00\", \"01/29/2020 21:00:00\", \"01/30/2020 21:30:00\", \"01/31/2020 19:00:00\", \"02/01/2020 23:00:00\", \"02/02/2020 21:00:00\", \"02/03/2020 21:40:00\", \"02/04/2020 22:00:00\", \"02/05/2020 12:20:00\", \"02/06/2020 20:05:00\", \"02/07/2020 20:24:00\", \"02/08/2020 23:04:00\", \"02/09/2020 23:20:00\", \"02/10/2020 19:30:00\", \"02/11/2020 20:44:00\", \"02/12/2020 22:00:00\", \"02/13/2020 21:15:00\", \"02/14/2020 22:00:00\", \"02/15/2020 22:00:00\", \"02/16/2020 22:00:00\", \"02/17/2020 22:00:00\"], \"xaxis\": \"x\", \"y\": [0.0, 18.0, 26.0, 56.0, 80.0, 107.0, 132.0, 170.0, 213.0, 259.0, 304.0, 361.0, 425.0, 490.0, 492.0, 632.0, 636.0, 811.0, 908.0, 1011.0, 1113.0, 1366.0, 1488.0, 1520.0, 1662.0, 1765.0, 1863.0], \"yaxis\": \"y\"}, {\"alignmentgroup\": \"True\", \"hoverlabel\": {\"namelength\": 0}, \"hovertemplate\": \"Country=Japan<br>Date=%{x}<br>Deaths=%{text}\", \"legendgroup\": \"Japan\", \"marker\": {\"color\": \"#EF553B\"}, \"name\": \"Japan\", \"offsetgroup\": \"Japan\", \"orientation\": \"v\", \"showlegend\": true, \"text\": [0.0, 0.0, 0.0, 0.0, 0.0, 0.0, 0.0, 0.0, 0.0, 0.0, 0.0, 0.0, 0.0, 0.0, 0.0, 0.0, 0.0, 0.0, 0.0, 0.0, 0.0, 0.0, 1.0, 1.0, 1.0, 1.0, 1.0], \"textposition\": \"auto\", \"type\": \"bar\", \"x\": [\"01/22/2020 12:00:00\", \"01/23/2020 12:00:00\", \"01/24/2020 12:00:00\", \"01/25/2020 22:00:00\", \"01/26/2020 23:00:00\", \"01/27/2020 20:30:00\", \"01/28/2020 23:00:00\", \"01/29/2020 21:00:00\", \"01/30/2020 21:30:00\", \"01/31/2020 19:00:00\", \"02/01/2020 23:00:00\", \"02/02/2020 21:00:00\", \"02/03/2020 21:40:00\", \"02/04/2020 22:00:00\", \"02/05/2020 12:20:00\", \"02/06/2020 20:05:00\", \"02/07/2020 20:24:00\", \"02/08/2020 23:04:00\", \"02/09/2020 23:20:00\", \"02/10/2020 19:30:00\", \"02/11/2020 20:44:00\", \"02/12/2020 22:00:00\", \"02/13/2020 21:15:00\", \"02/14/2020 22:00:00\", \"02/15/2020 22:00:00\", \"02/16/2020 22:00:00\", \"02/17/2020 22:00:00\"], \"xaxis\": \"x\", \"y\": [0.0, 0.0, 0.0, 0.0, 0.0, 0.0, 0.0, 0.0, 0.0, 0.0, 0.0, 0.0, 0.0, 0.0, 0.0, 0.0, 0.0, 0.0, 0.0, 0.0, 0.0, 0.0, 1.0, 1.0, 1.0, 1.0, 1.0], \"yaxis\": \"y\"}, {\"alignmentgroup\": \"True\", \"hoverlabel\": {\"namelength\": 0}, \"hovertemplate\": \"Country=US<br>Date=%{x}<br>Deaths=%{text}\", \"legendgroup\": \"US\", \"marker\": {\"color\": \"#00cc96\"}, \"name\": \"US\", \"offsetgroup\": \"US\", \"orientation\": \"v\", \"showlegend\": true, \"text\": [0.0, 0.0, 0.0, 0.0, 0.0, 0.0, 0.0, 0.0, 0.0, 0.0, 0.0, 0.0, 0.0, 0.0, 0.0, 0.0, 0.0, 0.0, 0.0, 0.0, 0.0, 0.0, 0.0, 0.0, 0.0, 0.0, 0.0], \"textposition\": \"auto\", \"type\": \"bar\", \"x\": [\"01/22/2020 12:00:00\", \"01/23/2020 12:00:00\", \"01/24/2020 12:00:00\", \"01/25/2020 22:00:00\", \"01/26/2020 23:00:00\", \"01/27/2020 20:30:00\", \"01/28/2020 23:00:00\", \"01/29/2020 21:00:00\", \"01/30/2020 21:30:00\", \"01/31/2020 19:00:00\", \"02/01/2020 23:00:00\", \"02/02/2020 21:00:00\", \"02/03/2020 21:40:00\", \"02/04/2020 22:00:00\", \"02/05/2020 12:20:00\", \"02/06/2020 20:05:00\", \"02/07/2020 20:24:00\", \"02/08/2020 23:04:00\", \"02/09/2020 23:20:00\", \"02/10/2020 19:30:00\", \"02/11/2020 20:44:00\", \"02/12/2020 22:00:00\", \"02/13/2020 21:15:00\", \"02/14/2020 22:00:00\", \"02/15/2020 22:00:00\", \"02/16/2020 22:00:00\", \"02/17/2020 22:00:00\"], \"xaxis\": \"x\", \"y\": [0.0, 0.0, 0.0, 0.0, 0.0, 0.0, 0.0, 0.0, 0.0, 0.0, 0.0, 0.0, 0.0, 0.0, 0.0, 0.0, 0.0, 0.0, 0.0, 0.0, 0.0, 0.0, 0.0, 0.0, 0.0, 0.0, 0.0], \"yaxis\": \"y\"}, {\"alignmentgroup\": \"True\", \"hoverlabel\": {\"namelength\": 0}, \"hovertemplate\": \"Country=Thailand<br>Date=%{x}<br>Deaths=%{text}\", \"legendgroup\": \"Thailand\", \"marker\": {\"color\": \"#ab63fa\"}, \"name\": \"Thailand\", \"offsetgroup\": \"Thailand\", \"orientation\": \"v\", \"showlegend\": true, \"text\": [0.0, 0.0, 0.0, 0.0, 0.0, 0.0, 0.0, 0.0, 0.0, 0.0, 0.0, 0.0, 0.0, 0.0, 0.0, 0.0, 0.0, 0.0, 0.0, 0.0, 0.0, 0.0, 0.0, 0.0, 0.0, 0.0, 0.0], \"textposition\": \"auto\", \"type\": \"bar\", \"x\": [\"01/22/2020 12:00:00\", \"01/23/2020 12:00:00\", \"01/24/2020 12:00:00\", \"01/25/2020 22:00:00\", \"01/26/2020 23:00:00\", \"01/27/2020 20:30:00\", \"01/28/2020 23:00:00\", \"01/29/2020 21:00:00\", \"01/30/2020 21:30:00\", \"01/31/2020 19:00:00\", \"02/01/2020 23:00:00\", \"02/02/2020 21:00:00\", \"02/03/2020 21:40:00\", \"02/04/2020 22:00:00\", \"02/05/2020 12:20:00\", \"02/06/2020 20:05:00\", \"02/07/2020 20:24:00\", \"02/08/2020 23:04:00\", \"02/09/2020 23:20:00\", \"02/10/2020 19:30:00\", \"02/11/2020 20:44:00\", \"02/12/2020 22:00:00\", \"02/13/2020 21:15:00\", \"02/14/2020 22:00:00\", \"02/15/2020 22:00:00\", \"02/16/2020 22:00:00\", \"02/17/2020 22:00:00\"], \"xaxis\": \"x\", \"y\": [0.0, 0.0, 0.0, 0.0, 0.0, 0.0, 0.0, 0.0, 0.0, 0.0, 0.0, 0.0, 0.0, 0.0, 0.0, 0.0, 0.0, 0.0, 0.0, 0.0, 0.0, 0.0, 0.0, 0.0, 0.0, 0.0, 0.0], \"yaxis\": \"y\"}, {\"alignmentgroup\": \"True\", \"hoverlabel\": {\"namelength\": 0}, \"hovertemplate\": \"Country=South Korea<br>Date=%{x}<br>Deaths=%{text}\", \"legendgroup\": \"South Korea\", \"marker\": {\"color\": \"#FFA15A\"}, \"name\": \"South Korea\", \"offsetgroup\": \"South Korea\", \"orientation\": \"v\", \"showlegend\": true, \"text\": [0.0, 0.0, 0.0, 0.0, 0.0, 0.0, 0.0, 0.0, 0.0, 0.0, 0.0, 0.0, 0.0, 0.0, 0.0, 0.0, 0.0, 0.0, 0.0, 0.0, 0.0, 0.0, 0.0, 0.0, 0.0, 0.0, 0.0], \"textposition\": \"auto\", \"type\": \"bar\", \"x\": [\"01/22/2020 12:00:00\", \"01/23/2020 12:00:00\", \"01/24/2020 12:00:00\", \"01/25/2020 22:00:00\", \"01/26/2020 23:00:00\", \"01/27/2020 20:30:00\", \"01/28/2020 23:00:00\", \"01/29/2020 21:00:00\", \"01/30/2020 21:30:00\", \"01/31/2020 19:00:00\", \"02/01/2020 23:00:00\", \"02/02/2020 21:00:00\", \"02/03/2020 21:40:00\", \"02/04/2020 22:00:00\", \"02/05/2020 12:20:00\", \"02/06/2020 20:05:00\", \"02/07/2020 20:24:00\", \"02/08/2020 23:04:00\", \"02/09/2020 23:20:00\", \"02/10/2020 19:30:00\", \"02/11/2020 20:44:00\", \"02/12/2020 22:00:00\", \"02/13/2020 21:15:00\", \"02/14/2020 22:00:00\", \"02/15/2020 22:00:00\", \"02/16/2020 22:00:00\", \"02/17/2020 22:00:00\"], \"xaxis\": \"x\", \"y\": [0.0, 0.0, 0.0, 0.0, 0.0, 0.0, 0.0, 0.0, 0.0, 0.0, 0.0, 0.0, 0.0, 0.0, 0.0, 0.0, 0.0, 0.0, 0.0, 0.0, 0.0, 0.0, 0.0, 0.0, 0.0, 0.0, 0.0], \"yaxis\": \"y\"}, {\"alignmentgroup\": \"True\", \"hoverlabel\": {\"namelength\": 0}, \"hovertemplate\": \"Country=Brazil<br>Date=%{x}<br>Deaths=%{text}\", \"legendgroup\": \"Brazil\", \"marker\": {\"color\": \"#19d3f3\"}, \"name\": \"Brazil\", \"offsetgroup\": \"Brazil\", \"orientation\": \"v\", \"showlegend\": true, \"text\": [0.0], \"textposition\": \"auto\", \"type\": \"bar\", \"x\": [\"01/23/2020 12:00:00\"], \"xaxis\": \"x\", \"y\": [0.0], \"yaxis\": \"y\"}, {\"alignmentgroup\": \"True\", \"hoverlabel\": {\"namelength\": 0}, \"hovertemplate\": \"Country=Hong Kong<br>Date=%{x}<br>Deaths=%{text}\", \"legendgroup\": \"Hong Kong\", \"marker\": {\"color\": \"#FF6692\"}, \"name\": \"Hong Kong\", \"offsetgroup\": \"Hong Kong\", \"orientation\": \"v\", \"showlegend\": true, \"text\": [0.0, 0.0, 0.0, 0.0, 0.0, 0.0, 0.0, 0.0, 0.0, 0.0, 0.0, 0.0, 1.0, 1.0, 1.0, 1.0, 1.0, 1.0, 1.0, 1.0, 1.0, 1.0, 1.0, 1.0, 1.0, 1.0], \"textposition\": \"auto\", \"type\": \"bar\", \"x\": [\"01/23/2020 12:00:00\", \"01/24/2020 12:00:00\", \"01/25/2020 22:00:00\", \"01/26/2020 23:00:00\", \"01/27/2020 20:30:00\", \"01/28/2020 23:00:00\", \"01/29/2020 21:00:00\", \"01/30/2020 21:30:00\", \"01/31/2020 19:00:00\", \"02/01/2020 23:00:00\", \"02/02/2020 21:00:00\", \"02/03/2020 21:40:00\", \"02/04/2020 22:00:00\", \"02/05/2020 12:20:00\", \"02/06/2020 20:05:00\", \"02/07/2020 20:24:00\", \"02/08/2020 23:04:00\", \"02/09/2020 23:20:00\", \"02/10/2020 19:30:00\", \"02/11/2020 20:44:00\", \"02/12/2020 22:00:00\", \"02/13/2020 21:15:00\", \"02/14/2020 22:00:00\", \"02/15/2020 22:00:00\", \"02/16/2020 22:00:00\", \"02/17/2020 22:00:00\"], \"xaxis\": \"x\", \"y\": [0.0, 0.0, 0.0, 0.0, 0.0, 0.0, 0.0, 0.0, 0.0, 0.0, 0.0, 0.0, 1.0, 1.0, 1.0, 1.0, 1.0, 1.0, 1.0, 1.0, 1.0, 1.0, 1.0, 1.0, 1.0, 1.0], \"yaxis\": \"y\"}, {\"alignmentgroup\": \"True\", \"hoverlabel\": {\"namelength\": 0}, \"hovertemplate\": \"Country=Macau<br>Date=%{x}<br>Deaths=%{text}\", \"legendgroup\": \"Macau\", \"marker\": {\"color\": \"#B6E880\"}, \"name\": \"Macau\", \"offsetgroup\": \"Macau\", \"orientation\": \"v\", \"showlegend\": true, \"text\": [0.0, 0.0, 0.0, 0.0, 0.0, 0.0, 0.0, 0.0, 0.0, 0.0, 0.0, 0.0, 0.0, 0.0, 0.0, 0.0, 0.0, 0.0, 0.0, 0.0, 0.0, 0.0, 0.0, 0.0, 0.0, 0.0], \"textposition\": \"auto\", \"type\": \"bar\", \"x\": [\"01/23/2020 12:00:00\", \"01/24/2020 12:00:00\", \"01/25/2020 22:00:00\", \"01/26/2020 23:00:00\", \"01/27/2020 20:30:00\", \"01/28/2020 23:00:00\", \"01/29/2020 21:00:00\", \"01/30/2020 21:30:00\", \"01/31/2020 19:00:00\", \"02/01/2020 23:00:00\", \"02/02/2020 21:00:00\", \"02/03/2020 21:40:00\", \"02/04/2020 22:00:00\", \"02/05/2020 12:20:00\", \"02/06/2020 20:05:00\", \"02/07/2020 20:24:00\", \"02/08/2020 23:04:00\", \"02/09/2020 23:20:00\", \"02/10/2020 19:30:00\", \"02/11/2020 20:44:00\", \"02/12/2020 22:00:00\", \"02/13/2020 21:15:00\", \"02/14/2020 22:00:00\", \"02/15/2020 22:00:00\", \"02/16/2020 22:00:00\", \"02/17/2020 22:00:00\"], \"xaxis\": \"x\", \"y\": [0.0, 0.0, 0.0, 0.0, 0.0, 0.0, 0.0, 0.0, 0.0, 0.0, 0.0, 0.0, 0.0, 0.0, 0.0, 0.0, 0.0, 0.0, 0.0, 0.0, 0.0, 0.0, 0.0, 0.0, 0.0, 0.0], \"yaxis\": \"y\"}, {\"alignmentgroup\": \"True\", \"hoverlabel\": {\"namelength\": 0}, \"hovertemplate\": \"Country=Malaysia<br>Date=%{x}<br>Deaths=%{text}\", \"legendgroup\": \"Malaysia\", \"marker\": {\"color\": \"#FF97FF\"}, \"name\": \"Malaysia\", \"offsetgroup\": \"Malaysia\", \"orientation\": \"v\", \"showlegend\": true, \"text\": [0.0, 0.0, 0.0, 0.0, 0.0, 0.0, 0.0, 0.0, 0.0, 0.0, 0.0, 0.0, 0.0, 0.0, 0.0, 0.0, 0.0, 0.0, 0.0, 0.0, 0.0, 0.0, 0.0, 0.0, 0.0], \"textposition\": \"auto\", \"type\": \"bar\", \"x\": [\"01/23/2020 12:00:00\", \"01/25/2020 22:00:00\", \"01/26/2020 23:00:00\", \"01/27/2020 20:30:00\", \"01/28/2020 23:00:00\", \"01/29/2020 21:00:00\", \"01/30/2020 21:30:00\", \"01/31/2020 19:00:00\", \"02/01/2020 23:00:00\", \"02/02/2020 21:00:00\", \"02/03/2020 21:40:00\", \"02/04/2020 22:00:00\", \"02/05/2020 12:20:00\", \"02/06/2020 20:05:00\", \"02/07/2020 20:24:00\", \"02/08/2020 23:04:00\", \"02/09/2020 23:20:00\", \"02/10/2020 19:30:00\", \"02/11/2020 20:44:00\", \"02/12/2020 22:00:00\", \"02/13/2020 21:15:00\", \"02/14/2020 22:00:00\", \"02/15/2020 22:00:00\", \"02/16/2020 22:00:00\", \"02/17/2020 22:00:00\"], \"xaxis\": \"x\", \"y\": [0.0, 0.0, 0.0, 0.0, 0.0, 0.0, 0.0, 0.0, 0.0, 0.0, 0.0, 0.0, 0.0, 0.0, 0.0, 0.0, 0.0, 0.0, 0.0, 0.0, 0.0, 0.0, 0.0, 0.0, 0.0], \"yaxis\": \"y\"}, {\"alignmentgroup\": \"True\", \"hoverlabel\": {\"namelength\": 0}, \"hovertemplate\": \"Country=Mexico<br>Date=%{x}<br>Deaths=%{text}\", \"legendgroup\": \"Mexico\", \"marker\": {\"color\": \"#FECB52\"}, \"name\": \"Mexico\", \"offsetgroup\": \"Mexico\", \"orientation\": \"v\", \"showlegend\": true, \"text\": [0.0], \"textposition\": \"auto\", \"type\": \"bar\", \"x\": [\"01/23/2020 12:00:00\"], \"xaxis\": \"x\", \"y\": [0.0], \"yaxis\": \"y\"}, {\"alignmentgroup\": \"True\", \"hoverlabel\": {\"namelength\": 0}, \"hovertemplate\": \"Country=Philippines<br>Date=%{x}<br>Deaths=%{text}\", \"legendgroup\": \"Philippines\", \"marker\": {\"color\": \"#636efa\"}, \"name\": \"Philippines\", \"offsetgroup\": \"Philippines\", \"orientation\": \"v\", \"showlegend\": true, \"text\": [0.0, 0.0, 0.0, 1.0, 1.0, 1.0, 1.0, 1.0, 1.0, 1.0, 1.0, 1.0, 1.0, 1.0, 1.0, 1.0, 1.0, 1.0, 1.0, 1.0], \"textposition\": \"auto\", \"type\": \"bar\", \"x\": [\"01/23/2020 12:00:00\", \"01/30/2020 21:30:00\", \"01/31/2020 19:00:00\", \"02/01/2020 23:00:00\", \"02/02/2020 21:00:00\", \"02/03/2020 21:40:00\", \"02/04/2020 22:00:00\", \"02/05/2020 12:20:00\", \"02/06/2020 20:05:00\", \"02/07/2020 20:24:00\", \"02/08/2020 23:04:00\", \"02/09/2020 23:20:00\", \"02/10/2020 19:30:00\", \"02/11/2020 20:44:00\", \"02/12/2020 22:00:00\", \"02/13/2020 21:15:00\", \"02/14/2020 22:00:00\", \"02/15/2020 22:00:00\", \"02/16/2020 22:00:00\", \"02/17/2020 22:00:00\"], \"xaxis\": \"x\", \"y\": [0.0, 0.0, 0.0, 1.0, 1.0, 1.0, 1.0, 1.0, 1.0, 1.0, 1.0, 1.0, 1.0, 1.0, 1.0, 1.0, 1.0, 1.0, 1.0, 1.0], \"yaxis\": \"y\"}, {\"alignmentgroup\": \"True\", \"hoverlabel\": {\"namelength\": 0}, \"hovertemplate\": \"Country=Australia<br>Date=%{x}<br>Deaths=%{text}\", \"legendgroup\": \"Australia\", \"marker\": {\"color\": \"#EF553B\"}, \"name\": \"Australia\", \"offsetgroup\": \"Australia\", \"orientation\": \"v\", \"showlegend\": true, \"text\": [0.0, 0.0, 0.0, 0.0, 0.0, 0.0, 0.0, 0.0, 0.0, 0.0, 0.0, 0.0, 0.0, 0.0, 0.0, 0.0, 0.0, 0.0, 0.0, 0.0, 0.0, 0.0, 0.0, 0.0, 0.0], \"textposition\": \"auto\", \"type\": \"bar\", \"x\": [\"01/23/2020 12:00:00\", \"01/25/2020 22:00:00\", \"01/26/2020 23:00:00\", \"01/27/2020 20:30:00\", \"01/28/2020 23:00:00\", \"01/29/2020 21:00:00\", \"01/30/2020 21:30:00\", \"01/31/2020 19:00:00\", \"02/01/2020 23:00:00\", \"02/02/2020 21:00:00\", \"02/03/2020 21:40:00\", \"02/04/2020 22:00:00\", \"02/05/2020 12:20:00\", \"02/06/2020 20:05:00\", \"02/07/2020 20:24:00\", \"02/08/2020 23:04:00\", \"02/09/2020 23:20:00\", \"02/10/2020 19:30:00\", \"02/11/2020 20:44:00\", \"02/12/2020 22:00:00\", \"02/13/2020 21:15:00\", \"02/14/2020 22:00:00\", \"02/15/2020 22:00:00\", \"02/16/2020 22:00:00\", \"02/17/2020 22:00:00\"], \"xaxis\": \"x\", \"y\": [0.0, 0.0, 0.0, 0.0, 0.0, 0.0, 0.0, 0.0, 0.0, 0.0, 0.0, 0.0, 0.0, 0.0, 0.0, 0.0, 0.0, 0.0, 0.0, 0.0, 0.0, 0.0, 0.0, 0.0, 0.0], \"yaxis\": \"y\"}, {\"alignmentgroup\": \"True\", \"hoverlabel\": {\"namelength\": 0}, \"hovertemplate\": \"Country=Singapore<br>Date=%{x}<br>Deaths=%{text}\", \"legendgroup\": \"Singapore\", \"marker\": {\"color\": \"#00cc96\"}, \"name\": \"Singapore\", \"offsetgroup\": \"Singapore\", \"orientation\": \"v\", \"showlegend\": true, \"text\": [0.0, 0.0, 0.0, 0.0, 0.0, 0.0, 0.0, 0.0, 0.0, 0.0, 0.0, 0.0, 0.0, 0.0, 0.0, 0.0, 0.0, 0.0, 0.0, 0.0, 0.0, 0.0, 0.0, 0.0, 0.0, 0.0], \"textposition\": \"auto\", \"type\": \"bar\", \"x\": [\"01/23/2020 12:00:00\", \"01/24/2020 12:00:00\", \"01/25/2020 22:00:00\", \"01/26/2020 23:00:00\", \"01/27/2020 20:30:00\", \"01/28/2020 23:00:00\", \"01/29/2020 21:00:00\", \"01/30/2020 21:30:00\", \"01/31/2020 19:00:00\", \"02/01/2020 23:00:00\", \"02/02/2020 21:00:00\", \"02/03/2020 21:40:00\", \"02/04/2020 22:00:00\", \"02/05/2020 12:20:00\", \"02/06/2020 20:05:00\", \"02/07/2020 20:24:00\", \"02/08/2020 23:04:00\", \"02/09/2020 23:20:00\", \"02/10/2020 19:30:00\", \"02/11/2020 20:44:00\", \"02/12/2020 22:00:00\", \"02/13/2020 21:15:00\", \"02/14/2020 22:00:00\", \"02/15/2020 22:00:00\", \"02/16/2020 22:00:00\", \"02/17/2020 22:00:00\"], \"xaxis\": \"x\", \"y\": [0.0, 0.0, 0.0, 0.0, 0.0, 0.0, 0.0, 0.0, 0.0, 0.0, 0.0, 0.0, 0.0, 0.0, 0.0, 0.0, 0.0, 0.0, 0.0, 0.0, 0.0, 0.0, 0.0, 0.0, 0.0, 0.0], \"yaxis\": \"y\"}, {\"alignmentgroup\": \"True\", \"hoverlabel\": {\"namelength\": 0}, \"hovertemplate\": \"Country=Vietnam<br>Date=%{x}<br>Deaths=%{text}\", \"legendgroup\": \"Vietnam\", \"marker\": {\"color\": \"#ab63fa\"}, \"name\": \"Vietnam\", \"offsetgroup\": \"Vietnam\", \"orientation\": \"v\", \"showlegend\": true, \"text\": [0.0, 0.0, 0.0, 0.0, 0.0, 0.0, 0.0, 0.0, 0.0, 0.0, 0.0, 0.0, 0.0, 0.0, 0.0, 0.0, 0.0, 0.0, 0.0, 0.0, 0.0, 0.0, 0.0, 0.0, 0.0, 0.0], \"textposition\": \"auto\", \"type\": \"bar\", \"x\": [\"01/23/2020 12:00:00\", \"01/24/2020 12:00:00\", \"01/25/2020 22:00:00\", \"01/26/2020 23:00:00\", \"01/27/2020 20:30:00\", \"01/28/2020 23:00:00\", \"01/29/2020 21:00:00\", \"01/30/2020 21:30:00\", \"01/31/2020 19:00:00\", \"02/01/2020 23:00:00\", \"02/02/2020 21:00:00\", \"02/03/2020 21:40:00\", \"02/04/2020 22:00:00\", \"02/05/2020 12:20:00\", \"02/06/2020 20:05:00\", \"02/07/2020 20:24:00\", \"02/08/2020 23:04:00\", \"02/09/2020 23:20:00\", \"02/10/2020 19:30:00\", \"02/11/2020 20:44:00\", \"02/12/2020 22:00:00\", \"02/13/2020 21:15:00\", \"02/14/2020 22:00:00\", \"02/15/2020 22:00:00\", \"02/16/2020 22:00:00\", \"02/17/2020 22:00:00\"], \"xaxis\": \"x\", \"y\": [0.0, 0.0, 0.0, 0.0, 0.0, 0.0, 0.0, 0.0, 0.0, 0.0, 0.0, 0.0, 0.0, 0.0, 0.0, 0.0, 0.0, 0.0, 0.0, 0.0, 0.0, 0.0, 0.0, 0.0, 0.0, 0.0], \"yaxis\": \"y\"}, {\"alignmentgroup\": \"True\", \"hoverlabel\": {\"namelength\": 0}, \"hovertemplate\": \"Country=Taiwan<br>Date=%{x}<br>Deaths=%{text}\", \"legendgroup\": \"Taiwan\", \"marker\": {\"color\": \"#FFA15A\"}, \"name\": \"Taiwan\", \"offsetgroup\": \"Taiwan\", \"orientation\": \"v\", \"showlegend\": true, \"text\": [0.0, 0.0, 0.0, 0.0, 0.0, 0.0, 0.0, 0.0, 0.0, 0.0, 0.0, 0.0, 0.0, 0.0, 0.0, 0.0, 0.0, 0.0, 0.0, 0.0, 0.0, 0.0, 0.0, 0.0, 1.0, 1.0], \"textposition\": \"auto\", \"type\": \"bar\", \"x\": [\"01/23/2020 12:00:00\", \"01/24/2020 12:00:00\", \"01/25/2020 22:00:00\", \"01/26/2020 23:00:00\", \"01/27/2020 20:30:00\", \"01/28/2020 23:00:00\", \"01/29/2020 21:00:00\", \"01/30/2020 21:30:00\", \"01/31/2020 19:00:00\", \"02/01/2020 23:00:00\", \"02/02/2020 21:00:00\", \"02/03/2020 21:40:00\", \"02/04/2020 22:00:00\", \"02/05/2020 12:20:00\", \"02/06/2020 20:05:00\", \"02/07/2020 20:24:00\", \"02/08/2020 23:04:00\", \"02/09/2020 23:20:00\", \"02/10/2020 19:30:00\", \"02/11/2020 20:44:00\", \"02/12/2020 22:00:00\", \"02/13/2020 21:15:00\", \"02/14/2020 22:00:00\", \"02/15/2020 22:00:00\", \"02/16/2020 22:00:00\", \"02/17/2020 22:00:00\"], \"xaxis\": \"x\", \"y\": [0.0, 0.0, 0.0, 0.0, 0.0, 0.0, 0.0, 0.0, 0.0, 0.0, 0.0, 0.0, 0.0, 0.0, 0.0, 0.0, 0.0, 0.0, 0.0, 0.0, 0.0, 0.0, 0.0, 0.0, 1.0, 1.0], \"yaxis\": \"y\"}, {\"alignmentgroup\": \"True\", \"hoverlabel\": {\"namelength\": 0}, \"hovertemplate\": \"Country=France<br>Date=%{x}<br>Deaths=%{text}\", \"legendgroup\": \"France\", \"marker\": {\"color\": \"#19d3f3\"}, \"name\": \"France\", \"offsetgroup\": \"France\", \"orientation\": \"v\", \"showlegend\": true, \"text\": [0.0, 0.0, 0.0, 0.0, 0.0, 0.0, 0.0, 0.0, 0.0, 0.0, 0.0, 0.0, 0.0, 0.0, 0.0, 0.0, 0.0, 0.0, 0.0, 0.0, 0.0, 0.0, 1.0, 1.0, 1.0], \"textposition\": \"auto\", \"type\": \"bar\", \"x\": [\"01/24/2020 12:00:00\", \"01/25/2020 22:00:00\", \"01/26/2020 23:00:00\", \"01/27/2020 20:30:00\", \"01/28/2020 23:00:00\", \"01/29/2020 21:00:00\", \"01/30/2020 21:30:00\", \"01/31/2020 19:00:00\", \"02/01/2020 23:00:00\", \"02/02/2020 21:00:00\", \"02/03/2020 21:40:00\", \"02/04/2020 22:00:00\", \"02/05/2020 12:20:00\", \"02/06/2020 20:05:00\", \"02/07/2020 20:24:00\", \"02/08/2020 23:04:00\", \"02/09/2020 23:20:00\", \"02/10/2020 19:30:00\", \"02/11/2020 20:44:00\", \"02/12/2020 22:00:00\", \"02/13/2020 21:15:00\", \"02/14/2020 22:00:00\", \"02/15/2020 22:00:00\", \"02/16/2020 22:00:00\", \"02/17/2020 22:00:00\"], \"xaxis\": \"x\", \"y\": [0.0, 0.0, 0.0, 0.0, 0.0, 0.0, 0.0, 0.0, 0.0, 0.0, 0.0, 0.0, 0.0, 0.0, 0.0, 0.0, 0.0, 0.0, 0.0, 0.0, 0.0, 0.0, 1.0, 1.0, 1.0], \"yaxis\": \"y\"}, {\"alignmentgroup\": \"True\", \"hoverlabel\": {\"namelength\": 0}, \"hovertemplate\": \"Country=Nepal<br>Date=%{x}<br>Deaths=%{text}\", \"legendgroup\": \"Nepal\", \"marker\": {\"color\": \"#FF6692\"}, \"name\": \"Nepal\", \"offsetgroup\": \"Nepal\", \"orientation\": \"v\", \"showlegend\": true, \"text\": [0.0, 0.0, 0.0, 0.0, 0.0, 0.0, 0.0, 0.0, 0.0, 0.0, 0.0, 0.0, 0.0, 0.0, 0.0, 0.0, 0.0, 0.0, 0.0, 0.0, 0.0, 0.0, 0.0, 0.0], \"textposition\": \"auto\", \"type\": \"bar\", \"x\": [\"01/25/2020 22:00:00\", \"01/26/2020 23:00:00\", \"01/27/2020 20:30:00\", \"01/28/2020 23:00:00\", \"01/29/2020 21:00:00\", \"01/30/2020 21:30:00\", \"01/31/2020 19:00:00\", \"02/01/2020 23:00:00\", \"02/02/2020 21:00:00\", \"02/03/2020 21:40:00\", \"02/04/2020 22:00:00\", \"02/05/2020 12:20:00\", \"02/06/2020 20:05:00\", \"02/07/2020 20:24:00\", \"02/08/2020 23:04:00\", \"02/09/2020 23:20:00\", \"02/10/2020 19:30:00\", \"02/11/2020 20:44:00\", \"02/12/2020 22:00:00\", \"02/13/2020 21:15:00\", \"02/14/2020 22:00:00\", \"02/15/2020 22:00:00\", \"02/16/2020 22:00:00\", \"02/17/2020 22:00:00\"], \"xaxis\": \"x\", \"y\": [0.0, 0.0, 0.0, 0.0, 0.0, 0.0, 0.0, 0.0, 0.0, 0.0, 0.0, 0.0, 0.0, 0.0, 0.0, 0.0, 0.0, 0.0, 0.0, 0.0, 0.0, 0.0, 0.0, 0.0], \"yaxis\": \"y\"}, {\"alignmentgroup\": \"True\", \"hoverlabel\": {\"namelength\": 0}, \"hovertemplate\": \"Country=Canada<br>Date=%{x}<br>Deaths=%{text}\", \"legendgroup\": \"Canada\", \"marker\": {\"color\": \"#B6E880\"}, \"name\": \"Canada\", \"offsetgroup\": \"Canada\", \"orientation\": \"v\", \"showlegend\": true, \"text\": [0.0, 0.0, 0.0, 0.0, 0.0, 0.0, 0.0, 0.0, 0.0, 0.0, 0.0, 0.0, 0.0, 0.0, 0.0, 0.0, 0.0, 0.0, 0.0, 0.0, 0.0, 0.0, 0.0], \"textposition\": \"auto\", \"type\": \"bar\", \"x\": [\"01/26/2020 23:00:00\", \"01/27/2020 20:30:00\", \"01/28/2020 23:00:00\", \"01/29/2020 21:00:00\", \"01/30/2020 21:30:00\", \"01/31/2020 19:00:00\", \"02/01/2020 23:00:00\", \"02/02/2020 21:00:00\", \"02/03/2020 21:40:00\", \"02/04/2020 22:00:00\", \"02/05/2020 12:20:00\", \"02/06/2020 20:05:00\", \"02/07/2020 20:24:00\", \"02/08/2020 23:04:00\", \"02/09/2020 23:20:00\", \"02/10/2020 19:30:00\", \"02/11/2020 20:44:00\", \"02/12/2020 22:00:00\", \"02/13/2020 21:15:00\", \"02/14/2020 22:00:00\", \"02/15/2020 22:00:00\", \"02/16/2020 22:00:00\", \"02/17/2020 22:00:00\"], \"xaxis\": \"x\", \"y\": [0.0, 0.0, 0.0, 0.0, 0.0, 0.0, 0.0, 0.0, 0.0, 0.0, 0.0, 0.0, 0.0, 0.0, 0.0, 0.0, 0.0, 0.0, 0.0, 0.0, 0.0, 0.0, 0.0], \"yaxis\": \"y\"}, {\"alignmentgroup\": \"True\", \"hoverlabel\": {\"namelength\": 0}, \"hovertemplate\": \"Country=Cambodia<br>Date=%{x}<br>Deaths=%{text}\", \"legendgroup\": \"Cambodia\", \"marker\": {\"color\": \"#FF97FF\"}, \"name\": \"Cambodia\", \"offsetgroup\": \"Cambodia\", \"orientation\": \"v\", \"showlegend\": true, \"text\": [0.0, 0.0, 0.0, 0.0, 0.0, 0.0, 0.0, 0.0, 0.0, 0.0, 0.0, 0.0, 0.0, 0.0, 0.0, 0.0, 0.0, 0.0, 0.0, 0.0, 0.0, 0.0], \"textposition\": \"auto\", \"type\": \"bar\", \"x\": [\"01/27/2020 20:30:00\", \"01/28/2020 23:00:00\", \"01/29/2020 21:00:00\", \"01/30/2020 21:30:00\", \"01/31/2020 19:00:00\", \"02/01/2020 23:00:00\", \"02/02/2020 21:00:00\", \"02/03/2020 21:40:00\", \"02/04/2020 22:00:00\", \"02/05/2020 12:20:00\", \"02/06/2020 20:05:00\", \"02/07/2020 20:24:00\", \"02/08/2020 23:04:00\", \"02/09/2020 23:20:00\", \"02/10/2020 19:30:00\", \"02/11/2020 20:44:00\", \"02/12/2020 22:00:00\", \"02/13/2020 21:15:00\", \"02/14/2020 22:00:00\", \"02/15/2020 22:00:00\", \"02/16/2020 22:00:00\", \"02/17/2020 22:00:00\"], \"xaxis\": \"x\", \"y\": [0.0, 0.0, 0.0, 0.0, 0.0, 0.0, 0.0, 0.0, 0.0, 0.0, 0.0, 0.0, 0.0, 0.0, 0.0, 0.0, 0.0, 0.0, 0.0, 0.0, 0.0, 0.0], \"yaxis\": \"y\"}, {\"alignmentgroup\": \"True\", \"hoverlabel\": {\"namelength\": 0}, \"hovertemplate\": \"Country=Ivory Coast<br>Date=%{x}<br>Deaths=%{text}\", \"legendgroup\": \"Ivory Coast\", \"marker\": {\"color\": \"#FECB52\"}, \"name\": \"Ivory Coast\", \"offsetgroup\": \"Ivory Coast\", \"orientation\": \"v\", \"showlegend\": true, \"text\": [0.0], \"textposition\": \"auto\", \"type\": \"bar\", \"x\": [\"01/27/2020 20:30:00\"], \"xaxis\": \"x\", \"y\": [0.0], \"yaxis\": \"y\"}, {\"alignmentgroup\": \"True\", \"hoverlabel\": {\"namelength\": 0}, \"hovertemplate\": \"Country=Germany<br>Date=%{x}<br>Deaths=%{text}\", \"legendgroup\": \"Germany\", \"marker\": {\"color\": \"#636efa\"}, \"name\": \"Germany\", \"offsetgroup\": \"Germany\", \"orientation\": \"v\", \"showlegend\": true, \"text\": [0.0, 0.0, 0.0, 0.0, 0.0, 0.0, 0.0, 0.0, 0.0, 0.0, 0.0, 0.0, 0.0, 0.0, 0.0, 0.0, 0.0, 0.0, 0.0, 0.0, 0.0, 0.0], \"textposition\": \"auto\", \"type\": \"bar\", \"x\": [\"01/27/2020 20:30:00\", \"01/28/2020 23:00:00\", \"01/29/2020 21:00:00\", \"01/30/2020 21:30:00\", \"01/31/2020 19:00:00\", \"02/01/2020 23:00:00\", \"02/02/2020 21:00:00\", \"02/03/2020 21:40:00\", \"02/04/2020 22:00:00\", \"02/05/2020 12:20:00\", \"02/06/2020 20:05:00\", \"02/07/2020 20:24:00\", \"02/08/2020 23:04:00\", \"02/09/2020 23:20:00\", \"02/10/2020 19:30:00\", \"02/11/2020 20:44:00\", \"02/12/2020 22:00:00\", \"02/13/2020 21:15:00\", \"02/14/2020 22:00:00\", \"02/15/2020 22:00:00\", \"02/16/2020 22:00:00\", \"02/17/2020 22:00:00\"], \"xaxis\": \"x\", \"y\": [0.0, 0.0, 0.0, 0.0, 0.0, 0.0, 0.0, 0.0, 0.0, 0.0, 0.0, 0.0, 0.0, 0.0, 0.0, 0.0, 0.0, 0.0, 0.0, 0.0, 0.0, 0.0], \"yaxis\": \"y\"}, {\"alignmentgroup\": \"True\", \"hoverlabel\": {\"namelength\": 0}, \"hovertemplate\": \"Country=Sri Lanka<br>Date=%{x}<br>Deaths=%{text}\", \"legendgroup\": \"Sri Lanka\", \"marker\": {\"color\": \"#EF553B\"}, \"name\": \"Sri Lanka\", \"offsetgroup\": \"Sri Lanka\", \"orientation\": \"v\", \"showlegend\": true, \"text\": [0.0, 0.0, 0.0, 0.0, 0.0, 0.0, 0.0, 0.0, 0.0, 0.0, 0.0, 0.0, 0.0, 0.0, 0.0, 0.0, 0.0, 0.0, 0.0, 0.0, 0.0, 0.0], \"textposition\": \"auto\", \"type\": \"bar\", \"x\": [\"01/27/2020 20:30:00\", \"01/28/2020 23:00:00\", \"01/29/2020 21:00:00\", \"01/30/2020 21:30:00\", \"01/31/2020 19:00:00\", \"02/01/2020 23:00:00\", \"02/02/2020 21:00:00\", \"02/03/2020 21:40:00\", \"02/04/2020 22:00:00\", \"02/05/2020 12:20:00\", \"02/06/2020 20:05:00\", \"02/07/2020 20:24:00\", \"02/08/2020 23:04:00\", \"02/09/2020 23:20:00\", \"02/10/2020 19:30:00\", \"02/11/2020 20:44:00\", \"02/12/2020 22:00:00\", \"02/13/2020 21:15:00\", \"02/14/2020 22:00:00\", \"02/15/2020 22:00:00\", \"02/16/2020 22:00:00\", \"02/17/2020 22:00:00\"], \"xaxis\": \"x\", \"y\": [0.0, 0.0, 0.0, 0.0, 0.0, 0.0, 0.0, 0.0, 0.0, 0.0, 0.0, 0.0, 0.0, 0.0, 0.0, 0.0, 0.0, 0.0, 0.0, 0.0, 0.0, 0.0], \"yaxis\": \"y\"}, {\"alignmentgroup\": \"True\", \"hoverlabel\": {\"namelength\": 0}, \"hovertemplate\": \"Country=Finland<br>Date=%{x}<br>Deaths=%{text}\", \"legendgroup\": \"Finland\", \"marker\": {\"color\": \"#00cc96\"}, \"name\": \"Finland\", \"offsetgroup\": \"Finland\", \"orientation\": \"v\", \"showlegend\": true, \"text\": [0.0, 0.0, 0.0, 0.0, 0.0, 0.0, 0.0, 0.0, 0.0, 0.0, 0.0, 0.0, 0.0, 0.0, 0.0, 0.0, 0.0, 0.0, 0.0, 0.0], \"textposition\": \"auto\", \"type\": \"bar\", \"x\": [\"01/29/2020 21:00:00\", \"01/30/2020 21:30:00\", \"01/31/2020 19:00:00\", \"02/01/2020 23:00:00\", \"02/02/2020 21:00:00\", \"02/03/2020 21:40:00\", \"02/04/2020 22:00:00\", \"02/05/2020 12:20:00\", \"02/06/2020 20:05:00\", \"02/07/2020 20:24:00\", \"02/08/2020 23:04:00\", \"02/09/2020 23:20:00\", \"02/10/2020 19:30:00\", \"02/11/2020 20:44:00\", \"02/12/2020 22:00:00\", \"02/13/2020 21:15:00\", \"02/14/2020 22:00:00\", \"02/15/2020 22:00:00\", \"02/16/2020 22:00:00\", \"02/17/2020 22:00:00\"], \"xaxis\": \"x\", \"y\": [0.0, 0.0, 0.0, 0.0, 0.0, 0.0, 0.0, 0.0, 0.0, 0.0, 0.0, 0.0, 0.0, 0.0, 0.0, 0.0, 0.0, 0.0, 0.0, 0.0], \"yaxis\": \"y\"}, {\"alignmentgroup\": \"True\", \"hoverlabel\": {\"namelength\": 0}, \"hovertemplate\": \"Country=United Arab Emirates<br>Date=%{x}<br>Deaths=%{text}\", \"legendgroup\": \"United Arab Emirates\", \"marker\": {\"color\": \"#ab63fa\"}, \"name\": \"United Arab Emirates\", \"offsetgroup\": \"United Arab Emirates\", \"orientation\": \"v\", \"showlegend\": true, \"text\": [0.0, 0.0, 0.0, 0.0, 0.0, 0.0, 0.0, 0.0, 0.0, 0.0, 0.0, 0.0, 0.0, 0.0, 0.0, 0.0, 0.0, 0.0, 0.0, 0.0], \"textposition\": \"auto\", \"type\": \"bar\", \"x\": [\"01/29/2020 21:00:00\", \"01/30/2020 21:30:00\", \"01/31/2020 19:00:00\", \"02/01/2020 23:00:00\", \"02/02/2020 21:00:00\", \"02/03/2020 21:40:00\", \"02/04/2020 22:00:00\", \"02/05/2020 12:20:00\", \"02/06/2020 20:05:00\", \"02/07/2020 20:24:00\", \"02/08/2020 23:04:00\", \"02/09/2020 23:20:00\", \"02/10/2020 19:30:00\", \"02/11/2020 20:44:00\", \"02/12/2020 22:00:00\", \"02/13/2020 21:15:00\", \"02/14/2020 22:00:00\", \"02/15/2020 22:00:00\", \"02/16/2020 22:00:00\", \"02/17/2020 22:00:00\"], \"xaxis\": \"x\", \"y\": [0.0, 0.0, 0.0, 0.0, 0.0, 0.0, 0.0, 0.0, 0.0, 0.0, 0.0, 0.0, 0.0, 0.0, 0.0, 0.0, 0.0, 0.0, 0.0, 0.0], \"yaxis\": \"y\"}, {\"alignmentgroup\": \"True\", \"hoverlabel\": {\"namelength\": 0}, \"hovertemplate\": \"Country=India<br>Date=%{x}<br>Deaths=%{text}\", \"legendgroup\": \"India\", \"marker\": {\"color\": \"#FFA15A\"}, \"name\": \"India\", \"offsetgroup\": \"India\", \"orientation\": \"v\", \"showlegend\": true, \"text\": [0.0, 0.0, 0.0, 0.0, 0.0, 0.0, 0.0, 0.0, 0.0, 0.0, 0.0, 0.0, 0.0, 0.0, 0.0, 0.0, 0.0, 0.0, 0.0], \"textposition\": \"auto\", \"type\": \"bar\", \"x\": [\"01/30/2020 21:30:00\", \"01/31/2020 19:00:00\", \"02/01/2020 23:00:00\", \"02/02/2020 21:00:00\", \"02/03/2020 21:40:00\", \"02/04/2020 22:00:00\", \"02/05/2020 12:20:00\", \"02/06/2020 20:05:00\", \"02/07/2020 20:24:00\", \"02/08/2020 23:04:00\", \"02/09/2020 23:20:00\", \"02/10/2020 19:30:00\", \"02/11/2020 20:44:00\", \"02/12/2020 22:00:00\", \"02/13/2020 21:15:00\", \"02/14/2020 22:00:00\", \"02/15/2020 22:00:00\", \"02/16/2020 22:00:00\", \"02/17/2020 22:00:00\"], \"xaxis\": \"x\", \"y\": [0.0, 0.0, 0.0, 0.0, 0.0, 0.0, 0.0, 0.0, 0.0, 0.0, 0.0, 0.0, 0.0, 0.0, 0.0, 0.0, 0.0, 0.0, 0.0], \"yaxis\": \"y\"}, {\"alignmentgroup\": \"True\", \"hoverlabel\": {\"namelength\": 0}, \"hovertemplate\": \"Country=Italy<br>Date=%{x}<br>Deaths=%{text}\", \"legendgroup\": \"Italy\", \"marker\": {\"color\": \"#19d3f3\"}, \"name\": \"Italy\", \"offsetgroup\": \"Italy\", \"orientation\": \"v\", \"showlegend\": true, \"text\": [0.0, 0.0, 0.0, 0.0, 0.0, 0.0, 0.0, 0.0, 0.0, 0.0, 0.0, 0.0, 0.0, 0.0, 0.0, 0.0, 0.0, 0.0, 0.0], \"textposition\": \"auto\", \"type\": \"bar\", \"x\": [\"01/30/2020 21:30:00\", \"01/31/2020 19:00:00\", \"02/01/2020 23:00:00\", \"02/02/2020 21:00:00\", \"02/03/2020 21:40:00\", \"02/04/2020 22:00:00\", \"02/05/2020 12:20:00\", \"02/06/2020 20:05:00\", \"02/07/2020 20:24:00\", \"02/08/2020 23:04:00\", \"02/09/2020 23:20:00\", \"02/10/2020 19:30:00\", \"02/11/2020 20:44:00\", \"02/12/2020 22:00:00\", \"02/13/2020 21:15:00\", \"02/14/2020 22:00:00\", \"02/15/2020 22:00:00\", \"02/16/2020 22:00:00\", \"02/17/2020 22:00:00\"], \"xaxis\": \"x\", \"y\": [0.0, 0.0, 0.0, 0.0, 0.0, 0.0, 0.0, 0.0, 0.0, 0.0, 0.0, 0.0, 0.0, 0.0, 0.0, 0.0, 0.0, 0.0, 0.0], \"yaxis\": \"y\"}, {\"alignmentgroup\": \"True\", \"hoverlabel\": {\"namelength\": 0}, \"hovertemplate\": \"Country=Spain<br>Date=%{x}<br>Deaths=%{text}\", \"legendgroup\": \"Spain\", \"marker\": {\"color\": \"#FF6692\"}, \"name\": \"Spain\", \"offsetgroup\": \"Spain\", \"orientation\": \"v\", \"showlegend\": true, \"text\": [0.0, 0.0, 0.0, 0.0, 0.0, 0.0, 0.0, 0.0, 0.0, 0.0, 0.0, 0.0, 0.0, 0.0, 0.0, 0.0, 0.0, 0.0], \"textposition\": \"auto\", \"type\": \"bar\", \"x\": [\"01/31/2020 19:00:00\", \"02/01/2020 23:00:00\", \"02/02/2020 21:00:00\", \"02/03/2020 21:40:00\", \"02/04/2020 22:00:00\", \"02/05/2020 12:20:00\", \"02/06/2020 20:05:00\", \"02/07/2020 20:24:00\", \"02/08/2020 23:04:00\", \"02/09/2020 23:20:00\", \"02/10/2020 19:30:00\", \"02/11/2020 20:44:00\", \"02/12/2020 22:00:00\", \"02/13/2020 21:15:00\", \"02/14/2020 22:00:00\", \"02/15/2020 22:00:00\", \"02/16/2020 22:00:00\", \"02/17/2020 22:00:00\"], \"xaxis\": \"x\", \"y\": [0.0, 0.0, 0.0, 0.0, 0.0, 0.0, 0.0, 0.0, 0.0, 0.0, 0.0, 0.0, 0.0, 0.0, 0.0, 0.0, 0.0, 0.0], \"yaxis\": \"y\"}, {\"alignmentgroup\": \"True\", \"hoverlabel\": {\"namelength\": 0}, \"hovertemplate\": \"Country=UK<br>Date=%{x}<br>Deaths=%{text}\", \"legendgroup\": \"UK\", \"marker\": {\"color\": \"#B6E880\"}, \"name\": \"UK\", \"offsetgroup\": \"UK\", \"orientation\": \"v\", \"showlegend\": true, \"text\": [0.0, 0.0, 0.0, 0.0, 0.0, 0.0, 0.0, 0.0, 0.0, 0.0, 0.0, 0.0, 0.0, 0.0, 0.0, 0.0, 0.0, 0.0], \"textposition\": \"auto\", \"type\": \"bar\", \"x\": [\"01/31/2020 19:00:00\", \"02/01/2020 23:00:00\", \"02/02/2020 21:00:00\", \"02/03/2020 21:40:00\", \"02/04/2020 22:00:00\", \"02/05/2020 12:20:00\", \"02/06/2020 20:05:00\", \"02/07/2020 20:24:00\", \"02/08/2020 23:04:00\", \"02/09/2020 23:20:00\", \"02/10/2020 19:30:00\", \"02/11/2020 20:44:00\", \"02/12/2020 22:00:00\", \"02/13/2020 21:15:00\", \"02/14/2020 22:00:00\", \"02/15/2020 22:00:00\", \"02/16/2020 22:00:00\", \"02/17/2020 22:00:00\"], \"xaxis\": \"x\", \"y\": [0.0, 0.0, 0.0, 0.0, 0.0, 0.0, 0.0, 0.0, 0.0, 0.0, 0.0, 0.0, 0.0, 0.0, 0.0, 0.0, 0.0, 0.0], \"yaxis\": \"y\"}, {\"alignmentgroup\": \"True\", \"hoverlabel\": {\"namelength\": 0}, \"hovertemplate\": \"Country=Sweden<br>Date=%{x}<br>Deaths=%{text}\", \"legendgroup\": \"Sweden\", \"marker\": {\"color\": \"#FF97FF\"}, \"name\": \"Sweden\", \"offsetgroup\": \"Sweden\", \"orientation\": \"v\", \"showlegend\": true, \"text\": [0.0, 0.0, 0.0, 0.0, 0.0, 0.0, 0.0, 0.0, 0.0, 0.0, 0.0, 0.0, 0.0, 0.0, 0.0, 0.0, 0.0, 0.0], \"textposition\": \"auto\", \"type\": \"bar\", \"x\": [\"01/31/2020 19:00:00\", \"02/01/2020 23:00:00\", \"02/02/2020 21:00:00\", \"02/03/2020 21:40:00\", \"02/04/2020 22:00:00\", \"02/05/2020 12:20:00\", \"02/06/2020 20:05:00\", \"02/07/2020 20:24:00\", \"02/08/2020 23:04:00\", \"02/09/2020 23:20:00\", \"02/10/2020 19:30:00\", \"02/11/2020 20:44:00\", \"02/12/2020 22:00:00\", \"02/13/2020 21:15:00\", \"02/14/2020 22:00:00\", \"02/15/2020 22:00:00\", \"02/16/2020 22:00:00\", \"02/17/2020 22:00:00\"], \"xaxis\": \"x\", \"y\": [0.0, 0.0, 0.0, 0.0, 0.0, 0.0, 0.0, 0.0, 0.0, 0.0, 0.0, 0.0, 0.0, 0.0, 0.0, 0.0, 0.0, 0.0], \"yaxis\": \"y\"}, {\"alignmentgroup\": \"True\", \"hoverlabel\": {\"namelength\": 0}, \"hovertemplate\": \"Country=Russia<br>Date=%{x}<br>Deaths=%{text}\", \"legendgroup\": \"Russia\", \"marker\": {\"color\": \"#FECB52\"}, \"name\": \"Russia\", \"offsetgroup\": \"Russia\", \"orientation\": \"v\", \"showlegend\": true, \"text\": [0.0, 0.0, 0.0, 0.0, 0.0, 0.0, 0.0, 0.0, 0.0, 0.0, 0.0, 0.0, 0.0, 0.0, 0.0, 0.0, 0.0, 0.0], \"textposition\": \"auto\", \"type\": \"bar\", \"x\": [\"01/31/2020 19:00:00\", \"02/01/2020 23:00:00\", \"02/02/2020 21:00:00\", \"02/03/2020 21:40:00\", \"02/04/2020 22:00:00\", \"02/05/2020 12:20:00\", \"02/06/2020 20:05:00\", \"02/07/2020 20:24:00\", \"02/08/2020 23:04:00\", \"02/09/2020 23:20:00\", \"02/10/2020 19:30:00\", \"02/11/2020 20:44:00\", \"02/12/2020 22:00:00\", \"02/13/2020 21:15:00\", \"02/14/2020 22:00:00\", \"02/15/2020 22:00:00\", \"02/16/2020 22:00:00\", \"02/17/2020 22:00:00\"], \"xaxis\": \"x\", \"y\": [0.0, 0.0, 0.0, 0.0, 0.0, 0.0, 0.0, 0.0, 0.0, 0.0, 0.0, 0.0, 0.0, 0.0, 0.0, 0.0, 0.0, 0.0], \"yaxis\": \"y\"}, {\"alignmentgroup\": \"True\", \"hoverlabel\": {\"namelength\": 0}, \"hovertemplate\": \"Country=Belgium<br>Date=%{x}<br>Deaths=%{text}\", \"legendgroup\": \"Belgium\", \"marker\": {\"color\": \"#636efa\"}, \"name\": \"Belgium\", \"offsetgroup\": \"Belgium\", \"orientation\": \"v\", \"showlegend\": true, \"text\": [0.0, 0.0, 0.0, 0.0, 0.0, 0.0, 0.0, 0.0, 0.0, 0.0, 0.0, 0.0, 0.0, 0.0], \"textposition\": \"auto\", \"type\": \"bar\", \"x\": [\"02/04/2020 22:00:00\", \"02/05/2020 12:20:00\", \"02/06/2020 20:05:00\", \"02/07/2020 20:24:00\", \"02/08/2020 23:04:00\", \"02/09/2020 23:20:00\", \"02/10/2020 19:30:00\", \"02/11/2020 20:44:00\", \"02/12/2020 22:00:00\", \"02/13/2020 21:15:00\", \"02/14/2020 22:00:00\", \"02/15/2020 22:00:00\", \"02/16/2020 22:00:00\", \"02/17/2020 22:00:00\"], \"xaxis\": \"x\", \"y\": [0.0, 0.0, 0.0, 0.0, 0.0, 0.0, 0.0, 0.0, 0.0, 0.0, 0.0, 0.0, 0.0, 0.0], \"yaxis\": \"y\"}, {\"alignmentgroup\": \"True\", \"hoverlabel\": {\"namelength\": 0}, \"hovertemplate\": \"Country=Others<br>Date=%{x}<br>Deaths=%{text}\", \"legendgroup\": \"Others\", \"marker\": {\"color\": \"#EF553B\"}, \"name\": \"Others\", \"offsetgroup\": \"Others\", \"orientation\": \"v\", \"showlegend\": true, \"text\": [0.0, 0.0, 0.0, 0.0, 0.0, 0.0, 0.0, 0.0, 0.0, 0.0, 0.0], \"textposition\": \"auto\", \"type\": \"bar\", \"x\": [\"02/07/2020 20:24:00\", \"02/08/2020 23:04:00\", \"02/09/2020 23:20:00\", \"02/10/2020 19:30:00\", \"02/11/2020 20:44:00\", \"02/12/2020 22:00:00\", \"02/13/2020 21:15:00\", \"02/14/2020 22:00:00\", \"02/15/2020 22:00:00\", \"02/16/2020 22:00:00\", \"02/17/2020 22:00:00\"], \"xaxis\": \"x\", \"y\": [0.0, 0.0, 0.0, 0.0, 0.0, 0.0, 0.0, 0.0, 0.0, 0.0, 0.0], \"yaxis\": \"y\"}, {\"alignmentgroup\": \"True\", \"hoverlabel\": {\"namelength\": 0}, \"hovertemplate\": \"Country=Egypt<br>Date=%{x}<br>Deaths=%{text}\", \"legendgroup\": \"Egypt\", \"marker\": {\"color\": \"#00cc96\"}, \"name\": \"Egypt\", \"offsetgroup\": \"Egypt\", \"orientation\": \"v\", \"showlegend\": true, \"text\": [0.0, 0.0, 0.0, 0.0], \"textposition\": \"auto\", \"type\": \"bar\", \"x\": [\"02/14/2020 22:00:00\", \"02/15/2020 22:00:00\", \"02/16/2020 22:00:00\", \"02/17/2020 22:00:00\"], \"xaxis\": \"x\", \"y\": [0.0, 0.0, 0.0, 0.0], \"yaxis\": \"y\"}],\n",
       "                        {\"barmode\": \"relative\", \"height\": 600, \"legend\": {\"title\": {\"text\": \"Country\"}, \"tracegroupgap\": 0}, \"template\": {\"data\": {\"bar\": [{\"error_x\": {\"color\": \"#2a3f5f\"}, \"error_y\": {\"color\": \"#2a3f5f\"}, \"marker\": {\"line\": {\"color\": \"#E5ECF6\", \"width\": 0.5}}, \"type\": \"bar\"}], \"barpolar\": [{\"marker\": {\"line\": {\"color\": \"#E5ECF6\", \"width\": 0.5}}, \"type\": \"barpolar\"}], \"carpet\": [{\"aaxis\": {\"endlinecolor\": \"#2a3f5f\", \"gridcolor\": \"white\", \"linecolor\": \"white\", \"minorgridcolor\": \"white\", \"startlinecolor\": \"#2a3f5f\"}, \"baxis\": {\"endlinecolor\": \"#2a3f5f\", \"gridcolor\": \"white\", \"linecolor\": \"white\", \"minorgridcolor\": \"white\", \"startlinecolor\": \"#2a3f5f\"}, \"type\": \"carpet\"}], \"choropleth\": [{\"colorbar\": {\"outlinewidth\": 0, \"ticks\": \"\"}, \"type\": \"choropleth\"}], \"contour\": [{\"colorbar\": {\"outlinewidth\": 0, \"ticks\": \"\"}, \"colorscale\": [[0.0, \"#0d0887\"], [0.1111111111111111, \"#46039f\"], [0.2222222222222222, \"#7201a8\"], [0.3333333333333333, \"#9c179e\"], [0.4444444444444444, \"#bd3786\"], [0.5555555555555556, \"#d8576b\"], [0.6666666666666666, \"#ed7953\"], [0.7777777777777778, \"#fb9f3a\"], [0.8888888888888888, \"#fdca26\"], [1.0, \"#f0f921\"]], \"type\": \"contour\"}], \"contourcarpet\": [{\"colorbar\": {\"outlinewidth\": 0, \"ticks\": \"\"}, \"type\": \"contourcarpet\"}], \"heatmap\": [{\"colorbar\": {\"outlinewidth\": 0, \"ticks\": \"\"}, \"colorscale\": [[0.0, \"#0d0887\"], [0.1111111111111111, \"#46039f\"], [0.2222222222222222, \"#7201a8\"], [0.3333333333333333, \"#9c179e\"], [0.4444444444444444, \"#bd3786\"], [0.5555555555555556, \"#d8576b\"], [0.6666666666666666, \"#ed7953\"], [0.7777777777777778, \"#fb9f3a\"], [0.8888888888888888, \"#fdca26\"], [1.0, \"#f0f921\"]], \"type\": \"heatmap\"}], \"heatmapgl\": [{\"colorbar\": {\"outlinewidth\": 0, \"ticks\": \"\"}, \"colorscale\": [[0.0, \"#0d0887\"], [0.1111111111111111, \"#46039f\"], [0.2222222222222222, \"#7201a8\"], [0.3333333333333333, \"#9c179e\"], [0.4444444444444444, \"#bd3786\"], [0.5555555555555556, \"#d8576b\"], [0.6666666666666666, \"#ed7953\"], [0.7777777777777778, \"#fb9f3a\"], [0.8888888888888888, \"#fdca26\"], [1.0, \"#f0f921\"]], \"type\": \"heatmapgl\"}], \"histogram\": [{\"marker\": {\"colorbar\": {\"outlinewidth\": 0, \"ticks\": \"\"}}, \"type\": \"histogram\"}], \"histogram2d\": [{\"colorbar\": {\"outlinewidth\": 0, \"ticks\": \"\"}, \"colorscale\": [[0.0, \"#0d0887\"], [0.1111111111111111, \"#46039f\"], [0.2222222222222222, \"#7201a8\"], [0.3333333333333333, \"#9c179e\"], [0.4444444444444444, \"#bd3786\"], [0.5555555555555556, \"#d8576b\"], [0.6666666666666666, \"#ed7953\"], [0.7777777777777778, \"#fb9f3a\"], [0.8888888888888888, \"#fdca26\"], [1.0, \"#f0f921\"]], \"type\": \"histogram2d\"}], \"histogram2dcontour\": [{\"colorbar\": {\"outlinewidth\": 0, \"ticks\": \"\"}, \"colorscale\": [[0.0, \"#0d0887\"], [0.1111111111111111, \"#46039f\"], [0.2222222222222222, \"#7201a8\"], [0.3333333333333333, \"#9c179e\"], [0.4444444444444444, \"#bd3786\"], [0.5555555555555556, \"#d8576b\"], [0.6666666666666666, \"#ed7953\"], [0.7777777777777778, \"#fb9f3a\"], [0.8888888888888888, \"#fdca26\"], [1.0, \"#f0f921\"]], \"type\": \"histogram2dcontour\"}], \"mesh3d\": [{\"colorbar\": {\"outlinewidth\": 0, \"ticks\": \"\"}, \"type\": \"mesh3d\"}], \"parcoords\": [{\"line\": {\"colorbar\": {\"outlinewidth\": 0, \"ticks\": \"\"}}, \"type\": \"parcoords\"}], \"pie\": [{\"automargin\": true, \"type\": \"pie\"}], \"scatter\": [{\"marker\": {\"colorbar\": {\"outlinewidth\": 0, \"ticks\": \"\"}}, \"type\": \"scatter\"}], \"scatter3d\": [{\"line\": {\"colorbar\": {\"outlinewidth\": 0, \"ticks\": \"\"}}, \"marker\": {\"colorbar\": {\"outlinewidth\": 0, \"ticks\": \"\"}}, \"type\": \"scatter3d\"}], \"scattercarpet\": [{\"marker\": {\"colorbar\": {\"outlinewidth\": 0, \"ticks\": \"\"}}, \"type\": \"scattercarpet\"}], \"scattergeo\": [{\"marker\": {\"colorbar\": {\"outlinewidth\": 0, \"ticks\": \"\"}}, \"type\": \"scattergeo\"}], \"scattergl\": [{\"marker\": {\"colorbar\": {\"outlinewidth\": 0, \"ticks\": \"\"}}, \"type\": \"scattergl\"}], \"scattermapbox\": [{\"marker\": {\"colorbar\": {\"outlinewidth\": 0, \"ticks\": \"\"}}, \"type\": \"scattermapbox\"}], \"scatterpolar\": [{\"marker\": {\"colorbar\": {\"outlinewidth\": 0, \"ticks\": \"\"}}, \"type\": \"scatterpolar\"}], \"scatterpolargl\": [{\"marker\": {\"colorbar\": {\"outlinewidth\": 0, \"ticks\": \"\"}}, \"type\": \"scatterpolargl\"}], \"scatterternary\": [{\"marker\": {\"colorbar\": {\"outlinewidth\": 0, \"ticks\": \"\"}}, \"type\": \"scatterternary\"}], \"surface\": [{\"colorbar\": {\"outlinewidth\": 0, \"ticks\": \"\"}, \"colorscale\": [[0.0, \"#0d0887\"], [0.1111111111111111, \"#46039f\"], [0.2222222222222222, \"#7201a8\"], [0.3333333333333333, \"#9c179e\"], [0.4444444444444444, \"#bd3786\"], [0.5555555555555556, \"#d8576b\"], [0.6666666666666666, \"#ed7953\"], [0.7777777777777778, \"#fb9f3a\"], [0.8888888888888888, \"#fdca26\"], [1.0, \"#f0f921\"]], \"type\": \"surface\"}], \"table\": [{\"cells\": {\"fill\": {\"color\": \"#EBF0F8\"}, \"line\": {\"color\": \"white\"}}, \"header\": {\"fill\": {\"color\": \"#C8D4E3\"}, \"line\": {\"color\": \"white\"}}, \"type\": \"table\"}]}, \"layout\": {\"annotationdefaults\": {\"arrowcolor\": \"#2a3f5f\", \"arrowhead\": 0, \"arrowwidth\": 1}, \"coloraxis\": {\"colorbar\": {\"outlinewidth\": 0, \"ticks\": \"\"}}, \"colorscale\": {\"diverging\": [[0, \"#8e0152\"], [0.1, \"#c51b7d\"], [0.2, \"#de77ae\"], [0.3, \"#f1b6da\"], [0.4, \"#fde0ef\"], [0.5, \"#f7f7f7\"], [0.6, \"#e6f5d0\"], [0.7, \"#b8e186\"], [0.8, \"#7fbc41\"], [0.9, \"#4d9221\"], [1, \"#276419\"]], \"sequential\": [[0.0, \"#0d0887\"], [0.1111111111111111, \"#46039f\"], [0.2222222222222222, \"#7201a8\"], [0.3333333333333333, \"#9c179e\"], [0.4444444444444444, \"#bd3786\"], [0.5555555555555556, \"#d8576b\"], [0.6666666666666666, \"#ed7953\"], [0.7777777777777778, \"#fb9f3a\"], [0.8888888888888888, \"#fdca26\"], [1.0, \"#f0f921\"]], \"sequentialminus\": [[0.0, \"#0d0887\"], [0.1111111111111111, \"#46039f\"], [0.2222222222222222, \"#7201a8\"], [0.3333333333333333, \"#9c179e\"], [0.4444444444444444, \"#bd3786\"], [0.5555555555555556, \"#d8576b\"], [0.6666666666666666, \"#ed7953\"], [0.7777777777777778, \"#fb9f3a\"], [0.8888888888888888, \"#fdca26\"], [1.0, \"#f0f921\"]]}, \"colorway\": [\"#636efa\", \"#EF553B\", \"#00cc96\", \"#ab63fa\", \"#FFA15A\", \"#19d3f3\", \"#FF6692\", \"#B6E880\", \"#FF97FF\", \"#FECB52\"], \"font\": {\"color\": \"#2a3f5f\"}, \"geo\": {\"bgcolor\": \"white\", \"lakecolor\": \"white\", \"landcolor\": \"#E5ECF6\", \"showlakes\": true, \"showland\": true, \"subunitcolor\": \"white\"}, \"hoverlabel\": {\"align\": \"left\"}, \"hovermode\": \"closest\", \"mapbox\": {\"style\": \"light\"}, \"paper_bgcolor\": \"white\", \"plot_bgcolor\": \"#E5ECF6\", \"polar\": {\"angularaxis\": {\"gridcolor\": \"white\", \"linecolor\": \"white\", \"ticks\": \"\"}, \"bgcolor\": \"#E5ECF6\", \"radialaxis\": {\"gridcolor\": \"white\", \"linecolor\": \"white\", \"ticks\": \"\"}}, \"scene\": {\"xaxis\": {\"backgroundcolor\": \"#E5ECF6\", \"gridcolor\": \"white\", \"gridwidth\": 2, \"linecolor\": \"white\", \"showbackground\": true, \"ticks\": \"\", \"zerolinecolor\": \"white\"}, \"yaxis\": {\"backgroundcolor\": \"#E5ECF6\", \"gridcolor\": \"white\", \"gridwidth\": 2, \"linecolor\": \"white\", \"showbackground\": true, \"ticks\": \"\", \"zerolinecolor\": \"white\"}, \"zaxis\": {\"backgroundcolor\": \"#E5ECF6\", \"gridcolor\": \"white\", \"gridwidth\": 2, \"linecolor\": \"white\", \"showbackground\": true, \"ticks\": \"\", \"zerolinecolor\": \"white\"}}, \"shapedefaults\": {\"line\": {\"color\": \"#2a3f5f\"}}, \"ternary\": {\"aaxis\": {\"gridcolor\": \"white\", \"linecolor\": \"white\", \"ticks\": \"\"}, \"baxis\": {\"gridcolor\": \"white\", \"linecolor\": \"white\", \"ticks\": \"\"}, \"bgcolor\": \"#E5ECF6\", \"caxis\": {\"gridcolor\": \"white\", \"linecolor\": \"white\", \"ticks\": \"\"}}, \"title\": {\"x\": 0.05}, \"xaxis\": {\"automargin\": true, \"gridcolor\": \"white\", \"linecolor\": \"white\", \"ticks\": \"\", \"title\": {\"standoff\": 15}, \"zerolinecolor\": \"white\", \"zerolinewidth\": 2}, \"yaxis\": {\"automargin\": true, \"gridcolor\": \"white\", \"linecolor\": \"white\", \"ticks\": \"\", \"title\": {\"standoff\": 15}, \"zerolinecolor\": \"white\", \"zerolinewidth\": 2}}}, \"title\": {\"text\": \"Deaths\"}, \"xaxis\": {\"anchor\": \"y\", \"domain\": [0.0, 1.0], \"title\": {\"text\": \"Date\"}}, \"yaxis\": {\"anchor\": \"x\", \"domain\": [0.0, 1.0], \"title\": {\"text\": \"Deaths\"}}},\n",
       "                        {\"responsive\": true}\n",
       "                    ).then(function(){\n",
       "                            \n",
       "var gd = document.getElementById('f983d6c0-2449-4f14-ab4c-39632f736e2f');\n",
       "var x = new MutationObserver(function (mutations, observer) {{\n",
       "        var display = window.getComputedStyle(gd).display;\n",
       "        if (!display || display === 'none') {{\n",
       "            console.log([gd, 'removed!']);\n",
       "            Plotly.purge(gd);\n",
       "            observer.disconnect();\n",
       "        }}\n",
       "}});\n",
       "\n",
       "// Listen for the removal of the full notebook cells\n",
       "var notebookContainer = gd.closest('#notebook-container');\n",
       "if (notebookContainer) {{\n",
       "    x.observe(notebookContainer, {childList: true});\n",
       "}}\n",
       "\n",
       "// Listen for the clearing of the current output cell\n",
       "var outputEl = gd.closest('.output');\n",
       "if (outputEl) {{\n",
       "    x.observe(outputEl, {childList: true});\n",
       "}}\n",
       "\n",
       "                        })\n",
       "                };\n",
       "                });\n",
       "            </script>\n",
       "        </div>"
      ]
     },
     "metadata": {},
     "output_type": "display_data"
    }
   ],
   "source": [
    "fig = px.bar(bar_data, x=\"Date\", y=\"Deaths\", color='Country', text = 'Deaths', orientation='v', height=600,\n",
    "             title='Deaths')\n",
    "fig.show()\n"
   ]
  },
  {
   "cell_type": "code",
   "execution_count": 68,
   "metadata": {},
   "outputs": [
    {
     "data": {
      "application/vnd.plotly.v1+json": {
       "config": {
        "plotlyServerURL": "https://plot.ly"
       },
       "data": [
        {
         "alignmentgroup": "True",
         "hoverlabel": {
          "namelength": 0
         },
         "hovertemplate": "Country=China<br>Date=%{x}<br>Recovered=%{text}",
         "legendgroup": "China",
         "marker": {
          "color": "#636efa"
         },
         "name": "China",
         "offsetgroup": "China",
         "orientation": "v",
         "showlegend": true,
         "text": [
          0,
          30,
          36,
          49,
          51,
          60,
          104,
          127,
          179,
          242,
          331,
          478,
          635,
          890,
          1020,
          1476,
          1750,
          2678,
          3286,
          3921,
          4730,
          5915,
          6982,
          7973,
          9294,
          10748,
          12455
         ],
         "textposition": "auto",
         "type": "bar",
         "x": [
          "01/22/2020 12:00:00",
          "01/23/2020 12:00:00",
          "01/24/2020 12:00:00",
          "01/25/2020 22:00:00",
          "01/26/2020 23:00:00",
          "01/27/2020 20:30:00",
          "01/28/2020 23:00:00",
          "01/29/2020 21:00:00",
          "01/30/2020 21:30:00",
          "01/31/2020 19:00:00",
          "02/01/2020 23:00:00",
          "02/02/2020 21:00:00",
          "02/03/2020 21:40:00",
          "02/04/2020 22:00:00",
          "02/05/2020 12:20:00",
          "02/06/2020 20:05:00",
          "02/07/2020 20:24:00",
          "02/08/2020 23:04:00",
          "02/09/2020 23:20:00",
          "02/10/2020 19:30:00",
          "02/11/2020 20:44:00",
          "02/12/2020 22:00:00",
          "02/13/2020 21:15:00",
          "02/14/2020 22:00:00",
          "02/15/2020 22:00:00",
          "02/16/2020 22:00:00",
          "02/17/2020 22:00:00"
         ],
         "xaxis": "x",
         "y": [
          0,
          30,
          36,
          49,
          51,
          60,
          104,
          127,
          179,
          242,
          331,
          478,
          635,
          890,
          1020,
          1476,
          1750,
          2678,
          3286,
          3921,
          4730,
          5915,
          6982,
          7973,
          9294,
          10748,
          12455
         ],
         "yaxis": "y"
        },
        {
         "alignmentgroup": "True",
         "hoverlabel": {
          "namelength": 0
         },
         "hovertemplate": "Country=Japan<br>Date=%{x}<br>Recovered=%{text}",
         "legendgroup": "Japan",
         "marker": {
          "color": "#EF553B"
         },
         "name": "Japan",
         "offsetgroup": "Japan",
         "orientation": "v",
         "showlegend": true,
         "text": [
          0,
          0,
          0,
          0,
          1,
          1,
          1,
          1,
          1,
          1,
          1,
          1,
          1,
          1,
          1,
          1,
          1,
          1,
          1,
          4,
          9,
          9,
          9,
          9,
          12,
          12,
          12
         ],
         "textposition": "auto",
         "type": "bar",
         "x": [
          "01/22/2020 12:00:00",
          "01/23/2020 12:00:00",
          "01/24/2020 12:00:00",
          "01/25/2020 22:00:00",
          "01/26/2020 23:00:00",
          "01/27/2020 20:30:00",
          "01/28/2020 23:00:00",
          "01/29/2020 21:00:00",
          "01/30/2020 21:30:00",
          "01/31/2020 19:00:00",
          "02/01/2020 23:00:00",
          "02/02/2020 21:00:00",
          "02/03/2020 21:40:00",
          "02/04/2020 22:00:00",
          "02/05/2020 12:20:00",
          "02/06/2020 20:05:00",
          "02/07/2020 20:24:00",
          "02/08/2020 23:04:00",
          "02/09/2020 23:20:00",
          "02/10/2020 19:30:00",
          "02/11/2020 20:44:00",
          "02/12/2020 22:00:00",
          "02/13/2020 21:15:00",
          "02/14/2020 22:00:00",
          "02/15/2020 22:00:00",
          "02/16/2020 22:00:00",
          "02/17/2020 22:00:00"
         ],
         "xaxis": "x",
         "y": [
          0,
          0,
          0,
          0,
          1,
          1,
          1,
          1,
          1,
          1,
          1,
          1,
          1,
          1,
          1,
          1,
          1,
          1,
          1,
          4,
          9,
          9,
          9,
          9,
          12,
          12,
          12
         ],
         "yaxis": "y"
        },
        {
         "alignmentgroup": "True",
         "hoverlabel": {
          "namelength": 0
         },
         "hovertemplate": "Country=US<br>Date=%{x}<br>Recovered=%{text}",
         "legendgroup": "US",
         "marker": {
          "color": "#00cc96"
         },
         "name": "US",
         "offsetgroup": "US",
         "orientation": "v",
         "showlegend": true,
         "text": [
          0,
          0,
          0,
          0,
          0,
          0,
          0,
          0,
          0,
          0,
          0,
          0,
          0,
          0,
          0,
          0,
          0,
          0,
          3,
          3,
          3,
          3,
          3,
          3,
          3,
          3,
          3
         ],
         "textposition": "auto",
         "type": "bar",
         "x": [
          "01/22/2020 12:00:00",
          "01/23/2020 12:00:00",
          "01/24/2020 12:00:00",
          "01/25/2020 22:00:00",
          "01/26/2020 23:00:00",
          "01/27/2020 20:30:00",
          "01/28/2020 23:00:00",
          "01/29/2020 21:00:00",
          "01/30/2020 21:30:00",
          "01/31/2020 19:00:00",
          "02/01/2020 23:00:00",
          "02/02/2020 21:00:00",
          "02/03/2020 21:40:00",
          "02/04/2020 22:00:00",
          "02/05/2020 12:20:00",
          "02/06/2020 20:05:00",
          "02/07/2020 20:24:00",
          "02/08/2020 23:04:00",
          "02/09/2020 23:20:00",
          "02/10/2020 19:30:00",
          "02/11/2020 20:44:00",
          "02/12/2020 22:00:00",
          "02/13/2020 21:15:00",
          "02/14/2020 22:00:00",
          "02/15/2020 22:00:00",
          "02/16/2020 22:00:00",
          "02/17/2020 22:00:00"
         ],
         "xaxis": "x",
         "y": [
          0,
          0,
          0,
          0,
          0,
          0,
          0,
          0,
          0,
          0,
          0,
          0,
          0,
          0,
          0,
          0,
          0,
          0,
          3,
          3,
          3,
          3,
          3,
          3,
          3,
          3,
          3
         ],
         "yaxis": "y"
        },
        {
         "alignmentgroup": "True",
         "hoverlabel": {
          "namelength": 0
         },
         "hovertemplate": "Country=Thailand<br>Date=%{x}<br>Recovered=%{text}",
         "legendgroup": "Thailand",
         "marker": {
          "color": "#ab63fa"
         },
         "name": "Thailand",
         "offsetgroup": "Thailand",
         "orientation": "v",
         "showlegend": true,
         "text": [
          0,
          0,
          0,
          0,
          2,
          2,
          5,
          5,
          5,
          7,
          5,
          5,
          5,
          5,
          5,
          5,
          5,
          10,
          10,
          10,
          10,
          10,
          12,
          12,
          12,
          14,
          15
         ],
         "textposition": "auto",
         "type": "bar",
         "x": [
          "01/22/2020 12:00:00",
          "01/23/2020 12:00:00",
          "01/24/2020 12:00:00",
          "01/25/2020 22:00:00",
          "01/26/2020 23:00:00",
          "01/27/2020 20:30:00",
          "01/28/2020 23:00:00",
          "01/29/2020 21:00:00",
          "01/30/2020 21:30:00",
          "01/31/2020 19:00:00",
          "02/01/2020 23:00:00",
          "02/02/2020 21:00:00",
          "02/03/2020 21:40:00",
          "02/04/2020 22:00:00",
          "02/05/2020 12:20:00",
          "02/06/2020 20:05:00",
          "02/07/2020 20:24:00",
          "02/08/2020 23:04:00",
          "02/09/2020 23:20:00",
          "02/10/2020 19:30:00",
          "02/11/2020 20:44:00",
          "02/12/2020 22:00:00",
          "02/13/2020 21:15:00",
          "02/14/2020 22:00:00",
          "02/15/2020 22:00:00",
          "02/16/2020 22:00:00",
          "02/17/2020 22:00:00"
         ],
         "xaxis": "x",
         "y": [
          0,
          0,
          0,
          0,
          2,
          2,
          5,
          5,
          5,
          7,
          5,
          5,
          5,
          5,
          5,
          5,
          5,
          10,
          10,
          10,
          10,
          10,
          12,
          12,
          12,
          14,
          15
         ],
         "yaxis": "y"
        },
        {
         "alignmentgroup": "True",
         "hoverlabel": {
          "namelength": 0
         },
         "hovertemplate": "Country=South Korea<br>Date=%{x}<br>Recovered=%{text}",
         "legendgroup": "South Korea",
         "marker": {
          "color": "#FFA15A"
         },
         "name": "South Korea",
         "offsetgroup": "South Korea",
         "orientation": "v",
         "showlegend": true,
         "text": [
          0,
          0,
          0,
          0,
          0,
          0,
          0,
          0,
          0,
          0,
          0,
          0,
          0,
          0,
          0,
          0,
          1,
          3,
          3,
          3,
          4,
          7,
          7,
          7,
          9,
          9,
          10
         ],
         "textposition": "auto",
         "type": "bar",
         "x": [
          "01/22/2020 12:00:00",
          "01/23/2020 12:00:00",
          "01/24/2020 12:00:00",
          "01/25/2020 22:00:00",
          "01/26/2020 23:00:00",
          "01/27/2020 20:30:00",
          "01/28/2020 23:00:00",
          "01/29/2020 21:00:00",
          "01/30/2020 21:30:00",
          "01/31/2020 19:00:00",
          "02/01/2020 23:00:00",
          "02/02/2020 21:00:00",
          "02/03/2020 21:40:00",
          "02/04/2020 22:00:00",
          "02/05/2020 12:20:00",
          "02/06/2020 20:05:00",
          "02/07/2020 20:24:00",
          "02/08/2020 23:04:00",
          "02/09/2020 23:20:00",
          "02/10/2020 19:30:00",
          "02/11/2020 20:44:00",
          "02/12/2020 22:00:00",
          "02/13/2020 21:15:00",
          "02/14/2020 22:00:00",
          "02/15/2020 22:00:00",
          "02/16/2020 22:00:00",
          "02/17/2020 22:00:00"
         ],
         "xaxis": "x",
         "y": [
          0,
          0,
          0,
          0,
          0,
          0,
          0,
          0,
          0,
          0,
          0,
          0,
          0,
          0,
          0,
          0,
          1,
          3,
          3,
          3,
          4,
          7,
          7,
          7,
          9,
          9,
          10
         ],
         "yaxis": "y"
        },
        {
         "alignmentgroup": "True",
         "hoverlabel": {
          "namelength": 0
         },
         "hovertemplate": "Country=Brazil<br>Date=%{x}<br>Recovered=%{text}",
         "legendgroup": "Brazil",
         "marker": {
          "color": "#19d3f3"
         },
         "name": "Brazil",
         "offsetgroup": "Brazil",
         "orientation": "v",
         "showlegend": true,
         "text": [
          0
         ],
         "textposition": "auto",
         "type": "bar",
         "x": [
          "01/23/2020 12:00:00"
         ],
         "xaxis": "x",
         "y": [
          0
         ],
         "yaxis": "y"
        },
        {
         "alignmentgroup": "True",
         "hoverlabel": {
          "namelength": 0
         },
         "hovertemplate": "Country=Hong Kong<br>Date=%{x}<br>Recovered=%{text}",
         "legendgroup": "Hong Kong",
         "marker": {
          "color": "#FF6692"
         },
         "name": "Hong Kong",
         "offsetgroup": "Hong Kong",
         "orientation": "v",
         "showlegend": true,
         "text": [
          0,
          0,
          0,
          0,
          0,
          0,
          0,
          0,
          0,
          0,
          0,
          0,
          0,
          0,
          0,
          0,
          0,
          0,
          0,
          0,
          1,
          1,
          1,
          1,
          2,
          2
         ],
         "textposition": "auto",
         "type": "bar",
         "x": [
          "01/23/2020 12:00:00",
          "01/24/2020 12:00:00",
          "01/25/2020 22:00:00",
          "01/26/2020 23:00:00",
          "01/27/2020 20:30:00",
          "01/28/2020 23:00:00",
          "01/29/2020 21:00:00",
          "01/30/2020 21:30:00",
          "01/31/2020 19:00:00",
          "02/01/2020 23:00:00",
          "02/02/2020 21:00:00",
          "02/03/2020 21:40:00",
          "02/04/2020 22:00:00",
          "02/05/2020 12:20:00",
          "02/06/2020 20:05:00",
          "02/07/2020 20:24:00",
          "02/08/2020 23:04:00",
          "02/09/2020 23:20:00",
          "02/10/2020 19:30:00",
          "02/11/2020 20:44:00",
          "02/12/2020 22:00:00",
          "02/13/2020 21:15:00",
          "02/14/2020 22:00:00",
          "02/15/2020 22:00:00",
          "02/16/2020 22:00:00",
          "02/17/2020 22:00:00"
         ],
         "xaxis": "x",
         "y": [
          0,
          0,
          0,
          0,
          0,
          0,
          0,
          0,
          0,
          0,
          0,
          0,
          0,
          0,
          0,
          0,
          0,
          0,
          0,
          0,
          1,
          1,
          1,
          1,
          2,
          2
         ],
         "yaxis": "y"
        },
        {
         "alignmentgroup": "True",
         "hoverlabel": {
          "namelength": 0
         },
         "hovertemplate": "Country=Macau<br>Date=%{x}<br>Recovered=%{text}",
         "legendgroup": "Macau",
         "marker": {
          "color": "#B6E880"
         },
         "name": "Macau",
         "offsetgroup": "Macau",
         "orientation": "v",
         "showlegend": true,
         "text": [
          0,
          0,
          0,
          0,
          0,
          0,
          0,
          0,
          0,
          0,
          0,
          0,
          0,
          0,
          1,
          1,
          1,
          1,
          1,
          1,
          2,
          3,
          3,
          3,
          5,
          5
         ],
         "textposition": "auto",
         "type": "bar",
         "x": [
          "01/23/2020 12:00:00",
          "01/24/2020 12:00:00",
          "01/25/2020 22:00:00",
          "01/26/2020 23:00:00",
          "01/27/2020 20:30:00",
          "01/28/2020 23:00:00",
          "01/29/2020 21:00:00",
          "01/30/2020 21:30:00",
          "01/31/2020 19:00:00",
          "02/01/2020 23:00:00",
          "02/02/2020 21:00:00",
          "02/03/2020 21:40:00",
          "02/04/2020 22:00:00",
          "02/05/2020 12:20:00",
          "02/06/2020 20:05:00",
          "02/07/2020 20:24:00",
          "02/08/2020 23:04:00",
          "02/09/2020 23:20:00",
          "02/10/2020 19:30:00",
          "02/11/2020 20:44:00",
          "02/12/2020 22:00:00",
          "02/13/2020 21:15:00",
          "02/14/2020 22:00:00",
          "02/15/2020 22:00:00",
          "02/16/2020 22:00:00",
          "02/17/2020 22:00:00"
         ],
         "xaxis": "x",
         "y": [
          0,
          0,
          0,
          0,
          0,
          0,
          0,
          0,
          0,
          0,
          0,
          0,
          0,
          0,
          1,
          1,
          1,
          1,
          1,
          1,
          2,
          3,
          3,
          3,
          5,
          5
         ],
         "yaxis": "y"
        },
        {
         "alignmentgroup": "True",
         "hoverlabel": {
          "namelength": 0
         },
         "hovertemplate": "Country=Malaysia<br>Date=%{x}<br>Recovered=%{text}",
         "legendgroup": "Malaysia",
         "marker": {
          "color": "#FF97FF"
         },
         "name": "Malaysia",
         "offsetgroup": "Malaysia",
         "orientation": "v",
         "showlegend": true,
         "text": [
          0,
          0,
          0,
          0,
          0,
          0,
          0,
          0,
          0,
          0,
          0,
          0,
          0,
          0,
          1,
          1,
          1,
          1,
          3,
          3,
          3,
          3,
          7,
          7,
          7
         ],
         "textposition": "auto",
         "type": "bar",
         "x": [
          "01/23/2020 12:00:00",
          "01/25/2020 22:00:00",
          "01/26/2020 23:00:00",
          "01/27/2020 20:30:00",
          "01/28/2020 23:00:00",
          "01/29/2020 21:00:00",
          "01/30/2020 21:30:00",
          "01/31/2020 19:00:00",
          "02/01/2020 23:00:00",
          "02/02/2020 21:00:00",
          "02/03/2020 21:40:00",
          "02/04/2020 22:00:00",
          "02/05/2020 12:20:00",
          "02/06/2020 20:05:00",
          "02/07/2020 20:24:00",
          "02/08/2020 23:04:00",
          "02/09/2020 23:20:00",
          "02/10/2020 19:30:00",
          "02/11/2020 20:44:00",
          "02/12/2020 22:00:00",
          "02/13/2020 21:15:00",
          "02/14/2020 22:00:00",
          "02/15/2020 22:00:00",
          "02/16/2020 22:00:00",
          "02/17/2020 22:00:00"
         ],
         "xaxis": "x",
         "y": [
          0,
          0,
          0,
          0,
          0,
          0,
          0,
          0,
          0,
          0,
          0,
          0,
          0,
          0,
          1,
          1,
          1,
          1,
          3,
          3,
          3,
          3,
          7,
          7,
          7
         ],
         "yaxis": "y"
        },
        {
         "alignmentgroup": "True",
         "hoverlabel": {
          "namelength": 0
         },
         "hovertemplate": "Country=Mexico<br>Date=%{x}<br>Recovered=%{text}",
         "legendgroup": "Mexico",
         "marker": {
          "color": "#FECB52"
         },
         "name": "Mexico",
         "offsetgroup": "Mexico",
         "orientation": "v",
         "showlegend": true,
         "text": [
          0
         ],
         "textposition": "auto",
         "type": "bar",
         "x": [
          "01/23/2020 12:00:00"
         ],
         "xaxis": "x",
         "y": [
          0
         ],
         "yaxis": "y"
        },
        {
         "alignmentgroup": "True",
         "hoverlabel": {
          "namelength": 0
         },
         "hovertemplate": "Country=Philippines<br>Date=%{x}<br>Recovered=%{text}",
         "legendgroup": "Philippines",
         "marker": {
          "color": "#636efa"
         },
         "name": "Philippines",
         "offsetgroup": "Philippines",
         "orientation": "v",
         "showlegend": true,
         "text": [
          0,
          0,
          0,
          0,
          0,
          0,
          0,
          0,
          0,
          0,
          0,
          0,
          0,
          0,
          1,
          1,
          1,
          1,
          1,
          1
         ],
         "textposition": "auto",
         "type": "bar",
         "x": [
          "01/23/2020 12:00:00",
          "01/30/2020 21:30:00",
          "01/31/2020 19:00:00",
          "02/01/2020 23:00:00",
          "02/02/2020 21:00:00",
          "02/03/2020 21:40:00",
          "02/04/2020 22:00:00",
          "02/05/2020 12:20:00",
          "02/06/2020 20:05:00",
          "02/07/2020 20:24:00",
          "02/08/2020 23:04:00",
          "02/09/2020 23:20:00",
          "02/10/2020 19:30:00",
          "02/11/2020 20:44:00",
          "02/12/2020 22:00:00",
          "02/13/2020 21:15:00",
          "02/14/2020 22:00:00",
          "02/15/2020 22:00:00",
          "02/16/2020 22:00:00",
          "02/17/2020 22:00:00"
         ],
         "xaxis": "x",
         "y": [
          0,
          0,
          0,
          0,
          0,
          0,
          0,
          0,
          0,
          0,
          0,
          0,
          0,
          0,
          1,
          1,
          1,
          1,
          1,
          1
         ],
         "yaxis": "y"
        },
        {
         "alignmentgroup": "True",
         "hoverlabel": {
          "namelength": 0
         },
         "hovertemplate": "Country=Australia<br>Date=%{x}<br>Recovered=%{text}",
         "legendgroup": "Australia",
         "marker": {
          "color": "#EF553B"
         },
         "name": "Australia",
         "offsetgroup": "Australia",
         "orientation": "v",
         "showlegend": true,
         "text": [
          0,
          0,
          0,
          0,
          0,
          0,
          2,
          2,
          2,
          2,
          2,
          2,
          2,
          2,
          2,
          2,
          2,
          2,
          2,
          2,
          8,
          8,
          8,
          8,
          10
         ],
         "textposition": "auto",
         "type": "bar",
         "x": [
          "01/23/2020 12:00:00",
          "01/25/2020 22:00:00",
          "01/26/2020 23:00:00",
          "01/27/2020 20:30:00",
          "01/28/2020 23:00:00",
          "01/29/2020 21:00:00",
          "01/30/2020 21:30:00",
          "01/31/2020 19:00:00",
          "02/01/2020 23:00:00",
          "02/02/2020 21:00:00",
          "02/03/2020 21:40:00",
          "02/04/2020 22:00:00",
          "02/05/2020 12:20:00",
          "02/06/2020 20:05:00",
          "02/07/2020 20:24:00",
          "02/08/2020 23:04:00",
          "02/09/2020 23:20:00",
          "02/10/2020 19:30:00",
          "02/11/2020 20:44:00",
          "02/12/2020 22:00:00",
          "02/13/2020 21:15:00",
          "02/14/2020 22:00:00",
          "02/15/2020 22:00:00",
          "02/16/2020 22:00:00",
          "02/17/2020 22:00:00"
         ],
         "xaxis": "x",
         "y": [
          0,
          0,
          0,
          0,
          0,
          0,
          2,
          2,
          2,
          2,
          2,
          2,
          2,
          2,
          2,
          2,
          2,
          2,
          2,
          2,
          8,
          8,
          8,
          8,
          10
         ],
         "yaxis": "y"
        },
        {
         "alignmentgroup": "True",
         "hoverlabel": {
          "namelength": 0
         },
         "hovertemplate": "Country=Singapore<br>Date=%{x}<br>Recovered=%{text}",
         "legendgroup": "Singapore",
         "marker": {
          "color": "#00cc96"
         },
         "name": "Singapore",
         "offsetgroup": "Singapore",
         "orientation": "v",
         "showlegend": true,
         "text": [
          0,
          0,
          0,
          0,
          0,
          0,
          0,
          0,
          0,
          0,
          0,
          0,
          0,
          0,
          0,
          0,
          2,
          2,
          2,
          9,
          15,
          15,
          17,
          18,
          18,
          24
         ],
         "textposition": "auto",
         "type": "bar",
         "x": [
          "01/23/2020 12:00:00",
          "01/24/2020 12:00:00",
          "01/25/2020 22:00:00",
          "01/26/2020 23:00:00",
          "01/27/2020 20:30:00",
          "01/28/2020 23:00:00",
          "01/29/2020 21:00:00",
          "01/30/2020 21:30:00",
          "01/31/2020 19:00:00",
          "02/01/2020 23:00:00",
          "02/02/2020 21:00:00",
          "02/03/2020 21:40:00",
          "02/04/2020 22:00:00",
          "02/05/2020 12:20:00",
          "02/06/2020 20:05:00",
          "02/07/2020 20:24:00",
          "02/08/2020 23:04:00",
          "02/09/2020 23:20:00",
          "02/10/2020 19:30:00",
          "02/11/2020 20:44:00",
          "02/12/2020 22:00:00",
          "02/13/2020 21:15:00",
          "02/14/2020 22:00:00",
          "02/15/2020 22:00:00",
          "02/16/2020 22:00:00",
          "02/17/2020 22:00:00"
         ],
         "xaxis": "x",
         "y": [
          0,
          0,
          0,
          0,
          0,
          0,
          0,
          0,
          0,
          0,
          0,
          0,
          0,
          0,
          0,
          0,
          2,
          2,
          2,
          9,
          15,
          15,
          17,
          18,
          18,
          24
         ],
         "yaxis": "y"
        },
        {
         "alignmentgroup": "True",
         "hoverlabel": {
          "namelength": 0
         },
         "hovertemplate": "Country=Vietnam<br>Date=%{x}<br>Recovered=%{text}",
         "legendgroup": "Vietnam",
         "marker": {
          "color": "#ab63fa"
         },
         "name": "Vietnam",
         "offsetgroup": "Vietnam",
         "orientation": "v",
         "showlegend": true,
         "text": [
          0,
          0,
          0,
          0,
          0,
          0,
          0,
          0,
          0,
          1,
          1,
          1,
          1,
          1,
          1,
          1,
          1,
          1,
          1,
          6,
          6,
          7,
          7,
          7,
          7,
          7
         ],
         "textposition": "auto",
         "type": "bar",
         "x": [
          "01/23/2020 12:00:00",
          "01/24/2020 12:00:00",
          "01/25/2020 22:00:00",
          "01/26/2020 23:00:00",
          "01/27/2020 20:30:00",
          "01/28/2020 23:00:00",
          "01/29/2020 21:00:00",
          "01/30/2020 21:30:00",
          "01/31/2020 19:00:00",
          "02/01/2020 23:00:00",
          "02/02/2020 21:00:00",
          "02/03/2020 21:40:00",
          "02/04/2020 22:00:00",
          "02/05/2020 12:20:00",
          "02/06/2020 20:05:00",
          "02/07/2020 20:24:00",
          "02/08/2020 23:04:00",
          "02/09/2020 23:20:00",
          "02/10/2020 19:30:00",
          "02/11/2020 20:44:00",
          "02/12/2020 22:00:00",
          "02/13/2020 21:15:00",
          "02/14/2020 22:00:00",
          "02/15/2020 22:00:00",
          "02/16/2020 22:00:00",
          "02/17/2020 22:00:00"
         ],
         "xaxis": "x",
         "y": [
          0,
          0,
          0,
          0,
          0,
          0,
          0,
          0,
          0,
          1,
          1,
          1,
          1,
          1,
          1,
          1,
          1,
          1,
          1,
          6,
          6,
          7,
          7,
          7,
          7,
          7
         ],
         "yaxis": "y"
        },
        {
         "alignmentgroup": "True",
         "hoverlabel": {
          "namelength": 0
         },
         "hovertemplate": "Country=Taiwan<br>Date=%{x}<br>Recovered=%{text}",
         "legendgroup": "Taiwan",
         "marker": {
          "color": "#FFA15A"
         },
         "name": "Taiwan",
         "offsetgroup": "Taiwan",
         "orientation": "v",
         "showlegend": true,
         "text": [
          0,
          0,
          0,
          0,
          0,
          0,
          0,
          0,
          0,
          0,
          0,
          0,
          0,
          0,
          1,
          1,
          1,
          1,
          1,
          1,
          1,
          1,
          2,
          2,
          2,
          2
         ],
         "textposition": "auto",
         "type": "bar",
         "x": [
          "01/23/2020 12:00:00",
          "01/24/2020 12:00:00",
          "01/25/2020 22:00:00",
          "01/26/2020 23:00:00",
          "01/27/2020 20:30:00",
          "01/28/2020 23:00:00",
          "01/29/2020 21:00:00",
          "01/30/2020 21:30:00",
          "01/31/2020 19:00:00",
          "02/01/2020 23:00:00",
          "02/02/2020 21:00:00",
          "02/03/2020 21:40:00",
          "02/04/2020 22:00:00",
          "02/05/2020 12:20:00",
          "02/06/2020 20:05:00",
          "02/07/2020 20:24:00",
          "02/08/2020 23:04:00",
          "02/09/2020 23:20:00",
          "02/10/2020 19:30:00",
          "02/11/2020 20:44:00",
          "02/12/2020 22:00:00",
          "02/13/2020 21:15:00",
          "02/14/2020 22:00:00",
          "02/15/2020 22:00:00",
          "02/16/2020 22:00:00",
          "02/17/2020 22:00:00"
         ],
         "xaxis": "x",
         "y": [
          0,
          0,
          0,
          0,
          0,
          0,
          0,
          0,
          0,
          0,
          0,
          0,
          0,
          0,
          1,
          1,
          1,
          1,
          1,
          1,
          1,
          1,
          2,
          2,
          2,
          2
         ],
         "yaxis": "y"
        },
        {
         "alignmentgroup": "True",
         "hoverlabel": {
          "namelength": 0
         },
         "hovertemplate": "Country=France<br>Date=%{x}<br>Recovered=%{text}",
         "legendgroup": "France",
         "marker": {
          "color": "#19d3f3"
         },
         "name": "France",
         "offsetgroup": "France",
         "orientation": "v",
         "showlegend": true,
         "text": [
          0,
          0,
          0,
          0,
          0,
          0,
          0,
          0,
          0,
          0,
          0,
          0,
          0,
          0,
          0,
          0,
          0,
          0,
          0,
          2,
          2,
          2,
          4,
          4,
          4
         ],
         "textposition": "auto",
         "type": "bar",
         "x": [
          "01/24/2020 12:00:00",
          "01/25/2020 22:00:00",
          "01/26/2020 23:00:00",
          "01/27/2020 20:30:00",
          "01/28/2020 23:00:00",
          "01/29/2020 21:00:00",
          "01/30/2020 21:30:00",
          "01/31/2020 19:00:00",
          "02/01/2020 23:00:00",
          "02/02/2020 21:00:00",
          "02/03/2020 21:40:00",
          "02/04/2020 22:00:00",
          "02/05/2020 12:20:00",
          "02/06/2020 20:05:00",
          "02/07/2020 20:24:00",
          "02/08/2020 23:04:00",
          "02/09/2020 23:20:00",
          "02/10/2020 19:30:00",
          "02/11/2020 20:44:00",
          "02/12/2020 22:00:00",
          "02/13/2020 21:15:00",
          "02/14/2020 22:00:00",
          "02/15/2020 22:00:00",
          "02/16/2020 22:00:00",
          "02/17/2020 22:00:00"
         ],
         "xaxis": "x",
         "y": [
          0,
          0,
          0,
          0,
          0,
          0,
          0,
          0,
          0,
          0,
          0,
          0,
          0,
          0,
          0,
          0,
          0,
          0,
          0,
          2,
          2,
          2,
          4,
          4,
          4
         ],
         "yaxis": "y"
        },
        {
         "alignmentgroup": "True",
         "hoverlabel": {
          "namelength": 0
         },
         "hovertemplate": "Country=Nepal<br>Date=%{x}<br>Recovered=%{text}",
         "legendgroup": "Nepal",
         "marker": {
          "color": "#FF6692"
         },
         "name": "Nepal",
         "offsetgroup": "Nepal",
         "orientation": "v",
         "showlegend": true,
         "text": [
          0,
          0,
          0,
          0,
          0,
          0,
          0,
          0,
          0,
          0,
          0,
          0,
          0,
          0,
          0,
          0,
          0,
          0,
          1,
          1,
          1,
          1,
          1,
          1
         ],
         "textposition": "auto",
         "type": "bar",
         "x": [
          "01/25/2020 22:00:00",
          "01/26/2020 23:00:00",
          "01/27/2020 20:30:00",
          "01/28/2020 23:00:00",
          "01/29/2020 21:00:00",
          "01/30/2020 21:30:00",
          "01/31/2020 19:00:00",
          "02/01/2020 23:00:00",
          "02/02/2020 21:00:00",
          "02/03/2020 21:40:00",
          "02/04/2020 22:00:00",
          "02/05/2020 12:20:00",
          "02/06/2020 20:05:00",
          "02/07/2020 20:24:00",
          "02/08/2020 23:04:00",
          "02/09/2020 23:20:00",
          "02/10/2020 19:30:00",
          "02/11/2020 20:44:00",
          "02/12/2020 22:00:00",
          "02/13/2020 21:15:00",
          "02/14/2020 22:00:00",
          "02/15/2020 22:00:00",
          "02/16/2020 22:00:00",
          "02/17/2020 22:00:00"
         ],
         "xaxis": "x",
         "y": [
          0,
          0,
          0,
          0,
          0,
          0,
          0,
          0,
          0,
          0,
          0,
          0,
          0,
          0,
          0,
          0,
          0,
          0,
          1,
          1,
          1,
          1,
          1,
          1
         ],
         "yaxis": "y"
        },
        {
         "alignmentgroup": "True",
         "hoverlabel": {
          "namelength": 0
         },
         "hovertemplate": "Country=Canada<br>Date=%{x}<br>Recovered=%{text}",
         "legendgroup": "Canada",
         "marker": {
          "color": "#B6E880"
         },
         "name": "Canada",
         "offsetgroup": "Canada",
         "orientation": "v",
         "showlegend": true,
         "text": [
          0,
          0,
          0,
          0,
          0,
          0,
          0,
          0,
          0,
          0,
          0,
          0,
          0,
          0,
          0,
          0,
          0,
          1,
          1,
          1,
          1,
          1,
          1
         ],
         "textposition": "auto",
         "type": "bar",
         "x": [
          "01/26/2020 23:00:00",
          "01/27/2020 20:30:00",
          "01/28/2020 23:00:00",
          "01/29/2020 21:00:00",
          "01/30/2020 21:30:00",
          "01/31/2020 19:00:00",
          "02/01/2020 23:00:00",
          "02/02/2020 21:00:00",
          "02/03/2020 21:40:00",
          "02/04/2020 22:00:00",
          "02/05/2020 12:20:00",
          "02/06/2020 20:05:00",
          "02/07/2020 20:24:00",
          "02/08/2020 23:04:00",
          "02/09/2020 23:20:00",
          "02/10/2020 19:30:00",
          "02/11/2020 20:44:00",
          "02/12/2020 22:00:00",
          "02/13/2020 21:15:00",
          "02/14/2020 22:00:00",
          "02/15/2020 22:00:00",
          "02/16/2020 22:00:00",
          "02/17/2020 22:00:00"
         ],
         "xaxis": "x",
         "y": [
          0,
          0,
          0,
          0,
          0,
          0,
          0,
          0,
          0,
          0,
          0,
          0,
          0,
          0,
          0,
          0,
          0,
          1,
          1,
          1,
          1,
          1,
          1
         ],
         "yaxis": "y"
        },
        {
         "alignmentgroup": "True",
         "hoverlabel": {
          "namelength": 0
         },
         "hovertemplate": "Country=Cambodia<br>Date=%{x}<br>Recovered=%{text}",
         "legendgroup": "Cambodia",
         "marker": {
          "color": "#FF97FF"
         },
         "name": "Cambodia",
         "offsetgroup": "Cambodia",
         "orientation": "v",
         "showlegend": true,
         "text": [
          0,
          0,
          0,
          0,
          0,
          0,
          0,
          0,
          0,
          0,
          0,
          0,
          0,
          0,
          0,
          0,
          1,
          1,
          1,
          1,
          1,
          1
         ],
         "textposition": "auto",
         "type": "bar",
         "x": [
          "01/27/2020 20:30:00",
          "01/28/2020 23:00:00",
          "01/29/2020 21:00:00",
          "01/30/2020 21:30:00",
          "01/31/2020 19:00:00",
          "02/01/2020 23:00:00",
          "02/02/2020 21:00:00",
          "02/03/2020 21:40:00",
          "02/04/2020 22:00:00",
          "02/05/2020 12:20:00",
          "02/06/2020 20:05:00",
          "02/07/2020 20:24:00",
          "02/08/2020 23:04:00",
          "02/09/2020 23:20:00",
          "02/10/2020 19:30:00",
          "02/11/2020 20:44:00",
          "02/12/2020 22:00:00",
          "02/13/2020 21:15:00",
          "02/14/2020 22:00:00",
          "02/15/2020 22:00:00",
          "02/16/2020 22:00:00",
          "02/17/2020 22:00:00"
         ],
         "xaxis": "x",
         "y": [
          0,
          0,
          0,
          0,
          0,
          0,
          0,
          0,
          0,
          0,
          0,
          0,
          0,
          0,
          0,
          0,
          1,
          1,
          1,
          1,
          1,
          1
         ],
         "yaxis": "y"
        },
        {
         "alignmentgroup": "True",
         "hoverlabel": {
          "namelength": 0
         },
         "hovertemplate": "Country=Ivory Coast<br>Date=%{x}<br>Recovered=%{text}",
         "legendgroup": "Ivory Coast",
         "marker": {
          "color": "#FECB52"
         },
         "name": "Ivory Coast",
         "offsetgroup": "Ivory Coast",
         "orientation": "v",
         "showlegend": true,
         "text": [
          0
         ],
         "textposition": "auto",
         "type": "bar",
         "x": [
          "01/27/2020 20:30:00"
         ],
         "xaxis": "x",
         "y": [
          0
         ],
         "yaxis": "y"
        },
        {
         "alignmentgroup": "True",
         "hoverlabel": {
          "namelength": 0
         },
         "hovertemplate": "Country=Germany<br>Date=%{x}<br>Recovered=%{text}",
         "legendgroup": "Germany",
         "marker": {
          "color": "#636efa"
         },
         "name": "Germany",
         "offsetgroup": "Germany",
         "orientation": "v",
         "showlegend": true,
         "text": [
          0,
          0,
          0,
          0,
          0,
          0,
          0,
          0,
          0,
          0,
          0,
          0,
          0,
          0,
          0,
          0,
          0,
          1,
          1,
          1,
          1,
          1
         ],
         "textposition": "auto",
         "type": "bar",
         "x": [
          "01/27/2020 20:30:00",
          "01/28/2020 23:00:00",
          "01/29/2020 21:00:00",
          "01/30/2020 21:30:00",
          "01/31/2020 19:00:00",
          "02/01/2020 23:00:00",
          "02/02/2020 21:00:00",
          "02/03/2020 21:40:00",
          "02/04/2020 22:00:00",
          "02/05/2020 12:20:00",
          "02/06/2020 20:05:00",
          "02/07/2020 20:24:00",
          "02/08/2020 23:04:00",
          "02/09/2020 23:20:00",
          "02/10/2020 19:30:00",
          "02/11/2020 20:44:00",
          "02/12/2020 22:00:00",
          "02/13/2020 21:15:00",
          "02/14/2020 22:00:00",
          "02/15/2020 22:00:00",
          "02/16/2020 22:00:00",
          "02/17/2020 22:00:00"
         ],
         "xaxis": "x",
         "y": [
          0,
          0,
          0,
          0,
          0,
          0,
          0,
          0,
          0,
          0,
          0,
          0,
          0,
          0,
          0,
          0,
          0,
          1,
          1,
          1,
          1,
          1
         ],
         "yaxis": "y"
        },
        {
         "alignmentgroup": "True",
         "hoverlabel": {
          "namelength": 0
         },
         "hovertemplate": "Country=Sri Lanka<br>Date=%{x}<br>Recovered=%{text}",
         "legendgroup": "Sri Lanka",
         "marker": {
          "color": "#EF553B"
         },
         "name": "Sri Lanka",
         "offsetgroup": "Sri Lanka",
         "orientation": "v",
         "showlegend": true,
         "text": [
          0,
          0,
          0,
          0,
          0,
          0,
          0,
          0,
          0,
          0,
          0,
          0,
          1,
          1,
          1,
          1,
          1,
          1,
          1,
          1,
          1,
          1
         ],
         "textposition": "auto",
         "type": "bar",
         "x": [
          "01/27/2020 20:30:00",
          "01/28/2020 23:00:00",
          "01/29/2020 21:00:00",
          "01/30/2020 21:30:00",
          "01/31/2020 19:00:00",
          "02/01/2020 23:00:00",
          "02/02/2020 21:00:00",
          "02/03/2020 21:40:00",
          "02/04/2020 22:00:00",
          "02/05/2020 12:20:00",
          "02/06/2020 20:05:00",
          "02/07/2020 20:24:00",
          "02/08/2020 23:04:00",
          "02/09/2020 23:20:00",
          "02/10/2020 19:30:00",
          "02/11/2020 20:44:00",
          "02/12/2020 22:00:00",
          "02/13/2020 21:15:00",
          "02/14/2020 22:00:00",
          "02/15/2020 22:00:00",
          "02/16/2020 22:00:00",
          "02/17/2020 22:00:00"
         ],
         "xaxis": "x",
         "y": [
          0,
          0,
          0,
          0,
          0,
          0,
          0,
          0,
          0,
          0,
          0,
          0,
          1,
          1,
          1,
          1,
          1,
          1,
          1,
          1,
          1,
          1
         ],
         "yaxis": "y"
        },
        {
         "alignmentgroup": "True",
         "hoverlabel": {
          "namelength": 0
         },
         "hovertemplate": "Country=Finland<br>Date=%{x}<br>Recovered=%{text}",
         "legendgroup": "Finland",
         "marker": {
          "color": "#00cc96"
         },
         "name": "Finland",
         "offsetgroup": "Finland",
         "orientation": "v",
         "showlegend": true,
         "text": [
          0,
          0,
          0,
          0,
          0,
          0,
          0,
          0,
          0,
          0,
          0,
          0,
          0,
          1,
          1,
          1,
          1,
          1,
          1,
          1
         ],
         "textposition": "auto",
         "type": "bar",
         "x": [
          "01/29/2020 21:00:00",
          "01/30/2020 21:30:00",
          "01/31/2020 19:00:00",
          "02/01/2020 23:00:00",
          "02/02/2020 21:00:00",
          "02/03/2020 21:40:00",
          "02/04/2020 22:00:00",
          "02/05/2020 12:20:00",
          "02/06/2020 20:05:00",
          "02/07/2020 20:24:00",
          "02/08/2020 23:04:00",
          "02/09/2020 23:20:00",
          "02/10/2020 19:30:00",
          "02/11/2020 20:44:00",
          "02/12/2020 22:00:00",
          "02/13/2020 21:15:00",
          "02/14/2020 22:00:00",
          "02/15/2020 22:00:00",
          "02/16/2020 22:00:00",
          "02/17/2020 22:00:00"
         ],
         "xaxis": "x",
         "y": [
          0,
          0,
          0,
          0,
          0,
          0,
          0,
          0,
          0,
          0,
          0,
          0,
          0,
          1,
          1,
          1,
          1,
          1,
          1,
          1
         ],
         "yaxis": "y"
        },
        {
         "alignmentgroup": "True",
         "hoverlabel": {
          "namelength": 0
         },
         "hovertemplate": "Country=United Arab Emirates<br>Date=%{x}<br>Recovered=%{text}",
         "legendgroup": "United Arab Emirates",
         "marker": {
          "color": "#ab63fa"
         },
         "name": "United Arab Emirates",
         "offsetgroup": "United Arab Emirates",
         "orientation": "v",
         "showlegend": true,
         "text": [
          0,
          0,
          0,
          0,
          0,
          0,
          0,
          0,
          0,
          0,
          0,
          0,
          0,
          1,
          1,
          1,
          1,
          3,
          4,
          4
         ],
         "textposition": "auto",
         "type": "bar",
         "x": [
          "01/29/2020 21:00:00",
          "01/30/2020 21:30:00",
          "01/31/2020 19:00:00",
          "02/01/2020 23:00:00",
          "02/02/2020 21:00:00",
          "02/03/2020 21:40:00",
          "02/04/2020 22:00:00",
          "02/05/2020 12:20:00",
          "02/06/2020 20:05:00",
          "02/07/2020 20:24:00",
          "02/08/2020 23:04:00",
          "02/09/2020 23:20:00",
          "02/10/2020 19:30:00",
          "02/11/2020 20:44:00",
          "02/12/2020 22:00:00",
          "02/13/2020 21:15:00",
          "02/14/2020 22:00:00",
          "02/15/2020 22:00:00",
          "02/16/2020 22:00:00",
          "02/17/2020 22:00:00"
         ],
         "xaxis": "x",
         "y": [
          0,
          0,
          0,
          0,
          0,
          0,
          0,
          0,
          0,
          0,
          0,
          0,
          0,
          1,
          1,
          1,
          1,
          3,
          4,
          4
         ],
         "yaxis": "y"
        },
        {
         "alignmentgroup": "True",
         "hoverlabel": {
          "namelength": 0
         },
         "hovertemplate": "Country=India<br>Date=%{x}<br>Recovered=%{text}",
         "legendgroup": "India",
         "marker": {
          "color": "#FFA15A"
         },
         "name": "India",
         "offsetgroup": "India",
         "orientation": "v",
         "showlegend": true,
         "text": [
          0,
          0,
          0,
          0,
          0,
          0,
          0,
          0,
          0,
          0,
          0,
          0,
          0,
          0,
          0,
          0,
          0,
          3,
          3
         ],
         "textposition": "auto",
         "type": "bar",
         "x": [
          "01/30/2020 21:30:00",
          "01/31/2020 19:00:00",
          "02/01/2020 23:00:00",
          "02/02/2020 21:00:00",
          "02/03/2020 21:40:00",
          "02/04/2020 22:00:00",
          "02/05/2020 12:20:00",
          "02/06/2020 20:05:00",
          "02/07/2020 20:24:00",
          "02/08/2020 23:04:00",
          "02/09/2020 23:20:00",
          "02/10/2020 19:30:00",
          "02/11/2020 20:44:00",
          "02/12/2020 22:00:00",
          "02/13/2020 21:15:00",
          "02/14/2020 22:00:00",
          "02/15/2020 22:00:00",
          "02/16/2020 22:00:00",
          "02/17/2020 22:00:00"
         ],
         "xaxis": "x",
         "y": [
          0,
          0,
          0,
          0,
          0,
          0,
          0,
          0,
          0,
          0,
          0,
          0,
          0,
          0,
          0,
          0,
          0,
          3,
          3
         ],
         "yaxis": "y"
        },
        {
         "alignmentgroup": "True",
         "hoverlabel": {
          "namelength": 0
         },
         "hovertemplate": "Country=Italy<br>Date=%{x}<br>Recovered=%{text}",
         "legendgroup": "Italy",
         "marker": {
          "color": "#19d3f3"
         },
         "name": "Italy",
         "offsetgroup": "Italy",
         "orientation": "v",
         "showlegend": true,
         "text": [
          0,
          0,
          0,
          0,
          0,
          0,
          0,
          0,
          0,
          0,
          0,
          0,
          0,
          0,
          0,
          0,
          0,
          0,
          0
         ],
         "textposition": "auto",
         "type": "bar",
         "x": [
          "01/30/2020 21:30:00",
          "01/31/2020 19:00:00",
          "02/01/2020 23:00:00",
          "02/02/2020 21:00:00",
          "02/03/2020 21:40:00",
          "02/04/2020 22:00:00",
          "02/05/2020 12:20:00",
          "02/06/2020 20:05:00",
          "02/07/2020 20:24:00",
          "02/08/2020 23:04:00",
          "02/09/2020 23:20:00",
          "02/10/2020 19:30:00",
          "02/11/2020 20:44:00",
          "02/12/2020 22:00:00",
          "02/13/2020 21:15:00",
          "02/14/2020 22:00:00",
          "02/15/2020 22:00:00",
          "02/16/2020 22:00:00",
          "02/17/2020 22:00:00"
         ],
         "xaxis": "x",
         "y": [
          0,
          0,
          0,
          0,
          0,
          0,
          0,
          0,
          0,
          0,
          0,
          0,
          0,
          0,
          0,
          0,
          0,
          0,
          0
         ],
         "yaxis": "y"
        },
        {
         "alignmentgroup": "True",
         "hoverlabel": {
          "namelength": 0
         },
         "hovertemplate": "Country=Spain<br>Date=%{x}<br>Recovered=%{text}",
         "legendgroup": "Spain",
         "marker": {
          "color": "#FF6692"
         },
         "name": "Spain",
         "offsetgroup": "Spain",
         "orientation": "v",
         "showlegend": true,
         "text": [
          0,
          0,
          0,
          0,
          0,
          0,
          0,
          0,
          0,
          0,
          0,
          0,
          0,
          0,
          0,
          2,
          2,
          2
         ],
         "textposition": "auto",
         "type": "bar",
         "x": [
          "01/31/2020 19:00:00",
          "02/01/2020 23:00:00",
          "02/02/2020 21:00:00",
          "02/03/2020 21:40:00",
          "02/04/2020 22:00:00",
          "02/05/2020 12:20:00",
          "02/06/2020 20:05:00",
          "02/07/2020 20:24:00",
          "02/08/2020 23:04:00",
          "02/09/2020 23:20:00",
          "02/10/2020 19:30:00",
          "02/11/2020 20:44:00",
          "02/12/2020 22:00:00",
          "02/13/2020 21:15:00",
          "02/14/2020 22:00:00",
          "02/15/2020 22:00:00",
          "02/16/2020 22:00:00",
          "02/17/2020 22:00:00"
         ],
         "xaxis": "x",
         "y": [
          0,
          0,
          0,
          0,
          0,
          0,
          0,
          0,
          0,
          0,
          0,
          0,
          0,
          0,
          0,
          2,
          2,
          2
         ],
         "yaxis": "y"
        },
        {
         "alignmentgroup": "True",
         "hoverlabel": {
          "namelength": 0
         },
         "hovertemplate": "Country=UK<br>Date=%{x}<br>Recovered=%{text}",
         "legendgroup": "UK",
         "marker": {
          "color": "#B6E880"
         },
         "name": "UK",
         "offsetgroup": "UK",
         "orientation": "v",
         "showlegend": true,
         "text": [
          0,
          0,
          0,
          0,
          0,
          0,
          0,
          0,
          0,
          0,
          0,
          0,
          1,
          1,
          1,
          1,
          8,
          8
         ],
         "textposition": "auto",
         "type": "bar",
         "x": [
          "01/31/2020 19:00:00",
          "02/01/2020 23:00:00",
          "02/02/2020 21:00:00",
          "02/03/2020 21:40:00",
          "02/04/2020 22:00:00",
          "02/05/2020 12:20:00",
          "02/06/2020 20:05:00",
          "02/07/2020 20:24:00",
          "02/08/2020 23:04:00",
          "02/09/2020 23:20:00",
          "02/10/2020 19:30:00",
          "02/11/2020 20:44:00",
          "02/12/2020 22:00:00",
          "02/13/2020 21:15:00",
          "02/14/2020 22:00:00",
          "02/15/2020 22:00:00",
          "02/16/2020 22:00:00",
          "02/17/2020 22:00:00"
         ],
         "xaxis": "x",
         "y": [
          0,
          0,
          0,
          0,
          0,
          0,
          0,
          0,
          0,
          0,
          0,
          0,
          1,
          1,
          1,
          1,
          8,
          8
         ],
         "yaxis": "y"
        },
        {
         "alignmentgroup": "True",
         "hoverlabel": {
          "namelength": 0
         },
         "hovertemplate": "Country=Sweden<br>Date=%{x}<br>Recovered=%{text}",
         "legendgroup": "Sweden",
         "marker": {
          "color": "#FF97FF"
         },
         "name": "Sweden",
         "offsetgroup": "Sweden",
         "orientation": "v",
         "showlegend": true,
         "text": [
          0,
          0,
          0,
          0,
          0,
          0,
          0,
          0,
          0,
          0,
          0,
          0,
          0,
          0,
          0,
          0,
          0,
          0
         ],
         "textposition": "auto",
         "type": "bar",
         "x": [
          "01/31/2020 19:00:00",
          "02/01/2020 23:00:00",
          "02/02/2020 21:00:00",
          "02/03/2020 21:40:00",
          "02/04/2020 22:00:00",
          "02/05/2020 12:20:00",
          "02/06/2020 20:05:00",
          "02/07/2020 20:24:00",
          "02/08/2020 23:04:00",
          "02/09/2020 23:20:00",
          "02/10/2020 19:30:00",
          "02/11/2020 20:44:00",
          "02/12/2020 22:00:00",
          "02/13/2020 21:15:00",
          "02/14/2020 22:00:00",
          "02/15/2020 22:00:00",
          "02/16/2020 22:00:00",
          "02/17/2020 22:00:00"
         ],
         "xaxis": "x",
         "y": [
          0,
          0,
          0,
          0,
          0,
          0,
          0,
          0,
          0,
          0,
          0,
          0,
          0,
          0,
          0,
          0,
          0,
          0
         ],
         "yaxis": "y"
        },
        {
         "alignmentgroup": "True",
         "hoverlabel": {
          "namelength": 0
         },
         "hovertemplate": "Country=Russia<br>Date=%{x}<br>Recovered=%{text}",
         "legendgroup": "Russia",
         "marker": {
          "color": "#FECB52"
         },
         "name": "Russia",
         "offsetgroup": "Russia",
         "orientation": "v",
         "showlegend": true,
         "text": [
          0,
          0,
          0,
          0,
          0,
          0,
          0,
          0,
          0,
          0,
          0,
          0,
          2,
          2,
          2,
          2,
          2,
          2
         ],
         "textposition": "auto",
         "type": "bar",
         "x": [
          "01/31/2020 19:00:00",
          "02/01/2020 23:00:00",
          "02/02/2020 21:00:00",
          "02/03/2020 21:40:00",
          "02/04/2020 22:00:00",
          "02/05/2020 12:20:00",
          "02/06/2020 20:05:00",
          "02/07/2020 20:24:00",
          "02/08/2020 23:04:00",
          "02/09/2020 23:20:00",
          "02/10/2020 19:30:00",
          "02/11/2020 20:44:00",
          "02/12/2020 22:00:00",
          "02/13/2020 21:15:00",
          "02/14/2020 22:00:00",
          "02/15/2020 22:00:00",
          "02/16/2020 22:00:00",
          "02/17/2020 22:00:00"
         ],
         "xaxis": "x",
         "y": [
          0,
          0,
          0,
          0,
          0,
          0,
          0,
          0,
          0,
          0,
          0,
          0,
          2,
          2,
          2,
          2,
          2,
          2
         ],
         "yaxis": "y"
        },
        {
         "alignmentgroup": "True",
         "hoverlabel": {
          "namelength": 0
         },
         "hovertemplate": "Country=Belgium<br>Date=%{x}<br>Recovered=%{text}",
         "legendgroup": "Belgium",
         "marker": {
          "color": "#636efa"
         },
         "name": "Belgium",
         "offsetgroup": "Belgium",
         "orientation": "v",
         "showlegend": true,
         "text": [
          0,
          0,
          0,
          0,
          0,
          0,
          0,
          0,
          0,
          0,
          0,
          0,
          0,
          1
         ],
         "textposition": "auto",
         "type": "bar",
         "x": [
          "02/04/2020 22:00:00",
          "02/05/2020 12:20:00",
          "02/06/2020 20:05:00",
          "02/07/2020 20:24:00",
          "02/08/2020 23:04:00",
          "02/09/2020 23:20:00",
          "02/10/2020 19:30:00",
          "02/11/2020 20:44:00",
          "02/12/2020 22:00:00",
          "02/13/2020 21:15:00",
          "02/14/2020 22:00:00",
          "02/15/2020 22:00:00",
          "02/16/2020 22:00:00",
          "02/17/2020 22:00:00"
         ],
         "xaxis": "x",
         "y": [
          0,
          0,
          0,
          0,
          0,
          0,
          0,
          0,
          0,
          0,
          0,
          0,
          0,
          1
         ],
         "yaxis": "y"
        },
        {
         "alignmentgroup": "True",
         "hoverlabel": {
          "namelength": 0
         },
         "hovertemplate": "Country=Others<br>Date=%{x}<br>Recovered=%{text}",
         "legendgroup": "Others",
         "marker": {
          "color": "#EF553B"
         },
         "name": "Others",
         "offsetgroup": "Others",
         "orientation": "v",
         "showlegend": true,
         "text": [
          0,
          0,
          0,
          0,
          0,
          0,
          0,
          0,
          0,
          0,
          0
         ],
         "textposition": "auto",
         "type": "bar",
         "x": [
          "02/07/2020 20:24:00",
          "02/08/2020 23:04:00",
          "02/09/2020 23:20:00",
          "02/10/2020 19:30:00",
          "02/11/2020 20:44:00",
          "02/12/2020 22:00:00",
          "02/13/2020 21:15:00",
          "02/14/2020 22:00:00",
          "02/15/2020 22:00:00",
          "02/16/2020 22:00:00",
          "02/17/2020 22:00:00"
         ],
         "xaxis": "x",
         "y": [
          0,
          0,
          0,
          0,
          0,
          0,
          0,
          0,
          0,
          0,
          0
         ],
         "yaxis": "y"
        },
        {
         "alignmentgroup": "True",
         "hoverlabel": {
          "namelength": 0
         },
         "hovertemplate": "Country=Egypt<br>Date=%{x}<br>Recovered=%{text}",
         "legendgroup": "Egypt",
         "marker": {
          "color": "#00cc96"
         },
         "name": "Egypt",
         "offsetgroup": "Egypt",
         "orientation": "v",
         "showlegend": true,
         "text": [
          0,
          0,
          0,
          0
         ],
         "textposition": "auto",
         "type": "bar",
         "x": [
          "02/14/2020 22:00:00",
          "02/15/2020 22:00:00",
          "02/16/2020 22:00:00",
          "02/17/2020 22:00:00"
         ],
         "xaxis": "x",
         "y": [
          0,
          0,
          0,
          0
         ],
         "yaxis": "y"
        }
       ],
       "layout": {
        "barmode": "relative",
        "height": 600,
        "legend": {
         "title": {
          "text": "Country"
         },
         "tracegroupgap": 0
        },
        "template": {
         "data": {
          "bar": [
           {
            "error_x": {
             "color": "#2a3f5f"
            },
            "error_y": {
             "color": "#2a3f5f"
            },
            "marker": {
             "line": {
              "color": "#E5ECF6",
              "width": 0.5
             }
            },
            "type": "bar"
           }
          ],
          "barpolar": [
           {
            "marker": {
             "line": {
              "color": "#E5ECF6",
              "width": 0.5
             }
            },
            "type": "barpolar"
           }
          ],
          "carpet": [
           {
            "aaxis": {
             "endlinecolor": "#2a3f5f",
             "gridcolor": "white",
             "linecolor": "white",
             "minorgridcolor": "white",
             "startlinecolor": "#2a3f5f"
            },
            "baxis": {
             "endlinecolor": "#2a3f5f",
             "gridcolor": "white",
             "linecolor": "white",
             "minorgridcolor": "white",
             "startlinecolor": "#2a3f5f"
            },
            "type": "carpet"
           }
          ],
          "choropleth": [
           {
            "colorbar": {
             "outlinewidth": 0,
             "ticks": ""
            },
            "type": "choropleth"
           }
          ],
          "contour": [
           {
            "colorbar": {
             "outlinewidth": 0,
             "ticks": ""
            },
            "colorscale": [
             [
              0,
              "#0d0887"
             ],
             [
              0.1111111111111111,
              "#46039f"
             ],
             [
              0.2222222222222222,
              "#7201a8"
             ],
             [
              0.3333333333333333,
              "#9c179e"
             ],
             [
              0.4444444444444444,
              "#bd3786"
             ],
             [
              0.5555555555555556,
              "#d8576b"
             ],
             [
              0.6666666666666666,
              "#ed7953"
             ],
             [
              0.7777777777777778,
              "#fb9f3a"
             ],
             [
              0.8888888888888888,
              "#fdca26"
             ],
             [
              1,
              "#f0f921"
             ]
            ],
            "type": "contour"
           }
          ],
          "contourcarpet": [
           {
            "colorbar": {
             "outlinewidth": 0,
             "ticks": ""
            },
            "type": "contourcarpet"
           }
          ],
          "heatmap": [
           {
            "colorbar": {
             "outlinewidth": 0,
             "ticks": ""
            },
            "colorscale": [
             [
              0,
              "#0d0887"
             ],
             [
              0.1111111111111111,
              "#46039f"
             ],
             [
              0.2222222222222222,
              "#7201a8"
             ],
             [
              0.3333333333333333,
              "#9c179e"
             ],
             [
              0.4444444444444444,
              "#bd3786"
             ],
             [
              0.5555555555555556,
              "#d8576b"
             ],
             [
              0.6666666666666666,
              "#ed7953"
             ],
             [
              0.7777777777777778,
              "#fb9f3a"
             ],
             [
              0.8888888888888888,
              "#fdca26"
             ],
             [
              1,
              "#f0f921"
             ]
            ],
            "type": "heatmap"
           }
          ],
          "heatmapgl": [
           {
            "colorbar": {
             "outlinewidth": 0,
             "ticks": ""
            },
            "colorscale": [
             [
              0,
              "#0d0887"
             ],
             [
              0.1111111111111111,
              "#46039f"
             ],
             [
              0.2222222222222222,
              "#7201a8"
             ],
             [
              0.3333333333333333,
              "#9c179e"
             ],
             [
              0.4444444444444444,
              "#bd3786"
             ],
             [
              0.5555555555555556,
              "#d8576b"
             ],
             [
              0.6666666666666666,
              "#ed7953"
             ],
             [
              0.7777777777777778,
              "#fb9f3a"
             ],
             [
              0.8888888888888888,
              "#fdca26"
             ],
             [
              1,
              "#f0f921"
             ]
            ],
            "type": "heatmapgl"
           }
          ],
          "histogram": [
           {
            "marker": {
             "colorbar": {
              "outlinewidth": 0,
              "ticks": ""
             }
            },
            "type": "histogram"
           }
          ],
          "histogram2d": [
           {
            "colorbar": {
             "outlinewidth": 0,
             "ticks": ""
            },
            "colorscale": [
             [
              0,
              "#0d0887"
             ],
             [
              0.1111111111111111,
              "#46039f"
             ],
             [
              0.2222222222222222,
              "#7201a8"
             ],
             [
              0.3333333333333333,
              "#9c179e"
             ],
             [
              0.4444444444444444,
              "#bd3786"
             ],
             [
              0.5555555555555556,
              "#d8576b"
             ],
             [
              0.6666666666666666,
              "#ed7953"
             ],
             [
              0.7777777777777778,
              "#fb9f3a"
             ],
             [
              0.8888888888888888,
              "#fdca26"
             ],
             [
              1,
              "#f0f921"
             ]
            ],
            "type": "histogram2d"
           }
          ],
          "histogram2dcontour": [
           {
            "colorbar": {
             "outlinewidth": 0,
             "ticks": ""
            },
            "colorscale": [
             [
              0,
              "#0d0887"
             ],
             [
              0.1111111111111111,
              "#46039f"
             ],
             [
              0.2222222222222222,
              "#7201a8"
             ],
             [
              0.3333333333333333,
              "#9c179e"
             ],
             [
              0.4444444444444444,
              "#bd3786"
             ],
             [
              0.5555555555555556,
              "#d8576b"
             ],
             [
              0.6666666666666666,
              "#ed7953"
             ],
             [
              0.7777777777777778,
              "#fb9f3a"
             ],
             [
              0.8888888888888888,
              "#fdca26"
             ],
             [
              1,
              "#f0f921"
             ]
            ],
            "type": "histogram2dcontour"
           }
          ],
          "mesh3d": [
           {
            "colorbar": {
             "outlinewidth": 0,
             "ticks": ""
            },
            "type": "mesh3d"
           }
          ],
          "parcoords": [
           {
            "line": {
             "colorbar": {
              "outlinewidth": 0,
              "ticks": ""
             }
            },
            "type": "parcoords"
           }
          ],
          "pie": [
           {
            "automargin": true,
            "type": "pie"
           }
          ],
          "scatter": [
           {
            "marker": {
             "colorbar": {
              "outlinewidth": 0,
              "ticks": ""
             }
            },
            "type": "scatter"
           }
          ],
          "scatter3d": [
           {
            "line": {
             "colorbar": {
              "outlinewidth": 0,
              "ticks": ""
             }
            },
            "marker": {
             "colorbar": {
              "outlinewidth": 0,
              "ticks": ""
             }
            },
            "type": "scatter3d"
           }
          ],
          "scattercarpet": [
           {
            "marker": {
             "colorbar": {
              "outlinewidth": 0,
              "ticks": ""
             }
            },
            "type": "scattercarpet"
           }
          ],
          "scattergeo": [
           {
            "marker": {
             "colorbar": {
              "outlinewidth": 0,
              "ticks": ""
             }
            },
            "type": "scattergeo"
           }
          ],
          "scattergl": [
           {
            "marker": {
             "colorbar": {
              "outlinewidth": 0,
              "ticks": ""
             }
            },
            "type": "scattergl"
           }
          ],
          "scattermapbox": [
           {
            "marker": {
             "colorbar": {
              "outlinewidth": 0,
              "ticks": ""
             }
            },
            "type": "scattermapbox"
           }
          ],
          "scatterpolar": [
           {
            "marker": {
             "colorbar": {
              "outlinewidth": 0,
              "ticks": ""
             }
            },
            "type": "scatterpolar"
           }
          ],
          "scatterpolargl": [
           {
            "marker": {
             "colorbar": {
              "outlinewidth": 0,
              "ticks": ""
             }
            },
            "type": "scatterpolargl"
           }
          ],
          "scatterternary": [
           {
            "marker": {
             "colorbar": {
              "outlinewidth": 0,
              "ticks": ""
             }
            },
            "type": "scatterternary"
           }
          ],
          "surface": [
           {
            "colorbar": {
             "outlinewidth": 0,
             "ticks": ""
            },
            "colorscale": [
             [
              0,
              "#0d0887"
             ],
             [
              0.1111111111111111,
              "#46039f"
             ],
             [
              0.2222222222222222,
              "#7201a8"
             ],
             [
              0.3333333333333333,
              "#9c179e"
             ],
             [
              0.4444444444444444,
              "#bd3786"
             ],
             [
              0.5555555555555556,
              "#d8576b"
             ],
             [
              0.6666666666666666,
              "#ed7953"
             ],
             [
              0.7777777777777778,
              "#fb9f3a"
             ],
             [
              0.8888888888888888,
              "#fdca26"
             ],
             [
              1,
              "#f0f921"
             ]
            ],
            "type": "surface"
           }
          ],
          "table": [
           {
            "cells": {
             "fill": {
              "color": "#EBF0F8"
             },
             "line": {
              "color": "white"
             }
            },
            "header": {
             "fill": {
              "color": "#C8D4E3"
             },
             "line": {
              "color": "white"
             }
            },
            "type": "table"
           }
          ]
         },
         "layout": {
          "annotationdefaults": {
           "arrowcolor": "#2a3f5f",
           "arrowhead": 0,
           "arrowwidth": 1
          },
          "coloraxis": {
           "colorbar": {
            "outlinewidth": 0,
            "ticks": ""
           }
          },
          "colorscale": {
           "diverging": [
            [
             0,
             "#8e0152"
            ],
            [
             0.1,
             "#c51b7d"
            ],
            [
             0.2,
             "#de77ae"
            ],
            [
             0.3,
             "#f1b6da"
            ],
            [
             0.4,
             "#fde0ef"
            ],
            [
             0.5,
             "#f7f7f7"
            ],
            [
             0.6,
             "#e6f5d0"
            ],
            [
             0.7,
             "#b8e186"
            ],
            [
             0.8,
             "#7fbc41"
            ],
            [
             0.9,
             "#4d9221"
            ],
            [
             1,
             "#276419"
            ]
           ],
           "sequential": [
            [
             0,
             "#0d0887"
            ],
            [
             0.1111111111111111,
             "#46039f"
            ],
            [
             0.2222222222222222,
             "#7201a8"
            ],
            [
             0.3333333333333333,
             "#9c179e"
            ],
            [
             0.4444444444444444,
             "#bd3786"
            ],
            [
             0.5555555555555556,
             "#d8576b"
            ],
            [
             0.6666666666666666,
             "#ed7953"
            ],
            [
             0.7777777777777778,
             "#fb9f3a"
            ],
            [
             0.8888888888888888,
             "#fdca26"
            ],
            [
             1,
             "#f0f921"
            ]
           ],
           "sequentialminus": [
            [
             0,
             "#0d0887"
            ],
            [
             0.1111111111111111,
             "#46039f"
            ],
            [
             0.2222222222222222,
             "#7201a8"
            ],
            [
             0.3333333333333333,
             "#9c179e"
            ],
            [
             0.4444444444444444,
             "#bd3786"
            ],
            [
             0.5555555555555556,
             "#d8576b"
            ],
            [
             0.6666666666666666,
             "#ed7953"
            ],
            [
             0.7777777777777778,
             "#fb9f3a"
            ],
            [
             0.8888888888888888,
             "#fdca26"
            ],
            [
             1,
             "#f0f921"
            ]
           ]
          },
          "colorway": [
           "#636efa",
           "#EF553B",
           "#00cc96",
           "#ab63fa",
           "#FFA15A",
           "#19d3f3",
           "#FF6692",
           "#B6E880",
           "#FF97FF",
           "#FECB52"
          ],
          "font": {
           "color": "#2a3f5f"
          },
          "geo": {
           "bgcolor": "white",
           "lakecolor": "white",
           "landcolor": "#E5ECF6",
           "showlakes": true,
           "showland": true,
           "subunitcolor": "white"
          },
          "hoverlabel": {
           "align": "left"
          },
          "hovermode": "closest",
          "mapbox": {
           "style": "light"
          },
          "paper_bgcolor": "white",
          "plot_bgcolor": "#E5ECF6",
          "polar": {
           "angularaxis": {
            "gridcolor": "white",
            "linecolor": "white",
            "ticks": ""
           },
           "bgcolor": "#E5ECF6",
           "radialaxis": {
            "gridcolor": "white",
            "linecolor": "white",
            "ticks": ""
           }
          },
          "scene": {
           "xaxis": {
            "backgroundcolor": "#E5ECF6",
            "gridcolor": "white",
            "gridwidth": 2,
            "linecolor": "white",
            "showbackground": true,
            "ticks": "",
            "zerolinecolor": "white"
           },
           "yaxis": {
            "backgroundcolor": "#E5ECF6",
            "gridcolor": "white",
            "gridwidth": 2,
            "linecolor": "white",
            "showbackground": true,
            "ticks": "",
            "zerolinecolor": "white"
           },
           "zaxis": {
            "backgroundcolor": "#E5ECF6",
            "gridcolor": "white",
            "gridwidth": 2,
            "linecolor": "white",
            "showbackground": true,
            "ticks": "",
            "zerolinecolor": "white"
           }
          },
          "shapedefaults": {
           "line": {
            "color": "#2a3f5f"
           }
          },
          "ternary": {
           "aaxis": {
            "gridcolor": "white",
            "linecolor": "white",
            "ticks": ""
           },
           "baxis": {
            "gridcolor": "white",
            "linecolor": "white",
            "ticks": ""
           },
           "bgcolor": "#E5ECF6",
           "caxis": {
            "gridcolor": "white",
            "linecolor": "white",
            "ticks": ""
           }
          },
          "title": {
           "x": 0.05
          },
          "xaxis": {
           "automargin": true,
           "gridcolor": "white",
           "linecolor": "white",
           "ticks": "",
           "title": {
            "standoff": 15
           },
           "zerolinecolor": "white",
           "zerolinewidth": 2
          },
          "yaxis": {
           "automargin": true,
           "gridcolor": "white",
           "linecolor": "white",
           "ticks": "",
           "title": {
            "standoff": 15
           },
           "zerolinecolor": "white",
           "zerolinewidth": 2
          }
         }
        },
        "title": {
         "text": "Recovered"
        },
        "xaxis": {
         "anchor": "y",
         "domain": [
          0,
          1
         ],
         "title": {
          "text": "Date"
         }
        },
        "yaxis": {
         "anchor": "x",
         "domain": [
          0,
          1
         ],
         "title": {
          "text": "Recovered"
         }
        }
       }
      },
      "text/html": [
       "<div>\n",
       "        \n",
       "        \n",
       "            <div id=\"53cf578c-fe0d-4572-a461-75641ef9463a\" class=\"plotly-graph-div\" style=\"height:600px; width:100%;\"></div>\n",
       "            <script type=\"text/javascript\">\n",
       "                require([\"plotly\"], function(Plotly) {\n",
       "                    window.PLOTLYENV=window.PLOTLYENV || {};\n",
       "                    \n",
       "                if (document.getElementById(\"53cf578c-fe0d-4572-a461-75641ef9463a\")) {\n",
       "                    Plotly.newPlot(\n",
       "                        '53cf578c-fe0d-4572-a461-75641ef9463a',\n",
       "                        [{\"alignmentgroup\": \"True\", \"hoverlabel\": {\"namelength\": 0}, \"hovertemplate\": \"Country=China<br>Date=%{x}<br>Recovered=%{text}\", \"legendgroup\": \"China\", \"marker\": {\"color\": \"#636efa\"}, \"name\": \"China\", \"offsetgroup\": \"China\", \"orientation\": \"v\", \"showlegend\": true, \"text\": [0.0, 30.0, 36.0, 49.0, 51.0, 60.0, 104.0, 127.0, 179.0, 242.0, 331.0, 478.0, 635.0, 890.0, 1020.0, 1476.0, 1750.0, 2678.0, 3286.0, 3921.0, 4730.0, 5915.0, 6982.0, 7973.0, 9294.0, 10748.0, 12455.0], \"textposition\": \"auto\", \"type\": \"bar\", \"x\": [\"01/22/2020 12:00:00\", \"01/23/2020 12:00:00\", \"01/24/2020 12:00:00\", \"01/25/2020 22:00:00\", \"01/26/2020 23:00:00\", \"01/27/2020 20:30:00\", \"01/28/2020 23:00:00\", \"01/29/2020 21:00:00\", \"01/30/2020 21:30:00\", \"01/31/2020 19:00:00\", \"02/01/2020 23:00:00\", \"02/02/2020 21:00:00\", \"02/03/2020 21:40:00\", \"02/04/2020 22:00:00\", \"02/05/2020 12:20:00\", \"02/06/2020 20:05:00\", \"02/07/2020 20:24:00\", \"02/08/2020 23:04:00\", \"02/09/2020 23:20:00\", \"02/10/2020 19:30:00\", \"02/11/2020 20:44:00\", \"02/12/2020 22:00:00\", \"02/13/2020 21:15:00\", \"02/14/2020 22:00:00\", \"02/15/2020 22:00:00\", \"02/16/2020 22:00:00\", \"02/17/2020 22:00:00\"], \"xaxis\": \"x\", \"y\": [0.0, 30.0, 36.0, 49.0, 51.0, 60.0, 104.0, 127.0, 179.0, 242.0, 331.0, 478.0, 635.0, 890.0, 1020.0, 1476.0, 1750.0, 2678.0, 3286.0, 3921.0, 4730.0, 5915.0, 6982.0, 7973.0, 9294.0, 10748.0, 12455.0], \"yaxis\": \"y\"}, {\"alignmentgroup\": \"True\", \"hoverlabel\": {\"namelength\": 0}, \"hovertemplate\": \"Country=Japan<br>Date=%{x}<br>Recovered=%{text}\", \"legendgroup\": \"Japan\", \"marker\": {\"color\": \"#EF553B\"}, \"name\": \"Japan\", \"offsetgroup\": \"Japan\", \"orientation\": \"v\", \"showlegend\": true, \"text\": [0.0, 0.0, 0.0, 0.0, 1.0, 1.0, 1.0, 1.0, 1.0, 1.0, 1.0, 1.0, 1.0, 1.0, 1.0, 1.0, 1.0, 1.0, 1.0, 4.0, 9.0, 9.0, 9.0, 9.0, 12.0, 12.0, 12.0], \"textposition\": \"auto\", \"type\": \"bar\", \"x\": [\"01/22/2020 12:00:00\", \"01/23/2020 12:00:00\", \"01/24/2020 12:00:00\", \"01/25/2020 22:00:00\", \"01/26/2020 23:00:00\", \"01/27/2020 20:30:00\", \"01/28/2020 23:00:00\", \"01/29/2020 21:00:00\", \"01/30/2020 21:30:00\", \"01/31/2020 19:00:00\", \"02/01/2020 23:00:00\", \"02/02/2020 21:00:00\", \"02/03/2020 21:40:00\", \"02/04/2020 22:00:00\", \"02/05/2020 12:20:00\", \"02/06/2020 20:05:00\", \"02/07/2020 20:24:00\", \"02/08/2020 23:04:00\", \"02/09/2020 23:20:00\", \"02/10/2020 19:30:00\", \"02/11/2020 20:44:00\", \"02/12/2020 22:00:00\", \"02/13/2020 21:15:00\", \"02/14/2020 22:00:00\", \"02/15/2020 22:00:00\", \"02/16/2020 22:00:00\", \"02/17/2020 22:00:00\"], \"xaxis\": \"x\", \"y\": [0.0, 0.0, 0.0, 0.0, 1.0, 1.0, 1.0, 1.0, 1.0, 1.0, 1.0, 1.0, 1.0, 1.0, 1.0, 1.0, 1.0, 1.0, 1.0, 4.0, 9.0, 9.0, 9.0, 9.0, 12.0, 12.0, 12.0], \"yaxis\": \"y\"}, {\"alignmentgroup\": \"True\", \"hoverlabel\": {\"namelength\": 0}, \"hovertemplate\": \"Country=US<br>Date=%{x}<br>Recovered=%{text}\", \"legendgroup\": \"US\", \"marker\": {\"color\": \"#00cc96\"}, \"name\": \"US\", \"offsetgroup\": \"US\", \"orientation\": \"v\", \"showlegend\": true, \"text\": [0.0, 0.0, 0.0, 0.0, 0.0, 0.0, 0.0, 0.0, 0.0, 0.0, 0.0, 0.0, 0.0, 0.0, 0.0, 0.0, 0.0, 0.0, 3.0, 3.0, 3.0, 3.0, 3.0, 3.0, 3.0, 3.0, 3.0], \"textposition\": \"auto\", \"type\": \"bar\", \"x\": [\"01/22/2020 12:00:00\", \"01/23/2020 12:00:00\", \"01/24/2020 12:00:00\", \"01/25/2020 22:00:00\", \"01/26/2020 23:00:00\", \"01/27/2020 20:30:00\", \"01/28/2020 23:00:00\", \"01/29/2020 21:00:00\", \"01/30/2020 21:30:00\", \"01/31/2020 19:00:00\", \"02/01/2020 23:00:00\", \"02/02/2020 21:00:00\", \"02/03/2020 21:40:00\", \"02/04/2020 22:00:00\", \"02/05/2020 12:20:00\", \"02/06/2020 20:05:00\", \"02/07/2020 20:24:00\", \"02/08/2020 23:04:00\", \"02/09/2020 23:20:00\", \"02/10/2020 19:30:00\", \"02/11/2020 20:44:00\", \"02/12/2020 22:00:00\", \"02/13/2020 21:15:00\", \"02/14/2020 22:00:00\", \"02/15/2020 22:00:00\", \"02/16/2020 22:00:00\", \"02/17/2020 22:00:00\"], \"xaxis\": \"x\", \"y\": [0.0, 0.0, 0.0, 0.0, 0.0, 0.0, 0.0, 0.0, 0.0, 0.0, 0.0, 0.0, 0.0, 0.0, 0.0, 0.0, 0.0, 0.0, 3.0, 3.0, 3.0, 3.0, 3.0, 3.0, 3.0, 3.0, 3.0], \"yaxis\": \"y\"}, {\"alignmentgroup\": \"True\", \"hoverlabel\": {\"namelength\": 0}, \"hovertemplate\": \"Country=Thailand<br>Date=%{x}<br>Recovered=%{text}\", \"legendgroup\": \"Thailand\", \"marker\": {\"color\": \"#ab63fa\"}, \"name\": \"Thailand\", \"offsetgroup\": \"Thailand\", \"orientation\": \"v\", \"showlegend\": true, \"text\": [0.0, 0.0, 0.0, 0.0, 2.0, 2.0, 5.0, 5.0, 5.0, 7.0, 5.0, 5.0, 5.0, 5.0, 5.0, 5.0, 5.0, 10.0, 10.0, 10.0, 10.0, 10.0, 12.0, 12.0, 12.0, 14.0, 15.0], \"textposition\": \"auto\", \"type\": \"bar\", \"x\": [\"01/22/2020 12:00:00\", \"01/23/2020 12:00:00\", \"01/24/2020 12:00:00\", \"01/25/2020 22:00:00\", \"01/26/2020 23:00:00\", \"01/27/2020 20:30:00\", \"01/28/2020 23:00:00\", \"01/29/2020 21:00:00\", \"01/30/2020 21:30:00\", \"01/31/2020 19:00:00\", \"02/01/2020 23:00:00\", \"02/02/2020 21:00:00\", \"02/03/2020 21:40:00\", \"02/04/2020 22:00:00\", \"02/05/2020 12:20:00\", \"02/06/2020 20:05:00\", \"02/07/2020 20:24:00\", \"02/08/2020 23:04:00\", \"02/09/2020 23:20:00\", \"02/10/2020 19:30:00\", \"02/11/2020 20:44:00\", \"02/12/2020 22:00:00\", \"02/13/2020 21:15:00\", \"02/14/2020 22:00:00\", \"02/15/2020 22:00:00\", \"02/16/2020 22:00:00\", \"02/17/2020 22:00:00\"], \"xaxis\": \"x\", \"y\": [0.0, 0.0, 0.0, 0.0, 2.0, 2.0, 5.0, 5.0, 5.0, 7.0, 5.0, 5.0, 5.0, 5.0, 5.0, 5.0, 5.0, 10.0, 10.0, 10.0, 10.0, 10.0, 12.0, 12.0, 12.0, 14.0, 15.0], \"yaxis\": \"y\"}, {\"alignmentgroup\": \"True\", \"hoverlabel\": {\"namelength\": 0}, \"hovertemplate\": \"Country=South Korea<br>Date=%{x}<br>Recovered=%{text}\", \"legendgroup\": \"South Korea\", \"marker\": {\"color\": \"#FFA15A\"}, \"name\": \"South Korea\", \"offsetgroup\": \"South Korea\", \"orientation\": \"v\", \"showlegend\": true, \"text\": [0.0, 0.0, 0.0, 0.0, 0.0, 0.0, 0.0, 0.0, 0.0, 0.0, 0.0, 0.0, 0.0, 0.0, 0.0, 0.0, 1.0, 3.0, 3.0, 3.0, 4.0, 7.0, 7.0, 7.0, 9.0, 9.0, 10.0], \"textposition\": \"auto\", \"type\": \"bar\", \"x\": [\"01/22/2020 12:00:00\", \"01/23/2020 12:00:00\", \"01/24/2020 12:00:00\", \"01/25/2020 22:00:00\", \"01/26/2020 23:00:00\", \"01/27/2020 20:30:00\", \"01/28/2020 23:00:00\", \"01/29/2020 21:00:00\", \"01/30/2020 21:30:00\", \"01/31/2020 19:00:00\", \"02/01/2020 23:00:00\", \"02/02/2020 21:00:00\", \"02/03/2020 21:40:00\", \"02/04/2020 22:00:00\", \"02/05/2020 12:20:00\", \"02/06/2020 20:05:00\", \"02/07/2020 20:24:00\", \"02/08/2020 23:04:00\", \"02/09/2020 23:20:00\", \"02/10/2020 19:30:00\", \"02/11/2020 20:44:00\", \"02/12/2020 22:00:00\", \"02/13/2020 21:15:00\", \"02/14/2020 22:00:00\", \"02/15/2020 22:00:00\", \"02/16/2020 22:00:00\", \"02/17/2020 22:00:00\"], \"xaxis\": \"x\", \"y\": [0.0, 0.0, 0.0, 0.0, 0.0, 0.0, 0.0, 0.0, 0.0, 0.0, 0.0, 0.0, 0.0, 0.0, 0.0, 0.0, 1.0, 3.0, 3.0, 3.0, 4.0, 7.0, 7.0, 7.0, 9.0, 9.0, 10.0], \"yaxis\": \"y\"}, {\"alignmentgroup\": \"True\", \"hoverlabel\": {\"namelength\": 0}, \"hovertemplate\": \"Country=Brazil<br>Date=%{x}<br>Recovered=%{text}\", \"legendgroup\": \"Brazil\", \"marker\": {\"color\": \"#19d3f3\"}, \"name\": \"Brazil\", \"offsetgroup\": \"Brazil\", \"orientation\": \"v\", \"showlegend\": true, \"text\": [0.0], \"textposition\": \"auto\", \"type\": \"bar\", \"x\": [\"01/23/2020 12:00:00\"], \"xaxis\": \"x\", \"y\": [0.0], \"yaxis\": \"y\"}, {\"alignmentgroup\": \"True\", \"hoverlabel\": {\"namelength\": 0}, \"hovertemplate\": \"Country=Hong Kong<br>Date=%{x}<br>Recovered=%{text}\", \"legendgroup\": \"Hong Kong\", \"marker\": {\"color\": \"#FF6692\"}, \"name\": \"Hong Kong\", \"offsetgroup\": \"Hong Kong\", \"orientation\": \"v\", \"showlegend\": true, \"text\": [0.0, 0.0, 0.0, 0.0, 0.0, 0.0, 0.0, 0.0, 0.0, 0.0, 0.0, 0.0, 0.0, 0.0, 0.0, 0.0, 0.0, 0.0, 0.0, 0.0, 1.0, 1.0, 1.0, 1.0, 2.0, 2.0], \"textposition\": \"auto\", \"type\": \"bar\", \"x\": [\"01/23/2020 12:00:00\", \"01/24/2020 12:00:00\", \"01/25/2020 22:00:00\", \"01/26/2020 23:00:00\", \"01/27/2020 20:30:00\", \"01/28/2020 23:00:00\", \"01/29/2020 21:00:00\", \"01/30/2020 21:30:00\", \"01/31/2020 19:00:00\", \"02/01/2020 23:00:00\", \"02/02/2020 21:00:00\", \"02/03/2020 21:40:00\", \"02/04/2020 22:00:00\", \"02/05/2020 12:20:00\", \"02/06/2020 20:05:00\", \"02/07/2020 20:24:00\", \"02/08/2020 23:04:00\", \"02/09/2020 23:20:00\", \"02/10/2020 19:30:00\", \"02/11/2020 20:44:00\", \"02/12/2020 22:00:00\", \"02/13/2020 21:15:00\", \"02/14/2020 22:00:00\", \"02/15/2020 22:00:00\", \"02/16/2020 22:00:00\", \"02/17/2020 22:00:00\"], \"xaxis\": \"x\", \"y\": [0.0, 0.0, 0.0, 0.0, 0.0, 0.0, 0.0, 0.0, 0.0, 0.0, 0.0, 0.0, 0.0, 0.0, 0.0, 0.0, 0.0, 0.0, 0.0, 0.0, 1.0, 1.0, 1.0, 1.0, 2.0, 2.0], \"yaxis\": \"y\"}, {\"alignmentgroup\": \"True\", \"hoverlabel\": {\"namelength\": 0}, \"hovertemplate\": \"Country=Macau<br>Date=%{x}<br>Recovered=%{text}\", \"legendgroup\": \"Macau\", \"marker\": {\"color\": \"#B6E880\"}, \"name\": \"Macau\", \"offsetgroup\": \"Macau\", \"orientation\": \"v\", \"showlegend\": true, \"text\": [0.0, 0.0, 0.0, 0.0, 0.0, 0.0, 0.0, 0.0, 0.0, 0.0, 0.0, 0.0, 0.0, 0.0, 1.0, 1.0, 1.0, 1.0, 1.0, 1.0, 2.0, 3.0, 3.0, 3.0, 5.0, 5.0], \"textposition\": \"auto\", \"type\": \"bar\", \"x\": [\"01/23/2020 12:00:00\", \"01/24/2020 12:00:00\", \"01/25/2020 22:00:00\", \"01/26/2020 23:00:00\", \"01/27/2020 20:30:00\", \"01/28/2020 23:00:00\", \"01/29/2020 21:00:00\", \"01/30/2020 21:30:00\", \"01/31/2020 19:00:00\", \"02/01/2020 23:00:00\", \"02/02/2020 21:00:00\", \"02/03/2020 21:40:00\", \"02/04/2020 22:00:00\", \"02/05/2020 12:20:00\", \"02/06/2020 20:05:00\", \"02/07/2020 20:24:00\", \"02/08/2020 23:04:00\", \"02/09/2020 23:20:00\", \"02/10/2020 19:30:00\", \"02/11/2020 20:44:00\", \"02/12/2020 22:00:00\", \"02/13/2020 21:15:00\", \"02/14/2020 22:00:00\", \"02/15/2020 22:00:00\", \"02/16/2020 22:00:00\", \"02/17/2020 22:00:00\"], \"xaxis\": \"x\", \"y\": [0.0, 0.0, 0.0, 0.0, 0.0, 0.0, 0.0, 0.0, 0.0, 0.0, 0.0, 0.0, 0.0, 0.0, 1.0, 1.0, 1.0, 1.0, 1.0, 1.0, 2.0, 3.0, 3.0, 3.0, 5.0, 5.0], \"yaxis\": \"y\"}, {\"alignmentgroup\": \"True\", \"hoverlabel\": {\"namelength\": 0}, \"hovertemplate\": \"Country=Malaysia<br>Date=%{x}<br>Recovered=%{text}\", \"legendgroup\": \"Malaysia\", \"marker\": {\"color\": \"#FF97FF\"}, \"name\": \"Malaysia\", \"offsetgroup\": \"Malaysia\", \"orientation\": \"v\", \"showlegend\": true, \"text\": [0.0, 0.0, 0.0, 0.0, 0.0, 0.0, 0.0, 0.0, 0.0, 0.0, 0.0, 0.0, 0.0, 0.0, 1.0, 1.0, 1.0, 1.0, 3.0, 3.0, 3.0, 3.0, 7.0, 7.0, 7.0], \"textposition\": \"auto\", \"type\": \"bar\", \"x\": [\"01/23/2020 12:00:00\", \"01/25/2020 22:00:00\", \"01/26/2020 23:00:00\", \"01/27/2020 20:30:00\", \"01/28/2020 23:00:00\", \"01/29/2020 21:00:00\", \"01/30/2020 21:30:00\", \"01/31/2020 19:00:00\", \"02/01/2020 23:00:00\", \"02/02/2020 21:00:00\", \"02/03/2020 21:40:00\", \"02/04/2020 22:00:00\", \"02/05/2020 12:20:00\", \"02/06/2020 20:05:00\", \"02/07/2020 20:24:00\", \"02/08/2020 23:04:00\", \"02/09/2020 23:20:00\", \"02/10/2020 19:30:00\", \"02/11/2020 20:44:00\", \"02/12/2020 22:00:00\", \"02/13/2020 21:15:00\", \"02/14/2020 22:00:00\", \"02/15/2020 22:00:00\", \"02/16/2020 22:00:00\", \"02/17/2020 22:00:00\"], \"xaxis\": \"x\", \"y\": [0.0, 0.0, 0.0, 0.0, 0.0, 0.0, 0.0, 0.0, 0.0, 0.0, 0.0, 0.0, 0.0, 0.0, 1.0, 1.0, 1.0, 1.0, 3.0, 3.0, 3.0, 3.0, 7.0, 7.0, 7.0], \"yaxis\": \"y\"}, {\"alignmentgroup\": \"True\", \"hoverlabel\": {\"namelength\": 0}, \"hovertemplate\": \"Country=Mexico<br>Date=%{x}<br>Recovered=%{text}\", \"legendgroup\": \"Mexico\", \"marker\": {\"color\": \"#FECB52\"}, \"name\": \"Mexico\", \"offsetgroup\": \"Mexico\", \"orientation\": \"v\", \"showlegend\": true, \"text\": [0.0], \"textposition\": \"auto\", \"type\": \"bar\", \"x\": [\"01/23/2020 12:00:00\"], \"xaxis\": \"x\", \"y\": [0.0], \"yaxis\": \"y\"}, {\"alignmentgroup\": \"True\", \"hoverlabel\": {\"namelength\": 0}, \"hovertemplate\": \"Country=Philippines<br>Date=%{x}<br>Recovered=%{text}\", \"legendgroup\": \"Philippines\", \"marker\": {\"color\": \"#636efa\"}, \"name\": \"Philippines\", \"offsetgroup\": \"Philippines\", \"orientation\": \"v\", \"showlegend\": true, \"text\": [0.0, 0.0, 0.0, 0.0, 0.0, 0.0, 0.0, 0.0, 0.0, 0.0, 0.0, 0.0, 0.0, 0.0, 1.0, 1.0, 1.0, 1.0, 1.0, 1.0], \"textposition\": \"auto\", \"type\": \"bar\", \"x\": [\"01/23/2020 12:00:00\", \"01/30/2020 21:30:00\", \"01/31/2020 19:00:00\", \"02/01/2020 23:00:00\", \"02/02/2020 21:00:00\", \"02/03/2020 21:40:00\", \"02/04/2020 22:00:00\", \"02/05/2020 12:20:00\", \"02/06/2020 20:05:00\", \"02/07/2020 20:24:00\", \"02/08/2020 23:04:00\", \"02/09/2020 23:20:00\", \"02/10/2020 19:30:00\", \"02/11/2020 20:44:00\", \"02/12/2020 22:00:00\", \"02/13/2020 21:15:00\", \"02/14/2020 22:00:00\", \"02/15/2020 22:00:00\", \"02/16/2020 22:00:00\", \"02/17/2020 22:00:00\"], \"xaxis\": \"x\", \"y\": [0.0, 0.0, 0.0, 0.0, 0.0, 0.0, 0.0, 0.0, 0.0, 0.0, 0.0, 0.0, 0.0, 0.0, 1.0, 1.0, 1.0, 1.0, 1.0, 1.0], \"yaxis\": \"y\"}, {\"alignmentgroup\": \"True\", \"hoverlabel\": {\"namelength\": 0}, \"hovertemplate\": \"Country=Australia<br>Date=%{x}<br>Recovered=%{text}\", \"legendgroup\": \"Australia\", \"marker\": {\"color\": \"#EF553B\"}, \"name\": \"Australia\", \"offsetgroup\": \"Australia\", \"orientation\": \"v\", \"showlegend\": true, \"text\": [0.0, 0.0, 0.0, 0.0, 0.0, 0.0, 2.0, 2.0, 2.0, 2.0, 2.0, 2.0, 2.0, 2.0, 2.0, 2.0, 2.0, 2.0, 2.0, 2.0, 8.0, 8.0, 8.0, 8.0, 10.0], \"textposition\": \"auto\", \"type\": \"bar\", \"x\": [\"01/23/2020 12:00:00\", \"01/25/2020 22:00:00\", \"01/26/2020 23:00:00\", \"01/27/2020 20:30:00\", \"01/28/2020 23:00:00\", \"01/29/2020 21:00:00\", \"01/30/2020 21:30:00\", \"01/31/2020 19:00:00\", \"02/01/2020 23:00:00\", \"02/02/2020 21:00:00\", \"02/03/2020 21:40:00\", \"02/04/2020 22:00:00\", \"02/05/2020 12:20:00\", \"02/06/2020 20:05:00\", \"02/07/2020 20:24:00\", \"02/08/2020 23:04:00\", \"02/09/2020 23:20:00\", \"02/10/2020 19:30:00\", \"02/11/2020 20:44:00\", \"02/12/2020 22:00:00\", \"02/13/2020 21:15:00\", \"02/14/2020 22:00:00\", \"02/15/2020 22:00:00\", \"02/16/2020 22:00:00\", \"02/17/2020 22:00:00\"], \"xaxis\": \"x\", \"y\": [0.0, 0.0, 0.0, 0.0, 0.0, 0.0, 2.0, 2.0, 2.0, 2.0, 2.0, 2.0, 2.0, 2.0, 2.0, 2.0, 2.0, 2.0, 2.0, 2.0, 8.0, 8.0, 8.0, 8.0, 10.0], \"yaxis\": \"y\"}, {\"alignmentgroup\": \"True\", \"hoverlabel\": {\"namelength\": 0}, \"hovertemplate\": \"Country=Singapore<br>Date=%{x}<br>Recovered=%{text}\", \"legendgroup\": \"Singapore\", \"marker\": {\"color\": \"#00cc96\"}, \"name\": \"Singapore\", \"offsetgroup\": \"Singapore\", \"orientation\": \"v\", \"showlegend\": true, \"text\": [0.0, 0.0, 0.0, 0.0, 0.0, 0.0, 0.0, 0.0, 0.0, 0.0, 0.0, 0.0, 0.0, 0.0, 0.0, 0.0, 2.0, 2.0, 2.0, 9.0, 15.0, 15.0, 17.0, 18.0, 18.0, 24.0], \"textposition\": \"auto\", \"type\": \"bar\", \"x\": [\"01/23/2020 12:00:00\", \"01/24/2020 12:00:00\", \"01/25/2020 22:00:00\", \"01/26/2020 23:00:00\", \"01/27/2020 20:30:00\", \"01/28/2020 23:00:00\", \"01/29/2020 21:00:00\", \"01/30/2020 21:30:00\", \"01/31/2020 19:00:00\", \"02/01/2020 23:00:00\", \"02/02/2020 21:00:00\", \"02/03/2020 21:40:00\", \"02/04/2020 22:00:00\", \"02/05/2020 12:20:00\", \"02/06/2020 20:05:00\", \"02/07/2020 20:24:00\", \"02/08/2020 23:04:00\", \"02/09/2020 23:20:00\", \"02/10/2020 19:30:00\", \"02/11/2020 20:44:00\", \"02/12/2020 22:00:00\", \"02/13/2020 21:15:00\", \"02/14/2020 22:00:00\", \"02/15/2020 22:00:00\", \"02/16/2020 22:00:00\", \"02/17/2020 22:00:00\"], \"xaxis\": \"x\", \"y\": [0.0, 0.0, 0.0, 0.0, 0.0, 0.0, 0.0, 0.0, 0.0, 0.0, 0.0, 0.0, 0.0, 0.0, 0.0, 0.0, 2.0, 2.0, 2.0, 9.0, 15.0, 15.0, 17.0, 18.0, 18.0, 24.0], \"yaxis\": \"y\"}, {\"alignmentgroup\": \"True\", \"hoverlabel\": {\"namelength\": 0}, \"hovertemplate\": \"Country=Vietnam<br>Date=%{x}<br>Recovered=%{text}\", \"legendgroup\": \"Vietnam\", \"marker\": {\"color\": \"#ab63fa\"}, \"name\": \"Vietnam\", \"offsetgroup\": \"Vietnam\", \"orientation\": \"v\", \"showlegend\": true, \"text\": [0.0, 0.0, 0.0, 0.0, 0.0, 0.0, 0.0, 0.0, 0.0, 1.0, 1.0, 1.0, 1.0, 1.0, 1.0, 1.0, 1.0, 1.0, 1.0, 6.0, 6.0, 7.0, 7.0, 7.0, 7.0, 7.0], \"textposition\": \"auto\", \"type\": \"bar\", \"x\": [\"01/23/2020 12:00:00\", \"01/24/2020 12:00:00\", \"01/25/2020 22:00:00\", \"01/26/2020 23:00:00\", \"01/27/2020 20:30:00\", \"01/28/2020 23:00:00\", \"01/29/2020 21:00:00\", \"01/30/2020 21:30:00\", \"01/31/2020 19:00:00\", \"02/01/2020 23:00:00\", \"02/02/2020 21:00:00\", \"02/03/2020 21:40:00\", \"02/04/2020 22:00:00\", \"02/05/2020 12:20:00\", \"02/06/2020 20:05:00\", \"02/07/2020 20:24:00\", \"02/08/2020 23:04:00\", \"02/09/2020 23:20:00\", \"02/10/2020 19:30:00\", \"02/11/2020 20:44:00\", \"02/12/2020 22:00:00\", \"02/13/2020 21:15:00\", \"02/14/2020 22:00:00\", \"02/15/2020 22:00:00\", \"02/16/2020 22:00:00\", \"02/17/2020 22:00:00\"], \"xaxis\": \"x\", \"y\": [0.0, 0.0, 0.0, 0.0, 0.0, 0.0, 0.0, 0.0, 0.0, 1.0, 1.0, 1.0, 1.0, 1.0, 1.0, 1.0, 1.0, 1.0, 1.0, 6.0, 6.0, 7.0, 7.0, 7.0, 7.0, 7.0], \"yaxis\": \"y\"}, {\"alignmentgroup\": \"True\", \"hoverlabel\": {\"namelength\": 0}, \"hovertemplate\": \"Country=Taiwan<br>Date=%{x}<br>Recovered=%{text}\", \"legendgroup\": \"Taiwan\", \"marker\": {\"color\": \"#FFA15A\"}, \"name\": \"Taiwan\", \"offsetgroup\": \"Taiwan\", \"orientation\": \"v\", \"showlegend\": true, \"text\": [0.0, 0.0, 0.0, 0.0, 0.0, 0.0, 0.0, 0.0, 0.0, 0.0, 0.0, 0.0, 0.0, 0.0, 1.0, 1.0, 1.0, 1.0, 1.0, 1.0, 1.0, 1.0, 2.0, 2.0, 2.0, 2.0], \"textposition\": \"auto\", \"type\": \"bar\", \"x\": [\"01/23/2020 12:00:00\", \"01/24/2020 12:00:00\", \"01/25/2020 22:00:00\", \"01/26/2020 23:00:00\", \"01/27/2020 20:30:00\", \"01/28/2020 23:00:00\", \"01/29/2020 21:00:00\", \"01/30/2020 21:30:00\", \"01/31/2020 19:00:00\", \"02/01/2020 23:00:00\", \"02/02/2020 21:00:00\", \"02/03/2020 21:40:00\", \"02/04/2020 22:00:00\", \"02/05/2020 12:20:00\", \"02/06/2020 20:05:00\", \"02/07/2020 20:24:00\", \"02/08/2020 23:04:00\", \"02/09/2020 23:20:00\", \"02/10/2020 19:30:00\", \"02/11/2020 20:44:00\", \"02/12/2020 22:00:00\", \"02/13/2020 21:15:00\", \"02/14/2020 22:00:00\", \"02/15/2020 22:00:00\", \"02/16/2020 22:00:00\", \"02/17/2020 22:00:00\"], \"xaxis\": \"x\", \"y\": [0.0, 0.0, 0.0, 0.0, 0.0, 0.0, 0.0, 0.0, 0.0, 0.0, 0.0, 0.0, 0.0, 0.0, 1.0, 1.0, 1.0, 1.0, 1.0, 1.0, 1.0, 1.0, 2.0, 2.0, 2.0, 2.0], \"yaxis\": \"y\"}, {\"alignmentgroup\": \"True\", \"hoverlabel\": {\"namelength\": 0}, \"hovertemplate\": \"Country=France<br>Date=%{x}<br>Recovered=%{text}\", \"legendgroup\": \"France\", \"marker\": {\"color\": \"#19d3f3\"}, \"name\": \"France\", \"offsetgroup\": \"France\", \"orientation\": \"v\", \"showlegend\": true, \"text\": [0.0, 0.0, 0.0, 0.0, 0.0, 0.0, 0.0, 0.0, 0.0, 0.0, 0.0, 0.0, 0.0, 0.0, 0.0, 0.0, 0.0, 0.0, 0.0, 2.0, 2.0, 2.0, 4.0, 4.0, 4.0], \"textposition\": \"auto\", \"type\": \"bar\", \"x\": [\"01/24/2020 12:00:00\", \"01/25/2020 22:00:00\", \"01/26/2020 23:00:00\", \"01/27/2020 20:30:00\", \"01/28/2020 23:00:00\", \"01/29/2020 21:00:00\", \"01/30/2020 21:30:00\", \"01/31/2020 19:00:00\", \"02/01/2020 23:00:00\", \"02/02/2020 21:00:00\", \"02/03/2020 21:40:00\", \"02/04/2020 22:00:00\", \"02/05/2020 12:20:00\", \"02/06/2020 20:05:00\", \"02/07/2020 20:24:00\", \"02/08/2020 23:04:00\", \"02/09/2020 23:20:00\", \"02/10/2020 19:30:00\", \"02/11/2020 20:44:00\", \"02/12/2020 22:00:00\", \"02/13/2020 21:15:00\", \"02/14/2020 22:00:00\", \"02/15/2020 22:00:00\", \"02/16/2020 22:00:00\", \"02/17/2020 22:00:00\"], \"xaxis\": \"x\", \"y\": [0.0, 0.0, 0.0, 0.0, 0.0, 0.0, 0.0, 0.0, 0.0, 0.0, 0.0, 0.0, 0.0, 0.0, 0.0, 0.0, 0.0, 0.0, 0.0, 2.0, 2.0, 2.0, 4.0, 4.0, 4.0], \"yaxis\": \"y\"}, {\"alignmentgroup\": \"True\", \"hoverlabel\": {\"namelength\": 0}, \"hovertemplate\": \"Country=Nepal<br>Date=%{x}<br>Recovered=%{text}\", \"legendgroup\": \"Nepal\", \"marker\": {\"color\": \"#FF6692\"}, \"name\": \"Nepal\", \"offsetgroup\": \"Nepal\", \"orientation\": \"v\", \"showlegend\": true, \"text\": [0.0, 0.0, 0.0, 0.0, 0.0, 0.0, 0.0, 0.0, 0.0, 0.0, 0.0, 0.0, 0.0, 0.0, 0.0, 0.0, 0.0, 0.0, 1.0, 1.0, 1.0, 1.0, 1.0, 1.0], \"textposition\": \"auto\", \"type\": \"bar\", \"x\": [\"01/25/2020 22:00:00\", \"01/26/2020 23:00:00\", \"01/27/2020 20:30:00\", \"01/28/2020 23:00:00\", \"01/29/2020 21:00:00\", \"01/30/2020 21:30:00\", \"01/31/2020 19:00:00\", \"02/01/2020 23:00:00\", \"02/02/2020 21:00:00\", \"02/03/2020 21:40:00\", \"02/04/2020 22:00:00\", \"02/05/2020 12:20:00\", \"02/06/2020 20:05:00\", \"02/07/2020 20:24:00\", \"02/08/2020 23:04:00\", \"02/09/2020 23:20:00\", \"02/10/2020 19:30:00\", \"02/11/2020 20:44:00\", \"02/12/2020 22:00:00\", \"02/13/2020 21:15:00\", \"02/14/2020 22:00:00\", \"02/15/2020 22:00:00\", \"02/16/2020 22:00:00\", \"02/17/2020 22:00:00\"], \"xaxis\": \"x\", \"y\": [0.0, 0.0, 0.0, 0.0, 0.0, 0.0, 0.0, 0.0, 0.0, 0.0, 0.0, 0.0, 0.0, 0.0, 0.0, 0.0, 0.0, 0.0, 1.0, 1.0, 1.0, 1.0, 1.0, 1.0], \"yaxis\": \"y\"}, {\"alignmentgroup\": \"True\", \"hoverlabel\": {\"namelength\": 0}, \"hovertemplate\": \"Country=Canada<br>Date=%{x}<br>Recovered=%{text}\", \"legendgroup\": \"Canada\", \"marker\": {\"color\": \"#B6E880\"}, \"name\": \"Canada\", \"offsetgroup\": \"Canada\", \"orientation\": \"v\", \"showlegend\": true, \"text\": [0.0, 0.0, 0.0, 0.0, 0.0, 0.0, 0.0, 0.0, 0.0, 0.0, 0.0, 0.0, 0.0, 0.0, 0.0, 0.0, 0.0, 1.0, 1.0, 1.0, 1.0, 1.0, 1.0], \"textposition\": \"auto\", \"type\": \"bar\", \"x\": [\"01/26/2020 23:00:00\", \"01/27/2020 20:30:00\", \"01/28/2020 23:00:00\", \"01/29/2020 21:00:00\", \"01/30/2020 21:30:00\", \"01/31/2020 19:00:00\", \"02/01/2020 23:00:00\", \"02/02/2020 21:00:00\", \"02/03/2020 21:40:00\", \"02/04/2020 22:00:00\", \"02/05/2020 12:20:00\", \"02/06/2020 20:05:00\", \"02/07/2020 20:24:00\", \"02/08/2020 23:04:00\", \"02/09/2020 23:20:00\", \"02/10/2020 19:30:00\", \"02/11/2020 20:44:00\", \"02/12/2020 22:00:00\", \"02/13/2020 21:15:00\", \"02/14/2020 22:00:00\", \"02/15/2020 22:00:00\", \"02/16/2020 22:00:00\", \"02/17/2020 22:00:00\"], \"xaxis\": \"x\", \"y\": [0.0, 0.0, 0.0, 0.0, 0.0, 0.0, 0.0, 0.0, 0.0, 0.0, 0.0, 0.0, 0.0, 0.0, 0.0, 0.0, 0.0, 1.0, 1.0, 1.0, 1.0, 1.0, 1.0], \"yaxis\": \"y\"}, {\"alignmentgroup\": \"True\", \"hoverlabel\": {\"namelength\": 0}, \"hovertemplate\": \"Country=Cambodia<br>Date=%{x}<br>Recovered=%{text}\", \"legendgroup\": \"Cambodia\", \"marker\": {\"color\": \"#FF97FF\"}, \"name\": \"Cambodia\", \"offsetgroup\": \"Cambodia\", \"orientation\": \"v\", \"showlegend\": true, \"text\": [0.0, 0.0, 0.0, 0.0, 0.0, 0.0, 0.0, 0.0, 0.0, 0.0, 0.0, 0.0, 0.0, 0.0, 0.0, 0.0, 1.0, 1.0, 1.0, 1.0, 1.0, 1.0], \"textposition\": \"auto\", \"type\": \"bar\", \"x\": [\"01/27/2020 20:30:00\", \"01/28/2020 23:00:00\", \"01/29/2020 21:00:00\", \"01/30/2020 21:30:00\", \"01/31/2020 19:00:00\", \"02/01/2020 23:00:00\", \"02/02/2020 21:00:00\", \"02/03/2020 21:40:00\", \"02/04/2020 22:00:00\", \"02/05/2020 12:20:00\", \"02/06/2020 20:05:00\", \"02/07/2020 20:24:00\", \"02/08/2020 23:04:00\", \"02/09/2020 23:20:00\", \"02/10/2020 19:30:00\", \"02/11/2020 20:44:00\", \"02/12/2020 22:00:00\", \"02/13/2020 21:15:00\", \"02/14/2020 22:00:00\", \"02/15/2020 22:00:00\", \"02/16/2020 22:00:00\", \"02/17/2020 22:00:00\"], \"xaxis\": \"x\", \"y\": [0.0, 0.0, 0.0, 0.0, 0.0, 0.0, 0.0, 0.0, 0.0, 0.0, 0.0, 0.0, 0.0, 0.0, 0.0, 0.0, 1.0, 1.0, 1.0, 1.0, 1.0, 1.0], \"yaxis\": \"y\"}, {\"alignmentgroup\": \"True\", \"hoverlabel\": {\"namelength\": 0}, \"hovertemplate\": \"Country=Ivory Coast<br>Date=%{x}<br>Recovered=%{text}\", \"legendgroup\": \"Ivory Coast\", \"marker\": {\"color\": \"#FECB52\"}, \"name\": \"Ivory Coast\", \"offsetgroup\": \"Ivory Coast\", \"orientation\": \"v\", \"showlegend\": true, \"text\": [0.0], \"textposition\": \"auto\", \"type\": \"bar\", \"x\": [\"01/27/2020 20:30:00\"], \"xaxis\": \"x\", \"y\": [0.0], \"yaxis\": \"y\"}, {\"alignmentgroup\": \"True\", \"hoverlabel\": {\"namelength\": 0}, \"hovertemplate\": \"Country=Germany<br>Date=%{x}<br>Recovered=%{text}\", \"legendgroup\": \"Germany\", \"marker\": {\"color\": \"#636efa\"}, \"name\": \"Germany\", \"offsetgroup\": \"Germany\", \"orientation\": \"v\", \"showlegend\": true, \"text\": [0.0, 0.0, 0.0, 0.0, 0.0, 0.0, 0.0, 0.0, 0.0, 0.0, 0.0, 0.0, 0.0, 0.0, 0.0, 0.0, 0.0, 1.0, 1.0, 1.0, 1.0, 1.0], \"textposition\": \"auto\", \"type\": \"bar\", \"x\": [\"01/27/2020 20:30:00\", \"01/28/2020 23:00:00\", \"01/29/2020 21:00:00\", \"01/30/2020 21:30:00\", \"01/31/2020 19:00:00\", \"02/01/2020 23:00:00\", \"02/02/2020 21:00:00\", \"02/03/2020 21:40:00\", \"02/04/2020 22:00:00\", \"02/05/2020 12:20:00\", \"02/06/2020 20:05:00\", \"02/07/2020 20:24:00\", \"02/08/2020 23:04:00\", \"02/09/2020 23:20:00\", \"02/10/2020 19:30:00\", \"02/11/2020 20:44:00\", \"02/12/2020 22:00:00\", \"02/13/2020 21:15:00\", \"02/14/2020 22:00:00\", \"02/15/2020 22:00:00\", \"02/16/2020 22:00:00\", \"02/17/2020 22:00:00\"], \"xaxis\": \"x\", \"y\": [0.0, 0.0, 0.0, 0.0, 0.0, 0.0, 0.0, 0.0, 0.0, 0.0, 0.0, 0.0, 0.0, 0.0, 0.0, 0.0, 0.0, 1.0, 1.0, 1.0, 1.0, 1.0], \"yaxis\": \"y\"}, {\"alignmentgroup\": \"True\", \"hoverlabel\": {\"namelength\": 0}, \"hovertemplate\": \"Country=Sri Lanka<br>Date=%{x}<br>Recovered=%{text}\", \"legendgroup\": \"Sri Lanka\", \"marker\": {\"color\": \"#EF553B\"}, \"name\": \"Sri Lanka\", \"offsetgroup\": \"Sri Lanka\", \"orientation\": \"v\", \"showlegend\": true, \"text\": [0.0, 0.0, 0.0, 0.0, 0.0, 0.0, 0.0, 0.0, 0.0, 0.0, 0.0, 0.0, 1.0, 1.0, 1.0, 1.0, 1.0, 1.0, 1.0, 1.0, 1.0, 1.0], \"textposition\": \"auto\", \"type\": \"bar\", \"x\": [\"01/27/2020 20:30:00\", \"01/28/2020 23:00:00\", \"01/29/2020 21:00:00\", \"01/30/2020 21:30:00\", \"01/31/2020 19:00:00\", \"02/01/2020 23:00:00\", \"02/02/2020 21:00:00\", \"02/03/2020 21:40:00\", \"02/04/2020 22:00:00\", \"02/05/2020 12:20:00\", \"02/06/2020 20:05:00\", \"02/07/2020 20:24:00\", \"02/08/2020 23:04:00\", \"02/09/2020 23:20:00\", \"02/10/2020 19:30:00\", \"02/11/2020 20:44:00\", \"02/12/2020 22:00:00\", \"02/13/2020 21:15:00\", \"02/14/2020 22:00:00\", \"02/15/2020 22:00:00\", \"02/16/2020 22:00:00\", \"02/17/2020 22:00:00\"], \"xaxis\": \"x\", \"y\": [0.0, 0.0, 0.0, 0.0, 0.0, 0.0, 0.0, 0.0, 0.0, 0.0, 0.0, 0.0, 1.0, 1.0, 1.0, 1.0, 1.0, 1.0, 1.0, 1.0, 1.0, 1.0], \"yaxis\": \"y\"}, {\"alignmentgroup\": \"True\", \"hoverlabel\": {\"namelength\": 0}, \"hovertemplate\": \"Country=Finland<br>Date=%{x}<br>Recovered=%{text}\", \"legendgroup\": \"Finland\", \"marker\": {\"color\": \"#00cc96\"}, \"name\": \"Finland\", \"offsetgroup\": \"Finland\", \"orientation\": \"v\", \"showlegend\": true, \"text\": [0.0, 0.0, 0.0, 0.0, 0.0, 0.0, 0.0, 0.0, 0.0, 0.0, 0.0, 0.0, 0.0, 1.0, 1.0, 1.0, 1.0, 1.0, 1.0, 1.0], \"textposition\": \"auto\", \"type\": \"bar\", \"x\": [\"01/29/2020 21:00:00\", \"01/30/2020 21:30:00\", \"01/31/2020 19:00:00\", \"02/01/2020 23:00:00\", \"02/02/2020 21:00:00\", \"02/03/2020 21:40:00\", \"02/04/2020 22:00:00\", \"02/05/2020 12:20:00\", \"02/06/2020 20:05:00\", \"02/07/2020 20:24:00\", \"02/08/2020 23:04:00\", \"02/09/2020 23:20:00\", \"02/10/2020 19:30:00\", \"02/11/2020 20:44:00\", \"02/12/2020 22:00:00\", \"02/13/2020 21:15:00\", \"02/14/2020 22:00:00\", \"02/15/2020 22:00:00\", \"02/16/2020 22:00:00\", \"02/17/2020 22:00:00\"], \"xaxis\": \"x\", \"y\": [0.0, 0.0, 0.0, 0.0, 0.0, 0.0, 0.0, 0.0, 0.0, 0.0, 0.0, 0.0, 0.0, 1.0, 1.0, 1.0, 1.0, 1.0, 1.0, 1.0], \"yaxis\": \"y\"}, {\"alignmentgroup\": \"True\", \"hoverlabel\": {\"namelength\": 0}, \"hovertemplate\": \"Country=United Arab Emirates<br>Date=%{x}<br>Recovered=%{text}\", \"legendgroup\": \"United Arab Emirates\", \"marker\": {\"color\": \"#ab63fa\"}, \"name\": \"United Arab Emirates\", \"offsetgroup\": \"United Arab Emirates\", \"orientation\": \"v\", \"showlegend\": true, \"text\": [0.0, 0.0, 0.0, 0.0, 0.0, 0.0, 0.0, 0.0, 0.0, 0.0, 0.0, 0.0, 0.0, 1.0, 1.0, 1.0, 1.0, 3.0, 4.0, 4.0], \"textposition\": \"auto\", \"type\": \"bar\", \"x\": [\"01/29/2020 21:00:00\", \"01/30/2020 21:30:00\", \"01/31/2020 19:00:00\", \"02/01/2020 23:00:00\", \"02/02/2020 21:00:00\", \"02/03/2020 21:40:00\", \"02/04/2020 22:00:00\", \"02/05/2020 12:20:00\", \"02/06/2020 20:05:00\", \"02/07/2020 20:24:00\", \"02/08/2020 23:04:00\", \"02/09/2020 23:20:00\", \"02/10/2020 19:30:00\", \"02/11/2020 20:44:00\", \"02/12/2020 22:00:00\", \"02/13/2020 21:15:00\", \"02/14/2020 22:00:00\", \"02/15/2020 22:00:00\", \"02/16/2020 22:00:00\", \"02/17/2020 22:00:00\"], \"xaxis\": \"x\", \"y\": [0.0, 0.0, 0.0, 0.0, 0.0, 0.0, 0.0, 0.0, 0.0, 0.0, 0.0, 0.0, 0.0, 1.0, 1.0, 1.0, 1.0, 3.0, 4.0, 4.0], \"yaxis\": \"y\"}, {\"alignmentgroup\": \"True\", \"hoverlabel\": {\"namelength\": 0}, \"hovertemplate\": \"Country=India<br>Date=%{x}<br>Recovered=%{text}\", \"legendgroup\": \"India\", \"marker\": {\"color\": \"#FFA15A\"}, \"name\": \"India\", \"offsetgroup\": \"India\", \"orientation\": \"v\", \"showlegend\": true, \"text\": [0.0, 0.0, 0.0, 0.0, 0.0, 0.0, 0.0, 0.0, 0.0, 0.0, 0.0, 0.0, 0.0, 0.0, 0.0, 0.0, 0.0, 3.0, 3.0], \"textposition\": \"auto\", \"type\": \"bar\", \"x\": [\"01/30/2020 21:30:00\", \"01/31/2020 19:00:00\", \"02/01/2020 23:00:00\", \"02/02/2020 21:00:00\", \"02/03/2020 21:40:00\", \"02/04/2020 22:00:00\", \"02/05/2020 12:20:00\", \"02/06/2020 20:05:00\", \"02/07/2020 20:24:00\", \"02/08/2020 23:04:00\", \"02/09/2020 23:20:00\", \"02/10/2020 19:30:00\", \"02/11/2020 20:44:00\", \"02/12/2020 22:00:00\", \"02/13/2020 21:15:00\", \"02/14/2020 22:00:00\", \"02/15/2020 22:00:00\", \"02/16/2020 22:00:00\", \"02/17/2020 22:00:00\"], \"xaxis\": \"x\", \"y\": [0.0, 0.0, 0.0, 0.0, 0.0, 0.0, 0.0, 0.0, 0.0, 0.0, 0.0, 0.0, 0.0, 0.0, 0.0, 0.0, 0.0, 3.0, 3.0], \"yaxis\": \"y\"}, {\"alignmentgroup\": \"True\", \"hoverlabel\": {\"namelength\": 0}, \"hovertemplate\": \"Country=Italy<br>Date=%{x}<br>Recovered=%{text}\", \"legendgroup\": \"Italy\", \"marker\": {\"color\": \"#19d3f3\"}, \"name\": \"Italy\", \"offsetgroup\": \"Italy\", \"orientation\": \"v\", \"showlegend\": true, \"text\": [0.0, 0.0, 0.0, 0.0, 0.0, 0.0, 0.0, 0.0, 0.0, 0.0, 0.0, 0.0, 0.0, 0.0, 0.0, 0.0, 0.0, 0.0, 0.0], \"textposition\": \"auto\", \"type\": \"bar\", \"x\": [\"01/30/2020 21:30:00\", \"01/31/2020 19:00:00\", \"02/01/2020 23:00:00\", \"02/02/2020 21:00:00\", \"02/03/2020 21:40:00\", \"02/04/2020 22:00:00\", \"02/05/2020 12:20:00\", \"02/06/2020 20:05:00\", \"02/07/2020 20:24:00\", \"02/08/2020 23:04:00\", \"02/09/2020 23:20:00\", \"02/10/2020 19:30:00\", \"02/11/2020 20:44:00\", \"02/12/2020 22:00:00\", \"02/13/2020 21:15:00\", \"02/14/2020 22:00:00\", \"02/15/2020 22:00:00\", \"02/16/2020 22:00:00\", \"02/17/2020 22:00:00\"], \"xaxis\": \"x\", \"y\": [0.0, 0.0, 0.0, 0.0, 0.0, 0.0, 0.0, 0.0, 0.0, 0.0, 0.0, 0.0, 0.0, 0.0, 0.0, 0.0, 0.0, 0.0, 0.0], \"yaxis\": \"y\"}, {\"alignmentgroup\": \"True\", \"hoverlabel\": {\"namelength\": 0}, \"hovertemplate\": \"Country=Spain<br>Date=%{x}<br>Recovered=%{text}\", \"legendgroup\": \"Spain\", \"marker\": {\"color\": \"#FF6692\"}, \"name\": \"Spain\", \"offsetgroup\": \"Spain\", \"orientation\": \"v\", \"showlegend\": true, \"text\": [0.0, 0.0, 0.0, 0.0, 0.0, 0.0, 0.0, 0.0, 0.0, 0.0, 0.0, 0.0, 0.0, 0.0, 0.0, 2.0, 2.0, 2.0], \"textposition\": \"auto\", \"type\": \"bar\", \"x\": [\"01/31/2020 19:00:00\", \"02/01/2020 23:00:00\", \"02/02/2020 21:00:00\", \"02/03/2020 21:40:00\", \"02/04/2020 22:00:00\", \"02/05/2020 12:20:00\", \"02/06/2020 20:05:00\", \"02/07/2020 20:24:00\", \"02/08/2020 23:04:00\", \"02/09/2020 23:20:00\", \"02/10/2020 19:30:00\", \"02/11/2020 20:44:00\", \"02/12/2020 22:00:00\", \"02/13/2020 21:15:00\", \"02/14/2020 22:00:00\", \"02/15/2020 22:00:00\", \"02/16/2020 22:00:00\", \"02/17/2020 22:00:00\"], \"xaxis\": \"x\", \"y\": [0.0, 0.0, 0.0, 0.0, 0.0, 0.0, 0.0, 0.0, 0.0, 0.0, 0.0, 0.0, 0.0, 0.0, 0.0, 2.0, 2.0, 2.0], \"yaxis\": \"y\"}, {\"alignmentgroup\": \"True\", \"hoverlabel\": {\"namelength\": 0}, \"hovertemplate\": \"Country=UK<br>Date=%{x}<br>Recovered=%{text}\", \"legendgroup\": \"UK\", \"marker\": {\"color\": \"#B6E880\"}, \"name\": \"UK\", \"offsetgroup\": \"UK\", \"orientation\": \"v\", \"showlegend\": true, \"text\": [0.0, 0.0, 0.0, 0.0, 0.0, 0.0, 0.0, 0.0, 0.0, 0.0, 0.0, 0.0, 1.0, 1.0, 1.0, 1.0, 8.0, 8.0], \"textposition\": \"auto\", \"type\": \"bar\", \"x\": [\"01/31/2020 19:00:00\", \"02/01/2020 23:00:00\", \"02/02/2020 21:00:00\", \"02/03/2020 21:40:00\", \"02/04/2020 22:00:00\", \"02/05/2020 12:20:00\", \"02/06/2020 20:05:00\", \"02/07/2020 20:24:00\", \"02/08/2020 23:04:00\", \"02/09/2020 23:20:00\", \"02/10/2020 19:30:00\", \"02/11/2020 20:44:00\", \"02/12/2020 22:00:00\", \"02/13/2020 21:15:00\", \"02/14/2020 22:00:00\", \"02/15/2020 22:00:00\", \"02/16/2020 22:00:00\", \"02/17/2020 22:00:00\"], \"xaxis\": \"x\", \"y\": [0.0, 0.0, 0.0, 0.0, 0.0, 0.0, 0.0, 0.0, 0.0, 0.0, 0.0, 0.0, 1.0, 1.0, 1.0, 1.0, 8.0, 8.0], \"yaxis\": \"y\"}, {\"alignmentgroup\": \"True\", \"hoverlabel\": {\"namelength\": 0}, \"hovertemplate\": \"Country=Sweden<br>Date=%{x}<br>Recovered=%{text}\", \"legendgroup\": \"Sweden\", \"marker\": {\"color\": \"#FF97FF\"}, \"name\": \"Sweden\", \"offsetgroup\": \"Sweden\", \"orientation\": \"v\", \"showlegend\": true, \"text\": [0.0, 0.0, 0.0, 0.0, 0.0, 0.0, 0.0, 0.0, 0.0, 0.0, 0.0, 0.0, 0.0, 0.0, 0.0, 0.0, 0.0, 0.0], \"textposition\": \"auto\", \"type\": \"bar\", \"x\": [\"01/31/2020 19:00:00\", \"02/01/2020 23:00:00\", \"02/02/2020 21:00:00\", \"02/03/2020 21:40:00\", \"02/04/2020 22:00:00\", \"02/05/2020 12:20:00\", \"02/06/2020 20:05:00\", \"02/07/2020 20:24:00\", \"02/08/2020 23:04:00\", \"02/09/2020 23:20:00\", \"02/10/2020 19:30:00\", \"02/11/2020 20:44:00\", \"02/12/2020 22:00:00\", \"02/13/2020 21:15:00\", \"02/14/2020 22:00:00\", \"02/15/2020 22:00:00\", \"02/16/2020 22:00:00\", \"02/17/2020 22:00:00\"], \"xaxis\": \"x\", \"y\": [0.0, 0.0, 0.0, 0.0, 0.0, 0.0, 0.0, 0.0, 0.0, 0.0, 0.0, 0.0, 0.0, 0.0, 0.0, 0.0, 0.0, 0.0], \"yaxis\": \"y\"}, {\"alignmentgroup\": \"True\", \"hoverlabel\": {\"namelength\": 0}, \"hovertemplate\": \"Country=Russia<br>Date=%{x}<br>Recovered=%{text}\", \"legendgroup\": \"Russia\", \"marker\": {\"color\": \"#FECB52\"}, \"name\": \"Russia\", \"offsetgroup\": \"Russia\", \"orientation\": \"v\", \"showlegend\": true, \"text\": [0.0, 0.0, 0.0, 0.0, 0.0, 0.0, 0.0, 0.0, 0.0, 0.0, 0.0, 0.0, 2.0, 2.0, 2.0, 2.0, 2.0, 2.0], \"textposition\": \"auto\", \"type\": \"bar\", \"x\": [\"01/31/2020 19:00:00\", \"02/01/2020 23:00:00\", \"02/02/2020 21:00:00\", \"02/03/2020 21:40:00\", \"02/04/2020 22:00:00\", \"02/05/2020 12:20:00\", \"02/06/2020 20:05:00\", \"02/07/2020 20:24:00\", \"02/08/2020 23:04:00\", \"02/09/2020 23:20:00\", \"02/10/2020 19:30:00\", \"02/11/2020 20:44:00\", \"02/12/2020 22:00:00\", \"02/13/2020 21:15:00\", \"02/14/2020 22:00:00\", \"02/15/2020 22:00:00\", \"02/16/2020 22:00:00\", \"02/17/2020 22:00:00\"], \"xaxis\": \"x\", \"y\": [0.0, 0.0, 0.0, 0.0, 0.0, 0.0, 0.0, 0.0, 0.0, 0.0, 0.0, 0.0, 2.0, 2.0, 2.0, 2.0, 2.0, 2.0], \"yaxis\": \"y\"}, {\"alignmentgroup\": \"True\", \"hoverlabel\": {\"namelength\": 0}, \"hovertemplate\": \"Country=Belgium<br>Date=%{x}<br>Recovered=%{text}\", \"legendgroup\": \"Belgium\", \"marker\": {\"color\": \"#636efa\"}, \"name\": \"Belgium\", \"offsetgroup\": \"Belgium\", \"orientation\": \"v\", \"showlegend\": true, \"text\": [0.0, 0.0, 0.0, 0.0, 0.0, 0.0, 0.0, 0.0, 0.0, 0.0, 0.0, 0.0, 0.0, 1.0], \"textposition\": \"auto\", \"type\": \"bar\", \"x\": [\"02/04/2020 22:00:00\", \"02/05/2020 12:20:00\", \"02/06/2020 20:05:00\", \"02/07/2020 20:24:00\", \"02/08/2020 23:04:00\", \"02/09/2020 23:20:00\", \"02/10/2020 19:30:00\", \"02/11/2020 20:44:00\", \"02/12/2020 22:00:00\", \"02/13/2020 21:15:00\", \"02/14/2020 22:00:00\", \"02/15/2020 22:00:00\", \"02/16/2020 22:00:00\", \"02/17/2020 22:00:00\"], \"xaxis\": \"x\", \"y\": [0.0, 0.0, 0.0, 0.0, 0.0, 0.0, 0.0, 0.0, 0.0, 0.0, 0.0, 0.0, 0.0, 1.0], \"yaxis\": \"y\"}, {\"alignmentgroup\": \"True\", \"hoverlabel\": {\"namelength\": 0}, \"hovertemplate\": \"Country=Others<br>Date=%{x}<br>Recovered=%{text}\", \"legendgroup\": \"Others\", \"marker\": {\"color\": \"#EF553B\"}, \"name\": \"Others\", \"offsetgroup\": \"Others\", \"orientation\": \"v\", \"showlegend\": true, \"text\": [0.0, 0.0, 0.0, 0.0, 0.0, 0.0, 0.0, 0.0, 0.0, 0.0, 0.0], \"textposition\": \"auto\", \"type\": \"bar\", \"x\": [\"02/07/2020 20:24:00\", \"02/08/2020 23:04:00\", \"02/09/2020 23:20:00\", \"02/10/2020 19:30:00\", \"02/11/2020 20:44:00\", \"02/12/2020 22:00:00\", \"02/13/2020 21:15:00\", \"02/14/2020 22:00:00\", \"02/15/2020 22:00:00\", \"02/16/2020 22:00:00\", \"02/17/2020 22:00:00\"], \"xaxis\": \"x\", \"y\": [0.0, 0.0, 0.0, 0.0, 0.0, 0.0, 0.0, 0.0, 0.0, 0.0, 0.0], \"yaxis\": \"y\"}, {\"alignmentgroup\": \"True\", \"hoverlabel\": {\"namelength\": 0}, \"hovertemplate\": \"Country=Egypt<br>Date=%{x}<br>Recovered=%{text}\", \"legendgroup\": \"Egypt\", \"marker\": {\"color\": \"#00cc96\"}, \"name\": \"Egypt\", \"offsetgroup\": \"Egypt\", \"orientation\": \"v\", \"showlegend\": true, \"text\": [0.0, 0.0, 0.0, 0.0], \"textposition\": \"auto\", \"type\": \"bar\", \"x\": [\"02/14/2020 22:00:00\", \"02/15/2020 22:00:00\", \"02/16/2020 22:00:00\", \"02/17/2020 22:00:00\"], \"xaxis\": \"x\", \"y\": [0.0, 0.0, 0.0, 0.0], \"yaxis\": \"y\"}],\n",
       "                        {\"barmode\": \"relative\", \"height\": 600, \"legend\": {\"title\": {\"text\": \"Country\"}, \"tracegroupgap\": 0}, \"template\": {\"data\": {\"bar\": [{\"error_x\": {\"color\": \"#2a3f5f\"}, \"error_y\": {\"color\": \"#2a3f5f\"}, \"marker\": {\"line\": {\"color\": \"#E5ECF6\", \"width\": 0.5}}, \"type\": \"bar\"}], \"barpolar\": [{\"marker\": {\"line\": {\"color\": \"#E5ECF6\", \"width\": 0.5}}, \"type\": \"barpolar\"}], \"carpet\": [{\"aaxis\": {\"endlinecolor\": \"#2a3f5f\", \"gridcolor\": \"white\", \"linecolor\": \"white\", \"minorgridcolor\": \"white\", \"startlinecolor\": \"#2a3f5f\"}, \"baxis\": {\"endlinecolor\": \"#2a3f5f\", \"gridcolor\": \"white\", \"linecolor\": \"white\", \"minorgridcolor\": \"white\", \"startlinecolor\": \"#2a3f5f\"}, \"type\": \"carpet\"}], \"choropleth\": [{\"colorbar\": {\"outlinewidth\": 0, \"ticks\": \"\"}, \"type\": \"choropleth\"}], \"contour\": [{\"colorbar\": {\"outlinewidth\": 0, \"ticks\": \"\"}, \"colorscale\": [[0.0, \"#0d0887\"], [0.1111111111111111, \"#46039f\"], [0.2222222222222222, \"#7201a8\"], [0.3333333333333333, \"#9c179e\"], [0.4444444444444444, \"#bd3786\"], [0.5555555555555556, \"#d8576b\"], [0.6666666666666666, \"#ed7953\"], [0.7777777777777778, \"#fb9f3a\"], [0.8888888888888888, \"#fdca26\"], [1.0, \"#f0f921\"]], \"type\": \"contour\"}], \"contourcarpet\": [{\"colorbar\": {\"outlinewidth\": 0, \"ticks\": \"\"}, \"type\": \"contourcarpet\"}], \"heatmap\": [{\"colorbar\": {\"outlinewidth\": 0, \"ticks\": \"\"}, \"colorscale\": [[0.0, \"#0d0887\"], [0.1111111111111111, \"#46039f\"], [0.2222222222222222, \"#7201a8\"], [0.3333333333333333, \"#9c179e\"], [0.4444444444444444, \"#bd3786\"], [0.5555555555555556, \"#d8576b\"], [0.6666666666666666, \"#ed7953\"], [0.7777777777777778, \"#fb9f3a\"], [0.8888888888888888, \"#fdca26\"], [1.0, \"#f0f921\"]], \"type\": \"heatmap\"}], \"heatmapgl\": [{\"colorbar\": {\"outlinewidth\": 0, \"ticks\": \"\"}, \"colorscale\": [[0.0, \"#0d0887\"], [0.1111111111111111, \"#46039f\"], [0.2222222222222222, \"#7201a8\"], [0.3333333333333333, \"#9c179e\"], [0.4444444444444444, \"#bd3786\"], [0.5555555555555556, \"#d8576b\"], [0.6666666666666666, \"#ed7953\"], [0.7777777777777778, \"#fb9f3a\"], [0.8888888888888888, \"#fdca26\"], [1.0, \"#f0f921\"]], \"type\": \"heatmapgl\"}], \"histogram\": [{\"marker\": {\"colorbar\": {\"outlinewidth\": 0, \"ticks\": \"\"}}, \"type\": \"histogram\"}], \"histogram2d\": [{\"colorbar\": {\"outlinewidth\": 0, \"ticks\": \"\"}, \"colorscale\": [[0.0, \"#0d0887\"], [0.1111111111111111, \"#46039f\"], [0.2222222222222222, \"#7201a8\"], [0.3333333333333333, \"#9c179e\"], [0.4444444444444444, \"#bd3786\"], [0.5555555555555556, \"#d8576b\"], [0.6666666666666666, \"#ed7953\"], [0.7777777777777778, \"#fb9f3a\"], [0.8888888888888888, \"#fdca26\"], [1.0, \"#f0f921\"]], \"type\": \"histogram2d\"}], \"histogram2dcontour\": [{\"colorbar\": {\"outlinewidth\": 0, \"ticks\": \"\"}, \"colorscale\": [[0.0, \"#0d0887\"], [0.1111111111111111, \"#46039f\"], [0.2222222222222222, \"#7201a8\"], [0.3333333333333333, \"#9c179e\"], [0.4444444444444444, \"#bd3786\"], [0.5555555555555556, \"#d8576b\"], [0.6666666666666666, \"#ed7953\"], [0.7777777777777778, \"#fb9f3a\"], [0.8888888888888888, \"#fdca26\"], [1.0, \"#f0f921\"]], \"type\": \"histogram2dcontour\"}], \"mesh3d\": [{\"colorbar\": {\"outlinewidth\": 0, \"ticks\": \"\"}, \"type\": \"mesh3d\"}], \"parcoords\": [{\"line\": {\"colorbar\": {\"outlinewidth\": 0, \"ticks\": \"\"}}, \"type\": \"parcoords\"}], \"pie\": [{\"automargin\": true, \"type\": \"pie\"}], \"scatter\": [{\"marker\": {\"colorbar\": {\"outlinewidth\": 0, \"ticks\": \"\"}}, \"type\": \"scatter\"}], \"scatter3d\": [{\"line\": {\"colorbar\": {\"outlinewidth\": 0, \"ticks\": \"\"}}, \"marker\": {\"colorbar\": {\"outlinewidth\": 0, \"ticks\": \"\"}}, \"type\": \"scatter3d\"}], \"scattercarpet\": [{\"marker\": {\"colorbar\": {\"outlinewidth\": 0, \"ticks\": \"\"}}, \"type\": \"scattercarpet\"}], \"scattergeo\": [{\"marker\": {\"colorbar\": {\"outlinewidth\": 0, \"ticks\": \"\"}}, \"type\": \"scattergeo\"}], \"scattergl\": [{\"marker\": {\"colorbar\": {\"outlinewidth\": 0, \"ticks\": \"\"}}, \"type\": \"scattergl\"}], \"scattermapbox\": [{\"marker\": {\"colorbar\": {\"outlinewidth\": 0, \"ticks\": \"\"}}, \"type\": \"scattermapbox\"}], \"scatterpolar\": [{\"marker\": {\"colorbar\": {\"outlinewidth\": 0, \"ticks\": \"\"}}, \"type\": \"scatterpolar\"}], \"scatterpolargl\": [{\"marker\": {\"colorbar\": {\"outlinewidth\": 0, \"ticks\": \"\"}}, \"type\": \"scatterpolargl\"}], \"scatterternary\": [{\"marker\": {\"colorbar\": {\"outlinewidth\": 0, \"ticks\": \"\"}}, \"type\": \"scatterternary\"}], \"surface\": [{\"colorbar\": {\"outlinewidth\": 0, \"ticks\": \"\"}, \"colorscale\": [[0.0, \"#0d0887\"], [0.1111111111111111, \"#46039f\"], [0.2222222222222222, \"#7201a8\"], [0.3333333333333333, \"#9c179e\"], [0.4444444444444444, \"#bd3786\"], [0.5555555555555556, \"#d8576b\"], [0.6666666666666666, \"#ed7953\"], [0.7777777777777778, \"#fb9f3a\"], [0.8888888888888888, \"#fdca26\"], [1.0, \"#f0f921\"]], \"type\": \"surface\"}], \"table\": [{\"cells\": {\"fill\": {\"color\": \"#EBF0F8\"}, \"line\": {\"color\": \"white\"}}, \"header\": {\"fill\": {\"color\": \"#C8D4E3\"}, \"line\": {\"color\": \"white\"}}, \"type\": \"table\"}]}, \"layout\": {\"annotationdefaults\": {\"arrowcolor\": \"#2a3f5f\", \"arrowhead\": 0, \"arrowwidth\": 1}, \"coloraxis\": {\"colorbar\": {\"outlinewidth\": 0, \"ticks\": \"\"}}, \"colorscale\": {\"diverging\": [[0, \"#8e0152\"], [0.1, \"#c51b7d\"], [0.2, \"#de77ae\"], [0.3, \"#f1b6da\"], [0.4, \"#fde0ef\"], [0.5, \"#f7f7f7\"], [0.6, \"#e6f5d0\"], [0.7, \"#b8e186\"], [0.8, \"#7fbc41\"], [0.9, \"#4d9221\"], [1, \"#276419\"]], \"sequential\": [[0.0, \"#0d0887\"], [0.1111111111111111, \"#46039f\"], [0.2222222222222222, \"#7201a8\"], [0.3333333333333333, \"#9c179e\"], [0.4444444444444444, \"#bd3786\"], [0.5555555555555556, \"#d8576b\"], [0.6666666666666666, \"#ed7953\"], [0.7777777777777778, \"#fb9f3a\"], [0.8888888888888888, \"#fdca26\"], [1.0, \"#f0f921\"]], \"sequentialminus\": [[0.0, \"#0d0887\"], [0.1111111111111111, \"#46039f\"], [0.2222222222222222, \"#7201a8\"], [0.3333333333333333, \"#9c179e\"], [0.4444444444444444, \"#bd3786\"], [0.5555555555555556, \"#d8576b\"], [0.6666666666666666, \"#ed7953\"], [0.7777777777777778, \"#fb9f3a\"], [0.8888888888888888, \"#fdca26\"], [1.0, \"#f0f921\"]]}, \"colorway\": [\"#636efa\", \"#EF553B\", \"#00cc96\", \"#ab63fa\", \"#FFA15A\", \"#19d3f3\", \"#FF6692\", \"#B6E880\", \"#FF97FF\", \"#FECB52\"], \"font\": {\"color\": \"#2a3f5f\"}, \"geo\": {\"bgcolor\": \"white\", \"lakecolor\": \"white\", \"landcolor\": \"#E5ECF6\", \"showlakes\": true, \"showland\": true, \"subunitcolor\": \"white\"}, \"hoverlabel\": {\"align\": \"left\"}, \"hovermode\": \"closest\", \"mapbox\": {\"style\": \"light\"}, \"paper_bgcolor\": \"white\", \"plot_bgcolor\": \"#E5ECF6\", \"polar\": {\"angularaxis\": {\"gridcolor\": \"white\", \"linecolor\": \"white\", \"ticks\": \"\"}, \"bgcolor\": \"#E5ECF6\", \"radialaxis\": {\"gridcolor\": \"white\", \"linecolor\": \"white\", \"ticks\": \"\"}}, \"scene\": {\"xaxis\": {\"backgroundcolor\": \"#E5ECF6\", \"gridcolor\": \"white\", \"gridwidth\": 2, \"linecolor\": \"white\", \"showbackground\": true, \"ticks\": \"\", \"zerolinecolor\": \"white\"}, \"yaxis\": {\"backgroundcolor\": \"#E5ECF6\", \"gridcolor\": \"white\", \"gridwidth\": 2, \"linecolor\": \"white\", \"showbackground\": true, \"ticks\": \"\", \"zerolinecolor\": \"white\"}, \"zaxis\": {\"backgroundcolor\": \"#E5ECF6\", \"gridcolor\": \"white\", \"gridwidth\": 2, \"linecolor\": \"white\", \"showbackground\": true, \"ticks\": \"\", \"zerolinecolor\": \"white\"}}, \"shapedefaults\": {\"line\": {\"color\": \"#2a3f5f\"}}, \"ternary\": {\"aaxis\": {\"gridcolor\": \"white\", \"linecolor\": \"white\", \"ticks\": \"\"}, \"baxis\": {\"gridcolor\": \"white\", \"linecolor\": \"white\", \"ticks\": \"\"}, \"bgcolor\": \"#E5ECF6\", \"caxis\": {\"gridcolor\": \"white\", \"linecolor\": \"white\", \"ticks\": \"\"}}, \"title\": {\"x\": 0.05}, \"xaxis\": {\"automargin\": true, \"gridcolor\": \"white\", \"linecolor\": \"white\", \"ticks\": \"\", \"title\": {\"standoff\": 15}, \"zerolinecolor\": \"white\", \"zerolinewidth\": 2}, \"yaxis\": {\"automargin\": true, \"gridcolor\": \"white\", \"linecolor\": \"white\", \"ticks\": \"\", \"title\": {\"standoff\": 15}, \"zerolinecolor\": \"white\", \"zerolinewidth\": 2}}}, \"title\": {\"text\": \"Recovered\"}, \"xaxis\": {\"anchor\": \"y\", \"domain\": [0.0, 1.0], \"title\": {\"text\": \"Date\"}}, \"yaxis\": {\"anchor\": \"x\", \"domain\": [0.0, 1.0], \"title\": {\"text\": \"Recovered\"}}},\n",
       "                        {\"responsive\": true}\n",
       "                    ).then(function(){\n",
       "                            \n",
       "var gd = document.getElementById('53cf578c-fe0d-4572-a461-75641ef9463a');\n",
       "var x = new MutationObserver(function (mutations, observer) {{\n",
       "        var display = window.getComputedStyle(gd).display;\n",
       "        if (!display || display === 'none') {{\n",
       "            console.log([gd, 'removed!']);\n",
       "            Plotly.purge(gd);\n",
       "            observer.disconnect();\n",
       "        }}\n",
       "}});\n",
       "\n",
       "// Listen for the removal of the full notebook cells\n",
       "var notebookContainer = gd.closest('#notebook-container');\n",
       "if (notebookContainer) {{\n",
       "    x.observe(notebookContainer, {childList: true});\n",
       "}}\n",
       "\n",
       "// Listen for the clearing of the current output cell\n",
       "var outputEl = gd.closest('.output');\n",
       "if (outputEl) {{\n",
       "    x.observe(outputEl, {childList: true});\n",
       "}}\n",
       "\n",
       "                        })\n",
       "                };\n",
       "                });\n",
       "            </script>\n",
       "        </div>"
      ]
     },
     "metadata": {},
     "output_type": "display_data"
    }
   ],
   "source": [
    "fig = px.bar(bar_data, x=\"Date\", y=\"Recovered\", color='Country', text = 'Recovered', orientation='v', height=600,\n",
    "             title='Recovered')\n",
    "fig.show()"
   ]
  },
  {
   "cell_type": "markdown",
   "metadata": {},
   "source": [
    "## From the plots above we can see China is dominating so for meaningful insights lets do a separate plot for China and other countries"
   ]
  },
  {
   "cell_type": "code",
   "execution_count": 73,
   "metadata": {},
   "outputs": [],
   "source": [
    "countries_no_china = data2[data2['Country'] != 'China']"
   ]
  },
  {
   "cell_type": "code",
   "execution_count": 77,
   "metadata": {},
   "outputs": [],
   "source": [
    "bar_data1 = countries_no_china.groupby(['Country', 'Date'])['Confirmed', 'Deaths', 'Recovered'].sum().reset_index().sort_values('Date', ascending=True)"
   ]
  },
  {
   "cell_type": "code",
   "execution_count": 78,
   "metadata": {},
   "outputs": [
    {
     "data": {
      "application/vnd.plotly.v1+json": {
       "config": {
        "plotlyServerURL": "https://plot.ly"
       },
       "data": [
        {
         "alignmentgroup": "True",
         "hoverlabel": {
          "namelength": 0
         },
         "hovertemplate": "Country=Japan<br>Date=%{x}<br>Confirmed=%{text}",
         "legendgroup": "Japan",
         "marker": {
          "color": "#636efa"
         },
         "name": "Japan",
         "offsetgroup": "Japan",
         "orientation": "v",
         "showlegend": true,
         "text": [
          2,
          1,
          2,
          2,
          4,
          4,
          7,
          11,
          11,
          17,
          20,
          20,
          20,
          22,
          22,
          45,
          25,
          25,
          26,
          26,
          26,
          28,
          28,
          29,
          43,
          59,
          66
         ],
         "textposition": "auto",
         "type": "bar",
         "x": [
          "01/22/2020 12:00:00",
          "01/23/2020 12:00:00",
          "01/24/2020 12:00:00",
          "01/25/2020 22:00:00",
          "01/26/2020 23:00:00",
          "01/27/2020 20:30:00",
          "01/28/2020 23:00:00",
          "01/29/2020 21:00:00",
          "01/30/2020 21:30:00",
          "01/31/2020 19:00:00",
          "02/01/2020 23:00:00",
          "02/02/2020 21:00:00",
          "02/03/2020 21:40:00",
          "02/04/2020 22:00:00",
          "02/05/2020 12:20:00",
          "02/06/2020 20:05:00",
          "02/07/2020 20:24:00",
          "02/08/2020 23:04:00",
          "02/09/2020 23:20:00",
          "02/10/2020 19:30:00",
          "02/11/2020 20:44:00",
          "02/12/2020 22:00:00",
          "02/13/2020 21:15:00",
          "02/14/2020 22:00:00",
          "02/15/2020 22:00:00",
          "02/16/2020 22:00:00",
          "02/17/2020 22:00:00"
         ],
         "xaxis": "x",
         "y": [
          2,
          1,
          2,
          2,
          4,
          4,
          7,
          11,
          11,
          17,
          20,
          20,
          20,
          22,
          22,
          45,
          25,
          25,
          26,
          26,
          26,
          28,
          28,
          29,
          43,
          59,
          66
         ],
         "yaxis": "y"
        },
        {
         "alignmentgroup": "True",
         "hoverlabel": {
          "namelength": 0
         },
         "hovertemplate": "Country=US<br>Date=%{x}<br>Confirmed=%{text}",
         "legendgroup": "US",
         "marker": {
          "color": "#EF553B"
         },
         "name": "US",
         "offsetgroup": "US",
         "orientation": "v",
         "showlegend": true,
         "text": [
          1,
          1,
          2,
          2,
          5,
          5,
          5,
          5,
          6,
          7,
          8,
          9,
          11,
          11,
          11,
          12,
          12,
          12,
          12,
          12,
          13,
          13,
          15,
          15,
          15,
          15,
          15
         ],
         "textposition": "auto",
         "type": "bar",
         "x": [
          "01/22/2020 12:00:00",
          "01/23/2020 12:00:00",
          "01/24/2020 12:00:00",
          "01/25/2020 22:00:00",
          "01/26/2020 23:00:00",
          "01/27/2020 20:30:00",
          "01/28/2020 23:00:00",
          "01/29/2020 21:00:00",
          "01/30/2020 21:30:00",
          "01/31/2020 19:00:00",
          "02/01/2020 23:00:00",
          "02/02/2020 21:00:00",
          "02/03/2020 21:40:00",
          "02/04/2020 22:00:00",
          "02/05/2020 12:20:00",
          "02/06/2020 20:05:00",
          "02/07/2020 20:24:00",
          "02/08/2020 23:04:00",
          "02/09/2020 23:20:00",
          "02/10/2020 19:30:00",
          "02/11/2020 20:44:00",
          "02/12/2020 22:00:00",
          "02/13/2020 21:15:00",
          "02/14/2020 22:00:00",
          "02/15/2020 22:00:00",
          "02/16/2020 22:00:00",
          "02/17/2020 22:00:00"
         ],
         "xaxis": "x",
         "y": [
          1,
          1,
          2,
          2,
          5,
          5,
          5,
          5,
          6,
          7,
          8,
          9,
          11,
          11,
          11,
          12,
          12,
          12,
          12,
          12,
          13,
          13,
          15,
          15,
          15,
          15,
          15
         ],
         "yaxis": "y"
        },
        {
         "alignmentgroup": "True",
         "hoverlabel": {
          "namelength": 0
         },
         "hovertemplate": "Country=South Korea<br>Date=%{x}<br>Confirmed=%{text}",
         "legendgroup": "South Korea",
         "marker": {
          "color": "#00cc96"
         },
         "name": "South Korea",
         "offsetgroup": "South Korea",
         "orientation": "v",
         "showlegend": true,
         "text": [
          1,
          1,
          2,
          3,
          3,
          4,
          4,
          4,
          6,
          11,
          15,
          15,
          15,
          16,
          19,
          23,
          24,
          25,
          27,
          27,
          28,
          28,
          28,
          28,
          28,
          29,
          30
         ],
         "textposition": "auto",
         "type": "bar",
         "x": [
          "01/22/2020 12:00:00",
          "01/23/2020 12:00:00",
          "01/24/2020 12:00:00",
          "01/25/2020 22:00:00",
          "01/26/2020 23:00:00",
          "01/27/2020 20:30:00",
          "01/28/2020 23:00:00",
          "01/29/2020 21:00:00",
          "01/30/2020 21:30:00",
          "01/31/2020 19:00:00",
          "02/01/2020 23:00:00",
          "02/02/2020 21:00:00",
          "02/03/2020 21:40:00",
          "02/04/2020 22:00:00",
          "02/05/2020 12:20:00",
          "02/06/2020 20:05:00",
          "02/07/2020 20:24:00",
          "02/08/2020 23:04:00",
          "02/09/2020 23:20:00",
          "02/10/2020 19:30:00",
          "02/11/2020 20:44:00",
          "02/12/2020 22:00:00",
          "02/13/2020 21:15:00",
          "02/14/2020 22:00:00",
          "02/15/2020 22:00:00",
          "02/16/2020 22:00:00",
          "02/17/2020 22:00:00"
         ],
         "xaxis": "x",
         "y": [
          1,
          1,
          2,
          3,
          3,
          4,
          4,
          4,
          6,
          11,
          15,
          15,
          15,
          16,
          19,
          23,
          24,
          25,
          27,
          27,
          28,
          28,
          28,
          28,
          28,
          29,
          30
         ],
         "yaxis": "y"
        },
        {
         "alignmentgroup": "True",
         "hoverlabel": {
          "namelength": 0
         },
         "hovertemplate": "Country=Thailand<br>Date=%{x}<br>Confirmed=%{text}",
         "legendgroup": "Thailand",
         "marker": {
          "color": "#ab63fa"
         },
         "name": "Thailand",
         "offsetgroup": "Thailand",
         "orientation": "v",
         "showlegend": true,
         "text": [
          2,
          3,
          5,
          7,
          8,
          8,
          14,
          14,
          14,
          19,
          19,
          19,
          19,
          25,
          25,
          25,
          25,
          32,
          32,
          32,
          33,
          33,
          33,
          33,
          33,
          34,
          35
         ],
         "textposition": "auto",
         "type": "bar",
         "x": [
          "01/22/2020 12:00:00",
          "01/23/2020 12:00:00",
          "01/24/2020 12:00:00",
          "01/25/2020 22:00:00",
          "01/26/2020 23:00:00",
          "01/27/2020 20:30:00",
          "01/28/2020 23:00:00",
          "01/29/2020 21:00:00",
          "01/30/2020 21:30:00",
          "01/31/2020 19:00:00",
          "02/01/2020 23:00:00",
          "02/02/2020 21:00:00",
          "02/03/2020 21:40:00",
          "02/04/2020 22:00:00",
          "02/05/2020 12:20:00",
          "02/06/2020 20:05:00",
          "02/07/2020 20:24:00",
          "02/08/2020 23:04:00",
          "02/09/2020 23:20:00",
          "02/10/2020 19:30:00",
          "02/11/2020 20:44:00",
          "02/12/2020 22:00:00",
          "02/13/2020 21:15:00",
          "02/14/2020 22:00:00",
          "02/15/2020 22:00:00",
          "02/16/2020 22:00:00",
          "02/17/2020 22:00:00"
         ],
         "xaxis": "x",
         "y": [
          2,
          3,
          5,
          7,
          8,
          8,
          14,
          14,
          14,
          19,
          19,
          19,
          19,
          25,
          25,
          25,
          25,
          32,
          32,
          32,
          33,
          33,
          33,
          33,
          33,
          34,
          35
         ],
         "yaxis": "y"
        },
        {
         "alignmentgroup": "True",
         "hoverlabel": {
          "namelength": 0
         },
         "hovertemplate": "Country=Hong Kong<br>Date=%{x}<br>Confirmed=%{text}",
         "legendgroup": "Hong Kong",
         "marker": {
          "color": "#FFA15A"
         },
         "name": "Hong Kong",
         "offsetgroup": "Hong Kong",
         "orientation": "v",
         "showlegend": true,
         "text": [
          2,
          2,
          5,
          8,
          8,
          8,
          10,
          12,
          13,
          14,
          15,
          15,
          18,
          21,
          24,
          25,
          26,
          36,
          38,
          49,
          50,
          53,
          56,
          56,
          57,
          60
         ],
         "textposition": "auto",
         "type": "bar",
         "x": [
          "01/23/2020 12:00:00",
          "01/24/2020 12:00:00",
          "01/25/2020 22:00:00",
          "01/26/2020 23:00:00",
          "01/27/2020 20:30:00",
          "01/28/2020 23:00:00",
          "01/29/2020 21:00:00",
          "01/30/2020 21:30:00",
          "01/31/2020 19:00:00",
          "02/01/2020 23:00:00",
          "02/02/2020 21:00:00",
          "02/03/2020 21:40:00",
          "02/04/2020 22:00:00",
          "02/05/2020 12:20:00",
          "02/06/2020 20:05:00",
          "02/07/2020 20:24:00",
          "02/08/2020 23:04:00",
          "02/09/2020 23:20:00",
          "02/10/2020 19:30:00",
          "02/11/2020 20:44:00",
          "02/12/2020 22:00:00",
          "02/13/2020 21:15:00",
          "02/14/2020 22:00:00",
          "02/15/2020 22:00:00",
          "02/16/2020 22:00:00",
          "02/17/2020 22:00:00"
         ],
         "xaxis": "x",
         "y": [
          2,
          2,
          5,
          8,
          8,
          8,
          10,
          12,
          13,
          14,
          15,
          15,
          18,
          21,
          24,
          25,
          26,
          36,
          38,
          49,
          50,
          53,
          56,
          56,
          57,
          60
         ],
         "yaxis": "y"
        },
        {
         "alignmentgroup": "True",
         "hoverlabel": {
          "namelength": 0
         },
         "hovertemplate": "Country=Taiwan<br>Date=%{x}<br>Confirmed=%{text}",
         "legendgroup": "Taiwan",
         "marker": {
          "color": "#19d3f3"
         },
         "name": "Taiwan",
         "offsetgroup": "Taiwan",
         "orientation": "v",
         "showlegend": true,
         "text": [
          1,
          3,
          3,
          4,
          5,
          8,
          8,
          9,
          10,
          10,
          10,
          10,
          11,
          11,
          16,
          16,
          17,
          18,
          18,
          18,
          18,
          18,
          18,
          18,
          20,
          22
         ],
         "textposition": "auto",
         "type": "bar",
         "x": [
          "01/23/2020 12:00:00",
          "01/24/2020 12:00:00",
          "01/25/2020 22:00:00",
          "01/26/2020 23:00:00",
          "01/27/2020 20:30:00",
          "01/28/2020 23:00:00",
          "01/29/2020 21:00:00",
          "01/30/2020 21:30:00",
          "01/31/2020 19:00:00",
          "02/01/2020 23:00:00",
          "02/02/2020 21:00:00",
          "02/03/2020 21:40:00",
          "02/04/2020 22:00:00",
          "02/05/2020 12:20:00",
          "02/06/2020 20:05:00",
          "02/07/2020 20:24:00",
          "02/08/2020 23:04:00",
          "02/09/2020 23:20:00",
          "02/10/2020 19:30:00",
          "02/11/2020 20:44:00",
          "02/12/2020 22:00:00",
          "02/13/2020 21:15:00",
          "02/14/2020 22:00:00",
          "02/15/2020 22:00:00",
          "02/16/2020 22:00:00",
          "02/17/2020 22:00:00"
         ],
         "xaxis": "x",
         "y": [
          1,
          3,
          3,
          4,
          5,
          8,
          8,
          9,
          10,
          10,
          10,
          10,
          11,
          11,
          16,
          16,
          17,
          18,
          18,
          18,
          18,
          18,
          18,
          18,
          20,
          22
         ],
         "yaxis": "y"
        },
        {
         "alignmentgroup": "True",
         "hoverlabel": {
          "namelength": 0
         },
         "hovertemplate": "Country=Australia<br>Date=%{x}<br>Confirmed=%{text}",
         "legendgroup": "Australia",
         "marker": {
          "color": "#FF6692"
         },
         "name": "Australia",
         "offsetgroup": "Australia",
         "orientation": "v",
         "showlegend": true,
         "text": [
          0,
          4,
          4,
          5,
          5,
          7,
          9,
          9,
          12,
          12,
          12,
          13,
          13,
          14,
          15,
          15,
          15,
          15,
          15,
          15,
          15,
          15,
          15,
          15,
          15
         ],
         "textposition": "auto",
         "type": "bar",
         "x": [
          "01/23/2020 12:00:00",
          "01/25/2020 22:00:00",
          "01/26/2020 23:00:00",
          "01/27/2020 20:30:00",
          "01/28/2020 23:00:00",
          "01/29/2020 21:00:00",
          "01/30/2020 21:30:00",
          "01/31/2020 19:00:00",
          "02/01/2020 23:00:00",
          "02/02/2020 21:00:00",
          "02/03/2020 21:40:00",
          "02/04/2020 22:00:00",
          "02/05/2020 12:20:00",
          "02/06/2020 20:05:00",
          "02/07/2020 20:24:00",
          "02/08/2020 23:04:00",
          "02/09/2020 23:20:00",
          "02/10/2020 19:30:00",
          "02/11/2020 20:44:00",
          "02/12/2020 22:00:00",
          "02/13/2020 21:15:00",
          "02/14/2020 22:00:00",
          "02/15/2020 22:00:00",
          "02/16/2020 22:00:00",
          "02/17/2020 22:00:00"
         ],
         "xaxis": "x",
         "y": [
          0,
          4,
          4,
          5,
          5,
          7,
          9,
          9,
          12,
          12,
          12,
          13,
          13,
          14,
          15,
          15,
          15,
          15,
          15,
          15,
          15,
          15,
          15,
          15,
          15
         ],
         "yaxis": "y"
        },
        {
         "alignmentgroup": "True",
         "hoverlabel": {
          "namelength": 0
         },
         "hovertemplate": "Country=Macau<br>Date=%{x}<br>Confirmed=%{text}",
         "legendgroup": "Macau",
         "marker": {
          "color": "#B6E880"
         },
         "name": "Macau",
         "offsetgroup": "Macau",
         "orientation": "v",
         "showlegend": true,
         "text": [
          2,
          2,
          2,
          6,
          6,
          7,
          7,
          7,
          7,
          7,
          8,
          8,
          10,
          10,
          10,
          10,
          10,
          10,
          10,
          10,
          10,
          10,
          10,
          10,
          10,
          10
         ],
         "textposition": "auto",
         "type": "bar",
         "x": [
          "01/23/2020 12:00:00",
          "01/24/2020 12:00:00",
          "01/25/2020 22:00:00",
          "01/26/2020 23:00:00",
          "01/27/2020 20:30:00",
          "01/28/2020 23:00:00",
          "01/29/2020 21:00:00",
          "01/30/2020 21:30:00",
          "01/31/2020 19:00:00",
          "02/01/2020 23:00:00",
          "02/02/2020 21:00:00",
          "02/03/2020 21:40:00",
          "02/04/2020 22:00:00",
          "02/05/2020 12:20:00",
          "02/06/2020 20:05:00",
          "02/07/2020 20:24:00",
          "02/08/2020 23:04:00",
          "02/09/2020 23:20:00",
          "02/10/2020 19:30:00",
          "02/11/2020 20:44:00",
          "02/12/2020 22:00:00",
          "02/13/2020 21:15:00",
          "02/14/2020 22:00:00",
          "02/15/2020 22:00:00",
          "02/16/2020 22:00:00",
          "02/17/2020 22:00:00"
         ],
         "xaxis": "x",
         "y": [
          2,
          2,
          2,
          6,
          6,
          7,
          7,
          7,
          7,
          7,
          8,
          8,
          10,
          10,
          10,
          10,
          10,
          10,
          10,
          10,
          10,
          10,
          10,
          10,
          10,
          10
         ],
         "yaxis": "y"
        },
        {
         "alignmentgroup": "True",
         "hoverlabel": {
          "namelength": 0
         },
         "hovertemplate": "Country=Malaysia<br>Date=%{x}<br>Confirmed=%{text}",
         "legendgroup": "Malaysia",
         "marker": {
          "color": "#FF97FF"
         },
         "name": "Malaysia",
         "offsetgroup": "Malaysia",
         "orientation": "v",
         "showlegend": true,
         "text": [
          0,
          3,
          4,
          4,
          7,
          7,
          8,
          8,
          8,
          8,
          8,
          10,
          12,
          12,
          12,
          16,
          18,
          18,
          18,
          18,
          19,
          19,
          22,
          22,
          22
         ],
         "textposition": "auto",
         "type": "bar",
         "x": [
          "01/23/2020 12:00:00",
          "01/25/2020 22:00:00",
          "01/26/2020 23:00:00",
          "01/27/2020 20:30:00",
          "01/28/2020 23:00:00",
          "01/29/2020 21:00:00",
          "01/30/2020 21:30:00",
          "01/31/2020 19:00:00",
          "02/01/2020 23:00:00",
          "02/02/2020 21:00:00",
          "02/03/2020 21:40:00",
          "02/04/2020 22:00:00",
          "02/05/2020 12:20:00",
          "02/06/2020 20:05:00",
          "02/07/2020 20:24:00",
          "02/08/2020 23:04:00",
          "02/09/2020 23:20:00",
          "02/10/2020 19:30:00",
          "02/11/2020 20:44:00",
          "02/12/2020 22:00:00",
          "02/13/2020 21:15:00",
          "02/14/2020 22:00:00",
          "02/15/2020 22:00:00",
          "02/16/2020 22:00:00",
          "02/17/2020 22:00:00"
         ],
         "xaxis": "x",
         "y": [
          0,
          3,
          4,
          4,
          7,
          7,
          8,
          8,
          8,
          8,
          8,
          10,
          12,
          12,
          12,
          16,
          18,
          18,
          18,
          18,
          19,
          19,
          22,
          22,
          22
         ],
         "yaxis": "y"
        },
        {
         "alignmentgroup": "True",
         "hoverlabel": {
          "namelength": 0
         },
         "hovertemplate": "Country=Singapore<br>Date=%{x}<br>Confirmed=%{text}",
         "legendgroup": "Singapore",
         "marker": {
          "color": "#FECB52"
         },
         "name": "Singapore",
         "offsetgroup": "Singapore",
         "orientation": "v",
         "showlegend": true,
         "text": [
          1,
          3,
          3,
          4,
          5,
          7,
          10,
          10,
          16,
          18,
          18,
          18,
          24,
          28,
          28,
          30,
          40,
          43,
          45,
          47,
          50,
          58,
          67,
          72,
          75,
          77
         ],
         "textposition": "auto",
         "type": "bar",
         "x": [
          "01/23/2020 12:00:00",
          "01/24/2020 12:00:00",
          "01/25/2020 22:00:00",
          "01/26/2020 23:00:00",
          "01/27/2020 20:30:00",
          "01/28/2020 23:00:00",
          "01/29/2020 21:00:00",
          "01/30/2020 21:30:00",
          "01/31/2020 19:00:00",
          "02/01/2020 23:00:00",
          "02/02/2020 21:00:00",
          "02/03/2020 21:40:00",
          "02/04/2020 22:00:00",
          "02/05/2020 12:20:00",
          "02/06/2020 20:05:00",
          "02/07/2020 20:24:00",
          "02/08/2020 23:04:00",
          "02/09/2020 23:20:00",
          "02/10/2020 19:30:00",
          "02/11/2020 20:44:00",
          "02/12/2020 22:00:00",
          "02/13/2020 21:15:00",
          "02/14/2020 22:00:00",
          "02/15/2020 22:00:00",
          "02/16/2020 22:00:00",
          "02/17/2020 22:00:00"
         ],
         "xaxis": "x",
         "y": [
          1,
          3,
          3,
          4,
          5,
          7,
          10,
          10,
          16,
          18,
          18,
          18,
          24,
          28,
          28,
          30,
          40,
          43,
          45,
          47,
          50,
          58,
          67,
          72,
          75,
          77
         ],
         "yaxis": "y"
        },
        {
         "alignmentgroup": "True",
         "hoverlabel": {
          "namelength": 0
         },
         "hovertemplate": "Country=Mexico<br>Date=%{x}<br>Confirmed=%{text}",
         "legendgroup": "Mexico",
         "marker": {
          "color": "#636efa"
         },
         "name": "Mexico",
         "offsetgroup": "Mexico",
         "orientation": "v",
         "showlegend": true,
         "text": [
          0
         ],
         "textposition": "auto",
         "type": "bar",
         "x": [
          "01/23/2020 12:00:00"
         ],
         "xaxis": "x",
         "y": [
          0
         ],
         "yaxis": "y"
        },
        {
         "alignmentgroup": "True",
         "hoverlabel": {
          "namelength": 0
         },
         "hovertemplate": "Country=Brazil<br>Date=%{x}<br>Confirmed=%{text}",
         "legendgroup": "Brazil",
         "marker": {
          "color": "#EF553B"
         },
         "name": "Brazil",
         "offsetgroup": "Brazil",
         "orientation": "v",
         "showlegend": true,
         "text": [
          0
         ],
         "textposition": "auto",
         "type": "bar",
         "x": [
          "01/23/2020 12:00:00"
         ],
         "xaxis": "x",
         "y": [
          0
         ],
         "yaxis": "y"
        },
        {
         "alignmentgroup": "True",
         "hoverlabel": {
          "namelength": 0
         },
         "hovertemplate": "Country=Vietnam<br>Date=%{x}<br>Confirmed=%{text}",
         "legendgroup": "Vietnam",
         "marker": {
          "color": "#00cc96"
         },
         "name": "Vietnam",
         "offsetgroup": "Vietnam",
         "orientation": "v",
         "showlegend": true,
         "text": [
          2,
          2,
          2,
          2,
          2,
          2,
          2,
          2,
          2,
          6,
          6,
          8,
          8,
          8,
          10,
          10,
          13,
          14,
          14,
          15,
          15,
          16,
          16,
          16,
          16,
          16
         ],
         "textposition": "auto",
         "type": "bar",
         "x": [
          "01/23/2020 12:00:00",
          "01/24/2020 12:00:00",
          "01/25/2020 22:00:00",
          "01/26/2020 23:00:00",
          "01/27/2020 20:30:00",
          "01/28/2020 23:00:00",
          "01/29/2020 21:00:00",
          "01/30/2020 21:30:00",
          "01/31/2020 19:00:00",
          "02/01/2020 23:00:00",
          "02/02/2020 21:00:00",
          "02/03/2020 21:40:00",
          "02/04/2020 22:00:00",
          "02/05/2020 12:20:00",
          "02/06/2020 20:05:00",
          "02/07/2020 20:24:00",
          "02/08/2020 23:04:00",
          "02/09/2020 23:20:00",
          "02/10/2020 19:30:00",
          "02/11/2020 20:44:00",
          "02/12/2020 22:00:00",
          "02/13/2020 21:15:00",
          "02/14/2020 22:00:00",
          "02/15/2020 22:00:00",
          "02/16/2020 22:00:00",
          "02/17/2020 22:00:00"
         ],
         "xaxis": "x",
         "y": [
          2,
          2,
          2,
          2,
          2,
          2,
          2,
          2,
          2,
          6,
          6,
          8,
          8,
          8,
          10,
          10,
          13,
          14,
          14,
          15,
          15,
          16,
          16,
          16,
          16,
          16
         ],
         "yaxis": "y"
        },
        {
         "alignmentgroup": "True",
         "hoverlabel": {
          "namelength": 0
         },
         "hovertemplate": "Country=Philippines<br>Date=%{x}<br>Confirmed=%{text}",
         "legendgroup": "Philippines",
         "marker": {
          "color": "#ab63fa"
         },
         "name": "Philippines",
         "offsetgroup": "Philippines",
         "orientation": "v",
         "showlegend": true,
         "text": [
          0,
          1,
          1,
          2,
          2,
          2,
          2,
          2,
          2,
          3,
          3,
          3,
          3,
          3,
          3,
          3,
          3,
          3,
          3,
          3
         ],
         "textposition": "auto",
         "type": "bar",
         "x": [
          "01/23/2020 12:00:00",
          "01/30/2020 21:30:00",
          "01/31/2020 19:00:00",
          "02/01/2020 23:00:00",
          "02/02/2020 21:00:00",
          "02/03/2020 21:40:00",
          "02/04/2020 22:00:00",
          "02/05/2020 12:20:00",
          "02/06/2020 20:05:00",
          "02/07/2020 20:24:00",
          "02/08/2020 23:04:00",
          "02/09/2020 23:20:00",
          "02/10/2020 19:30:00",
          "02/11/2020 20:44:00",
          "02/12/2020 22:00:00",
          "02/13/2020 21:15:00",
          "02/14/2020 22:00:00",
          "02/15/2020 22:00:00",
          "02/16/2020 22:00:00",
          "02/17/2020 22:00:00"
         ],
         "xaxis": "x",
         "y": [
          0,
          1,
          1,
          2,
          2,
          2,
          2,
          2,
          2,
          3,
          3,
          3,
          3,
          3,
          3,
          3,
          3,
          3,
          3,
          3
         ],
         "yaxis": "y"
        },
        {
         "alignmentgroup": "True",
         "hoverlabel": {
          "namelength": 0
         },
         "hovertemplate": "Country=France<br>Date=%{x}<br>Confirmed=%{text}",
         "legendgroup": "France",
         "marker": {
          "color": "#FFA15A"
         },
         "name": "France",
         "offsetgroup": "France",
         "orientation": "v",
         "showlegend": true,
         "text": [
          2,
          3,
          3,
          3,
          4,
          5,
          5,
          6,
          6,
          6,
          6,
          6,
          6,
          6,
          6,
          11,
          11,
          11,
          11,
          11,
          11,
          11,
          12,
          12,
          12
         ],
         "textposition": "auto",
         "type": "bar",
         "x": [
          "01/24/2020 12:00:00",
          "01/25/2020 22:00:00",
          "01/26/2020 23:00:00",
          "01/27/2020 20:30:00",
          "01/28/2020 23:00:00",
          "01/29/2020 21:00:00",
          "01/30/2020 21:30:00",
          "01/31/2020 19:00:00",
          "02/01/2020 23:00:00",
          "02/02/2020 21:00:00",
          "02/03/2020 21:40:00",
          "02/04/2020 22:00:00",
          "02/05/2020 12:20:00",
          "02/06/2020 20:05:00",
          "02/07/2020 20:24:00",
          "02/08/2020 23:04:00",
          "02/09/2020 23:20:00",
          "02/10/2020 19:30:00",
          "02/11/2020 20:44:00",
          "02/12/2020 22:00:00",
          "02/13/2020 21:15:00",
          "02/14/2020 22:00:00",
          "02/15/2020 22:00:00",
          "02/16/2020 22:00:00",
          "02/17/2020 22:00:00"
         ],
         "xaxis": "x",
         "y": [
          2,
          3,
          3,
          3,
          4,
          5,
          5,
          6,
          6,
          6,
          6,
          6,
          6,
          6,
          6,
          11,
          11,
          11,
          11,
          11,
          11,
          11,
          12,
          12,
          12
         ],
         "yaxis": "y"
        },
        {
         "alignmentgroup": "True",
         "hoverlabel": {
          "namelength": 0
         },
         "hovertemplate": "Country=Nepal<br>Date=%{x}<br>Confirmed=%{text}",
         "legendgroup": "Nepal",
         "marker": {
          "color": "#19d3f3"
         },
         "name": "Nepal",
         "offsetgroup": "Nepal",
         "orientation": "v",
         "showlegend": true,
         "text": [
          1,
          1,
          1,
          1,
          1,
          1,
          1,
          1,
          1,
          1,
          1,
          1,
          1,
          1,
          1,
          1,
          1,
          1,
          1,
          1,
          1,
          1,
          1,
          1
         ],
         "textposition": "auto",
         "type": "bar",
         "x": [
          "01/25/2020 22:00:00",
          "01/26/2020 23:00:00",
          "01/27/2020 20:30:00",
          "01/28/2020 23:00:00",
          "01/29/2020 21:00:00",
          "01/30/2020 21:30:00",
          "01/31/2020 19:00:00",
          "02/01/2020 23:00:00",
          "02/02/2020 21:00:00",
          "02/03/2020 21:40:00",
          "02/04/2020 22:00:00",
          "02/05/2020 12:20:00",
          "02/06/2020 20:05:00",
          "02/07/2020 20:24:00",
          "02/08/2020 23:04:00",
          "02/09/2020 23:20:00",
          "02/10/2020 19:30:00",
          "02/11/2020 20:44:00",
          "02/12/2020 22:00:00",
          "02/13/2020 21:15:00",
          "02/14/2020 22:00:00",
          "02/15/2020 22:00:00",
          "02/16/2020 22:00:00",
          "02/17/2020 22:00:00"
         ],
         "xaxis": "x",
         "y": [
          1,
          1,
          1,
          1,
          1,
          1,
          1,
          1,
          1,
          1,
          1,
          1,
          1,
          1,
          1,
          1,
          1,
          1,
          1,
          1,
          1,
          1,
          1,
          1
         ],
         "yaxis": "y"
        },
        {
         "alignmentgroup": "True",
         "hoverlabel": {
          "namelength": 0
         },
         "hovertemplate": "Country=Canada<br>Date=%{x}<br>Confirmed=%{text}",
         "legendgroup": "Canada",
         "marker": {
          "color": "#FF6692"
         },
         "name": "Canada",
         "offsetgroup": "Canada",
         "orientation": "v",
         "showlegend": true,
         "text": [
          1,
          1,
          2,
          3,
          3,
          3,
          4,
          4,
          4,
          4,
          4,
          5,
          7,
          7,
          7,
          7,
          7,
          7,
          7,
          7,
          7,
          7,
          8
         ],
         "textposition": "auto",
         "type": "bar",
         "x": [
          "01/26/2020 23:00:00",
          "01/27/2020 20:30:00",
          "01/28/2020 23:00:00",
          "01/29/2020 21:00:00",
          "01/30/2020 21:30:00",
          "01/31/2020 19:00:00",
          "02/01/2020 23:00:00",
          "02/02/2020 21:00:00",
          "02/03/2020 21:40:00",
          "02/04/2020 22:00:00",
          "02/05/2020 12:20:00",
          "02/06/2020 20:05:00",
          "02/07/2020 20:24:00",
          "02/08/2020 23:04:00",
          "02/09/2020 23:20:00",
          "02/10/2020 19:30:00",
          "02/11/2020 20:44:00",
          "02/12/2020 22:00:00",
          "02/13/2020 21:15:00",
          "02/14/2020 22:00:00",
          "02/15/2020 22:00:00",
          "02/16/2020 22:00:00",
          "02/17/2020 22:00:00"
         ],
         "xaxis": "x",
         "y": [
          1,
          1,
          2,
          3,
          3,
          3,
          4,
          4,
          4,
          4,
          4,
          5,
          7,
          7,
          7,
          7,
          7,
          7,
          7,
          7,
          7,
          7,
          8
         ],
         "yaxis": "y"
        },
        {
         "alignmentgroup": "True",
         "hoverlabel": {
          "namelength": 0
         },
         "hovertemplate": "Country=Cambodia<br>Date=%{x}<br>Confirmed=%{text}",
         "legendgroup": "Cambodia",
         "marker": {
          "color": "#B6E880"
         },
         "name": "Cambodia",
         "offsetgroup": "Cambodia",
         "orientation": "v",
         "showlegend": true,
         "text": [
          1,
          1,
          1,
          1,
          1,
          1,
          1,
          1,
          1,
          1,
          1,
          1,
          1,
          1,
          1,
          1,
          1,
          1,
          1,
          1,
          1,
          1
         ],
         "textposition": "auto",
         "type": "bar",
         "x": [
          "01/27/2020 20:30:00",
          "01/28/2020 23:00:00",
          "01/29/2020 21:00:00",
          "01/30/2020 21:30:00",
          "01/31/2020 19:00:00",
          "02/01/2020 23:00:00",
          "02/02/2020 21:00:00",
          "02/03/2020 21:40:00",
          "02/04/2020 22:00:00",
          "02/05/2020 12:20:00",
          "02/06/2020 20:05:00",
          "02/07/2020 20:24:00",
          "02/08/2020 23:04:00",
          "02/09/2020 23:20:00",
          "02/10/2020 19:30:00",
          "02/11/2020 20:44:00",
          "02/12/2020 22:00:00",
          "02/13/2020 21:15:00",
          "02/14/2020 22:00:00",
          "02/15/2020 22:00:00",
          "02/16/2020 22:00:00",
          "02/17/2020 22:00:00"
         ],
         "xaxis": "x",
         "y": [
          1,
          1,
          1,
          1,
          1,
          1,
          1,
          1,
          1,
          1,
          1,
          1,
          1,
          1,
          1,
          1,
          1,
          1,
          1,
          1,
          1,
          1
         ],
         "yaxis": "y"
        },
        {
         "alignmentgroup": "True",
         "hoverlabel": {
          "namelength": 0
         },
         "hovertemplate": "Country=Sri Lanka<br>Date=%{x}<br>Confirmed=%{text}",
         "legendgroup": "Sri Lanka",
         "marker": {
          "color": "#FF97FF"
         },
         "name": "Sri Lanka",
         "offsetgroup": "Sri Lanka",
         "orientation": "v",
         "showlegend": true,
         "text": [
          1,
          1,
          1,
          1,
          1,
          1,
          1,
          1,
          1,
          1,
          1,
          1,
          1,
          1,
          1,
          1,
          1,
          1,
          1,
          1,
          1,
          1
         ],
         "textposition": "auto",
         "type": "bar",
         "x": [
          "01/27/2020 20:30:00",
          "01/28/2020 23:00:00",
          "01/29/2020 21:00:00",
          "01/30/2020 21:30:00",
          "01/31/2020 19:00:00",
          "02/01/2020 23:00:00",
          "02/02/2020 21:00:00",
          "02/03/2020 21:40:00",
          "02/04/2020 22:00:00",
          "02/05/2020 12:20:00",
          "02/06/2020 20:05:00",
          "02/07/2020 20:24:00",
          "02/08/2020 23:04:00",
          "02/09/2020 23:20:00",
          "02/10/2020 19:30:00",
          "02/11/2020 20:44:00",
          "02/12/2020 22:00:00",
          "02/13/2020 21:15:00",
          "02/14/2020 22:00:00",
          "02/15/2020 22:00:00",
          "02/16/2020 22:00:00",
          "02/17/2020 22:00:00"
         ],
         "xaxis": "x",
         "y": [
          1,
          1,
          1,
          1,
          1,
          1,
          1,
          1,
          1,
          1,
          1,
          1,
          1,
          1,
          1,
          1,
          1,
          1,
          1,
          1,
          1,
          1
         ],
         "yaxis": "y"
        },
        {
         "alignmentgroup": "True",
         "hoverlabel": {
          "namelength": 0
         },
         "hovertemplate": "Country=Ivory Coast<br>Date=%{x}<br>Confirmed=%{text}",
         "legendgroup": "Ivory Coast",
         "marker": {
          "color": "#FECB52"
         },
         "name": "Ivory Coast",
         "offsetgroup": "Ivory Coast",
         "orientation": "v",
         "showlegend": true,
         "text": [
          0
         ],
         "textposition": "auto",
         "type": "bar",
         "x": [
          "01/27/2020 20:30:00"
         ],
         "xaxis": "x",
         "y": [
          0
         ],
         "yaxis": "y"
        },
        {
         "alignmentgroup": "True",
         "hoverlabel": {
          "namelength": 0
         },
         "hovertemplate": "Country=Germany<br>Date=%{x}<br>Confirmed=%{text}",
         "legendgroup": "Germany",
         "marker": {
          "color": "#636efa"
         },
         "name": "Germany",
         "offsetgroup": "Germany",
         "orientation": "v",
         "showlegend": true,
         "text": [
          1,
          4,
          4,
          4,
          7,
          8,
          10,
          12,
          12,
          12,
          12,
          13,
          13,
          14,
          14,
          16,
          16,
          16,
          16,
          16,
          16,
          16
         ],
         "textposition": "auto",
         "type": "bar",
         "x": [
          "01/27/2020 20:30:00",
          "01/28/2020 23:00:00",
          "01/29/2020 21:00:00",
          "01/30/2020 21:30:00",
          "01/31/2020 19:00:00",
          "02/01/2020 23:00:00",
          "02/02/2020 21:00:00",
          "02/03/2020 21:40:00",
          "02/04/2020 22:00:00",
          "02/05/2020 12:20:00",
          "02/06/2020 20:05:00",
          "02/07/2020 20:24:00",
          "02/08/2020 23:04:00",
          "02/09/2020 23:20:00",
          "02/10/2020 19:30:00",
          "02/11/2020 20:44:00",
          "02/12/2020 22:00:00",
          "02/13/2020 21:15:00",
          "02/14/2020 22:00:00",
          "02/15/2020 22:00:00",
          "02/16/2020 22:00:00",
          "02/17/2020 22:00:00"
         ],
         "xaxis": "x",
         "y": [
          1,
          4,
          4,
          4,
          7,
          8,
          10,
          12,
          12,
          12,
          12,
          13,
          13,
          14,
          14,
          16,
          16,
          16,
          16,
          16,
          16,
          16
         ],
         "yaxis": "y"
        },
        {
         "alignmentgroup": "True",
         "hoverlabel": {
          "namelength": 0
         },
         "hovertemplate": "Country=Finland<br>Date=%{x}<br>Confirmed=%{text}",
         "legendgroup": "Finland",
         "marker": {
          "color": "#EF553B"
         },
         "name": "Finland",
         "offsetgroup": "Finland",
         "orientation": "v",
         "showlegend": true,
         "text": [
          1,
          1,
          1,
          1,
          1,
          1,
          1,
          1,
          1,
          1,
          1,
          1,
          1,
          1,
          1,
          1,
          1,
          1,
          1,
          1
         ],
         "textposition": "auto",
         "type": "bar",
         "x": [
          "01/29/2020 21:00:00",
          "01/30/2020 21:30:00",
          "01/31/2020 19:00:00",
          "02/01/2020 23:00:00",
          "02/02/2020 21:00:00",
          "02/03/2020 21:40:00",
          "02/04/2020 22:00:00",
          "02/05/2020 12:20:00",
          "02/06/2020 20:05:00",
          "02/07/2020 20:24:00",
          "02/08/2020 23:04:00",
          "02/09/2020 23:20:00",
          "02/10/2020 19:30:00",
          "02/11/2020 20:44:00",
          "02/12/2020 22:00:00",
          "02/13/2020 21:15:00",
          "02/14/2020 22:00:00",
          "02/15/2020 22:00:00",
          "02/16/2020 22:00:00",
          "02/17/2020 22:00:00"
         ],
         "xaxis": "x",
         "y": [
          1,
          1,
          1,
          1,
          1,
          1,
          1,
          1,
          1,
          1,
          1,
          1,
          1,
          1,
          1,
          1,
          1,
          1,
          1,
          1
         ],
         "yaxis": "y"
        },
        {
         "alignmentgroup": "True",
         "hoverlabel": {
          "namelength": 0
         },
         "hovertemplate": "Country=United Arab Emirates<br>Date=%{x}<br>Confirmed=%{text}",
         "legendgroup": "United Arab Emirates",
         "marker": {
          "color": "#00cc96"
         },
         "name": "United Arab Emirates",
         "offsetgroup": "United Arab Emirates",
         "orientation": "v",
         "showlegend": true,
         "text": [
          4,
          4,
          4,
          4,
          5,
          5,
          5,
          5,
          5,
          5,
          7,
          7,
          8,
          8,
          8,
          8,
          8,
          8,
          9,
          9
         ],
         "textposition": "auto",
         "type": "bar",
         "x": [
          "01/29/2020 21:00:00",
          "01/30/2020 21:30:00",
          "01/31/2020 19:00:00",
          "02/01/2020 23:00:00",
          "02/02/2020 21:00:00",
          "02/03/2020 21:40:00",
          "02/04/2020 22:00:00",
          "02/05/2020 12:20:00",
          "02/06/2020 20:05:00",
          "02/07/2020 20:24:00",
          "02/08/2020 23:04:00",
          "02/09/2020 23:20:00",
          "02/10/2020 19:30:00",
          "02/11/2020 20:44:00",
          "02/12/2020 22:00:00",
          "02/13/2020 21:15:00",
          "02/14/2020 22:00:00",
          "02/15/2020 22:00:00",
          "02/16/2020 22:00:00",
          "02/17/2020 22:00:00"
         ],
         "xaxis": "x",
         "y": [
          4,
          4,
          4,
          4,
          5,
          5,
          5,
          5,
          5,
          5,
          7,
          7,
          8,
          8,
          8,
          8,
          8,
          8,
          9,
          9
         ],
         "yaxis": "y"
        },
        {
         "alignmentgroup": "True",
         "hoverlabel": {
          "namelength": 0
         },
         "hovertemplate": "Country=India<br>Date=%{x}<br>Confirmed=%{text}",
         "legendgroup": "India",
         "marker": {
          "color": "#ab63fa"
         },
         "name": "India",
         "offsetgroup": "India",
         "orientation": "v",
         "showlegend": true,
         "text": [
          1,
          1,
          1,
          2,
          3,
          3,
          3,
          3,
          3,
          3,
          3,
          3,
          3,
          3,
          3,
          3,
          3,
          3,
          3
         ],
         "textposition": "auto",
         "type": "bar",
         "x": [
          "01/30/2020 21:30:00",
          "01/31/2020 19:00:00",
          "02/01/2020 23:00:00",
          "02/02/2020 21:00:00",
          "02/03/2020 21:40:00",
          "02/04/2020 22:00:00",
          "02/05/2020 12:20:00",
          "02/06/2020 20:05:00",
          "02/07/2020 20:24:00",
          "02/08/2020 23:04:00",
          "02/09/2020 23:20:00",
          "02/10/2020 19:30:00",
          "02/11/2020 20:44:00",
          "02/12/2020 22:00:00",
          "02/13/2020 21:15:00",
          "02/14/2020 22:00:00",
          "02/15/2020 22:00:00",
          "02/16/2020 22:00:00",
          "02/17/2020 22:00:00"
         ],
         "xaxis": "x",
         "y": [
          1,
          1,
          1,
          2,
          3,
          3,
          3,
          3,
          3,
          3,
          3,
          3,
          3,
          3,
          3,
          3,
          3,
          3,
          3
         ],
         "yaxis": "y"
        },
        {
         "alignmentgroup": "True",
         "hoverlabel": {
          "namelength": 0
         },
         "hovertemplate": "Country=Italy<br>Date=%{x}<br>Confirmed=%{text}",
         "legendgroup": "Italy",
         "marker": {
          "color": "#FFA15A"
         },
         "name": "Italy",
         "offsetgroup": "Italy",
         "orientation": "v",
         "showlegend": true,
         "text": [
          2,
          2,
          2,
          2,
          2,
          2,
          2,
          2,
          3,
          3,
          3,
          3,
          3,
          3,
          3,
          3,
          3,
          3,
          3
         ],
         "textposition": "auto",
         "type": "bar",
         "x": [
          "01/30/2020 21:30:00",
          "01/31/2020 19:00:00",
          "02/01/2020 23:00:00",
          "02/02/2020 21:00:00",
          "02/03/2020 21:40:00",
          "02/04/2020 22:00:00",
          "02/05/2020 12:20:00",
          "02/06/2020 20:05:00",
          "02/07/2020 20:24:00",
          "02/08/2020 23:04:00",
          "02/09/2020 23:20:00",
          "02/10/2020 19:30:00",
          "02/11/2020 20:44:00",
          "02/12/2020 22:00:00",
          "02/13/2020 21:15:00",
          "02/14/2020 22:00:00",
          "02/15/2020 22:00:00",
          "02/16/2020 22:00:00",
          "02/17/2020 22:00:00"
         ],
         "xaxis": "x",
         "y": [
          2,
          2,
          2,
          2,
          2,
          2,
          2,
          2,
          3,
          3,
          3,
          3,
          3,
          3,
          3,
          3,
          3,
          3,
          3
         ],
         "yaxis": "y"
        },
        {
         "alignmentgroup": "True",
         "hoverlabel": {
          "namelength": 0
         },
         "hovertemplate": "Country=Sweden<br>Date=%{x}<br>Confirmed=%{text}",
         "legendgroup": "Sweden",
         "marker": {
          "color": "#19d3f3"
         },
         "name": "Sweden",
         "offsetgroup": "Sweden",
         "orientation": "v",
         "showlegend": true,
         "text": [
          1,
          1,
          1,
          1,
          1,
          1,
          1,
          1,
          1,
          1,
          1,
          1,
          1,
          1,
          1,
          1,
          1,
          1
         ],
         "textposition": "auto",
         "type": "bar",
         "x": [
          "01/31/2020 19:00:00",
          "02/01/2020 23:00:00",
          "02/02/2020 21:00:00",
          "02/03/2020 21:40:00",
          "02/04/2020 22:00:00",
          "02/05/2020 12:20:00",
          "02/06/2020 20:05:00",
          "02/07/2020 20:24:00",
          "02/08/2020 23:04:00",
          "02/09/2020 23:20:00",
          "02/10/2020 19:30:00",
          "02/11/2020 20:44:00",
          "02/12/2020 22:00:00",
          "02/13/2020 21:15:00",
          "02/14/2020 22:00:00",
          "02/15/2020 22:00:00",
          "02/16/2020 22:00:00",
          "02/17/2020 22:00:00"
         ],
         "xaxis": "x",
         "y": [
          1,
          1,
          1,
          1,
          1,
          1,
          1,
          1,
          1,
          1,
          1,
          1,
          1,
          1,
          1,
          1,
          1,
          1
         ],
         "yaxis": "y"
        },
        {
         "alignmentgroup": "True",
         "hoverlabel": {
          "namelength": 0
         },
         "hovertemplate": "Country=Spain<br>Date=%{x}<br>Confirmed=%{text}",
         "legendgroup": "Spain",
         "marker": {
          "color": "#FF6692"
         },
         "name": "Spain",
         "offsetgroup": "Spain",
         "orientation": "v",
         "showlegend": true,
         "text": [
          1,
          1,
          1,
          1,
          1,
          1,
          1,
          1,
          1,
          2,
          2,
          2,
          2,
          2,
          2,
          2,
          2,
          2
         ],
         "textposition": "auto",
         "type": "bar",
         "x": [
          "01/31/2020 19:00:00",
          "02/01/2020 23:00:00",
          "02/02/2020 21:00:00",
          "02/03/2020 21:40:00",
          "02/04/2020 22:00:00",
          "02/05/2020 12:20:00",
          "02/06/2020 20:05:00",
          "02/07/2020 20:24:00",
          "02/08/2020 23:04:00",
          "02/09/2020 23:20:00",
          "02/10/2020 19:30:00",
          "02/11/2020 20:44:00",
          "02/12/2020 22:00:00",
          "02/13/2020 21:15:00",
          "02/14/2020 22:00:00",
          "02/15/2020 22:00:00",
          "02/16/2020 22:00:00",
          "02/17/2020 22:00:00"
         ],
         "xaxis": "x",
         "y": [
          1,
          1,
          1,
          1,
          1,
          1,
          1,
          1,
          1,
          2,
          2,
          2,
          2,
          2,
          2,
          2,
          2,
          2
         ],
         "yaxis": "y"
        },
        {
         "alignmentgroup": "True",
         "hoverlabel": {
          "namelength": 0
         },
         "hovertemplate": "Country=UK<br>Date=%{x}<br>Confirmed=%{text}",
         "legendgroup": "UK",
         "marker": {
          "color": "#B6E880"
         },
         "name": "UK",
         "offsetgroup": "UK",
         "orientation": "v",
         "showlegend": true,
         "text": [
          2,
          2,
          2,
          2,
          2,
          2,
          2,
          3,
          3,
          3,
          8,
          8,
          9,
          9,
          9,
          9,
          9,
          9
         ],
         "textposition": "auto",
         "type": "bar",
         "x": [
          "01/31/2020 19:00:00",
          "02/01/2020 23:00:00",
          "02/02/2020 21:00:00",
          "02/03/2020 21:40:00",
          "02/04/2020 22:00:00",
          "02/05/2020 12:20:00",
          "02/06/2020 20:05:00",
          "02/07/2020 20:24:00",
          "02/08/2020 23:04:00",
          "02/09/2020 23:20:00",
          "02/10/2020 19:30:00",
          "02/11/2020 20:44:00",
          "02/12/2020 22:00:00",
          "02/13/2020 21:15:00",
          "02/14/2020 22:00:00",
          "02/15/2020 22:00:00",
          "02/16/2020 22:00:00",
          "02/17/2020 22:00:00"
         ],
         "xaxis": "x",
         "y": [
          2,
          2,
          2,
          2,
          2,
          2,
          2,
          3,
          3,
          3,
          8,
          8,
          9,
          9,
          9,
          9,
          9,
          9
         ],
         "yaxis": "y"
        },
        {
         "alignmentgroup": "True",
         "hoverlabel": {
          "namelength": 0
         },
         "hovertemplate": "Country=Russia<br>Date=%{x}<br>Confirmed=%{text}",
         "legendgroup": "Russia",
         "marker": {
          "color": "#FF97FF"
         },
         "name": "Russia",
         "offsetgroup": "Russia",
         "orientation": "v",
         "showlegend": true,
         "text": [
          2,
          2,
          2,
          2,
          2,
          2,
          2,
          2,
          2,
          2,
          2,
          2,
          2,
          2,
          2,
          2,
          2,
          2
         ],
         "textposition": "auto",
         "type": "bar",
         "x": [
          "01/31/2020 19:00:00",
          "02/01/2020 23:00:00",
          "02/02/2020 21:00:00",
          "02/03/2020 21:40:00",
          "02/04/2020 22:00:00",
          "02/05/2020 12:20:00",
          "02/06/2020 20:05:00",
          "02/07/2020 20:24:00",
          "02/08/2020 23:04:00",
          "02/09/2020 23:20:00",
          "02/10/2020 19:30:00",
          "02/11/2020 20:44:00",
          "02/12/2020 22:00:00",
          "02/13/2020 21:15:00",
          "02/14/2020 22:00:00",
          "02/15/2020 22:00:00",
          "02/16/2020 22:00:00",
          "02/17/2020 22:00:00"
         ],
         "xaxis": "x",
         "y": [
          2,
          2,
          2,
          2,
          2,
          2,
          2,
          2,
          2,
          2,
          2,
          2,
          2,
          2,
          2,
          2,
          2,
          2
         ],
         "yaxis": "y"
        },
        {
         "alignmentgroup": "True",
         "hoverlabel": {
          "namelength": 0
         },
         "hovertemplate": "Country=Belgium<br>Date=%{x}<br>Confirmed=%{text}",
         "legendgroup": "Belgium",
         "marker": {
          "color": "#FECB52"
         },
         "name": "Belgium",
         "offsetgroup": "Belgium",
         "orientation": "v",
         "showlegend": true,
         "text": [
          1,
          1,
          1,
          1,
          1,
          1,
          1,
          1,
          1,
          1,
          1,
          1,
          1,
          1
         ],
         "textposition": "auto",
         "type": "bar",
         "x": [
          "02/04/2020 22:00:00",
          "02/05/2020 12:20:00",
          "02/06/2020 20:05:00",
          "02/07/2020 20:24:00",
          "02/08/2020 23:04:00",
          "02/09/2020 23:20:00",
          "02/10/2020 19:30:00",
          "02/11/2020 20:44:00",
          "02/12/2020 22:00:00",
          "02/13/2020 21:15:00",
          "02/14/2020 22:00:00",
          "02/15/2020 22:00:00",
          "02/16/2020 22:00:00",
          "02/17/2020 22:00:00"
         ],
         "xaxis": "x",
         "y": [
          1,
          1,
          1,
          1,
          1,
          1,
          1,
          1,
          1,
          1,
          1,
          1,
          1,
          1
         ],
         "yaxis": "y"
        },
        {
         "alignmentgroup": "True",
         "hoverlabel": {
          "namelength": 0
         },
         "hovertemplate": "Country=Others<br>Date=%{x}<br>Confirmed=%{text}",
         "legendgroup": "Others",
         "marker": {
          "color": "#636efa"
         },
         "name": "Others",
         "offsetgroup": "Others",
         "orientation": "v",
         "showlegend": true,
         "text": [
          61,
          61,
          64,
          135,
          135,
          175,
          218,
          218,
          285,
          355,
          454
         ],
         "textposition": "auto",
         "type": "bar",
         "x": [
          "02/07/2020 20:24:00",
          "02/08/2020 23:04:00",
          "02/09/2020 23:20:00",
          "02/10/2020 19:30:00",
          "02/11/2020 20:44:00",
          "02/12/2020 22:00:00",
          "02/13/2020 21:15:00",
          "02/14/2020 22:00:00",
          "02/15/2020 22:00:00",
          "02/16/2020 22:00:00",
          "02/17/2020 22:00:00"
         ],
         "xaxis": "x",
         "y": [
          61,
          61,
          64,
          135,
          135,
          175,
          218,
          218,
          285,
          355,
          454
         ],
         "yaxis": "y"
        },
        {
         "alignmentgroup": "True",
         "hoverlabel": {
          "namelength": 0
         },
         "hovertemplate": "Country=Egypt<br>Date=%{x}<br>Confirmed=%{text}",
         "legendgroup": "Egypt",
         "marker": {
          "color": "#EF553B"
         },
         "name": "Egypt",
         "offsetgroup": "Egypt",
         "orientation": "v",
         "showlegend": true,
         "text": [
          1,
          1,
          1,
          1
         ],
         "textposition": "auto",
         "type": "bar",
         "x": [
          "02/14/2020 22:00:00",
          "02/15/2020 22:00:00",
          "02/16/2020 22:00:00",
          "02/17/2020 22:00:00"
         ],
         "xaxis": "x",
         "y": [
          1,
          1,
          1,
          1
         ],
         "yaxis": "y"
        }
       ],
       "layout": {
        "barmode": "relative",
        "height": 600,
        "legend": {
         "title": {
          "text": "Country"
         },
         "tracegroupgap": 0
        },
        "template": {
         "data": {
          "bar": [
           {
            "error_x": {
             "color": "#2a3f5f"
            },
            "error_y": {
             "color": "#2a3f5f"
            },
            "marker": {
             "line": {
              "color": "#E5ECF6",
              "width": 0.5
             }
            },
            "type": "bar"
           }
          ],
          "barpolar": [
           {
            "marker": {
             "line": {
              "color": "#E5ECF6",
              "width": 0.5
             }
            },
            "type": "barpolar"
           }
          ],
          "carpet": [
           {
            "aaxis": {
             "endlinecolor": "#2a3f5f",
             "gridcolor": "white",
             "linecolor": "white",
             "minorgridcolor": "white",
             "startlinecolor": "#2a3f5f"
            },
            "baxis": {
             "endlinecolor": "#2a3f5f",
             "gridcolor": "white",
             "linecolor": "white",
             "minorgridcolor": "white",
             "startlinecolor": "#2a3f5f"
            },
            "type": "carpet"
           }
          ],
          "choropleth": [
           {
            "colorbar": {
             "outlinewidth": 0,
             "ticks": ""
            },
            "type": "choropleth"
           }
          ],
          "contour": [
           {
            "colorbar": {
             "outlinewidth": 0,
             "ticks": ""
            },
            "colorscale": [
             [
              0,
              "#0d0887"
             ],
             [
              0.1111111111111111,
              "#46039f"
             ],
             [
              0.2222222222222222,
              "#7201a8"
             ],
             [
              0.3333333333333333,
              "#9c179e"
             ],
             [
              0.4444444444444444,
              "#bd3786"
             ],
             [
              0.5555555555555556,
              "#d8576b"
             ],
             [
              0.6666666666666666,
              "#ed7953"
             ],
             [
              0.7777777777777778,
              "#fb9f3a"
             ],
             [
              0.8888888888888888,
              "#fdca26"
             ],
             [
              1,
              "#f0f921"
             ]
            ],
            "type": "contour"
           }
          ],
          "contourcarpet": [
           {
            "colorbar": {
             "outlinewidth": 0,
             "ticks": ""
            },
            "type": "contourcarpet"
           }
          ],
          "heatmap": [
           {
            "colorbar": {
             "outlinewidth": 0,
             "ticks": ""
            },
            "colorscale": [
             [
              0,
              "#0d0887"
             ],
             [
              0.1111111111111111,
              "#46039f"
             ],
             [
              0.2222222222222222,
              "#7201a8"
             ],
             [
              0.3333333333333333,
              "#9c179e"
             ],
             [
              0.4444444444444444,
              "#bd3786"
             ],
             [
              0.5555555555555556,
              "#d8576b"
             ],
             [
              0.6666666666666666,
              "#ed7953"
             ],
             [
              0.7777777777777778,
              "#fb9f3a"
             ],
             [
              0.8888888888888888,
              "#fdca26"
             ],
             [
              1,
              "#f0f921"
             ]
            ],
            "type": "heatmap"
           }
          ],
          "heatmapgl": [
           {
            "colorbar": {
             "outlinewidth": 0,
             "ticks": ""
            },
            "colorscale": [
             [
              0,
              "#0d0887"
             ],
             [
              0.1111111111111111,
              "#46039f"
             ],
             [
              0.2222222222222222,
              "#7201a8"
             ],
             [
              0.3333333333333333,
              "#9c179e"
             ],
             [
              0.4444444444444444,
              "#bd3786"
             ],
             [
              0.5555555555555556,
              "#d8576b"
             ],
             [
              0.6666666666666666,
              "#ed7953"
             ],
             [
              0.7777777777777778,
              "#fb9f3a"
             ],
             [
              0.8888888888888888,
              "#fdca26"
             ],
             [
              1,
              "#f0f921"
             ]
            ],
            "type": "heatmapgl"
           }
          ],
          "histogram": [
           {
            "marker": {
             "colorbar": {
              "outlinewidth": 0,
              "ticks": ""
             }
            },
            "type": "histogram"
           }
          ],
          "histogram2d": [
           {
            "colorbar": {
             "outlinewidth": 0,
             "ticks": ""
            },
            "colorscale": [
             [
              0,
              "#0d0887"
             ],
             [
              0.1111111111111111,
              "#46039f"
             ],
             [
              0.2222222222222222,
              "#7201a8"
             ],
             [
              0.3333333333333333,
              "#9c179e"
             ],
             [
              0.4444444444444444,
              "#bd3786"
             ],
             [
              0.5555555555555556,
              "#d8576b"
             ],
             [
              0.6666666666666666,
              "#ed7953"
             ],
             [
              0.7777777777777778,
              "#fb9f3a"
             ],
             [
              0.8888888888888888,
              "#fdca26"
             ],
             [
              1,
              "#f0f921"
             ]
            ],
            "type": "histogram2d"
           }
          ],
          "histogram2dcontour": [
           {
            "colorbar": {
             "outlinewidth": 0,
             "ticks": ""
            },
            "colorscale": [
             [
              0,
              "#0d0887"
             ],
             [
              0.1111111111111111,
              "#46039f"
             ],
             [
              0.2222222222222222,
              "#7201a8"
             ],
             [
              0.3333333333333333,
              "#9c179e"
             ],
             [
              0.4444444444444444,
              "#bd3786"
             ],
             [
              0.5555555555555556,
              "#d8576b"
             ],
             [
              0.6666666666666666,
              "#ed7953"
             ],
             [
              0.7777777777777778,
              "#fb9f3a"
             ],
             [
              0.8888888888888888,
              "#fdca26"
             ],
             [
              1,
              "#f0f921"
             ]
            ],
            "type": "histogram2dcontour"
           }
          ],
          "mesh3d": [
           {
            "colorbar": {
             "outlinewidth": 0,
             "ticks": ""
            },
            "type": "mesh3d"
           }
          ],
          "parcoords": [
           {
            "line": {
             "colorbar": {
              "outlinewidth": 0,
              "ticks": ""
             }
            },
            "type": "parcoords"
           }
          ],
          "pie": [
           {
            "automargin": true,
            "type": "pie"
           }
          ],
          "scatter": [
           {
            "marker": {
             "colorbar": {
              "outlinewidth": 0,
              "ticks": ""
             }
            },
            "type": "scatter"
           }
          ],
          "scatter3d": [
           {
            "line": {
             "colorbar": {
              "outlinewidth": 0,
              "ticks": ""
             }
            },
            "marker": {
             "colorbar": {
              "outlinewidth": 0,
              "ticks": ""
             }
            },
            "type": "scatter3d"
           }
          ],
          "scattercarpet": [
           {
            "marker": {
             "colorbar": {
              "outlinewidth": 0,
              "ticks": ""
             }
            },
            "type": "scattercarpet"
           }
          ],
          "scattergeo": [
           {
            "marker": {
             "colorbar": {
              "outlinewidth": 0,
              "ticks": ""
             }
            },
            "type": "scattergeo"
           }
          ],
          "scattergl": [
           {
            "marker": {
             "colorbar": {
              "outlinewidth": 0,
              "ticks": ""
             }
            },
            "type": "scattergl"
           }
          ],
          "scattermapbox": [
           {
            "marker": {
             "colorbar": {
              "outlinewidth": 0,
              "ticks": ""
             }
            },
            "type": "scattermapbox"
           }
          ],
          "scatterpolar": [
           {
            "marker": {
             "colorbar": {
              "outlinewidth": 0,
              "ticks": ""
             }
            },
            "type": "scatterpolar"
           }
          ],
          "scatterpolargl": [
           {
            "marker": {
             "colorbar": {
              "outlinewidth": 0,
              "ticks": ""
             }
            },
            "type": "scatterpolargl"
           }
          ],
          "scatterternary": [
           {
            "marker": {
             "colorbar": {
              "outlinewidth": 0,
              "ticks": ""
             }
            },
            "type": "scatterternary"
           }
          ],
          "surface": [
           {
            "colorbar": {
             "outlinewidth": 0,
             "ticks": ""
            },
            "colorscale": [
             [
              0,
              "#0d0887"
             ],
             [
              0.1111111111111111,
              "#46039f"
             ],
             [
              0.2222222222222222,
              "#7201a8"
             ],
             [
              0.3333333333333333,
              "#9c179e"
             ],
             [
              0.4444444444444444,
              "#bd3786"
             ],
             [
              0.5555555555555556,
              "#d8576b"
             ],
             [
              0.6666666666666666,
              "#ed7953"
             ],
             [
              0.7777777777777778,
              "#fb9f3a"
             ],
             [
              0.8888888888888888,
              "#fdca26"
             ],
             [
              1,
              "#f0f921"
             ]
            ],
            "type": "surface"
           }
          ],
          "table": [
           {
            "cells": {
             "fill": {
              "color": "#EBF0F8"
             },
             "line": {
              "color": "white"
             }
            },
            "header": {
             "fill": {
              "color": "#C8D4E3"
             },
             "line": {
              "color": "white"
             }
            },
            "type": "table"
           }
          ]
         },
         "layout": {
          "annotationdefaults": {
           "arrowcolor": "#2a3f5f",
           "arrowhead": 0,
           "arrowwidth": 1
          },
          "coloraxis": {
           "colorbar": {
            "outlinewidth": 0,
            "ticks": ""
           }
          },
          "colorscale": {
           "diverging": [
            [
             0,
             "#8e0152"
            ],
            [
             0.1,
             "#c51b7d"
            ],
            [
             0.2,
             "#de77ae"
            ],
            [
             0.3,
             "#f1b6da"
            ],
            [
             0.4,
             "#fde0ef"
            ],
            [
             0.5,
             "#f7f7f7"
            ],
            [
             0.6,
             "#e6f5d0"
            ],
            [
             0.7,
             "#b8e186"
            ],
            [
             0.8,
             "#7fbc41"
            ],
            [
             0.9,
             "#4d9221"
            ],
            [
             1,
             "#276419"
            ]
           ],
           "sequential": [
            [
             0,
             "#0d0887"
            ],
            [
             0.1111111111111111,
             "#46039f"
            ],
            [
             0.2222222222222222,
             "#7201a8"
            ],
            [
             0.3333333333333333,
             "#9c179e"
            ],
            [
             0.4444444444444444,
             "#bd3786"
            ],
            [
             0.5555555555555556,
             "#d8576b"
            ],
            [
             0.6666666666666666,
             "#ed7953"
            ],
            [
             0.7777777777777778,
             "#fb9f3a"
            ],
            [
             0.8888888888888888,
             "#fdca26"
            ],
            [
             1,
             "#f0f921"
            ]
           ],
           "sequentialminus": [
            [
             0,
             "#0d0887"
            ],
            [
             0.1111111111111111,
             "#46039f"
            ],
            [
             0.2222222222222222,
             "#7201a8"
            ],
            [
             0.3333333333333333,
             "#9c179e"
            ],
            [
             0.4444444444444444,
             "#bd3786"
            ],
            [
             0.5555555555555556,
             "#d8576b"
            ],
            [
             0.6666666666666666,
             "#ed7953"
            ],
            [
             0.7777777777777778,
             "#fb9f3a"
            ],
            [
             0.8888888888888888,
             "#fdca26"
            ],
            [
             1,
             "#f0f921"
            ]
           ]
          },
          "colorway": [
           "#636efa",
           "#EF553B",
           "#00cc96",
           "#ab63fa",
           "#FFA15A",
           "#19d3f3",
           "#FF6692",
           "#B6E880",
           "#FF97FF",
           "#FECB52"
          ],
          "font": {
           "color": "#2a3f5f"
          },
          "geo": {
           "bgcolor": "white",
           "lakecolor": "white",
           "landcolor": "#E5ECF6",
           "showlakes": true,
           "showland": true,
           "subunitcolor": "white"
          },
          "hoverlabel": {
           "align": "left"
          },
          "hovermode": "closest",
          "mapbox": {
           "style": "light"
          },
          "paper_bgcolor": "white",
          "plot_bgcolor": "#E5ECF6",
          "polar": {
           "angularaxis": {
            "gridcolor": "white",
            "linecolor": "white",
            "ticks": ""
           },
           "bgcolor": "#E5ECF6",
           "radialaxis": {
            "gridcolor": "white",
            "linecolor": "white",
            "ticks": ""
           }
          },
          "scene": {
           "xaxis": {
            "backgroundcolor": "#E5ECF6",
            "gridcolor": "white",
            "gridwidth": 2,
            "linecolor": "white",
            "showbackground": true,
            "ticks": "",
            "zerolinecolor": "white"
           },
           "yaxis": {
            "backgroundcolor": "#E5ECF6",
            "gridcolor": "white",
            "gridwidth": 2,
            "linecolor": "white",
            "showbackground": true,
            "ticks": "",
            "zerolinecolor": "white"
           },
           "zaxis": {
            "backgroundcolor": "#E5ECF6",
            "gridcolor": "white",
            "gridwidth": 2,
            "linecolor": "white",
            "showbackground": true,
            "ticks": "",
            "zerolinecolor": "white"
           }
          },
          "shapedefaults": {
           "line": {
            "color": "#2a3f5f"
           }
          },
          "ternary": {
           "aaxis": {
            "gridcolor": "white",
            "linecolor": "white",
            "ticks": ""
           },
           "baxis": {
            "gridcolor": "white",
            "linecolor": "white",
            "ticks": ""
           },
           "bgcolor": "#E5ECF6",
           "caxis": {
            "gridcolor": "white",
            "linecolor": "white",
            "ticks": ""
           }
          },
          "title": {
           "x": 0.05
          },
          "xaxis": {
           "automargin": true,
           "gridcolor": "white",
           "linecolor": "white",
           "ticks": "",
           "title": {
            "standoff": 15
           },
           "zerolinecolor": "white",
           "zerolinewidth": 2
          },
          "yaxis": {
           "automargin": true,
           "gridcolor": "white",
           "linecolor": "white",
           "ticks": "",
           "title": {
            "standoff": 15
           },
           "zerolinecolor": "white",
           "zerolinewidth": 2
          }
         }
        },
        "title": {
         "text": "Cases"
        },
        "xaxis": {
         "anchor": "y",
         "domain": [
          0,
          1
         ],
         "title": {
          "text": "Date"
         }
        },
        "yaxis": {
         "anchor": "x",
         "domain": [
          0,
          1
         ],
         "title": {
          "text": "Confirmed"
         }
        }
       }
      },
      "text/html": [
       "<div>\n",
       "        \n",
       "        \n",
       "            <div id=\"6b8affee-6303-407b-a7e4-78e7ac2203cb\" class=\"plotly-graph-div\" style=\"height:600px; width:100%;\"></div>\n",
       "            <script type=\"text/javascript\">\n",
       "                require([\"plotly\"], function(Plotly) {\n",
       "                    window.PLOTLYENV=window.PLOTLYENV || {};\n",
       "                    \n",
       "                if (document.getElementById(\"6b8affee-6303-407b-a7e4-78e7ac2203cb\")) {\n",
       "                    Plotly.newPlot(\n",
       "                        '6b8affee-6303-407b-a7e4-78e7ac2203cb',\n",
       "                        [{\"alignmentgroup\": \"True\", \"hoverlabel\": {\"namelength\": 0}, \"hovertemplate\": \"Country=Japan<br>Date=%{x}<br>Confirmed=%{text}\", \"legendgroup\": \"Japan\", \"marker\": {\"color\": \"#636efa\"}, \"name\": \"Japan\", \"offsetgroup\": \"Japan\", \"orientation\": \"v\", \"showlegend\": true, \"text\": [2.0, 1.0, 2.0, 2.0, 4.0, 4.0, 7.0, 11.0, 11.0, 17.0, 20.0, 20.0, 20.0, 22.0, 22.0, 45.0, 25.0, 25.0, 26.0, 26.0, 26.0, 28.0, 28.0, 29.0, 43.0, 59.0, 66.0], \"textposition\": \"auto\", \"type\": \"bar\", \"x\": [\"01/22/2020 12:00:00\", \"01/23/2020 12:00:00\", \"01/24/2020 12:00:00\", \"01/25/2020 22:00:00\", \"01/26/2020 23:00:00\", \"01/27/2020 20:30:00\", \"01/28/2020 23:00:00\", \"01/29/2020 21:00:00\", \"01/30/2020 21:30:00\", \"01/31/2020 19:00:00\", \"02/01/2020 23:00:00\", \"02/02/2020 21:00:00\", \"02/03/2020 21:40:00\", \"02/04/2020 22:00:00\", \"02/05/2020 12:20:00\", \"02/06/2020 20:05:00\", \"02/07/2020 20:24:00\", \"02/08/2020 23:04:00\", \"02/09/2020 23:20:00\", \"02/10/2020 19:30:00\", \"02/11/2020 20:44:00\", \"02/12/2020 22:00:00\", \"02/13/2020 21:15:00\", \"02/14/2020 22:00:00\", \"02/15/2020 22:00:00\", \"02/16/2020 22:00:00\", \"02/17/2020 22:00:00\"], \"xaxis\": \"x\", \"y\": [2.0, 1.0, 2.0, 2.0, 4.0, 4.0, 7.0, 11.0, 11.0, 17.0, 20.0, 20.0, 20.0, 22.0, 22.0, 45.0, 25.0, 25.0, 26.0, 26.0, 26.0, 28.0, 28.0, 29.0, 43.0, 59.0, 66.0], \"yaxis\": \"y\"}, {\"alignmentgroup\": \"True\", \"hoverlabel\": {\"namelength\": 0}, \"hovertemplate\": \"Country=US<br>Date=%{x}<br>Confirmed=%{text}\", \"legendgroup\": \"US\", \"marker\": {\"color\": \"#EF553B\"}, \"name\": \"US\", \"offsetgroup\": \"US\", \"orientation\": \"v\", \"showlegend\": true, \"text\": [1.0, 1.0, 2.0, 2.0, 5.0, 5.0, 5.0, 5.0, 6.0, 7.0, 8.0, 9.0, 11.0, 11.0, 11.0, 12.0, 12.0, 12.0, 12.0, 12.0, 13.0, 13.0, 15.0, 15.0, 15.0, 15.0, 15.0], \"textposition\": \"auto\", \"type\": \"bar\", \"x\": [\"01/22/2020 12:00:00\", \"01/23/2020 12:00:00\", \"01/24/2020 12:00:00\", \"01/25/2020 22:00:00\", \"01/26/2020 23:00:00\", \"01/27/2020 20:30:00\", \"01/28/2020 23:00:00\", \"01/29/2020 21:00:00\", \"01/30/2020 21:30:00\", \"01/31/2020 19:00:00\", \"02/01/2020 23:00:00\", \"02/02/2020 21:00:00\", \"02/03/2020 21:40:00\", \"02/04/2020 22:00:00\", \"02/05/2020 12:20:00\", \"02/06/2020 20:05:00\", \"02/07/2020 20:24:00\", \"02/08/2020 23:04:00\", \"02/09/2020 23:20:00\", \"02/10/2020 19:30:00\", \"02/11/2020 20:44:00\", \"02/12/2020 22:00:00\", \"02/13/2020 21:15:00\", \"02/14/2020 22:00:00\", \"02/15/2020 22:00:00\", \"02/16/2020 22:00:00\", \"02/17/2020 22:00:00\"], \"xaxis\": \"x\", \"y\": [1.0, 1.0, 2.0, 2.0, 5.0, 5.0, 5.0, 5.0, 6.0, 7.0, 8.0, 9.0, 11.0, 11.0, 11.0, 12.0, 12.0, 12.0, 12.0, 12.0, 13.0, 13.0, 15.0, 15.0, 15.0, 15.0, 15.0], \"yaxis\": \"y\"}, {\"alignmentgroup\": \"True\", \"hoverlabel\": {\"namelength\": 0}, \"hovertemplate\": \"Country=South Korea<br>Date=%{x}<br>Confirmed=%{text}\", \"legendgroup\": \"South Korea\", \"marker\": {\"color\": \"#00cc96\"}, \"name\": \"South Korea\", \"offsetgroup\": \"South Korea\", \"orientation\": \"v\", \"showlegend\": true, \"text\": [1.0, 1.0, 2.0, 3.0, 3.0, 4.0, 4.0, 4.0, 6.0, 11.0, 15.0, 15.0, 15.0, 16.0, 19.0, 23.0, 24.0, 25.0, 27.0, 27.0, 28.0, 28.0, 28.0, 28.0, 28.0, 29.0, 30.0], \"textposition\": \"auto\", \"type\": \"bar\", \"x\": [\"01/22/2020 12:00:00\", \"01/23/2020 12:00:00\", \"01/24/2020 12:00:00\", \"01/25/2020 22:00:00\", \"01/26/2020 23:00:00\", \"01/27/2020 20:30:00\", \"01/28/2020 23:00:00\", \"01/29/2020 21:00:00\", \"01/30/2020 21:30:00\", \"01/31/2020 19:00:00\", \"02/01/2020 23:00:00\", \"02/02/2020 21:00:00\", \"02/03/2020 21:40:00\", \"02/04/2020 22:00:00\", \"02/05/2020 12:20:00\", \"02/06/2020 20:05:00\", \"02/07/2020 20:24:00\", \"02/08/2020 23:04:00\", \"02/09/2020 23:20:00\", \"02/10/2020 19:30:00\", \"02/11/2020 20:44:00\", \"02/12/2020 22:00:00\", \"02/13/2020 21:15:00\", \"02/14/2020 22:00:00\", \"02/15/2020 22:00:00\", \"02/16/2020 22:00:00\", \"02/17/2020 22:00:00\"], \"xaxis\": \"x\", \"y\": [1.0, 1.0, 2.0, 3.0, 3.0, 4.0, 4.0, 4.0, 6.0, 11.0, 15.0, 15.0, 15.0, 16.0, 19.0, 23.0, 24.0, 25.0, 27.0, 27.0, 28.0, 28.0, 28.0, 28.0, 28.0, 29.0, 30.0], \"yaxis\": \"y\"}, {\"alignmentgroup\": \"True\", \"hoverlabel\": {\"namelength\": 0}, \"hovertemplate\": \"Country=Thailand<br>Date=%{x}<br>Confirmed=%{text}\", \"legendgroup\": \"Thailand\", \"marker\": {\"color\": \"#ab63fa\"}, \"name\": \"Thailand\", \"offsetgroup\": \"Thailand\", \"orientation\": \"v\", \"showlegend\": true, \"text\": [2.0, 3.0, 5.0, 7.0, 8.0, 8.0, 14.0, 14.0, 14.0, 19.0, 19.0, 19.0, 19.0, 25.0, 25.0, 25.0, 25.0, 32.0, 32.0, 32.0, 33.0, 33.0, 33.0, 33.0, 33.0, 34.0, 35.0], \"textposition\": \"auto\", \"type\": \"bar\", \"x\": [\"01/22/2020 12:00:00\", \"01/23/2020 12:00:00\", \"01/24/2020 12:00:00\", \"01/25/2020 22:00:00\", \"01/26/2020 23:00:00\", \"01/27/2020 20:30:00\", \"01/28/2020 23:00:00\", \"01/29/2020 21:00:00\", \"01/30/2020 21:30:00\", \"01/31/2020 19:00:00\", \"02/01/2020 23:00:00\", \"02/02/2020 21:00:00\", \"02/03/2020 21:40:00\", \"02/04/2020 22:00:00\", \"02/05/2020 12:20:00\", \"02/06/2020 20:05:00\", \"02/07/2020 20:24:00\", \"02/08/2020 23:04:00\", \"02/09/2020 23:20:00\", \"02/10/2020 19:30:00\", \"02/11/2020 20:44:00\", \"02/12/2020 22:00:00\", \"02/13/2020 21:15:00\", \"02/14/2020 22:00:00\", \"02/15/2020 22:00:00\", \"02/16/2020 22:00:00\", \"02/17/2020 22:00:00\"], \"xaxis\": \"x\", \"y\": [2.0, 3.0, 5.0, 7.0, 8.0, 8.0, 14.0, 14.0, 14.0, 19.0, 19.0, 19.0, 19.0, 25.0, 25.0, 25.0, 25.0, 32.0, 32.0, 32.0, 33.0, 33.0, 33.0, 33.0, 33.0, 34.0, 35.0], \"yaxis\": \"y\"}, {\"alignmentgroup\": \"True\", \"hoverlabel\": {\"namelength\": 0}, \"hovertemplate\": \"Country=Hong Kong<br>Date=%{x}<br>Confirmed=%{text}\", \"legendgroup\": \"Hong Kong\", \"marker\": {\"color\": \"#FFA15A\"}, \"name\": \"Hong Kong\", \"offsetgroup\": \"Hong Kong\", \"orientation\": \"v\", \"showlegend\": true, \"text\": [2.0, 2.0, 5.0, 8.0, 8.0, 8.0, 10.0, 12.0, 13.0, 14.0, 15.0, 15.0, 18.0, 21.0, 24.0, 25.0, 26.0, 36.0, 38.0, 49.0, 50.0, 53.0, 56.0, 56.0, 57.0, 60.0], \"textposition\": \"auto\", \"type\": \"bar\", \"x\": [\"01/23/2020 12:00:00\", \"01/24/2020 12:00:00\", \"01/25/2020 22:00:00\", \"01/26/2020 23:00:00\", \"01/27/2020 20:30:00\", \"01/28/2020 23:00:00\", \"01/29/2020 21:00:00\", \"01/30/2020 21:30:00\", \"01/31/2020 19:00:00\", \"02/01/2020 23:00:00\", \"02/02/2020 21:00:00\", \"02/03/2020 21:40:00\", \"02/04/2020 22:00:00\", \"02/05/2020 12:20:00\", \"02/06/2020 20:05:00\", \"02/07/2020 20:24:00\", \"02/08/2020 23:04:00\", \"02/09/2020 23:20:00\", \"02/10/2020 19:30:00\", \"02/11/2020 20:44:00\", \"02/12/2020 22:00:00\", \"02/13/2020 21:15:00\", \"02/14/2020 22:00:00\", \"02/15/2020 22:00:00\", \"02/16/2020 22:00:00\", \"02/17/2020 22:00:00\"], \"xaxis\": \"x\", \"y\": [2.0, 2.0, 5.0, 8.0, 8.0, 8.0, 10.0, 12.0, 13.0, 14.0, 15.0, 15.0, 18.0, 21.0, 24.0, 25.0, 26.0, 36.0, 38.0, 49.0, 50.0, 53.0, 56.0, 56.0, 57.0, 60.0], \"yaxis\": \"y\"}, {\"alignmentgroup\": \"True\", \"hoverlabel\": {\"namelength\": 0}, \"hovertemplate\": \"Country=Taiwan<br>Date=%{x}<br>Confirmed=%{text}\", \"legendgroup\": \"Taiwan\", \"marker\": {\"color\": \"#19d3f3\"}, \"name\": \"Taiwan\", \"offsetgroup\": \"Taiwan\", \"orientation\": \"v\", \"showlegend\": true, \"text\": [1.0, 3.0, 3.0, 4.0, 5.0, 8.0, 8.0, 9.0, 10.0, 10.0, 10.0, 10.0, 11.0, 11.0, 16.0, 16.0, 17.0, 18.0, 18.0, 18.0, 18.0, 18.0, 18.0, 18.0, 20.0, 22.0], \"textposition\": \"auto\", \"type\": \"bar\", \"x\": [\"01/23/2020 12:00:00\", \"01/24/2020 12:00:00\", \"01/25/2020 22:00:00\", \"01/26/2020 23:00:00\", \"01/27/2020 20:30:00\", \"01/28/2020 23:00:00\", \"01/29/2020 21:00:00\", \"01/30/2020 21:30:00\", \"01/31/2020 19:00:00\", \"02/01/2020 23:00:00\", \"02/02/2020 21:00:00\", \"02/03/2020 21:40:00\", \"02/04/2020 22:00:00\", \"02/05/2020 12:20:00\", \"02/06/2020 20:05:00\", \"02/07/2020 20:24:00\", \"02/08/2020 23:04:00\", \"02/09/2020 23:20:00\", \"02/10/2020 19:30:00\", \"02/11/2020 20:44:00\", \"02/12/2020 22:00:00\", \"02/13/2020 21:15:00\", \"02/14/2020 22:00:00\", \"02/15/2020 22:00:00\", \"02/16/2020 22:00:00\", \"02/17/2020 22:00:00\"], \"xaxis\": \"x\", \"y\": [1.0, 3.0, 3.0, 4.0, 5.0, 8.0, 8.0, 9.0, 10.0, 10.0, 10.0, 10.0, 11.0, 11.0, 16.0, 16.0, 17.0, 18.0, 18.0, 18.0, 18.0, 18.0, 18.0, 18.0, 20.0, 22.0], \"yaxis\": \"y\"}, {\"alignmentgroup\": \"True\", \"hoverlabel\": {\"namelength\": 0}, \"hovertemplate\": \"Country=Australia<br>Date=%{x}<br>Confirmed=%{text}\", \"legendgroup\": \"Australia\", \"marker\": {\"color\": \"#FF6692\"}, \"name\": \"Australia\", \"offsetgroup\": \"Australia\", \"orientation\": \"v\", \"showlegend\": true, \"text\": [0.0, 4.0, 4.0, 5.0, 5.0, 7.0, 9.0, 9.0, 12.0, 12.0, 12.0, 13.0, 13.0, 14.0, 15.0, 15.0, 15.0, 15.0, 15.0, 15.0, 15.0, 15.0, 15.0, 15.0, 15.0], \"textposition\": \"auto\", \"type\": \"bar\", \"x\": [\"01/23/2020 12:00:00\", \"01/25/2020 22:00:00\", \"01/26/2020 23:00:00\", \"01/27/2020 20:30:00\", \"01/28/2020 23:00:00\", \"01/29/2020 21:00:00\", \"01/30/2020 21:30:00\", \"01/31/2020 19:00:00\", \"02/01/2020 23:00:00\", \"02/02/2020 21:00:00\", \"02/03/2020 21:40:00\", \"02/04/2020 22:00:00\", \"02/05/2020 12:20:00\", \"02/06/2020 20:05:00\", \"02/07/2020 20:24:00\", \"02/08/2020 23:04:00\", \"02/09/2020 23:20:00\", \"02/10/2020 19:30:00\", \"02/11/2020 20:44:00\", \"02/12/2020 22:00:00\", \"02/13/2020 21:15:00\", \"02/14/2020 22:00:00\", \"02/15/2020 22:00:00\", \"02/16/2020 22:00:00\", \"02/17/2020 22:00:00\"], \"xaxis\": \"x\", \"y\": [0.0, 4.0, 4.0, 5.0, 5.0, 7.0, 9.0, 9.0, 12.0, 12.0, 12.0, 13.0, 13.0, 14.0, 15.0, 15.0, 15.0, 15.0, 15.0, 15.0, 15.0, 15.0, 15.0, 15.0, 15.0], \"yaxis\": \"y\"}, {\"alignmentgroup\": \"True\", \"hoverlabel\": {\"namelength\": 0}, \"hovertemplate\": \"Country=Macau<br>Date=%{x}<br>Confirmed=%{text}\", \"legendgroup\": \"Macau\", \"marker\": {\"color\": \"#B6E880\"}, \"name\": \"Macau\", \"offsetgroup\": \"Macau\", \"orientation\": \"v\", \"showlegend\": true, \"text\": [2.0, 2.0, 2.0, 6.0, 6.0, 7.0, 7.0, 7.0, 7.0, 7.0, 8.0, 8.0, 10.0, 10.0, 10.0, 10.0, 10.0, 10.0, 10.0, 10.0, 10.0, 10.0, 10.0, 10.0, 10.0, 10.0], \"textposition\": \"auto\", \"type\": \"bar\", \"x\": [\"01/23/2020 12:00:00\", \"01/24/2020 12:00:00\", \"01/25/2020 22:00:00\", \"01/26/2020 23:00:00\", \"01/27/2020 20:30:00\", \"01/28/2020 23:00:00\", \"01/29/2020 21:00:00\", \"01/30/2020 21:30:00\", \"01/31/2020 19:00:00\", \"02/01/2020 23:00:00\", \"02/02/2020 21:00:00\", \"02/03/2020 21:40:00\", \"02/04/2020 22:00:00\", \"02/05/2020 12:20:00\", \"02/06/2020 20:05:00\", \"02/07/2020 20:24:00\", \"02/08/2020 23:04:00\", \"02/09/2020 23:20:00\", \"02/10/2020 19:30:00\", \"02/11/2020 20:44:00\", \"02/12/2020 22:00:00\", \"02/13/2020 21:15:00\", \"02/14/2020 22:00:00\", \"02/15/2020 22:00:00\", \"02/16/2020 22:00:00\", \"02/17/2020 22:00:00\"], \"xaxis\": \"x\", \"y\": [2.0, 2.0, 2.0, 6.0, 6.0, 7.0, 7.0, 7.0, 7.0, 7.0, 8.0, 8.0, 10.0, 10.0, 10.0, 10.0, 10.0, 10.0, 10.0, 10.0, 10.0, 10.0, 10.0, 10.0, 10.0, 10.0], \"yaxis\": \"y\"}, {\"alignmentgroup\": \"True\", \"hoverlabel\": {\"namelength\": 0}, \"hovertemplate\": \"Country=Malaysia<br>Date=%{x}<br>Confirmed=%{text}\", \"legendgroup\": \"Malaysia\", \"marker\": {\"color\": \"#FF97FF\"}, \"name\": \"Malaysia\", \"offsetgroup\": \"Malaysia\", \"orientation\": \"v\", \"showlegend\": true, \"text\": [0.0, 3.0, 4.0, 4.0, 7.0, 7.0, 8.0, 8.0, 8.0, 8.0, 8.0, 10.0, 12.0, 12.0, 12.0, 16.0, 18.0, 18.0, 18.0, 18.0, 19.0, 19.0, 22.0, 22.0, 22.0], \"textposition\": \"auto\", \"type\": \"bar\", \"x\": [\"01/23/2020 12:00:00\", \"01/25/2020 22:00:00\", \"01/26/2020 23:00:00\", \"01/27/2020 20:30:00\", \"01/28/2020 23:00:00\", \"01/29/2020 21:00:00\", \"01/30/2020 21:30:00\", \"01/31/2020 19:00:00\", \"02/01/2020 23:00:00\", \"02/02/2020 21:00:00\", \"02/03/2020 21:40:00\", \"02/04/2020 22:00:00\", \"02/05/2020 12:20:00\", \"02/06/2020 20:05:00\", \"02/07/2020 20:24:00\", \"02/08/2020 23:04:00\", \"02/09/2020 23:20:00\", \"02/10/2020 19:30:00\", \"02/11/2020 20:44:00\", \"02/12/2020 22:00:00\", \"02/13/2020 21:15:00\", \"02/14/2020 22:00:00\", \"02/15/2020 22:00:00\", \"02/16/2020 22:00:00\", \"02/17/2020 22:00:00\"], \"xaxis\": \"x\", \"y\": [0.0, 3.0, 4.0, 4.0, 7.0, 7.0, 8.0, 8.0, 8.0, 8.0, 8.0, 10.0, 12.0, 12.0, 12.0, 16.0, 18.0, 18.0, 18.0, 18.0, 19.0, 19.0, 22.0, 22.0, 22.0], \"yaxis\": \"y\"}, {\"alignmentgroup\": \"True\", \"hoverlabel\": {\"namelength\": 0}, \"hovertemplate\": \"Country=Singapore<br>Date=%{x}<br>Confirmed=%{text}\", \"legendgroup\": \"Singapore\", \"marker\": {\"color\": \"#FECB52\"}, \"name\": \"Singapore\", \"offsetgroup\": \"Singapore\", \"orientation\": \"v\", \"showlegend\": true, \"text\": [1.0, 3.0, 3.0, 4.0, 5.0, 7.0, 10.0, 10.0, 16.0, 18.0, 18.0, 18.0, 24.0, 28.0, 28.0, 30.0, 40.0, 43.0, 45.0, 47.0, 50.0, 58.0, 67.0, 72.0, 75.0, 77.0], \"textposition\": \"auto\", \"type\": \"bar\", \"x\": [\"01/23/2020 12:00:00\", \"01/24/2020 12:00:00\", \"01/25/2020 22:00:00\", \"01/26/2020 23:00:00\", \"01/27/2020 20:30:00\", \"01/28/2020 23:00:00\", \"01/29/2020 21:00:00\", \"01/30/2020 21:30:00\", \"01/31/2020 19:00:00\", \"02/01/2020 23:00:00\", \"02/02/2020 21:00:00\", \"02/03/2020 21:40:00\", \"02/04/2020 22:00:00\", \"02/05/2020 12:20:00\", \"02/06/2020 20:05:00\", \"02/07/2020 20:24:00\", \"02/08/2020 23:04:00\", \"02/09/2020 23:20:00\", \"02/10/2020 19:30:00\", \"02/11/2020 20:44:00\", \"02/12/2020 22:00:00\", \"02/13/2020 21:15:00\", \"02/14/2020 22:00:00\", \"02/15/2020 22:00:00\", \"02/16/2020 22:00:00\", \"02/17/2020 22:00:00\"], \"xaxis\": \"x\", \"y\": [1.0, 3.0, 3.0, 4.0, 5.0, 7.0, 10.0, 10.0, 16.0, 18.0, 18.0, 18.0, 24.0, 28.0, 28.0, 30.0, 40.0, 43.0, 45.0, 47.0, 50.0, 58.0, 67.0, 72.0, 75.0, 77.0], \"yaxis\": \"y\"}, {\"alignmentgroup\": \"True\", \"hoverlabel\": {\"namelength\": 0}, \"hovertemplate\": \"Country=Mexico<br>Date=%{x}<br>Confirmed=%{text}\", \"legendgroup\": \"Mexico\", \"marker\": {\"color\": \"#636efa\"}, \"name\": \"Mexico\", \"offsetgroup\": \"Mexico\", \"orientation\": \"v\", \"showlegend\": true, \"text\": [0.0], \"textposition\": \"auto\", \"type\": \"bar\", \"x\": [\"01/23/2020 12:00:00\"], \"xaxis\": \"x\", \"y\": [0.0], \"yaxis\": \"y\"}, {\"alignmentgroup\": \"True\", \"hoverlabel\": {\"namelength\": 0}, \"hovertemplate\": \"Country=Brazil<br>Date=%{x}<br>Confirmed=%{text}\", \"legendgroup\": \"Brazil\", \"marker\": {\"color\": \"#EF553B\"}, \"name\": \"Brazil\", \"offsetgroup\": \"Brazil\", \"orientation\": \"v\", \"showlegend\": true, \"text\": [0.0], \"textposition\": \"auto\", \"type\": \"bar\", \"x\": [\"01/23/2020 12:00:00\"], \"xaxis\": \"x\", \"y\": [0.0], \"yaxis\": \"y\"}, {\"alignmentgroup\": \"True\", \"hoverlabel\": {\"namelength\": 0}, \"hovertemplate\": \"Country=Vietnam<br>Date=%{x}<br>Confirmed=%{text}\", \"legendgroup\": \"Vietnam\", \"marker\": {\"color\": \"#00cc96\"}, \"name\": \"Vietnam\", \"offsetgroup\": \"Vietnam\", \"orientation\": \"v\", \"showlegend\": true, \"text\": [2.0, 2.0, 2.0, 2.0, 2.0, 2.0, 2.0, 2.0, 2.0, 6.0, 6.0, 8.0, 8.0, 8.0, 10.0, 10.0, 13.0, 14.0, 14.0, 15.0, 15.0, 16.0, 16.0, 16.0, 16.0, 16.0], \"textposition\": \"auto\", \"type\": \"bar\", \"x\": [\"01/23/2020 12:00:00\", \"01/24/2020 12:00:00\", \"01/25/2020 22:00:00\", \"01/26/2020 23:00:00\", \"01/27/2020 20:30:00\", \"01/28/2020 23:00:00\", \"01/29/2020 21:00:00\", \"01/30/2020 21:30:00\", \"01/31/2020 19:00:00\", \"02/01/2020 23:00:00\", \"02/02/2020 21:00:00\", \"02/03/2020 21:40:00\", \"02/04/2020 22:00:00\", \"02/05/2020 12:20:00\", \"02/06/2020 20:05:00\", \"02/07/2020 20:24:00\", \"02/08/2020 23:04:00\", \"02/09/2020 23:20:00\", \"02/10/2020 19:30:00\", \"02/11/2020 20:44:00\", \"02/12/2020 22:00:00\", \"02/13/2020 21:15:00\", \"02/14/2020 22:00:00\", \"02/15/2020 22:00:00\", \"02/16/2020 22:00:00\", \"02/17/2020 22:00:00\"], \"xaxis\": \"x\", \"y\": [2.0, 2.0, 2.0, 2.0, 2.0, 2.0, 2.0, 2.0, 2.0, 6.0, 6.0, 8.0, 8.0, 8.0, 10.0, 10.0, 13.0, 14.0, 14.0, 15.0, 15.0, 16.0, 16.0, 16.0, 16.0, 16.0], \"yaxis\": \"y\"}, {\"alignmentgroup\": \"True\", \"hoverlabel\": {\"namelength\": 0}, \"hovertemplate\": \"Country=Philippines<br>Date=%{x}<br>Confirmed=%{text}\", \"legendgroup\": \"Philippines\", \"marker\": {\"color\": \"#ab63fa\"}, \"name\": \"Philippines\", \"offsetgroup\": \"Philippines\", \"orientation\": \"v\", \"showlegend\": true, \"text\": [0.0, 1.0, 1.0, 2.0, 2.0, 2.0, 2.0, 2.0, 2.0, 3.0, 3.0, 3.0, 3.0, 3.0, 3.0, 3.0, 3.0, 3.0, 3.0, 3.0], \"textposition\": \"auto\", \"type\": \"bar\", \"x\": [\"01/23/2020 12:00:00\", \"01/30/2020 21:30:00\", \"01/31/2020 19:00:00\", \"02/01/2020 23:00:00\", \"02/02/2020 21:00:00\", \"02/03/2020 21:40:00\", \"02/04/2020 22:00:00\", \"02/05/2020 12:20:00\", \"02/06/2020 20:05:00\", \"02/07/2020 20:24:00\", \"02/08/2020 23:04:00\", \"02/09/2020 23:20:00\", \"02/10/2020 19:30:00\", \"02/11/2020 20:44:00\", \"02/12/2020 22:00:00\", \"02/13/2020 21:15:00\", \"02/14/2020 22:00:00\", \"02/15/2020 22:00:00\", \"02/16/2020 22:00:00\", \"02/17/2020 22:00:00\"], \"xaxis\": \"x\", \"y\": [0.0, 1.0, 1.0, 2.0, 2.0, 2.0, 2.0, 2.0, 2.0, 3.0, 3.0, 3.0, 3.0, 3.0, 3.0, 3.0, 3.0, 3.0, 3.0, 3.0], \"yaxis\": \"y\"}, {\"alignmentgroup\": \"True\", \"hoverlabel\": {\"namelength\": 0}, \"hovertemplate\": \"Country=France<br>Date=%{x}<br>Confirmed=%{text}\", \"legendgroup\": \"France\", \"marker\": {\"color\": \"#FFA15A\"}, \"name\": \"France\", \"offsetgroup\": \"France\", \"orientation\": \"v\", \"showlegend\": true, \"text\": [2.0, 3.0, 3.0, 3.0, 4.0, 5.0, 5.0, 6.0, 6.0, 6.0, 6.0, 6.0, 6.0, 6.0, 6.0, 11.0, 11.0, 11.0, 11.0, 11.0, 11.0, 11.0, 12.0, 12.0, 12.0], \"textposition\": \"auto\", \"type\": \"bar\", \"x\": [\"01/24/2020 12:00:00\", \"01/25/2020 22:00:00\", \"01/26/2020 23:00:00\", \"01/27/2020 20:30:00\", \"01/28/2020 23:00:00\", \"01/29/2020 21:00:00\", \"01/30/2020 21:30:00\", \"01/31/2020 19:00:00\", \"02/01/2020 23:00:00\", \"02/02/2020 21:00:00\", \"02/03/2020 21:40:00\", \"02/04/2020 22:00:00\", \"02/05/2020 12:20:00\", \"02/06/2020 20:05:00\", \"02/07/2020 20:24:00\", \"02/08/2020 23:04:00\", \"02/09/2020 23:20:00\", \"02/10/2020 19:30:00\", \"02/11/2020 20:44:00\", \"02/12/2020 22:00:00\", \"02/13/2020 21:15:00\", \"02/14/2020 22:00:00\", \"02/15/2020 22:00:00\", \"02/16/2020 22:00:00\", \"02/17/2020 22:00:00\"], \"xaxis\": \"x\", \"y\": [2.0, 3.0, 3.0, 3.0, 4.0, 5.0, 5.0, 6.0, 6.0, 6.0, 6.0, 6.0, 6.0, 6.0, 6.0, 11.0, 11.0, 11.0, 11.0, 11.0, 11.0, 11.0, 12.0, 12.0, 12.0], \"yaxis\": \"y\"}, {\"alignmentgroup\": \"True\", \"hoverlabel\": {\"namelength\": 0}, \"hovertemplate\": \"Country=Nepal<br>Date=%{x}<br>Confirmed=%{text}\", \"legendgroup\": \"Nepal\", \"marker\": {\"color\": \"#19d3f3\"}, \"name\": \"Nepal\", \"offsetgroup\": \"Nepal\", \"orientation\": \"v\", \"showlegend\": true, \"text\": [1.0, 1.0, 1.0, 1.0, 1.0, 1.0, 1.0, 1.0, 1.0, 1.0, 1.0, 1.0, 1.0, 1.0, 1.0, 1.0, 1.0, 1.0, 1.0, 1.0, 1.0, 1.0, 1.0, 1.0], \"textposition\": \"auto\", \"type\": \"bar\", \"x\": [\"01/25/2020 22:00:00\", \"01/26/2020 23:00:00\", \"01/27/2020 20:30:00\", \"01/28/2020 23:00:00\", \"01/29/2020 21:00:00\", \"01/30/2020 21:30:00\", \"01/31/2020 19:00:00\", \"02/01/2020 23:00:00\", \"02/02/2020 21:00:00\", \"02/03/2020 21:40:00\", \"02/04/2020 22:00:00\", \"02/05/2020 12:20:00\", \"02/06/2020 20:05:00\", \"02/07/2020 20:24:00\", \"02/08/2020 23:04:00\", \"02/09/2020 23:20:00\", \"02/10/2020 19:30:00\", \"02/11/2020 20:44:00\", \"02/12/2020 22:00:00\", \"02/13/2020 21:15:00\", \"02/14/2020 22:00:00\", \"02/15/2020 22:00:00\", \"02/16/2020 22:00:00\", \"02/17/2020 22:00:00\"], \"xaxis\": \"x\", \"y\": [1.0, 1.0, 1.0, 1.0, 1.0, 1.0, 1.0, 1.0, 1.0, 1.0, 1.0, 1.0, 1.0, 1.0, 1.0, 1.0, 1.0, 1.0, 1.0, 1.0, 1.0, 1.0, 1.0, 1.0], \"yaxis\": \"y\"}, {\"alignmentgroup\": \"True\", \"hoverlabel\": {\"namelength\": 0}, \"hovertemplate\": \"Country=Canada<br>Date=%{x}<br>Confirmed=%{text}\", \"legendgroup\": \"Canada\", \"marker\": {\"color\": \"#FF6692\"}, \"name\": \"Canada\", \"offsetgroup\": \"Canada\", \"orientation\": \"v\", \"showlegend\": true, \"text\": [1.0, 1.0, 2.0, 3.0, 3.0, 3.0, 4.0, 4.0, 4.0, 4.0, 4.0, 5.0, 7.0, 7.0, 7.0, 7.0, 7.0, 7.0, 7.0, 7.0, 7.0, 7.0, 8.0], \"textposition\": \"auto\", \"type\": \"bar\", \"x\": [\"01/26/2020 23:00:00\", \"01/27/2020 20:30:00\", \"01/28/2020 23:00:00\", \"01/29/2020 21:00:00\", \"01/30/2020 21:30:00\", \"01/31/2020 19:00:00\", \"02/01/2020 23:00:00\", \"02/02/2020 21:00:00\", \"02/03/2020 21:40:00\", \"02/04/2020 22:00:00\", \"02/05/2020 12:20:00\", \"02/06/2020 20:05:00\", \"02/07/2020 20:24:00\", \"02/08/2020 23:04:00\", \"02/09/2020 23:20:00\", \"02/10/2020 19:30:00\", \"02/11/2020 20:44:00\", \"02/12/2020 22:00:00\", \"02/13/2020 21:15:00\", \"02/14/2020 22:00:00\", \"02/15/2020 22:00:00\", \"02/16/2020 22:00:00\", \"02/17/2020 22:00:00\"], \"xaxis\": \"x\", \"y\": [1.0, 1.0, 2.0, 3.0, 3.0, 3.0, 4.0, 4.0, 4.0, 4.0, 4.0, 5.0, 7.0, 7.0, 7.0, 7.0, 7.0, 7.0, 7.0, 7.0, 7.0, 7.0, 8.0], \"yaxis\": \"y\"}, {\"alignmentgroup\": \"True\", \"hoverlabel\": {\"namelength\": 0}, \"hovertemplate\": \"Country=Cambodia<br>Date=%{x}<br>Confirmed=%{text}\", \"legendgroup\": \"Cambodia\", \"marker\": {\"color\": \"#B6E880\"}, \"name\": \"Cambodia\", \"offsetgroup\": \"Cambodia\", \"orientation\": \"v\", \"showlegend\": true, \"text\": [1.0, 1.0, 1.0, 1.0, 1.0, 1.0, 1.0, 1.0, 1.0, 1.0, 1.0, 1.0, 1.0, 1.0, 1.0, 1.0, 1.0, 1.0, 1.0, 1.0, 1.0, 1.0], \"textposition\": \"auto\", \"type\": \"bar\", \"x\": [\"01/27/2020 20:30:00\", \"01/28/2020 23:00:00\", \"01/29/2020 21:00:00\", \"01/30/2020 21:30:00\", \"01/31/2020 19:00:00\", \"02/01/2020 23:00:00\", \"02/02/2020 21:00:00\", \"02/03/2020 21:40:00\", \"02/04/2020 22:00:00\", \"02/05/2020 12:20:00\", \"02/06/2020 20:05:00\", \"02/07/2020 20:24:00\", \"02/08/2020 23:04:00\", \"02/09/2020 23:20:00\", \"02/10/2020 19:30:00\", \"02/11/2020 20:44:00\", \"02/12/2020 22:00:00\", \"02/13/2020 21:15:00\", \"02/14/2020 22:00:00\", \"02/15/2020 22:00:00\", \"02/16/2020 22:00:00\", \"02/17/2020 22:00:00\"], \"xaxis\": \"x\", \"y\": [1.0, 1.0, 1.0, 1.0, 1.0, 1.0, 1.0, 1.0, 1.0, 1.0, 1.0, 1.0, 1.0, 1.0, 1.0, 1.0, 1.0, 1.0, 1.0, 1.0, 1.0, 1.0], \"yaxis\": \"y\"}, {\"alignmentgroup\": \"True\", \"hoverlabel\": {\"namelength\": 0}, \"hovertemplate\": \"Country=Sri Lanka<br>Date=%{x}<br>Confirmed=%{text}\", \"legendgroup\": \"Sri Lanka\", \"marker\": {\"color\": \"#FF97FF\"}, \"name\": \"Sri Lanka\", \"offsetgroup\": \"Sri Lanka\", \"orientation\": \"v\", \"showlegend\": true, \"text\": [1.0, 1.0, 1.0, 1.0, 1.0, 1.0, 1.0, 1.0, 1.0, 1.0, 1.0, 1.0, 1.0, 1.0, 1.0, 1.0, 1.0, 1.0, 1.0, 1.0, 1.0, 1.0], \"textposition\": \"auto\", \"type\": \"bar\", \"x\": [\"01/27/2020 20:30:00\", \"01/28/2020 23:00:00\", \"01/29/2020 21:00:00\", \"01/30/2020 21:30:00\", \"01/31/2020 19:00:00\", \"02/01/2020 23:00:00\", \"02/02/2020 21:00:00\", \"02/03/2020 21:40:00\", \"02/04/2020 22:00:00\", \"02/05/2020 12:20:00\", \"02/06/2020 20:05:00\", \"02/07/2020 20:24:00\", \"02/08/2020 23:04:00\", \"02/09/2020 23:20:00\", \"02/10/2020 19:30:00\", \"02/11/2020 20:44:00\", \"02/12/2020 22:00:00\", \"02/13/2020 21:15:00\", \"02/14/2020 22:00:00\", \"02/15/2020 22:00:00\", \"02/16/2020 22:00:00\", \"02/17/2020 22:00:00\"], \"xaxis\": \"x\", \"y\": [1.0, 1.0, 1.0, 1.0, 1.0, 1.0, 1.0, 1.0, 1.0, 1.0, 1.0, 1.0, 1.0, 1.0, 1.0, 1.0, 1.0, 1.0, 1.0, 1.0, 1.0, 1.0], \"yaxis\": \"y\"}, {\"alignmentgroup\": \"True\", \"hoverlabel\": {\"namelength\": 0}, \"hovertemplate\": \"Country=Ivory Coast<br>Date=%{x}<br>Confirmed=%{text}\", \"legendgroup\": \"Ivory Coast\", \"marker\": {\"color\": \"#FECB52\"}, \"name\": \"Ivory Coast\", \"offsetgroup\": \"Ivory Coast\", \"orientation\": \"v\", \"showlegend\": true, \"text\": [0.0], \"textposition\": \"auto\", \"type\": \"bar\", \"x\": [\"01/27/2020 20:30:00\"], \"xaxis\": \"x\", \"y\": [0.0], \"yaxis\": \"y\"}, {\"alignmentgroup\": \"True\", \"hoverlabel\": {\"namelength\": 0}, \"hovertemplate\": \"Country=Germany<br>Date=%{x}<br>Confirmed=%{text}\", \"legendgroup\": \"Germany\", \"marker\": {\"color\": \"#636efa\"}, \"name\": \"Germany\", \"offsetgroup\": \"Germany\", \"orientation\": \"v\", \"showlegend\": true, \"text\": [1.0, 4.0, 4.0, 4.0, 7.0, 8.0, 10.0, 12.0, 12.0, 12.0, 12.0, 13.0, 13.0, 14.0, 14.0, 16.0, 16.0, 16.0, 16.0, 16.0, 16.0, 16.0], \"textposition\": \"auto\", \"type\": \"bar\", \"x\": [\"01/27/2020 20:30:00\", \"01/28/2020 23:00:00\", \"01/29/2020 21:00:00\", \"01/30/2020 21:30:00\", \"01/31/2020 19:00:00\", \"02/01/2020 23:00:00\", \"02/02/2020 21:00:00\", \"02/03/2020 21:40:00\", \"02/04/2020 22:00:00\", \"02/05/2020 12:20:00\", \"02/06/2020 20:05:00\", \"02/07/2020 20:24:00\", \"02/08/2020 23:04:00\", \"02/09/2020 23:20:00\", \"02/10/2020 19:30:00\", \"02/11/2020 20:44:00\", \"02/12/2020 22:00:00\", \"02/13/2020 21:15:00\", \"02/14/2020 22:00:00\", \"02/15/2020 22:00:00\", \"02/16/2020 22:00:00\", \"02/17/2020 22:00:00\"], \"xaxis\": \"x\", \"y\": [1.0, 4.0, 4.0, 4.0, 7.0, 8.0, 10.0, 12.0, 12.0, 12.0, 12.0, 13.0, 13.0, 14.0, 14.0, 16.0, 16.0, 16.0, 16.0, 16.0, 16.0, 16.0], \"yaxis\": \"y\"}, {\"alignmentgroup\": \"True\", \"hoverlabel\": {\"namelength\": 0}, \"hovertemplate\": \"Country=Finland<br>Date=%{x}<br>Confirmed=%{text}\", \"legendgroup\": \"Finland\", \"marker\": {\"color\": \"#EF553B\"}, \"name\": \"Finland\", \"offsetgroup\": \"Finland\", \"orientation\": \"v\", \"showlegend\": true, \"text\": [1.0, 1.0, 1.0, 1.0, 1.0, 1.0, 1.0, 1.0, 1.0, 1.0, 1.0, 1.0, 1.0, 1.0, 1.0, 1.0, 1.0, 1.0, 1.0, 1.0], \"textposition\": \"auto\", \"type\": \"bar\", \"x\": [\"01/29/2020 21:00:00\", \"01/30/2020 21:30:00\", \"01/31/2020 19:00:00\", \"02/01/2020 23:00:00\", \"02/02/2020 21:00:00\", \"02/03/2020 21:40:00\", \"02/04/2020 22:00:00\", \"02/05/2020 12:20:00\", \"02/06/2020 20:05:00\", \"02/07/2020 20:24:00\", \"02/08/2020 23:04:00\", \"02/09/2020 23:20:00\", \"02/10/2020 19:30:00\", \"02/11/2020 20:44:00\", \"02/12/2020 22:00:00\", \"02/13/2020 21:15:00\", \"02/14/2020 22:00:00\", \"02/15/2020 22:00:00\", \"02/16/2020 22:00:00\", \"02/17/2020 22:00:00\"], \"xaxis\": \"x\", \"y\": [1.0, 1.0, 1.0, 1.0, 1.0, 1.0, 1.0, 1.0, 1.0, 1.0, 1.0, 1.0, 1.0, 1.0, 1.0, 1.0, 1.0, 1.0, 1.0, 1.0], \"yaxis\": \"y\"}, {\"alignmentgroup\": \"True\", \"hoverlabel\": {\"namelength\": 0}, \"hovertemplate\": \"Country=United Arab Emirates<br>Date=%{x}<br>Confirmed=%{text}\", \"legendgroup\": \"United Arab Emirates\", \"marker\": {\"color\": \"#00cc96\"}, \"name\": \"United Arab Emirates\", \"offsetgroup\": \"United Arab Emirates\", \"orientation\": \"v\", \"showlegend\": true, \"text\": [4.0, 4.0, 4.0, 4.0, 5.0, 5.0, 5.0, 5.0, 5.0, 5.0, 7.0, 7.0, 8.0, 8.0, 8.0, 8.0, 8.0, 8.0, 9.0, 9.0], \"textposition\": \"auto\", \"type\": \"bar\", \"x\": [\"01/29/2020 21:00:00\", \"01/30/2020 21:30:00\", \"01/31/2020 19:00:00\", \"02/01/2020 23:00:00\", \"02/02/2020 21:00:00\", \"02/03/2020 21:40:00\", \"02/04/2020 22:00:00\", \"02/05/2020 12:20:00\", \"02/06/2020 20:05:00\", \"02/07/2020 20:24:00\", \"02/08/2020 23:04:00\", \"02/09/2020 23:20:00\", \"02/10/2020 19:30:00\", \"02/11/2020 20:44:00\", \"02/12/2020 22:00:00\", \"02/13/2020 21:15:00\", \"02/14/2020 22:00:00\", \"02/15/2020 22:00:00\", \"02/16/2020 22:00:00\", \"02/17/2020 22:00:00\"], \"xaxis\": \"x\", \"y\": [4.0, 4.0, 4.0, 4.0, 5.0, 5.0, 5.0, 5.0, 5.0, 5.0, 7.0, 7.0, 8.0, 8.0, 8.0, 8.0, 8.0, 8.0, 9.0, 9.0], \"yaxis\": \"y\"}, {\"alignmentgroup\": \"True\", \"hoverlabel\": {\"namelength\": 0}, \"hovertemplate\": \"Country=India<br>Date=%{x}<br>Confirmed=%{text}\", \"legendgroup\": \"India\", \"marker\": {\"color\": \"#ab63fa\"}, \"name\": \"India\", \"offsetgroup\": \"India\", \"orientation\": \"v\", \"showlegend\": true, \"text\": [1.0, 1.0, 1.0, 2.0, 3.0, 3.0, 3.0, 3.0, 3.0, 3.0, 3.0, 3.0, 3.0, 3.0, 3.0, 3.0, 3.0, 3.0, 3.0], \"textposition\": \"auto\", \"type\": \"bar\", \"x\": [\"01/30/2020 21:30:00\", \"01/31/2020 19:00:00\", \"02/01/2020 23:00:00\", \"02/02/2020 21:00:00\", \"02/03/2020 21:40:00\", \"02/04/2020 22:00:00\", \"02/05/2020 12:20:00\", \"02/06/2020 20:05:00\", \"02/07/2020 20:24:00\", \"02/08/2020 23:04:00\", \"02/09/2020 23:20:00\", \"02/10/2020 19:30:00\", \"02/11/2020 20:44:00\", \"02/12/2020 22:00:00\", \"02/13/2020 21:15:00\", \"02/14/2020 22:00:00\", \"02/15/2020 22:00:00\", \"02/16/2020 22:00:00\", \"02/17/2020 22:00:00\"], \"xaxis\": \"x\", \"y\": [1.0, 1.0, 1.0, 2.0, 3.0, 3.0, 3.0, 3.0, 3.0, 3.0, 3.0, 3.0, 3.0, 3.0, 3.0, 3.0, 3.0, 3.0, 3.0], \"yaxis\": \"y\"}, {\"alignmentgroup\": \"True\", \"hoverlabel\": {\"namelength\": 0}, \"hovertemplate\": \"Country=Italy<br>Date=%{x}<br>Confirmed=%{text}\", \"legendgroup\": \"Italy\", \"marker\": {\"color\": \"#FFA15A\"}, \"name\": \"Italy\", \"offsetgroup\": \"Italy\", \"orientation\": \"v\", \"showlegend\": true, \"text\": [2.0, 2.0, 2.0, 2.0, 2.0, 2.0, 2.0, 2.0, 3.0, 3.0, 3.0, 3.0, 3.0, 3.0, 3.0, 3.0, 3.0, 3.0, 3.0], \"textposition\": \"auto\", \"type\": \"bar\", \"x\": [\"01/30/2020 21:30:00\", \"01/31/2020 19:00:00\", \"02/01/2020 23:00:00\", \"02/02/2020 21:00:00\", \"02/03/2020 21:40:00\", \"02/04/2020 22:00:00\", \"02/05/2020 12:20:00\", \"02/06/2020 20:05:00\", \"02/07/2020 20:24:00\", \"02/08/2020 23:04:00\", \"02/09/2020 23:20:00\", \"02/10/2020 19:30:00\", \"02/11/2020 20:44:00\", \"02/12/2020 22:00:00\", \"02/13/2020 21:15:00\", \"02/14/2020 22:00:00\", \"02/15/2020 22:00:00\", \"02/16/2020 22:00:00\", \"02/17/2020 22:00:00\"], \"xaxis\": \"x\", \"y\": [2.0, 2.0, 2.0, 2.0, 2.0, 2.0, 2.0, 2.0, 3.0, 3.0, 3.0, 3.0, 3.0, 3.0, 3.0, 3.0, 3.0, 3.0, 3.0], \"yaxis\": \"y\"}, {\"alignmentgroup\": \"True\", \"hoverlabel\": {\"namelength\": 0}, \"hovertemplate\": \"Country=Sweden<br>Date=%{x}<br>Confirmed=%{text}\", \"legendgroup\": \"Sweden\", \"marker\": {\"color\": \"#19d3f3\"}, \"name\": \"Sweden\", \"offsetgroup\": \"Sweden\", \"orientation\": \"v\", \"showlegend\": true, \"text\": [1.0, 1.0, 1.0, 1.0, 1.0, 1.0, 1.0, 1.0, 1.0, 1.0, 1.0, 1.0, 1.0, 1.0, 1.0, 1.0, 1.0, 1.0], \"textposition\": \"auto\", \"type\": \"bar\", \"x\": [\"01/31/2020 19:00:00\", \"02/01/2020 23:00:00\", \"02/02/2020 21:00:00\", \"02/03/2020 21:40:00\", \"02/04/2020 22:00:00\", \"02/05/2020 12:20:00\", \"02/06/2020 20:05:00\", \"02/07/2020 20:24:00\", \"02/08/2020 23:04:00\", \"02/09/2020 23:20:00\", \"02/10/2020 19:30:00\", \"02/11/2020 20:44:00\", \"02/12/2020 22:00:00\", \"02/13/2020 21:15:00\", \"02/14/2020 22:00:00\", \"02/15/2020 22:00:00\", \"02/16/2020 22:00:00\", \"02/17/2020 22:00:00\"], \"xaxis\": \"x\", \"y\": [1.0, 1.0, 1.0, 1.0, 1.0, 1.0, 1.0, 1.0, 1.0, 1.0, 1.0, 1.0, 1.0, 1.0, 1.0, 1.0, 1.0, 1.0], \"yaxis\": \"y\"}, {\"alignmentgroup\": \"True\", \"hoverlabel\": {\"namelength\": 0}, \"hovertemplate\": \"Country=Spain<br>Date=%{x}<br>Confirmed=%{text}\", \"legendgroup\": \"Spain\", \"marker\": {\"color\": \"#FF6692\"}, \"name\": \"Spain\", \"offsetgroup\": \"Spain\", \"orientation\": \"v\", \"showlegend\": true, \"text\": [1.0, 1.0, 1.0, 1.0, 1.0, 1.0, 1.0, 1.0, 1.0, 2.0, 2.0, 2.0, 2.0, 2.0, 2.0, 2.0, 2.0, 2.0], \"textposition\": \"auto\", \"type\": \"bar\", \"x\": [\"01/31/2020 19:00:00\", \"02/01/2020 23:00:00\", \"02/02/2020 21:00:00\", \"02/03/2020 21:40:00\", \"02/04/2020 22:00:00\", \"02/05/2020 12:20:00\", \"02/06/2020 20:05:00\", \"02/07/2020 20:24:00\", \"02/08/2020 23:04:00\", \"02/09/2020 23:20:00\", \"02/10/2020 19:30:00\", \"02/11/2020 20:44:00\", \"02/12/2020 22:00:00\", \"02/13/2020 21:15:00\", \"02/14/2020 22:00:00\", \"02/15/2020 22:00:00\", \"02/16/2020 22:00:00\", \"02/17/2020 22:00:00\"], \"xaxis\": \"x\", \"y\": [1.0, 1.0, 1.0, 1.0, 1.0, 1.0, 1.0, 1.0, 1.0, 2.0, 2.0, 2.0, 2.0, 2.0, 2.0, 2.0, 2.0, 2.0], \"yaxis\": \"y\"}, {\"alignmentgroup\": \"True\", \"hoverlabel\": {\"namelength\": 0}, \"hovertemplate\": \"Country=UK<br>Date=%{x}<br>Confirmed=%{text}\", \"legendgroup\": \"UK\", \"marker\": {\"color\": \"#B6E880\"}, \"name\": \"UK\", \"offsetgroup\": \"UK\", \"orientation\": \"v\", \"showlegend\": true, \"text\": [2.0, 2.0, 2.0, 2.0, 2.0, 2.0, 2.0, 3.0, 3.0, 3.0, 8.0, 8.0, 9.0, 9.0, 9.0, 9.0, 9.0, 9.0], \"textposition\": \"auto\", \"type\": \"bar\", \"x\": [\"01/31/2020 19:00:00\", \"02/01/2020 23:00:00\", \"02/02/2020 21:00:00\", \"02/03/2020 21:40:00\", \"02/04/2020 22:00:00\", \"02/05/2020 12:20:00\", \"02/06/2020 20:05:00\", \"02/07/2020 20:24:00\", \"02/08/2020 23:04:00\", \"02/09/2020 23:20:00\", \"02/10/2020 19:30:00\", \"02/11/2020 20:44:00\", \"02/12/2020 22:00:00\", \"02/13/2020 21:15:00\", \"02/14/2020 22:00:00\", \"02/15/2020 22:00:00\", \"02/16/2020 22:00:00\", \"02/17/2020 22:00:00\"], \"xaxis\": \"x\", \"y\": [2.0, 2.0, 2.0, 2.0, 2.0, 2.0, 2.0, 3.0, 3.0, 3.0, 8.0, 8.0, 9.0, 9.0, 9.0, 9.0, 9.0, 9.0], \"yaxis\": \"y\"}, {\"alignmentgroup\": \"True\", \"hoverlabel\": {\"namelength\": 0}, \"hovertemplate\": \"Country=Russia<br>Date=%{x}<br>Confirmed=%{text}\", \"legendgroup\": \"Russia\", \"marker\": {\"color\": \"#FF97FF\"}, \"name\": \"Russia\", \"offsetgroup\": \"Russia\", \"orientation\": \"v\", \"showlegend\": true, \"text\": [2.0, 2.0, 2.0, 2.0, 2.0, 2.0, 2.0, 2.0, 2.0, 2.0, 2.0, 2.0, 2.0, 2.0, 2.0, 2.0, 2.0, 2.0], \"textposition\": \"auto\", \"type\": \"bar\", \"x\": [\"01/31/2020 19:00:00\", \"02/01/2020 23:00:00\", \"02/02/2020 21:00:00\", \"02/03/2020 21:40:00\", \"02/04/2020 22:00:00\", \"02/05/2020 12:20:00\", \"02/06/2020 20:05:00\", \"02/07/2020 20:24:00\", \"02/08/2020 23:04:00\", \"02/09/2020 23:20:00\", \"02/10/2020 19:30:00\", \"02/11/2020 20:44:00\", \"02/12/2020 22:00:00\", \"02/13/2020 21:15:00\", \"02/14/2020 22:00:00\", \"02/15/2020 22:00:00\", \"02/16/2020 22:00:00\", \"02/17/2020 22:00:00\"], \"xaxis\": \"x\", \"y\": [2.0, 2.0, 2.0, 2.0, 2.0, 2.0, 2.0, 2.0, 2.0, 2.0, 2.0, 2.0, 2.0, 2.0, 2.0, 2.0, 2.0, 2.0], \"yaxis\": \"y\"}, {\"alignmentgroup\": \"True\", \"hoverlabel\": {\"namelength\": 0}, \"hovertemplate\": \"Country=Belgium<br>Date=%{x}<br>Confirmed=%{text}\", \"legendgroup\": \"Belgium\", \"marker\": {\"color\": \"#FECB52\"}, \"name\": \"Belgium\", \"offsetgroup\": \"Belgium\", \"orientation\": \"v\", \"showlegend\": true, \"text\": [1.0, 1.0, 1.0, 1.0, 1.0, 1.0, 1.0, 1.0, 1.0, 1.0, 1.0, 1.0, 1.0, 1.0], \"textposition\": \"auto\", \"type\": \"bar\", \"x\": [\"02/04/2020 22:00:00\", \"02/05/2020 12:20:00\", \"02/06/2020 20:05:00\", \"02/07/2020 20:24:00\", \"02/08/2020 23:04:00\", \"02/09/2020 23:20:00\", \"02/10/2020 19:30:00\", \"02/11/2020 20:44:00\", \"02/12/2020 22:00:00\", \"02/13/2020 21:15:00\", \"02/14/2020 22:00:00\", \"02/15/2020 22:00:00\", \"02/16/2020 22:00:00\", \"02/17/2020 22:00:00\"], \"xaxis\": \"x\", \"y\": [1.0, 1.0, 1.0, 1.0, 1.0, 1.0, 1.0, 1.0, 1.0, 1.0, 1.0, 1.0, 1.0, 1.0], \"yaxis\": \"y\"}, {\"alignmentgroup\": \"True\", \"hoverlabel\": {\"namelength\": 0}, \"hovertemplate\": \"Country=Others<br>Date=%{x}<br>Confirmed=%{text}\", \"legendgroup\": \"Others\", \"marker\": {\"color\": \"#636efa\"}, \"name\": \"Others\", \"offsetgroup\": \"Others\", \"orientation\": \"v\", \"showlegend\": true, \"text\": [61.0, 61.0, 64.0, 135.0, 135.0, 175.0, 218.0, 218.0, 285.0, 355.0, 454.0], \"textposition\": \"auto\", \"type\": \"bar\", \"x\": [\"02/07/2020 20:24:00\", \"02/08/2020 23:04:00\", \"02/09/2020 23:20:00\", \"02/10/2020 19:30:00\", \"02/11/2020 20:44:00\", \"02/12/2020 22:00:00\", \"02/13/2020 21:15:00\", \"02/14/2020 22:00:00\", \"02/15/2020 22:00:00\", \"02/16/2020 22:00:00\", \"02/17/2020 22:00:00\"], \"xaxis\": \"x\", \"y\": [61.0, 61.0, 64.0, 135.0, 135.0, 175.0, 218.0, 218.0, 285.0, 355.0, 454.0], \"yaxis\": \"y\"}, {\"alignmentgroup\": \"True\", \"hoverlabel\": {\"namelength\": 0}, \"hovertemplate\": \"Country=Egypt<br>Date=%{x}<br>Confirmed=%{text}\", \"legendgroup\": \"Egypt\", \"marker\": {\"color\": \"#EF553B\"}, \"name\": \"Egypt\", \"offsetgroup\": \"Egypt\", \"orientation\": \"v\", \"showlegend\": true, \"text\": [1.0, 1.0, 1.0, 1.0], \"textposition\": \"auto\", \"type\": \"bar\", \"x\": [\"02/14/2020 22:00:00\", \"02/15/2020 22:00:00\", \"02/16/2020 22:00:00\", \"02/17/2020 22:00:00\"], \"xaxis\": \"x\", \"y\": [1.0, 1.0, 1.0, 1.0], \"yaxis\": \"y\"}],\n",
       "                        {\"barmode\": \"relative\", \"height\": 600, \"legend\": {\"title\": {\"text\": \"Country\"}, \"tracegroupgap\": 0}, \"template\": {\"data\": {\"bar\": [{\"error_x\": {\"color\": \"#2a3f5f\"}, \"error_y\": {\"color\": \"#2a3f5f\"}, \"marker\": {\"line\": {\"color\": \"#E5ECF6\", \"width\": 0.5}}, \"type\": \"bar\"}], \"barpolar\": [{\"marker\": {\"line\": {\"color\": \"#E5ECF6\", \"width\": 0.5}}, \"type\": \"barpolar\"}], \"carpet\": [{\"aaxis\": {\"endlinecolor\": \"#2a3f5f\", \"gridcolor\": \"white\", \"linecolor\": \"white\", \"minorgridcolor\": \"white\", \"startlinecolor\": \"#2a3f5f\"}, \"baxis\": {\"endlinecolor\": \"#2a3f5f\", \"gridcolor\": \"white\", \"linecolor\": \"white\", \"minorgridcolor\": \"white\", \"startlinecolor\": \"#2a3f5f\"}, \"type\": \"carpet\"}], \"choropleth\": [{\"colorbar\": {\"outlinewidth\": 0, \"ticks\": \"\"}, \"type\": \"choropleth\"}], \"contour\": [{\"colorbar\": {\"outlinewidth\": 0, \"ticks\": \"\"}, \"colorscale\": [[0.0, \"#0d0887\"], [0.1111111111111111, \"#46039f\"], [0.2222222222222222, \"#7201a8\"], [0.3333333333333333, \"#9c179e\"], [0.4444444444444444, \"#bd3786\"], [0.5555555555555556, \"#d8576b\"], [0.6666666666666666, \"#ed7953\"], [0.7777777777777778, \"#fb9f3a\"], [0.8888888888888888, \"#fdca26\"], [1.0, \"#f0f921\"]], \"type\": \"contour\"}], \"contourcarpet\": [{\"colorbar\": {\"outlinewidth\": 0, \"ticks\": \"\"}, \"type\": \"contourcarpet\"}], \"heatmap\": [{\"colorbar\": {\"outlinewidth\": 0, \"ticks\": \"\"}, \"colorscale\": [[0.0, \"#0d0887\"], [0.1111111111111111, \"#46039f\"], [0.2222222222222222, \"#7201a8\"], [0.3333333333333333, \"#9c179e\"], [0.4444444444444444, \"#bd3786\"], [0.5555555555555556, \"#d8576b\"], [0.6666666666666666, \"#ed7953\"], [0.7777777777777778, \"#fb9f3a\"], [0.8888888888888888, \"#fdca26\"], [1.0, \"#f0f921\"]], \"type\": \"heatmap\"}], \"heatmapgl\": [{\"colorbar\": {\"outlinewidth\": 0, \"ticks\": \"\"}, \"colorscale\": [[0.0, \"#0d0887\"], [0.1111111111111111, \"#46039f\"], [0.2222222222222222, \"#7201a8\"], [0.3333333333333333, \"#9c179e\"], [0.4444444444444444, \"#bd3786\"], [0.5555555555555556, \"#d8576b\"], [0.6666666666666666, \"#ed7953\"], [0.7777777777777778, \"#fb9f3a\"], [0.8888888888888888, \"#fdca26\"], [1.0, \"#f0f921\"]], \"type\": \"heatmapgl\"}], \"histogram\": [{\"marker\": {\"colorbar\": {\"outlinewidth\": 0, \"ticks\": \"\"}}, \"type\": \"histogram\"}], \"histogram2d\": [{\"colorbar\": {\"outlinewidth\": 0, \"ticks\": \"\"}, \"colorscale\": [[0.0, \"#0d0887\"], [0.1111111111111111, \"#46039f\"], [0.2222222222222222, \"#7201a8\"], [0.3333333333333333, \"#9c179e\"], [0.4444444444444444, \"#bd3786\"], [0.5555555555555556, \"#d8576b\"], [0.6666666666666666, \"#ed7953\"], [0.7777777777777778, \"#fb9f3a\"], [0.8888888888888888, \"#fdca26\"], [1.0, \"#f0f921\"]], \"type\": \"histogram2d\"}], \"histogram2dcontour\": [{\"colorbar\": {\"outlinewidth\": 0, \"ticks\": \"\"}, \"colorscale\": [[0.0, \"#0d0887\"], [0.1111111111111111, \"#46039f\"], [0.2222222222222222, \"#7201a8\"], [0.3333333333333333, \"#9c179e\"], [0.4444444444444444, \"#bd3786\"], [0.5555555555555556, \"#d8576b\"], [0.6666666666666666, \"#ed7953\"], [0.7777777777777778, \"#fb9f3a\"], [0.8888888888888888, \"#fdca26\"], [1.0, \"#f0f921\"]], \"type\": \"histogram2dcontour\"}], \"mesh3d\": [{\"colorbar\": {\"outlinewidth\": 0, \"ticks\": \"\"}, \"type\": \"mesh3d\"}], \"parcoords\": [{\"line\": {\"colorbar\": {\"outlinewidth\": 0, \"ticks\": \"\"}}, \"type\": \"parcoords\"}], \"pie\": [{\"automargin\": true, \"type\": \"pie\"}], \"scatter\": [{\"marker\": {\"colorbar\": {\"outlinewidth\": 0, \"ticks\": \"\"}}, \"type\": \"scatter\"}], \"scatter3d\": [{\"line\": {\"colorbar\": {\"outlinewidth\": 0, \"ticks\": \"\"}}, \"marker\": {\"colorbar\": {\"outlinewidth\": 0, \"ticks\": \"\"}}, \"type\": \"scatter3d\"}], \"scattercarpet\": [{\"marker\": {\"colorbar\": {\"outlinewidth\": 0, \"ticks\": \"\"}}, \"type\": \"scattercarpet\"}], \"scattergeo\": [{\"marker\": {\"colorbar\": {\"outlinewidth\": 0, \"ticks\": \"\"}}, \"type\": \"scattergeo\"}], \"scattergl\": [{\"marker\": {\"colorbar\": {\"outlinewidth\": 0, \"ticks\": \"\"}}, \"type\": \"scattergl\"}], \"scattermapbox\": [{\"marker\": {\"colorbar\": {\"outlinewidth\": 0, \"ticks\": \"\"}}, \"type\": \"scattermapbox\"}], \"scatterpolar\": [{\"marker\": {\"colorbar\": {\"outlinewidth\": 0, \"ticks\": \"\"}}, \"type\": \"scatterpolar\"}], \"scatterpolargl\": [{\"marker\": {\"colorbar\": {\"outlinewidth\": 0, \"ticks\": \"\"}}, \"type\": \"scatterpolargl\"}], \"scatterternary\": [{\"marker\": {\"colorbar\": {\"outlinewidth\": 0, \"ticks\": \"\"}}, \"type\": \"scatterternary\"}], \"surface\": [{\"colorbar\": {\"outlinewidth\": 0, \"ticks\": \"\"}, \"colorscale\": [[0.0, \"#0d0887\"], [0.1111111111111111, \"#46039f\"], [0.2222222222222222, \"#7201a8\"], [0.3333333333333333, \"#9c179e\"], [0.4444444444444444, \"#bd3786\"], [0.5555555555555556, \"#d8576b\"], [0.6666666666666666, \"#ed7953\"], [0.7777777777777778, \"#fb9f3a\"], [0.8888888888888888, \"#fdca26\"], [1.0, \"#f0f921\"]], \"type\": \"surface\"}], \"table\": [{\"cells\": {\"fill\": {\"color\": \"#EBF0F8\"}, \"line\": {\"color\": \"white\"}}, \"header\": {\"fill\": {\"color\": \"#C8D4E3\"}, \"line\": {\"color\": \"white\"}}, \"type\": \"table\"}]}, \"layout\": {\"annotationdefaults\": {\"arrowcolor\": \"#2a3f5f\", \"arrowhead\": 0, \"arrowwidth\": 1}, \"coloraxis\": {\"colorbar\": {\"outlinewidth\": 0, \"ticks\": \"\"}}, \"colorscale\": {\"diverging\": [[0, \"#8e0152\"], [0.1, \"#c51b7d\"], [0.2, \"#de77ae\"], [0.3, \"#f1b6da\"], [0.4, \"#fde0ef\"], [0.5, \"#f7f7f7\"], [0.6, \"#e6f5d0\"], [0.7, \"#b8e186\"], [0.8, \"#7fbc41\"], [0.9, \"#4d9221\"], [1, \"#276419\"]], \"sequential\": [[0.0, \"#0d0887\"], [0.1111111111111111, \"#46039f\"], [0.2222222222222222, \"#7201a8\"], [0.3333333333333333, \"#9c179e\"], [0.4444444444444444, \"#bd3786\"], [0.5555555555555556, \"#d8576b\"], [0.6666666666666666, \"#ed7953\"], [0.7777777777777778, \"#fb9f3a\"], [0.8888888888888888, \"#fdca26\"], [1.0, \"#f0f921\"]], \"sequentialminus\": [[0.0, \"#0d0887\"], [0.1111111111111111, \"#46039f\"], [0.2222222222222222, \"#7201a8\"], [0.3333333333333333, \"#9c179e\"], [0.4444444444444444, \"#bd3786\"], [0.5555555555555556, \"#d8576b\"], [0.6666666666666666, \"#ed7953\"], [0.7777777777777778, \"#fb9f3a\"], [0.8888888888888888, \"#fdca26\"], [1.0, \"#f0f921\"]]}, \"colorway\": [\"#636efa\", \"#EF553B\", \"#00cc96\", \"#ab63fa\", \"#FFA15A\", \"#19d3f3\", \"#FF6692\", \"#B6E880\", \"#FF97FF\", \"#FECB52\"], \"font\": {\"color\": \"#2a3f5f\"}, \"geo\": {\"bgcolor\": \"white\", \"lakecolor\": \"white\", \"landcolor\": \"#E5ECF6\", \"showlakes\": true, \"showland\": true, \"subunitcolor\": \"white\"}, \"hoverlabel\": {\"align\": \"left\"}, \"hovermode\": \"closest\", \"mapbox\": {\"style\": \"light\"}, \"paper_bgcolor\": \"white\", \"plot_bgcolor\": \"#E5ECF6\", \"polar\": {\"angularaxis\": {\"gridcolor\": \"white\", \"linecolor\": \"white\", \"ticks\": \"\"}, \"bgcolor\": \"#E5ECF6\", \"radialaxis\": {\"gridcolor\": \"white\", \"linecolor\": \"white\", \"ticks\": \"\"}}, \"scene\": {\"xaxis\": {\"backgroundcolor\": \"#E5ECF6\", \"gridcolor\": \"white\", \"gridwidth\": 2, \"linecolor\": \"white\", \"showbackground\": true, \"ticks\": \"\", \"zerolinecolor\": \"white\"}, \"yaxis\": {\"backgroundcolor\": \"#E5ECF6\", \"gridcolor\": \"white\", \"gridwidth\": 2, \"linecolor\": \"white\", \"showbackground\": true, \"ticks\": \"\", \"zerolinecolor\": \"white\"}, \"zaxis\": {\"backgroundcolor\": \"#E5ECF6\", \"gridcolor\": \"white\", \"gridwidth\": 2, \"linecolor\": \"white\", \"showbackground\": true, \"ticks\": \"\", \"zerolinecolor\": \"white\"}}, \"shapedefaults\": {\"line\": {\"color\": \"#2a3f5f\"}}, \"ternary\": {\"aaxis\": {\"gridcolor\": \"white\", \"linecolor\": \"white\", \"ticks\": \"\"}, \"baxis\": {\"gridcolor\": \"white\", \"linecolor\": \"white\", \"ticks\": \"\"}, \"bgcolor\": \"#E5ECF6\", \"caxis\": {\"gridcolor\": \"white\", \"linecolor\": \"white\", \"ticks\": \"\"}}, \"title\": {\"x\": 0.05}, \"xaxis\": {\"automargin\": true, \"gridcolor\": \"white\", \"linecolor\": \"white\", \"ticks\": \"\", \"title\": {\"standoff\": 15}, \"zerolinecolor\": \"white\", \"zerolinewidth\": 2}, \"yaxis\": {\"automargin\": true, \"gridcolor\": \"white\", \"linecolor\": \"white\", \"ticks\": \"\", \"title\": {\"standoff\": 15}, \"zerolinecolor\": \"white\", \"zerolinewidth\": 2}}}, \"title\": {\"text\": \"Cases\"}, \"xaxis\": {\"anchor\": \"y\", \"domain\": [0.0, 1.0], \"title\": {\"text\": \"Date\"}}, \"yaxis\": {\"anchor\": \"x\", \"domain\": [0.0, 1.0], \"title\": {\"text\": \"Confirmed\"}}},\n",
       "                        {\"responsive\": true}\n",
       "                    ).then(function(){\n",
       "                            \n",
       "var gd = document.getElementById('6b8affee-6303-407b-a7e4-78e7ac2203cb');\n",
       "var x = new MutationObserver(function (mutations, observer) {{\n",
       "        var display = window.getComputedStyle(gd).display;\n",
       "        if (!display || display === 'none') {{\n",
       "            console.log([gd, 'removed!']);\n",
       "            Plotly.purge(gd);\n",
       "            observer.disconnect();\n",
       "        }}\n",
       "}});\n",
       "\n",
       "// Listen for the removal of the full notebook cells\n",
       "var notebookContainer = gd.closest('#notebook-container');\n",
       "if (notebookContainer) {{\n",
       "    x.observe(notebookContainer, {childList: true});\n",
       "}}\n",
       "\n",
       "// Listen for the clearing of the current output cell\n",
       "var outputEl = gd.closest('.output');\n",
       "if (outputEl) {{\n",
       "    x.observe(outputEl, {childList: true});\n",
       "}}\n",
       "\n",
       "                        })\n",
       "                };\n",
       "                });\n",
       "            </script>\n",
       "        </div>"
      ]
     },
     "metadata": {},
     "output_type": "display_data"
    }
   ],
   "source": [
    "fig = px.bar(bar_data1, x=\"Date\", y=\"Confirmed\", color='Country', text = 'Confirmed', orientation='v', height=600,\n",
    "             title='Cases')\n",
    "fig.show()\n"
   ]
  },
  {
   "cell_type": "code",
   "execution_count": 79,
   "metadata": {},
   "outputs": [
    {
     "data": {
      "application/vnd.plotly.v1+json": {
       "config": {
        "plotlyServerURL": "https://plot.ly"
       },
       "data": [
        {
         "alignmentgroup": "True",
         "hoverlabel": {
          "namelength": 0
         },
         "hovertemplate": "Country=Japan<br>Date=%{x}<br>Deaths=%{text}",
         "legendgroup": "Japan",
         "marker": {
          "color": "#636efa"
         },
         "name": "Japan",
         "offsetgroup": "Japan",
         "orientation": "v",
         "showlegend": true,
         "text": [
          0,
          0,
          0,
          0,
          0,
          0,
          0,
          0,
          0,
          0,
          0,
          0,
          0,
          0,
          0,
          0,
          0,
          0,
          0,
          0,
          0,
          0,
          1,
          1,
          1,
          1,
          1
         ],
         "textposition": "auto",
         "type": "bar",
         "x": [
          "01/22/2020 12:00:00",
          "01/23/2020 12:00:00",
          "01/24/2020 12:00:00",
          "01/25/2020 22:00:00",
          "01/26/2020 23:00:00",
          "01/27/2020 20:30:00",
          "01/28/2020 23:00:00",
          "01/29/2020 21:00:00",
          "01/30/2020 21:30:00",
          "01/31/2020 19:00:00",
          "02/01/2020 23:00:00",
          "02/02/2020 21:00:00",
          "02/03/2020 21:40:00",
          "02/04/2020 22:00:00",
          "02/05/2020 12:20:00",
          "02/06/2020 20:05:00",
          "02/07/2020 20:24:00",
          "02/08/2020 23:04:00",
          "02/09/2020 23:20:00",
          "02/10/2020 19:30:00",
          "02/11/2020 20:44:00",
          "02/12/2020 22:00:00",
          "02/13/2020 21:15:00",
          "02/14/2020 22:00:00",
          "02/15/2020 22:00:00",
          "02/16/2020 22:00:00",
          "02/17/2020 22:00:00"
         ],
         "xaxis": "x",
         "y": [
          0,
          0,
          0,
          0,
          0,
          0,
          0,
          0,
          0,
          0,
          0,
          0,
          0,
          0,
          0,
          0,
          0,
          0,
          0,
          0,
          0,
          0,
          1,
          1,
          1,
          1,
          1
         ],
         "yaxis": "y"
        },
        {
         "alignmentgroup": "True",
         "hoverlabel": {
          "namelength": 0
         },
         "hovertemplate": "Country=US<br>Date=%{x}<br>Deaths=%{text}",
         "legendgroup": "US",
         "marker": {
          "color": "#EF553B"
         },
         "name": "US",
         "offsetgroup": "US",
         "orientation": "v",
         "showlegend": true,
         "text": [
          0,
          0,
          0,
          0,
          0,
          0,
          0,
          0,
          0,
          0,
          0,
          0,
          0,
          0,
          0,
          0,
          0,
          0,
          0,
          0,
          0,
          0,
          0,
          0,
          0,
          0,
          0
         ],
         "textposition": "auto",
         "type": "bar",
         "x": [
          "01/22/2020 12:00:00",
          "01/23/2020 12:00:00",
          "01/24/2020 12:00:00",
          "01/25/2020 22:00:00",
          "01/26/2020 23:00:00",
          "01/27/2020 20:30:00",
          "01/28/2020 23:00:00",
          "01/29/2020 21:00:00",
          "01/30/2020 21:30:00",
          "01/31/2020 19:00:00",
          "02/01/2020 23:00:00",
          "02/02/2020 21:00:00",
          "02/03/2020 21:40:00",
          "02/04/2020 22:00:00",
          "02/05/2020 12:20:00",
          "02/06/2020 20:05:00",
          "02/07/2020 20:24:00",
          "02/08/2020 23:04:00",
          "02/09/2020 23:20:00",
          "02/10/2020 19:30:00",
          "02/11/2020 20:44:00",
          "02/12/2020 22:00:00",
          "02/13/2020 21:15:00",
          "02/14/2020 22:00:00",
          "02/15/2020 22:00:00",
          "02/16/2020 22:00:00",
          "02/17/2020 22:00:00"
         ],
         "xaxis": "x",
         "y": [
          0,
          0,
          0,
          0,
          0,
          0,
          0,
          0,
          0,
          0,
          0,
          0,
          0,
          0,
          0,
          0,
          0,
          0,
          0,
          0,
          0,
          0,
          0,
          0,
          0,
          0,
          0
         ],
         "yaxis": "y"
        },
        {
         "alignmentgroup": "True",
         "hoverlabel": {
          "namelength": 0
         },
         "hovertemplate": "Country=South Korea<br>Date=%{x}<br>Deaths=%{text}",
         "legendgroup": "South Korea",
         "marker": {
          "color": "#00cc96"
         },
         "name": "South Korea",
         "offsetgroup": "South Korea",
         "orientation": "v",
         "showlegend": true,
         "text": [
          0,
          0,
          0,
          0,
          0,
          0,
          0,
          0,
          0,
          0,
          0,
          0,
          0,
          0,
          0,
          0,
          0,
          0,
          0,
          0,
          0,
          0,
          0,
          0,
          0,
          0,
          0
         ],
         "textposition": "auto",
         "type": "bar",
         "x": [
          "01/22/2020 12:00:00",
          "01/23/2020 12:00:00",
          "01/24/2020 12:00:00",
          "01/25/2020 22:00:00",
          "01/26/2020 23:00:00",
          "01/27/2020 20:30:00",
          "01/28/2020 23:00:00",
          "01/29/2020 21:00:00",
          "01/30/2020 21:30:00",
          "01/31/2020 19:00:00",
          "02/01/2020 23:00:00",
          "02/02/2020 21:00:00",
          "02/03/2020 21:40:00",
          "02/04/2020 22:00:00",
          "02/05/2020 12:20:00",
          "02/06/2020 20:05:00",
          "02/07/2020 20:24:00",
          "02/08/2020 23:04:00",
          "02/09/2020 23:20:00",
          "02/10/2020 19:30:00",
          "02/11/2020 20:44:00",
          "02/12/2020 22:00:00",
          "02/13/2020 21:15:00",
          "02/14/2020 22:00:00",
          "02/15/2020 22:00:00",
          "02/16/2020 22:00:00",
          "02/17/2020 22:00:00"
         ],
         "xaxis": "x",
         "y": [
          0,
          0,
          0,
          0,
          0,
          0,
          0,
          0,
          0,
          0,
          0,
          0,
          0,
          0,
          0,
          0,
          0,
          0,
          0,
          0,
          0,
          0,
          0,
          0,
          0,
          0,
          0
         ],
         "yaxis": "y"
        },
        {
         "alignmentgroup": "True",
         "hoverlabel": {
          "namelength": 0
         },
         "hovertemplate": "Country=Thailand<br>Date=%{x}<br>Deaths=%{text}",
         "legendgroup": "Thailand",
         "marker": {
          "color": "#ab63fa"
         },
         "name": "Thailand",
         "offsetgroup": "Thailand",
         "orientation": "v",
         "showlegend": true,
         "text": [
          0,
          0,
          0,
          0,
          0,
          0,
          0,
          0,
          0,
          0,
          0,
          0,
          0,
          0,
          0,
          0,
          0,
          0,
          0,
          0,
          0,
          0,
          0,
          0,
          0,
          0,
          0
         ],
         "textposition": "auto",
         "type": "bar",
         "x": [
          "01/22/2020 12:00:00",
          "01/23/2020 12:00:00",
          "01/24/2020 12:00:00",
          "01/25/2020 22:00:00",
          "01/26/2020 23:00:00",
          "01/27/2020 20:30:00",
          "01/28/2020 23:00:00",
          "01/29/2020 21:00:00",
          "01/30/2020 21:30:00",
          "01/31/2020 19:00:00",
          "02/01/2020 23:00:00",
          "02/02/2020 21:00:00",
          "02/03/2020 21:40:00",
          "02/04/2020 22:00:00",
          "02/05/2020 12:20:00",
          "02/06/2020 20:05:00",
          "02/07/2020 20:24:00",
          "02/08/2020 23:04:00",
          "02/09/2020 23:20:00",
          "02/10/2020 19:30:00",
          "02/11/2020 20:44:00",
          "02/12/2020 22:00:00",
          "02/13/2020 21:15:00",
          "02/14/2020 22:00:00",
          "02/15/2020 22:00:00",
          "02/16/2020 22:00:00",
          "02/17/2020 22:00:00"
         ],
         "xaxis": "x",
         "y": [
          0,
          0,
          0,
          0,
          0,
          0,
          0,
          0,
          0,
          0,
          0,
          0,
          0,
          0,
          0,
          0,
          0,
          0,
          0,
          0,
          0,
          0,
          0,
          0,
          0,
          0,
          0
         ],
         "yaxis": "y"
        },
        {
         "alignmentgroup": "True",
         "hoverlabel": {
          "namelength": 0
         },
         "hovertemplate": "Country=Hong Kong<br>Date=%{x}<br>Deaths=%{text}",
         "legendgroup": "Hong Kong",
         "marker": {
          "color": "#FFA15A"
         },
         "name": "Hong Kong",
         "offsetgroup": "Hong Kong",
         "orientation": "v",
         "showlegend": true,
         "text": [
          0,
          0,
          0,
          0,
          0,
          0,
          0,
          0,
          0,
          0,
          0,
          0,
          1,
          1,
          1,
          1,
          1,
          1,
          1,
          1,
          1,
          1,
          1,
          1,
          1,
          1
         ],
         "textposition": "auto",
         "type": "bar",
         "x": [
          "01/23/2020 12:00:00",
          "01/24/2020 12:00:00",
          "01/25/2020 22:00:00",
          "01/26/2020 23:00:00",
          "01/27/2020 20:30:00",
          "01/28/2020 23:00:00",
          "01/29/2020 21:00:00",
          "01/30/2020 21:30:00",
          "01/31/2020 19:00:00",
          "02/01/2020 23:00:00",
          "02/02/2020 21:00:00",
          "02/03/2020 21:40:00",
          "02/04/2020 22:00:00",
          "02/05/2020 12:20:00",
          "02/06/2020 20:05:00",
          "02/07/2020 20:24:00",
          "02/08/2020 23:04:00",
          "02/09/2020 23:20:00",
          "02/10/2020 19:30:00",
          "02/11/2020 20:44:00",
          "02/12/2020 22:00:00",
          "02/13/2020 21:15:00",
          "02/14/2020 22:00:00",
          "02/15/2020 22:00:00",
          "02/16/2020 22:00:00",
          "02/17/2020 22:00:00"
         ],
         "xaxis": "x",
         "y": [
          0,
          0,
          0,
          0,
          0,
          0,
          0,
          0,
          0,
          0,
          0,
          0,
          1,
          1,
          1,
          1,
          1,
          1,
          1,
          1,
          1,
          1,
          1,
          1,
          1,
          1
         ],
         "yaxis": "y"
        },
        {
         "alignmentgroup": "True",
         "hoverlabel": {
          "namelength": 0
         },
         "hovertemplate": "Country=Taiwan<br>Date=%{x}<br>Deaths=%{text}",
         "legendgroup": "Taiwan",
         "marker": {
          "color": "#19d3f3"
         },
         "name": "Taiwan",
         "offsetgroup": "Taiwan",
         "orientation": "v",
         "showlegend": true,
         "text": [
          0,
          0,
          0,
          0,
          0,
          0,
          0,
          0,
          0,
          0,
          0,
          0,
          0,
          0,
          0,
          0,
          0,
          0,
          0,
          0,
          0,
          0,
          0,
          0,
          1,
          1
         ],
         "textposition": "auto",
         "type": "bar",
         "x": [
          "01/23/2020 12:00:00",
          "01/24/2020 12:00:00",
          "01/25/2020 22:00:00",
          "01/26/2020 23:00:00",
          "01/27/2020 20:30:00",
          "01/28/2020 23:00:00",
          "01/29/2020 21:00:00",
          "01/30/2020 21:30:00",
          "01/31/2020 19:00:00",
          "02/01/2020 23:00:00",
          "02/02/2020 21:00:00",
          "02/03/2020 21:40:00",
          "02/04/2020 22:00:00",
          "02/05/2020 12:20:00",
          "02/06/2020 20:05:00",
          "02/07/2020 20:24:00",
          "02/08/2020 23:04:00",
          "02/09/2020 23:20:00",
          "02/10/2020 19:30:00",
          "02/11/2020 20:44:00",
          "02/12/2020 22:00:00",
          "02/13/2020 21:15:00",
          "02/14/2020 22:00:00",
          "02/15/2020 22:00:00",
          "02/16/2020 22:00:00",
          "02/17/2020 22:00:00"
         ],
         "xaxis": "x",
         "y": [
          0,
          0,
          0,
          0,
          0,
          0,
          0,
          0,
          0,
          0,
          0,
          0,
          0,
          0,
          0,
          0,
          0,
          0,
          0,
          0,
          0,
          0,
          0,
          0,
          1,
          1
         ],
         "yaxis": "y"
        },
        {
         "alignmentgroup": "True",
         "hoverlabel": {
          "namelength": 0
         },
         "hovertemplate": "Country=Australia<br>Date=%{x}<br>Deaths=%{text}",
         "legendgroup": "Australia",
         "marker": {
          "color": "#FF6692"
         },
         "name": "Australia",
         "offsetgroup": "Australia",
         "orientation": "v",
         "showlegend": true,
         "text": [
          0,
          0,
          0,
          0,
          0,
          0,
          0,
          0,
          0,
          0,
          0,
          0,
          0,
          0,
          0,
          0,
          0,
          0,
          0,
          0,
          0,
          0,
          0,
          0,
          0
         ],
         "textposition": "auto",
         "type": "bar",
         "x": [
          "01/23/2020 12:00:00",
          "01/25/2020 22:00:00",
          "01/26/2020 23:00:00",
          "01/27/2020 20:30:00",
          "01/28/2020 23:00:00",
          "01/29/2020 21:00:00",
          "01/30/2020 21:30:00",
          "01/31/2020 19:00:00",
          "02/01/2020 23:00:00",
          "02/02/2020 21:00:00",
          "02/03/2020 21:40:00",
          "02/04/2020 22:00:00",
          "02/05/2020 12:20:00",
          "02/06/2020 20:05:00",
          "02/07/2020 20:24:00",
          "02/08/2020 23:04:00",
          "02/09/2020 23:20:00",
          "02/10/2020 19:30:00",
          "02/11/2020 20:44:00",
          "02/12/2020 22:00:00",
          "02/13/2020 21:15:00",
          "02/14/2020 22:00:00",
          "02/15/2020 22:00:00",
          "02/16/2020 22:00:00",
          "02/17/2020 22:00:00"
         ],
         "xaxis": "x",
         "y": [
          0,
          0,
          0,
          0,
          0,
          0,
          0,
          0,
          0,
          0,
          0,
          0,
          0,
          0,
          0,
          0,
          0,
          0,
          0,
          0,
          0,
          0,
          0,
          0,
          0
         ],
         "yaxis": "y"
        },
        {
         "alignmentgroup": "True",
         "hoverlabel": {
          "namelength": 0
         },
         "hovertemplate": "Country=Macau<br>Date=%{x}<br>Deaths=%{text}",
         "legendgroup": "Macau",
         "marker": {
          "color": "#B6E880"
         },
         "name": "Macau",
         "offsetgroup": "Macau",
         "orientation": "v",
         "showlegend": true,
         "text": [
          0,
          0,
          0,
          0,
          0,
          0,
          0,
          0,
          0,
          0,
          0,
          0,
          0,
          0,
          0,
          0,
          0,
          0,
          0,
          0,
          0,
          0,
          0,
          0,
          0,
          0
         ],
         "textposition": "auto",
         "type": "bar",
         "x": [
          "01/23/2020 12:00:00",
          "01/24/2020 12:00:00",
          "01/25/2020 22:00:00",
          "01/26/2020 23:00:00",
          "01/27/2020 20:30:00",
          "01/28/2020 23:00:00",
          "01/29/2020 21:00:00",
          "01/30/2020 21:30:00",
          "01/31/2020 19:00:00",
          "02/01/2020 23:00:00",
          "02/02/2020 21:00:00",
          "02/03/2020 21:40:00",
          "02/04/2020 22:00:00",
          "02/05/2020 12:20:00",
          "02/06/2020 20:05:00",
          "02/07/2020 20:24:00",
          "02/08/2020 23:04:00",
          "02/09/2020 23:20:00",
          "02/10/2020 19:30:00",
          "02/11/2020 20:44:00",
          "02/12/2020 22:00:00",
          "02/13/2020 21:15:00",
          "02/14/2020 22:00:00",
          "02/15/2020 22:00:00",
          "02/16/2020 22:00:00",
          "02/17/2020 22:00:00"
         ],
         "xaxis": "x",
         "y": [
          0,
          0,
          0,
          0,
          0,
          0,
          0,
          0,
          0,
          0,
          0,
          0,
          0,
          0,
          0,
          0,
          0,
          0,
          0,
          0,
          0,
          0,
          0,
          0,
          0,
          0
         ],
         "yaxis": "y"
        },
        {
         "alignmentgroup": "True",
         "hoverlabel": {
          "namelength": 0
         },
         "hovertemplate": "Country=Malaysia<br>Date=%{x}<br>Deaths=%{text}",
         "legendgroup": "Malaysia",
         "marker": {
          "color": "#FF97FF"
         },
         "name": "Malaysia",
         "offsetgroup": "Malaysia",
         "orientation": "v",
         "showlegend": true,
         "text": [
          0,
          0,
          0,
          0,
          0,
          0,
          0,
          0,
          0,
          0,
          0,
          0,
          0,
          0,
          0,
          0,
          0,
          0,
          0,
          0,
          0,
          0,
          0,
          0,
          0
         ],
         "textposition": "auto",
         "type": "bar",
         "x": [
          "01/23/2020 12:00:00",
          "01/25/2020 22:00:00",
          "01/26/2020 23:00:00",
          "01/27/2020 20:30:00",
          "01/28/2020 23:00:00",
          "01/29/2020 21:00:00",
          "01/30/2020 21:30:00",
          "01/31/2020 19:00:00",
          "02/01/2020 23:00:00",
          "02/02/2020 21:00:00",
          "02/03/2020 21:40:00",
          "02/04/2020 22:00:00",
          "02/05/2020 12:20:00",
          "02/06/2020 20:05:00",
          "02/07/2020 20:24:00",
          "02/08/2020 23:04:00",
          "02/09/2020 23:20:00",
          "02/10/2020 19:30:00",
          "02/11/2020 20:44:00",
          "02/12/2020 22:00:00",
          "02/13/2020 21:15:00",
          "02/14/2020 22:00:00",
          "02/15/2020 22:00:00",
          "02/16/2020 22:00:00",
          "02/17/2020 22:00:00"
         ],
         "xaxis": "x",
         "y": [
          0,
          0,
          0,
          0,
          0,
          0,
          0,
          0,
          0,
          0,
          0,
          0,
          0,
          0,
          0,
          0,
          0,
          0,
          0,
          0,
          0,
          0,
          0,
          0,
          0
         ],
         "yaxis": "y"
        },
        {
         "alignmentgroup": "True",
         "hoverlabel": {
          "namelength": 0
         },
         "hovertemplate": "Country=Singapore<br>Date=%{x}<br>Deaths=%{text}",
         "legendgroup": "Singapore",
         "marker": {
          "color": "#FECB52"
         },
         "name": "Singapore",
         "offsetgroup": "Singapore",
         "orientation": "v",
         "showlegend": true,
         "text": [
          0,
          0,
          0,
          0,
          0,
          0,
          0,
          0,
          0,
          0,
          0,
          0,
          0,
          0,
          0,
          0,
          0,
          0,
          0,
          0,
          0,
          0,
          0,
          0,
          0,
          0
         ],
         "textposition": "auto",
         "type": "bar",
         "x": [
          "01/23/2020 12:00:00",
          "01/24/2020 12:00:00",
          "01/25/2020 22:00:00",
          "01/26/2020 23:00:00",
          "01/27/2020 20:30:00",
          "01/28/2020 23:00:00",
          "01/29/2020 21:00:00",
          "01/30/2020 21:30:00",
          "01/31/2020 19:00:00",
          "02/01/2020 23:00:00",
          "02/02/2020 21:00:00",
          "02/03/2020 21:40:00",
          "02/04/2020 22:00:00",
          "02/05/2020 12:20:00",
          "02/06/2020 20:05:00",
          "02/07/2020 20:24:00",
          "02/08/2020 23:04:00",
          "02/09/2020 23:20:00",
          "02/10/2020 19:30:00",
          "02/11/2020 20:44:00",
          "02/12/2020 22:00:00",
          "02/13/2020 21:15:00",
          "02/14/2020 22:00:00",
          "02/15/2020 22:00:00",
          "02/16/2020 22:00:00",
          "02/17/2020 22:00:00"
         ],
         "xaxis": "x",
         "y": [
          0,
          0,
          0,
          0,
          0,
          0,
          0,
          0,
          0,
          0,
          0,
          0,
          0,
          0,
          0,
          0,
          0,
          0,
          0,
          0,
          0,
          0,
          0,
          0,
          0,
          0
         ],
         "yaxis": "y"
        },
        {
         "alignmentgroup": "True",
         "hoverlabel": {
          "namelength": 0
         },
         "hovertemplate": "Country=Mexico<br>Date=%{x}<br>Deaths=%{text}",
         "legendgroup": "Mexico",
         "marker": {
          "color": "#636efa"
         },
         "name": "Mexico",
         "offsetgroup": "Mexico",
         "orientation": "v",
         "showlegend": true,
         "text": [
          0
         ],
         "textposition": "auto",
         "type": "bar",
         "x": [
          "01/23/2020 12:00:00"
         ],
         "xaxis": "x",
         "y": [
          0
         ],
         "yaxis": "y"
        },
        {
         "alignmentgroup": "True",
         "hoverlabel": {
          "namelength": 0
         },
         "hovertemplate": "Country=Brazil<br>Date=%{x}<br>Deaths=%{text}",
         "legendgroup": "Brazil",
         "marker": {
          "color": "#EF553B"
         },
         "name": "Brazil",
         "offsetgroup": "Brazil",
         "orientation": "v",
         "showlegend": true,
         "text": [
          0
         ],
         "textposition": "auto",
         "type": "bar",
         "x": [
          "01/23/2020 12:00:00"
         ],
         "xaxis": "x",
         "y": [
          0
         ],
         "yaxis": "y"
        },
        {
         "alignmentgroup": "True",
         "hoverlabel": {
          "namelength": 0
         },
         "hovertemplate": "Country=Vietnam<br>Date=%{x}<br>Deaths=%{text}",
         "legendgroup": "Vietnam",
         "marker": {
          "color": "#00cc96"
         },
         "name": "Vietnam",
         "offsetgroup": "Vietnam",
         "orientation": "v",
         "showlegend": true,
         "text": [
          0,
          0,
          0,
          0,
          0,
          0,
          0,
          0,
          0,
          0,
          0,
          0,
          0,
          0,
          0,
          0,
          0,
          0,
          0,
          0,
          0,
          0,
          0,
          0,
          0,
          0
         ],
         "textposition": "auto",
         "type": "bar",
         "x": [
          "01/23/2020 12:00:00",
          "01/24/2020 12:00:00",
          "01/25/2020 22:00:00",
          "01/26/2020 23:00:00",
          "01/27/2020 20:30:00",
          "01/28/2020 23:00:00",
          "01/29/2020 21:00:00",
          "01/30/2020 21:30:00",
          "01/31/2020 19:00:00",
          "02/01/2020 23:00:00",
          "02/02/2020 21:00:00",
          "02/03/2020 21:40:00",
          "02/04/2020 22:00:00",
          "02/05/2020 12:20:00",
          "02/06/2020 20:05:00",
          "02/07/2020 20:24:00",
          "02/08/2020 23:04:00",
          "02/09/2020 23:20:00",
          "02/10/2020 19:30:00",
          "02/11/2020 20:44:00",
          "02/12/2020 22:00:00",
          "02/13/2020 21:15:00",
          "02/14/2020 22:00:00",
          "02/15/2020 22:00:00",
          "02/16/2020 22:00:00",
          "02/17/2020 22:00:00"
         ],
         "xaxis": "x",
         "y": [
          0,
          0,
          0,
          0,
          0,
          0,
          0,
          0,
          0,
          0,
          0,
          0,
          0,
          0,
          0,
          0,
          0,
          0,
          0,
          0,
          0,
          0,
          0,
          0,
          0,
          0
         ],
         "yaxis": "y"
        },
        {
         "alignmentgroup": "True",
         "hoverlabel": {
          "namelength": 0
         },
         "hovertemplate": "Country=Philippines<br>Date=%{x}<br>Deaths=%{text}",
         "legendgroup": "Philippines",
         "marker": {
          "color": "#ab63fa"
         },
         "name": "Philippines",
         "offsetgroup": "Philippines",
         "orientation": "v",
         "showlegend": true,
         "text": [
          0,
          0,
          0,
          1,
          1,
          1,
          1,
          1,
          1,
          1,
          1,
          1,
          1,
          1,
          1,
          1,
          1,
          1,
          1,
          1
         ],
         "textposition": "auto",
         "type": "bar",
         "x": [
          "01/23/2020 12:00:00",
          "01/30/2020 21:30:00",
          "01/31/2020 19:00:00",
          "02/01/2020 23:00:00",
          "02/02/2020 21:00:00",
          "02/03/2020 21:40:00",
          "02/04/2020 22:00:00",
          "02/05/2020 12:20:00",
          "02/06/2020 20:05:00",
          "02/07/2020 20:24:00",
          "02/08/2020 23:04:00",
          "02/09/2020 23:20:00",
          "02/10/2020 19:30:00",
          "02/11/2020 20:44:00",
          "02/12/2020 22:00:00",
          "02/13/2020 21:15:00",
          "02/14/2020 22:00:00",
          "02/15/2020 22:00:00",
          "02/16/2020 22:00:00",
          "02/17/2020 22:00:00"
         ],
         "xaxis": "x",
         "y": [
          0,
          0,
          0,
          1,
          1,
          1,
          1,
          1,
          1,
          1,
          1,
          1,
          1,
          1,
          1,
          1,
          1,
          1,
          1,
          1
         ],
         "yaxis": "y"
        },
        {
         "alignmentgroup": "True",
         "hoverlabel": {
          "namelength": 0
         },
         "hovertemplate": "Country=France<br>Date=%{x}<br>Deaths=%{text}",
         "legendgroup": "France",
         "marker": {
          "color": "#FFA15A"
         },
         "name": "France",
         "offsetgroup": "France",
         "orientation": "v",
         "showlegend": true,
         "text": [
          0,
          0,
          0,
          0,
          0,
          0,
          0,
          0,
          0,
          0,
          0,
          0,
          0,
          0,
          0,
          0,
          0,
          0,
          0,
          0,
          0,
          0,
          1,
          1,
          1
         ],
         "textposition": "auto",
         "type": "bar",
         "x": [
          "01/24/2020 12:00:00",
          "01/25/2020 22:00:00",
          "01/26/2020 23:00:00",
          "01/27/2020 20:30:00",
          "01/28/2020 23:00:00",
          "01/29/2020 21:00:00",
          "01/30/2020 21:30:00",
          "01/31/2020 19:00:00",
          "02/01/2020 23:00:00",
          "02/02/2020 21:00:00",
          "02/03/2020 21:40:00",
          "02/04/2020 22:00:00",
          "02/05/2020 12:20:00",
          "02/06/2020 20:05:00",
          "02/07/2020 20:24:00",
          "02/08/2020 23:04:00",
          "02/09/2020 23:20:00",
          "02/10/2020 19:30:00",
          "02/11/2020 20:44:00",
          "02/12/2020 22:00:00",
          "02/13/2020 21:15:00",
          "02/14/2020 22:00:00",
          "02/15/2020 22:00:00",
          "02/16/2020 22:00:00",
          "02/17/2020 22:00:00"
         ],
         "xaxis": "x",
         "y": [
          0,
          0,
          0,
          0,
          0,
          0,
          0,
          0,
          0,
          0,
          0,
          0,
          0,
          0,
          0,
          0,
          0,
          0,
          0,
          0,
          0,
          0,
          1,
          1,
          1
         ],
         "yaxis": "y"
        },
        {
         "alignmentgroup": "True",
         "hoverlabel": {
          "namelength": 0
         },
         "hovertemplate": "Country=Nepal<br>Date=%{x}<br>Deaths=%{text}",
         "legendgroup": "Nepal",
         "marker": {
          "color": "#19d3f3"
         },
         "name": "Nepal",
         "offsetgroup": "Nepal",
         "orientation": "v",
         "showlegend": true,
         "text": [
          0,
          0,
          0,
          0,
          0,
          0,
          0,
          0,
          0,
          0,
          0,
          0,
          0,
          0,
          0,
          0,
          0,
          0,
          0,
          0,
          0,
          0,
          0,
          0
         ],
         "textposition": "auto",
         "type": "bar",
         "x": [
          "01/25/2020 22:00:00",
          "01/26/2020 23:00:00",
          "01/27/2020 20:30:00",
          "01/28/2020 23:00:00",
          "01/29/2020 21:00:00",
          "01/30/2020 21:30:00",
          "01/31/2020 19:00:00",
          "02/01/2020 23:00:00",
          "02/02/2020 21:00:00",
          "02/03/2020 21:40:00",
          "02/04/2020 22:00:00",
          "02/05/2020 12:20:00",
          "02/06/2020 20:05:00",
          "02/07/2020 20:24:00",
          "02/08/2020 23:04:00",
          "02/09/2020 23:20:00",
          "02/10/2020 19:30:00",
          "02/11/2020 20:44:00",
          "02/12/2020 22:00:00",
          "02/13/2020 21:15:00",
          "02/14/2020 22:00:00",
          "02/15/2020 22:00:00",
          "02/16/2020 22:00:00",
          "02/17/2020 22:00:00"
         ],
         "xaxis": "x",
         "y": [
          0,
          0,
          0,
          0,
          0,
          0,
          0,
          0,
          0,
          0,
          0,
          0,
          0,
          0,
          0,
          0,
          0,
          0,
          0,
          0,
          0,
          0,
          0,
          0
         ],
         "yaxis": "y"
        },
        {
         "alignmentgroup": "True",
         "hoverlabel": {
          "namelength": 0
         },
         "hovertemplate": "Country=Canada<br>Date=%{x}<br>Deaths=%{text}",
         "legendgroup": "Canada",
         "marker": {
          "color": "#FF6692"
         },
         "name": "Canada",
         "offsetgroup": "Canada",
         "orientation": "v",
         "showlegend": true,
         "text": [
          0,
          0,
          0,
          0,
          0,
          0,
          0,
          0,
          0,
          0,
          0,
          0,
          0,
          0,
          0,
          0,
          0,
          0,
          0,
          0,
          0,
          0,
          0
         ],
         "textposition": "auto",
         "type": "bar",
         "x": [
          "01/26/2020 23:00:00",
          "01/27/2020 20:30:00",
          "01/28/2020 23:00:00",
          "01/29/2020 21:00:00",
          "01/30/2020 21:30:00",
          "01/31/2020 19:00:00",
          "02/01/2020 23:00:00",
          "02/02/2020 21:00:00",
          "02/03/2020 21:40:00",
          "02/04/2020 22:00:00",
          "02/05/2020 12:20:00",
          "02/06/2020 20:05:00",
          "02/07/2020 20:24:00",
          "02/08/2020 23:04:00",
          "02/09/2020 23:20:00",
          "02/10/2020 19:30:00",
          "02/11/2020 20:44:00",
          "02/12/2020 22:00:00",
          "02/13/2020 21:15:00",
          "02/14/2020 22:00:00",
          "02/15/2020 22:00:00",
          "02/16/2020 22:00:00",
          "02/17/2020 22:00:00"
         ],
         "xaxis": "x",
         "y": [
          0,
          0,
          0,
          0,
          0,
          0,
          0,
          0,
          0,
          0,
          0,
          0,
          0,
          0,
          0,
          0,
          0,
          0,
          0,
          0,
          0,
          0,
          0
         ],
         "yaxis": "y"
        },
        {
         "alignmentgroup": "True",
         "hoverlabel": {
          "namelength": 0
         },
         "hovertemplate": "Country=Cambodia<br>Date=%{x}<br>Deaths=%{text}",
         "legendgroup": "Cambodia",
         "marker": {
          "color": "#B6E880"
         },
         "name": "Cambodia",
         "offsetgroup": "Cambodia",
         "orientation": "v",
         "showlegend": true,
         "text": [
          0,
          0,
          0,
          0,
          0,
          0,
          0,
          0,
          0,
          0,
          0,
          0,
          0,
          0,
          0,
          0,
          0,
          0,
          0,
          0,
          0,
          0
         ],
         "textposition": "auto",
         "type": "bar",
         "x": [
          "01/27/2020 20:30:00",
          "01/28/2020 23:00:00",
          "01/29/2020 21:00:00",
          "01/30/2020 21:30:00",
          "01/31/2020 19:00:00",
          "02/01/2020 23:00:00",
          "02/02/2020 21:00:00",
          "02/03/2020 21:40:00",
          "02/04/2020 22:00:00",
          "02/05/2020 12:20:00",
          "02/06/2020 20:05:00",
          "02/07/2020 20:24:00",
          "02/08/2020 23:04:00",
          "02/09/2020 23:20:00",
          "02/10/2020 19:30:00",
          "02/11/2020 20:44:00",
          "02/12/2020 22:00:00",
          "02/13/2020 21:15:00",
          "02/14/2020 22:00:00",
          "02/15/2020 22:00:00",
          "02/16/2020 22:00:00",
          "02/17/2020 22:00:00"
         ],
         "xaxis": "x",
         "y": [
          0,
          0,
          0,
          0,
          0,
          0,
          0,
          0,
          0,
          0,
          0,
          0,
          0,
          0,
          0,
          0,
          0,
          0,
          0,
          0,
          0,
          0
         ],
         "yaxis": "y"
        },
        {
         "alignmentgroup": "True",
         "hoverlabel": {
          "namelength": 0
         },
         "hovertemplate": "Country=Sri Lanka<br>Date=%{x}<br>Deaths=%{text}",
         "legendgroup": "Sri Lanka",
         "marker": {
          "color": "#FF97FF"
         },
         "name": "Sri Lanka",
         "offsetgroup": "Sri Lanka",
         "orientation": "v",
         "showlegend": true,
         "text": [
          0,
          0,
          0,
          0,
          0,
          0,
          0,
          0,
          0,
          0,
          0,
          0,
          0,
          0,
          0,
          0,
          0,
          0,
          0,
          0,
          0,
          0
         ],
         "textposition": "auto",
         "type": "bar",
         "x": [
          "01/27/2020 20:30:00",
          "01/28/2020 23:00:00",
          "01/29/2020 21:00:00",
          "01/30/2020 21:30:00",
          "01/31/2020 19:00:00",
          "02/01/2020 23:00:00",
          "02/02/2020 21:00:00",
          "02/03/2020 21:40:00",
          "02/04/2020 22:00:00",
          "02/05/2020 12:20:00",
          "02/06/2020 20:05:00",
          "02/07/2020 20:24:00",
          "02/08/2020 23:04:00",
          "02/09/2020 23:20:00",
          "02/10/2020 19:30:00",
          "02/11/2020 20:44:00",
          "02/12/2020 22:00:00",
          "02/13/2020 21:15:00",
          "02/14/2020 22:00:00",
          "02/15/2020 22:00:00",
          "02/16/2020 22:00:00",
          "02/17/2020 22:00:00"
         ],
         "xaxis": "x",
         "y": [
          0,
          0,
          0,
          0,
          0,
          0,
          0,
          0,
          0,
          0,
          0,
          0,
          0,
          0,
          0,
          0,
          0,
          0,
          0,
          0,
          0,
          0
         ],
         "yaxis": "y"
        },
        {
         "alignmentgroup": "True",
         "hoverlabel": {
          "namelength": 0
         },
         "hovertemplate": "Country=Ivory Coast<br>Date=%{x}<br>Deaths=%{text}",
         "legendgroup": "Ivory Coast",
         "marker": {
          "color": "#FECB52"
         },
         "name": "Ivory Coast",
         "offsetgroup": "Ivory Coast",
         "orientation": "v",
         "showlegend": true,
         "text": [
          0
         ],
         "textposition": "auto",
         "type": "bar",
         "x": [
          "01/27/2020 20:30:00"
         ],
         "xaxis": "x",
         "y": [
          0
         ],
         "yaxis": "y"
        },
        {
         "alignmentgroup": "True",
         "hoverlabel": {
          "namelength": 0
         },
         "hovertemplate": "Country=Germany<br>Date=%{x}<br>Deaths=%{text}",
         "legendgroup": "Germany",
         "marker": {
          "color": "#636efa"
         },
         "name": "Germany",
         "offsetgroup": "Germany",
         "orientation": "v",
         "showlegend": true,
         "text": [
          0,
          0,
          0,
          0,
          0,
          0,
          0,
          0,
          0,
          0,
          0,
          0,
          0,
          0,
          0,
          0,
          0,
          0,
          0,
          0,
          0,
          0
         ],
         "textposition": "auto",
         "type": "bar",
         "x": [
          "01/27/2020 20:30:00",
          "01/28/2020 23:00:00",
          "01/29/2020 21:00:00",
          "01/30/2020 21:30:00",
          "01/31/2020 19:00:00",
          "02/01/2020 23:00:00",
          "02/02/2020 21:00:00",
          "02/03/2020 21:40:00",
          "02/04/2020 22:00:00",
          "02/05/2020 12:20:00",
          "02/06/2020 20:05:00",
          "02/07/2020 20:24:00",
          "02/08/2020 23:04:00",
          "02/09/2020 23:20:00",
          "02/10/2020 19:30:00",
          "02/11/2020 20:44:00",
          "02/12/2020 22:00:00",
          "02/13/2020 21:15:00",
          "02/14/2020 22:00:00",
          "02/15/2020 22:00:00",
          "02/16/2020 22:00:00",
          "02/17/2020 22:00:00"
         ],
         "xaxis": "x",
         "y": [
          0,
          0,
          0,
          0,
          0,
          0,
          0,
          0,
          0,
          0,
          0,
          0,
          0,
          0,
          0,
          0,
          0,
          0,
          0,
          0,
          0,
          0
         ],
         "yaxis": "y"
        },
        {
         "alignmentgroup": "True",
         "hoverlabel": {
          "namelength": 0
         },
         "hovertemplate": "Country=Finland<br>Date=%{x}<br>Deaths=%{text}",
         "legendgroup": "Finland",
         "marker": {
          "color": "#EF553B"
         },
         "name": "Finland",
         "offsetgroup": "Finland",
         "orientation": "v",
         "showlegend": true,
         "text": [
          0,
          0,
          0,
          0,
          0,
          0,
          0,
          0,
          0,
          0,
          0,
          0,
          0,
          0,
          0,
          0,
          0,
          0,
          0,
          0
         ],
         "textposition": "auto",
         "type": "bar",
         "x": [
          "01/29/2020 21:00:00",
          "01/30/2020 21:30:00",
          "01/31/2020 19:00:00",
          "02/01/2020 23:00:00",
          "02/02/2020 21:00:00",
          "02/03/2020 21:40:00",
          "02/04/2020 22:00:00",
          "02/05/2020 12:20:00",
          "02/06/2020 20:05:00",
          "02/07/2020 20:24:00",
          "02/08/2020 23:04:00",
          "02/09/2020 23:20:00",
          "02/10/2020 19:30:00",
          "02/11/2020 20:44:00",
          "02/12/2020 22:00:00",
          "02/13/2020 21:15:00",
          "02/14/2020 22:00:00",
          "02/15/2020 22:00:00",
          "02/16/2020 22:00:00",
          "02/17/2020 22:00:00"
         ],
         "xaxis": "x",
         "y": [
          0,
          0,
          0,
          0,
          0,
          0,
          0,
          0,
          0,
          0,
          0,
          0,
          0,
          0,
          0,
          0,
          0,
          0,
          0,
          0
         ],
         "yaxis": "y"
        },
        {
         "alignmentgroup": "True",
         "hoverlabel": {
          "namelength": 0
         },
         "hovertemplate": "Country=United Arab Emirates<br>Date=%{x}<br>Deaths=%{text}",
         "legendgroup": "United Arab Emirates",
         "marker": {
          "color": "#00cc96"
         },
         "name": "United Arab Emirates",
         "offsetgroup": "United Arab Emirates",
         "orientation": "v",
         "showlegend": true,
         "text": [
          0,
          0,
          0,
          0,
          0,
          0,
          0,
          0,
          0,
          0,
          0,
          0,
          0,
          0,
          0,
          0,
          0,
          0,
          0,
          0
         ],
         "textposition": "auto",
         "type": "bar",
         "x": [
          "01/29/2020 21:00:00",
          "01/30/2020 21:30:00",
          "01/31/2020 19:00:00",
          "02/01/2020 23:00:00",
          "02/02/2020 21:00:00",
          "02/03/2020 21:40:00",
          "02/04/2020 22:00:00",
          "02/05/2020 12:20:00",
          "02/06/2020 20:05:00",
          "02/07/2020 20:24:00",
          "02/08/2020 23:04:00",
          "02/09/2020 23:20:00",
          "02/10/2020 19:30:00",
          "02/11/2020 20:44:00",
          "02/12/2020 22:00:00",
          "02/13/2020 21:15:00",
          "02/14/2020 22:00:00",
          "02/15/2020 22:00:00",
          "02/16/2020 22:00:00",
          "02/17/2020 22:00:00"
         ],
         "xaxis": "x",
         "y": [
          0,
          0,
          0,
          0,
          0,
          0,
          0,
          0,
          0,
          0,
          0,
          0,
          0,
          0,
          0,
          0,
          0,
          0,
          0,
          0
         ],
         "yaxis": "y"
        },
        {
         "alignmentgroup": "True",
         "hoverlabel": {
          "namelength": 0
         },
         "hovertemplate": "Country=India<br>Date=%{x}<br>Deaths=%{text}",
         "legendgroup": "India",
         "marker": {
          "color": "#ab63fa"
         },
         "name": "India",
         "offsetgroup": "India",
         "orientation": "v",
         "showlegend": true,
         "text": [
          0,
          0,
          0,
          0,
          0,
          0,
          0,
          0,
          0,
          0,
          0,
          0,
          0,
          0,
          0,
          0,
          0,
          0,
          0
         ],
         "textposition": "auto",
         "type": "bar",
         "x": [
          "01/30/2020 21:30:00",
          "01/31/2020 19:00:00",
          "02/01/2020 23:00:00",
          "02/02/2020 21:00:00",
          "02/03/2020 21:40:00",
          "02/04/2020 22:00:00",
          "02/05/2020 12:20:00",
          "02/06/2020 20:05:00",
          "02/07/2020 20:24:00",
          "02/08/2020 23:04:00",
          "02/09/2020 23:20:00",
          "02/10/2020 19:30:00",
          "02/11/2020 20:44:00",
          "02/12/2020 22:00:00",
          "02/13/2020 21:15:00",
          "02/14/2020 22:00:00",
          "02/15/2020 22:00:00",
          "02/16/2020 22:00:00",
          "02/17/2020 22:00:00"
         ],
         "xaxis": "x",
         "y": [
          0,
          0,
          0,
          0,
          0,
          0,
          0,
          0,
          0,
          0,
          0,
          0,
          0,
          0,
          0,
          0,
          0,
          0,
          0
         ],
         "yaxis": "y"
        },
        {
         "alignmentgroup": "True",
         "hoverlabel": {
          "namelength": 0
         },
         "hovertemplate": "Country=Italy<br>Date=%{x}<br>Deaths=%{text}",
         "legendgroup": "Italy",
         "marker": {
          "color": "#FFA15A"
         },
         "name": "Italy",
         "offsetgroup": "Italy",
         "orientation": "v",
         "showlegend": true,
         "text": [
          0,
          0,
          0,
          0,
          0,
          0,
          0,
          0,
          0,
          0,
          0,
          0,
          0,
          0,
          0,
          0,
          0,
          0,
          0
         ],
         "textposition": "auto",
         "type": "bar",
         "x": [
          "01/30/2020 21:30:00",
          "01/31/2020 19:00:00",
          "02/01/2020 23:00:00",
          "02/02/2020 21:00:00",
          "02/03/2020 21:40:00",
          "02/04/2020 22:00:00",
          "02/05/2020 12:20:00",
          "02/06/2020 20:05:00",
          "02/07/2020 20:24:00",
          "02/08/2020 23:04:00",
          "02/09/2020 23:20:00",
          "02/10/2020 19:30:00",
          "02/11/2020 20:44:00",
          "02/12/2020 22:00:00",
          "02/13/2020 21:15:00",
          "02/14/2020 22:00:00",
          "02/15/2020 22:00:00",
          "02/16/2020 22:00:00",
          "02/17/2020 22:00:00"
         ],
         "xaxis": "x",
         "y": [
          0,
          0,
          0,
          0,
          0,
          0,
          0,
          0,
          0,
          0,
          0,
          0,
          0,
          0,
          0,
          0,
          0,
          0,
          0
         ],
         "yaxis": "y"
        },
        {
         "alignmentgroup": "True",
         "hoverlabel": {
          "namelength": 0
         },
         "hovertemplate": "Country=Sweden<br>Date=%{x}<br>Deaths=%{text}",
         "legendgroup": "Sweden",
         "marker": {
          "color": "#19d3f3"
         },
         "name": "Sweden",
         "offsetgroup": "Sweden",
         "orientation": "v",
         "showlegend": true,
         "text": [
          0,
          0,
          0,
          0,
          0,
          0,
          0,
          0,
          0,
          0,
          0,
          0,
          0,
          0,
          0,
          0,
          0,
          0
         ],
         "textposition": "auto",
         "type": "bar",
         "x": [
          "01/31/2020 19:00:00",
          "02/01/2020 23:00:00",
          "02/02/2020 21:00:00",
          "02/03/2020 21:40:00",
          "02/04/2020 22:00:00",
          "02/05/2020 12:20:00",
          "02/06/2020 20:05:00",
          "02/07/2020 20:24:00",
          "02/08/2020 23:04:00",
          "02/09/2020 23:20:00",
          "02/10/2020 19:30:00",
          "02/11/2020 20:44:00",
          "02/12/2020 22:00:00",
          "02/13/2020 21:15:00",
          "02/14/2020 22:00:00",
          "02/15/2020 22:00:00",
          "02/16/2020 22:00:00",
          "02/17/2020 22:00:00"
         ],
         "xaxis": "x",
         "y": [
          0,
          0,
          0,
          0,
          0,
          0,
          0,
          0,
          0,
          0,
          0,
          0,
          0,
          0,
          0,
          0,
          0,
          0
         ],
         "yaxis": "y"
        },
        {
         "alignmentgroup": "True",
         "hoverlabel": {
          "namelength": 0
         },
         "hovertemplate": "Country=Spain<br>Date=%{x}<br>Deaths=%{text}",
         "legendgroup": "Spain",
         "marker": {
          "color": "#FF6692"
         },
         "name": "Spain",
         "offsetgroup": "Spain",
         "orientation": "v",
         "showlegend": true,
         "text": [
          0,
          0,
          0,
          0,
          0,
          0,
          0,
          0,
          0,
          0,
          0,
          0,
          0,
          0,
          0,
          0,
          0,
          0
         ],
         "textposition": "auto",
         "type": "bar",
         "x": [
          "01/31/2020 19:00:00",
          "02/01/2020 23:00:00",
          "02/02/2020 21:00:00",
          "02/03/2020 21:40:00",
          "02/04/2020 22:00:00",
          "02/05/2020 12:20:00",
          "02/06/2020 20:05:00",
          "02/07/2020 20:24:00",
          "02/08/2020 23:04:00",
          "02/09/2020 23:20:00",
          "02/10/2020 19:30:00",
          "02/11/2020 20:44:00",
          "02/12/2020 22:00:00",
          "02/13/2020 21:15:00",
          "02/14/2020 22:00:00",
          "02/15/2020 22:00:00",
          "02/16/2020 22:00:00",
          "02/17/2020 22:00:00"
         ],
         "xaxis": "x",
         "y": [
          0,
          0,
          0,
          0,
          0,
          0,
          0,
          0,
          0,
          0,
          0,
          0,
          0,
          0,
          0,
          0,
          0,
          0
         ],
         "yaxis": "y"
        },
        {
         "alignmentgroup": "True",
         "hoverlabel": {
          "namelength": 0
         },
         "hovertemplate": "Country=UK<br>Date=%{x}<br>Deaths=%{text}",
         "legendgroup": "UK",
         "marker": {
          "color": "#B6E880"
         },
         "name": "UK",
         "offsetgroup": "UK",
         "orientation": "v",
         "showlegend": true,
         "text": [
          0,
          0,
          0,
          0,
          0,
          0,
          0,
          0,
          0,
          0,
          0,
          0,
          0,
          0,
          0,
          0,
          0,
          0
         ],
         "textposition": "auto",
         "type": "bar",
         "x": [
          "01/31/2020 19:00:00",
          "02/01/2020 23:00:00",
          "02/02/2020 21:00:00",
          "02/03/2020 21:40:00",
          "02/04/2020 22:00:00",
          "02/05/2020 12:20:00",
          "02/06/2020 20:05:00",
          "02/07/2020 20:24:00",
          "02/08/2020 23:04:00",
          "02/09/2020 23:20:00",
          "02/10/2020 19:30:00",
          "02/11/2020 20:44:00",
          "02/12/2020 22:00:00",
          "02/13/2020 21:15:00",
          "02/14/2020 22:00:00",
          "02/15/2020 22:00:00",
          "02/16/2020 22:00:00",
          "02/17/2020 22:00:00"
         ],
         "xaxis": "x",
         "y": [
          0,
          0,
          0,
          0,
          0,
          0,
          0,
          0,
          0,
          0,
          0,
          0,
          0,
          0,
          0,
          0,
          0,
          0
         ],
         "yaxis": "y"
        },
        {
         "alignmentgroup": "True",
         "hoverlabel": {
          "namelength": 0
         },
         "hovertemplate": "Country=Russia<br>Date=%{x}<br>Deaths=%{text}",
         "legendgroup": "Russia",
         "marker": {
          "color": "#FF97FF"
         },
         "name": "Russia",
         "offsetgroup": "Russia",
         "orientation": "v",
         "showlegend": true,
         "text": [
          0,
          0,
          0,
          0,
          0,
          0,
          0,
          0,
          0,
          0,
          0,
          0,
          0,
          0,
          0,
          0,
          0,
          0
         ],
         "textposition": "auto",
         "type": "bar",
         "x": [
          "01/31/2020 19:00:00",
          "02/01/2020 23:00:00",
          "02/02/2020 21:00:00",
          "02/03/2020 21:40:00",
          "02/04/2020 22:00:00",
          "02/05/2020 12:20:00",
          "02/06/2020 20:05:00",
          "02/07/2020 20:24:00",
          "02/08/2020 23:04:00",
          "02/09/2020 23:20:00",
          "02/10/2020 19:30:00",
          "02/11/2020 20:44:00",
          "02/12/2020 22:00:00",
          "02/13/2020 21:15:00",
          "02/14/2020 22:00:00",
          "02/15/2020 22:00:00",
          "02/16/2020 22:00:00",
          "02/17/2020 22:00:00"
         ],
         "xaxis": "x",
         "y": [
          0,
          0,
          0,
          0,
          0,
          0,
          0,
          0,
          0,
          0,
          0,
          0,
          0,
          0,
          0,
          0,
          0,
          0
         ],
         "yaxis": "y"
        },
        {
         "alignmentgroup": "True",
         "hoverlabel": {
          "namelength": 0
         },
         "hovertemplate": "Country=Belgium<br>Date=%{x}<br>Deaths=%{text}",
         "legendgroup": "Belgium",
         "marker": {
          "color": "#FECB52"
         },
         "name": "Belgium",
         "offsetgroup": "Belgium",
         "orientation": "v",
         "showlegend": true,
         "text": [
          0,
          0,
          0,
          0,
          0,
          0,
          0,
          0,
          0,
          0,
          0,
          0,
          0,
          0
         ],
         "textposition": "auto",
         "type": "bar",
         "x": [
          "02/04/2020 22:00:00",
          "02/05/2020 12:20:00",
          "02/06/2020 20:05:00",
          "02/07/2020 20:24:00",
          "02/08/2020 23:04:00",
          "02/09/2020 23:20:00",
          "02/10/2020 19:30:00",
          "02/11/2020 20:44:00",
          "02/12/2020 22:00:00",
          "02/13/2020 21:15:00",
          "02/14/2020 22:00:00",
          "02/15/2020 22:00:00",
          "02/16/2020 22:00:00",
          "02/17/2020 22:00:00"
         ],
         "xaxis": "x",
         "y": [
          0,
          0,
          0,
          0,
          0,
          0,
          0,
          0,
          0,
          0,
          0,
          0,
          0,
          0
         ],
         "yaxis": "y"
        },
        {
         "alignmentgroup": "True",
         "hoverlabel": {
          "namelength": 0
         },
         "hovertemplate": "Country=Others<br>Date=%{x}<br>Deaths=%{text}",
         "legendgroup": "Others",
         "marker": {
          "color": "#636efa"
         },
         "name": "Others",
         "offsetgroup": "Others",
         "orientation": "v",
         "showlegend": true,
         "text": [
          0,
          0,
          0,
          0,
          0,
          0,
          0,
          0,
          0,
          0,
          0
         ],
         "textposition": "auto",
         "type": "bar",
         "x": [
          "02/07/2020 20:24:00",
          "02/08/2020 23:04:00",
          "02/09/2020 23:20:00",
          "02/10/2020 19:30:00",
          "02/11/2020 20:44:00",
          "02/12/2020 22:00:00",
          "02/13/2020 21:15:00",
          "02/14/2020 22:00:00",
          "02/15/2020 22:00:00",
          "02/16/2020 22:00:00",
          "02/17/2020 22:00:00"
         ],
         "xaxis": "x",
         "y": [
          0,
          0,
          0,
          0,
          0,
          0,
          0,
          0,
          0,
          0,
          0
         ],
         "yaxis": "y"
        },
        {
         "alignmentgroup": "True",
         "hoverlabel": {
          "namelength": 0
         },
         "hovertemplate": "Country=Egypt<br>Date=%{x}<br>Deaths=%{text}",
         "legendgroup": "Egypt",
         "marker": {
          "color": "#EF553B"
         },
         "name": "Egypt",
         "offsetgroup": "Egypt",
         "orientation": "v",
         "showlegend": true,
         "text": [
          0,
          0,
          0,
          0
         ],
         "textposition": "auto",
         "type": "bar",
         "x": [
          "02/14/2020 22:00:00",
          "02/15/2020 22:00:00",
          "02/16/2020 22:00:00",
          "02/17/2020 22:00:00"
         ],
         "xaxis": "x",
         "y": [
          0,
          0,
          0,
          0
         ],
         "yaxis": "y"
        }
       ],
       "layout": {
        "barmode": "relative",
        "height": 600,
        "legend": {
         "title": {
          "text": "Country"
         },
         "tracegroupgap": 0
        },
        "template": {
         "data": {
          "bar": [
           {
            "error_x": {
             "color": "#2a3f5f"
            },
            "error_y": {
             "color": "#2a3f5f"
            },
            "marker": {
             "line": {
              "color": "#E5ECF6",
              "width": 0.5
             }
            },
            "type": "bar"
           }
          ],
          "barpolar": [
           {
            "marker": {
             "line": {
              "color": "#E5ECF6",
              "width": 0.5
             }
            },
            "type": "barpolar"
           }
          ],
          "carpet": [
           {
            "aaxis": {
             "endlinecolor": "#2a3f5f",
             "gridcolor": "white",
             "linecolor": "white",
             "minorgridcolor": "white",
             "startlinecolor": "#2a3f5f"
            },
            "baxis": {
             "endlinecolor": "#2a3f5f",
             "gridcolor": "white",
             "linecolor": "white",
             "minorgridcolor": "white",
             "startlinecolor": "#2a3f5f"
            },
            "type": "carpet"
           }
          ],
          "choropleth": [
           {
            "colorbar": {
             "outlinewidth": 0,
             "ticks": ""
            },
            "type": "choropleth"
           }
          ],
          "contour": [
           {
            "colorbar": {
             "outlinewidth": 0,
             "ticks": ""
            },
            "colorscale": [
             [
              0,
              "#0d0887"
             ],
             [
              0.1111111111111111,
              "#46039f"
             ],
             [
              0.2222222222222222,
              "#7201a8"
             ],
             [
              0.3333333333333333,
              "#9c179e"
             ],
             [
              0.4444444444444444,
              "#bd3786"
             ],
             [
              0.5555555555555556,
              "#d8576b"
             ],
             [
              0.6666666666666666,
              "#ed7953"
             ],
             [
              0.7777777777777778,
              "#fb9f3a"
             ],
             [
              0.8888888888888888,
              "#fdca26"
             ],
             [
              1,
              "#f0f921"
             ]
            ],
            "type": "contour"
           }
          ],
          "contourcarpet": [
           {
            "colorbar": {
             "outlinewidth": 0,
             "ticks": ""
            },
            "type": "contourcarpet"
           }
          ],
          "heatmap": [
           {
            "colorbar": {
             "outlinewidth": 0,
             "ticks": ""
            },
            "colorscale": [
             [
              0,
              "#0d0887"
             ],
             [
              0.1111111111111111,
              "#46039f"
             ],
             [
              0.2222222222222222,
              "#7201a8"
             ],
             [
              0.3333333333333333,
              "#9c179e"
             ],
             [
              0.4444444444444444,
              "#bd3786"
             ],
             [
              0.5555555555555556,
              "#d8576b"
             ],
             [
              0.6666666666666666,
              "#ed7953"
             ],
             [
              0.7777777777777778,
              "#fb9f3a"
             ],
             [
              0.8888888888888888,
              "#fdca26"
             ],
             [
              1,
              "#f0f921"
             ]
            ],
            "type": "heatmap"
           }
          ],
          "heatmapgl": [
           {
            "colorbar": {
             "outlinewidth": 0,
             "ticks": ""
            },
            "colorscale": [
             [
              0,
              "#0d0887"
             ],
             [
              0.1111111111111111,
              "#46039f"
             ],
             [
              0.2222222222222222,
              "#7201a8"
             ],
             [
              0.3333333333333333,
              "#9c179e"
             ],
             [
              0.4444444444444444,
              "#bd3786"
             ],
             [
              0.5555555555555556,
              "#d8576b"
             ],
             [
              0.6666666666666666,
              "#ed7953"
             ],
             [
              0.7777777777777778,
              "#fb9f3a"
             ],
             [
              0.8888888888888888,
              "#fdca26"
             ],
             [
              1,
              "#f0f921"
             ]
            ],
            "type": "heatmapgl"
           }
          ],
          "histogram": [
           {
            "marker": {
             "colorbar": {
              "outlinewidth": 0,
              "ticks": ""
             }
            },
            "type": "histogram"
           }
          ],
          "histogram2d": [
           {
            "colorbar": {
             "outlinewidth": 0,
             "ticks": ""
            },
            "colorscale": [
             [
              0,
              "#0d0887"
             ],
             [
              0.1111111111111111,
              "#46039f"
             ],
             [
              0.2222222222222222,
              "#7201a8"
             ],
             [
              0.3333333333333333,
              "#9c179e"
             ],
             [
              0.4444444444444444,
              "#bd3786"
             ],
             [
              0.5555555555555556,
              "#d8576b"
             ],
             [
              0.6666666666666666,
              "#ed7953"
             ],
             [
              0.7777777777777778,
              "#fb9f3a"
             ],
             [
              0.8888888888888888,
              "#fdca26"
             ],
             [
              1,
              "#f0f921"
             ]
            ],
            "type": "histogram2d"
           }
          ],
          "histogram2dcontour": [
           {
            "colorbar": {
             "outlinewidth": 0,
             "ticks": ""
            },
            "colorscale": [
             [
              0,
              "#0d0887"
             ],
             [
              0.1111111111111111,
              "#46039f"
             ],
             [
              0.2222222222222222,
              "#7201a8"
             ],
             [
              0.3333333333333333,
              "#9c179e"
             ],
             [
              0.4444444444444444,
              "#bd3786"
             ],
             [
              0.5555555555555556,
              "#d8576b"
             ],
             [
              0.6666666666666666,
              "#ed7953"
             ],
             [
              0.7777777777777778,
              "#fb9f3a"
             ],
             [
              0.8888888888888888,
              "#fdca26"
             ],
             [
              1,
              "#f0f921"
             ]
            ],
            "type": "histogram2dcontour"
           }
          ],
          "mesh3d": [
           {
            "colorbar": {
             "outlinewidth": 0,
             "ticks": ""
            },
            "type": "mesh3d"
           }
          ],
          "parcoords": [
           {
            "line": {
             "colorbar": {
              "outlinewidth": 0,
              "ticks": ""
             }
            },
            "type": "parcoords"
           }
          ],
          "pie": [
           {
            "automargin": true,
            "type": "pie"
           }
          ],
          "scatter": [
           {
            "marker": {
             "colorbar": {
              "outlinewidth": 0,
              "ticks": ""
             }
            },
            "type": "scatter"
           }
          ],
          "scatter3d": [
           {
            "line": {
             "colorbar": {
              "outlinewidth": 0,
              "ticks": ""
             }
            },
            "marker": {
             "colorbar": {
              "outlinewidth": 0,
              "ticks": ""
             }
            },
            "type": "scatter3d"
           }
          ],
          "scattercarpet": [
           {
            "marker": {
             "colorbar": {
              "outlinewidth": 0,
              "ticks": ""
             }
            },
            "type": "scattercarpet"
           }
          ],
          "scattergeo": [
           {
            "marker": {
             "colorbar": {
              "outlinewidth": 0,
              "ticks": ""
             }
            },
            "type": "scattergeo"
           }
          ],
          "scattergl": [
           {
            "marker": {
             "colorbar": {
              "outlinewidth": 0,
              "ticks": ""
             }
            },
            "type": "scattergl"
           }
          ],
          "scattermapbox": [
           {
            "marker": {
             "colorbar": {
              "outlinewidth": 0,
              "ticks": ""
             }
            },
            "type": "scattermapbox"
           }
          ],
          "scatterpolar": [
           {
            "marker": {
             "colorbar": {
              "outlinewidth": 0,
              "ticks": ""
             }
            },
            "type": "scatterpolar"
           }
          ],
          "scatterpolargl": [
           {
            "marker": {
             "colorbar": {
              "outlinewidth": 0,
              "ticks": ""
             }
            },
            "type": "scatterpolargl"
           }
          ],
          "scatterternary": [
           {
            "marker": {
             "colorbar": {
              "outlinewidth": 0,
              "ticks": ""
             }
            },
            "type": "scatterternary"
           }
          ],
          "surface": [
           {
            "colorbar": {
             "outlinewidth": 0,
             "ticks": ""
            },
            "colorscale": [
             [
              0,
              "#0d0887"
             ],
             [
              0.1111111111111111,
              "#46039f"
             ],
             [
              0.2222222222222222,
              "#7201a8"
             ],
             [
              0.3333333333333333,
              "#9c179e"
             ],
             [
              0.4444444444444444,
              "#bd3786"
             ],
             [
              0.5555555555555556,
              "#d8576b"
             ],
             [
              0.6666666666666666,
              "#ed7953"
             ],
             [
              0.7777777777777778,
              "#fb9f3a"
             ],
             [
              0.8888888888888888,
              "#fdca26"
             ],
             [
              1,
              "#f0f921"
             ]
            ],
            "type": "surface"
           }
          ],
          "table": [
           {
            "cells": {
             "fill": {
              "color": "#EBF0F8"
             },
             "line": {
              "color": "white"
             }
            },
            "header": {
             "fill": {
              "color": "#C8D4E3"
             },
             "line": {
              "color": "white"
             }
            },
            "type": "table"
           }
          ]
         },
         "layout": {
          "annotationdefaults": {
           "arrowcolor": "#2a3f5f",
           "arrowhead": 0,
           "arrowwidth": 1
          },
          "coloraxis": {
           "colorbar": {
            "outlinewidth": 0,
            "ticks": ""
           }
          },
          "colorscale": {
           "diverging": [
            [
             0,
             "#8e0152"
            ],
            [
             0.1,
             "#c51b7d"
            ],
            [
             0.2,
             "#de77ae"
            ],
            [
             0.3,
             "#f1b6da"
            ],
            [
             0.4,
             "#fde0ef"
            ],
            [
             0.5,
             "#f7f7f7"
            ],
            [
             0.6,
             "#e6f5d0"
            ],
            [
             0.7,
             "#b8e186"
            ],
            [
             0.8,
             "#7fbc41"
            ],
            [
             0.9,
             "#4d9221"
            ],
            [
             1,
             "#276419"
            ]
           ],
           "sequential": [
            [
             0,
             "#0d0887"
            ],
            [
             0.1111111111111111,
             "#46039f"
            ],
            [
             0.2222222222222222,
             "#7201a8"
            ],
            [
             0.3333333333333333,
             "#9c179e"
            ],
            [
             0.4444444444444444,
             "#bd3786"
            ],
            [
             0.5555555555555556,
             "#d8576b"
            ],
            [
             0.6666666666666666,
             "#ed7953"
            ],
            [
             0.7777777777777778,
             "#fb9f3a"
            ],
            [
             0.8888888888888888,
             "#fdca26"
            ],
            [
             1,
             "#f0f921"
            ]
           ],
           "sequentialminus": [
            [
             0,
             "#0d0887"
            ],
            [
             0.1111111111111111,
             "#46039f"
            ],
            [
             0.2222222222222222,
             "#7201a8"
            ],
            [
             0.3333333333333333,
             "#9c179e"
            ],
            [
             0.4444444444444444,
             "#bd3786"
            ],
            [
             0.5555555555555556,
             "#d8576b"
            ],
            [
             0.6666666666666666,
             "#ed7953"
            ],
            [
             0.7777777777777778,
             "#fb9f3a"
            ],
            [
             0.8888888888888888,
             "#fdca26"
            ],
            [
             1,
             "#f0f921"
            ]
           ]
          },
          "colorway": [
           "#636efa",
           "#EF553B",
           "#00cc96",
           "#ab63fa",
           "#FFA15A",
           "#19d3f3",
           "#FF6692",
           "#B6E880",
           "#FF97FF",
           "#FECB52"
          ],
          "font": {
           "color": "#2a3f5f"
          },
          "geo": {
           "bgcolor": "white",
           "lakecolor": "white",
           "landcolor": "#E5ECF6",
           "showlakes": true,
           "showland": true,
           "subunitcolor": "white"
          },
          "hoverlabel": {
           "align": "left"
          },
          "hovermode": "closest",
          "mapbox": {
           "style": "light"
          },
          "paper_bgcolor": "white",
          "plot_bgcolor": "#E5ECF6",
          "polar": {
           "angularaxis": {
            "gridcolor": "white",
            "linecolor": "white",
            "ticks": ""
           },
           "bgcolor": "#E5ECF6",
           "radialaxis": {
            "gridcolor": "white",
            "linecolor": "white",
            "ticks": ""
           }
          },
          "scene": {
           "xaxis": {
            "backgroundcolor": "#E5ECF6",
            "gridcolor": "white",
            "gridwidth": 2,
            "linecolor": "white",
            "showbackground": true,
            "ticks": "",
            "zerolinecolor": "white"
           },
           "yaxis": {
            "backgroundcolor": "#E5ECF6",
            "gridcolor": "white",
            "gridwidth": 2,
            "linecolor": "white",
            "showbackground": true,
            "ticks": "",
            "zerolinecolor": "white"
           },
           "zaxis": {
            "backgroundcolor": "#E5ECF6",
            "gridcolor": "white",
            "gridwidth": 2,
            "linecolor": "white",
            "showbackground": true,
            "ticks": "",
            "zerolinecolor": "white"
           }
          },
          "shapedefaults": {
           "line": {
            "color": "#2a3f5f"
           }
          },
          "ternary": {
           "aaxis": {
            "gridcolor": "white",
            "linecolor": "white",
            "ticks": ""
           },
           "baxis": {
            "gridcolor": "white",
            "linecolor": "white",
            "ticks": ""
           },
           "bgcolor": "#E5ECF6",
           "caxis": {
            "gridcolor": "white",
            "linecolor": "white",
            "ticks": ""
           }
          },
          "title": {
           "x": 0.05
          },
          "xaxis": {
           "automargin": true,
           "gridcolor": "white",
           "linecolor": "white",
           "ticks": "",
           "title": {
            "standoff": 15
           },
           "zerolinecolor": "white",
           "zerolinewidth": 2
          },
          "yaxis": {
           "automargin": true,
           "gridcolor": "white",
           "linecolor": "white",
           "ticks": "",
           "title": {
            "standoff": 15
           },
           "zerolinecolor": "white",
           "zerolinewidth": 2
          }
         }
        },
        "title": {
         "text": "Deaths"
        },
        "xaxis": {
         "anchor": "y",
         "domain": [
          0,
          1
         ],
         "title": {
          "text": "Date"
         }
        },
        "yaxis": {
         "anchor": "x",
         "domain": [
          0,
          1
         ],
         "title": {
          "text": "Deaths"
         }
        }
       }
      },
      "text/html": [
       "<div>\n",
       "        \n",
       "        \n",
       "            <div id=\"6783ecca-387f-44ce-981c-d883a5da02c1\" class=\"plotly-graph-div\" style=\"height:600px; width:100%;\"></div>\n",
       "            <script type=\"text/javascript\">\n",
       "                require([\"plotly\"], function(Plotly) {\n",
       "                    window.PLOTLYENV=window.PLOTLYENV || {};\n",
       "                    \n",
       "                if (document.getElementById(\"6783ecca-387f-44ce-981c-d883a5da02c1\")) {\n",
       "                    Plotly.newPlot(\n",
       "                        '6783ecca-387f-44ce-981c-d883a5da02c1',\n",
       "                        [{\"alignmentgroup\": \"True\", \"hoverlabel\": {\"namelength\": 0}, \"hovertemplate\": \"Country=Japan<br>Date=%{x}<br>Deaths=%{text}\", \"legendgroup\": \"Japan\", \"marker\": {\"color\": \"#636efa\"}, \"name\": \"Japan\", \"offsetgroup\": \"Japan\", \"orientation\": \"v\", \"showlegend\": true, \"text\": [0.0, 0.0, 0.0, 0.0, 0.0, 0.0, 0.0, 0.0, 0.0, 0.0, 0.0, 0.0, 0.0, 0.0, 0.0, 0.0, 0.0, 0.0, 0.0, 0.0, 0.0, 0.0, 1.0, 1.0, 1.0, 1.0, 1.0], \"textposition\": \"auto\", \"type\": \"bar\", \"x\": [\"01/22/2020 12:00:00\", \"01/23/2020 12:00:00\", \"01/24/2020 12:00:00\", \"01/25/2020 22:00:00\", \"01/26/2020 23:00:00\", \"01/27/2020 20:30:00\", \"01/28/2020 23:00:00\", \"01/29/2020 21:00:00\", \"01/30/2020 21:30:00\", \"01/31/2020 19:00:00\", \"02/01/2020 23:00:00\", \"02/02/2020 21:00:00\", \"02/03/2020 21:40:00\", \"02/04/2020 22:00:00\", \"02/05/2020 12:20:00\", \"02/06/2020 20:05:00\", \"02/07/2020 20:24:00\", \"02/08/2020 23:04:00\", \"02/09/2020 23:20:00\", \"02/10/2020 19:30:00\", \"02/11/2020 20:44:00\", \"02/12/2020 22:00:00\", \"02/13/2020 21:15:00\", \"02/14/2020 22:00:00\", \"02/15/2020 22:00:00\", \"02/16/2020 22:00:00\", \"02/17/2020 22:00:00\"], \"xaxis\": \"x\", \"y\": [0.0, 0.0, 0.0, 0.0, 0.0, 0.0, 0.0, 0.0, 0.0, 0.0, 0.0, 0.0, 0.0, 0.0, 0.0, 0.0, 0.0, 0.0, 0.0, 0.0, 0.0, 0.0, 1.0, 1.0, 1.0, 1.0, 1.0], \"yaxis\": \"y\"}, {\"alignmentgroup\": \"True\", \"hoverlabel\": {\"namelength\": 0}, \"hovertemplate\": \"Country=US<br>Date=%{x}<br>Deaths=%{text}\", \"legendgroup\": \"US\", \"marker\": {\"color\": \"#EF553B\"}, \"name\": \"US\", \"offsetgroup\": \"US\", \"orientation\": \"v\", \"showlegend\": true, \"text\": [0.0, 0.0, 0.0, 0.0, 0.0, 0.0, 0.0, 0.0, 0.0, 0.0, 0.0, 0.0, 0.0, 0.0, 0.0, 0.0, 0.0, 0.0, 0.0, 0.0, 0.0, 0.0, 0.0, 0.0, 0.0, 0.0, 0.0], \"textposition\": \"auto\", \"type\": \"bar\", \"x\": [\"01/22/2020 12:00:00\", \"01/23/2020 12:00:00\", \"01/24/2020 12:00:00\", \"01/25/2020 22:00:00\", \"01/26/2020 23:00:00\", \"01/27/2020 20:30:00\", \"01/28/2020 23:00:00\", \"01/29/2020 21:00:00\", \"01/30/2020 21:30:00\", \"01/31/2020 19:00:00\", \"02/01/2020 23:00:00\", \"02/02/2020 21:00:00\", \"02/03/2020 21:40:00\", \"02/04/2020 22:00:00\", \"02/05/2020 12:20:00\", \"02/06/2020 20:05:00\", \"02/07/2020 20:24:00\", \"02/08/2020 23:04:00\", \"02/09/2020 23:20:00\", \"02/10/2020 19:30:00\", \"02/11/2020 20:44:00\", \"02/12/2020 22:00:00\", \"02/13/2020 21:15:00\", \"02/14/2020 22:00:00\", \"02/15/2020 22:00:00\", \"02/16/2020 22:00:00\", \"02/17/2020 22:00:00\"], \"xaxis\": \"x\", \"y\": [0.0, 0.0, 0.0, 0.0, 0.0, 0.0, 0.0, 0.0, 0.0, 0.0, 0.0, 0.0, 0.0, 0.0, 0.0, 0.0, 0.0, 0.0, 0.0, 0.0, 0.0, 0.0, 0.0, 0.0, 0.0, 0.0, 0.0], \"yaxis\": \"y\"}, {\"alignmentgroup\": \"True\", \"hoverlabel\": {\"namelength\": 0}, \"hovertemplate\": \"Country=South Korea<br>Date=%{x}<br>Deaths=%{text}\", \"legendgroup\": \"South Korea\", \"marker\": {\"color\": \"#00cc96\"}, \"name\": \"South Korea\", \"offsetgroup\": \"South Korea\", \"orientation\": \"v\", \"showlegend\": true, \"text\": [0.0, 0.0, 0.0, 0.0, 0.0, 0.0, 0.0, 0.0, 0.0, 0.0, 0.0, 0.0, 0.0, 0.0, 0.0, 0.0, 0.0, 0.0, 0.0, 0.0, 0.0, 0.0, 0.0, 0.0, 0.0, 0.0, 0.0], \"textposition\": \"auto\", \"type\": \"bar\", \"x\": [\"01/22/2020 12:00:00\", \"01/23/2020 12:00:00\", \"01/24/2020 12:00:00\", \"01/25/2020 22:00:00\", \"01/26/2020 23:00:00\", \"01/27/2020 20:30:00\", \"01/28/2020 23:00:00\", \"01/29/2020 21:00:00\", \"01/30/2020 21:30:00\", \"01/31/2020 19:00:00\", \"02/01/2020 23:00:00\", \"02/02/2020 21:00:00\", \"02/03/2020 21:40:00\", \"02/04/2020 22:00:00\", \"02/05/2020 12:20:00\", \"02/06/2020 20:05:00\", \"02/07/2020 20:24:00\", \"02/08/2020 23:04:00\", \"02/09/2020 23:20:00\", \"02/10/2020 19:30:00\", \"02/11/2020 20:44:00\", \"02/12/2020 22:00:00\", \"02/13/2020 21:15:00\", \"02/14/2020 22:00:00\", \"02/15/2020 22:00:00\", \"02/16/2020 22:00:00\", \"02/17/2020 22:00:00\"], \"xaxis\": \"x\", \"y\": [0.0, 0.0, 0.0, 0.0, 0.0, 0.0, 0.0, 0.0, 0.0, 0.0, 0.0, 0.0, 0.0, 0.0, 0.0, 0.0, 0.0, 0.0, 0.0, 0.0, 0.0, 0.0, 0.0, 0.0, 0.0, 0.0, 0.0], \"yaxis\": \"y\"}, {\"alignmentgroup\": \"True\", \"hoverlabel\": {\"namelength\": 0}, \"hovertemplate\": \"Country=Thailand<br>Date=%{x}<br>Deaths=%{text}\", \"legendgroup\": \"Thailand\", \"marker\": {\"color\": \"#ab63fa\"}, \"name\": \"Thailand\", \"offsetgroup\": \"Thailand\", \"orientation\": \"v\", \"showlegend\": true, \"text\": [0.0, 0.0, 0.0, 0.0, 0.0, 0.0, 0.0, 0.0, 0.0, 0.0, 0.0, 0.0, 0.0, 0.0, 0.0, 0.0, 0.0, 0.0, 0.0, 0.0, 0.0, 0.0, 0.0, 0.0, 0.0, 0.0, 0.0], \"textposition\": \"auto\", \"type\": \"bar\", \"x\": [\"01/22/2020 12:00:00\", \"01/23/2020 12:00:00\", \"01/24/2020 12:00:00\", \"01/25/2020 22:00:00\", \"01/26/2020 23:00:00\", \"01/27/2020 20:30:00\", \"01/28/2020 23:00:00\", \"01/29/2020 21:00:00\", \"01/30/2020 21:30:00\", \"01/31/2020 19:00:00\", \"02/01/2020 23:00:00\", \"02/02/2020 21:00:00\", \"02/03/2020 21:40:00\", \"02/04/2020 22:00:00\", \"02/05/2020 12:20:00\", \"02/06/2020 20:05:00\", \"02/07/2020 20:24:00\", \"02/08/2020 23:04:00\", \"02/09/2020 23:20:00\", \"02/10/2020 19:30:00\", \"02/11/2020 20:44:00\", \"02/12/2020 22:00:00\", \"02/13/2020 21:15:00\", \"02/14/2020 22:00:00\", \"02/15/2020 22:00:00\", \"02/16/2020 22:00:00\", \"02/17/2020 22:00:00\"], \"xaxis\": \"x\", \"y\": [0.0, 0.0, 0.0, 0.0, 0.0, 0.0, 0.0, 0.0, 0.0, 0.0, 0.0, 0.0, 0.0, 0.0, 0.0, 0.0, 0.0, 0.0, 0.0, 0.0, 0.0, 0.0, 0.0, 0.0, 0.0, 0.0, 0.0], \"yaxis\": \"y\"}, {\"alignmentgroup\": \"True\", \"hoverlabel\": {\"namelength\": 0}, \"hovertemplate\": \"Country=Hong Kong<br>Date=%{x}<br>Deaths=%{text}\", \"legendgroup\": \"Hong Kong\", \"marker\": {\"color\": \"#FFA15A\"}, \"name\": \"Hong Kong\", \"offsetgroup\": \"Hong Kong\", \"orientation\": \"v\", \"showlegend\": true, \"text\": [0.0, 0.0, 0.0, 0.0, 0.0, 0.0, 0.0, 0.0, 0.0, 0.0, 0.0, 0.0, 1.0, 1.0, 1.0, 1.0, 1.0, 1.0, 1.0, 1.0, 1.0, 1.0, 1.0, 1.0, 1.0, 1.0], \"textposition\": \"auto\", \"type\": \"bar\", \"x\": [\"01/23/2020 12:00:00\", \"01/24/2020 12:00:00\", \"01/25/2020 22:00:00\", \"01/26/2020 23:00:00\", \"01/27/2020 20:30:00\", \"01/28/2020 23:00:00\", \"01/29/2020 21:00:00\", \"01/30/2020 21:30:00\", \"01/31/2020 19:00:00\", \"02/01/2020 23:00:00\", \"02/02/2020 21:00:00\", \"02/03/2020 21:40:00\", \"02/04/2020 22:00:00\", \"02/05/2020 12:20:00\", \"02/06/2020 20:05:00\", \"02/07/2020 20:24:00\", \"02/08/2020 23:04:00\", \"02/09/2020 23:20:00\", \"02/10/2020 19:30:00\", \"02/11/2020 20:44:00\", \"02/12/2020 22:00:00\", \"02/13/2020 21:15:00\", \"02/14/2020 22:00:00\", \"02/15/2020 22:00:00\", \"02/16/2020 22:00:00\", \"02/17/2020 22:00:00\"], \"xaxis\": \"x\", \"y\": [0.0, 0.0, 0.0, 0.0, 0.0, 0.0, 0.0, 0.0, 0.0, 0.0, 0.0, 0.0, 1.0, 1.0, 1.0, 1.0, 1.0, 1.0, 1.0, 1.0, 1.0, 1.0, 1.0, 1.0, 1.0, 1.0], \"yaxis\": \"y\"}, {\"alignmentgroup\": \"True\", \"hoverlabel\": {\"namelength\": 0}, \"hovertemplate\": \"Country=Taiwan<br>Date=%{x}<br>Deaths=%{text}\", \"legendgroup\": \"Taiwan\", \"marker\": {\"color\": \"#19d3f3\"}, \"name\": \"Taiwan\", \"offsetgroup\": \"Taiwan\", \"orientation\": \"v\", \"showlegend\": true, \"text\": [0.0, 0.0, 0.0, 0.0, 0.0, 0.0, 0.0, 0.0, 0.0, 0.0, 0.0, 0.0, 0.0, 0.0, 0.0, 0.0, 0.0, 0.0, 0.0, 0.0, 0.0, 0.0, 0.0, 0.0, 1.0, 1.0], \"textposition\": \"auto\", \"type\": \"bar\", \"x\": [\"01/23/2020 12:00:00\", \"01/24/2020 12:00:00\", \"01/25/2020 22:00:00\", \"01/26/2020 23:00:00\", \"01/27/2020 20:30:00\", \"01/28/2020 23:00:00\", \"01/29/2020 21:00:00\", \"01/30/2020 21:30:00\", \"01/31/2020 19:00:00\", \"02/01/2020 23:00:00\", \"02/02/2020 21:00:00\", \"02/03/2020 21:40:00\", \"02/04/2020 22:00:00\", \"02/05/2020 12:20:00\", \"02/06/2020 20:05:00\", \"02/07/2020 20:24:00\", \"02/08/2020 23:04:00\", \"02/09/2020 23:20:00\", \"02/10/2020 19:30:00\", \"02/11/2020 20:44:00\", \"02/12/2020 22:00:00\", \"02/13/2020 21:15:00\", \"02/14/2020 22:00:00\", \"02/15/2020 22:00:00\", \"02/16/2020 22:00:00\", \"02/17/2020 22:00:00\"], \"xaxis\": \"x\", \"y\": [0.0, 0.0, 0.0, 0.0, 0.0, 0.0, 0.0, 0.0, 0.0, 0.0, 0.0, 0.0, 0.0, 0.0, 0.0, 0.0, 0.0, 0.0, 0.0, 0.0, 0.0, 0.0, 0.0, 0.0, 1.0, 1.0], \"yaxis\": \"y\"}, {\"alignmentgroup\": \"True\", \"hoverlabel\": {\"namelength\": 0}, \"hovertemplate\": \"Country=Australia<br>Date=%{x}<br>Deaths=%{text}\", \"legendgroup\": \"Australia\", \"marker\": {\"color\": \"#FF6692\"}, \"name\": \"Australia\", \"offsetgroup\": \"Australia\", \"orientation\": \"v\", \"showlegend\": true, \"text\": [0.0, 0.0, 0.0, 0.0, 0.0, 0.0, 0.0, 0.0, 0.0, 0.0, 0.0, 0.0, 0.0, 0.0, 0.0, 0.0, 0.0, 0.0, 0.0, 0.0, 0.0, 0.0, 0.0, 0.0, 0.0], \"textposition\": \"auto\", \"type\": \"bar\", \"x\": [\"01/23/2020 12:00:00\", \"01/25/2020 22:00:00\", \"01/26/2020 23:00:00\", \"01/27/2020 20:30:00\", \"01/28/2020 23:00:00\", \"01/29/2020 21:00:00\", \"01/30/2020 21:30:00\", \"01/31/2020 19:00:00\", \"02/01/2020 23:00:00\", \"02/02/2020 21:00:00\", \"02/03/2020 21:40:00\", \"02/04/2020 22:00:00\", \"02/05/2020 12:20:00\", \"02/06/2020 20:05:00\", \"02/07/2020 20:24:00\", \"02/08/2020 23:04:00\", \"02/09/2020 23:20:00\", \"02/10/2020 19:30:00\", \"02/11/2020 20:44:00\", \"02/12/2020 22:00:00\", \"02/13/2020 21:15:00\", \"02/14/2020 22:00:00\", \"02/15/2020 22:00:00\", \"02/16/2020 22:00:00\", \"02/17/2020 22:00:00\"], \"xaxis\": \"x\", \"y\": [0.0, 0.0, 0.0, 0.0, 0.0, 0.0, 0.0, 0.0, 0.0, 0.0, 0.0, 0.0, 0.0, 0.0, 0.0, 0.0, 0.0, 0.0, 0.0, 0.0, 0.0, 0.0, 0.0, 0.0, 0.0], \"yaxis\": \"y\"}, {\"alignmentgroup\": \"True\", \"hoverlabel\": {\"namelength\": 0}, \"hovertemplate\": \"Country=Macau<br>Date=%{x}<br>Deaths=%{text}\", \"legendgroup\": \"Macau\", \"marker\": {\"color\": \"#B6E880\"}, \"name\": \"Macau\", \"offsetgroup\": \"Macau\", \"orientation\": \"v\", \"showlegend\": true, \"text\": [0.0, 0.0, 0.0, 0.0, 0.0, 0.0, 0.0, 0.0, 0.0, 0.0, 0.0, 0.0, 0.0, 0.0, 0.0, 0.0, 0.0, 0.0, 0.0, 0.0, 0.0, 0.0, 0.0, 0.0, 0.0, 0.0], \"textposition\": \"auto\", \"type\": \"bar\", \"x\": [\"01/23/2020 12:00:00\", \"01/24/2020 12:00:00\", \"01/25/2020 22:00:00\", \"01/26/2020 23:00:00\", \"01/27/2020 20:30:00\", \"01/28/2020 23:00:00\", \"01/29/2020 21:00:00\", \"01/30/2020 21:30:00\", \"01/31/2020 19:00:00\", \"02/01/2020 23:00:00\", \"02/02/2020 21:00:00\", \"02/03/2020 21:40:00\", \"02/04/2020 22:00:00\", \"02/05/2020 12:20:00\", \"02/06/2020 20:05:00\", \"02/07/2020 20:24:00\", \"02/08/2020 23:04:00\", \"02/09/2020 23:20:00\", \"02/10/2020 19:30:00\", \"02/11/2020 20:44:00\", \"02/12/2020 22:00:00\", \"02/13/2020 21:15:00\", \"02/14/2020 22:00:00\", \"02/15/2020 22:00:00\", \"02/16/2020 22:00:00\", \"02/17/2020 22:00:00\"], \"xaxis\": \"x\", \"y\": [0.0, 0.0, 0.0, 0.0, 0.0, 0.0, 0.0, 0.0, 0.0, 0.0, 0.0, 0.0, 0.0, 0.0, 0.0, 0.0, 0.0, 0.0, 0.0, 0.0, 0.0, 0.0, 0.0, 0.0, 0.0, 0.0], \"yaxis\": \"y\"}, {\"alignmentgroup\": \"True\", \"hoverlabel\": {\"namelength\": 0}, \"hovertemplate\": \"Country=Malaysia<br>Date=%{x}<br>Deaths=%{text}\", \"legendgroup\": \"Malaysia\", \"marker\": {\"color\": \"#FF97FF\"}, \"name\": \"Malaysia\", \"offsetgroup\": \"Malaysia\", \"orientation\": \"v\", \"showlegend\": true, \"text\": [0.0, 0.0, 0.0, 0.0, 0.0, 0.0, 0.0, 0.0, 0.0, 0.0, 0.0, 0.0, 0.0, 0.0, 0.0, 0.0, 0.0, 0.0, 0.0, 0.0, 0.0, 0.0, 0.0, 0.0, 0.0], \"textposition\": \"auto\", \"type\": \"bar\", \"x\": [\"01/23/2020 12:00:00\", \"01/25/2020 22:00:00\", \"01/26/2020 23:00:00\", \"01/27/2020 20:30:00\", \"01/28/2020 23:00:00\", \"01/29/2020 21:00:00\", \"01/30/2020 21:30:00\", \"01/31/2020 19:00:00\", \"02/01/2020 23:00:00\", \"02/02/2020 21:00:00\", \"02/03/2020 21:40:00\", \"02/04/2020 22:00:00\", \"02/05/2020 12:20:00\", \"02/06/2020 20:05:00\", \"02/07/2020 20:24:00\", \"02/08/2020 23:04:00\", \"02/09/2020 23:20:00\", \"02/10/2020 19:30:00\", \"02/11/2020 20:44:00\", \"02/12/2020 22:00:00\", \"02/13/2020 21:15:00\", \"02/14/2020 22:00:00\", \"02/15/2020 22:00:00\", \"02/16/2020 22:00:00\", \"02/17/2020 22:00:00\"], \"xaxis\": \"x\", \"y\": [0.0, 0.0, 0.0, 0.0, 0.0, 0.0, 0.0, 0.0, 0.0, 0.0, 0.0, 0.0, 0.0, 0.0, 0.0, 0.0, 0.0, 0.0, 0.0, 0.0, 0.0, 0.0, 0.0, 0.0, 0.0], \"yaxis\": \"y\"}, {\"alignmentgroup\": \"True\", \"hoverlabel\": {\"namelength\": 0}, \"hovertemplate\": \"Country=Singapore<br>Date=%{x}<br>Deaths=%{text}\", \"legendgroup\": \"Singapore\", \"marker\": {\"color\": \"#FECB52\"}, \"name\": \"Singapore\", \"offsetgroup\": \"Singapore\", \"orientation\": \"v\", \"showlegend\": true, \"text\": [0.0, 0.0, 0.0, 0.0, 0.0, 0.0, 0.0, 0.0, 0.0, 0.0, 0.0, 0.0, 0.0, 0.0, 0.0, 0.0, 0.0, 0.0, 0.0, 0.0, 0.0, 0.0, 0.0, 0.0, 0.0, 0.0], \"textposition\": \"auto\", \"type\": \"bar\", \"x\": [\"01/23/2020 12:00:00\", \"01/24/2020 12:00:00\", \"01/25/2020 22:00:00\", \"01/26/2020 23:00:00\", \"01/27/2020 20:30:00\", \"01/28/2020 23:00:00\", \"01/29/2020 21:00:00\", \"01/30/2020 21:30:00\", \"01/31/2020 19:00:00\", \"02/01/2020 23:00:00\", \"02/02/2020 21:00:00\", \"02/03/2020 21:40:00\", \"02/04/2020 22:00:00\", \"02/05/2020 12:20:00\", \"02/06/2020 20:05:00\", \"02/07/2020 20:24:00\", \"02/08/2020 23:04:00\", \"02/09/2020 23:20:00\", \"02/10/2020 19:30:00\", \"02/11/2020 20:44:00\", \"02/12/2020 22:00:00\", \"02/13/2020 21:15:00\", \"02/14/2020 22:00:00\", \"02/15/2020 22:00:00\", \"02/16/2020 22:00:00\", \"02/17/2020 22:00:00\"], \"xaxis\": \"x\", \"y\": [0.0, 0.0, 0.0, 0.0, 0.0, 0.0, 0.0, 0.0, 0.0, 0.0, 0.0, 0.0, 0.0, 0.0, 0.0, 0.0, 0.0, 0.0, 0.0, 0.0, 0.0, 0.0, 0.0, 0.0, 0.0, 0.0], \"yaxis\": \"y\"}, {\"alignmentgroup\": \"True\", \"hoverlabel\": {\"namelength\": 0}, \"hovertemplate\": \"Country=Mexico<br>Date=%{x}<br>Deaths=%{text}\", \"legendgroup\": \"Mexico\", \"marker\": {\"color\": \"#636efa\"}, \"name\": \"Mexico\", \"offsetgroup\": \"Mexico\", \"orientation\": \"v\", \"showlegend\": true, \"text\": [0.0], \"textposition\": \"auto\", \"type\": \"bar\", \"x\": [\"01/23/2020 12:00:00\"], \"xaxis\": \"x\", \"y\": [0.0], \"yaxis\": \"y\"}, {\"alignmentgroup\": \"True\", \"hoverlabel\": {\"namelength\": 0}, \"hovertemplate\": \"Country=Brazil<br>Date=%{x}<br>Deaths=%{text}\", \"legendgroup\": \"Brazil\", \"marker\": {\"color\": \"#EF553B\"}, \"name\": \"Brazil\", \"offsetgroup\": \"Brazil\", \"orientation\": \"v\", \"showlegend\": true, \"text\": [0.0], \"textposition\": \"auto\", \"type\": \"bar\", \"x\": [\"01/23/2020 12:00:00\"], \"xaxis\": \"x\", \"y\": [0.0], \"yaxis\": \"y\"}, {\"alignmentgroup\": \"True\", \"hoverlabel\": {\"namelength\": 0}, \"hovertemplate\": \"Country=Vietnam<br>Date=%{x}<br>Deaths=%{text}\", \"legendgroup\": \"Vietnam\", \"marker\": {\"color\": \"#00cc96\"}, \"name\": \"Vietnam\", \"offsetgroup\": \"Vietnam\", \"orientation\": \"v\", \"showlegend\": true, \"text\": [0.0, 0.0, 0.0, 0.0, 0.0, 0.0, 0.0, 0.0, 0.0, 0.0, 0.0, 0.0, 0.0, 0.0, 0.0, 0.0, 0.0, 0.0, 0.0, 0.0, 0.0, 0.0, 0.0, 0.0, 0.0, 0.0], \"textposition\": \"auto\", \"type\": \"bar\", \"x\": [\"01/23/2020 12:00:00\", \"01/24/2020 12:00:00\", \"01/25/2020 22:00:00\", \"01/26/2020 23:00:00\", \"01/27/2020 20:30:00\", \"01/28/2020 23:00:00\", \"01/29/2020 21:00:00\", \"01/30/2020 21:30:00\", \"01/31/2020 19:00:00\", \"02/01/2020 23:00:00\", \"02/02/2020 21:00:00\", \"02/03/2020 21:40:00\", \"02/04/2020 22:00:00\", \"02/05/2020 12:20:00\", \"02/06/2020 20:05:00\", \"02/07/2020 20:24:00\", \"02/08/2020 23:04:00\", \"02/09/2020 23:20:00\", \"02/10/2020 19:30:00\", \"02/11/2020 20:44:00\", \"02/12/2020 22:00:00\", \"02/13/2020 21:15:00\", \"02/14/2020 22:00:00\", \"02/15/2020 22:00:00\", \"02/16/2020 22:00:00\", \"02/17/2020 22:00:00\"], \"xaxis\": \"x\", \"y\": [0.0, 0.0, 0.0, 0.0, 0.0, 0.0, 0.0, 0.0, 0.0, 0.0, 0.0, 0.0, 0.0, 0.0, 0.0, 0.0, 0.0, 0.0, 0.0, 0.0, 0.0, 0.0, 0.0, 0.0, 0.0, 0.0], \"yaxis\": \"y\"}, {\"alignmentgroup\": \"True\", \"hoverlabel\": {\"namelength\": 0}, \"hovertemplate\": \"Country=Philippines<br>Date=%{x}<br>Deaths=%{text}\", \"legendgroup\": \"Philippines\", \"marker\": {\"color\": \"#ab63fa\"}, \"name\": \"Philippines\", \"offsetgroup\": \"Philippines\", \"orientation\": \"v\", \"showlegend\": true, \"text\": [0.0, 0.0, 0.0, 1.0, 1.0, 1.0, 1.0, 1.0, 1.0, 1.0, 1.0, 1.0, 1.0, 1.0, 1.0, 1.0, 1.0, 1.0, 1.0, 1.0], \"textposition\": \"auto\", \"type\": \"bar\", \"x\": [\"01/23/2020 12:00:00\", \"01/30/2020 21:30:00\", \"01/31/2020 19:00:00\", \"02/01/2020 23:00:00\", \"02/02/2020 21:00:00\", \"02/03/2020 21:40:00\", \"02/04/2020 22:00:00\", \"02/05/2020 12:20:00\", \"02/06/2020 20:05:00\", \"02/07/2020 20:24:00\", \"02/08/2020 23:04:00\", \"02/09/2020 23:20:00\", \"02/10/2020 19:30:00\", \"02/11/2020 20:44:00\", \"02/12/2020 22:00:00\", \"02/13/2020 21:15:00\", \"02/14/2020 22:00:00\", \"02/15/2020 22:00:00\", \"02/16/2020 22:00:00\", \"02/17/2020 22:00:00\"], \"xaxis\": \"x\", \"y\": [0.0, 0.0, 0.0, 1.0, 1.0, 1.0, 1.0, 1.0, 1.0, 1.0, 1.0, 1.0, 1.0, 1.0, 1.0, 1.0, 1.0, 1.0, 1.0, 1.0], \"yaxis\": \"y\"}, {\"alignmentgroup\": \"True\", \"hoverlabel\": {\"namelength\": 0}, \"hovertemplate\": \"Country=France<br>Date=%{x}<br>Deaths=%{text}\", \"legendgroup\": \"France\", \"marker\": {\"color\": \"#FFA15A\"}, \"name\": \"France\", \"offsetgroup\": \"France\", \"orientation\": \"v\", \"showlegend\": true, \"text\": [0.0, 0.0, 0.0, 0.0, 0.0, 0.0, 0.0, 0.0, 0.0, 0.0, 0.0, 0.0, 0.0, 0.0, 0.0, 0.0, 0.0, 0.0, 0.0, 0.0, 0.0, 0.0, 1.0, 1.0, 1.0], \"textposition\": \"auto\", \"type\": \"bar\", \"x\": [\"01/24/2020 12:00:00\", \"01/25/2020 22:00:00\", \"01/26/2020 23:00:00\", \"01/27/2020 20:30:00\", \"01/28/2020 23:00:00\", \"01/29/2020 21:00:00\", \"01/30/2020 21:30:00\", \"01/31/2020 19:00:00\", \"02/01/2020 23:00:00\", \"02/02/2020 21:00:00\", \"02/03/2020 21:40:00\", \"02/04/2020 22:00:00\", \"02/05/2020 12:20:00\", \"02/06/2020 20:05:00\", \"02/07/2020 20:24:00\", \"02/08/2020 23:04:00\", \"02/09/2020 23:20:00\", \"02/10/2020 19:30:00\", \"02/11/2020 20:44:00\", \"02/12/2020 22:00:00\", \"02/13/2020 21:15:00\", \"02/14/2020 22:00:00\", \"02/15/2020 22:00:00\", \"02/16/2020 22:00:00\", \"02/17/2020 22:00:00\"], \"xaxis\": \"x\", \"y\": [0.0, 0.0, 0.0, 0.0, 0.0, 0.0, 0.0, 0.0, 0.0, 0.0, 0.0, 0.0, 0.0, 0.0, 0.0, 0.0, 0.0, 0.0, 0.0, 0.0, 0.0, 0.0, 1.0, 1.0, 1.0], \"yaxis\": \"y\"}, {\"alignmentgroup\": \"True\", \"hoverlabel\": {\"namelength\": 0}, \"hovertemplate\": \"Country=Nepal<br>Date=%{x}<br>Deaths=%{text}\", \"legendgroup\": \"Nepal\", \"marker\": {\"color\": \"#19d3f3\"}, \"name\": \"Nepal\", \"offsetgroup\": \"Nepal\", \"orientation\": \"v\", \"showlegend\": true, \"text\": [0.0, 0.0, 0.0, 0.0, 0.0, 0.0, 0.0, 0.0, 0.0, 0.0, 0.0, 0.0, 0.0, 0.0, 0.0, 0.0, 0.0, 0.0, 0.0, 0.0, 0.0, 0.0, 0.0, 0.0], \"textposition\": \"auto\", \"type\": \"bar\", \"x\": [\"01/25/2020 22:00:00\", \"01/26/2020 23:00:00\", \"01/27/2020 20:30:00\", \"01/28/2020 23:00:00\", \"01/29/2020 21:00:00\", \"01/30/2020 21:30:00\", \"01/31/2020 19:00:00\", \"02/01/2020 23:00:00\", \"02/02/2020 21:00:00\", \"02/03/2020 21:40:00\", \"02/04/2020 22:00:00\", \"02/05/2020 12:20:00\", \"02/06/2020 20:05:00\", \"02/07/2020 20:24:00\", \"02/08/2020 23:04:00\", \"02/09/2020 23:20:00\", \"02/10/2020 19:30:00\", \"02/11/2020 20:44:00\", \"02/12/2020 22:00:00\", \"02/13/2020 21:15:00\", \"02/14/2020 22:00:00\", \"02/15/2020 22:00:00\", \"02/16/2020 22:00:00\", \"02/17/2020 22:00:00\"], \"xaxis\": \"x\", \"y\": [0.0, 0.0, 0.0, 0.0, 0.0, 0.0, 0.0, 0.0, 0.0, 0.0, 0.0, 0.0, 0.0, 0.0, 0.0, 0.0, 0.0, 0.0, 0.0, 0.0, 0.0, 0.0, 0.0, 0.0], \"yaxis\": \"y\"}, {\"alignmentgroup\": \"True\", \"hoverlabel\": {\"namelength\": 0}, \"hovertemplate\": \"Country=Canada<br>Date=%{x}<br>Deaths=%{text}\", \"legendgroup\": \"Canada\", \"marker\": {\"color\": \"#FF6692\"}, \"name\": \"Canada\", \"offsetgroup\": \"Canada\", \"orientation\": \"v\", \"showlegend\": true, \"text\": [0.0, 0.0, 0.0, 0.0, 0.0, 0.0, 0.0, 0.0, 0.0, 0.0, 0.0, 0.0, 0.0, 0.0, 0.0, 0.0, 0.0, 0.0, 0.0, 0.0, 0.0, 0.0, 0.0], \"textposition\": \"auto\", \"type\": \"bar\", \"x\": [\"01/26/2020 23:00:00\", \"01/27/2020 20:30:00\", \"01/28/2020 23:00:00\", \"01/29/2020 21:00:00\", \"01/30/2020 21:30:00\", \"01/31/2020 19:00:00\", \"02/01/2020 23:00:00\", \"02/02/2020 21:00:00\", \"02/03/2020 21:40:00\", \"02/04/2020 22:00:00\", \"02/05/2020 12:20:00\", \"02/06/2020 20:05:00\", \"02/07/2020 20:24:00\", \"02/08/2020 23:04:00\", \"02/09/2020 23:20:00\", \"02/10/2020 19:30:00\", \"02/11/2020 20:44:00\", \"02/12/2020 22:00:00\", \"02/13/2020 21:15:00\", \"02/14/2020 22:00:00\", \"02/15/2020 22:00:00\", \"02/16/2020 22:00:00\", \"02/17/2020 22:00:00\"], \"xaxis\": \"x\", \"y\": [0.0, 0.0, 0.0, 0.0, 0.0, 0.0, 0.0, 0.0, 0.0, 0.0, 0.0, 0.0, 0.0, 0.0, 0.0, 0.0, 0.0, 0.0, 0.0, 0.0, 0.0, 0.0, 0.0], \"yaxis\": \"y\"}, {\"alignmentgroup\": \"True\", \"hoverlabel\": {\"namelength\": 0}, \"hovertemplate\": \"Country=Cambodia<br>Date=%{x}<br>Deaths=%{text}\", \"legendgroup\": \"Cambodia\", \"marker\": {\"color\": \"#B6E880\"}, \"name\": \"Cambodia\", \"offsetgroup\": \"Cambodia\", \"orientation\": \"v\", \"showlegend\": true, \"text\": [0.0, 0.0, 0.0, 0.0, 0.0, 0.0, 0.0, 0.0, 0.0, 0.0, 0.0, 0.0, 0.0, 0.0, 0.0, 0.0, 0.0, 0.0, 0.0, 0.0, 0.0, 0.0], \"textposition\": \"auto\", \"type\": \"bar\", \"x\": [\"01/27/2020 20:30:00\", \"01/28/2020 23:00:00\", \"01/29/2020 21:00:00\", \"01/30/2020 21:30:00\", \"01/31/2020 19:00:00\", \"02/01/2020 23:00:00\", \"02/02/2020 21:00:00\", \"02/03/2020 21:40:00\", \"02/04/2020 22:00:00\", \"02/05/2020 12:20:00\", \"02/06/2020 20:05:00\", \"02/07/2020 20:24:00\", \"02/08/2020 23:04:00\", \"02/09/2020 23:20:00\", \"02/10/2020 19:30:00\", \"02/11/2020 20:44:00\", \"02/12/2020 22:00:00\", \"02/13/2020 21:15:00\", \"02/14/2020 22:00:00\", \"02/15/2020 22:00:00\", \"02/16/2020 22:00:00\", \"02/17/2020 22:00:00\"], \"xaxis\": \"x\", \"y\": [0.0, 0.0, 0.0, 0.0, 0.0, 0.0, 0.0, 0.0, 0.0, 0.0, 0.0, 0.0, 0.0, 0.0, 0.0, 0.0, 0.0, 0.0, 0.0, 0.0, 0.0, 0.0], \"yaxis\": \"y\"}, {\"alignmentgroup\": \"True\", \"hoverlabel\": {\"namelength\": 0}, \"hovertemplate\": \"Country=Sri Lanka<br>Date=%{x}<br>Deaths=%{text}\", \"legendgroup\": \"Sri Lanka\", \"marker\": {\"color\": \"#FF97FF\"}, \"name\": \"Sri Lanka\", \"offsetgroup\": \"Sri Lanka\", \"orientation\": \"v\", \"showlegend\": true, \"text\": [0.0, 0.0, 0.0, 0.0, 0.0, 0.0, 0.0, 0.0, 0.0, 0.0, 0.0, 0.0, 0.0, 0.0, 0.0, 0.0, 0.0, 0.0, 0.0, 0.0, 0.0, 0.0], \"textposition\": \"auto\", \"type\": \"bar\", \"x\": [\"01/27/2020 20:30:00\", \"01/28/2020 23:00:00\", \"01/29/2020 21:00:00\", \"01/30/2020 21:30:00\", \"01/31/2020 19:00:00\", \"02/01/2020 23:00:00\", \"02/02/2020 21:00:00\", \"02/03/2020 21:40:00\", \"02/04/2020 22:00:00\", \"02/05/2020 12:20:00\", \"02/06/2020 20:05:00\", \"02/07/2020 20:24:00\", \"02/08/2020 23:04:00\", \"02/09/2020 23:20:00\", \"02/10/2020 19:30:00\", \"02/11/2020 20:44:00\", \"02/12/2020 22:00:00\", \"02/13/2020 21:15:00\", \"02/14/2020 22:00:00\", \"02/15/2020 22:00:00\", \"02/16/2020 22:00:00\", \"02/17/2020 22:00:00\"], \"xaxis\": \"x\", \"y\": [0.0, 0.0, 0.0, 0.0, 0.0, 0.0, 0.0, 0.0, 0.0, 0.0, 0.0, 0.0, 0.0, 0.0, 0.0, 0.0, 0.0, 0.0, 0.0, 0.0, 0.0, 0.0], \"yaxis\": \"y\"}, {\"alignmentgroup\": \"True\", \"hoverlabel\": {\"namelength\": 0}, \"hovertemplate\": \"Country=Ivory Coast<br>Date=%{x}<br>Deaths=%{text}\", \"legendgroup\": \"Ivory Coast\", \"marker\": {\"color\": \"#FECB52\"}, \"name\": \"Ivory Coast\", \"offsetgroup\": \"Ivory Coast\", \"orientation\": \"v\", \"showlegend\": true, \"text\": [0.0], \"textposition\": \"auto\", \"type\": \"bar\", \"x\": [\"01/27/2020 20:30:00\"], \"xaxis\": \"x\", \"y\": [0.0], \"yaxis\": \"y\"}, {\"alignmentgroup\": \"True\", \"hoverlabel\": {\"namelength\": 0}, \"hovertemplate\": \"Country=Germany<br>Date=%{x}<br>Deaths=%{text}\", \"legendgroup\": \"Germany\", \"marker\": {\"color\": \"#636efa\"}, \"name\": \"Germany\", \"offsetgroup\": \"Germany\", \"orientation\": \"v\", \"showlegend\": true, \"text\": [0.0, 0.0, 0.0, 0.0, 0.0, 0.0, 0.0, 0.0, 0.0, 0.0, 0.0, 0.0, 0.0, 0.0, 0.0, 0.0, 0.0, 0.0, 0.0, 0.0, 0.0, 0.0], \"textposition\": \"auto\", \"type\": \"bar\", \"x\": [\"01/27/2020 20:30:00\", \"01/28/2020 23:00:00\", \"01/29/2020 21:00:00\", \"01/30/2020 21:30:00\", \"01/31/2020 19:00:00\", \"02/01/2020 23:00:00\", \"02/02/2020 21:00:00\", \"02/03/2020 21:40:00\", \"02/04/2020 22:00:00\", \"02/05/2020 12:20:00\", \"02/06/2020 20:05:00\", \"02/07/2020 20:24:00\", \"02/08/2020 23:04:00\", \"02/09/2020 23:20:00\", \"02/10/2020 19:30:00\", \"02/11/2020 20:44:00\", \"02/12/2020 22:00:00\", \"02/13/2020 21:15:00\", \"02/14/2020 22:00:00\", \"02/15/2020 22:00:00\", \"02/16/2020 22:00:00\", \"02/17/2020 22:00:00\"], \"xaxis\": \"x\", \"y\": [0.0, 0.0, 0.0, 0.0, 0.0, 0.0, 0.0, 0.0, 0.0, 0.0, 0.0, 0.0, 0.0, 0.0, 0.0, 0.0, 0.0, 0.0, 0.0, 0.0, 0.0, 0.0], \"yaxis\": \"y\"}, {\"alignmentgroup\": \"True\", \"hoverlabel\": {\"namelength\": 0}, \"hovertemplate\": \"Country=Finland<br>Date=%{x}<br>Deaths=%{text}\", \"legendgroup\": \"Finland\", \"marker\": {\"color\": \"#EF553B\"}, \"name\": \"Finland\", \"offsetgroup\": \"Finland\", \"orientation\": \"v\", \"showlegend\": true, \"text\": [0.0, 0.0, 0.0, 0.0, 0.0, 0.0, 0.0, 0.0, 0.0, 0.0, 0.0, 0.0, 0.0, 0.0, 0.0, 0.0, 0.0, 0.0, 0.0, 0.0], \"textposition\": \"auto\", \"type\": \"bar\", \"x\": [\"01/29/2020 21:00:00\", \"01/30/2020 21:30:00\", \"01/31/2020 19:00:00\", \"02/01/2020 23:00:00\", \"02/02/2020 21:00:00\", \"02/03/2020 21:40:00\", \"02/04/2020 22:00:00\", \"02/05/2020 12:20:00\", \"02/06/2020 20:05:00\", \"02/07/2020 20:24:00\", \"02/08/2020 23:04:00\", \"02/09/2020 23:20:00\", \"02/10/2020 19:30:00\", \"02/11/2020 20:44:00\", \"02/12/2020 22:00:00\", \"02/13/2020 21:15:00\", \"02/14/2020 22:00:00\", \"02/15/2020 22:00:00\", \"02/16/2020 22:00:00\", \"02/17/2020 22:00:00\"], \"xaxis\": \"x\", \"y\": [0.0, 0.0, 0.0, 0.0, 0.0, 0.0, 0.0, 0.0, 0.0, 0.0, 0.0, 0.0, 0.0, 0.0, 0.0, 0.0, 0.0, 0.0, 0.0, 0.0], \"yaxis\": \"y\"}, {\"alignmentgroup\": \"True\", \"hoverlabel\": {\"namelength\": 0}, \"hovertemplate\": \"Country=United Arab Emirates<br>Date=%{x}<br>Deaths=%{text}\", \"legendgroup\": \"United Arab Emirates\", \"marker\": {\"color\": \"#00cc96\"}, \"name\": \"United Arab Emirates\", \"offsetgroup\": \"United Arab Emirates\", \"orientation\": \"v\", \"showlegend\": true, \"text\": [0.0, 0.0, 0.0, 0.0, 0.0, 0.0, 0.0, 0.0, 0.0, 0.0, 0.0, 0.0, 0.0, 0.0, 0.0, 0.0, 0.0, 0.0, 0.0, 0.0], \"textposition\": \"auto\", \"type\": \"bar\", \"x\": [\"01/29/2020 21:00:00\", \"01/30/2020 21:30:00\", \"01/31/2020 19:00:00\", \"02/01/2020 23:00:00\", \"02/02/2020 21:00:00\", \"02/03/2020 21:40:00\", \"02/04/2020 22:00:00\", \"02/05/2020 12:20:00\", \"02/06/2020 20:05:00\", \"02/07/2020 20:24:00\", \"02/08/2020 23:04:00\", \"02/09/2020 23:20:00\", \"02/10/2020 19:30:00\", \"02/11/2020 20:44:00\", \"02/12/2020 22:00:00\", \"02/13/2020 21:15:00\", \"02/14/2020 22:00:00\", \"02/15/2020 22:00:00\", \"02/16/2020 22:00:00\", \"02/17/2020 22:00:00\"], \"xaxis\": \"x\", \"y\": [0.0, 0.0, 0.0, 0.0, 0.0, 0.0, 0.0, 0.0, 0.0, 0.0, 0.0, 0.0, 0.0, 0.0, 0.0, 0.0, 0.0, 0.0, 0.0, 0.0], \"yaxis\": \"y\"}, {\"alignmentgroup\": \"True\", \"hoverlabel\": {\"namelength\": 0}, \"hovertemplate\": \"Country=India<br>Date=%{x}<br>Deaths=%{text}\", \"legendgroup\": \"India\", \"marker\": {\"color\": \"#ab63fa\"}, \"name\": \"India\", \"offsetgroup\": \"India\", \"orientation\": \"v\", \"showlegend\": true, \"text\": [0.0, 0.0, 0.0, 0.0, 0.0, 0.0, 0.0, 0.0, 0.0, 0.0, 0.0, 0.0, 0.0, 0.0, 0.0, 0.0, 0.0, 0.0, 0.0], \"textposition\": \"auto\", \"type\": \"bar\", \"x\": [\"01/30/2020 21:30:00\", \"01/31/2020 19:00:00\", \"02/01/2020 23:00:00\", \"02/02/2020 21:00:00\", \"02/03/2020 21:40:00\", \"02/04/2020 22:00:00\", \"02/05/2020 12:20:00\", \"02/06/2020 20:05:00\", \"02/07/2020 20:24:00\", \"02/08/2020 23:04:00\", \"02/09/2020 23:20:00\", \"02/10/2020 19:30:00\", \"02/11/2020 20:44:00\", \"02/12/2020 22:00:00\", \"02/13/2020 21:15:00\", \"02/14/2020 22:00:00\", \"02/15/2020 22:00:00\", \"02/16/2020 22:00:00\", \"02/17/2020 22:00:00\"], \"xaxis\": \"x\", \"y\": [0.0, 0.0, 0.0, 0.0, 0.0, 0.0, 0.0, 0.0, 0.0, 0.0, 0.0, 0.0, 0.0, 0.0, 0.0, 0.0, 0.0, 0.0, 0.0], \"yaxis\": \"y\"}, {\"alignmentgroup\": \"True\", \"hoverlabel\": {\"namelength\": 0}, \"hovertemplate\": \"Country=Italy<br>Date=%{x}<br>Deaths=%{text}\", \"legendgroup\": \"Italy\", \"marker\": {\"color\": \"#FFA15A\"}, \"name\": \"Italy\", \"offsetgroup\": \"Italy\", \"orientation\": \"v\", \"showlegend\": true, \"text\": [0.0, 0.0, 0.0, 0.0, 0.0, 0.0, 0.0, 0.0, 0.0, 0.0, 0.0, 0.0, 0.0, 0.0, 0.0, 0.0, 0.0, 0.0, 0.0], \"textposition\": \"auto\", \"type\": \"bar\", \"x\": [\"01/30/2020 21:30:00\", \"01/31/2020 19:00:00\", \"02/01/2020 23:00:00\", \"02/02/2020 21:00:00\", \"02/03/2020 21:40:00\", \"02/04/2020 22:00:00\", \"02/05/2020 12:20:00\", \"02/06/2020 20:05:00\", \"02/07/2020 20:24:00\", \"02/08/2020 23:04:00\", \"02/09/2020 23:20:00\", \"02/10/2020 19:30:00\", \"02/11/2020 20:44:00\", \"02/12/2020 22:00:00\", \"02/13/2020 21:15:00\", \"02/14/2020 22:00:00\", \"02/15/2020 22:00:00\", \"02/16/2020 22:00:00\", \"02/17/2020 22:00:00\"], \"xaxis\": \"x\", \"y\": [0.0, 0.0, 0.0, 0.0, 0.0, 0.0, 0.0, 0.0, 0.0, 0.0, 0.0, 0.0, 0.0, 0.0, 0.0, 0.0, 0.0, 0.0, 0.0], \"yaxis\": \"y\"}, {\"alignmentgroup\": \"True\", \"hoverlabel\": {\"namelength\": 0}, \"hovertemplate\": \"Country=Sweden<br>Date=%{x}<br>Deaths=%{text}\", \"legendgroup\": \"Sweden\", \"marker\": {\"color\": \"#19d3f3\"}, \"name\": \"Sweden\", \"offsetgroup\": \"Sweden\", \"orientation\": \"v\", \"showlegend\": true, \"text\": [0.0, 0.0, 0.0, 0.0, 0.0, 0.0, 0.0, 0.0, 0.0, 0.0, 0.0, 0.0, 0.0, 0.0, 0.0, 0.0, 0.0, 0.0], \"textposition\": \"auto\", \"type\": \"bar\", \"x\": [\"01/31/2020 19:00:00\", \"02/01/2020 23:00:00\", \"02/02/2020 21:00:00\", \"02/03/2020 21:40:00\", \"02/04/2020 22:00:00\", \"02/05/2020 12:20:00\", \"02/06/2020 20:05:00\", \"02/07/2020 20:24:00\", \"02/08/2020 23:04:00\", \"02/09/2020 23:20:00\", \"02/10/2020 19:30:00\", \"02/11/2020 20:44:00\", \"02/12/2020 22:00:00\", \"02/13/2020 21:15:00\", \"02/14/2020 22:00:00\", \"02/15/2020 22:00:00\", \"02/16/2020 22:00:00\", \"02/17/2020 22:00:00\"], \"xaxis\": \"x\", \"y\": [0.0, 0.0, 0.0, 0.0, 0.0, 0.0, 0.0, 0.0, 0.0, 0.0, 0.0, 0.0, 0.0, 0.0, 0.0, 0.0, 0.0, 0.0], \"yaxis\": \"y\"}, {\"alignmentgroup\": \"True\", \"hoverlabel\": {\"namelength\": 0}, \"hovertemplate\": \"Country=Spain<br>Date=%{x}<br>Deaths=%{text}\", \"legendgroup\": \"Spain\", \"marker\": {\"color\": \"#FF6692\"}, \"name\": \"Spain\", \"offsetgroup\": \"Spain\", \"orientation\": \"v\", \"showlegend\": true, \"text\": [0.0, 0.0, 0.0, 0.0, 0.0, 0.0, 0.0, 0.0, 0.0, 0.0, 0.0, 0.0, 0.0, 0.0, 0.0, 0.0, 0.0, 0.0], \"textposition\": \"auto\", \"type\": \"bar\", \"x\": [\"01/31/2020 19:00:00\", \"02/01/2020 23:00:00\", \"02/02/2020 21:00:00\", \"02/03/2020 21:40:00\", \"02/04/2020 22:00:00\", \"02/05/2020 12:20:00\", \"02/06/2020 20:05:00\", \"02/07/2020 20:24:00\", \"02/08/2020 23:04:00\", \"02/09/2020 23:20:00\", \"02/10/2020 19:30:00\", \"02/11/2020 20:44:00\", \"02/12/2020 22:00:00\", \"02/13/2020 21:15:00\", \"02/14/2020 22:00:00\", \"02/15/2020 22:00:00\", \"02/16/2020 22:00:00\", \"02/17/2020 22:00:00\"], \"xaxis\": \"x\", \"y\": [0.0, 0.0, 0.0, 0.0, 0.0, 0.0, 0.0, 0.0, 0.0, 0.0, 0.0, 0.0, 0.0, 0.0, 0.0, 0.0, 0.0, 0.0], \"yaxis\": \"y\"}, {\"alignmentgroup\": \"True\", \"hoverlabel\": {\"namelength\": 0}, \"hovertemplate\": \"Country=UK<br>Date=%{x}<br>Deaths=%{text}\", \"legendgroup\": \"UK\", \"marker\": {\"color\": \"#B6E880\"}, \"name\": \"UK\", \"offsetgroup\": \"UK\", \"orientation\": \"v\", \"showlegend\": true, \"text\": [0.0, 0.0, 0.0, 0.0, 0.0, 0.0, 0.0, 0.0, 0.0, 0.0, 0.0, 0.0, 0.0, 0.0, 0.0, 0.0, 0.0, 0.0], \"textposition\": \"auto\", \"type\": \"bar\", \"x\": [\"01/31/2020 19:00:00\", \"02/01/2020 23:00:00\", \"02/02/2020 21:00:00\", \"02/03/2020 21:40:00\", \"02/04/2020 22:00:00\", \"02/05/2020 12:20:00\", \"02/06/2020 20:05:00\", \"02/07/2020 20:24:00\", \"02/08/2020 23:04:00\", \"02/09/2020 23:20:00\", \"02/10/2020 19:30:00\", \"02/11/2020 20:44:00\", \"02/12/2020 22:00:00\", \"02/13/2020 21:15:00\", \"02/14/2020 22:00:00\", \"02/15/2020 22:00:00\", \"02/16/2020 22:00:00\", \"02/17/2020 22:00:00\"], \"xaxis\": \"x\", \"y\": [0.0, 0.0, 0.0, 0.0, 0.0, 0.0, 0.0, 0.0, 0.0, 0.0, 0.0, 0.0, 0.0, 0.0, 0.0, 0.0, 0.0, 0.0], \"yaxis\": \"y\"}, {\"alignmentgroup\": \"True\", \"hoverlabel\": {\"namelength\": 0}, \"hovertemplate\": \"Country=Russia<br>Date=%{x}<br>Deaths=%{text}\", \"legendgroup\": \"Russia\", \"marker\": {\"color\": \"#FF97FF\"}, \"name\": \"Russia\", \"offsetgroup\": \"Russia\", \"orientation\": \"v\", \"showlegend\": true, \"text\": [0.0, 0.0, 0.0, 0.0, 0.0, 0.0, 0.0, 0.0, 0.0, 0.0, 0.0, 0.0, 0.0, 0.0, 0.0, 0.0, 0.0, 0.0], \"textposition\": \"auto\", \"type\": \"bar\", \"x\": [\"01/31/2020 19:00:00\", \"02/01/2020 23:00:00\", \"02/02/2020 21:00:00\", \"02/03/2020 21:40:00\", \"02/04/2020 22:00:00\", \"02/05/2020 12:20:00\", \"02/06/2020 20:05:00\", \"02/07/2020 20:24:00\", \"02/08/2020 23:04:00\", \"02/09/2020 23:20:00\", \"02/10/2020 19:30:00\", \"02/11/2020 20:44:00\", \"02/12/2020 22:00:00\", \"02/13/2020 21:15:00\", \"02/14/2020 22:00:00\", \"02/15/2020 22:00:00\", \"02/16/2020 22:00:00\", \"02/17/2020 22:00:00\"], \"xaxis\": \"x\", \"y\": [0.0, 0.0, 0.0, 0.0, 0.0, 0.0, 0.0, 0.0, 0.0, 0.0, 0.0, 0.0, 0.0, 0.0, 0.0, 0.0, 0.0, 0.0], \"yaxis\": \"y\"}, {\"alignmentgroup\": \"True\", \"hoverlabel\": {\"namelength\": 0}, \"hovertemplate\": \"Country=Belgium<br>Date=%{x}<br>Deaths=%{text}\", \"legendgroup\": \"Belgium\", \"marker\": {\"color\": \"#FECB52\"}, \"name\": \"Belgium\", \"offsetgroup\": \"Belgium\", \"orientation\": \"v\", \"showlegend\": true, \"text\": [0.0, 0.0, 0.0, 0.0, 0.0, 0.0, 0.0, 0.0, 0.0, 0.0, 0.0, 0.0, 0.0, 0.0], \"textposition\": \"auto\", \"type\": \"bar\", \"x\": [\"02/04/2020 22:00:00\", \"02/05/2020 12:20:00\", \"02/06/2020 20:05:00\", \"02/07/2020 20:24:00\", \"02/08/2020 23:04:00\", \"02/09/2020 23:20:00\", \"02/10/2020 19:30:00\", \"02/11/2020 20:44:00\", \"02/12/2020 22:00:00\", \"02/13/2020 21:15:00\", \"02/14/2020 22:00:00\", \"02/15/2020 22:00:00\", \"02/16/2020 22:00:00\", \"02/17/2020 22:00:00\"], \"xaxis\": \"x\", \"y\": [0.0, 0.0, 0.0, 0.0, 0.0, 0.0, 0.0, 0.0, 0.0, 0.0, 0.0, 0.0, 0.0, 0.0], \"yaxis\": \"y\"}, {\"alignmentgroup\": \"True\", \"hoverlabel\": {\"namelength\": 0}, \"hovertemplate\": \"Country=Others<br>Date=%{x}<br>Deaths=%{text}\", \"legendgroup\": \"Others\", \"marker\": {\"color\": \"#636efa\"}, \"name\": \"Others\", \"offsetgroup\": \"Others\", \"orientation\": \"v\", \"showlegend\": true, \"text\": [0.0, 0.0, 0.0, 0.0, 0.0, 0.0, 0.0, 0.0, 0.0, 0.0, 0.0], \"textposition\": \"auto\", \"type\": \"bar\", \"x\": [\"02/07/2020 20:24:00\", \"02/08/2020 23:04:00\", \"02/09/2020 23:20:00\", \"02/10/2020 19:30:00\", \"02/11/2020 20:44:00\", \"02/12/2020 22:00:00\", \"02/13/2020 21:15:00\", \"02/14/2020 22:00:00\", \"02/15/2020 22:00:00\", \"02/16/2020 22:00:00\", \"02/17/2020 22:00:00\"], \"xaxis\": \"x\", \"y\": [0.0, 0.0, 0.0, 0.0, 0.0, 0.0, 0.0, 0.0, 0.0, 0.0, 0.0], \"yaxis\": \"y\"}, {\"alignmentgroup\": \"True\", \"hoverlabel\": {\"namelength\": 0}, \"hovertemplate\": \"Country=Egypt<br>Date=%{x}<br>Deaths=%{text}\", \"legendgroup\": \"Egypt\", \"marker\": {\"color\": \"#EF553B\"}, \"name\": \"Egypt\", \"offsetgroup\": \"Egypt\", \"orientation\": \"v\", \"showlegend\": true, \"text\": [0.0, 0.0, 0.0, 0.0], \"textposition\": \"auto\", \"type\": \"bar\", \"x\": [\"02/14/2020 22:00:00\", \"02/15/2020 22:00:00\", \"02/16/2020 22:00:00\", \"02/17/2020 22:00:00\"], \"xaxis\": \"x\", \"y\": [0.0, 0.0, 0.0, 0.0], \"yaxis\": \"y\"}],\n",
       "                        {\"barmode\": \"relative\", \"height\": 600, \"legend\": {\"title\": {\"text\": \"Country\"}, \"tracegroupgap\": 0}, \"template\": {\"data\": {\"bar\": [{\"error_x\": {\"color\": \"#2a3f5f\"}, \"error_y\": {\"color\": \"#2a3f5f\"}, \"marker\": {\"line\": {\"color\": \"#E5ECF6\", \"width\": 0.5}}, \"type\": \"bar\"}], \"barpolar\": [{\"marker\": {\"line\": {\"color\": \"#E5ECF6\", \"width\": 0.5}}, \"type\": \"barpolar\"}], \"carpet\": [{\"aaxis\": {\"endlinecolor\": \"#2a3f5f\", \"gridcolor\": \"white\", \"linecolor\": \"white\", \"minorgridcolor\": \"white\", \"startlinecolor\": \"#2a3f5f\"}, \"baxis\": {\"endlinecolor\": \"#2a3f5f\", \"gridcolor\": \"white\", \"linecolor\": \"white\", \"minorgridcolor\": \"white\", \"startlinecolor\": \"#2a3f5f\"}, \"type\": \"carpet\"}], \"choropleth\": [{\"colorbar\": {\"outlinewidth\": 0, \"ticks\": \"\"}, \"type\": \"choropleth\"}], \"contour\": [{\"colorbar\": {\"outlinewidth\": 0, \"ticks\": \"\"}, \"colorscale\": [[0.0, \"#0d0887\"], [0.1111111111111111, \"#46039f\"], [0.2222222222222222, \"#7201a8\"], [0.3333333333333333, \"#9c179e\"], [0.4444444444444444, \"#bd3786\"], [0.5555555555555556, \"#d8576b\"], [0.6666666666666666, \"#ed7953\"], [0.7777777777777778, \"#fb9f3a\"], [0.8888888888888888, \"#fdca26\"], [1.0, \"#f0f921\"]], \"type\": \"contour\"}], \"contourcarpet\": [{\"colorbar\": {\"outlinewidth\": 0, \"ticks\": \"\"}, \"type\": \"contourcarpet\"}], \"heatmap\": [{\"colorbar\": {\"outlinewidth\": 0, \"ticks\": \"\"}, \"colorscale\": [[0.0, \"#0d0887\"], [0.1111111111111111, \"#46039f\"], [0.2222222222222222, \"#7201a8\"], [0.3333333333333333, \"#9c179e\"], [0.4444444444444444, \"#bd3786\"], [0.5555555555555556, \"#d8576b\"], [0.6666666666666666, \"#ed7953\"], [0.7777777777777778, \"#fb9f3a\"], [0.8888888888888888, \"#fdca26\"], [1.0, \"#f0f921\"]], \"type\": \"heatmap\"}], \"heatmapgl\": [{\"colorbar\": {\"outlinewidth\": 0, \"ticks\": \"\"}, \"colorscale\": [[0.0, \"#0d0887\"], [0.1111111111111111, \"#46039f\"], [0.2222222222222222, \"#7201a8\"], [0.3333333333333333, \"#9c179e\"], [0.4444444444444444, \"#bd3786\"], [0.5555555555555556, \"#d8576b\"], [0.6666666666666666, \"#ed7953\"], [0.7777777777777778, \"#fb9f3a\"], [0.8888888888888888, \"#fdca26\"], [1.0, \"#f0f921\"]], \"type\": \"heatmapgl\"}], \"histogram\": [{\"marker\": {\"colorbar\": {\"outlinewidth\": 0, \"ticks\": \"\"}}, \"type\": \"histogram\"}], \"histogram2d\": [{\"colorbar\": {\"outlinewidth\": 0, \"ticks\": \"\"}, \"colorscale\": [[0.0, \"#0d0887\"], [0.1111111111111111, \"#46039f\"], [0.2222222222222222, \"#7201a8\"], [0.3333333333333333, \"#9c179e\"], [0.4444444444444444, \"#bd3786\"], [0.5555555555555556, \"#d8576b\"], [0.6666666666666666, \"#ed7953\"], [0.7777777777777778, \"#fb9f3a\"], [0.8888888888888888, \"#fdca26\"], [1.0, \"#f0f921\"]], \"type\": \"histogram2d\"}], \"histogram2dcontour\": [{\"colorbar\": {\"outlinewidth\": 0, \"ticks\": \"\"}, \"colorscale\": [[0.0, \"#0d0887\"], [0.1111111111111111, \"#46039f\"], [0.2222222222222222, \"#7201a8\"], [0.3333333333333333, \"#9c179e\"], [0.4444444444444444, \"#bd3786\"], [0.5555555555555556, \"#d8576b\"], [0.6666666666666666, \"#ed7953\"], [0.7777777777777778, \"#fb9f3a\"], [0.8888888888888888, \"#fdca26\"], [1.0, \"#f0f921\"]], \"type\": \"histogram2dcontour\"}], \"mesh3d\": [{\"colorbar\": {\"outlinewidth\": 0, \"ticks\": \"\"}, \"type\": \"mesh3d\"}], \"parcoords\": [{\"line\": {\"colorbar\": {\"outlinewidth\": 0, \"ticks\": \"\"}}, \"type\": \"parcoords\"}], \"pie\": [{\"automargin\": true, \"type\": \"pie\"}], \"scatter\": [{\"marker\": {\"colorbar\": {\"outlinewidth\": 0, \"ticks\": \"\"}}, \"type\": \"scatter\"}], \"scatter3d\": [{\"line\": {\"colorbar\": {\"outlinewidth\": 0, \"ticks\": \"\"}}, \"marker\": {\"colorbar\": {\"outlinewidth\": 0, \"ticks\": \"\"}}, \"type\": \"scatter3d\"}], \"scattercarpet\": [{\"marker\": {\"colorbar\": {\"outlinewidth\": 0, \"ticks\": \"\"}}, \"type\": \"scattercarpet\"}], \"scattergeo\": [{\"marker\": {\"colorbar\": {\"outlinewidth\": 0, \"ticks\": \"\"}}, \"type\": \"scattergeo\"}], \"scattergl\": [{\"marker\": {\"colorbar\": {\"outlinewidth\": 0, \"ticks\": \"\"}}, \"type\": \"scattergl\"}], \"scattermapbox\": [{\"marker\": {\"colorbar\": {\"outlinewidth\": 0, \"ticks\": \"\"}}, \"type\": \"scattermapbox\"}], \"scatterpolar\": [{\"marker\": {\"colorbar\": {\"outlinewidth\": 0, \"ticks\": \"\"}}, \"type\": \"scatterpolar\"}], \"scatterpolargl\": [{\"marker\": {\"colorbar\": {\"outlinewidth\": 0, \"ticks\": \"\"}}, \"type\": \"scatterpolargl\"}], \"scatterternary\": [{\"marker\": {\"colorbar\": {\"outlinewidth\": 0, \"ticks\": \"\"}}, \"type\": \"scatterternary\"}], \"surface\": [{\"colorbar\": {\"outlinewidth\": 0, \"ticks\": \"\"}, \"colorscale\": [[0.0, \"#0d0887\"], [0.1111111111111111, \"#46039f\"], [0.2222222222222222, \"#7201a8\"], [0.3333333333333333, \"#9c179e\"], [0.4444444444444444, \"#bd3786\"], [0.5555555555555556, \"#d8576b\"], [0.6666666666666666, \"#ed7953\"], [0.7777777777777778, \"#fb9f3a\"], [0.8888888888888888, \"#fdca26\"], [1.0, \"#f0f921\"]], \"type\": \"surface\"}], \"table\": [{\"cells\": {\"fill\": {\"color\": \"#EBF0F8\"}, \"line\": {\"color\": \"white\"}}, \"header\": {\"fill\": {\"color\": \"#C8D4E3\"}, \"line\": {\"color\": \"white\"}}, \"type\": \"table\"}]}, \"layout\": {\"annotationdefaults\": {\"arrowcolor\": \"#2a3f5f\", \"arrowhead\": 0, \"arrowwidth\": 1}, \"coloraxis\": {\"colorbar\": {\"outlinewidth\": 0, \"ticks\": \"\"}}, \"colorscale\": {\"diverging\": [[0, \"#8e0152\"], [0.1, \"#c51b7d\"], [0.2, \"#de77ae\"], [0.3, \"#f1b6da\"], [0.4, \"#fde0ef\"], [0.5, \"#f7f7f7\"], [0.6, \"#e6f5d0\"], [0.7, \"#b8e186\"], [0.8, \"#7fbc41\"], [0.9, \"#4d9221\"], [1, \"#276419\"]], \"sequential\": [[0.0, \"#0d0887\"], [0.1111111111111111, \"#46039f\"], [0.2222222222222222, \"#7201a8\"], [0.3333333333333333, \"#9c179e\"], [0.4444444444444444, \"#bd3786\"], [0.5555555555555556, \"#d8576b\"], [0.6666666666666666, \"#ed7953\"], [0.7777777777777778, \"#fb9f3a\"], [0.8888888888888888, \"#fdca26\"], [1.0, \"#f0f921\"]], \"sequentialminus\": [[0.0, \"#0d0887\"], [0.1111111111111111, \"#46039f\"], [0.2222222222222222, \"#7201a8\"], [0.3333333333333333, \"#9c179e\"], [0.4444444444444444, \"#bd3786\"], [0.5555555555555556, \"#d8576b\"], [0.6666666666666666, \"#ed7953\"], [0.7777777777777778, \"#fb9f3a\"], [0.8888888888888888, \"#fdca26\"], [1.0, \"#f0f921\"]]}, \"colorway\": [\"#636efa\", \"#EF553B\", \"#00cc96\", \"#ab63fa\", \"#FFA15A\", \"#19d3f3\", \"#FF6692\", \"#B6E880\", \"#FF97FF\", \"#FECB52\"], \"font\": {\"color\": \"#2a3f5f\"}, \"geo\": {\"bgcolor\": \"white\", \"lakecolor\": \"white\", \"landcolor\": \"#E5ECF6\", \"showlakes\": true, \"showland\": true, \"subunitcolor\": \"white\"}, \"hoverlabel\": {\"align\": \"left\"}, \"hovermode\": \"closest\", \"mapbox\": {\"style\": \"light\"}, \"paper_bgcolor\": \"white\", \"plot_bgcolor\": \"#E5ECF6\", \"polar\": {\"angularaxis\": {\"gridcolor\": \"white\", \"linecolor\": \"white\", \"ticks\": \"\"}, \"bgcolor\": \"#E5ECF6\", \"radialaxis\": {\"gridcolor\": \"white\", \"linecolor\": \"white\", \"ticks\": \"\"}}, \"scene\": {\"xaxis\": {\"backgroundcolor\": \"#E5ECF6\", \"gridcolor\": \"white\", \"gridwidth\": 2, \"linecolor\": \"white\", \"showbackground\": true, \"ticks\": \"\", \"zerolinecolor\": \"white\"}, \"yaxis\": {\"backgroundcolor\": \"#E5ECF6\", \"gridcolor\": \"white\", \"gridwidth\": 2, \"linecolor\": \"white\", \"showbackground\": true, \"ticks\": \"\", \"zerolinecolor\": \"white\"}, \"zaxis\": {\"backgroundcolor\": \"#E5ECF6\", \"gridcolor\": \"white\", \"gridwidth\": 2, \"linecolor\": \"white\", \"showbackground\": true, \"ticks\": \"\", \"zerolinecolor\": \"white\"}}, \"shapedefaults\": {\"line\": {\"color\": \"#2a3f5f\"}}, \"ternary\": {\"aaxis\": {\"gridcolor\": \"white\", \"linecolor\": \"white\", \"ticks\": \"\"}, \"baxis\": {\"gridcolor\": \"white\", \"linecolor\": \"white\", \"ticks\": \"\"}, \"bgcolor\": \"#E5ECF6\", \"caxis\": {\"gridcolor\": \"white\", \"linecolor\": \"white\", \"ticks\": \"\"}}, \"title\": {\"x\": 0.05}, \"xaxis\": {\"automargin\": true, \"gridcolor\": \"white\", \"linecolor\": \"white\", \"ticks\": \"\", \"title\": {\"standoff\": 15}, \"zerolinecolor\": \"white\", \"zerolinewidth\": 2}, \"yaxis\": {\"automargin\": true, \"gridcolor\": \"white\", \"linecolor\": \"white\", \"ticks\": \"\", \"title\": {\"standoff\": 15}, \"zerolinecolor\": \"white\", \"zerolinewidth\": 2}}}, \"title\": {\"text\": \"Deaths\"}, \"xaxis\": {\"anchor\": \"y\", \"domain\": [0.0, 1.0], \"title\": {\"text\": \"Date\"}}, \"yaxis\": {\"anchor\": \"x\", \"domain\": [0.0, 1.0], \"title\": {\"text\": \"Deaths\"}}},\n",
       "                        {\"responsive\": true}\n",
       "                    ).then(function(){\n",
       "                            \n",
       "var gd = document.getElementById('6783ecca-387f-44ce-981c-d883a5da02c1');\n",
       "var x = new MutationObserver(function (mutations, observer) {{\n",
       "        var display = window.getComputedStyle(gd).display;\n",
       "        if (!display || display === 'none') {{\n",
       "            console.log([gd, 'removed!']);\n",
       "            Plotly.purge(gd);\n",
       "            observer.disconnect();\n",
       "        }}\n",
       "}});\n",
       "\n",
       "// Listen for the removal of the full notebook cells\n",
       "var notebookContainer = gd.closest('#notebook-container');\n",
       "if (notebookContainer) {{\n",
       "    x.observe(notebookContainer, {childList: true});\n",
       "}}\n",
       "\n",
       "// Listen for the clearing of the current output cell\n",
       "var outputEl = gd.closest('.output');\n",
       "if (outputEl) {{\n",
       "    x.observe(outputEl, {childList: true});\n",
       "}}\n",
       "\n",
       "                        })\n",
       "                };\n",
       "                });\n",
       "            </script>\n",
       "        </div>"
      ]
     },
     "metadata": {},
     "output_type": "display_data"
    }
   ],
   "source": [
    "fig = px.bar(bar_data1, x=\"Date\", y=\"Deaths\", color='Country', text = 'Deaths', orientation='v', height=600,\n",
    "             title='Deaths')\n",
    "fig.show()"
   ]
  },
  {
   "cell_type": "code",
   "execution_count": 80,
   "metadata": {},
   "outputs": [
    {
     "data": {
      "application/vnd.plotly.v1+json": {
       "config": {
        "plotlyServerURL": "https://plot.ly"
       },
       "data": [
        {
         "alignmentgroup": "True",
         "hoverlabel": {
          "namelength": 0
         },
         "hovertemplate": "Country=Japan<br>Date=%{x}<br>Recovered=%{text}",
         "legendgroup": "Japan",
         "marker": {
          "color": "#636efa"
         },
         "name": "Japan",
         "offsetgroup": "Japan",
         "orientation": "v",
         "showlegend": true,
         "text": [
          0,
          0,
          0,
          0,
          1,
          1,
          1,
          1,
          1,
          1,
          1,
          1,
          1,
          1,
          1,
          1,
          1,
          1,
          1,
          4,
          9,
          9,
          9,
          9,
          12,
          12,
          12
         ],
         "textposition": "auto",
         "type": "bar",
         "x": [
          "01/22/2020 12:00:00",
          "01/23/2020 12:00:00",
          "01/24/2020 12:00:00",
          "01/25/2020 22:00:00",
          "01/26/2020 23:00:00",
          "01/27/2020 20:30:00",
          "01/28/2020 23:00:00",
          "01/29/2020 21:00:00",
          "01/30/2020 21:30:00",
          "01/31/2020 19:00:00",
          "02/01/2020 23:00:00",
          "02/02/2020 21:00:00",
          "02/03/2020 21:40:00",
          "02/04/2020 22:00:00",
          "02/05/2020 12:20:00",
          "02/06/2020 20:05:00",
          "02/07/2020 20:24:00",
          "02/08/2020 23:04:00",
          "02/09/2020 23:20:00",
          "02/10/2020 19:30:00",
          "02/11/2020 20:44:00",
          "02/12/2020 22:00:00",
          "02/13/2020 21:15:00",
          "02/14/2020 22:00:00",
          "02/15/2020 22:00:00",
          "02/16/2020 22:00:00",
          "02/17/2020 22:00:00"
         ],
         "xaxis": "x",
         "y": [
          0,
          0,
          0,
          0,
          1,
          1,
          1,
          1,
          1,
          1,
          1,
          1,
          1,
          1,
          1,
          1,
          1,
          1,
          1,
          4,
          9,
          9,
          9,
          9,
          12,
          12,
          12
         ],
         "yaxis": "y"
        },
        {
         "alignmentgroup": "True",
         "hoverlabel": {
          "namelength": 0
         },
         "hovertemplate": "Country=US<br>Date=%{x}<br>Recovered=%{text}",
         "legendgroup": "US",
         "marker": {
          "color": "#EF553B"
         },
         "name": "US",
         "offsetgroup": "US",
         "orientation": "v",
         "showlegend": true,
         "text": [
          0,
          0,
          0,
          0,
          0,
          0,
          0,
          0,
          0,
          0,
          0,
          0,
          0,
          0,
          0,
          0,
          0,
          0,
          3,
          3,
          3,
          3,
          3,
          3,
          3,
          3,
          3
         ],
         "textposition": "auto",
         "type": "bar",
         "x": [
          "01/22/2020 12:00:00",
          "01/23/2020 12:00:00",
          "01/24/2020 12:00:00",
          "01/25/2020 22:00:00",
          "01/26/2020 23:00:00",
          "01/27/2020 20:30:00",
          "01/28/2020 23:00:00",
          "01/29/2020 21:00:00",
          "01/30/2020 21:30:00",
          "01/31/2020 19:00:00",
          "02/01/2020 23:00:00",
          "02/02/2020 21:00:00",
          "02/03/2020 21:40:00",
          "02/04/2020 22:00:00",
          "02/05/2020 12:20:00",
          "02/06/2020 20:05:00",
          "02/07/2020 20:24:00",
          "02/08/2020 23:04:00",
          "02/09/2020 23:20:00",
          "02/10/2020 19:30:00",
          "02/11/2020 20:44:00",
          "02/12/2020 22:00:00",
          "02/13/2020 21:15:00",
          "02/14/2020 22:00:00",
          "02/15/2020 22:00:00",
          "02/16/2020 22:00:00",
          "02/17/2020 22:00:00"
         ],
         "xaxis": "x",
         "y": [
          0,
          0,
          0,
          0,
          0,
          0,
          0,
          0,
          0,
          0,
          0,
          0,
          0,
          0,
          0,
          0,
          0,
          0,
          3,
          3,
          3,
          3,
          3,
          3,
          3,
          3,
          3
         ],
         "yaxis": "y"
        },
        {
         "alignmentgroup": "True",
         "hoverlabel": {
          "namelength": 0
         },
         "hovertemplate": "Country=South Korea<br>Date=%{x}<br>Recovered=%{text}",
         "legendgroup": "South Korea",
         "marker": {
          "color": "#00cc96"
         },
         "name": "South Korea",
         "offsetgroup": "South Korea",
         "orientation": "v",
         "showlegend": true,
         "text": [
          0,
          0,
          0,
          0,
          0,
          0,
          0,
          0,
          0,
          0,
          0,
          0,
          0,
          0,
          0,
          0,
          1,
          3,
          3,
          3,
          4,
          7,
          7,
          7,
          9,
          9,
          10
         ],
         "textposition": "auto",
         "type": "bar",
         "x": [
          "01/22/2020 12:00:00",
          "01/23/2020 12:00:00",
          "01/24/2020 12:00:00",
          "01/25/2020 22:00:00",
          "01/26/2020 23:00:00",
          "01/27/2020 20:30:00",
          "01/28/2020 23:00:00",
          "01/29/2020 21:00:00",
          "01/30/2020 21:30:00",
          "01/31/2020 19:00:00",
          "02/01/2020 23:00:00",
          "02/02/2020 21:00:00",
          "02/03/2020 21:40:00",
          "02/04/2020 22:00:00",
          "02/05/2020 12:20:00",
          "02/06/2020 20:05:00",
          "02/07/2020 20:24:00",
          "02/08/2020 23:04:00",
          "02/09/2020 23:20:00",
          "02/10/2020 19:30:00",
          "02/11/2020 20:44:00",
          "02/12/2020 22:00:00",
          "02/13/2020 21:15:00",
          "02/14/2020 22:00:00",
          "02/15/2020 22:00:00",
          "02/16/2020 22:00:00",
          "02/17/2020 22:00:00"
         ],
         "xaxis": "x",
         "y": [
          0,
          0,
          0,
          0,
          0,
          0,
          0,
          0,
          0,
          0,
          0,
          0,
          0,
          0,
          0,
          0,
          1,
          3,
          3,
          3,
          4,
          7,
          7,
          7,
          9,
          9,
          10
         ],
         "yaxis": "y"
        },
        {
         "alignmentgroup": "True",
         "hoverlabel": {
          "namelength": 0
         },
         "hovertemplate": "Country=Thailand<br>Date=%{x}<br>Recovered=%{text}",
         "legendgroup": "Thailand",
         "marker": {
          "color": "#ab63fa"
         },
         "name": "Thailand",
         "offsetgroup": "Thailand",
         "orientation": "v",
         "showlegend": true,
         "text": [
          0,
          0,
          0,
          0,
          2,
          2,
          5,
          5,
          5,
          7,
          5,
          5,
          5,
          5,
          5,
          5,
          5,
          10,
          10,
          10,
          10,
          10,
          12,
          12,
          12,
          14,
          15
         ],
         "textposition": "auto",
         "type": "bar",
         "x": [
          "01/22/2020 12:00:00",
          "01/23/2020 12:00:00",
          "01/24/2020 12:00:00",
          "01/25/2020 22:00:00",
          "01/26/2020 23:00:00",
          "01/27/2020 20:30:00",
          "01/28/2020 23:00:00",
          "01/29/2020 21:00:00",
          "01/30/2020 21:30:00",
          "01/31/2020 19:00:00",
          "02/01/2020 23:00:00",
          "02/02/2020 21:00:00",
          "02/03/2020 21:40:00",
          "02/04/2020 22:00:00",
          "02/05/2020 12:20:00",
          "02/06/2020 20:05:00",
          "02/07/2020 20:24:00",
          "02/08/2020 23:04:00",
          "02/09/2020 23:20:00",
          "02/10/2020 19:30:00",
          "02/11/2020 20:44:00",
          "02/12/2020 22:00:00",
          "02/13/2020 21:15:00",
          "02/14/2020 22:00:00",
          "02/15/2020 22:00:00",
          "02/16/2020 22:00:00",
          "02/17/2020 22:00:00"
         ],
         "xaxis": "x",
         "y": [
          0,
          0,
          0,
          0,
          2,
          2,
          5,
          5,
          5,
          7,
          5,
          5,
          5,
          5,
          5,
          5,
          5,
          10,
          10,
          10,
          10,
          10,
          12,
          12,
          12,
          14,
          15
         ],
         "yaxis": "y"
        },
        {
         "alignmentgroup": "True",
         "hoverlabel": {
          "namelength": 0
         },
         "hovertemplate": "Country=Hong Kong<br>Date=%{x}<br>Recovered=%{text}",
         "legendgroup": "Hong Kong",
         "marker": {
          "color": "#FFA15A"
         },
         "name": "Hong Kong",
         "offsetgroup": "Hong Kong",
         "orientation": "v",
         "showlegend": true,
         "text": [
          0,
          0,
          0,
          0,
          0,
          0,
          0,
          0,
          0,
          0,
          0,
          0,
          0,
          0,
          0,
          0,
          0,
          0,
          0,
          0,
          1,
          1,
          1,
          1,
          2,
          2
         ],
         "textposition": "auto",
         "type": "bar",
         "x": [
          "01/23/2020 12:00:00",
          "01/24/2020 12:00:00",
          "01/25/2020 22:00:00",
          "01/26/2020 23:00:00",
          "01/27/2020 20:30:00",
          "01/28/2020 23:00:00",
          "01/29/2020 21:00:00",
          "01/30/2020 21:30:00",
          "01/31/2020 19:00:00",
          "02/01/2020 23:00:00",
          "02/02/2020 21:00:00",
          "02/03/2020 21:40:00",
          "02/04/2020 22:00:00",
          "02/05/2020 12:20:00",
          "02/06/2020 20:05:00",
          "02/07/2020 20:24:00",
          "02/08/2020 23:04:00",
          "02/09/2020 23:20:00",
          "02/10/2020 19:30:00",
          "02/11/2020 20:44:00",
          "02/12/2020 22:00:00",
          "02/13/2020 21:15:00",
          "02/14/2020 22:00:00",
          "02/15/2020 22:00:00",
          "02/16/2020 22:00:00",
          "02/17/2020 22:00:00"
         ],
         "xaxis": "x",
         "y": [
          0,
          0,
          0,
          0,
          0,
          0,
          0,
          0,
          0,
          0,
          0,
          0,
          0,
          0,
          0,
          0,
          0,
          0,
          0,
          0,
          1,
          1,
          1,
          1,
          2,
          2
         ],
         "yaxis": "y"
        },
        {
         "alignmentgroup": "True",
         "hoverlabel": {
          "namelength": 0
         },
         "hovertemplate": "Country=Taiwan<br>Date=%{x}<br>Recovered=%{text}",
         "legendgroup": "Taiwan",
         "marker": {
          "color": "#19d3f3"
         },
         "name": "Taiwan",
         "offsetgroup": "Taiwan",
         "orientation": "v",
         "showlegend": true,
         "text": [
          0,
          0,
          0,
          0,
          0,
          0,
          0,
          0,
          0,
          0,
          0,
          0,
          0,
          0,
          1,
          1,
          1,
          1,
          1,
          1,
          1,
          1,
          2,
          2,
          2,
          2
         ],
         "textposition": "auto",
         "type": "bar",
         "x": [
          "01/23/2020 12:00:00",
          "01/24/2020 12:00:00",
          "01/25/2020 22:00:00",
          "01/26/2020 23:00:00",
          "01/27/2020 20:30:00",
          "01/28/2020 23:00:00",
          "01/29/2020 21:00:00",
          "01/30/2020 21:30:00",
          "01/31/2020 19:00:00",
          "02/01/2020 23:00:00",
          "02/02/2020 21:00:00",
          "02/03/2020 21:40:00",
          "02/04/2020 22:00:00",
          "02/05/2020 12:20:00",
          "02/06/2020 20:05:00",
          "02/07/2020 20:24:00",
          "02/08/2020 23:04:00",
          "02/09/2020 23:20:00",
          "02/10/2020 19:30:00",
          "02/11/2020 20:44:00",
          "02/12/2020 22:00:00",
          "02/13/2020 21:15:00",
          "02/14/2020 22:00:00",
          "02/15/2020 22:00:00",
          "02/16/2020 22:00:00",
          "02/17/2020 22:00:00"
         ],
         "xaxis": "x",
         "y": [
          0,
          0,
          0,
          0,
          0,
          0,
          0,
          0,
          0,
          0,
          0,
          0,
          0,
          0,
          1,
          1,
          1,
          1,
          1,
          1,
          1,
          1,
          2,
          2,
          2,
          2
         ],
         "yaxis": "y"
        },
        {
         "alignmentgroup": "True",
         "hoverlabel": {
          "namelength": 0
         },
         "hovertemplate": "Country=Australia<br>Date=%{x}<br>Recovered=%{text}",
         "legendgroup": "Australia",
         "marker": {
          "color": "#FF6692"
         },
         "name": "Australia",
         "offsetgroup": "Australia",
         "orientation": "v",
         "showlegend": true,
         "text": [
          0,
          0,
          0,
          0,
          0,
          0,
          2,
          2,
          2,
          2,
          2,
          2,
          2,
          2,
          2,
          2,
          2,
          2,
          2,
          2,
          8,
          8,
          8,
          8,
          10
         ],
         "textposition": "auto",
         "type": "bar",
         "x": [
          "01/23/2020 12:00:00",
          "01/25/2020 22:00:00",
          "01/26/2020 23:00:00",
          "01/27/2020 20:30:00",
          "01/28/2020 23:00:00",
          "01/29/2020 21:00:00",
          "01/30/2020 21:30:00",
          "01/31/2020 19:00:00",
          "02/01/2020 23:00:00",
          "02/02/2020 21:00:00",
          "02/03/2020 21:40:00",
          "02/04/2020 22:00:00",
          "02/05/2020 12:20:00",
          "02/06/2020 20:05:00",
          "02/07/2020 20:24:00",
          "02/08/2020 23:04:00",
          "02/09/2020 23:20:00",
          "02/10/2020 19:30:00",
          "02/11/2020 20:44:00",
          "02/12/2020 22:00:00",
          "02/13/2020 21:15:00",
          "02/14/2020 22:00:00",
          "02/15/2020 22:00:00",
          "02/16/2020 22:00:00",
          "02/17/2020 22:00:00"
         ],
         "xaxis": "x",
         "y": [
          0,
          0,
          0,
          0,
          0,
          0,
          2,
          2,
          2,
          2,
          2,
          2,
          2,
          2,
          2,
          2,
          2,
          2,
          2,
          2,
          8,
          8,
          8,
          8,
          10
         ],
         "yaxis": "y"
        },
        {
         "alignmentgroup": "True",
         "hoverlabel": {
          "namelength": 0
         },
         "hovertemplate": "Country=Macau<br>Date=%{x}<br>Recovered=%{text}",
         "legendgroup": "Macau",
         "marker": {
          "color": "#B6E880"
         },
         "name": "Macau",
         "offsetgroup": "Macau",
         "orientation": "v",
         "showlegend": true,
         "text": [
          0,
          0,
          0,
          0,
          0,
          0,
          0,
          0,
          0,
          0,
          0,
          0,
          0,
          0,
          1,
          1,
          1,
          1,
          1,
          1,
          2,
          3,
          3,
          3,
          5,
          5
         ],
         "textposition": "auto",
         "type": "bar",
         "x": [
          "01/23/2020 12:00:00",
          "01/24/2020 12:00:00",
          "01/25/2020 22:00:00",
          "01/26/2020 23:00:00",
          "01/27/2020 20:30:00",
          "01/28/2020 23:00:00",
          "01/29/2020 21:00:00",
          "01/30/2020 21:30:00",
          "01/31/2020 19:00:00",
          "02/01/2020 23:00:00",
          "02/02/2020 21:00:00",
          "02/03/2020 21:40:00",
          "02/04/2020 22:00:00",
          "02/05/2020 12:20:00",
          "02/06/2020 20:05:00",
          "02/07/2020 20:24:00",
          "02/08/2020 23:04:00",
          "02/09/2020 23:20:00",
          "02/10/2020 19:30:00",
          "02/11/2020 20:44:00",
          "02/12/2020 22:00:00",
          "02/13/2020 21:15:00",
          "02/14/2020 22:00:00",
          "02/15/2020 22:00:00",
          "02/16/2020 22:00:00",
          "02/17/2020 22:00:00"
         ],
         "xaxis": "x",
         "y": [
          0,
          0,
          0,
          0,
          0,
          0,
          0,
          0,
          0,
          0,
          0,
          0,
          0,
          0,
          1,
          1,
          1,
          1,
          1,
          1,
          2,
          3,
          3,
          3,
          5,
          5
         ],
         "yaxis": "y"
        },
        {
         "alignmentgroup": "True",
         "hoverlabel": {
          "namelength": 0
         },
         "hovertemplate": "Country=Malaysia<br>Date=%{x}<br>Recovered=%{text}",
         "legendgroup": "Malaysia",
         "marker": {
          "color": "#FF97FF"
         },
         "name": "Malaysia",
         "offsetgroup": "Malaysia",
         "orientation": "v",
         "showlegend": true,
         "text": [
          0,
          0,
          0,
          0,
          0,
          0,
          0,
          0,
          0,
          0,
          0,
          0,
          0,
          0,
          1,
          1,
          1,
          1,
          3,
          3,
          3,
          3,
          7,
          7,
          7
         ],
         "textposition": "auto",
         "type": "bar",
         "x": [
          "01/23/2020 12:00:00",
          "01/25/2020 22:00:00",
          "01/26/2020 23:00:00",
          "01/27/2020 20:30:00",
          "01/28/2020 23:00:00",
          "01/29/2020 21:00:00",
          "01/30/2020 21:30:00",
          "01/31/2020 19:00:00",
          "02/01/2020 23:00:00",
          "02/02/2020 21:00:00",
          "02/03/2020 21:40:00",
          "02/04/2020 22:00:00",
          "02/05/2020 12:20:00",
          "02/06/2020 20:05:00",
          "02/07/2020 20:24:00",
          "02/08/2020 23:04:00",
          "02/09/2020 23:20:00",
          "02/10/2020 19:30:00",
          "02/11/2020 20:44:00",
          "02/12/2020 22:00:00",
          "02/13/2020 21:15:00",
          "02/14/2020 22:00:00",
          "02/15/2020 22:00:00",
          "02/16/2020 22:00:00",
          "02/17/2020 22:00:00"
         ],
         "xaxis": "x",
         "y": [
          0,
          0,
          0,
          0,
          0,
          0,
          0,
          0,
          0,
          0,
          0,
          0,
          0,
          0,
          1,
          1,
          1,
          1,
          3,
          3,
          3,
          3,
          7,
          7,
          7
         ],
         "yaxis": "y"
        },
        {
         "alignmentgroup": "True",
         "hoverlabel": {
          "namelength": 0
         },
         "hovertemplate": "Country=Singapore<br>Date=%{x}<br>Recovered=%{text}",
         "legendgroup": "Singapore",
         "marker": {
          "color": "#FECB52"
         },
         "name": "Singapore",
         "offsetgroup": "Singapore",
         "orientation": "v",
         "showlegend": true,
         "text": [
          0,
          0,
          0,
          0,
          0,
          0,
          0,
          0,
          0,
          0,
          0,
          0,
          0,
          0,
          0,
          0,
          2,
          2,
          2,
          9,
          15,
          15,
          17,
          18,
          18,
          24
         ],
         "textposition": "auto",
         "type": "bar",
         "x": [
          "01/23/2020 12:00:00",
          "01/24/2020 12:00:00",
          "01/25/2020 22:00:00",
          "01/26/2020 23:00:00",
          "01/27/2020 20:30:00",
          "01/28/2020 23:00:00",
          "01/29/2020 21:00:00",
          "01/30/2020 21:30:00",
          "01/31/2020 19:00:00",
          "02/01/2020 23:00:00",
          "02/02/2020 21:00:00",
          "02/03/2020 21:40:00",
          "02/04/2020 22:00:00",
          "02/05/2020 12:20:00",
          "02/06/2020 20:05:00",
          "02/07/2020 20:24:00",
          "02/08/2020 23:04:00",
          "02/09/2020 23:20:00",
          "02/10/2020 19:30:00",
          "02/11/2020 20:44:00",
          "02/12/2020 22:00:00",
          "02/13/2020 21:15:00",
          "02/14/2020 22:00:00",
          "02/15/2020 22:00:00",
          "02/16/2020 22:00:00",
          "02/17/2020 22:00:00"
         ],
         "xaxis": "x",
         "y": [
          0,
          0,
          0,
          0,
          0,
          0,
          0,
          0,
          0,
          0,
          0,
          0,
          0,
          0,
          0,
          0,
          2,
          2,
          2,
          9,
          15,
          15,
          17,
          18,
          18,
          24
         ],
         "yaxis": "y"
        },
        {
         "alignmentgroup": "True",
         "hoverlabel": {
          "namelength": 0
         },
         "hovertemplate": "Country=Mexico<br>Date=%{x}<br>Recovered=%{text}",
         "legendgroup": "Mexico",
         "marker": {
          "color": "#636efa"
         },
         "name": "Mexico",
         "offsetgroup": "Mexico",
         "orientation": "v",
         "showlegend": true,
         "text": [
          0
         ],
         "textposition": "auto",
         "type": "bar",
         "x": [
          "01/23/2020 12:00:00"
         ],
         "xaxis": "x",
         "y": [
          0
         ],
         "yaxis": "y"
        },
        {
         "alignmentgroup": "True",
         "hoverlabel": {
          "namelength": 0
         },
         "hovertemplate": "Country=Brazil<br>Date=%{x}<br>Recovered=%{text}",
         "legendgroup": "Brazil",
         "marker": {
          "color": "#EF553B"
         },
         "name": "Brazil",
         "offsetgroup": "Brazil",
         "orientation": "v",
         "showlegend": true,
         "text": [
          0
         ],
         "textposition": "auto",
         "type": "bar",
         "x": [
          "01/23/2020 12:00:00"
         ],
         "xaxis": "x",
         "y": [
          0
         ],
         "yaxis": "y"
        },
        {
         "alignmentgroup": "True",
         "hoverlabel": {
          "namelength": 0
         },
         "hovertemplate": "Country=Vietnam<br>Date=%{x}<br>Recovered=%{text}",
         "legendgroup": "Vietnam",
         "marker": {
          "color": "#00cc96"
         },
         "name": "Vietnam",
         "offsetgroup": "Vietnam",
         "orientation": "v",
         "showlegend": true,
         "text": [
          0,
          0,
          0,
          0,
          0,
          0,
          0,
          0,
          0,
          1,
          1,
          1,
          1,
          1,
          1,
          1,
          1,
          1,
          1,
          6,
          6,
          7,
          7,
          7,
          7,
          7
         ],
         "textposition": "auto",
         "type": "bar",
         "x": [
          "01/23/2020 12:00:00",
          "01/24/2020 12:00:00",
          "01/25/2020 22:00:00",
          "01/26/2020 23:00:00",
          "01/27/2020 20:30:00",
          "01/28/2020 23:00:00",
          "01/29/2020 21:00:00",
          "01/30/2020 21:30:00",
          "01/31/2020 19:00:00",
          "02/01/2020 23:00:00",
          "02/02/2020 21:00:00",
          "02/03/2020 21:40:00",
          "02/04/2020 22:00:00",
          "02/05/2020 12:20:00",
          "02/06/2020 20:05:00",
          "02/07/2020 20:24:00",
          "02/08/2020 23:04:00",
          "02/09/2020 23:20:00",
          "02/10/2020 19:30:00",
          "02/11/2020 20:44:00",
          "02/12/2020 22:00:00",
          "02/13/2020 21:15:00",
          "02/14/2020 22:00:00",
          "02/15/2020 22:00:00",
          "02/16/2020 22:00:00",
          "02/17/2020 22:00:00"
         ],
         "xaxis": "x",
         "y": [
          0,
          0,
          0,
          0,
          0,
          0,
          0,
          0,
          0,
          1,
          1,
          1,
          1,
          1,
          1,
          1,
          1,
          1,
          1,
          6,
          6,
          7,
          7,
          7,
          7,
          7
         ],
         "yaxis": "y"
        },
        {
         "alignmentgroup": "True",
         "hoverlabel": {
          "namelength": 0
         },
         "hovertemplate": "Country=Philippines<br>Date=%{x}<br>Recovered=%{text}",
         "legendgroup": "Philippines",
         "marker": {
          "color": "#ab63fa"
         },
         "name": "Philippines",
         "offsetgroup": "Philippines",
         "orientation": "v",
         "showlegend": true,
         "text": [
          0,
          0,
          0,
          0,
          0,
          0,
          0,
          0,
          0,
          0,
          0,
          0,
          0,
          0,
          1,
          1,
          1,
          1,
          1,
          1
         ],
         "textposition": "auto",
         "type": "bar",
         "x": [
          "01/23/2020 12:00:00",
          "01/30/2020 21:30:00",
          "01/31/2020 19:00:00",
          "02/01/2020 23:00:00",
          "02/02/2020 21:00:00",
          "02/03/2020 21:40:00",
          "02/04/2020 22:00:00",
          "02/05/2020 12:20:00",
          "02/06/2020 20:05:00",
          "02/07/2020 20:24:00",
          "02/08/2020 23:04:00",
          "02/09/2020 23:20:00",
          "02/10/2020 19:30:00",
          "02/11/2020 20:44:00",
          "02/12/2020 22:00:00",
          "02/13/2020 21:15:00",
          "02/14/2020 22:00:00",
          "02/15/2020 22:00:00",
          "02/16/2020 22:00:00",
          "02/17/2020 22:00:00"
         ],
         "xaxis": "x",
         "y": [
          0,
          0,
          0,
          0,
          0,
          0,
          0,
          0,
          0,
          0,
          0,
          0,
          0,
          0,
          1,
          1,
          1,
          1,
          1,
          1
         ],
         "yaxis": "y"
        },
        {
         "alignmentgroup": "True",
         "hoverlabel": {
          "namelength": 0
         },
         "hovertemplate": "Country=France<br>Date=%{x}<br>Recovered=%{text}",
         "legendgroup": "France",
         "marker": {
          "color": "#FFA15A"
         },
         "name": "France",
         "offsetgroup": "France",
         "orientation": "v",
         "showlegend": true,
         "text": [
          0,
          0,
          0,
          0,
          0,
          0,
          0,
          0,
          0,
          0,
          0,
          0,
          0,
          0,
          0,
          0,
          0,
          0,
          0,
          2,
          2,
          2,
          4,
          4,
          4
         ],
         "textposition": "auto",
         "type": "bar",
         "x": [
          "01/24/2020 12:00:00",
          "01/25/2020 22:00:00",
          "01/26/2020 23:00:00",
          "01/27/2020 20:30:00",
          "01/28/2020 23:00:00",
          "01/29/2020 21:00:00",
          "01/30/2020 21:30:00",
          "01/31/2020 19:00:00",
          "02/01/2020 23:00:00",
          "02/02/2020 21:00:00",
          "02/03/2020 21:40:00",
          "02/04/2020 22:00:00",
          "02/05/2020 12:20:00",
          "02/06/2020 20:05:00",
          "02/07/2020 20:24:00",
          "02/08/2020 23:04:00",
          "02/09/2020 23:20:00",
          "02/10/2020 19:30:00",
          "02/11/2020 20:44:00",
          "02/12/2020 22:00:00",
          "02/13/2020 21:15:00",
          "02/14/2020 22:00:00",
          "02/15/2020 22:00:00",
          "02/16/2020 22:00:00",
          "02/17/2020 22:00:00"
         ],
         "xaxis": "x",
         "y": [
          0,
          0,
          0,
          0,
          0,
          0,
          0,
          0,
          0,
          0,
          0,
          0,
          0,
          0,
          0,
          0,
          0,
          0,
          0,
          2,
          2,
          2,
          4,
          4,
          4
         ],
         "yaxis": "y"
        },
        {
         "alignmentgroup": "True",
         "hoverlabel": {
          "namelength": 0
         },
         "hovertemplate": "Country=Nepal<br>Date=%{x}<br>Recovered=%{text}",
         "legendgroup": "Nepal",
         "marker": {
          "color": "#19d3f3"
         },
         "name": "Nepal",
         "offsetgroup": "Nepal",
         "orientation": "v",
         "showlegend": true,
         "text": [
          0,
          0,
          0,
          0,
          0,
          0,
          0,
          0,
          0,
          0,
          0,
          0,
          0,
          0,
          0,
          0,
          0,
          0,
          1,
          1,
          1,
          1,
          1,
          1
         ],
         "textposition": "auto",
         "type": "bar",
         "x": [
          "01/25/2020 22:00:00",
          "01/26/2020 23:00:00",
          "01/27/2020 20:30:00",
          "01/28/2020 23:00:00",
          "01/29/2020 21:00:00",
          "01/30/2020 21:30:00",
          "01/31/2020 19:00:00",
          "02/01/2020 23:00:00",
          "02/02/2020 21:00:00",
          "02/03/2020 21:40:00",
          "02/04/2020 22:00:00",
          "02/05/2020 12:20:00",
          "02/06/2020 20:05:00",
          "02/07/2020 20:24:00",
          "02/08/2020 23:04:00",
          "02/09/2020 23:20:00",
          "02/10/2020 19:30:00",
          "02/11/2020 20:44:00",
          "02/12/2020 22:00:00",
          "02/13/2020 21:15:00",
          "02/14/2020 22:00:00",
          "02/15/2020 22:00:00",
          "02/16/2020 22:00:00",
          "02/17/2020 22:00:00"
         ],
         "xaxis": "x",
         "y": [
          0,
          0,
          0,
          0,
          0,
          0,
          0,
          0,
          0,
          0,
          0,
          0,
          0,
          0,
          0,
          0,
          0,
          0,
          1,
          1,
          1,
          1,
          1,
          1
         ],
         "yaxis": "y"
        },
        {
         "alignmentgroup": "True",
         "hoverlabel": {
          "namelength": 0
         },
         "hovertemplate": "Country=Canada<br>Date=%{x}<br>Recovered=%{text}",
         "legendgroup": "Canada",
         "marker": {
          "color": "#FF6692"
         },
         "name": "Canada",
         "offsetgroup": "Canada",
         "orientation": "v",
         "showlegend": true,
         "text": [
          0,
          0,
          0,
          0,
          0,
          0,
          0,
          0,
          0,
          0,
          0,
          0,
          0,
          0,
          0,
          0,
          0,
          1,
          1,
          1,
          1,
          1,
          1
         ],
         "textposition": "auto",
         "type": "bar",
         "x": [
          "01/26/2020 23:00:00",
          "01/27/2020 20:30:00",
          "01/28/2020 23:00:00",
          "01/29/2020 21:00:00",
          "01/30/2020 21:30:00",
          "01/31/2020 19:00:00",
          "02/01/2020 23:00:00",
          "02/02/2020 21:00:00",
          "02/03/2020 21:40:00",
          "02/04/2020 22:00:00",
          "02/05/2020 12:20:00",
          "02/06/2020 20:05:00",
          "02/07/2020 20:24:00",
          "02/08/2020 23:04:00",
          "02/09/2020 23:20:00",
          "02/10/2020 19:30:00",
          "02/11/2020 20:44:00",
          "02/12/2020 22:00:00",
          "02/13/2020 21:15:00",
          "02/14/2020 22:00:00",
          "02/15/2020 22:00:00",
          "02/16/2020 22:00:00",
          "02/17/2020 22:00:00"
         ],
         "xaxis": "x",
         "y": [
          0,
          0,
          0,
          0,
          0,
          0,
          0,
          0,
          0,
          0,
          0,
          0,
          0,
          0,
          0,
          0,
          0,
          1,
          1,
          1,
          1,
          1,
          1
         ],
         "yaxis": "y"
        },
        {
         "alignmentgroup": "True",
         "hoverlabel": {
          "namelength": 0
         },
         "hovertemplate": "Country=Cambodia<br>Date=%{x}<br>Recovered=%{text}",
         "legendgroup": "Cambodia",
         "marker": {
          "color": "#B6E880"
         },
         "name": "Cambodia",
         "offsetgroup": "Cambodia",
         "orientation": "v",
         "showlegend": true,
         "text": [
          0,
          0,
          0,
          0,
          0,
          0,
          0,
          0,
          0,
          0,
          0,
          0,
          0,
          0,
          0,
          0,
          1,
          1,
          1,
          1,
          1,
          1
         ],
         "textposition": "auto",
         "type": "bar",
         "x": [
          "01/27/2020 20:30:00",
          "01/28/2020 23:00:00",
          "01/29/2020 21:00:00",
          "01/30/2020 21:30:00",
          "01/31/2020 19:00:00",
          "02/01/2020 23:00:00",
          "02/02/2020 21:00:00",
          "02/03/2020 21:40:00",
          "02/04/2020 22:00:00",
          "02/05/2020 12:20:00",
          "02/06/2020 20:05:00",
          "02/07/2020 20:24:00",
          "02/08/2020 23:04:00",
          "02/09/2020 23:20:00",
          "02/10/2020 19:30:00",
          "02/11/2020 20:44:00",
          "02/12/2020 22:00:00",
          "02/13/2020 21:15:00",
          "02/14/2020 22:00:00",
          "02/15/2020 22:00:00",
          "02/16/2020 22:00:00",
          "02/17/2020 22:00:00"
         ],
         "xaxis": "x",
         "y": [
          0,
          0,
          0,
          0,
          0,
          0,
          0,
          0,
          0,
          0,
          0,
          0,
          0,
          0,
          0,
          0,
          1,
          1,
          1,
          1,
          1,
          1
         ],
         "yaxis": "y"
        },
        {
         "alignmentgroup": "True",
         "hoverlabel": {
          "namelength": 0
         },
         "hovertemplate": "Country=Sri Lanka<br>Date=%{x}<br>Recovered=%{text}",
         "legendgroup": "Sri Lanka",
         "marker": {
          "color": "#FF97FF"
         },
         "name": "Sri Lanka",
         "offsetgroup": "Sri Lanka",
         "orientation": "v",
         "showlegend": true,
         "text": [
          0,
          0,
          0,
          0,
          0,
          0,
          0,
          0,
          0,
          0,
          0,
          0,
          1,
          1,
          1,
          1,
          1,
          1,
          1,
          1,
          1,
          1
         ],
         "textposition": "auto",
         "type": "bar",
         "x": [
          "01/27/2020 20:30:00",
          "01/28/2020 23:00:00",
          "01/29/2020 21:00:00",
          "01/30/2020 21:30:00",
          "01/31/2020 19:00:00",
          "02/01/2020 23:00:00",
          "02/02/2020 21:00:00",
          "02/03/2020 21:40:00",
          "02/04/2020 22:00:00",
          "02/05/2020 12:20:00",
          "02/06/2020 20:05:00",
          "02/07/2020 20:24:00",
          "02/08/2020 23:04:00",
          "02/09/2020 23:20:00",
          "02/10/2020 19:30:00",
          "02/11/2020 20:44:00",
          "02/12/2020 22:00:00",
          "02/13/2020 21:15:00",
          "02/14/2020 22:00:00",
          "02/15/2020 22:00:00",
          "02/16/2020 22:00:00",
          "02/17/2020 22:00:00"
         ],
         "xaxis": "x",
         "y": [
          0,
          0,
          0,
          0,
          0,
          0,
          0,
          0,
          0,
          0,
          0,
          0,
          1,
          1,
          1,
          1,
          1,
          1,
          1,
          1,
          1,
          1
         ],
         "yaxis": "y"
        },
        {
         "alignmentgroup": "True",
         "hoverlabel": {
          "namelength": 0
         },
         "hovertemplate": "Country=Ivory Coast<br>Date=%{x}<br>Recovered=%{text}",
         "legendgroup": "Ivory Coast",
         "marker": {
          "color": "#FECB52"
         },
         "name": "Ivory Coast",
         "offsetgroup": "Ivory Coast",
         "orientation": "v",
         "showlegend": true,
         "text": [
          0
         ],
         "textposition": "auto",
         "type": "bar",
         "x": [
          "01/27/2020 20:30:00"
         ],
         "xaxis": "x",
         "y": [
          0
         ],
         "yaxis": "y"
        },
        {
         "alignmentgroup": "True",
         "hoverlabel": {
          "namelength": 0
         },
         "hovertemplate": "Country=Germany<br>Date=%{x}<br>Recovered=%{text}",
         "legendgroup": "Germany",
         "marker": {
          "color": "#636efa"
         },
         "name": "Germany",
         "offsetgroup": "Germany",
         "orientation": "v",
         "showlegend": true,
         "text": [
          0,
          0,
          0,
          0,
          0,
          0,
          0,
          0,
          0,
          0,
          0,
          0,
          0,
          0,
          0,
          0,
          0,
          1,
          1,
          1,
          1,
          1
         ],
         "textposition": "auto",
         "type": "bar",
         "x": [
          "01/27/2020 20:30:00",
          "01/28/2020 23:00:00",
          "01/29/2020 21:00:00",
          "01/30/2020 21:30:00",
          "01/31/2020 19:00:00",
          "02/01/2020 23:00:00",
          "02/02/2020 21:00:00",
          "02/03/2020 21:40:00",
          "02/04/2020 22:00:00",
          "02/05/2020 12:20:00",
          "02/06/2020 20:05:00",
          "02/07/2020 20:24:00",
          "02/08/2020 23:04:00",
          "02/09/2020 23:20:00",
          "02/10/2020 19:30:00",
          "02/11/2020 20:44:00",
          "02/12/2020 22:00:00",
          "02/13/2020 21:15:00",
          "02/14/2020 22:00:00",
          "02/15/2020 22:00:00",
          "02/16/2020 22:00:00",
          "02/17/2020 22:00:00"
         ],
         "xaxis": "x",
         "y": [
          0,
          0,
          0,
          0,
          0,
          0,
          0,
          0,
          0,
          0,
          0,
          0,
          0,
          0,
          0,
          0,
          0,
          1,
          1,
          1,
          1,
          1
         ],
         "yaxis": "y"
        },
        {
         "alignmentgroup": "True",
         "hoverlabel": {
          "namelength": 0
         },
         "hovertemplate": "Country=Finland<br>Date=%{x}<br>Recovered=%{text}",
         "legendgroup": "Finland",
         "marker": {
          "color": "#EF553B"
         },
         "name": "Finland",
         "offsetgroup": "Finland",
         "orientation": "v",
         "showlegend": true,
         "text": [
          0,
          0,
          0,
          0,
          0,
          0,
          0,
          0,
          0,
          0,
          0,
          0,
          0,
          1,
          1,
          1,
          1,
          1,
          1,
          1
         ],
         "textposition": "auto",
         "type": "bar",
         "x": [
          "01/29/2020 21:00:00",
          "01/30/2020 21:30:00",
          "01/31/2020 19:00:00",
          "02/01/2020 23:00:00",
          "02/02/2020 21:00:00",
          "02/03/2020 21:40:00",
          "02/04/2020 22:00:00",
          "02/05/2020 12:20:00",
          "02/06/2020 20:05:00",
          "02/07/2020 20:24:00",
          "02/08/2020 23:04:00",
          "02/09/2020 23:20:00",
          "02/10/2020 19:30:00",
          "02/11/2020 20:44:00",
          "02/12/2020 22:00:00",
          "02/13/2020 21:15:00",
          "02/14/2020 22:00:00",
          "02/15/2020 22:00:00",
          "02/16/2020 22:00:00",
          "02/17/2020 22:00:00"
         ],
         "xaxis": "x",
         "y": [
          0,
          0,
          0,
          0,
          0,
          0,
          0,
          0,
          0,
          0,
          0,
          0,
          0,
          1,
          1,
          1,
          1,
          1,
          1,
          1
         ],
         "yaxis": "y"
        },
        {
         "alignmentgroup": "True",
         "hoverlabel": {
          "namelength": 0
         },
         "hovertemplate": "Country=United Arab Emirates<br>Date=%{x}<br>Recovered=%{text}",
         "legendgroup": "United Arab Emirates",
         "marker": {
          "color": "#00cc96"
         },
         "name": "United Arab Emirates",
         "offsetgroup": "United Arab Emirates",
         "orientation": "v",
         "showlegend": true,
         "text": [
          0,
          0,
          0,
          0,
          0,
          0,
          0,
          0,
          0,
          0,
          0,
          0,
          0,
          1,
          1,
          1,
          1,
          3,
          4,
          4
         ],
         "textposition": "auto",
         "type": "bar",
         "x": [
          "01/29/2020 21:00:00",
          "01/30/2020 21:30:00",
          "01/31/2020 19:00:00",
          "02/01/2020 23:00:00",
          "02/02/2020 21:00:00",
          "02/03/2020 21:40:00",
          "02/04/2020 22:00:00",
          "02/05/2020 12:20:00",
          "02/06/2020 20:05:00",
          "02/07/2020 20:24:00",
          "02/08/2020 23:04:00",
          "02/09/2020 23:20:00",
          "02/10/2020 19:30:00",
          "02/11/2020 20:44:00",
          "02/12/2020 22:00:00",
          "02/13/2020 21:15:00",
          "02/14/2020 22:00:00",
          "02/15/2020 22:00:00",
          "02/16/2020 22:00:00",
          "02/17/2020 22:00:00"
         ],
         "xaxis": "x",
         "y": [
          0,
          0,
          0,
          0,
          0,
          0,
          0,
          0,
          0,
          0,
          0,
          0,
          0,
          1,
          1,
          1,
          1,
          3,
          4,
          4
         ],
         "yaxis": "y"
        },
        {
         "alignmentgroup": "True",
         "hoverlabel": {
          "namelength": 0
         },
         "hovertemplate": "Country=India<br>Date=%{x}<br>Recovered=%{text}",
         "legendgroup": "India",
         "marker": {
          "color": "#ab63fa"
         },
         "name": "India",
         "offsetgroup": "India",
         "orientation": "v",
         "showlegend": true,
         "text": [
          0,
          0,
          0,
          0,
          0,
          0,
          0,
          0,
          0,
          0,
          0,
          0,
          0,
          0,
          0,
          0,
          0,
          3,
          3
         ],
         "textposition": "auto",
         "type": "bar",
         "x": [
          "01/30/2020 21:30:00",
          "01/31/2020 19:00:00",
          "02/01/2020 23:00:00",
          "02/02/2020 21:00:00",
          "02/03/2020 21:40:00",
          "02/04/2020 22:00:00",
          "02/05/2020 12:20:00",
          "02/06/2020 20:05:00",
          "02/07/2020 20:24:00",
          "02/08/2020 23:04:00",
          "02/09/2020 23:20:00",
          "02/10/2020 19:30:00",
          "02/11/2020 20:44:00",
          "02/12/2020 22:00:00",
          "02/13/2020 21:15:00",
          "02/14/2020 22:00:00",
          "02/15/2020 22:00:00",
          "02/16/2020 22:00:00",
          "02/17/2020 22:00:00"
         ],
         "xaxis": "x",
         "y": [
          0,
          0,
          0,
          0,
          0,
          0,
          0,
          0,
          0,
          0,
          0,
          0,
          0,
          0,
          0,
          0,
          0,
          3,
          3
         ],
         "yaxis": "y"
        },
        {
         "alignmentgroup": "True",
         "hoverlabel": {
          "namelength": 0
         },
         "hovertemplate": "Country=Italy<br>Date=%{x}<br>Recovered=%{text}",
         "legendgroup": "Italy",
         "marker": {
          "color": "#FFA15A"
         },
         "name": "Italy",
         "offsetgroup": "Italy",
         "orientation": "v",
         "showlegend": true,
         "text": [
          0,
          0,
          0,
          0,
          0,
          0,
          0,
          0,
          0,
          0,
          0,
          0,
          0,
          0,
          0,
          0,
          0,
          0,
          0
         ],
         "textposition": "auto",
         "type": "bar",
         "x": [
          "01/30/2020 21:30:00",
          "01/31/2020 19:00:00",
          "02/01/2020 23:00:00",
          "02/02/2020 21:00:00",
          "02/03/2020 21:40:00",
          "02/04/2020 22:00:00",
          "02/05/2020 12:20:00",
          "02/06/2020 20:05:00",
          "02/07/2020 20:24:00",
          "02/08/2020 23:04:00",
          "02/09/2020 23:20:00",
          "02/10/2020 19:30:00",
          "02/11/2020 20:44:00",
          "02/12/2020 22:00:00",
          "02/13/2020 21:15:00",
          "02/14/2020 22:00:00",
          "02/15/2020 22:00:00",
          "02/16/2020 22:00:00",
          "02/17/2020 22:00:00"
         ],
         "xaxis": "x",
         "y": [
          0,
          0,
          0,
          0,
          0,
          0,
          0,
          0,
          0,
          0,
          0,
          0,
          0,
          0,
          0,
          0,
          0,
          0,
          0
         ],
         "yaxis": "y"
        },
        {
         "alignmentgroup": "True",
         "hoverlabel": {
          "namelength": 0
         },
         "hovertemplate": "Country=Sweden<br>Date=%{x}<br>Recovered=%{text}",
         "legendgroup": "Sweden",
         "marker": {
          "color": "#19d3f3"
         },
         "name": "Sweden",
         "offsetgroup": "Sweden",
         "orientation": "v",
         "showlegend": true,
         "text": [
          0,
          0,
          0,
          0,
          0,
          0,
          0,
          0,
          0,
          0,
          0,
          0,
          0,
          0,
          0,
          0,
          0,
          0
         ],
         "textposition": "auto",
         "type": "bar",
         "x": [
          "01/31/2020 19:00:00",
          "02/01/2020 23:00:00",
          "02/02/2020 21:00:00",
          "02/03/2020 21:40:00",
          "02/04/2020 22:00:00",
          "02/05/2020 12:20:00",
          "02/06/2020 20:05:00",
          "02/07/2020 20:24:00",
          "02/08/2020 23:04:00",
          "02/09/2020 23:20:00",
          "02/10/2020 19:30:00",
          "02/11/2020 20:44:00",
          "02/12/2020 22:00:00",
          "02/13/2020 21:15:00",
          "02/14/2020 22:00:00",
          "02/15/2020 22:00:00",
          "02/16/2020 22:00:00",
          "02/17/2020 22:00:00"
         ],
         "xaxis": "x",
         "y": [
          0,
          0,
          0,
          0,
          0,
          0,
          0,
          0,
          0,
          0,
          0,
          0,
          0,
          0,
          0,
          0,
          0,
          0
         ],
         "yaxis": "y"
        },
        {
         "alignmentgroup": "True",
         "hoverlabel": {
          "namelength": 0
         },
         "hovertemplate": "Country=Spain<br>Date=%{x}<br>Recovered=%{text}",
         "legendgroup": "Spain",
         "marker": {
          "color": "#FF6692"
         },
         "name": "Spain",
         "offsetgroup": "Spain",
         "orientation": "v",
         "showlegend": true,
         "text": [
          0,
          0,
          0,
          0,
          0,
          0,
          0,
          0,
          0,
          0,
          0,
          0,
          0,
          0,
          0,
          2,
          2,
          2
         ],
         "textposition": "auto",
         "type": "bar",
         "x": [
          "01/31/2020 19:00:00",
          "02/01/2020 23:00:00",
          "02/02/2020 21:00:00",
          "02/03/2020 21:40:00",
          "02/04/2020 22:00:00",
          "02/05/2020 12:20:00",
          "02/06/2020 20:05:00",
          "02/07/2020 20:24:00",
          "02/08/2020 23:04:00",
          "02/09/2020 23:20:00",
          "02/10/2020 19:30:00",
          "02/11/2020 20:44:00",
          "02/12/2020 22:00:00",
          "02/13/2020 21:15:00",
          "02/14/2020 22:00:00",
          "02/15/2020 22:00:00",
          "02/16/2020 22:00:00",
          "02/17/2020 22:00:00"
         ],
         "xaxis": "x",
         "y": [
          0,
          0,
          0,
          0,
          0,
          0,
          0,
          0,
          0,
          0,
          0,
          0,
          0,
          0,
          0,
          2,
          2,
          2
         ],
         "yaxis": "y"
        },
        {
         "alignmentgroup": "True",
         "hoverlabel": {
          "namelength": 0
         },
         "hovertemplate": "Country=UK<br>Date=%{x}<br>Recovered=%{text}",
         "legendgroup": "UK",
         "marker": {
          "color": "#B6E880"
         },
         "name": "UK",
         "offsetgroup": "UK",
         "orientation": "v",
         "showlegend": true,
         "text": [
          0,
          0,
          0,
          0,
          0,
          0,
          0,
          0,
          0,
          0,
          0,
          0,
          1,
          1,
          1,
          1,
          8,
          8
         ],
         "textposition": "auto",
         "type": "bar",
         "x": [
          "01/31/2020 19:00:00",
          "02/01/2020 23:00:00",
          "02/02/2020 21:00:00",
          "02/03/2020 21:40:00",
          "02/04/2020 22:00:00",
          "02/05/2020 12:20:00",
          "02/06/2020 20:05:00",
          "02/07/2020 20:24:00",
          "02/08/2020 23:04:00",
          "02/09/2020 23:20:00",
          "02/10/2020 19:30:00",
          "02/11/2020 20:44:00",
          "02/12/2020 22:00:00",
          "02/13/2020 21:15:00",
          "02/14/2020 22:00:00",
          "02/15/2020 22:00:00",
          "02/16/2020 22:00:00",
          "02/17/2020 22:00:00"
         ],
         "xaxis": "x",
         "y": [
          0,
          0,
          0,
          0,
          0,
          0,
          0,
          0,
          0,
          0,
          0,
          0,
          1,
          1,
          1,
          1,
          8,
          8
         ],
         "yaxis": "y"
        },
        {
         "alignmentgroup": "True",
         "hoverlabel": {
          "namelength": 0
         },
         "hovertemplate": "Country=Russia<br>Date=%{x}<br>Recovered=%{text}",
         "legendgroup": "Russia",
         "marker": {
          "color": "#FF97FF"
         },
         "name": "Russia",
         "offsetgroup": "Russia",
         "orientation": "v",
         "showlegend": true,
         "text": [
          0,
          0,
          0,
          0,
          0,
          0,
          0,
          0,
          0,
          0,
          0,
          0,
          2,
          2,
          2,
          2,
          2,
          2
         ],
         "textposition": "auto",
         "type": "bar",
         "x": [
          "01/31/2020 19:00:00",
          "02/01/2020 23:00:00",
          "02/02/2020 21:00:00",
          "02/03/2020 21:40:00",
          "02/04/2020 22:00:00",
          "02/05/2020 12:20:00",
          "02/06/2020 20:05:00",
          "02/07/2020 20:24:00",
          "02/08/2020 23:04:00",
          "02/09/2020 23:20:00",
          "02/10/2020 19:30:00",
          "02/11/2020 20:44:00",
          "02/12/2020 22:00:00",
          "02/13/2020 21:15:00",
          "02/14/2020 22:00:00",
          "02/15/2020 22:00:00",
          "02/16/2020 22:00:00",
          "02/17/2020 22:00:00"
         ],
         "xaxis": "x",
         "y": [
          0,
          0,
          0,
          0,
          0,
          0,
          0,
          0,
          0,
          0,
          0,
          0,
          2,
          2,
          2,
          2,
          2,
          2
         ],
         "yaxis": "y"
        },
        {
         "alignmentgroup": "True",
         "hoverlabel": {
          "namelength": 0
         },
         "hovertemplate": "Country=Belgium<br>Date=%{x}<br>Recovered=%{text}",
         "legendgroup": "Belgium",
         "marker": {
          "color": "#FECB52"
         },
         "name": "Belgium",
         "offsetgroup": "Belgium",
         "orientation": "v",
         "showlegend": true,
         "text": [
          0,
          0,
          0,
          0,
          0,
          0,
          0,
          0,
          0,
          0,
          0,
          0,
          0,
          1
         ],
         "textposition": "auto",
         "type": "bar",
         "x": [
          "02/04/2020 22:00:00",
          "02/05/2020 12:20:00",
          "02/06/2020 20:05:00",
          "02/07/2020 20:24:00",
          "02/08/2020 23:04:00",
          "02/09/2020 23:20:00",
          "02/10/2020 19:30:00",
          "02/11/2020 20:44:00",
          "02/12/2020 22:00:00",
          "02/13/2020 21:15:00",
          "02/14/2020 22:00:00",
          "02/15/2020 22:00:00",
          "02/16/2020 22:00:00",
          "02/17/2020 22:00:00"
         ],
         "xaxis": "x",
         "y": [
          0,
          0,
          0,
          0,
          0,
          0,
          0,
          0,
          0,
          0,
          0,
          0,
          0,
          1
         ],
         "yaxis": "y"
        },
        {
         "alignmentgroup": "True",
         "hoverlabel": {
          "namelength": 0
         },
         "hovertemplate": "Country=Others<br>Date=%{x}<br>Recovered=%{text}",
         "legendgroup": "Others",
         "marker": {
          "color": "#636efa"
         },
         "name": "Others",
         "offsetgroup": "Others",
         "orientation": "v",
         "showlegend": true,
         "text": [
          0,
          0,
          0,
          0,
          0,
          0,
          0,
          0,
          0,
          0,
          0
         ],
         "textposition": "auto",
         "type": "bar",
         "x": [
          "02/07/2020 20:24:00",
          "02/08/2020 23:04:00",
          "02/09/2020 23:20:00",
          "02/10/2020 19:30:00",
          "02/11/2020 20:44:00",
          "02/12/2020 22:00:00",
          "02/13/2020 21:15:00",
          "02/14/2020 22:00:00",
          "02/15/2020 22:00:00",
          "02/16/2020 22:00:00",
          "02/17/2020 22:00:00"
         ],
         "xaxis": "x",
         "y": [
          0,
          0,
          0,
          0,
          0,
          0,
          0,
          0,
          0,
          0,
          0
         ],
         "yaxis": "y"
        },
        {
         "alignmentgroup": "True",
         "hoverlabel": {
          "namelength": 0
         },
         "hovertemplate": "Country=Egypt<br>Date=%{x}<br>Recovered=%{text}",
         "legendgroup": "Egypt",
         "marker": {
          "color": "#EF553B"
         },
         "name": "Egypt",
         "offsetgroup": "Egypt",
         "orientation": "v",
         "showlegend": true,
         "text": [
          0,
          0,
          0,
          0
         ],
         "textposition": "auto",
         "type": "bar",
         "x": [
          "02/14/2020 22:00:00",
          "02/15/2020 22:00:00",
          "02/16/2020 22:00:00",
          "02/17/2020 22:00:00"
         ],
         "xaxis": "x",
         "y": [
          0,
          0,
          0,
          0
         ],
         "yaxis": "y"
        }
       ],
       "layout": {
        "barmode": "relative",
        "height": 600,
        "legend": {
         "title": {
          "text": "Country"
         },
         "tracegroupgap": 0
        },
        "template": {
         "data": {
          "bar": [
           {
            "error_x": {
             "color": "#2a3f5f"
            },
            "error_y": {
             "color": "#2a3f5f"
            },
            "marker": {
             "line": {
              "color": "#E5ECF6",
              "width": 0.5
             }
            },
            "type": "bar"
           }
          ],
          "barpolar": [
           {
            "marker": {
             "line": {
              "color": "#E5ECF6",
              "width": 0.5
             }
            },
            "type": "barpolar"
           }
          ],
          "carpet": [
           {
            "aaxis": {
             "endlinecolor": "#2a3f5f",
             "gridcolor": "white",
             "linecolor": "white",
             "minorgridcolor": "white",
             "startlinecolor": "#2a3f5f"
            },
            "baxis": {
             "endlinecolor": "#2a3f5f",
             "gridcolor": "white",
             "linecolor": "white",
             "minorgridcolor": "white",
             "startlinecolor": "#2a3f5f"
            },
            "type": "carpet"
           }
          ],
          "choropleth": [
           {
            "colorbar": {
             "outlinewidth": 0,
             "ticks": ""
            },
            "type": "choropleth"
           }
          ],
          "contour": [
           {
            "colorbar": {
             "outlinewidth": 0,
             "ticks": ""
            },
            "colorscale": [
             [
              0,
              "#0d0887"
             ],
             [
              0.1111111111111111,
              "#46039f"
             ],
             [
              0.2222222222222222,
              "#7201a8"
             ],
             [
              0.3333333333333333,
              "#9c179e"
             ],
             [
              0.4444444444444444,
              "#bd3786"
             ],
             [
              0.5555555555555556,
              "#d8576b"
             ],
             [
              0.6666666666666666,
              "#ed7953"
             ],
             [
              0.7777777777777778,
              "#fb9f3a"
             ],
             [
              0.8888888888888888,
              "#fdca26"
             ],
             [
              1,
              "#f0f921"
             ]
            ],
            "type": "contour"
           }
          ],
          "contourcarpet": [
           {
            "colorbar": {
             "outlinewidth": 0,
             "ticks": ""
            },
            "type": "contourcarpet"
           }
          ],
          "heatmap": [
           {
            "colorbar": {
             "outlinewidth": 0,
             "ticks": ""
            },
            "colorscale": [
             [
              0,
              "#0d0887"
             ],
             [
              0.1111111111111111,
              "#46039f"
             ],
             [
              0.2222222222222222,
              "#7201a8"
             ],
             [
              0.3333333333333333,
              "#9c179e"
             ],
             [
              0.4444444444444444,
              "#bd3786"
             ],
             [
              0.5555555555555556,
              "#d8576b"
             ],
             [
              0.6666666666666666,
              "#ed7953"
             ],
             [
              0.7777777777777778,
              "#fb9f3a"
             ],
             [
              0.8888888888888888,
              "#fdca26"
             ],
             [
              1,
              "#f0f921"
             ]
            ],
            "type": "heatmap"
           }
          ],
          "heatmapgl": [
           {
            "colorbar": {
             "outlinewidth": 0,
             "ticks": ""
            },
            "colorscale": [
             [
              0,
              "#0d0887"
             ],
             [
              0.1111111111111111,
              "#46039f"
             ],
             [
              0.2222222222222222,
              "#7201a8"
             ],
             [
              0.3333333333333333,
              "#9c179e"
             ],
             [
              0.4444444444444444,
              "#bd3786"
             ],
             [
              0.5555555555555556,
              "#d8576b"
             ],
             [
              0.6666666666666666,
              "#ed7953"
             ],
             [
              0.7777777777777778,
              "#fb9f3a"
             ],
             [
              0.8888888888888888,
              "#fdca26"
             ],
             [
              1,
              "#f0f921"
             ]
            ],
            "type": "heatmapgl"
           }
          ],
          "histogram": [
           {
            "marker": {
             "colorbar": {
              "outlinewidth": 0,
              "ticks": ""
             }
            },
            "type": "histogram"
           }
          ],
          "histogram2d": [
           {
            "colorbar": {
             "outlinewidth": 0,
             "ticks": ""
            },
            "colorscale": [
             [
              0,
              "#0d0887"
             ],
             [
              0.1111111111111111,
              "#46039f"
             ],
             [
              0.2222222222222222,
              "#7201a8"
             ],
             [
              0.3333333333333333,
              "#9c179e"
             ],
             [
              0.4444444444444444,
              "#bd3786"
             ],
             [
              0.5555555555555556,
              "#d8576b"
             ],
             [
              0.6666666666666666,
              "#ed7953"
             ],
             [
              0.7777777777777778,
              "#fb9f3a"
             ],
             [
              0.8888888888888888,
              "#fdca26"
             ],
             [
              1,
              "#f0f921"
             ]
            ],
            "type": "histogram2d"
           }
          ],
          "histogram2dcontour": [
           {
            "colorbar": {
             "outlinewidth": 0,
             "ticks": ""
            },
            "colorscale": [
             [
              0,
              "#0d0887"
             ],
             [
              0.1111111111111111,
              "#46039f"
             ],
             [
              0.2222222222222222,
              "#7201a8"
             ],
             [
              0.3333333333333333,
              "#9c179e"
             ],
             [
              0.4444444444444444,
              "#bd3786"
             ],
             [
              0.5555555555555556,
              "#d8576b"
             ],
             [
              0.6666666666666666,
              "#ed7953"
             ],
             [
              0.7777777777777778,
              "#fb9f3a"
             ],
             [
              0.8888888888888888,
              "#fdca26"
             ],
             [
              1,
              "#f0f921"
             ]
            ],
            "type": "histogram2dcontour"
           }
          ],
          "mesh3d": [
           {
            "colorbar": {
             "outlinewidth": 0,
             "ticks": ""
            },
            "type": "mesh3d"
           }
          ],
          "parcoords": [
           {
            "line": {
             "colorbar": {
              "outlinewidth": 0,
              "ticks": ""
             }
            },
            "type": "parcoords"
           }
          ],
          "pie": [
           {
            "automargin": true,
            "type": "pie"
           }
          ],
          "scatter": [
           {
            "marker": {
             "colorbar": {
              "outlinewidth": 0,
              "ticks": ""
             }
            },
            "type": "scatter"
           }
          ],
          "scatter3d": [
           {
            "line": {
             "colorbar": {
              "outlinewidth": 0,
              "ticks": ""
             }
            },
            "marker": {
             "colorbar": {
              "outlinewidth": 0,
              "ticks": ""
             }
            },
            "type": "scatter3d"
           }
          ],
          "scattercarpet": [
           {
            "marker": {
             "colorbar": {
              "outlinewidth": 0,
              "ticks": ""
             }
            },
            "type": "scattercarpet"
           }
          ],
          "scattergeo": [
           {
            "marker": {
             "colorbar": {
              "outlinewidth": 0,
              "ticks": ""
             }
            },
            "type": "scattergeo"
           }
          ],
          "scattergl": [
           {
            "marker": {
             "colorbar": {
              "outlinewidth": 0,
              "ticks": ""
             }
            },
            "type": "scattergl"
           }
          ],
          "scattermapbox": [
           {
            "marker": {
             "colorbar": {
              "outlinewidth": 0,
              "ticks": ""
             }
            },
            "type": "scattermapbox"
           }
          ],
          "scatterpolar": [
           {
            "marker": {
             "colorbar": {
              "outlinewidth": 0,
              "ticks": ""
             }
            },
            "type": "scatterpolar"
           }
          ],
          "scatterpolargl": [
           {
            "marker": {
             "colorbar": {
              "outlinewidth": 0,
              "ticks": ""
             }
            },
            "type": "scatterpolargl"
           }
          ],
          "scatterternary": [
           {
            "marker": {
             "colorbar": {
              "outlinewidth": 0,
              "ticks": ""
             }
            },
            "type": "scatterternary"
           }
          ],
          "surface": [
           {
            "colorbar": {
             "outlinewidth": 0,
             "ticks": ""
            },
            "colorscale": [
             [
              0,
              "#0d0887"
             ],
             [
              0.1111111111111111,
              "#46039f"
             ],
             [
              0.2222222222222222,
              "#7201a8"
             ],
             [
              0.3333333333333333,
              "#9c179e"
             ],
             [
              0.4444444444444444,
              "#bd3786"
             ],
             [
              0.5555555555555556,
              "#d8576b"
             ],
             [
              0.6666666666666666,
              "#ed7953"
             ],
             [
              0.7777777777777778,
              "#fb9f3a"
             ],
             [
              0.8888888888888888,
              "#fdca26"
             ],
             [
              1,
              "#f0f921"
             ]
            ],
            "type": "surface"
           }
          ],
          "table": [
           {
            "cells": {
             "fill": {
              "color": "#EBF0F8"
             },
             "line": {
              "color": "white"
             }
            },
            "header": {
             "fill": {
              "color": "#C8D4E3"
             },
             "line": {
              "color": "white"
             }
            },
            "type": "table"
           }
          ]
         },
         "layout": {
          "annotationdefaults": {
           "arrowcolor": "#2a3f5f",
           "arrowhead": 0,
           "arrowwidth": 1
          },
          "coloraxis": {
           "colorbar": {
            "outlinewidth": 0,
            "ticks": ""
           }
          },
          "colorscale": {
           "diverging": [
            [
             0,
             "#8e0152"
            ],
            [
             0.1,
             "#c51b7d"
            ],
            [
             0.2,
             "#de77ae"
            ],
            [
             0.3,
             "#f1b6da"
            ],
            [
             0.4,
             "#fde0ef"
            ],
            [
             0.5,
             "#f7f7f7"
            ],
            [
             0.6,
             "#e6f5d0"
            ],
            [
             0.7,
             "#b8e186"
            ],
            [
             0.8,
             "#7fbc41"
            ],
            [
             0.9,
             "#4d9221"
            ],
            [
             1,
             "#276419"
            ]
           ],
           "sequential": [
            [
             0,
             "#0d0887"
            ],
            [
             0.1111111111111111,
             "#46039f"
            ],
            [
             0.2222222222222222,
             "#7201a8"
            ],
            [
             0.3333333333333333,
             "#9c179e"
            ],
            [
             0.4444444444444444,
             "#bd3786"
            ],
            [
             0.5555555555555556,
             "#d8576b"
            ],
            [
             0.6666666666666666,
             "#ed7953"
            ],
            [
             0.7777777777777778,
             "#fb9f3a"
            ],
            [
             0.8888888888888888,
             "#fdca26"
            ],
            [
             1,
             "#f0f921"
            ]
           ],
           "sequentialminus": [
            [
             0,
             "#0d0887"
            ],
            [
             0.1111111111111111,
             "#46039f"
            ],
            [
             0.2222222222222222,
             "#7201a8"
            ],
            [
             0.3333333333333333,
             "#9c179e"
            ],
            [
             0.4444444444444444,
             "#bd3786"
            ],
            [
             0.5555555555555556,
             "#d8576b"
            ],
            [
             0.6666666666666666,
             "#ed7953"
            ],
            [
             0.7777777777777778,
             "#fb9f3a"
            ],
            [
             0.8888888888888888,
             "#fdca26"
            ],
            [
             1,
             "#f0f921"
            ]
           ]
          },
          "colorway": [
           "#636efa",
           "#EF553B",
           "#00cc96",
           "#ab63fa",
           "#FFA15A",
           "#19d3f3",
           "#FF6692",
           "#B6E880",
           "#FF97FF",
           "#FECB52"
          ],
          "font": {
           "color": "#2a3f5f"
          },
          "geo": {
           "bgcolor": "white",
           "lakecolor": "white",
           "landcolor": "#E5ECF6",
           "showlakes": true,
           "showland": true,
           "subunitcolor": "white"
          },
          "hoverlabel": {
           "align": "left"
          },
          "hovermode": "closest",
          "mapbox": {
           "style": "light"
          },
          "paper_bgcolor": "white",
          "plot_bgcolor": "#E5ECF6",
          "polar": {
           "angularaxis": {
            "gridcolor": "white",
            "linecolor": "white",
            "ticks": ""
           },
           "bgcolor": "#E5ECF6",
           "radialaxis": {
            "gridcolor": "white",
            "linecolor": "white",
            "ticks": ""
           }
          },
          "scene": {
           "xaxis": {
            "backgroundcolor": "#E5ECF6",
            "gridcolor": "white",
            "gridwidth": 2,
            "linecolor": "white",
            "showbackground": true,
            "ticks": "",
            "zerolinecolor": "white"
           },
           "yaxis": {
            "backgroundcolor": "#E5ECF6",
            "gridcolor": "white",
            "gridwidth": 2,
            "linecolor": "white",
            "showbackground": true,
            "ticks": "",
            "zerolinecolor": "white"
           },
           "zaxis": {
            "backgroundcolor": "#E5ECF6",
            "gridcolor": "white",
            "gridwidth": 2,
            "linecolor": "white",
            "showbackground": true,
            "ticks": "",
            "zerolinecolor": "white"
           }
          },
          "shapedefaults": {
           "line": {
            "color": "#2a3f5f"
           }
          },
          "ternary": {
           "aaxis": {
            "gridcolor": "white",
            "linecolor": "white",
            "ticks": ""
           },
           "baxis": {
            "gridcolor": "white",
            "linecolor": "white",
            "ticks": ""
           },
           "bgcolor": "#E5ECF6",
           "caxis": {
            "gridcolor": "white",
            "linecolor": "white",
            "ticks": ""
           }
          },
          "title": {
           "x": 0.05
          },
          "xaxis": {
           "automargin": true,
           "gridcolor": "white",
           "linecolor": "white",
           "ticks": "",
           "title": {
            "standoff": 15
           },
           "zerolinecolor": "white",
           "zerolinewidth": 2
          },
          "yaxis": {
           "automargin": true,
           "gridcolor": "white",
           "linecolor": "white",
           "ticks": "",
           "title": {
            "standoff": 15
           },
           "zerolinecolor": "white",
           "zerolinewidth": 2
          }
         }
        },
        "title": {
         "text": "Recovered"
        },
        "xaxis": {
         "anchor": "y",
         "domain": [
          0,
          1
         ],
         "title": {
          "text": "Date"
         }
        },
        "yaxis": {
         "anchor": "x",
         "domain": [
          0,
          1
         ],
         "title": {
          "text": "Recovered"
         }
        }
       }
      },
      "text/html": [
       "<div>\n",
       "        \n",
       "        \n",
       "            <div id=\"c957927b-9080-4bd9-8b93-a6a21317ca1b\" class=\"plotly-graph-div\" style=\"height:600px; width:100%;\"></div>\n",
       "            <script type=\"text/javascript\">\n",
       "                require([\"plotly\"], function(Plotly) {\n",
       "                    window.PLOTLYENV=window.PLOTLYENV || {};\n",
       "                    \n",
       "                if (document.getElementById(\"c957927b-9080-4bd9-8b93-a6a21317ca1b\")) {\n",
       "                    Plotly.newPlot(\n",
       "                        'c957927b-9080-4bd9-8b93-a6a21317ca1b',\n",
       "                        [{\"alignmentgroup\": \"True\", \"hoverlabel\": {\"namelength\": 0}, \"hovertemplate\": \"Country=Japan<br>Date=%{x}<br>Recovered=%{text}\", \"legendgroup\": \"Japan\", \"marker\": {\"color\": \"#636efa\"}, \"name\": \"Japan\", \"offsetgroup\": \"Japan\", \"orientation\": \"v\", \"showlegend\": true, \"text\": [0.0, 0.0, 0.0, 0.0, 1.0, 1.0, 1.0, 1.0, 1.0, 1.0, 1.0, 1.0, 1.0, 1.0, 1.0, 1.0, 1.0, 1.0, 1.0, 4.0, 9.0, 9.0, 9.0, 9.0, 12.0, 12.0, 12.0], \"textposition\": \"auto\", \"type\": \"bar\", \"x\": [\"01/22/2020 12:00:00\", \"01/23/2020 12:00:00\", \"01/24/2020 12:00:00\", \"01/25/2020 22:00:00\", \"01/26/2020 23:00:00\", \"01/27/2020 20:30:00\", \"01/28/2020 23:00:00\", \"01/29/2020 21:00:00\", \"01/30/2020 21:30:00\", \"01/31/2020 19:00:00\", \"02/01/2020 23:00:00\", \"02/02/2020 21:00:00\", \"02/03/2020 21:40:00\", \"02/04/2020 22:00:00\", \"02/05/2020 12:20:00\", \"02/06/2020 20:05:00\", \"02/07/2020 20:24:00\", \"02/08/2020 23:04:00\", \"02/09/2020 23:20:00\", \"02/10/2020 19:30:00\", \"02/11/2020 20:44:00\", \"02/12/2020 22:00:00\", \"02/13/2020 21:15:00\", \"02/14/2020 22:00:00\", \"02/15/2020 22:00:00\", \"02/16/2020 22:00:00\", \"02/17/2020 22:00:00\"], \"xaxis\": \"x\", \"y\": [0.0, 0.0, 0.0, 0.0, 1.0, 1.0, 1.0, 1.0, 1.0, 1.0, 1.0, 1.0, 1.0, 1.0, 1.0, 1.0, 1.0, 1.0, 1.0, 4.0, 9.0, 9.0, 9.0, 9.0, 12.0, 12.0, 12.0], \"yaxis\": \"y\"}, {\"alignmentgroup\": \"True\", \"hoverlabel\": {\"namelength\": 0}, \"hovertemplate\": \"Country=US<br>Date=%{x}<br>Recovered=%{text}\", \"legendgroup\": \"US\", \"marker\": {\"color\": \"#EF553B\"}, \"name\": \"US\", \"offsetgroup\": \"US\", \"orientation\": \"v\", \"showlegend\": true, \"text\": [0.0, 0.0, 0.0, 0.0, 0.0, 0.0, 0.0, 0.0, 0.0, 0.0, 0.0, 0.0, 0.0, 0.0, 0.0, 0.0, 0.0, 0.0, 3.0, 3.0, 3.0, 3.0, 3.0, 3.0, 3.0, 3.0, 3.0], \"textposition\": \"auto\", \"type\": \"bar\", \"x\": [\"01/22/2020 12:00:00\", \"01/23/2020 12:00:00\", \"01/24/2020 12:00:00\", \"01/25/2020 22:00:00\", \"01/26/2020 23:00:00\", \"01/27/2020 20:30:00\", \"01/28/2020 23:00:00\", \"01/29/2020 21:00:00\", \"01/30/2020 21:30:00\", \"01/31/2020 19:00:00\", \"02/01/2020 23:00:00\", \"02/02/2020 21:00:00\", \"02/03/2020 21:40:00\", \"02/04/2020 22:00:00\", \"02/05/2020 12:20:00\", \"02/06/2020 20:05:00\", \"02/07/2020 20:24:00\", \"02/08/2020 23:04:00\", \"02/09/2020 23:20:00\", \"02/10/2020 19:30:00\", \"02/11/2020 20:44:00\", \"02/12/2020 22:00:00\", \"02/13/2020 21:15:00\", \"02/14/2020 22:00:00\", \"02/15/2020 22:00:00\", \"02/16/2020 22:00:00\", \"02/17/2020 22:00:00\"], \"xaxis\": \"x\", \"y\": [0.0, 0.0, 0.0, 0.0, 0.0, 0.0, 0.0, 0.0, 0.0, 0.0, 0.0, 0.0, 0.0, 0.0, 0.0, 0.0, 0.0, 0.0, 3.0, 3.0, 3.0, 3.0, 3.0, 3.0, 3.0, 3.0, 3.0], \"yaxis\": \"y\"}, {\"alignmentgroup\": \"True\", \"hoverlabel\": {\"namelength\": 0}, \"hovertemplate\": \"Country=South Korea<br>Date=%{x}<br>Recovered=%{text}\", \"legendgroup\": \"South Korea\", \"marker\": {\"color\": \"#00cc96\"}, \"name\": \"South Korea\", \"offsetgroup\": \"South Korea\", \"orientation\": \"v\", \"showlegend\": true, \"text\": [0.0, 0.0, 0.0, 0.0, 0.0, 0.0, 0.0, 0.0, 0.0, 0.0, 0.0, 0.0, 0.0, 0.0, 0.0, 0.0, 1.0, 3.0, 3.0, 3.0, 4.0, 7.0, 7.0, 7.0, 9.0, 9.0, 10.0], \"textposition\": \"auto\", \"type\": \"bar\", \"x\": [\"01/22/2020 12:00:00\", \"01/23/2020 12:00:00\", \"01/24/2020 12:00:00\", \"01/25/2020 22:00:00\", \"01/26/2020 23:00:00\", \"01/27/2020 20:30:00\", \"01/28/2020 23:00:00\", \"01/29/2020 21:00:00\", \"01/30/2020 21:30:00\", \"01/31/2020 19:00:00\", \"02/01/2020 23:00:00\", \"02/02/2020 21:00:00\", \"02/03/2020 21:40:00\", \"02/04/2020 22:00:00\", \"02/05/2020 12:20:00\", \"02/06/2020 20:05:00\", \"02/07/2020 20:24:00\", \"02/08/2020 23:04:00\", \"02/09/2020 23:20:00\", \"02/10/2020 19:30:00\", \"02/11/2020 20:44:00\", \"02/12/2020 22:00:00\", \"02/13/2020 21:15:00\", \"02/14/2020 22:00:00\", \"02/15/2020 22:00:00\", \"02/16/2020 22:00:00\", \"02/17/2020 22:00:00\"], \"xaxis\": \"x\", \"y\": [0.0, 0.0, 0.0, 0.0, 0.0, 0.0, 0.0, 0.0, 0.0, 0.0, 0.0, 0.0, 0.0, 0.0, 0.0, 0.0, 1.0, 3.0, 3.0, 3.0, 4.0, 7.0, 7.0, 7.0, 9.0, 9.0, 10.0], \"yaxis\": \"y\"}, {\"alignmentgroup\": \"True\", \"hoverlabel\": {\"namelength\": 0}, \"hovertemplate\": \"Country=Thailand<br>Date=%{x}<br>Recovered=%{text}\", \"legendgroup\": \"Thailand\", \"marker\": {\"color\": \"#ab63fa\"}, \"name\": \"Thailand\", \"offsetgroup\": \"Thailand\", \"orientation\": \"v\", \"showlegend\": true, \"text\": [0.0, 0.0, 0.0, 0.0, 2.0, 2.0, 5.0, 5.0, 5.0, 7.0, 5.0, 5.0, 5.0, 5.0, 5.0, 5.0, 5.0, 10.0, 10.0, 10.0, 10.0, 10.0, 12.0, 12.0, 12.0, 14.0, 15.0], \"textposition\": \"auto\", \"type\": \"bar\", \"x\": [\"01/22/2020 12:00:00\", \"01/23/2020 12:00:00\", \"01/24/2020 12:00:00\", \"01/25/2020 22:00:00\", \"01/26/2020 23:00:00\", \"01/27/2020 20:30:00\", \"01/28/2020 23:00:00\", \"01/29/2020 21:00:00\", \"01/30/2020 21:30:00\", \"01/31/2020 19:00:00\", \"02/01/2020 23:00:00\", \"02/02/2020 21:00:00\", \"02/03/2020 21:40:00\", \"02/04/2020 22:00:00\", \"02/05/2020 12:20:00\", \"02/06/2020 20:05:00\", \"02/07/2020 20:24:00\", \"02/08/2020 23:04:00\", \"02/09/2020 23:20:00\", \"02/10/2020 19:30:00\", \"02/11/2020 20:44:00\", \"02/12/2020 22:00:00\", \"02/13/2020 21:15:00\", \"02/14/2020 22:00:00\", \"02/15/2020 22:00:00\", \"02/16/2020 22:00:00\", \"02/17/2020 22:00:00\"], \"xaxis\": \"x\", \"y\": [0.0, 0.0, 0.0, 0.0, 2.0, 2.0, 5.0, 5.0, 5.0, 7.0, 5.0, 5.0, 5.0, 5.0, 5.0, 5.0, 5.0, 10.0, 10.0, 10.0, 10.0, 10.0, 12.0, 12.0, 12.0, 14.0, 15.0], \"yaxis\": \"y\"}, {\"alignmentgroup\": \"True\", \"hoverlabel\": {\"namelength\": 0}, \"hovertemplate\": \"Country=Hong Kong<br>Date=%{x}<br>Recovered=%{text}\", \"legendgroup\": \"Hong Kong\", \"marker\": {\"color\": \"#FFA15A\"}, \"name\": \"Hong Kong\", \"offsetgroup\": \"Hong Kong\", \"orientation\": \"v\", \"showlegend\": true, \"text\": [0.0, 0.0, 0.0, 0.0, 0.0, 0.0, 0.0, 0.0, 0.0, 0.0, 0.0, 0.0, 0.0, 0.0, 0.0, 0.0, 0.0, 0.0, 0.0, 0.0, 1.0, 1.0, 1.0, 1.0, 2.0, 2.0], \"textposition\": \"auto\", \"type\": \"bar\", \"x\": [\"01/23/2020 12:00:00\", \"01/24/2020 12:00:00\", \"01/25/2020 22:00:00\", \"01/26/2020 23:00:00\", \"01/27/2020 20:30:00\", \"01/28/2020 23:00:00\", \"01/29/2020 21:00:00\", \"01/30/2020 21:30:00\", \"01/31/2020 19:00:00\", \"02/01/2020 23:00:00\", \"02/02/2020 21:00:00\", \"02/03/2020 21:40:00\", \"02/04/2020 22:00:00\", \"02/05/2020 12:20:00\", \"02/06/2020 20:05:00\", \"02/07/2020 20:24:00\", \"02/08/2020 23:04:00\", \"02/09/2020 23:20:00\", \"02/10/2020 19:30:00\", \"02/11/2020 20:44:00\", \"02/12/2020 22:00:00\", \"02/13/2020 21:15:00\", \"02/14/2020 22:00:00\", \"02/15/2020 22:00:00\", \"02/16/2020 22:00:00\", \"02/17/2020 22:00:00\"], \"xaxis\": \"x\", \"y\": [0.0, 0.0, 0.0, 0.0, 0.0, 0.0, 0.0, 0.0, 0.0, 0.0, 0.0, 0.0, 0.0, 0.0, 0.0, 0.0, 0.0, 0.0, 0.0, 0.0, 1.0, 1.0, 1.0, 1.0, 2.0, 2.0], \"yaxis\": \"y\"}, {\"alignmentgroup\": \"True\", \"hoverlabel\": {\"namelength\": 0}, \"hovertemplate\": \"Country=Taiwan<br>Date=%{x}<br>Recovered=%{text}\", \"legendgroup\": \"Taiwan\", \"marker\": {\"color\": \"#19d3f3\"}, \"name\": \"Taiwan\", \"offsetgroup\": \"Taiwan\", \"orientation\": \"v\", \"showlegend\": true, \"text\": [0.0, 0.0, 0.0, 0.0, 0.0, 0.0, 0.0, 0.0, 0.0, 0.0, 0.0, 0.0, 0.0, 0.0, 1.0, 1.0, 1.0, 1.0, 1.0, 1.0, 1.0, 1.0, 2.0, 2.0, 2.0, 2.0], \"textposition\": \"auto\", \"type\": \"bar\", \"x\": [\"01/23/2020 12:00:00\", \"01/24/2020 12:00:00\", \"01/25/2020 22:00:00\", \"01/26/2020 23:00:00\", \"01/27/2020 20:30:00\", \"01/28/2020 23:00:00\", \"01/29/2020 21:00:00\", \"01/30/2020 21:30:00\", \"01/31/2020 19:00:00\", \"02/01/2020 23:00:00\", \"02/02/2020 21:00:00\", \"02/03/2020 21:40:00\", \"02/04/2020 22:00:00\", \"02/05/2020 12:20:00\", \"02/06/2020 20:05:00\", \"02/07/2020 20:24:00\", \"02/08/2020 23:04:00\", \"02/09/2020 23:20:00\", \"02/10/2020 19:30:00\", \"02/11/2020 20:44:00\", \"02/12/2020 22:00:00\", \"02/13/2020 21:15:00\", \"02/14/2020 22:00:00\", \"02/15/2020 22:00:00\", \"02/16/2020 22:00:00\", \"02/17/2020 22:00:00\"], \"xaxis\": \"x\", \"y\": [0.0, 0.0, 0.0, 0.0, 0.0, 0.0, 0.0, 0.0, 0.0, 0.0, 0.0, 0.0, 0.0, 0.0, 1.0, 1.0, 1.0, 1.0, 1.0, 1.0, 1.0, 1.0, 2.0, 2.0, 2.0, 2.0], \"yaxis\": \"y\"}, {\"alignmentgroup\": \"True\", \"hoverlabel\": {\"namelength\": 0}, \"hovertemplate\": \"Country=Australia<br>Date=%{x}<br>Recovered=%{text}\", \"legendgroup\": \"Australia\", \"marker\": {\"color\": \"#FF6692\"}, \"name\": \"Australia\", \"offsetgroup\": \"Australia\", \"orientation\": \"v\", \"showlegend\": true, \"text\": [0.0, 0.0, 0.0, 0.0, 0.0, 0.0, 2.0, 2.0, 2.0, 2.0, 2.0, 2.0, 2.0, 2.0, 2.0, 2.0, 2.0, 2.0, 2.0, 2.0, 8.0, 8.0, 8.0, 8.0, 10.0], \"textposition\": \"auto\", \"type\": \"bar\", \"x\": [\"01/23/2020 12:00:00\", \"01/25/2020 22:00:00\", \"01/26/2020 23:00:00\", \"01/27/2020 20:30:00\", \"01/28/2020 23:00:00\", \"01/29/2020 21:00:00\", \"01/30/2020 21:30:00\", \"01/31/2020 19:00:00\", \"02/01/2020 23:00:00\", \"02/02/2020 21:00:00\", \"02/03/2020 21:40:00\", \"02/04/2020 22:00:00\", \"02/05/2020 12:20:00\", \"02/06/2020 20:05:00\", \"02/07/2020 20:24:00\", \"02/08/2020 23:04:00\", \"02/09/2020 23:20:00\", \"02/10/2020 19:30:00\", \"02/11/2020 20:44:00\", \"02/12/2020 22:00:00\", \"02/13/2020 21:15:00\", \"02/14/2020 22:00:00\", \"02/15/2020 22:00:00\", \"02/16/2020 22:00:00\", \"02/17/2020 22:00:00\"], \"xaxis\": \"x\", \"y\": [0.0, 0.0, 0.0, 0.0, 0.0, 0.0, 2.0, 2.0, 2.0, 2.0, 2.0, 2.0, 2.0, 2.0, 2.0, 2.0, 2.0, 2.0, 2.0, 2.0, 8.0, 8.0, 8.0, 8.0, 10.0], \"yaxis\": \"y\"}, {\"alignmentgroup\": \"True\", \"hoverlabel\": {\"namelength\": 0}, \"hovertemplate\": \"Country=Macau<br>Date=%{x}<br>Recovered=%{text}\", \"legendgroup\": \"Macau\", \"marker\": {\"color\": \"#B6E880\"}, \"name\": \"Macau\", \"offsetgroup\": \"Macau\", \"orientation\": \"v\", \"showlegend\": true, \"text\": [0.0, 0.0, 0.0, 0.0, 0.0, 0.0, 0.0, 0.0, 0.0, 0.0, 0.0, 0.0, 0.0, 0.0, 1.0, 1.0, 1.0, 1.0, 1.0, 1.0, 2.0, 3.0, 3.0, 3.0, 5.0, 5.0], \"textposition\": \"auto\", \"type\": \"bar\", \"x\": [\"01/23/2020 12:00:00\", \"01/24/2020 12:00:00\", \"01/25/2020 22:00:00\", \"01/26/2020 23:00:00\", \"01/27/2020 20:30:00\", \"01/28/2020 23:00:00\", \"01/29/2020 21:00:00\", \"01/30/2020 21:30:00\", \"01/31/2020 19:00:00\", \"02/01/2020 23:00:00\", \"02/02/2020 21:00:00\", \"02/03/2020 21:40:00\", \"02/04/2020 22:00:00\", \"02/05/2020 12:20:00\", \"02/06/2020 20:05:00\", \"02/07/2020 20:24:00\", \"02/08/2020 23:04:00\", \"02/09/2020 23:20:00\", \"02/10/2020 19:30:00\", \"02/11/2020 20:44:00\", \"02/12/2020 22:00:00\", \"02/13/2020 21:15:00\", \"02/14/2020 22:00:00\", \"02/15/2020 22:00:00\", \"02/16/2020 22:00:00\", \"02/17/2020 22:00:00\"], \"xaxis\": \"x\", \"y\": [0.0, 0.0, 0.0, 0.0, 0.0, 0.0, 0.0, 0.0, 0.0, 0.0, 0.0, 0.0, 0.0, 0.0, 1.0, 1.0, 1.0, 1.0, 1.0, 1.0, 2.0, 3.0, 3.0, 3.0, 5.0, 5.0], \"yaxis\": \"y\"}, {\"alignmentgroup\": \"True\", \"hoverlabel\": {\"namelength\": 0}, \"hovertemplate\": \"Country=Malaysia<br>Date=%{x}<br>Recovered=%{text}\", \"legendgroup\": \"Malaysia\", \"marker\": {\"color\": \"#FF97FF\"}, \"name\": \"Malaysia\", \"offsetgroup\": \"Malaysia\", \"orientation\": \"v\", \"showlegend\": true, \"text\": [0.0, 0.0, 0.0, 0.0, 0.0, 0.0, 0.0, 0.0, 0.0, 0.0, 0.0, 0.0, 0.0, 0.0, 1.0, 1.0, 1.0, 1.0, 3.0, 3.0, 3.0, 3.0, 7.0, 7.0, 7.0], \"textposition\": \"auto\", \"type\": \"bar\", \"x\": [\"01/23/2020 12:00:00\", \"01/25/2020 22:00:00\", \"01/26/2020 23:00:00\", \"01/27/2020 20:30:00\", \"01/28/2020 23:00:00\", \"01/29/2020 21:00:00\", \"01/30/2020 21:30:00\", \"01/31/2020 19:00:00\", \"02/01/2020 23:00:00\", \"02/02/2020 21:00:00\", \"02/03/2020 21:40:00\", \"02/04/2020 22:00:00\", \"02/05/2020 12:20:00\", \"02/06/2020 20:05:00\", \"02/07/2020 20:24:00\", \"02/08/2020 23:04:00\", \"02/09/2020 23:20:00\", \"02/10/2020 19:30:00\", \"02/11/2020 20:44:00\", \"02/12/2020 22:00:00\", \"02/13/2020 21:15:00\", \"02/14/2020 22:00:00\", \"02/15/2020 22:00:00\", \"02/16/2020 22:00:00\", \"02/17/2020 22:00:00\"], \"xaxis\": \"x\", \"y\": [0.0, 0.0, 0.0, 0.0, 0.0, 0.0, 0.0, 0.0, 0.0, 0.0, 0.0, 0.0, 0.0, 0.0, 1.0, 1.0, 1.0, 1.0, 3.0, 3.0, 3.0, 3.0, 7.0, 7.0, 7.0], \"yaxis\": \"y\"}, {\"alignmentgroup\": \"True\", \"hoverlabel\": {\"namelength\": 0}, \"hovertemplate\": \"Country=Singapore<br>Date=%{x}<br>Recovered=%{text}\", \"legendgroup\": \"Singapore\", \"marker\": {\"color\": \"#FECB52\"}, \"name\": \"Singapore\", \"offsetgroup\": \"Singapore\", \"orientation\": \"v\", \"showlegend\": true, \"text\": [0.0, 0.0, 0.0, 0.0, 0.0, 0.0, 0.0, 0.0, 0.0, 0.0, 0.0, 0.0, 0.0, 0.0, 0.0, 0.0, 2.0, 2.0, 2.0, 9.0, 15.0, 15.0, 17.0, 18.0, 18.0, 24.0], \"textposition\": \"auto\", \"type\": \"bar\", \"x\": [\"01/23/2020 12:00:00\", \"01/24/2020 12:00:00\", \"01/25/2020 22:00:00\", \"01/26/2020 23:00:00\", \"01/27/2020 20:30:00\", \"01/28/2020 23:00:00\", \"01/29/2020 21:00:00\", \"01/30/2020 21:30:00\", \"01/31/2020 19:00:00\", \"02/01/2020 23:00:00\", \"02/02/2020 21:00:00\", \"02/03/2020 21:40:00\", \"02/04/2020 22:00:00\", \"02/05/2020 12:20:00\", \"02/06/2020 20:05:00\", \"02/07/2020 20:24:00\", \"02/08/2020 23:04:00\", \"02/09/2020 23:20:00\", \"02/10/2020 19:30:00\", \"02/11/2020 20:44:00\", \"02/12/2020 22:00:00\", \"02/13/2020 21:15:00\", \"02/14/2020 22:00:00\", \"02/15/2020 22:00:00\", \"02/16/2020 22:00:00\", \"02/17/2020 22:00:00\"], \"xaxis\": \"x\", \"y\": [0.0, 0.0, 0.0, 0.0, 0.0, 0.0, 0.0, 0.0, 0.0, 0.0, 0.0, 0.0, 0.0, 0.0, 0.0, 0.0, 2.0, 2.0, 2.0, 9.0, 15.0, 15.0, 17.0, 18.0, 18.0, 24.0], \"yaxis\": \"y\"}, {\"alignmentgroup\": \"True\", \"hoverlabel\": {\"namelength\": 0}, \"hovertemplate\": \"Country=Mexico<br>Date=%{x}<br>Recovered=%{text}\", \"legendgroup\": \"Mexico\", \"marker\": {\"color\": \"#636efa\"}, \"name\": \"Mexico\", \"offsetgroup\": \"Mexico\", \"orientation\": \"v\", \"showlegend\": true, \"text\": [0.0], \"textposition\": \"auto\", \"type\": \"bar\", \"x\": [\"01/23/2020 12:00:00\"], \"xaxis\": \"x\", \"y\": [0.0], \"yaxis\": \"y\"}, {\"alignmentgroup\": \"True\", \"hoverlabel\": {\"namelength\": 0}, \"hovertemplate\": \"Country=Brazil<br>Date=%{x}<br>Recovered=%{text}\", \"legendgroup\": \"Brazil\", \"marker\": {\"color\": \"#EF553B\"}, \"name\": \"Brazil\", \"offsetgroup\": \"Brazil\", \"orientation\": \"v\", \"showlegend\": true, \"text\": [0.0], \"textposition\": \"auto\", \"type\": \"bar\", \"x\": [\"01/23/2020 12:00:00\"], \"xaxis\": \"x\", \"y\": [0.0], \"yaxis\": \"y\"}, {\"alignmentgroup\": \"True\", \"hoverlabel\": {\"namelength\": 0}, \"hovertemplate\": \"Country=Vietnam<br>Date=%{x}<br>Recovered=%{text}\", \"legendgroup\": \"Vietnam\", \"marker\": {\"color\": \"#00cc96\"}, \"name\": \"Vietnam\", \"offsetgroup\": \"Vietnam\", \"orientation\": \"v\", \"showlegend\": true, \"text\": [0.0, 0.0, 0.0, 0.0, 0.0, 0.0, 0.0, 0.0, 0.0, 1.0, 1.0, 1.0, 1.0, 1.0, 1.0, 1.0, 1.0, 1.0, 1.0, 6.0, 6.0, 7.0, 7.0, 7.0, 7.0, 7.0], \"textposition\": \"auto\", \"type\": \"bar\", \"x\": [\"01/23/2020 12:00:00\", \"01/24/2020 12:00:00\", \"01/25/2020 22:00:00\", \"01/26/2020 23:00:00\", \"01/27/2020 20:30:00\", \"01/28/2020 23:00:00\", \"01/29/2020 21:00:00\", \"01/30/2020 21:30:00\", \"01/31/2020 19:00:00\", \"02/01/2020 23:00:00\", \"02/02/2020 21:00:00\", \"02/03/2020 21:40:00\", \"02/04/2020 22:00:00\", \"02/05/2020 12:20:00\", \"02/06/2020 20:05:00\", \"02/07/2020 20:24:00\", \"02/08/2020 23:04:00\", \"02/09/2020 23:20:00\", \"02/10/2020 19:30:00\", \"02/11/2020 20:44:00\", \"02/12/2020 22:00:00\", \"02/13/2020 21:15:00\", \"02/14/2020 22:00:00\", \"02/15/2020 22:00:00\", \"02/16/2020 22:00:00\", \"02/17/2020 22:00:00\"], \"xaxis\": \"x\", \"y\": [0.0, 0.0, 0.0, 0.0, 0.0, 0.0, 0.0, 0.0, 0.0, 1.0, 1.0, 1.0, 1.0, 1.0, 1.0, 1.0, 1.0, 1.0, 1.0, 6.0, 6.0, 7.0, 7.0, 7.0, 7.0, 7.0], \"yaxis\": \"y\"}, {\"alignmentgroup\": \"True\", \"hoverlabel\": {\"namelength\": 0}, \"hovertemplate\": \"Country=Philippines<br>Date=%{x}<br>Recovered=%{text}\", \"legendgroup\": \"Philippines\", \"marker\": {\"color\": \"#ab63fa\"}, \"name\": \"Philippines\", \"offsetgroup\": \"Philippines\", \"orientation\": \"v\", \"showlegend\": true, \"text\": [0.0, 0.0, 0.0, 0.0, 0.0, 0.0, 0.0, 0.0, 0.0, 0.0, 0.0, 0.0, 0.0, 0.0, 1.0, 1.0, 1.0, 1.0, 1.0, 1.0], \"textposition\": \"auto\", \"type\": \"bar\", \"x\": [\"01/23/2020 12:00:00\", \"01/30/2020 21:30:00\", \"01/31/2020 19:00:00\", \"02/01/2020 23:00:00\", \"02/02/2020 21:00:00\", \"02/03/2020 21:40:00\", \"02/04/2020 22:00:00\", \"02/05/2020 12:20:00\", \"02/06/2020 20:05:00\", \"02/07/2020 20:24:00\", \"02/08/2020 23:04:00\", \"02/09/2020 23:20:00\", \"02/10/2020 19:30:00\", \"02/11/2020 20:44:00\", \"02/12/2020 22:00:00\", \"02/13/2020 21:15:00\", \"02/14/2020 22:00:00\", \"02/15/2020 22:00:00\", \"02/16/2020 22:00:00\", \"02/17/2020 22:00:00\"], \"xaxis\": \"x\", \"y\": [0.0, 0.0, 0.0, 0.0, 0.0, 0.0, 0.0, 0.0, 0.0, 0.0, 0.0, 0.0, 0.0, 0.0, 1.0, 1.0, 1.0, 1.0, 1.0, 1.0], \"yaxis\": \"y\"}, {\"alignmentgroup\": \"True\", \"hoverlabel\": {\"namelength\": 0}, \"hovertemplate\": \"Country=France<br>Date=%{x}<br>Recovered=%{text}\", \"legendgroup\": \"France\", \"marker\": {\"color\": \"#FFA15A\"}, \"name\": \"France\", \"offsetgroup\": \"France\", \"orientation\": \"v\", \"showlegend\": true, \"text\": [0.0, 0.0, 0.0, 0.0, 0.0, 0.0, 0.0, 0.0, 0.0, 0.0, 0.0, 0.0, 0.0, 0.0, 0.0, 0.0, 0.0, 0.0, 0.0, 2.0, 2.0, 2.0, 4.0, 4.0, 4.0], \"textposition\": \"auto\", \"type\": \"bar\", \"x\": [\"01/24/2020 12:00:00\", \"01/25/2020 22:00:00\", \"01/26/2020 23:00:00\", \"01/27/2020 20:30:00\", \"01/28/2020 23:00:00\", \"01/29/2020 21:00:00\", \"01/30/2020 21:30:00\", \"01/31/2020 19:00:00\", \"02/01/2020 23:00:00\", \"02/02/2020 21:00:00\", \"02/03/2020 21:40:00\", \"02/04/2020 22:00:00\", \"02/05/2020 12:20:00\", \"02/06/2020 20:05:00\", \"02/07/2020 20:24:00\", \"02/08/2020 23:04:00\", \"02/09/2020 23:20:00\", \"02/10/2020 19:30:00\", \"02/11/2020 20:44:00\", \"02/12/2020 22:00:00\", \"02/13/2020 21:15:00\", \"02/14/2020 22:00:00\", \"02/15/2020 22:00:00\", \"02/16/2020 22:00:00\", \"02/17/2020 22:00:00\"], \"xaxis\": \"x\", \"y\": [0.0, 0.0, 0.0, 0.0, 0.0, 0.0, 0.0, 0.0, 0.0, 0.0, 0.0, 0.0, 0.0, 0.0, 0.0, 0.0, 0.0, 0.0, 0.0, 2.0, 2.0, 2.0, 4.0, 4.0, 4.0], \"yaxis\": \"y\"}, {\"alignmentgroup\": \"True\", \"hoverlabel\": {\"namelength\": 0}, \"hovertemplate\": \"Country=Nepal<br>Date=%{x}<br>Recovered=%{text}\", \"legendgroup\": \"Nepal\", \"marker\": {\"color\": \"#19d3f3\"}, \"name\": \"Nepal\", \"offsetgroup\": \"Nepal\", \"orientation\": \"v\", \"showlegend\": true, \"text\": [0.0, 0.0, 0.0, 0.0, 0.0, 0.0, 0.0, 0.0, 0.0, 0.0, 0.0, 0.0, 0.0, 0.0, 0.0, 0.0, 0.0, 0.0, 1.0, 1.0, 1.0, 1.0, 1.0, 1.0], \"textposition\": \"auto\", \"type\": \"bar\", \"x\": [\"01/25/2020 22:00:00\", \"01/26/2020 23:00:00\", \"01/27/2020 20:30:00\", \"01/28/2020 23:00:00\", \"01/29/2020 21:00:00\", \"01/30/2020 21:30:00\", \"01/31/2020 19:00:00\", \"02/01/2020 23:00:00\", \"02/02/2020 21:00:00\", \"02/03/2020 21:40:00\", \"02/04/2020 22:00:00\", \"02/05/2020 12:20:00\", \"02/06/2020 20:05:00\", \"02/07/2020 20:24:00\", \"02/08/2020 23:04:00\", \"02/09/2020 23:20:00\", \"02/10/2020 19:30:00\", \"02/11/2020 20:44:00\", \"02/12/2020 22:00:00\", \"02/13/2020 21:15:00\", \"02/14/2020 22:00:00\", \"02/15/2020 22:00:00\", \"02/16/2020 22:00:00\", \"02/17/2020 22:00:00\"], \"xaxis\": \"x\", \"y\": [0.0, 0.0, 0.0, 0.0, 0.0, 0.0, 0.0, 0.0, 0.0, 0.0, 0.0, 0.0, 0.0, 0.0, 0.0, 0.0, 0.0, 0.0, 1.0, 1.0, 1.0, 1.0, 1.0, 1.0], \"yaxis\": \"y\"}, {\"alignmentgroup\": \"True\", \"hoverlabel\": {\"namelength\": 0}, \"hovertemplate\": \"Country=Canada<br>Date=%{x}<br>Recovered=%{text}\", \"legendgroup\": \"Canada\", \"marker\": {\"color\": \"#FF6692\"}, \"name\": \"Canada\", \"offsetgroup\": \"Canada\", \"orientation\": \"v\", \"showlegend\": true, \"text\": [0.0, 0.0, 0.0, 0.0, 0.0, 0.0, 0.0, 0.0, 0.0, 0.0, 0.0, 0.0, 0.0, 0.0, 0.0, 0.0, 0.0, 1.0, 1.0, 1.0, 1.0, 1.0, 1.0], \"textposition\": \"auto\", \"type\": \"bar\", \"x\": [\"01/26/2020 23:00:00\", \"01/27/2020 20:30:00\", \"01/28/2020 23:00:00\", \"01/29/2020 21:00:00\", \"01/30/2020 21:30:00\", \"01/31/2020 19:00:00\", \"02/01/2020 23:00:00\", \"02/02/2020 21:00:00\", \"02/03/2020 21:40:00\", \"02/04/2020 22:00:00\", \"02/05/2020 12:20:00\", \"02/06/2020 20:05:00\", \"02/07/2020 20:24:00\", \"02/08/2020 23:04:00\", \"02/09/2020 23:20:00\", \"02/10/2020 19:30:00\", \"02/11/2020 20:44:00\", \"02/12/2020 22:00:00\", \"02/13/2020 21:15:00\", \"02/14/2020 22:00:00\", \"02/15/2020 22:00:00\", \"02/16/2020 22:00:00\", \"02/17/2020 22:00:00\"], \"xaxis\": \"x\", \"y\": [0.0, 0.0, 0.0, 0.0, 0.0, 0.0, 0.0, 0.0, 0.0, 0.0, 0.0, 0.0, 0.0, 0.0, 0.0, 0.0, 0.0, 1.0, 1.0, 1.0, 1.0, 1.0, 1.0], \"yaxis\": \"y\"}, {\"alignmentgroup\": \"True\", \"hoverlabel\": {\"namelength\": 0}, \"hovertemplate\": \"Country=Cambodia<br>Date=%{x}<br>Recovered=%{text}\", \"legendgroup\": \"Cambodia\", \"marker\": {\"color\": \"#B6E880\"}, \"name\": \"Cambodia\", \"offsetgroup\": \"Cambodia\", \"orientation\": \"v\", \"showlegend\": true, \"text\": [0.0, 0.0, 0.0, 0.0, 0.0, 0.0, 0.0, 0.0, 0.0, 0.0, 0.0, 0.0, 0.0, 0.0, 0.0, 0.0, 1.0, 1.0, 1.0, 1.0, 1.0, 1.0], \"textposition\": \"auto\", \"type\": \"bar\", \"x\": [\"01/27/2020 20:30:00\", \"01/28/2020 23:00:00\", \"01/29/2020 21:00:00\", \"01/30/2020 21:30:00\", \"01/31/2020 19:00:00\", \"02/01/2020 23:00:00\", \"02/02/2020 21:00:00\", \"02/03/2020 21:40:00\", \"02/04/2020 22:00:00\", \"02/05/2020 12:20:00\", \"02/06/2020 20:05:00\", \"02/07/2020 20:24:00\", \"02/08/2020 23:04:00\", \"02/09/2020 23:20:00\", \"02/10/2020 19:30:00\", \"02/11/2020 20:44:00\", \"02/12/2020 22:00:00\", \"02/13/2020 21:15:00\", \"02/14/2020 22:00:00\", \"02/15/2020 22:00:00\", \"02/16/2020 22:00:00\", \"02/17/2020 22:00:00\"], \"xaxis\": \"x\", \"y\": [0.0, 0.0, 0.0, 0.0, 0.0, 0.0, 0.0, 0.0, 0.0, 0.0, 0.0, 0.0, 0.0, 0.0, 0.0, 0.0, 1.0, 1.0, 1.0, 1.0, 1.0, 1.0], \"yaxis\": \"y\"}, {\"alignmentgroup\": \"True\", \"hoverlabel\": {\"namelength\": 0}, \"hovertemplate\": \"Country=Sri Lanka<br>Date=%{x}<br>Recovered=%{text}\", \"legendgroup\": \"Sri Lanka\", \"marker\": {\"color\": \"#FF97FF\"}, \"name\": \"Sri Lanka\", \"offsetgroup\": \"Sri Lanka\", \"orientation\": \"v\", \"showlegend\": true, \"text\": [0.0, 0.0, 0.0, 0.0, 0.0, 0.0, 0.0, 0.0, 0.0, 0.0, 0.0, 0.0, 1.0, 1.0, 1.0, 1.0, 1.0, 1.0, 1.0, 1.0, 1.0, 1.0], \"textposition\": \"auto\", \"type\": \"bar\", \"x\": [\"01/27/2020 20:30:00\", \"01/28/2020 23:00:00\", \"01/29/2020 21:00:00\", \"01/30/2020 21:30:00\", \"01/31/2020 19:00:00\", \"02/01/2020 23:00:00\", \"02/02/2020 21:00:00\", \"02/03/2020 21:40:00\", \"02/04/2020 22:00:00\", \"02/05/2020 12:20:00\", \"02/06/2020 20:05:00\", \"02/07/2020 20:24:00\", \"02/08/2020 23:04:00\", \"02/09/2020 23:20:00\", \"02/10/2020 19:30:00\", \"02/11/2020 20:44:00\", \"02/12/2020 22:00:00\", \"02/13/2020 21:15:00\", \"02/14/2020 22:00:00\", \"02/15/2020 22:00:00\", \"02/16/2020 22:00:00\", \"02/17/2020 22:00:00\"], \"xaxis\": \"x\", \"y\": [0.0, 0.0, 0.0, 0.0, 0.0, 0.0, 0.0, 0.0, 0.0, 0.0, 0.0, 0.0, 1.0, 1.0, 1.0, 1.0, 1.0, 1.0, 1.0, 1.0, 1.0, 1.0], \"yaxis\": \"y\"}, {\"alignmentgroup\": \"True\", \"hoverlabel\": {\"namelength\": 0}, \"hovertemplate\": \"Country=Ivory Coast<br>Date=%{x}<br>Recovered=%{text}\", \"legendgroup\": \"Ivory Coast\", \"marker\": {\"color\": \"#FECB52\"}, \"name\": \"Ivory Coast\", \"offsetgroup\": \"Ivory Coast\", \"orientation\": \"v\", \"showlegend\": true, \"text\": [0.0], \"textposition\": \"auto\", \"type\": \"bar\", \"x\": [\"01/27/2020 20:30:00\"], \"xaxis\": \"x\", \"y\": [0.0], \"yaxis\": \"y\"}, {\"alignmentgroup\": \"True\", \"hoverlabel\": {\"namelength\": 0}, \"hovertemplate\": \"Country=Germany<br>Date=%{x}<br>Recovered=%{text}\", \"legendgroup\": \"Germany\", \"marker\": {\"color\": \"#636efa\"}, \"name\": \"Germany\", \"offsetgroup\": \"Germany\", \"orientation\": \"v\", \"showlegend\": true, \"text\": [0.0, 0.0, 0.0, 0.0, 0.0, 0.0, 0.0, 0.0, 0.0, 0.0, 0.0, 0.0, 0.0, 0.0, 0.0, 0.0, 0.0, 1.0, 1.0, 1.0, 1.0, 1.0], \"textposition\": \"auto\", \"type\": \"bar\", \"x\": [\"01/27/2020 20:30:00\", \"01/28/2020 23:00:00\", \"01/29/2020 21:00:00\", \"01/30/2020 21:30:00\", \"01/31/2020 19:00:00\", \"02/01/2020 23:00:00\", \"02/02/2020 21:00:00\", \"02/03/2020 21:40:00\", \"02/04/2020 22:00:00\", \"02/05/2020 12:20:00\", \"02/06/2020 20:05:00\", \"02/07/2020 20:24:00\", \"02/08/2020 23:04:00\", \"02/09/2020 23:20:00\", \"02/10/2020 19:30:00\", \"02/11/2020 20:44:00\", \"02/12/2020 22:00:00\", \"02/13/2020 21:15:00\", \"02/14/2020 22:00:00\", \"02/15/2020 22:00:00\", \"02/16/2020 22:00:00\", \"02/17/2020 22:00:00\"], \"xaxis\": \"x\", \"y\": [0.0, 0.0, 0.0, 0.0, 0.0, 0.0, 0.0, 0.0, 0.0, 0.0, 0.0, 0.0, 0.0, 0.0, 0.0, 0.0, 0.0, 1.0, 1.0, 1.0, 1.0, 1.0], \"yaxis\": \"y\"}, {\"alignmentgroup\": \"True\", \"hoverlabel\": {\"namelength\": 0}, \"hovertemplate\": \"Country=Finland<br>Date=%{x}<br>Recovered=%{text}\", \"legendgroup\": \"Finland\", \"marker\": {\"color\": \"#EF553B\"}, \"name\": \"Finland\", \"offsetgroup\": \"Finland\", \"orientation\": \"v\", \"showlegend\": true, \"text\": [0.0, 0.0, 0.0, 0.0, 0.0, 0.0, 0.0, 0.0, 0.0, 0.0, 0.0, 0.0, 0.0, 1.0, 1.0, 1.0, 1.0, 1.0, 1.0, 1.0], \"textposition\": \"auto\", \"type\": \"bar\", \"x\": [\"01/29/2020 21:00:00\", \"01/30/2020 21:30:00\", \"01/31/2020 19:00:00\", \"02/01/2020 23:00:00\", \"02/02/2020 21:00:00\", \"02/03/2020 21:40:00\", \"02/04/2020 22:00:00\", \"02/05/2020 12:20:00\", \"02/06/2020 20:05:00\", \"02/07/2020 20:24:00\", \"02/08/2020 23:04:00\", \"02/09/2020 23:20:00\", \"02/10/2020 19:30:00\", \"02/11/2020 20:44:00\", \"02/12/2020 22:00:00\", \"02/13/2020 21:15:00\", \"02/14/2020 22:00:00\", \"02/15/2020 22:00:00\", \"02/16/2020 22:00:00\", \"02/17/2020 22:00:00\"], \"xaxis\": \"x\", \"y\": [0.0, 0.0, 0.0, 0.0, 0.0, 0.0, 0.0, 0.0, 0.0, 0.0, 0.0, 0.0, 0.0, 1.0, 1.0, 1.0, 1.0, 1.0, 1.0, 1.0], \"yaxis\": \"y\"}, {\"alignmentgroup\": \"True\", \"hoverlabel\": {\"namelength\": 0}, \"hovertemplate\": \"Country=United Arab Emirates<br>Date=%{x}<br>Recovered=%{text}\", \"legendgroup\": \"United Arab Emirates\", \"marker\": {\"color\": \"#00cc96\"}, \"name\": \"United Arab Emirates\", \"offsetgroup\": \"United Arab Emirates\", \"orientation\": \"v\", \"showlegend\": true, \"text\": [0.0, 0.0, 0.0, 0.0, 0.0, 0.0, 0.0, 0.0, 0.0, 0.0, 0.0, 0.0, 0.0, 1.0, 1.0, 1.0, 1.0, 3.0, 4.0, 4.0], \"textposition\": \"auto\", \"type\": \"bar\", \"x\": [\"01/29/2020 21:00:00\", \"01/30/2020 21:30:00\", \"01/31/2020 19:00:00\", \"02/01/2020 23:00:00\", \"02/02/2020 21:00:00\", \"02/03/2020 21:40:00\", \"02/04/2020 22:00:00\", \"02/05/2020 12:20:00\", \"02/06/2020 20:05:00\", \"02/07/2020 20:24:00\", \"02/08/2020 23:04:00\", \"02/09/2020 23:20:00\", \"02/10/2020 19:30:00\", \"02/11/2020 20:44:00\", \"02/12/2020 22:00:00\", \"02/13/2020 21:15:00\", \"02/14/2020 22:00:00\", \"02/15/2020 22:00:00\", \"02/16/2020 22:00:00\", \"02/17/2020 22:00:00\"], \"xaxis\": \"x\", \"y\": [0.0, 0.0, 0.0, 0.0, 0.0, 0.0, 0.0, 0.0, 0.0, 0.0, 0.0, 0.0, 0.0, 1.0, 1.0, 1.0, 1.0, 3.0, 4.0, 4.0], \"yaxis\": \"y\"}, {\"alignmentgroup\": \"True\", \"hoverlabel\": {\"namelength\": 0}, \"hovertemplate\": \"Country=India<br>Date=%{x}<br>Recovered=%{text}\", \"legendgroup\": \"India\", \"marker\": {\"color\": \"#ab63fa\"}, \"name\": \"India\", \"offsetgroup\": \"India\", \"orientation\": \"v\", \"showlegend\": true, \"text\": [0.0, 0.0, 0.0, 0.0, 0.0, 0.0, 0.0, 0.0, 0.0, 0.0, 0.0, 0.0, 0.0, 0.0, 0.0, 0.0, 0.0, 3.0, 3.0], \"textposition\": \"auto\", \"type\": \"bar\", \"x\": [\"01/30/2020 21:30:00\", \"01/31/2020 19:00:00\", \"02/01/2020 23:00:00\", \"02/02/2020 21:00:00\", \"02/03/2020 21:40:00\", \"02/04/2020 22:00:00\", \"02/05/2020 12:20:00\", \"02/06/2020 20:05:00\", \"02/07/2020 20:24:00\", \"02/08/2020 23:04:00\", \"02/09/2020 23:20:00\", \"02/10/2020 19:30:00\", \"02/11/2020 20:44:00\", \"02/12/2020 22:00:00\", \"02/13/2020 21:15:00\", \"02/14/2020 22:00:00\", \"02/15/2020 22:00:00\", \"02/16/2020 22:00:00\", \"02/17/2020 22:00:00\"], \"xaxis\": \"x\", \"y\": [0.0, 0.0, 0.0, 0.0, 0.0, 0.0, 0.0, 0.0, 0.0, 0.0, 0.0, 0.0, 0.0, 0.0, 0.0, 0.0, 0.0, 3.0, 3.0], \"yaxis\": \"y\"}, {\"alignmentgroup\": \"True\", \"hoverlabel\": {\"namelength\": 0}, \"hovertemplate\": \"Country=Italy<br>Date=%{x}<br>Recovered=%{text}\", \"legendgroup\": \"Italy\", \"marker\": {\"color\": \"#FFA15A\"}, \"name\": \"Italy\", \"offsetgroup\": \"Italy\", \"orientation\": \"v\", \"showlegend\": true, \"text\": [0.0, 0.0, 0.0, 0.0, 0.0, 0.0, 0.0, 0.0, 0.0, 0.0, 0.0, 0.0, 0.0, 0.0, 0.0, 0.0, 0.0, 0.0, 0.0], \"textposition\": \"auto\", \"type\": \"bar\", \"x\": [\"01/30/2020 21:30:00\", \"01/31/2020 19:00:00\", \"02/01/2020 23:00:00\", \"02/02/2020 21:00:00\", \"02/03/2020 21:40:00\", \"02/04/2020 22:00:00\", \"02/05/2020 12:20:00\", \"02/06/2020 20:05:00\", \"02/07/2020 20:24:00\", \"02/08/2020 23:04:00\", \"02/09/2020 23:20:00\", \"02/10/2020 19:30:00\", \"02/11/2020 20:44:00\", \"02/12/2020 22:00:00\", \"02/13/2020 21:15:00\", \"02/14/2020 22:00:00\", \"02/15/2020 22:00:00\", \"02/16/2020 22:00:00\", \"02/17/2020 22:00:00\"], \"xaxis\": \"x\", \"y\": [0.0, 0.0, 0.0, 0.0, 0.0, 0.0, 0.0, 0.0, 0.0, 0.0, 0.0, 0.0, 0.0, 0.0, 0.0, 0.0, 0.0, 0.0, 0.0], \"yaxis\": \"y\"}, {\"alignmentgroup\": \"True\", \"hoverlabel\": {\"namelength\": 0}, \"hovertemplate\": \"Country=Sweden<br>Date=%{x}<br>Recovered=%{text}\", \"legendgroup\": \"Sweden\", \"marker\": {\"color\": \"#19d3f3\"}, \"name\": \"Sweden\", \"offsetgroup\": \"Sweden\", \"orientation\": \"v\", \"showlegend\": true, \"text\": [0.0, 0.0, 0.0, 0.0, 0.0, 0.0, 0.0, 0.0, 0.0, 0.0, 0.0, 0.0, 0.0, 0.0, 0.0, 0.0, 0.0, 0.0], \"textposition\": \"auto\", \"type\": \"bar\", \"x\": [\"01/31/2020 19:00:00\", \"02/01/2020 23:00:00\", \"02/02/2020 21:00:00\", \"02/03/2020 21:40:00\", \"02/04/2020 22:00:00\", \"02/05/2020 12:20:00\", \"02/06/2020 20:05:00\", \"02/07/2020 20:24:00\", \"02/08/2020 23:04:00\", \"02/09/2020 23:20:00\", \"02/10/2020 19:30:00\", \"02/11/2020 20:44:00\", \"02/12/2020 22:00:00\", \"02/13/2020 21:15:00\", \"02/14/2020 22:00:00\", \"02/15/2020 22:00:00\", \"02/16/2020 22:00:00\", \"02/17/2020 22:00:00\"], \"xaxis\": \"x\", \"y\": [0.0, 0.0, 0.0, 0.0, 0.0, 0.0, 0.0, 0.0, 0.0, 0.0, 0.0, 0.0, 0.0, 0.0, 0.0, 0.0, 0.0, 0.0], \"yaxis\": \"y\"}, {\"alignmentgroup\": \"True\", \"hoverlabel\": {\"namelength\": 0}, \"hovertemplate\": \"Country=Spain<br>Date=%{x}<br>Recovered=%{text}\", \"legendgroup\": \"Spain\", \"marker\": {\"color\": \"#FF6692\"}, \"name\": \"Spain\", \"offsetgroup\": \"Spain\", \"orientation\": \"v\", \"showlegend\": true, \"text\": [0.0, 0.0, 0.0, 0.0, 0.0, 0.0, 0.0, 0.0, 0.0, 0.0, 0.0, 0.0, 0.0, 0.0, 0.0, 2.0, 2.0, 2.0], \"textposition\": \"auto\", \"type\": \"bar\", \"x\": [\"01/31/2020 19:00:00\", \"02/01/2020 23:00:00\", \"02/02/2020 21:00:00\", \"02/03/2020 21:40:00\", \"02/04/2020 22:00:00\", \"02/05/2020 12:20:00\", \"02/06/2020 20:05:00\", \"02/07/2020 20:24:00\", \"02/08/2020 23:04:00\", \"02/09/2020 23:20:00\", \"02/10/2020 19:30:00\", \"02/11/2020 20:44:00\", \"02/12/2020 22:00:00\", \"02/13/2020 21:15:00\", \"02/14/2020 22:00:00\", \"02/15/2020 22:00:00\", \"02/16/2020 22:00:00\", \"02/17/2020 22:00:00\"], \"xaxis\": \"x\", \"y\": [0.0, 0.0, 0.0, 0.0, 0.0, 0.0, 0.0, 0.0, 0.0, 0.0, 0.0, 0.0, 0.0, 0.0, 0.0, 2.0, 2.0, 2.0], \"yaxis\": \"y\"}, {\"alignmentgroup\": \"True\", \"hoverlabel\": {\"namelength\": 0}, \"hovertemplate\": \"Country=UK<br>Date=%{x}<br>Recovered=%{text}\", \"legendgroup\": \"UK\", \"marker\": {\"color\": \"#B6E880\"}, \"name\": \"UK\", \"offsetgroup\": \"UK\", \"orientation\": \"v\", \"showlegend\": true, \"text\": [0.0, 0.0, 0.0, 0.0, 0.0, 0.0, 0.0, 0.0, 0.0, 0.0, 0.0, 0.0, 1.0, 1.0, 1.0, 1.0, 8.0, 8.0], \"textposition\": \"auto\", \"type\": \"bar\", \"x\": [\"01/31/2020 19:00:00\", \"02/01/2020 23:00:00\", \"02/02/2020 21:00:00\", \"02/03/2020 21:40:00\", \"02/04/2020 22:00:00\", \"02/05/2020 12:20:00\", \"02/06/2020 20:05:00\", \"02/07/2020 20:24:00\", \"02/08/2020 23:04:00\", \"02/09/2020 23:20:00\", \"02/10/2020 19:30:00\", \"02/11/2020 20:44:00\", \"02/12/2020 22:00:00\", \"02/13/2020 21:15:00\", \"02/14/2020 22:00:00\", \"02/15/2020 22:00:00\", \"02/16/2020 22:00:00\", \"02/17/2020 22:00:00\"], \"xaxis\": \"x\", \"y\": [0.0, 0.0, 0.0, 0.0, 0.0, 0.0, 0.0, 0.0, 0.0, 0.0, 0.0, 0.0, 1.0, 1.0, 1.0, 1.0, 8.0, 8.0], \"yaxis\": \"y\"}, {\"alignmentgroup\": \"True\", \"hoverlabel\": {\"namelength\": 0}, \"hovertemplate\": \"Country=Russia<br>Date=%{x}<br>Recovered=%{text}\", \"legendgroup\": \"Russia\", \"marker\": {\"color\": \"#FF97FF\"}, \"name\": \"Russia\", \"offsetgroup\": \"Russia\", \"orientation\": \"v\", \"showlegend\": true, \"text\": [0.0, 0.0, 0.0, 0.0, 0.0, 0.0, 0.0, 0.0, 0.0, 0.0, 0.0, 0.0, 2.0, 2.0, 2.0, 2.0, 2.0, 2.0], \"textposition\": \"auto\", \"type\": \"bar\", \"x\": [\"01/31/2020 19:00:00\", \"02/01/2020 23:00:00\", \"02/02/2020 21:00:00\", \"02/03/2020 21:40:00\", \"02/04/2020 22:00:00\", \"02/05/2020 12:20:00\", \"02/06/2020 20:05:00\", \"02/07/2020 20:24:00\", \"02/08/2020 23:04:00\", \"02/09/2020 23:20:00\", \"02/10/2020 19:30:00\", \"02/11/2020 20:44:00\", \"02/12/2020 22:00:00\", \"02/13/2020 21:15:00\", \"02/14/2020 22:00:00\", \"02/15/2020 22:00:00\", \"02/16/2020 22:00:00\", \"02/17/2020 22:00:00\"], \"xaxis\": \"x\", \"y\": [0.0, 0.0, 0.0, 0.0, 0.0, 0.0, 0.0, 0.0, 0.0, 0.0, 0.0, 0.0, 2.0, 2.0, 2.0, 2.0, 2.0, 2.0], \"yaxis\": \"y\"}, {\"alignmentgroup\": \"True\", \"hoverlabel\": {\"namelength\": 0}, \"hovertemplate\": \"Country=Belgium<br>Date=%{x}<br>Recovered=%{text}\", \"legendgroup\": \"Belgium\", \"marker\": {\"color\": \"#FECB52\"}, \"name\": \"Belgium\", \"offsetgroup\": \"Belgium\", \"orientation\": \"v\", \"showlegend\": true, \"text\": [0.0, 0.0, 0.0, 0.0, 0.0, 0.0, 0.0, 0.0, 0.0, 0.0, 0.0, 0.0, 0.0, 1.0], \"textposition\": \"auto\", \"type\": \"bar\", \"x\": [\"02/04/2020 22:00:00\", \"02/05/2020 12:20:00\", \"02/06/2020 20:05:00\", \"02/07/2020 20:24:00\", \"02/08/2020 23:04:00\", \"02/09/2020 23:20:00\", \"02/10/2020 19:30:00\", \"02/11/2020 20:44:00\", \"02/12/2020 22:00:00\", \"02/13/2020 21:15:00\", \"02/14/2020 22:00:00\", \"02/15/2020 22:00:00\", \"02/16/2020 22:00:00\", \"02/17/2020 22:00:00\"], \"xaxis\": \"x\", \"y\": [0.0, 0.0, 0.0, 0.0, 0.0, 0.0, 0.0, 0.0, 0.0, 0.0, 0.0, 0.0, 0.0, 1.0], \"yaxis\": \"y\"}, {\"alignmentgroup\": \"True\", \"hoverlabel\": {\"namelength\": 0}, \"hovertemplate\": \"Country=Others<br>Date=%{x}<br>Recovered=%{text}\", \"legendgroup\": \"Others\", \"marker\": {\"color\": \"#636efa\"}, \"name\": \"Others\", \"offsetgroup\": \"Others\", \"orientation\": \"v\", \"showlegend\": true, \"text\": [0.0, 0.0, 0.0, 0.0, 0.0, 0.0, 0.0, 0.0, 0.0, 0.0, 0.0], \"textposition\": \"auto\", \"type\": \"bar\", \"x\": [\"02/07/2020 20:24:00\", \"02/08/2020 23:04:00\", \"02/09/2020 23:20:00\", \"02/10/2020 19:30:00\", \"02/11/2020 20:44:00\", \"02/12/2020 22:00:00\", \"02/13/2020 21:15:00\", \"02/14/2020 22:00:00\", \"02/15/2020 22:00:00\", \"02/16/2020 22:00:00\", \"02/17/2020 22:00:00\"], \"xaxis\": \"x\", \"y\": [0.0, 0.0, 0.0, 0.0, 0.0, 0.0, 0.0, 0.0, 0.0, 0.0, 0.0], \"yaxis\": \"y\"}, {\"alignmentgroup\": \"True\", \"hoverlabel\": {\"namelength\": 0}, \"hovertemplate\": \"Country=Egypt<br>Date=%{x}<br>Recovered=%{text}\", \"legendgroup\": \"Egypt\", \"marker\": {\"color\": \"#EF553B\"}, \"name\": \"Egypt\", \"offsetgroup\": \"Egypt\", \"orientation\": \"v\", \"showlegend\": true, \"text\": [0.0, 0.0, 0.0, 0.0], \"textposition\": \"auto\", \"type\": \"bar\", \"x\": [\"02/14/2020 22:00:00\", \"02/15/2020 22:00:00\", \"02/16/2020 22:00:00\", \"02/17/2020 22:00:00\"], \"xaxis\": \"x\", \"y\": [0.0, 0.0, 0.0, 0.0], \"yaxis\": \"y\"}],\n",
       "                        {\"barmode\": \"relative\", \"height\": 600, \"legend\": {\"title\": {\"text\": \"Country\"}, \"tracegroupgap\": 0}, \"template\": {\"data\": {\"bar\": [{\"error_x\": {\"color\": \"#2a3f5f\"}, \"error_y\": {\"color\": \"#2a3f5f\"}, \"marker\": {\"line\": {\"color\": \"#E5ECF6\", \"width\": 0.5}}, \"type\": \"bar\"}], \"barpolar\": [{\"marker\": {\"line\": {\"color\": \"#E5ECF6\", \"width\": 0.5}}, \"type\": \"barpolar\"}], \"carpet\": [{\"aaxis\": {\"endlinecolor\": \"#2a3f5f\", \"gridcolor\": \"white\", \"linecolor\": \"white\", \"minorgridcolor\": \"white\", \"startlinecolor\": \"#2a3f5f\"}, \"baxis\": {\"endlinecolor\": \"#2a3f5f\", \"gridcolor\": \"white\", \"linecolor\": \"white\", \"minorgridcolor\": \"white\", \"startlinecolor\": \"#2a3f5f\"}, \"type\": \"carpet\"}], \"choropleth\": [{\"colorbar\": {\"outlinewidth\": 0, \"ticks\": \"\"}, \"type\": \"choropleth\"}], \"contour\": [{\"colorbar\": {\"outlinewidth\": 0, \"ticks\": \"\"}, \"colorscale\": [[0.0, \"#0d0887\"], [0.1111111111111111, \"#46039f\"], [0.2222222222222222, \"#7201a8\"], [0.3333333333333333, \"#9c179e\"], [0.4444444444444444, \"#bd3786\"], [0.5555555555555556, \"#d8576b\"], [0.6666666666666666, \"#ed7953\"], [0.7777777777777778, \"#fb9f3a\"], [0.8888888888888888, \"#fdca26\"], [1.0, \"#f0f921\"]], \"type\": \"contour\"}], \"contourcarpet\": [{\"colorbar\": {\"outlinewidth\": 0, \"ticks\": \"\"}, \"type\": \"contourcarpet\"}], \"heatmap\": [{\"colorbar\": {\"outlinewidth\": 0, \"ticks\": \"\"}, \"colorscale\": [[0.0, \"#0d0887\"], [0.1111111111111111, \"#46039f\"], [0.2222222222222222, \"#7201a8\"], [0.3333333333333333, \"#9c179e\"], [0.4444444444444444, \"#bd3786\"], [0.5555555555555556, \"#d8576b\"], [0.6666666666666666, \"#ed7953\"], [0.7777777777777778, \"#fb9f3a\"], [0.8888888888888888, \"#fdca26\"], [1.0, \"#f0f921\"]], \"type\": \"heatmap\"}], \"heatmapgl\": [{\"colorbar\": {\"outlinewidth\": 0, \"ticks\": \"\"}, \"colorscale\": [[0.0, \"#0d0887\"], [0.1111111111111111, \"#46039f\"], [0.2222222222222222, \"#7201a8\"], [0.3333333333333333, \"#9c179e\"], [0.4444444444444444, \"#bd3786\"], [0.5555555555555556, \"#d8576b\"], [0.6666666666666666, \"#ed7953\"], [0.7777777777777778, \"#fb9f3a\"], [0.8888888888888888, \"#fdca26\"], [1.0, \"#f0f921\"]], \"type\": \"heatmapgl\"}], \"histogram\": [{\"marker\": {\"colorbar\": {\"outlinewidth\": 0, \"ticks\": \"\"}}, \"type\": \"histogram\"}], \"histogram2d\": [{\"colorbar\": {\"outlinewidth\": 0, \"ticks\": \"\"}, \"colorscale\": [[0.0, \"#0d0887\"], [0.1111111111111111, \"#46039f\"], [0.2222222222222222, \"#7201a8\"], [0.3333333333333333, \"#9c179e\"], [0.4444444444444444, \"#bd3786\"], [0.5555555555555556, \"#d8576b\"], [0.6666666666666666, \"#ed7953\"], [0.7777777777777778, \"#fb9f3a\"], [0.8888888888888888, \"#fdca26\"], [1.0, \"#f0f921\"]], \"type\": \"histogram2d\"}], \"histogram2dcontour\": [{\"colorbar\": {\"outlinewidth\": 0, \"ticks\": \"\"}, \"colorscale\": [[0.0, \"#0d0887\"], [0.1111111111111111, \"#46039f\"], [0.2222222222222222, \"#7201a8\"], [0.3333333333333333, \"#9c179e\"], [0.4444444444444444, \"#bd3786\"], [0.5555555555555556, \"#d8576b\"], [0.6666666666666666, \"#ed7953\"], [0.7777777777777778, \"#fb9f3a\"], [0.8888888888888888, \"#fdca26\"], [1.0, \"#f0f921\"]], \"type\": \"histogram2dcontour\"}], \"mesh3d\": [{\"colorbar\": {\"outlinewidth\": 0, \"ticks\": \"\"}, \"type\": \"mesh3d\"}], \"parcoords\": [{\"line\": {\"colorbar\": {\"outlinewidth\": 0, \"ticks\": \"\"}}, \"type\": \"parcoords\"}], \"pie\": [{\"automargin\": true, \"type\": \"pie\"}], \"scatter\": [{\"marker\": {\"colorbar\": {\"outlinewidth\": 0, \"ticks\": \"\"}}, \"type\": \"scatter\"}], \"scatter3d\": [{\"line\": {\"colorbar\": {\"outlinewidth\": 0, \"ticks\": \"\"}}, \"marker\": {\"colorbar\": {\"outlinewidth\": 0, \"ticks\": \"\"}}, \"type\": \"scatter3d\"}], \"scattercarpet\": [{\"marker\": {\"colorbar\": {\"outlinewidth\": 0, \"ticks\": \"\"}}, \"type\": \"scattercarpet\"}], \"scattergeo\": [{\"marker\": {\"colorbar\": {\"outlinewidth\": 0, \"ticks\": \"\"}}, \"type\": \"scattergeo\"}], \"scattergl\": [{\"marker\": {\"colorbar\": {\"outlinewidth\": 0, \"ticks\": \"\"}}, \"type\": \"scattergl\"}], \"scattermapbox\": [{\"marker\": {\"colorbar\": {\"outlinewidth\": 0, \"ticks\": \"\"}}, \"type\": \"scattermapbox\"}], \"scatterpolar\": [{\"marker\": {\"colorbar\": {\"outlinewidth\": 0, \"ticks\": \"\"}}, \"type\": \"scatterpolar\"}], \"scatterpolargl\": [{\"marker\": {\"colorbar\": {\"outlinewidth\": 0, \"ticks\": \"\"}}, \"type\": \"scatterpolargl\"}], \"scatterternary\": [{\"marker\": {\"colorbar\": {\"outlinewidth\": 0, \"ticks\": \"\"}}, \"type\": \"scatterternary\"}], \"surface\": [{\"colorbar\": {\"outlinewidth\": 0, \"ticks\": \"\"}, \"colorscale\": [[0.0, \"#0d0887\"], [0.1111111111111111, \"#46039f\"], [0.2222222222222222, \"#7201a8\"], [0.3333333333333333, \"#9c179e\"], [0.4444444444444444, \"#bd3786\"], [0.5555555555555556, \"#d8576b\"], [0.6666666666666666, \"#ed7953\"], [0.7777777777777778, \"#fb9f3a\"], [0.8888888888888888, \"#fdca26\"], [1.0, \"#f0f921\"]], \"type\": \"surface\"}], \"table\": [{\"cells\": {\"fill\": {\"color\": \"#EBF0F8\"}, \"line\": {\"color\": \"white\"}}, \"header\": {\"fill\": {\"color\": \"#C8D4E3\"}, \"line\": {\"color\": \"white\"}}, \"type\": \"table\"}]}, \"layout\": {\"annotationdefaults\": {\"arrowcolor\": \"#2a3f5f\", \"arrowhead\": 0, \"arrowwidth\": 1}, \"coloraxis\": {\"colorbar\": {\"outlinewidth\": 0, \"ticks\": \"\"}}, \"colorscale\": {\"diverging\": [[0, \"#8e0152\"], [0.1, \"#c51b7d\"], [0.2, \"#de77ae\"], [0.3, \"#f1b6da\"], [0.4, \"#fde0ef\"], [0.5, \"#f7f7f7\"], [0.6, \"#e6f5d0\"], [0.7, \"#b8e186\"], [0.8, \"#7fbc41\"], [0.9, \"#4d9221\"], [1, \"#276419\"]], \"sequential\": [[0.0, \"#0d0887\"], [0.1111111111111111, \"#46039f\"], [0.2222222222222222, \"#7201a8\"], [0.3333333333333333, \"#9c179e\"], [0.4444444444444444, \"#bd3786\"], [0.5555555555555556, \"#d8576b\"], [0.6666666666666666, \"#ed7953\"], [0.7777777777777778, \"#fb9f3a\"], [0.8888888888888888, \"#fdca26\"], [1.0, \"#f0f921\"]], \"sequentialminus\": [[0.0, \"#0d0887\"], [0.1111111111111111, \"#46039f\"], [0.2222222222222222, \"#7201a8\"], [0.3333333333333333, \"#9c179e\"], [0.4444444444444444, \"#bd3786\"], [0.5555555555555556, \"#d8576b\"], [0.6666666666666666, \"#ed7953\"], [0.7777777777777778, \"#fb9f3a\"], [0.8888888888888888, \"#fdca26\"], [1.0, \"#f0f921\"]]}, \"colorway\": [\"#636efa\", \"#EF553B\", \"#00cc96\", \"#ab63fa\", \"#FFA15A\", \"#19d3f3\", \"#FF6692\", \"#B6E880\", \"#FF97FF\", \"#FECB52\"], \"font\": {\"color\": \"#2a3f5f\"}, \"geo\": {\"bgcolor\": \"white\", \"lakecolor\": \"white\", \"landcolor\": \"#E5ECF6\", \"showlakes\": true, \"showland\": true, \"subunitcolor\": \"white\"}, \"hoverlabel\": {\"align\": \"left\"}, \"hovermode\": \"closest\", \"mapbox\": {\"style\": \"light\"}, \"paper_bgcolor\": \"white\", \"plot_bgcolor\": \"#E5ECF6\", \"polar\": {\"angularaxis\": {\"gridcolor\": \"white\", \"linecolor\": \"white\", \"ticks\": \"\"}, \"bgcolor\": \"#E5ECF6\", \"radialaxis\": {\"gridcolor\": \"white\", \"linecolor\": \"white\", \"ticks\": \"\"}}, \"scene\": {\"xaxis\": {\"backgroundcolor\": \"#E5ECF6\", \"gridcolor\": \"white\", \"gridwidth\": 2, \"linecolor\": \"white\", \"showbackground\": true, \"ticks\": \"\", \"zerolinecolor\": \"white\"}, \"yaxis\": {\"backgroundcolor\": \"#E5ECF6\", \"gridcolor\": \"white\", \"gridwidth\": 2, \"linecolor\": \"white\", \"showbackground\": true, \"ticks\": \"\", \"zerolinecolor\": \"white\"}, \"zaxis\": {\"backgroundcolor\": \"#E5ECF6\", \"gridcolor\": \"white\", \"gridwidth\": 2, \"linecolor\": \"white\", \"showbackground\": true, \"ticks\": \"\", \"zerolinecolor\": \"white\"}}, \"shapedefaults\": {\"line\": {\"color\": \"#2a3f5f\"}}, \"ternary\": {\"aaxis\": {\"gridcolor\": \"white\", \"linecolor\": \"white\", \"ticks\": \"\"}, \"baxis\": {\"gridcolor\": \"white\", \"linecolor\": \"white\", \"ticks\": \"\"}, \"bgcolor\": \"#E5ECF6\", \"caxis\": {\"gridcolor\": \"white\", \"linecolor\": \"white\", \"ticks\": \"\"}}, \"title\": {\"x\": 0.05}, \"xaxis\": {\"automargin\": true, \"gridcolor\": \"white\", \"linecolor\": \"white\", \"ticks\": \"\", \"title\": {\"standoff\": 15}, \"zerolinecolor\": \"white\", \"zerolinewidth\": 2}, \"yaxis\": {\"automargin\": true, \"gridcolor\": \"white\", \"linecolor\": \"white\", \"ticks\": \"\", \"title\": {\"standoff\": 15}, \"zerolinecolor\": \"white\", \"zerolinewidth\": 2}}}, \"title\": {\"text\": \"Recovered\"}, \"xaxis\": {\"anchor\": \"y\", \"domain\": [0.0, 1.0], \"title\": {\"text\": \"Date\"}}, \"yaxis\": {\"anchor\": \"x\", \"domain\": [0.0, 1.0], \"title\": {\"text\": \"Recovered\"}}},\n",
       "                        {\"responsive\": true}\n",
       "                    ).then(function(){\n",
       "                            \n",
       "var gd = document.getElementById('c957927b-9080-4bd9-8b93-a6a21317ca1b');\n",
       "var x = new MutationObserver(function (mutations, observer) {{\n",
       "        var display = window.getComputedStyle(gd).display;\n",
       "        if (!display || display === 'none') {{\n",
       "            console.log([gd, 'removed!']);\n",
       "            Plotly.purge(gd);\n",
       "            observer.disconnect();\n",
       "        }}\n",
       "}});\n",
       "\n",
       "// Listen for the removal of the full notebook cells\n",
       "var notebookContainer = gd.closest('#notebook-container');\n",
       "if (notebookContainer) {{\n",
       "    x.observe(notebookContainer, {childList: true});\n",
       "}}\n",
       "\n",
       "// Listen for the clearing of the current output cell\n",
       "var outputEl = gd.closest('.output');\n",
       "if (outputEl) {{\n",
       "    x.observe(outputEl, {childList: true});\n",
       "}}\n",
       "\n",
       "                        })\n",
       "                };\n",
       "                });\n",
       "            </script>\n",
       "        </div>"
      ]
     },
     "metadata": {},
     "output_type": "display_data"
    }
   ],
   "source": [
    "fig = px.bar(bar_data1, x=\"Date\", y=\"Recovered\", color='Country', text = 'Recovered', orientation='v', height=600,\n",
    "             title='Recovered')\n",
    "fig.show()"
   ]
  },
  {
   "cell_type": "markdown",
   "metadata": {},
   "source": [
    "## From the figures you can say that after China, countries like Japan, Mexico, Singapore, Hong Kong, France etc are places with confirmed cases of the virus. The number of reported deaths doesnot provide any link between confirmed cases and death i.e. we cant infer that getting the diesease results into death. Thus, some other factors need to be analysed. As far as the recovered cases are concerned the number is small. \n",
    "\n",
    "## Also one major observation is that ther is a big difference between the effect of virus in China vs the rest of the world. \n",
    "\n",
    "## A good way to validate the data is to check it with reliable sources like WHO which is beyond the scope of this challenge.\n",
    "\n",
    "## Total Confirmed cases continue to increase but %Increase in confirmed cases over time has not shown any linear trend to date! So, the question I would like to address from the available data is will the Corona outbreak continue with time or is there an end to it? Basically relation between Corona and time!"
   ]
  },
  {
   "cell_type": "markdown",
   "metadata": {},
   "source": [
    "# NEXT: Building a model that can make sense out of the data and address our question."
   ]
  },
  {
   "cell_type": "code",
   "execution_count": 141,
   "metadata": {},
   "outputs": [
    {
     "data": {
      "text/html": [
       "<div>\n",
       "<style scoped>\n",
       "    .dataframe tbody tr th:only-of-type {\n",
       "        vertical-align: middle;\n",
       "    }\n",
       "\n",
       "    .dataframe tbody tr th {\n",
       "        vertical-align: top;\n",
       "    }\n",
       "\n",
       "    .dataframe thead th {\n",
       "        text-align: right;\n",
       "    }\n",
       "</style>\n",
       "<table border=\"1\" class=\"dataframe\">\n",
       "  <thead>\n",
       "    <tr style=\"text-align: right;\">\n",
       "      <th></th>\n",
       "      <th>Date</th>\n",
       "      <th>Sno</th>\n",
       "      <th>Confirmed</th>\n",
       "      <th>Deaths</th>\n",
       "      <th>Recovered</th>\n",
       "    </tr>\n",
       "  </thead>\n",
       "  <tbody>\n",
       "    <tr>\n",
       "      <td>0</td>\n",
       "      <td>01/22/2020 12:00:00</td>\n",
       "      <td>741</td>\n",
       "      <td>555.0</td>\n",
       "      <td>0.0</td>\n",
       "      <td>0.0</td>\n",
       "    </tr>\n",
       "    <tr>\n",
       "      <td>1</td>\n",
       "      <td>01/23/2020 12:00:00</td>\n",
       "      <td>2745</td>\n",
       "      <td>653.0</td>\n",
       "      <td>18.0</td>\n",
       "      <td>30.0</td>\n",
       "    </tr>\n",
       "    <tr>\n",
       "      <td>2</td>\n",
       "      <td>01/24/2020 12:00:00</td>\n",
       "      <td>4264</td>\n",
       "      <td>941.0</td>\n",
       "      <td>26.0</td>\n",
       "      <td>36.0</td>\n",
       "    </tr>\n",
       "    <tr>\n",
       "      <td>3</td>\n",
       "      <td>01/25/2020 22:00:00</td>\n",
       "      <td>6446</td>\n",
       "      <td>2019.0</td>\n",
       "      <td>56.0</td>\n",
       "      <td>49.0</td>\n",
       "    </tr>\n",
       "    <tr>\n",
       "      <td>4</td>\n",
       "      <td>01/26/2020 23:00:00</td>\n",
       "      <td>9024</td>\n",
       "      <td>2794.0</td>\n",
       "      <td>80.0</td>\n",
       "      <td>54.0</td>\n",
       "    </tr>\n",
       "    <tr>\n",
       "      <td>5</td>\n",
       "      <td>01/27/2020 20:30:00</td>\n",
       "      <td>12558</td>\n",
       "      <td>4473.0</td>\n",
       "      <td>107.0</td>\n",
       "      <td>63.0</td>\n",
       "    </tr>\n",
       "    <tr>\n",
       "      <td>6</td>\n",
       "      <td>01/28/2020 23:00:00</td>\n",
       "      <td>15262</td>\n",
       "      <td>6057.0</td>\n",
       "      <td>132.0</td>\n",
       "      <td>110.0</td>\n",
       "    </tr>\n",
       "    <tr>\n",
       "      <td>7</td>\n",
       "      <td>01/29/2020 21:00:00</td>\n",
       "      <td>19460</td>\n",
       "      <td>7783.0</td>\n",
       "      <td>170.0</td>\n",
       "      <td>133.0</td>\n",
       "    </tr>\n",
       "    <tr>\n",
       "      <td>8</td>\n",
       "      <td>01/30/2020 21:30:00</td>\n",
       "      <td>23895</td>\n",
       "      <td>9776.0</td>\n",
       "      <td>213.0</td>\n",
       "      <td>187.0</td>\n",
       "    </tr>\n",
       "    <tr>\n",
       "      <td>9</td>\n",
       "      <td>01/31/2020 19:00:00</td>\n",
       "      <td>29358</td>\n",
       "      <td>11374.0</td>\n",
       "      <td>259.0</td>\n",
       "      <td>252.0</td>\n",
       "    </tr>\n",
       "    <tr>\n",
       "      <td>10</td>\n",
       "      <td>02/01/2020 23:00:00</td>\n",
       "      <td>35577</td>\n",
       "      <td>14549.0</td>\n",
       "      <td>305.0</td>\n",
       "      <td>340.0</td>\n",
       "    </tr>\n",
       "    <tr>\n",
       "      <td>11</td>\n",
       "      <td>02/02/2020 21:00:00</td>\n",
       "      <td>40066</td>\n",
       "      <td>17295.0</td>\n",
       "      <td>362.0</td>\n",
       "      <td>487.0</td>\n",
       "    </tr>\n",
       "    <tr>\n",
       "      <td>12</td>\n",
       "      <td>02/03/2020 21:40:00</td>\n",
       "      <td>45954</td>\n",
       "      <td>20588.0</td>\n",
       "      <td>426.0</td>\n",
       "      <td>644.0</td>\n",
       "    </tr>\n",
       "    <tr>\n",
       "      <td>13</td>\n",
       "      <td>02/04/2020 22:00:00</td>\n",
       "      <td>51485</td>\n",
       "      <td>24503.0</td>\n",
       "      <td>492.0</td>\n",
       "      <td>899.0</td>\n",
       "    </tr>\n",
       "    <tr>\n",
       "      <td>14</td>\n",
       "      <td>02/05/2020 12:20:00</td>\n",
       "      <td>56385</td>\n",
       "      <td>24630.0</td>\n",
       "      <td>494.0</td>\n",
       "      <td>1029.0</td>\n",
       "    </tr>\n",
       "    <tr>\n",
       "      <td>15</td>\n",
       "      <td>02/06/2020 20:05:00</td>\n",
       "      <td>62196</td>\n",
       "      <td>30806.0</td>\n",
       "      <td>634.0</td>\n",
       "      <td>1487.0</td>\n",
       "    </tr>\n",
       "    <tr>\n",
       "      <td>16</td>\n",
       "      <td>02/07/2020 20:24:00</td>\n",
       "      <td>68220</td>\n",
       "      <td>31532.0</td>\n",
       "      <td>638.0</td>\n",
       "      <td>1763.0</td>\n",
       "    </tr>\n",
       "    <tr>\n",
       "      <td>17</td>\n",
       "      <td>02/08/2020 23:04:00</td>\n",
       "      <td>73404</td>\n",
       "      <td>37549.0</td>\n",
       "      <td>813.0</td>\n",
       "      <td>2701.0</td>\n",
       "    </tr>\n",
       "    <tr>\n",
       "      <td>18</td>\n",
       "      <td>02/09/2020 23:20:00</td>\n",
       "      <td>78588</td>\n",
       "      <td>40536.0</td>\n",
       "      <td>910.0</td>\n",
       "      <td>3312.0</td>\n",
       "    </tr>\n",
       "    <tr>\n",
       "      <td>19</td>\n",
       "      <td>02/10/2020 19:30:00</td>\n",
       "      <td>83772</td>\n",
       "      <td>42767.0</td>\n",
       "      <td>1013.0</td>\n",
       "      <td>3950.0</td>\n",
       "    </tr>\n",
       "    <tr>\n",
       "      <td>20</td>\n",
       "      <td>02/11/2020 20:44:00</td>\n",
       "      <td>90228</td>\n",
       "      <td>45117.0</td>\n",
       "      <td>1115.0</td>\n",
       "      <td>4781.0</td>\n",
       "    </tr>\n",
       "    <tr>\n",
       "      <td>21</td>\n",
       "      <td>02/12/2020 22:00:00</td>\n",
       "      <td>95557</td>\n",
       "      <td>60328.0</td>\n",
       "      <td>1368.0</td>\n",
       "      <td>5986.0</td>\n",
       "    </tr>\n",
       "    <tr>\n",
       "      <td>22</td>\n",
       "      <td>02/13/2020 21:15:00</td>\n",
       "      <td>102305</td>\n",
       "      <td>64422.0</td>\n",
       "      <td>1491.0</td>\n",
       "      <td>7064.0</td>\n",
       "    </tr>\n",
       "    <tr>\n",
       "      <td>23</td>\n",
       "      <td>02/14/2020 22:00:00</td>\n",
       "      <td>109275</td>\n",
       "      <td>66887.0</td>\n",
       "      <td>1523.0</td>\n",
       "      <td>8058.0</td>\n",
       "    </tr>\n",
       "    <tr>\n",
       "      <td>24</td>\n",
       "      <td>02/15/2020 22:00:00</td>\n",
       "      <td>114900</td>\n",
       "      <td>69032.0</td>\n",
       "      <td>1666.0</td>\n",
       "      <td>9395.0</td>\n",
       "    </tr>\n",
       "    <tr>\n",
       "      <td>25</td>\n",
       "      <td>02/16/2020 22:00:00</td>\n",
       "      <td>120525</td>\n",
       "      <td>71226.0</td>\n",
       "      <td>1770.0</td>\n",
       "      <td>10865.0</td>\n",
       "    </tr>\n",
       "    <tr>\n",
       "      <td>26</td>\n",
       "      <td>02/17/2020 22:00:00</td>\n",
       "      <td>126150</td>\n",
       "      <td>73260.0</td>\n",
       "      <td>1868.0</td>\n",
       "      <td>12583.0</td>\n",
       "    </tr>\n",
       "  </tbody>\n",
       "</table>\n",
       "</div>"
      ],
      "text/plain": [
       "                   Date     Sno  Confirmed  Deaths  Recovered\n",
       "0   01/22/2020 12:00:00     741      555.0     0.0        0.0\n",
       "1   01/23/2020 12:00:00    2745      653.0    18.0       30.0\n",
       "2   01/24/2020 12:00:00    4264      941.0    26.0       36.0\n",
       "3   01/25/2020 22:00:00    6446     2019.0    56.0       49.0\n",
       "4   01/26/2020 23:00:00    9024     2794.0    80.0       54.0\n",
       "5   01/27/2020 20:30:00   12558     4473.0   107.0       63.0\n",
       "6   01/28/2020 23:00:00   15262     6057.0   132.0      110.0\n",
       "7   01/29/2020 21:00:00   19460     7783.0   170.0      133.0\n",
       "8   01/30/2020 21:30:00   23895     9776.0   213.0      187.0\n",
       "9   01/31/2020 19:00:00   29358    11374.0   259.0      252.0\n",
       "10  02/01/2020 23:00:00   35577    14549.0   305.0      340.0\n",
       "11  02/02/2020 21:00:00   40066    17295.0   362.0      487.0\n",
       "12  02/03/2020 21:40:00   45954    20588.0   426.0      644.0\n",
       "13  02/04/2020 22:00:00   51485    24503.0   492.0      899.0\n",
       "14  02/05/2020 12:20:00   56385    24630.0   494.0     1029.0\n",
       "15  02/06/2020 20:05:00   62196    30806.0   634.0     1487.0\n",
       "16  02/07/2020 20:24:00   68220    31532.0   638.0     1763.0\n",
       "17  02/08/2020 23:04:00   73404    37549.0   813.0     2701.0\n",
       "18  02/09/2020 23:20:00   78588    40536.0   910.0     3312.0\n",
       "19  02/10/2020 19:30:00   83772    42767.0  1013.0     3950.0\n",
       "20  02/11/2020 20:44:00   90228    45117.0  1115.0     4781.0\n",
       "21  02/12/2020 22:00:00   95557    60328.0  1368.0     5986.0\n",
       "22  02/13/2020 21:15:00  102305    64422.0  1491.0     7064.0\n",
       "23  02/14/2020 22:00:00  109275    66887.0  1523.0     8058.0\n",
       "24  02/15/2020 22:00:00  114900    69032.0  1666.0     9395.0\n",
       "25  02/16/2020 22:00:00  120525    71226.0  1770.0    10865.0\n",
       "26  02/17/2020 22:00:00  126150    73260.0  1868.0    12583.0"
      ]
     },
     "execution_count": 141,
     "metadata": {},
     "output_type": "execute_result"
    }
   ],
   "source": [
    "#preparing data for a time-series analysis\n",
    "df_by_date=data2.groupby(['Date']).sum().reset_index(drop=None)\n",
    "df_by_date"
   ]
  },
  {
   "cell_type": "code",
   "execution_count": 142,
   "metadata": {},
   "outputs": [],
   "source": [
    "#For this analysis lets create a new dataset that contains counts of confirmed cases vs date\n",
    "df = pd.concat([df_by_date['Date'], df_by_date['Confirmed']], axis=1)"
   ]
  },
  {
   "cell_type": "code",
   "execution_count": 143,
   "metadata": {},
   "outputs": [
    {
     "data": {
      "text/html": [
       "<div>\n",
       "<style scoped>\n",
       "    .dataframe tbody tr th:only-of-type {\n",
       "        vertical-align: middle;\n",
       "    }\n",
       "\n",
       "    .dataframe tbody tr th {\n",
       "        vertical-align: top;\n",
       "    }\n",
       "\n",
       "    .dataframe thead th {\n",
       "        text-align: right;\n",
       "    }\n",
       "</style>\n",
       "<table border=\"1\" class=\"dataframe\">\n",
       "  <thead>\n",
       "    <tr style=\"text-align: right;\">\n",
       "      <th></th>\n",
       "      <th>Date</th>\n",
       "      <th>Confirmed</th>\n",
       "    </tr>\n",
       "  </thead>\n",
       "  <tbody>\n",
       "    <tr>\n",
       "      <td>0</td>\n",
       "      <td>01/22/2020 12:00:00</td>\n",
       "      <td>555.0</td>\n",
       "    </tr>\n",
       "    <tr>\n",
       "      <td>1</td>\n",
       "      <td>01/23/2020 12:00:00</td>\n",
       "      <td>653.0</td>\n",
       "    </tr>\n",
       "    <tr>\n",
       "      <td>2</td>\n",
       "      <td>01/24/2020 12:00:00</td>\n",
       "      <td>941.0</td>\n",
       "    </tr>\n",
       "    <tr>\n",
       "      <td>3</td>\n",
       "      <td>01/25/2020 22:00:00</td>\n",
       "      <td>2019.0</td>\n",
       "    </tr>\n",
       "    <tr>\n",
       "      <td>4</td>\n",
       "      <td>01/26/2020 23:00:00</td>\n",
       "      <td>2794.0</td>\n",
       "    </tr>\n",
       "    <tr>\n",
       "      <td>5</td>\n",
       "      <td>01/27/2020 20:30:00</td>\n",
       "      <td>4473.0</td>\n",
       "    </tr>\n",
       "    <tr>\n",
       "      <td>6</td>\n",
       "      <td>01/28/2020 23:00:00</td>\n",
       "      <td>6057.0</td>\n",
       "    </tr>\n",
       "    <tr>\n",
       "      <td>7</td>\n",
       "      <td>01/29/2020 21:00:00</td>\n",
       "      <td>7783.0</td>\n",
       "    </tr>\n",
       "    <tr>\n",
       "      <td>8</td>\n",
       "      <td>01/30/2020 21:30:00</td>\n",
       "      <td>9776.0</td>\n",
       "    </tr>\n",
       "    <tr>\n",
       "      <td>9</td>\n",
       "      <td>01/31/2020 19:00:00</td>\n",
       "      <td>11374.0</td>\n",
       "    </tr>\n",
       "    <tr>\n",
       "      <td>10</td>\n",
       "      <td>02/01/2020 23:00:00</td>\n",
       "      <td>14549.0</td>\n",
       "    </tr>\n",
       "    <tr>\n",
       "      <td>11</td>\n",
       "      <td>02/02/2020 21:00:00</td>\n",
       "      <td>17295.0</td>\n",
       "    </tr>\n",
       "    <tr>\n",
       "      <td>12</td>\n",
       "      <td>02/03/2020 21:40:00</td>\n",
       "      <td>20588.0</td>\n",
       "    </tr>\n",
       "    <tr>\n",
       "      <td>13</td>\n",
       "      <td>02/04/2020 22:00:00</td>\n",
       "      <td>24503.0</td>\n",
       "    </tr>\n",
       "    <tr>\n",
       "      <td>14</td>\n",
       "      <td>02/05/2020 12:20:00</td>\n",
       "      <td>24630.0</td>\n",
       "    </tr>\n",
       "    <tr>\n",
       "      <td>15</td>\n",
       "      <td>02/06/2020 20:05:00</td>\n",
       "      <td>30806.0</td>\n",
       "    </tr>\n",
       "    <tr>\n",
       "      <td>16</td>\n",
       "      <td>02/07/2020 20:24:00</td>\n",
       "      <td>31532.0</td>\n",
       "    </tr>\n",
       "    <tr>\n",
       "      <td>17</td>\n",
       "      <td>02/08/2020 23:04:00</td>\n",
       "      <td>37549.0</td>\n",
       "    </tr>\n",
       "    <tr>\n",
       "      <td>18</td>\n",
       "      <td>02/09/2020 23:20:00</td>\n",
       "      <td>40536.0</td>\n",
       "    </tr>\n",
       "    <tr>\n",
       "      <td>19</td>\n",
       "      <td>02/10/2020 19:30:00</td>\n",
       "      <td>42767.0</td>\n",
       "    </tr>\n",
       "    <tr>\n",
       "      <td>20</td>\n",
       "      <td>02/11/2020 20:44:00</td>\n",
       "      <td>45117.0</td>\n",
       "    </tr>\n",
       "    <tr>\n",
       "      <td>21</td>\n",
       "      <td>02/12/2020 22:00:00</td>\n",
       "      <td>60328.0</td>\n",
       "    </tr>\n",
       "    <tr>\n",
       "      <td>22</td>\n",
       "      <td>02/13/2020 21:15:00</td>\n",
       "      <td>64422.0</td>\n",
       "    </tr>\n",
       "    <tr>\n",
       "      <td>23</td>\n",
       "      <td>02/14/2020 22:00:00</td>\n",
       "      <td>66887.0</td>\n",
       "    </tr>\n",
       "    <tr>\n",
       "      <td>24</td>\n",
       "      <td>02/15/2020 22:00:00</td>\n",
       "      <td>69032.0</td>\n",
       "    </tr>\n",
       "    <tr>\n",
       "      <td>25</td>\n",
       "      <td>02/16/2020 22:00:00</td>\n",
       "      <td>71226.0</td>\n",
       "    </tr>\n",
       "    <tr>\n",
       "      <td>26</td>\n",
       "      <td>02/17/2020 22:00:00</td>\n",
       "      <td>73260.0</td>\n",
       "    </tr>\n",
       "  </tbody>\n",
       "</table>\n",
       "</div>"
      ],
      "text/plain": [
       "                   Date  Confirmed\n",
       "0   01/22/2020 12:00:00      555.0\n",
       "1   01/23/2020 12:00:00      653.0\n",
       "2   01/24/2020 12:00:00      941.0\n",
       "3   01/25/2020 22:00:00     2019.0\n",
       "4   01/26/2020 23:00:00     2794.0\n",
       "5   01/27/2020 20:30:00     4473.0\n",
       "6   01/28/2020 23:00:00     6057.0\n",
       "7   01/29/2020 21:00:00     7783.0\n",
       "8   01/30/2020 21:30:00     9776.0\n",
       "9   01/31/2020 19:00:00    11374.0\n",
       "10  02/01/2020 23:00:00    14549.0\n",
       "11  02/02/2020 21:00:00    17295.0\n",
       "12  02/03/2020 21:40:00    20588.0\n",
       "13  02/04/2020 22:00:00    24503.0\n",
       "14  02/05/2020 12:20:00    24630.0\n",
       "15  02/06/2020 20:05:00    30806.0\n",
       "16  02/07/2020 20:24:00    31532.0\n",
       "17  02/08/2020 23:04:00    37549.0\n",
       "18  02/09/2020 23:20:00    40536.0\n",
       "19  02/10/2020 19:30:00    42767.0\n",
       "20  02/11/2020 20:44:00    45117.0\n",
       "21  02/12/2020 22:00:00    60328.0\n",
       "22  02/13/2020 21:15:00    64422.0\n",
       "23  02/14/2020 22:00:00    66887.0\n",
       "24  02/15/2020 22:00:00    69032.0\n",
       "25  02/16/2020 22:00:00    71226.0\n",
       "26  02/17/2020 22:00:00    73260.0"
      ]
     },
     "execution_count": 143,
     "metadata": {},
     "output_type": "execute_result"
    }
   ],
   "source": [
    "df"
   ]
  },
  {
   "cell_type": "code",
   "execution_count": 144,
   "metadata": {},
   "outputs": [],
   "source": [
    "\n",
    "#Creating train and test set \n",
    "#Source code: https://www.analyticsvidhya.com/blog/2018/02/time-series-forecasting-methods/\n",
    "train=df[0:1400] \n",
    "test=df[1400:]\n",
    "\n",
    "#Aggregating the dataset at daily level\n",
    "df['Timestamp'] = pd.to_datetime(df[\"Date\"]) \n",
    "df.index = df['Timestamp']\n",
    "df = df.resample('D').mean()\n",
    "train['Timestamp'] = pd.to_datetime(train[\"Date\"]) \n",
    "train.index = train['Timestamp'] \n",
    "train = train.resample('D').mean() \n",
    "test['Timestamp'] = pd.to_datetime(test[\"Date\"]) \n",
    "test.index = test['Timestamp'] \n",
    "test = test.resample('D').mean()"
   ]
  },
  {
   "cell_type": "code",
   "execution_count": 152,
   "metadata": {},
   "outputs": [
    {
     "data": {
      "image/png": "[encoded data removed]",
      "text/plain": [
       "<Figure size 864x576 with 1 Axes>"
      ]
     },
     "metadata": {
      "needs_background": "light"
     },
     "output_type": "display_data"
    }
   ],
   "source": [
    "dd= np.asarray(train.Confirmed)\n",
    "y_hat = test.copy()\n",
    "y_hat['naive'] = dd[len(dd)-1]\n",
    "plt.figure(figsize=(12,8))\n",
    "plt.plot(train.index, train['Confirmed'], label='Train')\n",
    "plt.plot(test.index,test['Confirmed'], label='Test')\n",
    "plt.plot(y_hat.index,y_hat['naive'], label='Naive Forecast')\n",
    "plt.legend(loc='best')\n",
    "plt.title(\"Naive Forecast\")\n",
    "plt.show()"
   ]
  },
  {
   "cell_type": "code",
   "execution_count": 147,
   "metadata": {},
   "outputs": [
    {
     "data": {
      "image/png": "[encoded data removed]",
      "text/plain": [
       "<Figure size 1152x576 with 1 Axes>"
      ]
     },
     "metadata": {
      "needs_background": "light"
     },
     "output_type": "display_data"
    }
   ],
   "source": [
    "y_hat_avg = test.copy()\n",
    "y_hat_avg['moving_avg_forecast'] = train['Confirmed'].rolling(60).mean().iloc[-1]\n",
    "plt.figure(figsize=(16,8))\n",
    "plt.plot(train['Confirmed'], label='Train')\n",
    "plt.plot(test['Confirmed'], label='Test')\n",
    "plt.plot(y_hat_avg['moving_avg_forecast'], label='Moving Average Forecast')\n",
    "plt.legend(loc='best')\n",
    "plt.show()"
   ]
  },
  {
   "cell_type": "markdown",
   "metadata": {},
   "source": [
    "### Holt’s Linear Trend method maps the trend accurately without any assumptions."
   ]
  },
  {
   "cell_type": "code",
   "execution_count": 148,
   "metadata": {},
   "outputs": [
    {
     "name": "stdout",
     "output_type": "stream",
     "text": [
      "Requirement already satisfied: statsmodels in /anaconda3/envs/envTF113/lib/python3.6/site-packages (0.11.1)\n",
      "Requirement already satisfied: scipy>=1.0 in /anaconda3/envs/envTF113/lib/python3.6/site-packages (from statsmodels) (1.3.1)\n",
      "Requirement already satisfied: numpy>=1.14 in /anaconda3/envs/envTF113/lib/python3.6/site-packages (from statsmodels) (1.17.2)\n",
      "Requirement already satisfied: pandas>=0.21 in /anaconda3/envs/envTF113/lib/python3.6/site-packages (from statsmodels) (0.25.1)\n",
      "Requirement already satisfied: patsy>=0.5 in /anaconda3/envs/envTF113/lib/python3.6/site-packages (from statsmodels) (0.5.1)\n",
      "Requirement already satisfied: python-dateutil>=2.6.1 in /anaconda3/envs/envTF113/lib/python3.6/site-packages (from pandas>=0.21->statsmodels) (2.8.0)\n",
      "Requirement already satisfied: pytz>=2017.2 in /anaconda3/envs/envTF113/lib/python3.6/site-packages (from pandas>=0.21->statsmodels) (2019.2)\n",
      "Requirement already satisfied: six in /anaconda3/envs/envTF113/lib/python3.6/site-packages (from patsy>=0.5->statsmodels) (1.12.0)\n"
     ]
    }
   ],
   "source": [
    "!pip install statsmodels"
   ]
  },
  {
   "cell_type": "code",
   "execution_count": 149,
   "metadata": {},
   "outputs": [],
   "source": [
    "import statsmodels\n",
    "import statsmodels.api as sm\n",
    "from statsmodels.tsa.api import ExponentialSmoothing, SimpleExpSmoothing, Holt"
   ]
  },
  {
   "cell_type": "code",
   "execution_count": 150,
   "metadata": {},
   "outputs": [
    {
     "data": {
      "image/png": "[encoded data removed]",
      "text/plain": [
       "<Figure size 432x288 with 4 Axes>"
      ]
     },
     "metadata": {
      "needs_background": "light"
     },
     "output_type": "display_data"
    }
   ],
   "source": [
    "sm.tsa.seasonal_decompose(train.Confirmed).plot()\n",
    "result = sm.tsa.stattools.adfuller(train.Confirmed)\n",
    "# plt.figure(figsize=(15,10))\n",
    "plt.show()"
   ]
  },
  {
   "cell_type": "markdown",
   "metadata": {},
   "source": [
    "## The idea was to predict cases reported vs time but I think I made some mistake while feeding the data to the above statistical models and therefore it is not giving me proper test results. But was still able to get insights into trends! "
   ]
  },
  {
   "cell_type": "code",
   "execution_count": null,
   "metadata": {},
   "outputs": [],
   "source": []
  }
 ],
 "metadata": {
  "kernelspec": {
   "display_name": "Python 3",
   "language": "python",
   "name": "python3"
  },
  "language_info": {
   "codemirror_mode": {
    "name": "ipython",
    "version": 3
   },
   "file_extension": ".py",
   "mimetype": "text/x-python",
   "name": "python",
   "nbconvert_exporter": "python",
   "pygments_lexer": "ipython3",
   "version": "3.6.9"
  }
 },
 "nbformat": 4,
 "nbformat_minor": 2
}
